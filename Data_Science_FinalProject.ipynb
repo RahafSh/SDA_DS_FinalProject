{
  "nbformat": 4,
  "nbformat_minor": 0,
  "metadata": {
    "colab": {
      "name": "Data_Science_FinalProject.ipynb",
      "provenance": [],
      "collapsed_sections": [],
      "authorship_tag": "ABX9TyOk/Z/2AjoWo8Zmq412KwE4",
      "include_colab_link": true
    },
    "kernelspec": {
      "name": "python3",
      "display_name": "Python 3"
    },
    "widgets": {
      "application/vnd.jupyter.widget-state+json": {
        "74408601ec8848698551a36bfc26bffb": {
          "model_module": "@jupyter-widgets/controls",
          "model_name": "HBoxModel",
          "state": {
            "_view_name": "HBoxView",
            "_dom_classes": [],
            "_model_name": "HBoxModel",
            "_view_module": "@jupyter-widgets/controls",
            "_model_module_version": "1.5.0",
            "_view_count": null,
            "_view_module_version": "1.5.0",
            "box_style": "",
            "layout": "IPY_MODEL_4651820c1fc64ec6bf8fbfcafdcd1c95",
            "_model_module": "@jupyter-widgets/controls",
            "children": [
              "IPY_MODEL_7d0de93844d74f4a9e3a35cee41ac355",
              "IPY_MODEL_a2849f7b7e1a45b7b88fb47962c7e8a6"
            ]
          }
        },
        "4651820c1fc64ec6bf8fbfcafdcd1c95": {
          "model_module": "@jupyter-widgets/base",
          "model_name": "LayoutModel",
          "state": {
            "_view_name": "LayoutView",
            "grid_template_rows": null,
            "right": null,
            "justify_content": null,
            "_view_module": "@jupyter-widgets/base",
            "overflow": null,
            "_model_module_version": "1.2.0",
            "_view_count": null,
            "flex_flow": null,
            "width": null,
            "min_width": null,
            "border": null,
            "align_items": null,
            "bottom": null,
            "_model_module": "@jupyter-widgets/base",
            "top": null,
            "grid_column": null,
            "overflow_y": null,
            "overflow_x": null,
            "grid_auto_flow": null,
            "grid_area": null,
            "grid_template_columns": null,
            "flex": null,
            "_model_name": "LayoutModel",
            "justify_items": null,
            "grid_row": null,
            "max_height": null,
            "align_content": null,
            "visibility": null,
            "align_self": null,
            "height": null,
            "min_height": null,
            "padding": null,
            "grid_auto_rows": null,
            "grid_gap": null,
            "max_width": null,
            "order": null,
            "_view_module_version": "1.2.0",
            "grid_template_areas": null,
            "object_position": null,
            "object_fit": null,
            "grid_auto_columns": null,
            "margin": null,
            "display": null,
            "left": null
          }
        },
        "7d0de93844d74f4a9e3a35cee41ac355": {
          "model_module": "@jupyter-widgets/controls",
          "model_name": "FloatProgressModel",
          "state": {
            "_view_name": "ProgressView",
            "style": "IPY_MODEL_fc9b31dc4e584404a3f352264b911052",
            "_dom_classes": [],
            "description": "100%",
            "_model_name": "FloatProgressModel",
            "bar_style": "success",
            "max": 5,
            "_view_module": "@jupyter-widgets/controls",
            "_model_module_version": "1.5.0",
            "value": 5,
            "_view_count": null,
            "_view_module_version": "1.5.0",
            "orientation": "horizontal",
            "min": 0,
            "description_tooltip": null,
            "_model_module": "@jupyter-widgets/controls",
            "layout": "IPY_MODEL_63f08039875549cd8e34269614620727"
          }
        },
        "a2849f7b7e1a45b7b88fb47962c7e8a6": {
          "model_module": "@jupyter-widgets/controls",
          "model_name": "HTMLModel",
          "state": {
            "_view_name": "HTMLView",
            "style": "IPY_MODEL_e7d088ede2c54dc7acd56ad5984963b9",
            "_dom_classes": [],
            "description": "",
            "_model_name": "HTMLModel",
            "placeholder": "​",
            "_view_module": "@jupyter-widgets/controls",
            "_model_module_version": "1.5.0",
            "value": " 5/5 [00:20&lt;00:00,  4.14s/it]",
            "_view_count": null,
            "_view_module_version": "1.5.0",
            "description_tooltip": null,
            "_model_module": "@jupyter-widgets/controls",
            "layout": "IPY_MODEL_6628a090510d4cd6a5526c88ca338dcd"
          }
        },
        "fc9b31dc4e584404a3f352264b911052": {
          "model_module": "@jupyter-widgets/controls",
          "model_name": "ProgressStyleModel",
          "state": {
            "_view_name": "StyleView",
            "_model_name": "ProgressStyleModel",
            "description_width": "initial",
            "_view_module": "@jupyter-widgets/base",
            "_model_module_version": "1.5.0",
            "_view_count": null,
            "_view_module_version": "1.2.0",
            "bar_color": null,
            "_model_module": "@jupyter-widgets/controls"
          }
        },
        "63f08039875549cd8e34269614620727": {
          "model_module": "@jupyter-widgets/base",
          "model_name": "LayoutModel",
          "state": {
            "_view_name": "LayoutView",
            "grid_template_rows": null,
            "right": null,
            "justify_content": null,
            "_view_module": "@jupyter-widgets/base",
            "overflow": null,
            "_model_module_version": "1.2.0",
            "_view_count": null,
            "flex_flow": null,
            "width": null,
            "min_width": null,
            "border": null,
            "align_items": null,
            "bottom": null,
            "_model_module": "@jupyter-widgets/base",
            "top": null,
            "grid_column": null,
            "overflow_y": null,
            "overflow_x": null,
            "grid_auto_flow": null,
            "grid_area": null,
            "grid_template_columns": null,
            "flex": null,
            "_model_name": "LayoutModel",
            "justify_items": null,
            "grid_row": null,
            "max_height": null,
            "align_content": null,
            "visibility": null,
            "align_self": null,
            "height": null,
            "min_height": null,
            "padding": null,
            "grid_auto_rows": null,
            "grid_gap": null,
            "max_width": null,
            "order": null,
            "_view_module_version": "1.2.0",
            "grid_template_areas": null,
            "object_position": null,
            "object_fit": null,
            "grid_auto_columns": null,
            "margin": null,
            "display": null,
            "left": null
          }
        },
        "e7d088ede2c54dc7acd56ad5984963b9": {
          "model_module": "@jupyter-widgets/controls",
          "model_name": "DescriptionStyleModel",
          "state": {
            "_view_name": "StyleView",
            "_model_name": "DescriptionStyleModel",
            "description_width": "",
            "_view_module": "@jupyter-widgets/base",
            "_model_module_version": "1.5.0",
            "_view_count": null,
            "_view_module_version": "1.2.0",
            "_model_module": "@jupyter-widgets/controls"
          }
        },
        "6628a090510d4cd6a5526c88ca338dcd": {
          "model_module": "@jupyter-widgets/base",
          "model_name": "LayoutModel",
          "state": {
            "_view_name": "LayoutView",
            "grid_template_rows": null,
            "right": null,
            "justify_content": null,
            "_view_module": "@jupyter-widgets/base",
            "overflow": null,
            "_model_module_version": "1.2.0",
            "_view_count": null,
            "flex_flow": null,
            "width": null,
            "min_width": null,
            "border": null,
            "align_items": null,
            "bottom": null,
            "_model_module": "@jupyter-widgets/base",
            "top": null,
            "grid_column": null,
            "overflow_y": null,
            "overflow_x": null,
            "grid_auto_flow": null,
            "grid_area": null,
            "grid_template_columns": null,
            "flex": null,
            "_model_name": "LayoutModel",
            "justify_items": null,
            "grid_row": null,
            "max_height": null,
            "align_content": null,
            "visibility": null,
            "align_self": null,
            "height": null,
            "min_height": null,
            "padding": null,
            "grid_auto_rows": null,
            "grid_gap": null,
            "max_width": null,
            "order": null,
            "_view_module_version": "1.2.0",
            "grid_template_areas": null,
            "object_position": null,
            "object_fit": null,
            "grid_auto_columns": null,
            "margin": null,
            "display": null,
            "left": null
          }
        },
        "4f3fa7e841cc435989b1ce15de507d57": {
          "model_module": "@jupyter-widgets/controls",
          "model_name": "HBoxModel",
          "state": {
            "_view_name": "HBoxView",
            "_dom_classes": [],
            "_model_name": "HBoxModel",
            "_view_module": "@jupyter-widgets/controls",
            "_model_module_version": "1.5.0",
            "_view_count": null,
            "_view_module_version": "1.5.0",
            "box_style": "",
            "layout": "IPY_MODEL_2ed8ed5f24c04a66bf19bc432a38b088",
            "_model_module": "@jupyter-widgets/controls",
            "children": [
              "IPY_MODEL_da1fc48b972d4318bf52bc681201005e",
              "IPY_MODEL_8e4be59773dd49cab9d97814b743cc93"
            ]
          }
        },
        "2ed8ed5f24c04a66bf19bc432a38b088": {
          "model_module": "@jupyter-widgets/base",
          "model_name": "LayoutModel",
          "state": {
            "_view_name": "LayoutView",
            "grid_template_rows": null,
            "right": null,
            "justify_content": null,
            "_view_module": "@jupyter-widgets/base",
            "overflow": null,
            "_model_module_version": "1.2.0",
            "_view_count": null,
            "flex_flow": null,
            "width": null,
            "min_width": null,
            "border": null,
            "align_items": null,
            "bottom": null,
            "_model_module": "@jupyter-widgets/base",
            "top": null,
            "grid_column": null,
            "overflow_y": null,
            "overflow_x": null,
            "grid_auto_flow": null,
            "grid_area": null,
            "grid_template_columns": null,
            "flex": null,
            "_model_name": "LayoutModel",
            "justify_items": null,
            "grid_row": null,
            "max_height": null,
            "align_content": null,
            "visibility": null,
            "align_self": null,
            "height": null,
            "min_height": null,
            "padding": null,
            "grid_auto_rows": null,
            "grid_gap": null,
            "max_width": null,
            "order": null,
            "_view_module_version": "1.2.0",
            "grid_template_areas": null,
            "object_position": null,
            "object_fit": null,
            "grid_auto_columns": null,
            "margin": null,
            "display": null,
            "left": null
          }
        },
        "da1fc48b972d4318bf52bc681201005e": {
          "model_module": "@jupyter-widgets/controls",
          "model_name": "FloatProgressModel",
          "state": {
            "_view_name": "ProgressView",
            "style": "IPY_MODEL_80e985f23b5f4aec8f897d2880542f8d",
            "_dom_classes": [],
            "description": "100%",
            "_model_name": "FloatProgressModel",
            "bar_style": "success",
            "max": 1,
            "_view_module": "@jupyter-widgets/controls",
            "_model_module_version": "1.5.0",
            "value": 1,
            "_view_count": null,
            "_view_module_version": "1.5.0",
            "orientation": "horizontal",
            "min": 0,
            "description_tooltip": null,
            "_model_module": "@jupyter-widgets/controls",
            "layout": "IPY_MODEL_17432dbc964c453faadcaeee4f3c0175"
          }
        },
        "8e4be59773dd49cab9d97814b743cc93": {
          "model_module": "@jupyter-widgets/controls",
          "model_name": "HTMLModel",
          "state": {
            "_view_name": "HTMLView",
            "style": "IPY_MODEL_2e1369a366914170a6f552c8d889169b",
            "_dom_classes": [],
            "description": "",
            "_model_name": "HTMLModel",
            "placeholder": "​",
            "_view_module": "@jupyter-widgets/controls",
            "_model_module_version": "1.5.0",
            "value": " 1/1 [00:05&lt;00:00,  5.62s/it]",
            "_view_count": null,
            "_view_module_version": "1.5.0",
            "description_tooltip": null,
            "_model_module": "@jupyter-widgets/controls",
            "layout": "IPY_MODEL_a93fa87df3344e77a5db1115c7ce7222"
          }
        },
        "80e985f23b5f4aec8f897d2880542f8d": {
          "model_module": "@jupyter-widgets/controls",
          "model_name": "ProgressStyleModel",
          "state": {
            "_view_name": "StyleView",
            "_model_name": "ProgressStyleModel",
            "description_width": "initial",
            "_view_module": "@jupyter-widgets/base",
            "_model_module_version": "1.5.0",
            "_view_count": null,
            "_view_module_version": "1.2.0",
            "bar_color": null,
            "_model_module": "@jupyter-widgets/controls"
          }
        },
        "17432dbc964c453faadcaeee4f3c0175": {
          "model_module": "@jupyter-widgets/base",
          "model_name": "LayoutModel",
          "state": {
            "_view_name": "LayoutView",
            "grid_template_rows": null,
            "right": null,
            "justify_content": null,
            "_view_module": "@jupyter-widgets/base",
            "overflow": null,
            "_model_module_version": "1.2.0",
            "_view_count": null,
            "flex_flow": null,
            "width": null,
            "min_width": null,
            "border": null,
            "align_items": null,
            "bottom": null,
            "_model_module": "@jupyter-widgets/base",
            "top": null,
            "grid_column": null,
            "overflow_y": null,
            "overflow_x": null,
            "grid_auto_flow": null,
            "grid_area": null,
            "grid_template_columns": null,
            "flex": null,
            "_model_name": "LayoutModel",
            "justify_items": null,
            "grid_row": null,
            "max_height": null,
            "align_content": null,
            "visibility": null,
            "align_self": null,
            "height": null,
            "min_height": null,
            "padding": null,
            "grid_auto_rows": null,
            "grid_gap": null,
            "max_width": null,
            "order": null,
            "_view_module_version": "1.2.0",
            "grid_template_areas": null,
            "object_position": null,
            "object_fit": null,
            "grid_auto_columns": null,
            "margin": null,
            "display": null,
            "left": null
          }
        },
        "2e1369a366914170a6f552c8d889169b": {
          "model_module": "@jupyter-widgets/controls",
          "model_name": "DescriptionStyleModel",
          "state": {
            "_view_name": "StyleView",
            "_model_name": "DescriptionStyleModel",
            "description_width": "",
            "_view_module": "@jupyter-widgets/base",
            "_model_module_version": "1.5.0",
            "_view_count": null,
            "_view_module_version": "1.2.0",
            "_model_module": "@jupyter-widgets/controls"
          }
        },
        "a93fa87df3344e77a5db1115c7ce7222": {
          "model_module": "@jupyter-widgets/base",
          "model_name": "LayoutModel",
          "state": {
            "_view_name": "LayoutView",
            "grid_template_rows": null,
            "right": null,
            "justify_content": null,
            "_view_module": "@jupyter-widgets/base",
            "overflow": null,
            "_model_module_version": "1.2.0",
            "_view_count": null,
            "flex_flow": null,
            "width": null,
            "min_width": null,
            "border": null,
            "align_items": null,
            "bottom": null,
            "_model_module": "@jupyter-widgets/base",
            "top": null,
            "grid_column": null,
            "overflow_y": null,
            "overflow_x": null,
            "grid_auto_flow": null,
            "grid_area": null,
            "grid_template_columns": null,
            "flex": null,
            "_model_name": "LayoutModel",
            "justify_items": null,
            "grid_row": null,
            "max_height": null,
            "align_content": null,
            "visibility": null,
            "align_self": null,
            "height": null,
            "min_height": null,
            "padding": null,
            "grid_auto_rows": null,
            "grid_gap": null,
            "max_width": null,
            "order": null,
            "_view_module_version": "1.2.0",
            "grid_template_areas": null,
            "object_position": null,
            "object_fit": null,
            "grid_auto_columns": null,
            "margin": null,
            "display": null,
            "left": null
          }
        }
      }
    }
  },
  "cells": [
    {
      "cell_type": "markdown",
      "metadata": {
        "id": "view-in-github",
        "colab_type": "text"
      },
      "source": [
        "<a href=\"https://colab.research.google.com/github/RahafSh/SDA_DS_FinalProject/blob/main/Data_Science_FinalProject.ipynb\" target=\"_parent\"><img src=\"https://colab.research.google.com/assets/colab-badge.svg\" alt=\"Open In Colab\"/></a>"
      ]
    },
    {
      "cell_type": "markdown",
      "metadata": {
        "id": "XtNJpkf1UtIo"
      },
      "source": [
        "# **Data Science Bootcamp** `Final Project` \n",
        "\n",
        "\n",
        "##Learning Objectives:\n",
        "\n",
        " \n",
        "* Formulate  the problem\n",
        "* Load the Data\n",
        "* Data Exploration\n",
        "* Clean The Data\n",
        "* Looking for Correlations\n",
        "* Discover and Visualize the Data \n",
        "* Prepare the Data for Prophet Model\n",
        "* Save the Prophet model and Download it \n",
        "\n",
        "\n"
      ]
    },
    {
      "cell_type": "markdown",
      "metadata": {
        "id": "3hNFkjmUVLv0"
      },
      "source": [
        "#Formulate  the problem"
      ]
    },
    {
      "cell_type": "markdown",
      "metadata": {
        "id": "VBvJZbSwt2-F"
      },
      "source": [
        "The Kingdom of Saudi Arabia has dealt excellently with the Covid-19 situation. So, here we want to explore and extract hidden knowledge to predict the future.\n",
        "\n",
        "**Loading the dataset from Kaggle website**  \n",
        "[Click here](https://www.kaggle.com/fahdahalalyan/covid19-ksa?select=critical_cases_ksa_covid19.csv)"
      ]
    },
    {
      "cell_type": "code",
      "metadata": {
        "id": "_2awGlG_UhRl"
      },
      "source": [
        "#Import libraries & packages \n",
        "import numpy as np \n",
        "import pandas as pd \n",
        "import os\n",
        "import matplotlib.pyplot as plt\n",
        "import seaborn as sns\n",
        "from fbprophet import Prophet\n",
        "from fbprophet.plot import plot_plotly, plot_components_plotly\n",
        "from fbprophet.plot import add_changepoints_to_plot\n",
        "from fbprophet.diagnostics import cross_validation\n",
        "from fbprophet.plot import plot_cross_validation_metric\n",
        "\n",
        "import warnings\n",
        "warnings.filterwarnings('ignore')\n",
        "\n",
        "%matplotlib inline\n",
        " \n",
        "plt.rcParams['figure.figsize']=(15,5)\n",
        "plt.style.use('ggplot')"
      ],
      "execution_count": 1,
      "outputs": []
    },
    {
      "cell_type": "markdown",
      "metadata": {
        "id": "rDw8wI-WVQLK"
      },
      "source": [
        "#Load Data"
      ]
    },
    {
      "cell_type": "code",
      "metadata": {
        "id": "ANCCWuZoWIu9"
      },
      "source": [
        "#Load the dataset\n",
        "file_path = '/content/daily_cases_ksa_covid19.csv'"
      ],
      "execution_count": 2,
      "outputs": []
    },
    {
      "cell_type": "code",
      "metadata": {
        "id": "r7yRSdRLWS-K",
        "colab": {
          "base_uri": "https://localhost:8080/",
          "height": 949
        },
        "outputId": "034060d7-ebf0-4e03-c4b4-dcaa785c4c5b"
      },
      "source": [
        "#Use the Pandas method read_csv() to load the data from the web address.\n",
        "df = pd.read_csv(file_path)\n",
        "df"
      ],
      "execution_count": 3,
      "outputs": [
        {
          "output_type": "execute_result",
          "data": {
            "text/html": [
              "<div>\n",
              "<style scoped>\n",
              "    .dataframe tbody tr th:only-of-type {\n",
              "        vertical-align: middle;\n",
              "    }\n",
              "\n",
              "    .dataframe tbody tr th {\n",
              "        vertical-align: top;\n",
              "    }\n",
              "\n",
              "    .dataframe thead th {\n",
              "        text-align: right;\n",
              "    }\n",
              "</style>\n",
              "<table border=\"1\" class=\"dataframe\">\n",
              "  <thead>\n",
              "    <tr style=\"text-align: right;\">\n",
              "      <th></th>\n",
              "      <th>ObjectId</th>\n",
              "      <th>PlaceName_EN</th>\n",
              "      <th>GovernorateName_EN</th>\n",
              "      <th>RegionName_EN</th>\n",
              "      <th>PLC_CODE</th>\n",
              "      <th>REG_CODE</th>\n",
              "      <th>GOV_CODE</th>\n",
              "      <th>Place_Category</th>\n",
              "      <th>DataSource</th>\n",
              "      <th>GlobalID</th>\n",
              "      <th>Reportdt</th>\n",
              "      <th>Name_Eng</th>\n",
              "      <th>Place_Code</th>\n",
              "      <th>Confirmed</th>\n",
              "      <th>Deaths</th>\n",
              "      <th>Recovered</th>\n",
              "      <th>Tested</th>\n",
              "      <th>NewAdded</th>\n",
              "      <th>GlobalID_1587594607483</th>\n",
              "      <th>Date</th>\n",
              "    </tr>\n",
              "  </thead>\n",
              "  <tbody>\n",
              "    <tr>\n",
              "      <th>0</th>\n",
              "      <td>1</td>\n",
              "      <td>Al Sho'bah</td>\n",
              "      <td>Rafha</td>\n",
              "      <td>Northern Borders</td>\n",
              "      <td>C4G90R09</td>\n",
              "      <td>R09</td>\n",
              "      <td>G90R09</td>\n",
              "      <td>City</td>\n",
              "      <td>GCS</td>\n",
              "      <td>0af06ce2-c55b-4a25-ad66-dc280b06f70b</td>\n",
              "      <td>1589619600000</td>\n",
              "      <td>Al Sho'bah</td>\n",
              "      <td>C4G90R09</td>\n",
              "      <td>1</td>\n",
              "      <td>0</td>\n",
              "      <td>0</td>\n",
              "      <td>1</td>\n",
              "      <td>0</td>\n",
              "      <td>b8aca67d-4e8a-4242-ba61-c0612fb3b78b</td>\n",
              "      <td>2020-05-16 09:00:00</td>\n",
              "    </tr>\n",
              "    <tr>\n",
              "      <th>1</th>\n",
              "      <td>2</td>\n",
              "      <td>Al Sho'bah</td>\n",
              "      <td>Rafha</td>\n",
              "      <td>Northern Borders</td>\n",
              "      <td>C4G90R09</td>\n",
              "      <td>R09</td>\n",
              "      <td>G90R09</td>\n",
              "      <td>City</td>\n",
              "      <td>GCS</td>\n",
              "      <td>0af06ce2-c55b-4a25-ad66-dc280b06f70b</td>\n",
              "      <td>1590656400000</td>\n",
              "      <td>Al Sho'bah</td>\n",
              "      <td>C4G90R09</td>\n",
              "      <td>0</td>\n",
              "      <td>0</td>\n",
              "      <td>1</td>\n",
              "      <td>-1</td>\n",
              "      <td>0</td>\n",
              "      <td>0aecc440-862f-4bd6-9100-db15f18ed360</td>\n",
              "      <td>2020-05-28 09:00:00</td>\n",
              "    </tr>\n",
              "    <tr>\n",
              "      <th>2</th>\n",
              "      <td>3</td>\n",
              "      <td>Al Sho'bah</td>\n",
              "      <td>Rafha</td>\n",
              "      <td>Northern Borders</td>\n",
              "      <td>C4G90R09</td>\n",
              "      <td>R09</td>\n",
              "      <td>G90R09</td>\n",
              "      <td>City</td>\n",
              "      <td>GCS</td>\n",
              "      <td>0af06ce2-c55b-4a25-ad66-dc280b06f70b</td>\n",
              "      <td>1591261200000</td>\n",
              "      <td>Al Sho'bah</td>\n",
              "      <td>C4G90R09</td>\n",
              "      <td>1</td>\n",
              "      <td>0</td>\n",
              "      <td>0</td>\n",
              "      <td>1</td>\n",
              "      <td>0</td>\n",
              "      <td>e41e638b-6c66-4583-919b-1735b7247ba9</td>\n",
              "      <td>2020-06-04 09:00:00</td>\n",
              "    </tr>\n",
              "    <tr>\n",
              "      <th>3</th>\n",
              "      <td>4</td>\n",
              "      <td>Al Sho'bah</td>\n",
              "      <td>Rafha</td>\n",
              "      <td>Northern Borders</td>\n",
              "      <td>C4G90R09</td>\n",
              "      <td>R09</td>\n",
              "      <td>G90R09</td>\n",
              "      <td>City</td>\n",
              "      <td>GCS</td>\n",
              "      <td>0af06ce2-c55b-4a25-ad66-dc280b06f70b</td>\n",
              "      <td>1591520400000</td>\n",
              "      <td>Al Sho'bah</td>\n",
              "      <td>C4G90R09</td>\n",
              "      <td>1</td>\n",
              "      <td>0</td>\n",
              "      <td>0</td>\n",
              "      <td>1</td>\n",
              "      <td>0</td>\n",
              "      <td>d8016503-2900-4bab-bbb2-1866f86669fa</td>\n",
              "      <td>2020-06-07 09:00:00</td>\n",
              "    </tr>\n",
              "    <tr>\n",
              "      <th>4</th>\n",
              "      <td>5</td>\n",
              "      <td>Al Sho'bah</td>\n",
              "      <td>Rafha</td>\n",
              "      <td>Northern Borders</td>\n",
              "      <td>C4G90R09</td>\n",
              "      <td>R09</td>\n",
              "      <td>G90R09</td>\n",
              "      <td>City</td>\n",
              "      <td>GCS</td>\n",
              "      <td>0af06ce2-c55b-4a25-ad66-dc280b06f70b</td>\n",
              "      <td>1592211600000</td>\n",
              "      <td>Al Sho'bah</td>\n",
              "      <td>C4G90R09</td>\n",
              "      <td>1</td>\n",
              "      <td>0</td>\n",
              "      <td>1</td>\n",
              "      <td>0</td>\n",
              "      <td>0</td>\n",
              "      <td>132c1b56-8502-4d31-afc0-66c825c7a97f</td>\n",
              "      <td>2020-06-15 09:00:00</td>\n",
              "    </tr>\n",
              "    <tr>\n",
              "      <th>...</th>\n",
              "      <td>...</td>\n",
              "      <td>...</td>\n",
              "      <td>...</td>\n",
              "      <td>...</td>\n",
              "      <td>...</td>\n",
              "      <td>...</td>\n",
              "      <td>...</td>\n",
              "      <td>...</td>\n",
              "      <td>...</td>\n",
              "      <td>...</td>\n",
              "      <td>...</td>\n",
              "      <td>...</td>\n",
              "      <td>...</td>\n",
              "      <td>...</td>\n",
              "      <td>...</td>\n",
              "      <td>...</td>\n",
              "      <td>...</td>\n",
              "      <td>...</td>\n",
              "      <td>...</td>\n",
              "      <td>...</td>\n",
              "    </tr>\n",
              "    <tr>\n",
              "      <th>29922</th>\n",
              "      <td>29923</td>\n",
              "      <td>Al Bashayer</td>\n",
              "      <td>Balqarn</td>\n",
              "      <td>Aseer</td>\n",
              "      <td>C10798G61R06</td>\n",
              "      <td>R06</td>\n",
              "      <td>G61R06</td>\n",
              "      <td>City</td>\n",
              "      <td>Other</td>\n",
              "      <td>c1cf02cc-fa3b-4bd5-b064-65a47cca1b0c</td>\n",
              "      <td>1610627777460</td>\n",
              "      <td>Al Bashayer</td>\n",
              "      <td>C10798G61R06</td>\n",
              "      <td>0</td>\n",
              "      <td>0</td>\n",
              "      <td>1</td>\n",
              "      <td>-1</td>\n",
              "      <td>0</td>\n",
              "      <td>55444fa3-751c-4a7b-a906-c279cd577934</td>\n",
              "      <td>2021-01-14 12:36:17</td>\n",
              "    </tr>\n",
              "    <tr>\n",
              "      <th>29923</th>\n",
              "      <td>29924</td>\n",
              "      <td>Al Bashayer</td>\n",
              "      <td>Balqarn</td>\n",
              "      <td>Aseer</td>\n",
              "      <td>C10798G61R06</td>\n",
              "      <td>R06</td>\n",
              "      <td>G61R06</td>\n",
              "      <td>City</td>\n",
              "      <td>Other</td>\n",
              "      <td>c1cf02cc-fa3b-4bd5-b064-65a47cca1b0c</td>\n",
              "      <td>1610714193996</td>\n",
              "      <td>Al Bashayer</td>\n",
              "      <td>C10798G61R06</td>\n",
              "      <td>0</td>\n",
              "      <td>0</td>\n",
              "      <td>1</td>\n",
              "      <td>-1</td>\n",
              "      <td>0</td>\n",
              "      <td>218ce8b6-49d8-403a-b74b-172d2cf37ad7</td>\n",
              "      <td>2021-01-15 12:36:33</td>\n",
              "    </tr>\n",
              "    <tr>\n",
              "      <th>29924</th>\n",
              "      <td>29925</td>\n",
              "      <td>Al Bashayer</td>\n",
              "      <td>Balqarn</td>\n",
              "      <td>Aseer</td>\n",
              "      <td>C10798G61R06</td>\n",
              "      <td>R06</td>\n",
              "      <td>G61R06</td>\n",
              "      <td>City</td>\n",
              "      <td>Other</td>\n",
              "      <td>c1cf02cc-fa3b-4bd5-b064-65a47cca1b0c</td>\n",
              "      <td>1610800665122</td>\n",
              "      <td>Al Bashayer</td>\n",
              "      <td>C10798G61R06</td>\n",
              "      <td>0</td>\n",
              "      <td>0</td>\n",
              "      <td>1</td>\n",
              "      <td>-1</td>\n",
              "      <td>0</td>\n",
              "      <td>5219a63f-f976-444a-ba2c-7a118fd37c0d</td>\n",
              "      <td>2021-01-16 12:37:45</td>\n",
              "    </tr>\n",
              "    <tr>\n",
              "      <th>29925</th>\n",
              "      <td>29926</td>\n",
              "      <td>Al Bashayer</td>\n",
              "      <td>Balqarn</td>\n",
              "      <td>Aseer</td>\n",
              "      <td>C10798G61R06</td>\n",
              "      <td>R06</td>\n",
              "      <td>G61R06</td>\n",
              "      <td>City</td>\n",
              "      <td>Other</td>\n",
              "      <td>c1cf02cc-fa3b-4bd5-b064-65a47cca1b0c</td>\n",
              "      <td>1611578520156</td>\n",
              "      <td>Al Bashayer</td>\n",
              "      <td>C10798G61R06</td>\n",
              "      <td>1</td>\n",
              "      <td>0</td>\n",
              "      <td>0</td>\n",
              "      <td>1</td>\n",
              "      <td>0</td>\n",
              "      <td>6adba119-72ae-4c26-bde6-58d726d4d10c</td>\n",
              "      <td>2021-01-25 12:42:00</td>\n",
              "    </tr>\n",
              "    <tr>\n",
              "      <th>29926</th>\n",
              "      <td>29927</td>\n",
              "      <td>Al Bashayer</td>\n",
              "      <td>Balqarn</td>\n",
              "      <td>Aseer</td>\n",
              "      <td>C10798G61R06</td>\n",
              "      <td>R06</td>\n",
              "      <td>G61R06</td>\n",
              "      <td>City</td>\n",
              "      <td>Other</td>\n",
              "      <td>c1cf02cc-fa3b-4bd5-b064-65a47cca1b0c</td>\n",
              "      <td>1611751424643</td>\n",
              "      <td>Al Bashayer</td>\n",
              "      <td>C10798G61R06</td>\n",
              "      <td>1</td>\n",
              "      <td>0</td>\n",
              "      <td>0</td>\n",
              "      <td>1</td>\n",
              "      <td>0</td>\n",
              "      <td>8458873f-d0a8-4e58-8a64-e28409094d6a</td>\n",
              "      <td>2021-01-27 12:43:44</td>\n",
              "    </tr>\n",
              "  </tbody>\n",
              "</table>\n",
              "<p>29927 rows × 20 columns</p>\n",
              "</div>"
            ],
            "text/plain": [
              "       ObjectId  ...                 Date\n",
              "0             1  ...  2020-05-16 09:00:00\n",
              "1             2  ...  2020-05-28 09:00:00\n",
              "2             3  ...  2020-06-04 09:00:00\n",
              "3             4  ...  2020-06-07 09:00:00\n",
              "4             5  ...  2020-06-15 09:00:00\n",
              "...         ...  ...                  ...\n",
              "29922     29923  ...  2021-01-14 12:36:17\n",
              "29923     29924  ...  2021-01-15 12:36:33\n",
              "29924     29925  ...  2021-01-16 12:37:45\n",
              "29925     29926  ...  2021-01-25 12:42:00\n",
              "29926     29927  ...  2021-01-27 12:43:44\n",
              "\n",
              "[29927 rows x 20 columns]"
            ]
          },
          "metadata": {
            "tags": []
          },
          "execution_count": 3
        }
      ]
    },
    {
      "cell_type": "markdown",
      "metadata": {
        "id": "4vRy87glVUO3"
      },
      "source": [
        "#Data Exploration"
      ]
    },
    {
      "cell_type": "code",
      "metadata": {
        "id": "tEeV4QowWbq7",
        "colab": {
          "base_uri": "https://localhost:8080/",
          "height": 233
        },
        "outputId": "b24db10d-1a2f-41ec-fcb0-86dc292f7515"
      },
      "source": [
        "#Use the method head() to display the first five rows of the dataframe, but we can spcify a number also like here I choose 2!\n",
        "df.head(2)"
      ],
      "execution_count": 4,
      "outputs": [
        {
          "output_type": "execute_result",
          "data": {
            "text/html": [
              "<div>\n",
              "<style scoped>\n",
              "    .dataframe tbody tr th:only-of-type {\n",
              "        vertical-align: middle;\n",
              "    }\n",
              "\n",
              "    .dataframe tbody tr th {\n",
              "        vertical-align: top;\n",
              "    }\n",
              "\n",
              "    .dataframe thead th {\n",
              "        text-align: right;\n",
              "    }\n",
              "</style>\n",
              "<table border=\"1\" class=\"dataframe\">\n",
              "  <thead>\n",
              "    <tr style=\"text-align: right;\">\n",
              "      <th></th>\n",
              "      <th>ObjectId</th>\n",
              "      <th>PlaceName_EN</th>\n",
              "      <th>GovernorateName_EN</th>\n",
              "      <th>RegionName_EN</th>\n",
              "      <th>PLC_CODE</th>\n",
              "      <th>REG_CODE</th>\n",
              "      <th>GOV_CODE</th>\n",
              "      <th>Place_Category</th>\n",
              "      <th>DataSource</th>\n",
              "      <th>GlobalID</th>\n",
              "      <th>Reportdt</th>\n",
              "      <th>Name_Eng</th>\n",
              "      <th>Place_Code</th>\n",
              "      <th>Confirmed</th>\n",
              "      <th>Deaths</th>\n",
              "      <th>Recovered</th>\n",
              "      <th>Tested</th>\n",
              "      <th>NewAdded</th>\n",
              "      <th>GlobalID_1587594607483</th>\n",
              "      <th>Date</th>\n",
              "    </tr>\n",
              "  </thead>\n",
              "  <tbody>\n",
              "    <tr>\n",
              "      <th>0</th>\n",
              "      <td>1</td>\n",
              "      <td>Al Sho'bah</td>\n",
              "      <td>Rafha</td>\n",
              "      <td>Northern Borders</td>\n",
              "      <td>C4G90R09</td>\n",
              "      <td>R09</td>\n",
              "      <td>G90R09</td>\n",
              "      <td>City</td>\n",
              "      <td>GCS</td>\n",
              "      <td>0af06ce2-c55b-4a25-ad66-dc280b06f70b</td>\n",
              "      <td>1589619600000</td>\n",
              "      <td>Al Sho'bah</td>\n",
              "      <td>C4G90R09</td>\n",
              "      <td>1</td>\n",
              "      <td>0</td>\n",
              "      <td>0</td>\n",
              "      <td>1</td>\n",
              "      <td>0</td>\n",
              "      <td>b8aca67d-4e8a-4242-ba61-c0612fb3b78b</td>\n",
              "      <td>2020-05-16 09:00:00</td>\n",
              "    </tr>\n",
              "    <tr>\n",
              "      <th>1</th>\n",
              "      <td>2</td>\n",
              "      <td>Al Sho'bah</td>\n",
              "      <td>Rafha</td>\n",
              "      <td>Northern Borders</td>\n",
              "      <td>C4G90R09</td>\n",
              "      <td>R09</td>\n",
              "      <td>G90R09</td>\n",
              "      <td>City</td>\n",
              "      <td>GCS</td>\n",
              "      <td>0af06ce2-c55b-4a25-ad66-dc280b06f70b</td>\n",
              "      <td>1590656400000</td>\n",
              "      <td>Al Sho'bah</td>\n",
              "      <td>C4G90R09</td>\n",
              "      <td>0</td>\n",
              "      <td>0</td>\n",
              "      <td>1</td>\n",
              "      <td>-1</td>\n",
              "      <td>0</td>\n",
              "      <td>0aecc440-862f-4bd6-9100-db15f18ed360</td>\n",
              "      <td>2020-05-28 09:00:00</td>\n",
              "    </tr>\n",
              "  </tbody>\n",
              "</table>\n",
              "</div>"
            ],
            "text/plain": [
              "   ObjectId  ...                 Date\n",
              "0         1  ...  2020-05-16 09:00:00\n",
              "1         2  ...  2020-05-28 09:00:00\n",
              "\n",
              "[2 rows x 20 columns]"
            ]
          },
          "metadata": {
            "tags": []
          },
          "execution_count": 4
        }
      ]
    },
    {
      "cell_type": "code",
      "metadata": {
        "colab": {
          "base_uri": "https://localhost:8080/",
          "height": 233
        },
        "id": "DLC1LYnoPhLy",
        "outputId": "6df88a57-5a8c-441c-a761-dac49b8af235"
      },
      "source": [
        "#Use the method tail() to display the last five rows of the dataframe.\r\n",
        "df.tail(2)"
      ],
      "execution_count": 5,
      "outputs": [
        {
          "output_type": "execute_result",
          "data": {
            "text/html": [
              "<div>\n",
              "<style scoped>\n",
              "    .dataframe tbody tr th:only-of-type {\n",
              "        vertical-align: middle;\n",
              "    }\n",
              "\n",
              "    .dataframe tbody tr th {\n",
              "        vertical-align: top;\n",
              "    }\n",
              "\n",
              "    .dataframe thead th {\n",
              "        text-align: right;\n",
              "    }\n",
              "</style>\n",
              "<table border=\"1\" class=\"dataframe\">\n",
              "  <thead>\n",
              "    <tr style=\"text-align: right;\">\n",
              "      <th></th>\n",
              "      <th>ObjectId</th>\n",
              "      <th>PlaceName_EN</th>\n",
              "      <th>GovernorateName_EN</th>\n",
              "      <th>RegionName_EN</th>\n",
              "      <th>PLC_CODE</th>\n",
              "      <th>REG_CODE</th>\n",
              "      <th>GOV_CODE</th>\n",
              "      <th>Place_Category</th>\n",
              "      <th>DataSource</th>\n",
              "      <th>GlobalID</th>\n",
              "      <th>Reportdt</th>\n",
              "      <th>Name_Eng</th>\n",
              "      <th>Place_Code</th>\n",
              "      <th>Confirmed</th>\n",
              "      <th>Deaths</th>\n",
              "      <th>Recovered</th>\n",
              "      <th>Tested</th>\n",
              "      <th>NewAdded</th>\n",
              "      <th>GlobalID_1587594607483</th>\n",
              "      <th>Date</th>\n",
              "    </tr>\n",
              "  </thead>\n",
              "  <tbody>\n",
              "    <tr>\n",
              "      <th>29925</th>\n",
              "      <td>29926</td>\n",
              "      <td>Al Bashayer</td>\n",
              "      <td>Balqarn</td>\n",
              "      <td>Aseer</td>\n",
              "      <td>C10798G61R06</td>\n",
              "      <td>R06</td>\n",
              "      <td>G61R06</td>\n",
              "      <td>City</td>\n",
              "      <td>Other</td>\n",
              "      <td>c1cf02cc-fa3b-4bd5-b064-65a47cca1b0c</td>\n",
              "      <td>1611578520156</td>\n",
              "      <td>Al Bashayer</td>\n",
              "      <td>C10798G61R06</td>\n",
              "      <td>1</td>\n",
              "      <td>0</td>\n",
              "      <td>0</td>\n",
              "      <td>1</td>\n",
              "      <td>0</td>\n",
              "      <td>6adba119-72ae-4c26-bde6-58d726d4d10c</td>\n",
              "      <td>2021-01-25 12:42:00</td>\n",
              "    </tr>\n",
              "    <tr>\n",
              "      <th>29926</th>\n",
              "      <td>29927</td>\n",
              "      <td>Al Bashayer</td>\n",
              "      <td>Balqarn</td>\n",
              "      <td>Aseer</td>\n",
              "      <td>C10798G61R06</td>\n",
              "      <td>R06</td>\n",
              "      <td>G61R06</td>\n",
              "      <td>City</td>\n",
              "      <td>Other</td>\n",
              "      <td>c1cf02cc-fa3b-4bd5-b064-65a47cca1b0c</td>\n",
              "      <td>1611751424643</td>\n",
              "      <td>Al Bashayer</td>\n",
              "      <td>C10798G61R06</td>\n",
              "      <td>1</td>\n",
              "      <td>0</td>\n",
              "      <td>0</td>\n",
              "      <td>1</td>\n",
              "      <td>0</td>\n",
              "      <td>8458873f-d0a8-4e58-8a64-e28409094d6a</td>\n",
              "      <td>2021-01-27 12:43:44</td>\n",
              "    </tr>\n",
              "  </tbody>\n",
              "</table>\n",
              "</div>"
            ],
            "text/plain": [
              "       ObjectId  ...                 Date\n",
              "29925     29926  ...  2021-01-25 12:42:00\n",
              "29926     29927  ...  2021-01-27 12:43:44\n",
              "\n",
              "[2 rows x 20 columns]"
            ]
          },
          "metadata": {
            "tags": []
          },
          "execution_count": 5
        }
      ]
    },
    {
      "cell_type": "code",
      "metadata": {
        "colab": {
          "base_uri": "https://localhost:8080/"
        },
        "id": "rsdUKvuPSpnj",
        "outputId": "46e1830d-00a9-42be-b748-b7126d6765c1"
      },
      "source": [
        "# Display total of rows and features \r\n",
        "df.shape"
      ],
      "execution_count": 6,
      "outputs": [
        {
          "output_type": "execute_result",
          "data": {
            "text/plain": [
              "(29927, 20)"
            ]
          },
          "metadata": {
            "tags": []
          },
          "execution_count": 6
        }
      ]
    },
    {
      "cell_type": "code",
      "metadata": {
        "colab": {
          "base_uri": "https://localhost:8080/"
        },
        "id": "THv5THS-Pnzt",
        "outputId": "2180b022-62f4-44ca-9ae4-1e95653a3903"
      },
      "source": [
        "# Shows column addresses\r\n",
        "df.columns"
      ],
      "execution_count": 7,
      "outputs": [
        {
          "output_type": "execute_result",
          "data": {
            "text/plain": [
              "Index(['ObjectId', 'PlaceName_EN', 'GovernorateName_EN', 'RegionName_EN',\n",
              "       'PLC_CODE', 'REG_CODE', 'GOV_CODE', 'Place_Category', 'DataSource',\n",
              "       'GlobalID', 'Reportdt', 'Name_Eng', 'Place_Code', 'Confirmed', 'Deaths',\n",
              "       'Recovered', 'Tested', 'NewAdded', 'GlobalID_1587594607483', 'Date'],\n",
              "      dtype='object')"
            ]
          },
          "metadata": {
            "tags": []
          },
          "execution_count": 7
        }
      ]
    },
    {
      "cell_type": "markdown",
      "metadata": {
        "id": "Pd7Tu9u_VZpM"
      },
      "source": [
        "#Clean Data"
      ]
    },
    {
      "cell_type": "code",
      "metadata": {
        "id": "j7y8qWZCWeLM",
        "colab": {
          "base_uri": "https://localhost:8080/"
        },
        "outputId": "f6620717-8d2a-4c72-f65a-ffc3832e2e87"
      },
      "source": [
        "# Data detail for each feature\r\n",
        "df.info()"
      ],
      "execution_count": 8,
      "outputs": [
        {
          "output_type": "stream",
          "text": [
            "<class 'pandas.core.frame.DataFrame'>\n",
            "RangeIndex: 29927 entries, 0 to 29926\n",
            "Data columns (total 20 columns):\n",
            " #   Column                  Non-Null Count  Dtype \n",
            "---  ------                  --------------  ----- \n",
            " 0   ObjectId                29927 non-null  int64 \n",
            " 1   PlaceName_EN            29927 non-null  object\n",
            " 2   GovernorateName_EN      29927 non-null  object\n",
            " 3   RegionName_EN           29927 non-null  object\n",
            " 4   PLC_CODE                29927 non-null  object\n",
            " 5   REG_CODE                29927 non-null  object\n",
            " 6   GOV_CODE                29927 non-null  object\n",
            " 7   Place_Category          29927 non-null  object\n",
            " 8   DataSource              29927 non-null  object\n",
            " 9   GlobalID                29927 non-null  object\n",
            " 10  Reportdt                29927 non-null  int64 \n",
            " 11  Name_Eng                29927 non-null  object\n",
            " 12  Place_Code              29927 non-null  object\n",
            " 13  Confirmed               29927 non-null  int64 \n",
            " 14  Deaths                  29927 non-null  int64 \n",
            " 15  Recovered               29927 non-null  int64 \n",
            " 16  Tested                  29927 non-null  int64 \n",
            " 17  NewAdded                29927 non-null  int64 \n",
            " 18  GlobalID_1587594607483  29927 non-null  object\n",
            " 19  Date                    29927 non-null  object\n",
            "dtypes: int64(7), object(13)\n",
            "memory usage: 4.6+ MB\n"
          ],
          "name": "stdout"
        }
      ]
    },
    {
      "cell_type": "code",
      "metadata": {
        "colab": {
          "base_uri": "https://localhost:8080/",
          "height": 297
        },
        "id": "pI35kOJmPsEp",
        "outputId": "02b7a2f0-81f2-4e11-a7bf-082b1edc7971"
      },
      "source": [
        "# Show details of numerical features\r\n",
        "df.describe()"
      ],
      "execution_count": 9,
      "outputs": [
        {
          "output_type": "execute_result",
          "data": {
            "text/html": [
              "<div>\n",
              "<style scoped>\n",
              "    .dataframe tbody tr th:only-of-type {\n",
              "        vertical-align: middle;\n",
              "    }\n",
              "\n",
              "    .dataframe tbody tr th {\n",
              "        vertical-align: top;\n",
              "    }\n",
              "\n",
              "    .dataframe thead th {\n",
              "        text-align: right;\n",
              "    }\n",
              "</style>\n",
              "<table border=\"1\" class=\"dataframe\">\n",
              "  <thead>\n",
              "    <tr style=\"text-align: right;\">\n",
              "      <th></th>\n",
              "      <th>ObjectId</th>\n",
              "      <th>Reportdt</th>\n",
              "      <th>Confirmed</th>\n",
              "      <th>Deaths</th>\n",
              "      <th>Recovered</th>\n",
              "      <th>Tested</th>\n",
              "      <th>NewAdded</th>\n",
              "    </tr>\n",
              "  </thead>\n",
              "  <tbody>\n",
              "    <tr>\n",
              "      <th>count</th>\n",
              "      <td>29927.000000</td>\n",
              "      <td>2.992700e+04</td>\n",
              "      <td>29927.00000</td>\n",
              "      <td>29927.000000</td>\n",
              "      <td>29927.000000</td>\n",
              "      <td>29927.000000</td>\n",
              "      <td>29927.000000</td>\n",
              "    </tr>\n",
              "    <tr>\n",
              "      <th>mean</th>\n",
              "      <td>14964.000000</td>\n",
              "      <td>1.598902e+12</td>\n",
              "      <td>12.29034</td>\n",
              "      <td>0.212918</td>\n",
              "      <td>12.005848</td>\n",
              "      <td>0.071574</td>\n",
              "      <td>0.002506</td>\n",
              "    </tr>\n",
              "    <tr>\n",
              "      <th>std</th>\n",
              "      <td>8639.325089</td>\n",
              "      <td>6.426469e+09</td>\n",
              "      <td>51.69547</td>\n",
              "      <td>1.078786</td>\n",
              "      <td>56.892200</td>\n",
              "      <td>49.132371</td>\n",
              "      <td>0.049999</td>\n",
              "    </tr>\n",
              "    <tr>\n",
              "      <th>min</th>\n",
              "      <td>1.000000</td>\n",
              "      <td>1.583107e+12</td>\n",
              "      <td>0.00000</td>\n",
              "      <td>0.000000</td>\n",
              "      <td>0.000000</td>\n",
              "      <td>-2941.000000</td>\n",
              "      <td>0.000000</td>\n",
              "    </tr>\n",
              "    <tr>\n",
              "      <th>25%</th>\n",
              "      <td>7482.500000</td>\n",
              "      <td>1.594026e+12</td>\n",
              "      <td>1.00000</td>\n",
              "      <td>0.000000</td>\n",
              "      <td>0.000000</td>\n",
              "      <td>-2.000000</td>\n",
              "      <td>0.000000</td>\n",
              "    </tr>\n",
              "    <tr>\n",
              "      <th>50%</th>\n",
              "      <td>14964.000000</td>\n",
              "      <td>1.598101e+12</td>\n",
              "      <td>2.00000</td>\n",
              "      <td>0.000000</td>\n",
              "      <td>2.000000</td>\n",
              "      <td>0.000000</td>\n",
              "      <td>0.000000</td>\n",
              "    </tr>\n",
              "    <tr>\n",
              "      <th>75%</th>\n",
              "      <td>22445.500000</td>\n",
              "      <td>1.603889e+12</td>\n",
              "      <td>6.00000</td>\n",
              "      <td>0.000000</td>\n",
              "      <td>6.000000</td>\n",
              "      <td>2.000000</td>\n",
              "      <td>0.000000</td>\n",
              "    </tr>\n",
              "    <tr>\n",
              "      <th>max</th>\n",
              "      <td>29927.000000</td>\n",
              "      <td>1.611924e+12</td>\n",
              "      <td>2371.00000</td>\n",
              "      <td>35.000000</td>\n",
              "      <td>3165.000000</td>\n",
              "      <td>2124.000000</td>\n",
              "      <td>1.000000</td>\n",
              "    </tr>\n",
              "  </tbody>\n",
              "</table>\n",
              "</div>"
            ],
            "text/plain": [
              "           ObjectId      Reportdt  ...        Tested      NewAdded\n",
              "count  29927.000000  2.992700e+04  ...  29927.000000  29927.000000\n",
              "mean   14964.000000  1.598902e+12  ...      0.071574      0.002506\n",
              "std     8639.325089  6.426469e+09  ...     49.132371      0.049999\n",
              "min        1.000000  1.583107e+12  ...  -2941.000000      0.000000\n",
              "25%     7482.500000  1.594026e+12  ...     -2.000000      0.000000\n",
              "50%    14964.000000  1.598101e+12  ...      0.000000      0.000000\n",
              "75%    22445.500000  1.603889e+12  ...      2.000000      0.000000\n",
              "max    29927.000000  1.611924e+12  ...   2124.000000      1.000000\n",
              "\n",
              "[8 rows x 7 columns]"
            ]
          },
          "metadata": {
            "tags": []
          },
          "execution_count": 9
        }
      ]
    },
    {
      "cell_type": "code",
      "metadata": {
        "colab": {
          "base_uri": "https://localhost:8080/",
          "height": 266
        },
        "id": "py6b3VjUfhWZ",
        "outputId": "b2b1a20a-4263-4872-ad39-010930e28d84"
      },
      "source": [
        "# find the correlation among the columns in the dataframe using pearson method \r\n",
        "df.corr(method ='pearson')"
      ],
      "execution_count": 10,
      "outputs": [
        {
          "output_type": "execute_result",
          "data": {
            "text/html": [
              "<div>\n",
              "<style scoped>\n",
              "    .dataframe tbody tr th:only-of-type {\n",
              "        vertical-align: middle;\n",
              "    }\n",
              "\n",
              "    .dataframe tbody tr th {\n",
              "        vertical-align: top;\n",
              "    }\n",
              "\n",
              "    .dataframe thead th {\n",
              "        text-align: right;\n",
              "    }\n",
              "</style>\n",
              "<table border=\"1\" class=\"dataframe\">\n",
              "  <thead>\n",
              "    <tr style=\"text-align: right;\">\n",
              "      <th></th>\n",
              "      <th>ObjectId</th>\n",
              "      <th>Reportdt</th>\n",
              "      <th>Confirmed</th>\n",
              "      <th>Deaths</th>\n",
              "      <th>Recovered</th>\n",
              "      <th>Tested</th>\n",
              "      <th>NewAdded</th>\n",
              "    </tr>\n",
              "  </thead>\n",
              "  <tbody>\n",
              "    <tr>\n",
              "      <th>ObjectId</th>\n",
              "      <td>1.000000</td>\n",
              "      <td>-0.002512</td>\n",
              "      <td>-0.120177</td>\n",
              "      <td>-0.129774</td>\n",
              "      <td>-0.105915</td>\n",
              "      <td>-0.000954</td>\n",
              "      <td>-0.001470</td>\n",
              "    </tr>\n",
              "    <tr>\n",
              "      <th>Reportdt</th>\n",
              "      <td>-0.002512</td>\n",
              "      <td>1.000000</td>\n",
              "      <td>-0.174051</td>\n",
              "      <td>-0.038650</td>\n",
              "      <td>-0.112835</td>\n",
              "      <td>-0.051626</td>\n",
              "      <td>0.101563</td>\n",
              "    </tr>\n",
              "    <tr>\n",
              "      <th>Confirmed</th>\n",
              "      <td>-0.120177</td>\n",
              "      <td>-0.174051</td>\n",
              "      <td>1.000000</td>\n",
              "      <td>0.468480</td>\n",
              "      <td>0.595781</td>\n",
              "      <td>0.352004</td>\n",
              "      <td>-0.008426</td>\n",
              "    </tr>\n",
              "    <tr>\n",
              "      <th>Deaths</th>\n",
              "      <td>-0.129774</td>\n",
              "      <td>-0.038650</td>\n",
              "      <td>0.468480</td>\n",
              "      <td>1.000000</td>\n",
              "      <td>0.492071</td>\n",
              "      <td>-0.098825</td>\n",
              "      <td>-0.007415</td>\n",
              "    </tr>\n",
              "    <tr>\n",
              "      <th>Recovered</th>\n",
              "      <td>-0.105915</td>\n",
              "      <td>-0.112835</td>\n",
              "      <td>0.595781</td>\n",
              "      <td>0.492071</td>\n",
              "      <td>1.000000</td>\n",
              "      <td>-0.541880</td>\n",
              "      <td>-0.007136</td>\n",
              "    </tr>\n",
              "    <tr>\n",
              "      <th>Tested</th>\n",
              "      <td>-0.000954</td>\n",
              "      <td>-0.051626</td>\n",
              "      <td>0.352004</td>\n",
              "      <td>-0.098825</td>\n",
              "      <td>-0.541880</td>\n",
              "      <td>1.000000</td>\n",
              "      <td>-0.000440</td>\n",
              "    </tr>\n",
              "    <tr>\n",
              "      <th>NewAdded</th>\n",
              "      <td>-0.001470</td>\n",
              "      <td>0.101563</td>\n",
              "      <td>-0.008426</td>\n",
              "      <td>-0.007415</td>\n",
              "      <td>-0.007136</td>\n",
              "      <td>-0.000440</td>\n",
              "      <td>1.000000</td>\n",
              "    </tr>\n",
              "  </tbody>\n",
              "</table>\n",
              "</div>"
            ],
            "text/plain": [
              "           ObjectId  Reportdt  Confirmed  ...  Recovered    Tested  NewAdded\n",
              "ObjectId   1.000000 -0.002512  -0.120177  ...  -0.105915 -0.000954 -0.001470\n",
              "Reportdt  -0.002512  1.000000  -0.174051  ...  -0.112835 -0.051626  0.101563\n",
              "Confirmed -0.120177 -0.174051   1.000000  ...   0.595781  0.352004 -0.008426\n",
              "Deaths    -0.129774 -0.038650   0.468480  ...   0.492071 -0.098825 -0.007415\n",
              "Recovered -0.105915 -0.112835   0.595781  ...   1.000000 -0.541880 -0.007136\n",
              "Tested    -0.000954 -0.051626   0.352004  ...  -0.541880  1.000000 -0.000440\n",
              "NewAdded  -0.001470  0.101563  -0.008426  ...  -0.007136 -0.000440  1.000000\n",
              "\n",
              "[7 rows x 7 columns]"
            ]
          },
          "metadata": {
            "tags": []
          },
          "execution_count": 10
        }
      ]
    },
    {
      "cell_type": "markdown",
      "metadata": {
        "id": "faOJQFOCtoSx"
      },
      "source": [
        "#Missing data values"
      ]
    },
    {
      "cell_type": "code",
      "metadata": {
        "id": "_kBrUmxrWre1",
        "colab": {
          "base_uri": "https://localhost:8080/"
        },
        "outputId": "67d1c0e4-fcf0-4926-c803-736675e1e355"
      },
      "source": [
        "# Identify missing values\n",
        "df.isnull().sum()"
      ],
      "execution_count": 11,
      "outputs": [
        {
          "output_type": "execute_result",
          "data": {
            "text/plain": [
              "ObjectId                  0\n",
              "PlaceName_EN              0\n",
              "GovernorateName_EN        0\n",
              "RegionName_EN             0\n",
              "PLC_CODE                  0\n",
              "REG_CODE                  0\n",
              "GOV_CODE                  0\n",
              "Place_Category            0\n",
              "DataSource                0\n",
              "GlobalID                  0\n",
              "Reportdt                  0\n",
              "Name_Eng                  0\n",
              "Place_Code                0\n",
              "Confirmed                 0\n",
              "Deaths                    0\n",
              "Recovered                 0\n",
              "Tested                    0\n",
              "NewAdded                  0\n",
              "GlobalID_1587594607483    0\n",
              "Date                      0\n",
              "dtype: int64"
            ]
          },
          "metadata": {
            "tags": []
          },
          "execution_count": 11
        }
      ]
    },
    {
      "cell_type": "code",
      "metadata": {
        "id": "Aqcmskdftdlv",
        "colab": {
          "base_uri": "https://localhost:8080/"
        },
        "outputId": "4aee9dd4-38f4-4364-d1b5-d30199382fa2"
      },
      "source": [
        "# Total number of null values in the whole dataframe\r\n",
        "df.isnull().sum().sum()"
      ],
      "execution_count": 12,
      "outputs": [
        {
          "output_type": "execute_result",
          "data": {
            "text/plain": [
              "0"
            ]
          },
          "metadata": {
            "tags": []
          },
          "execution_count": 12
        }
      ]
    },
    {
      "cell_type": "code",
      "metadata": {
        "id": "Dideawo_XAaP",
        "colab": {
          "base_uri": "https://localhost:8080/",
          "height": 389
        },
        "outputId": "84470b43-8992-4fa5-8329-70de748c8530"
      },
      "source": [
        "# Check if there is any missing value with plot!\n",
        "sns.heatmap(df.isnull(), cmap='viridis')\n",
        "plt.show()"
      ],
      "execution_count": 13,
      "outputs": [
        {
          "output_type": "display_data",
          "data": {
            "image/png": "[encoded data removed]",
            "text/plain": [
              "<Figure size 432x288 with 2 Axes>"
            ]
          },
          "metadata": {
            "tags": [],
            "needs_background": "light"
          }
        }
      ]
    },
    {
      "cell_type": "code",
      "metadata": {
        "id": "vKMS_42-IMHj"
      },
      "source": [
        "# Drop the whole column, the column will not help in the model!\r\n",
        "df.drop([\"ObjectId\"], axis=1, inplace=True) "
      ],
      "execution_count": 14,
      "outputs": []
    },
    {
      "cell_type": "code",
      "metadata": {
        "id": "skxgA13BH_HA"
      },
      "source": [
        "# Drop any duplicates if there are any!\r\n",
        "df = df.drop_duplicates()"
      ],
      "execution_count": 15,
      "outputs": []
    },
    {
      "cell_type": "code",
      "metadata": {
        "colab": {
          "base_uri": "https://localhost:8080/"
        },
        "id": "vvnnTFU4IIad",
        "outputId": "c7f72057-69d4-4365-e8cf-60461d449474"
      },
      "source": [
        "# Check data shape after dropping duplicated\r\n",
        "df.shape"
      ],
      "execution_count": 16,
      "outputs": [
        {
          "output_type": "execute_result",
          "data": {
            "text/plain": [
              "(29927, 19)"
            ]
          },
          "metadata": {
            "tags": []
          },
          "execution_count": 16
        }
      ]
    },
    {
      "cell_type": "markdown",
      "metadata": {
        "id": "nNOM6irIVg1L"
      },
      "source": [
        "#Discover and Visualize Data"
      ]
    },
    {
      "cell_type": "code",
      "metadata": {
        "id": "zKG5m_uq9q4N",
        "colab": {
          "base_uri": "https://localhost:8080/",
          "height": 320
        },
        "outputId": "35ae4b65-4366-4a41-e7ee-fc9c240a2cb7"
      },
      "source": [
        "# Plot 1: Visual region names\n",
        "fig, ax1 = plt.subplots()\n",
        "sns.countplot(y='RegionName_EN',data=df, palette='hls')\n",
        "plt.title('Region Name',fontsize=20)\n",
        "ax1.set_ylabel('Region Name')\n",
        "ax1.set_xlabel('Count')"
      ],
      "execution_count": 17,
      "outputs": [
        {
          "output_type": "execute_result",
          "data": {
            "text/plain": [
              "Text(0.5, 0, 'Count')"
            ]
          },
          "metadata": {
            "tags": []
          },
          "execution_count": 17
        },
        {
          "output_type": "display_data",
          "data": {
            "image/png": "[encoded data removed]",
            "text/plain": [
              "<Figure size 432x288 with 1 Axes>"
            ]
          },
          "metadata": {
            "tags": [],
            "needs_background": "light"
          }
        }
      ]
    },
    {
      "cell_type": "code",
      "metadata": {
        "colab": {
          "base_uri": "https://localhost:8080/",
          "height": 320
        },
        "id": "bzznsQVAVFxe",
        "outputId": "837b08aa-0709-49af-a98e-3f08ea8d286a"
      },
      "source": [
        "# Plot 2: Visual Place Category\r\n",
        "fig, ax1 = plt.subplots()\r\n",
        "sns.countplot(x='Place_Category',data=df, palette='hls')\r\n",
        "plt.title('Place Category Plot',fontsize=20)\r\n",
        "ax1.set_ylabel('Count')\r\n",
        "ax1.set_xlabel('Place Category')"
      ],
      "execution_count": 18,
      "outputs": [
        {
          "output_type": "execute_result",
          "data": {
            "text/plain": [
              "Text(0.5, 0, 'Place Category')"
            ]
          },
          "metadata": {
            "tags": []
          },
          "execution_count": 18
        },
        {
          "output_type": "display_data",
          "data": {
            "image/png": "[encoded data removed]",
            "text/plain": [
              "<Figure size 432x288 with 1 Axes>"
            ]
          },
          "metadata": {
            "tags": [],
            "needs_background": "light"
          }
        }
      ]
    },
    {
      "cell_type": "code",
      "metadata": {
        "colab": {
          "base_uri": "https://localhost:8080/",
          "height": 449
        },
        "id": "NKMFgmv-TkYx",
        "outputId": "038cb52d-fb69-4c4c-a442-03b5a82611ea"
      },
      "source": [
        "# Plot 3: Visual Regions Pie Chart\r\n",
        "P =df.RegionName_EN.value_counts()/df.shape[0]\r\n",
        "plt.figure(figsize=[15, 7])\r\n",
        "plt.pie(P ,labels=P.index,autopct='%1.1f%%',shadow=True)\r\n",
        "plt.title('Regions Name',fontsize=20)"
      ],
      "execution_count": 19,
      "outputs": [
        {
          "output_type": "execute_result",
          "data": {
            "text/plain": [
              "Text(0.5, 1.0, 'Regions Name')"
            ]
          },
          "metadata": {
            "tags": []
          },
          "execution_count": 19
        },
        {
          "output_type": "display_data",
          "data": {
            "image/png": "[encoded data removed]",
            "text/plain": [
              "<Figure size 1080x504 with 1 Axes>"
            ]
          },
          "metadata": {
            "tags": []
          }
        }
      ]
    },
    {
      "cell_type": "code",
      "metadata": {
        "colab": {
          "base_uri": "https://localhost:8080/",
          "height": 408
        },
        "id": "BSBTwtoxLzJQ",
        "outputId": "5f6ec0ee-13be-4b6c-f51a-a4f3e4867743"
      },
      "source": [
        "# Plot 4: Visual regions with confirmed cases\r\n",
        "plt.figure(figsize=(10, 6))\r\n",
        "sns.stripplot(x=\"Confirmed\", y=\"RegionName_EN\", data=df,palette='viridis')"
      ],
      "execution_count": 20,
      "outputs": [
        {
          "output_type": "execute_result",
          "data": {
            "text/plain": [
              "<matplotlib.axes._subplots.AxesSubplot at 0x7f9818163f10>"
            ]
          },
          "metadata": {
            "tags": []
          },
          "execution_count": 20
        },
        {
          "output_type": "display_data",
          "data": {
            "image/png": "[encoded data removed]",
            "text/plain": [
              "<Figure size 720x432 with 1 Axes>"
            ]
          },
          "metadata": {
            "tags": [],
            "needs_background": "light"
          }
        }
      ]
    },
    {
      "cell_type": "code",
      "metadata": {
        "colab": {
          "base_uri": "https://localhost:8080/",
          "height": 428
        },
        "id": "Zt6NqGxbMyWk",
        "outputId": "c109c417-d933-4293-a724-249fb39c4501"
      },
      "source": [
        "# Plot 5: Visual confiremed & recovered cases\r\n",
        "plt.figure(figsize=(30,14))\r\n",
        "plt.subplot(231)#subplot to add a subplot to the current figure\r\n",
        "sns.regplot(x=\"Confirmed\",y=\"Recovered\", data=df,  line_kws={'color': 'blue'})"
      ],
      "execution_count": 21,
      "outputs": [
        {
          "output_type": "execute_result",
          "data": {
            "text/plain": [
              "<matplotlib.axes._subplots.AxesSubplot at 0x7f9819a6c1d0>"
            ]
          },
          "metadata": {
            "tags": []
          },
          "execution_count": 21
        },
        {
          "output_type": "display_data",
          "data": {
            "image/png": "[encoded data removed]",
            "text/plain": [
              "<Figure size 2160x1008 with 1 Axes>"
            ]
          },
          "metadata": {
            "tags": [],
            "needs_background": "light"
          }
        }
      ]
    },
    {
      "cell_type": "markdown",
      "metadata": {
        "id": "yy0BF8NbVrjg"
      },
      "source": [
        "# Prophet Model"
      ]
    },
    {
      "cell_type": "markdown",
      "metadata": {
        "id": "qeh88R7yaCKq"
      },
      "source": [
        "### Taking the highest confirmed cases as shown above in the plots, to make the forecasting for is Riyadh Region"
      ]
    },
    {
      "cell_type": "code",
      "metadata": {
        "colab": {
          "base_uri": "https://localhost:8080/",
          "height": 479
        },
        "id": "XInf2rhsiHSc",
        "outputId": "a019a6ac-4c48-4613-94c2-4898eaef0a43"
      },
      "source": [
        "# Separate Riyadh rows region to make forecasting on it\r\n",
        "Rregion = df[df[\"RegionName_EN\"] == 'Ar Riyad']\r\n",
        "# Print the first 5 rows\r\n",
        "Rregion.head()"
      ],
      "execution_count": 22,
      "outputs": [
        {
          "output_type": "execute_result",
          "data": {
            "text/html": [
              "<div>\n",
              "<style scoped>\n",
              "    .dataframe tbody tr th:only-of-type {\n",
              "        vertical-align: middle;\n",
              "    }\n",
              "\n",
              "    .dataframe tbody tr th {\n",
              "        vertical-align: top;\n",
              "    }\n",
              "\n",
              "    .dataframe thead th {\n",
              "        text-align: right;\n",
              "    }\n",
              "</style>\n",
              "<table border=\"1\" class=\"dataframe\">\n",
              "  <thead>\n",
              "    <tr style=\"text-align: right;\">\n",
              "      <th></th>\n",
              "      <th>PlaceName_EN</th>\n",
              "      <th>GovernorateName_EN</th>\n",
              "      <th>RegionName_EN</th>\n",
              "      <th>PLC_CODE</th>\n",
              "      <th>REG_CODE</th>\n",
              "      <th>GOV_CODE</th>\n",
              "      <th>Place_Category</th>\n",
              "      <th>DataSource</th>\n",
              "      <th>GlobalID</th>\n",
              "      <th>Reportdt</th>\n",
              "      <th>Name_Eng</th>\n",
              "      <th>Place_Code</th>\n",
              "      <th>Confirmed</th>\n",
              "      <th>Deaths</th>\n",
              "      <th>Recovered</th>\n",
              "      <th>Tested</th>\n",
              "      <th>NewAdded</th>\n",
              "      <th>GlobalID_1587594607483</th>\n",
              "      <th>Date</th>\n",
              "    </tr>\n",
              "  </thead>\n",
              "  <tbody>\n",
              "    <tr>\n",
              "      <th>1260</th>\n",
              "      <td>Rafa'i' Al Jamsh</td>\n",
              "      <td>Ad Duwadimi</td>\n",
              "      <td>Ar Riyad</td>\n",
              "      <td>C121G10R01</td>\n",
              "      <td>R01</td>\n",
              "      <td>G10R01</td>\n",
              "      <td>City</td>\n",
              "      <td>GCS</td>\n",
              "      <td>5499ddae-b02e-4473-b69c-dfb3e9e24f80</td>\n",
              "      <td>1589878800000</td>\n",
              "      <td>Rafa'i' Al Jamsh</td>\n",
              "      <td>C121G10R01</td>\n",
              "      <td>1</td>\n",
              "      <td>0</td>\n",
              "      <td>0</td>\n",
              "      <td>1</td>\n",
              "      <td>0</td>\n",
              "      <td>7d2f6fe0-1126-46e5-96f7-741ec9a20c1f</td>\n",
              "      <td>2020-05-19 09:00:00</td>\n",
              "    </tr>\n",
              "    <tr>\n",
              "      <th>1261</th>\n",
              "      <td>Rafa'i' Al Jamsh</td>\n",
              "      <td>Ad Duwadimi</td>\n",
              "      <td>Ar Riyad</td>\n",
              "      <td>C121G10R01</td>\n",
              "      <td>R01</td>\n",
              "      <td>G10R01</td>\n",
              "      <td>City</td>\n",
              "      <td>GCS</td>\n",
              "      <td>5499ddae-b02e-4473-b69c-dfb3e9e24f80</td>\n",
              "      <td>1590829200000</td>\n",
              "      <td>Rafa'i' Al Jamsh</td>\n",
              "      <td>C121G10R01</td>\n",
              "      <td>0</td>\n",
              "      <td>0</td>\n",
              "      <td>1</td>\n",
              "      <td>-1</td>\n",
              "      <td>0</td>\n",
              "      <td>574e8e26-d40e-4f7c-871c-c9aa66a8f063</td>\n",
              "      <td>2020-05-30 09:00:00</td>\n",
              "    </tr>\n",
              "    <tr>\n",
              "      <th>1262</th>\n",
              "      <td>Rafa'i' Al Jamsh</td>\n",
              "      <td>Ad Duwadimi</td>\n",
              "      <td>Ar Riyad</td>\n",
              "      <td>C121G10R01</td>\n",
              "      <td>R01</td>\n",
              "      <td>G10R01</td>\n",
              "      <td>City</td>\n",
              "      <td>GCS</td>\n",
              "      <td>5499ddae-b02e-4473-b69c-dfb3e9e24f80</td>\n",
              "      <td>1590915600000</td>\n",
              "      <td>Rafa'i' Al Jamsh</td>\n",
              "      <td>C121G10R01</td>\n",
              "      <td>13</td>\n",
              "      <td>0</td>\n",
              "      <td>0</td>\n",
              "      <td>13</td>\n",
              "      <td>0</td>\n",
              "      <td>f466961c-2c2e-4bb9-999e-4fb36de07eee</td>\n",
              "      <td>2020-05-31 09:00:00</td>\n",
              "    </tr>\n",
              "    <tr>\n",
              "      <th>1263</th>\n",
              "      <td>Rafa'i' Al Jamsh</td>\n",
              "      <td>Ad Duwadimi</td>\n",
              "      <td>Ar Riyad</td>\n",
              "      <td>C121G10R01</td>\n",
              "      <td>R01</td>\n",
              "      <td>G10R01</td>\n",
              "      <td>City</td>\n",
              "      <td>GCS</td>\n",
              "      <td>5499ddae-b02e-4473-b69c-dfb3e9e24f80</td>\n",
              "      <td>1591174800000</td>\n",
              "      <td>Rafa'i' Al Jamsh</td>\n",
              "      <td>C121G10R01</td>\n",
              "      <td>2</td>\n",
              "      <td>0</td>\n",
              "      <td>0</td>\n",
              "      <td>2</td>\n",
              "      <td>0</td>\n",
              "      <td>a9b44605-12eb-4096-9713-b8690559143e</td>\n",
              "      <td>2020-06-03 09:00:00</td>\n",
              "    </tr>\n",
              "    <tr>\n",
              "      <th>1264</th>\n",
              "      <td>Rafa'i' Al Jamsh</td>\n",
              "      <td>Ad Duwadimi</td>\n",
              "      <td>Ar Riyad</td>\n",
              "      <td>C121G10R01</td>\n",
              "      <td>R01</td>\n",
              "      <td>G10R01</td>\n",
              "      <td>City</td>\n",
              "      <td>GCS</td>\n",
              "      <td>5499ddae-b02e-4473-b69c-dfb3e9e24f80</td>\n",
              "      <td>1591347600000</td>\n",
              "      <td>Rafa'i' Al Jamsh</td>\n",
              "      <td>C121G10R01</td>\n",
              "      <td>7</td>\n",
              "      <td>0</td>\n",
              "      <td>0</td>\n",
              "      <td>7</td>\n",
              "      <td>0</td>\n",
              "      <td>d4fc71a7-27cb-43a4-b9a0-0756e13be754</td>\n",
              "      <td>2020-06-05 09:00:00</td>\n",
              "    </tr>\n",
              "  </tbody>\n",
              "</table>\n",
              "</div>"
            ],
            "text/plain": [
              "          PlaceName_EN  ...                 Date\n",
              "1260  Rafa'i' Al Jamsh  ...  2020-05-19 09:00:00\n",
              "1261  Rafa'i' Al Jamsh  ...  2020-05-30 09:00:00\n",
              "1262  Rafa'i' Al Jamsh  ...  2020-05-31 09:00:00\n",
              "1263  Rafa'i' Al Jamsh  ...  2020-06-03 09:00:00\n",
              "1264  Rafa'i' Al Jamsh  ...  2020-06-05 09:00:00\n",
              "\n",
              "[5 rows x 19 columns]"
            ]
          },
          "metadata": {
            "tags": []
          },
          "execution_count": 22
        }
      ]
    },
    {
      "cell_type": "code",
      "metadata": {
        "id": "cECkIlGKnmGV"
      },
      "source": [
        "Rregion[['Date','Time']] = df.Date.str.split(expand=True) "
      ],
      "execution_count": 23,
      "outputs": []
    },
    {
      "cell_type": "markdown",
      "metadata": {
        "id": "xLdE8JaomFGn"
      },
      "source": [
        "# Prepare for Prophet\r\n",
        "### For prophet to work, we need to change the names of these columns to 'ds' and 'y', so lets just create a new dataframe. \r\n",
        "\r\n",
        "\r\n",
        "### And rename the columns as required by fbprophet. Additioinally, fbprophet doesn't like the index to be a datetime...it wants to see 'ds' as a non-index column, so that's why separated above into time from Date."
      ]
    },
    {
      "cell_type": "code",
      "metadata": {
        "colab": {
          "base_uri": "https://localhost:8080/",
          "height": 419
        },
        "id": "_r9WTWz3Tl9X",
        "outputId": "2d7efb1f-95db-4e06-8696-33d38256e727"
      },
      "source": [
        "Rdf = Rregion[['Date','Confirmed']]\r\n",
        "Rdf.columns = ['ds','y']\r\n",
        "Rdf"
      ],
      "execution_count": 24,
      "outputs": [
        {
          "output_type": "execute_result",
          "data": {
            "text/html": [
              "<div>\n",
              "<style scoped>\n",
              "    .dataframe tbody tr th:only-of-type {\n",
              "        vertical-align: middle;\n",
              "    }\n",
              "\n",
              "    .dataframe tbody tr th {\n",
              "        vertical-align: top;\n",
              "    }\n",
              "\n",
              "    .dataframe thead th {\n",
              "        text-align: right;\n",
              "    }\n",
              "</style>\n",
              "<table border=\"1\" class=\"dataframe\">\n",
              "  <thead>\n",
              "    <tr style=\"text-align: right;\">\n",
              "      <th></th>\n",
              "      <th>ds</th>\n",
              "      <th>y</th>\n",
              "    </tr>\n",
              "  </thead>\n",
              "  <tbody>\n",
              "    <tr>\n",
              "      <th>1260</th>\n",
              "      <td>2020-05-19</td>\n",
              "      <td>1</td>\n",
              "    </tr>\n",
              "    <tr>\n",
              "      <th>1261</th>\n",
              "      <td>2020-05-30</td>\n",
              "      <td>0</td>\n",
              "    </tr>\n",
              "    <tr>\n",
              "      <th>1262</th>\n",
              "      <td>2020-05-31</td>\n",
              "      <td>13</td>\n",
              "    </tr>\n",
              "    <tr>\n",
              "      <th>1263</th>\n",
              "      <td>2020-06-03</td>\n",
              "      <td>2</td>\n",
              "    </tr>\n",
              "    <tr>\n",
              "      <th>1264</th>\n",
              "      <td>2020-06-05</td>\n",
              "      <td>7</td>\n",
              "    </tr>\n",
              "    <tr>\n",
              "      <th>...</th>\n",
              "      <td>...</td>\n",
              "      <td>...</td>\n",
              "    </tr>\n",
              "    <tr>\n",
              "      <th>28289</th>\n",
              "      <td>2021-01-25</td>\n",
              "      <td>1</td>\n",
              "    </tr>\n",
              "    <tr>\n",
              "      <th>28290</th>\n",
              "      <td>2021-01-26</td>\n",
              "      <td>0</td>\n",
              "    </tr>\n",
              "    <tr>\n",
              "      <th>28291</th>\n",
              "      <td>2021-01-27</td>\n",
              "      <td>0</td>\n",
              "    </tr>\n",
              "    <tr>\n",
              "      <th>28292</th>\n",
              "      <td>2021-01-28</td>\n",
              "      <td>2</td>\n",
              "    </tr>\n",
              "    <tr>\n",
              "      <th>28293</th>\n",
              "      <td>2021-01-29</td>\n",
              "      <td>4</td>\n",
              "    </tr>\n",
              "  </tbody>\n",
              "</table>\n",
              "<p>4941 rows × 2 columns</p>\n",
              "</div>"
            ],
            "text/plain": [
              "               ds   y\n",
              "1260   2020-05-19   1\n",
              "1261   2020-05-30   0\n",
              "1262   2020-05-31  13\n",
              "1263   2020-06-03   2\n",
              "1264   2020-06-05   7\n",
              "...           ...  ..\n",
              "28289  2021-01-25   1\n",
              "28290  2021-01-26   0\n",
              "28291  2021-01-27   0\n",
              "28292  2021-01-28   2\n",
              "28293  2021-01-29   4\n",
              "\n",
              "[4941 rows x 2 columns]"
            ]
          },
          "metadata": {
            "tags": []
          },
          "execution_count": 24
        }
      ]
    },
    {
      "cell_type": "code",
      "metadata": {
        "colab": {
          "base_uri": "https://localhost:8080/"
        },
        "id": "KhAD3tVmF65f",
        "outputId": "ed5768e8-822c-4a2a-afc3-317ac82380ae"
      },
      "source": [
        "# Just to check for 0 values in the y column\r\n",
        "Rdf.isin([0]).sum()"
      ],
      "execution_count": 25,
      "outputs": [
        {
          "output_type": "execute_result",
          "data": {
            "text/plain": [
              "ds       0\n",
              "y     1297\n",
              "dtype: int64"
            ]
          },
          "metadata": {
            "tags": []
          },
          "execution_count": 25
        }
      ]
    },
    {
      "cell_type": "code",
      "metadata": {
        "colab": {
          "base_uri": "https://localhost:8080/"
        },
        "id": "kCIjyXYkGi1d",
        "outputId": "d9bb87f3-1e8a-4763-aa98-23b7247c282c"
      },
      "source": [
        "len(Rdf.index)"
      ],
      "execution_count": 26,
      "outputs": [
        {
          "output_type": "execute_result",
          "data": {
            "text/plain": [
              "4941"
            ]
          },
          "metadata": {
            "tags": []
          },
          "execution_count": 26
        }
      ]
    },
    {
      "cell_type": "code",
      "metadata": {
        "colab": {
          "base_uri": "https://localhost:8080/"
        },
        "id": "TBOsmXRbTmC9",
        "outputId": "10bd7f8e-735e-452a-e810-f6015741abfb"
      },
      "source": [
        "Rdf.columns"
      ],
      "execution_count": 27,
      "outputs": [
        {
          "output_type": "execute_result",
          "data": {
            "text/plain": [
              "Index(['ds', 'y'], dtype='object')"
            ]
          },
          "metadata": {
            "tags": []
          },
          "execution_count": 27
        }
      ]
    },
    {
      "cell_type": "code",
      "metadata": {
        "colab": {
          "base_uri": "https://localhost:8080/",
          "height": 299
        },
        "id": "AoN2hjx383Fz",
        "outputId": "9f3405d4-ee8d-480e-9c77-ebeede9226b3"
      },
      "source": [
        "# Plot the data using pandas' plot function\r\n",
        "Rdf.set_index('ds').y.plot()"
      ],
      "execution_count": 28,
      "outputs": [
        {
          "output_type": "execute_result",
          "data": {
            "text/plain": [
              "<matplotlib.axes._subplots.AxesSubplot at 0x7f9817a0df50>"
            ]
          },
          "metadata": {
            "tags": []
          },
          "execution_count": 28
        },
        {
          "output_type": "display_data",
          "data": {
            "image/png": "[encoded data removed]",
            "text/plain": [
              "<Figure size 432x288 with 1 Axes>"
            ]
          },
          "metadata": {
            "tags": [],
            "needs_background": "light"
          }
        }
      ]
    },
    {
      "cell_type": "markdown",
      "metadata": {
        "id": "M3mbgUqeoEP-"
      },
      "source": [
        "# Running Prophet\r\n",
        "\r\n",
        "### Add some future dates to our dataframe. I want to forecast 6 months into the future, so built a future dataframe with 6 periods. Note the freq='m' inclusion to ensure we are adding 6 months of data."
      ]
    },
    {
      "cell_type": "code",
      "metadata": {
        "colab": {
          "base_uri": "https://localhost:8080/",
          "height": 238
        },
        "id": "gL4ofFJzz4FQ",
        "outputId": "1c07e80a-58f1-4eeb-e3ec-f944df1d8930"
      },
      "source": [
        "model = Prophet(changepoint_prior_scale=0.01).fit(Rdf)\r\n",
        "future = model.make_future_dataframe(periods=6, freq='m') # period 6 and the frequency of months\r\n",
        "future.tail()"
      ],
      "execution_count": 29,
      "outputs": [
        {
          "output_type": "stream",
          "text": [
            "INFO:fbprophet:Disabling yearly seasonality. Run prophet with yearly_seasonality=True to override this.\n",
            "INFO:fbprophet:Disabling daily seasonality. Run prophet with daily_seasonality=True to override this.\n"
          ],
          "name": "stderr"
        },
        {
          "output_type": "execute_result",
          "data": {
            "text/html": [
              "<div>\n",
              "<style scoped>\n",
              "    .dataframe tbody tr th:only-of-type {\n",
              "        vertical-align: middle;\n",
              "    }\n",
              "\n",
              "    .dataframe tbody tr th {\n",
              "        vertical-align: top;\n",
              "    }\n",
              "\n",
              "    .dataframe thead th {\n",
              "        text-align: right;\n",
              "    }\n",
              "</style>\n",
              "<table border=\"1\" class=\"dataframe\">\n",
              "  <thead>\n",
              "    <tr style=\"text-align: right;\">\n",
              "      <th></th>\n",
              "      <th>ds</th>\n",
              "    </tr>\n",
              "  </thead>\n",
              "  <tbody>\n",
              "    <tr>\n",
              "      <th>325</th>\n",
              "      <td>2021-02-28</td>\n",
              "    </tr>\n",
              "    <tr>\n",
              "      <th>326</th>\n",
              "      <td>2021-03-31</td>\n",
              "    </tr>\n",
              "    <tr>\n",
              "      <th>327</th>\n",
              "      <td>2021-04-30</td>\n",
              "    </tr>\n",
              "    <tr>\n",
              "      <th>328</th>\n",
              "      <td>2021-05-31</td>\n",
              "    </tr>\n",
              "    <tr>\n",
              "      <th>329</th>\n",
              "      <td>2021-06-30</td>\n",
              "    </tr>\n",
              "  </tbody>\n",
              "</table>\n",
              "</div>"
            ],
            "text/plain": [
              "            ds\n",
              "325 2021-02-28\n",
              "326 2021-03-31\n",
              "327 2021-04-30\n",
              "328 2021-05-31\n",
              "329 2021-06-30"
            ]
          },
          "metadata": {
            "tags": []
          },
          "execution_count": 29
        }
      ]
    },
    {
      "cell_type": "code",
      "metadata": {
        "colab": {
          "base_uri": "https://localhost:8080/",
          "height": 609
        },
        "id": "4nUP_ZvHmem0",
        "outputId": "baa701d2-47ed-4cfc-889c-5935e10f67ca"
      },
      "source": [
        "# To forecast this future data, we need to run it through Prophet's model\r\n",
        "fcst = model.predict(future)\r\n",
        "fcst"
      ],
      "execution_count": 30,
      "outputs": [
        {
          "output_type": "execute_result",
          "data": {
            "text/html": [
              "<div>\n",
              "<style scoped>\n",
              "    .dataframe tbody tr th:only-of-type {\n",
              "        vertical-align: middle;\n",
              "    }\n",
              "\n",
              "    .dataframe tbody tr th {\n",
              "        vertical-align: top;\n",
              "    }\n",
              "\n",
              "    .dataframe thead th {\n",
              "        text-align: right;\n",
              "    }\n",
              "</style>\n",
              "<table border=\"1\" class=\"dataframe\">\n",
              "  <thead>\n",
              "    <tr style=\"text-align: right;\">\n",
              "      <th></th>\n",
              "      <th>ds</th>\n",
              "      <th>trend</th>\n",
              "      <th>yhat_lower</th>\n",
              "      <th>yhat_upper</th>\n",
              "      <th>trend_lower</th>\n",
              "      <th>trend_upper</th>\n",
              "      <th>additive_terms</th>\n",
              "      <th>additive_terms_lower</th>\n",
              "      <th>additive_terms_upper</th>\n",
              "      <th>weekly</th>\n",
              "      <th>weekly_lower</th>\n",
              "      <th>weekly_upper</th>\n",
              "      <th>multiplicative_terms</th>\n",
              "      <th>multiplicative_terms_lower</th>\n",
              "      <th>multiplicative_terms_upper</th>\n",
              "      <th>yhat</th>\n",
              "    </tr>\n",
              "  </thead>\n",
              "  <tbody>\n",
              "    <tr>\n",
              "      <th>0</th>\n",
              "      <td>2020-03-09</td>\n",
              "      <td>69.293084</td>\n",
              "      <td>-45.987145</td>\n",
              "      <td>188.692331</td>\n",
              "      <td>69.293084</td>\n",
              "      <td>69.293084</td>\n",
              "      <td>0.054769</td>\n",
              "      <td>0.054769</td>\n",
              "      <td>0.054769</td>\n",
              "      <td>0.054769</td>\n",
              "      <td>0.054769</td>\n",
              "      <td>0.054769</td>\n",
              "      <td>0.0</td>\n",
              "      <td>0.0</td>\n",
              "      <td>0.0</td>\n",
              "      <td>69.347853</td>\n",
              "    </tr>\n",
              "    <tr>\n",
              "      <th>1</th>\n",
              "      <td>2020-03-13</td>\n",
              "      <td>67.915933</td>\n",
              "      <td>-47.528112</td>\n",
              "      <td>194.606367</td>\n",
              "      <td>67.915933</td>\n",
              "      <td>67.915933</td>\n",
              "      <td>0.156696</td>\n",
              "      <td>0.156696</td>\n",
              "      <td>0.156696</td>\n",
              "      <td>0.156696</td>\n",
              "      <td>0.156696</td>\n",
              "      <td>0.156696</td>\n",
              "      <td>0.0</td>\n",
              "      <td>0.0</td>\n",
              "      <td>0.0</td>\n",
              "      <td>68.072629</td>\n",
              "    </tr>\n",
              "    <tr>\n",
              "      <th>2</th>\n",
              "      <td>2020-03-14</td>\n",
              "      <td>67.571645</td>\n",
              "      <td>-56.458344</td>\n",
              "      <td>186.774596</td>\n",
              "      <td>67.571645</td>\n",
              "      <td>67.571645</td>\n",
              "      <td>-0.616591</td>\n",
              "      <td>-0.616591</td>\n",
              "      <td>-0.616591</td>\n",
              "      <td>-0.616591</td>\n",
              "      <td>-0.616591</td>\n",
              "      <td>-0.616591</td>\n",
              "      <td>0.0</td>\n",
              "      <td>0.0</td>\n",
              "      <td>0.0</td>\n",
              "      <td>66.955055</td>\n",
              "    </tr>\n",
              "    <tr>\n",
              "      <th>3</th>\n",
              "      <td>2020-03-15</td>\n",
              "      <td>67.227357</td>\n",
              "      <td>-52.513413</td>\n",
              "      <td>193.946342</td>\n",
              "      <td>67.227357</td>\n",
              "      <td>67.227357</td>\n",
              "      <td>-1.383020</td>\n",
              "      <td>-1.383020</td>\n",
              "      <td>-1.383020</td>\n",
              "      <td>-1.383020</td>\n",
              "      <td>-1.383020</td>\n",
              "      <td>-1.383020</td>\n",
              "      <td>0.0</td>\n",
              "      <td>0.0</td>\n",
              "      <td>0.0</td>\n",
              "      <td>65.844337</td>\n",
              "    </tr>\n",
              "    <tr>\n",
              "      <th>4</th>\n",
              "      <td>2020-03-16</td>\n",
              "      <td>66.883070</td>\n",
              "      <td>-59.597841</td>\n",
              "      <td>188.021808</td>\n",
              "      <td>66.883070</td>\n",
              "      <td>66.883070</td>\n",
              "      <td>0.054769</td>\n",
              "      <td>0.054769</td>\n",
              "      <td>0.054769</td>\n",
              "      <td>0.054769</td>\n",
              "      <td>0.054769</td>\n",
              "      <td>0.054769</td>\n",
              "      <td>0.0</td>\n",
              "      <td>0.0</td>\n",
              "      <td>0.0</td>\n",
              "      <td>66.937838</td>\n",
              "    </tr>\n",
              "    <tr>\n",
              "      <th>...</th>\n",
              "      <td>...</td>\n",
              "      <td>...</td>\n",
              "      <td>...</td>\n",
              "      <td>...</td>\n",
              "      <td>...</td>\n",
              "      <td>...</td>\n",
              "      <td>...</td>\n",
              "      <td>...</td>\n",
              "      <td>...</td>\n",
              "      <td>...</td>\n",
              "      <td>...</td>\n",
              "      <td>...</td>\n",
              "      <td>...</td>\n",
              "      <td>...</td>\n",
              "      <td>...</td>\n",
              "      <td>...</td>\n",
              "    </tr>\n",
              "    <tr>\n",
              "      <th>325</th>\n",
              "      <td>2021-02-28</td>\n",
              "      <td>1.863021</td>\n",
              "      <td>-113.828077</td>\n",
              "      <td>121.066078</td>\n",
              "      <td>0.968618</td>\n",
              "      <td>2.713327</td>\n",
              "      <td>-1.383020</td>\n",
              "      <td>-1.383020</td>\n",
              "      <td>-1.383020</td>\n",
              "      <td>-1.383020</td>\n",
              "      <td>-1.383020</td>\n",
              "      <td>-1.383020</td>\n",
              "      <td>0.0</td>\n",
              "      <td>0.0</td>\n",
              "      <td>0.0</td>\n",
              "      <td>0.480000</td>\n",
              "    </tr>\n",
              "    <tr>\n",
              "      <th>326</th>\n",
              "      <td>2021-03-31</td>\n",
              "      <td>1.227641</td>\n",
              "      <td>-119.599158</td>\n",
              "      <td>118.836470</td>\n",
              "      <td>-1.611886</td>\n",
              "      <td>4.057329</td>\n",
              "      <td>-0.154143</td>\n",
              "      <td>-0.154143</td>\n",
              "      <td>-0.154143</td>\n",
              "      <td>-0.154143</td>\n",
              "      <td>-0.154143</td>\n",
              "      <td>-0.154143</td>\n",
              "      <td>0.0</td>\n",
              "      <td>0.0</td>\n",
              "      <td>0.0</td>\n",
              "      <td>1.073497</td>\n",
              "    </tr>\n",
              "    <tr>\n",
              "      <th>327</th>\n",
              "      <td>2021-04-30</td>\n",
              "      <td>0.612757</td>\n",
              "      <td>-125.978038</td>\n",
              "      <td>120.357664</td>\n",
              "      <td>-4.807280</td>\n",
              "      <td>5.793617</td>\n",
              "      <td>0.156696</td>\n",
              "      <td>0.156696</td>\n",
              "      <td>0.156696</td>\n",
              "      <td>0.156696</td>\n",
              "      <td>0.156696</td>\n",
              "      <td>0.156696</td>\n",
              "      <td>0.0</td>\n",
              "      <td>0.0</td>\n",
              "      <td>0.0</td>\n",
              "      <td>0.769452</td>\n",
              "    </tr>\n",
              "    <tr>\n",
              "      <th>328</th>\n",
              "      <td>2021-05-31</td>\n",
              "      <td>-0.022623</td>\n",
              "      <td>-119.638334</td>\n",
              "      <td>117.704966</td>\n",
              "      <td>-8.284950</td>\n",
              "      <td>8.472864</td>\n",
              "      <td>0.054769</td>\n",
              "      <td>0.054769</td>\n",
              "      <td>0.054769</td>\n",
              "      <td>0.054769</td>\n",
              "      <td>0.054769</td>\n",
              "      <td>0.054769</td>\n",
              "      <td>0.0</td>\n",
              "      <td>0.0</td>\n",
              "      <td>0.0</td>\n",
              "      <td>0.032145</td>\n",
              "    </tr>\n",
              "    <tr>\n",
              "      <th>329</th>\n",
              "      <td>2021-06-30</td>\n",
              "      <td>-0.637507</td>\n",
              "      <td>-116.543805</td>\n",
              "      <td>120.972401</td>\n",
              "      <td>-12.505074</td>\n",
              "      <td>11.596685</td>\n",
              "      <td>-0.154143</td>\n",
              "      <td>-0.154143</td>\n",
              "      <td>-0.154143</td>\n",
              "      <td>-0.154143</td>\n",
              "      <td>-0.154143</td>\n",
              "      <td>-0.154143</td>\n",
              "      <td>0.0</td>\n",
              "      <td>0.0</td>\n",
              "      <td>0.0</td>\n",
              "      <td>-0.791651</td>\n",
              "    </tr>\n",
              "  </tbody>\n",
              "</table>\n",
              "<p>330 rows × 16 columns</p>\n",
              "</div>"
            ],
            "text/plain": [
              "            ds      trend  ...  multiplicative_terms_upper       yhat\n",
              "0   2020-03-09  69.293084  ...                         0.0  69.347853\n",
              "1   2020-03-13  67.915933  ...                         0.0  68.072629\n",
              "2   2020-03-14  67.571645  ...                         0.0  66.955055\n",
              "3   2020-03-15  67.227357  ...                         0.0  65.844337\n",
              "4   2020-03-16  66.883070  ...                         0.0  66.937838\n",
              "..         ...        ...  ...                         ...        ...\n",
              "325 2021-02-28   1.863021  ...                         0.0   0.480000\n",
              "326 2021-03-31   1.227641  ...                         0.0   1.073497\n",
              "327 2021-04-30   0.612757  ...                         0.0   0.769452\n",
              "328 2021-05-31  -0.022623  ...                         0.0   0.032145\n",
              "329 2021-06-30  -0.637507  ...                         0.0  -0.791651\n",
              "\n",
              "[330 rows x 16 columns]"
            ]
          },
          "metadata": {
            "tags": []
          },
          "execution_count": 30
        }
      ]
    },
    {
      "cell_type": "code",
      "metadata": {
        "colab": {
          "base_uri": "https://localhost:8080/",
          "height": 204
        },
        "id": "u8eq4Dt2ASq_",
        "outputId": "8f0c3352-7081-4bee-f349-ab842af5b0a9"
      },
      "source": [
        "# look at yhat, yhat_lower and yhat_upper\r\n",
        "fcst[['ds', 'yhat', 'yhat_lower', 'yhat_upper']].tail()"
      ],
      "execution_count": 31,
      "outputs": [
        {
          "output_type": "execute_result",
          "data": {
            "text/html": [
              "<div>\n",
              "<style scoped>\n",
              "    .dataframe tbody tr th:only-of-type {\n",
              "        vertical-align: middle;\n",
              "    }\n",
              "\n",
              "    .dataframe tbody tr th {\n",
              "        vertical-align: top;\n",
              "    }\n",
              "\n",
              "    .dataframe thead th {\n",
              "        text-align: right;\n",
              "    }\n",
              "</style>\n",
              "<table border=\"1\" class=\"dataframe\">\n",
              "  <thead>\n",
              "    <tr style=\"text-align: right;\">\n",
              "      <th></th>\n",
              "      <th>ds</th>\n",
              "      <th>yhat</th>\n",
              "      <th>yhat_lower</th>\n",
              "      <th>yhat_upper</th>\n",
              "    </tr>\n",
              "  </thead>\n",
              "  <tbody>\n",
              "    <tr>\n",
              "      <th>325</th>\n",
              "      <td>2021-02-28</td>\n",
              "      <td>0.480000</td>\n",
              "      <td>-113.828077</td>\n",
              "      <td>121.066078</td>\n",
              "    </tr>\n",
              "    <tr>\n",
              "      <th>326</th>\n",
              "      <td>2021-03-31</td>\n",
              "      <td>1.073497</td>\n",
              "      <td>-119.599158</td>\n",
              "      <td>118.836470</td>\n",
              "    </tr>\n",
              "    <tr>\n",
              "      <th>327</th>\n",
              "      <td>2021-04-30</td>\n",
              "      <td>0.769452</td>\n",
              "      <td>-125.978038</td>\n",
              "      <td>120.357664</td>\n",
              "    </tr>\n",
              "    <tr>\n",
              "      <th>328</th>\n",
              "      <td>2021-05-31</td>\n",
              "      <td>0.032145</td>\n",
              "      <td>-119.638334</td>\n",
              "      <td>117.704966</td>\n",
              "    </tr>\n",
              "    <tr>\n",
              "      <th>329</th>\n",
              "      <td>2021-06-30</td>\n",
              "      <td>-0.791651</td>\n",
              "      <td>-116.543805</td>\n",
              "      <td>120.972401</td>\n",
              "    </tr>\n",
              "  </tbody>\n",
              "</table>\n",
              "</div>"
            ],
            "text/plain": [
              "            ds      yhat  yhat_lower  yhat_upper\n",
              "325 2021-02-28  0.480000 -113.828077  121.066078\n",
              "326 2021-03-31  1.073497 -119.599158  118.836470\n",
              "327 2021-04-30  0.769452 -125.978038  120.357664\n",
              "328 2021-05-31  0.032145 -119.638334  117.704966\n",
              "329 2021-06-30 -0.791651 -116.543805  120.972401"
            ]
          },
          "metadata": {
            "tags": []
          },
          "execution_count": 31
        }
      ]
    },
    {
      "cell_type": "markdown",
      "metadata": {
        "id": "EfDo6WE-AZlX"
      },
      "source": [
        "# Plotting Prophet Results\r\n",
        "\r\n",
        "### Prophet has a plotting mechanism called `plot`. This plot functionality draws the original data (black dots), the model (blue line) and the error of the forecast (shaded blue area)."
      ]
    },
    {
      "cell_type": "code",
      "metadata": {
        "colab": {
          "base_uri": "https://localhost:8080/",
          "height": 441
        },
        "id": "0PSogB6D2U5i",
        "outputId": "81b1c457-9dcb-4498-e091-8dc044350068"
      },
      "source": [
        "fig = model.plot(fcst);"
      ],
      "execution_count": 32,
      "outputs": [
        {
          "output_type": "display_data",
          "data": {
            "image/png": "[encoded data removed]",
            "text/plain": [
              "<Figure size 720x432 with 1 Axes>"
            ]
          },
          "metadata": {
            "tags": []
          }
        }
      ]
    },
    {
      "cell_type": "code",
      "metadata": {
        "colab": {
          "base_uri": "https://localhost:8080/",
          "height": 441
        },
        "id": "ILlnbXUlz8bZ",
        "outputId": "7f06be2d-4a07-4f92-960c-0eeb08506cf0"
      },
      "source": [
        "fig = model.plot_components(fcst)"
      ],
      "execution_count": 33,
      "outputs": [
        {
          "output_type": "display_data",
          "data": {
            "image/png": "[encoded data removed]",
            "text/plain": [
              "<Figure size 648x432 with 2 Axes>"
            ]
          },
          "metadata": {
            "tags": []
          }
        }
      ]
    },
    {
      "cell_type": "code",
      "metadata": {
        "colab": {
          "base_uri": "https://localhost:8080/",
          "height": 441
        },
        "id": "PmzIBI0yZfTu",
        "outputId": "3486a4b8-ea65-4615-99b3-356b2dd05ff2"
      },
      "source": [
        "# the vertical lines where the potential changepoints occurred\r\n",
        "fig = model.plot(fcst)\r\n",
        "a = add_changepoints_to_plot(fig.gca(), model, fcst)"
      ],
      "execution_count": 34,
      "outputs": [
        {
          "output_type": "display_data",
          "data": {
            "image/png": "[encoded data removed]",
            "text/plain": [
              "<Figure size 720x432 with 1 Axes>"
            ]
          },
          "metadata": {
            "tags": []
          }
        }
      ]
    },
    {
      "cell_type": "code",
      "metadata": {
        "colab": {
          "base_uri": "https://localhost:8080/",
          "height": 617
        },
        "id": "tqtp7IXtTW32",
        "outputId": "29df6f64-6940-40ce-f178-add70a93fa72"
      },
      "source": [
        "plot_plotly(model, fcst)"
      ],
      "execution_count": 35,
      "outputs": [
        {
          "output_type": "display_data",
          "data": {
            "text/html": [
              "<html>\n",
              "<head><meta charset=\"utf-8\" /></head>\n",
              "<body>\n",
              "    <div>\n",
              "            <script src=\"https://cdnjs.cloudflare.com/ajax/libs/mathjax/2.7.5/MathJax.js?config=TeX-AMS-MML_SVG\"></script><script type=\"text/javascript\">if (window.MathJax) {MathJax.Hub.Config({SVG: {font: \"STIX-Web\"}});}</script>\n",
              "                <script type=\"text/javascript\">window.PlotlyConfig = {MathJaxConfig: 'local'};</script>\n",
              "        <script src=\"https://cdn.plot.ly/plotly-latest.min.js\"></script>    \n",
              "            <div id=\"2846cd49-ea1f-4505-b481-176b25a27a44\" class=\"plotly-graph-div\" style=\"height:600px; width:900px;\"></div>\n",
              "            <script type=\"text/javascript\">\n",
              "                \n",
              "                    window.PLOTLYENV=window.PLOTLYENV || {};\n",
              "                    \n",
              "                if (document.getElementById(\"2846cd49-ea1f-4505-b481-176b25a27a44\")) {\n",
              "                    Plotly.newPlot(\n",
              "                        '2846cd49-ea1f-4505-b481-176b25a27a44',\n",
              "                        [{\"marker\": {\"color\": \"black\", \"size\": 4}, \"mode\": \"markers\", \"name\": \"Actual\", \"type\": \"scatter\", \"x\": [\"2020-03-09T00:00:00\", \"2020-03-13T00:00:00\", \"2020-03-14T00:00:00\", \"2020-03-15T00:00:00\", \"2020-03-16T00:00:00\", \"2020-03-17T00:00:00\", \"2020-03-18T00:00:00\", \"2020-03-19T00:00:00\", \"2020-03-20T00:00:00\", \"2020-03-21T00:00:00\", \"2020-03-22T00:00:00\", \"2020-03-23T00:00:00\", \"2020-03-24T00:00:00\", \"2020-03-25T00:00:00\", \"2020-03-26T00:00:00\", \"2020-03-27T00:00:00\", \"2020-03-28T00:00:00\", \"2020-03-29T00:00:00\", \"2020-03-30T00:00:00\", \"2020-03-30T00:00:00\", \"2020-03-31T00:00:00\", \"2020-04-01T00:00:00\", \"2020-04-02T00:00:00\", \"2020-04-03T00:00:00\", \"2020-04-04T00:00:00\", \"2020-04-04T00:00:00\", \"2020-04-04T00:00:00\", \"2020-04-05T00:00:00\", \"2020-04-05T00:00:00\", \"2020-04-06T00:00:00\", \"2020-04-07T00:00:00\", \"2020-04-08T00:00:00\", \"2020-04-08T00:00:00\", \"2020-04-08T00:00:00\", \"2020-04-09T00:00:00\", \"2020-04-09T00:00:00\", \"2020-04-09T00:00:00\", \"2020-04-10T00:00:00\", \"2020-04-11T00:00:00\", \"2020-04-12T00:00:00\", \"2020-04-12T00:00:00\", \"2020-04-13T00:00:00\", \"2020-04-13T00:00:00\", \"2020-04-14T00:00:00\", \"2020-04-14T00:00:00\", \"2020-04-15T00:00:00\", \"2020-04-15T00:00:00\", \"2020-04-16T00:00:00\", \"2020-04-17T00:00:00\", \"2020-04-18T00:00:00\", \"2020-04-18T00:00:00\", \"2020-04-18T00:00:00\", \"2020-04-19T00:00:00\", \"2020-04-19T00:00:00\", \"2020-04-19T00:00:00\", \"2020-04-20T00:00:00\", \"2020-04-21T00:00:00\", \"2020-04-21T00:00:00\", \"2020-04-22T00:00:00\", \"2020-04-22T00:00:00\", \"2020-04-23T00:00:00\", \"2020-04-23T00:00:00\", \"2020-04-23T00:00:00\", \"2020-04-23T00:00:00\", \"2020-04-23T00:00:00\", \"2020-04-23T00:00:00\", \"2020-04-23T00:00:00\", \"2020-04-24T00:00:00\", \"2020-04-24T00:00:00\", \"2020-04-24T00:00:00\", \"2020-04-24T00:00:00\", \"2020-04-24T00:00:00\", \"2020-04-25T00:00:00\", \"2020-04-25T00:00:00\", \"2020-04-25T00:00:00\", \"2020-04-25T00:00:00\", \"2020-04-26T00:00:00\", \"2020-04-26T00:00:00\", \"2020-04-26T00:00:00\", \"2020-04-26T00:00:00\", \"2020-04-26T00:00:00\", \"2020-04-26T00:00:00\", \"2020-04-27T00:00:00\", \"2020-04-27T00:00:00\", \"2020-04-27T00:00:00\", \"2020-04-27T00:00:00\", \"2020-04-27T00:00:00\", \"2020-04-28T00:00:00\", \"2020-04-28T00:00:00\", \"2020-04-28T00:00:00\", \"2020-04-28T00:00:00\", \"2020-04-28T00:00:00\", \"2020-04-29T00:00:00\", \"2020-04-29T00:00:00\", \"2020-04-29T00:00:00\", \"2020-04-29T00:00:00\", \"2020-04-29T00:00:00\", \"2020-04-30T00:00:00\", \"2020-04-30T00:00:00\", \"2020-04-30T00:00:00\", \"2020-04-30T00:00:00\", \"2020-04-30T00:00:00\", \"2020-04-30T00:00:00\", \"2020-05-01T00:00:00\", \"2020-05-01T00:00:00\", \"2020-05-01T00:00:00\", \"2020-05-02T00:00:00\", \"2020-05-02T00:00:00\", \"2020-05-02T00:00:00\", \"2020-05-02T00:00:00\", \"2020-05-02T00:00:00\", \"2020-05-03T00:00:00\", \"2020-05-03T00:00:00\", \"2020-05-03T00:00:00\", \"2020-05-03T00:00:00\", \"2020-05-03T00:00:00\", \"2020-05-03T00:00:00\", \"2020-05-04T00:00:00\", \"2020-05-04T00:00:00\", \"2020-05-04T00:00:00\", \"2020-05-04T00:00:00\", \"2020-05-04T00:00:00\", \"2020-05-05T00:00:00\", \"2020-05-05T00:00:00\", \"2020-05-05T00:00:00\", \"2020-05-05T00:00:00\", \"2020-05-05T00:00:00\", \"2020-05-06T00:00:00\", \"2020-05-06T00:00:00\", \"2020-05-06T00:00:00\", \"2020-05-06T00:00:00\", \"2020-05-07T00:00:00\", \"2020-05-07T00:00:00\", \"2020-05-07T00:00:00\", \"2020-05-07T00:00:00\", \"2020-05-07T00:00:00\", \"2020-05-07T00:00:00\", \"2020-05-07T00:00:00\", \"2020-05-08T00:00:00\", \"2020-05-08T00:00:00\", \"2020-05-08T00:00:00\", \"2020-05-08T00:00:00\", \"2020-05-09T00:00:00\", \"2020-05-09T00:00:00\", \"2020-05-09T00:00:00\", \"2020-05-09T00:00:00\", \"2020-05-09T00:00:00\", \"2020-05-09T00:00:00\", \"2020-05-09T00:00:00\", \"2020-05-09T00:00:00\", \"2020-05-09T00:00:00\", \"2020-05-10T00:00:00\", \"2020-05-10T00:00:00\", \"2020-05-10T00:00:00\", \"2020-05-10T00:00:00\", \"2020-05-10T00:00:00\", \"2020-05-11T00:00:00\", \"2020-05-11T00:00:00\", \"2020-05-11T00:00:00\", \"2020-05-11T00:00:00\", \"2020-05-11T00:00:00\", \"2020-05-11T00:00:00\", \"2020-05-11T00:00:00\", \"2020-05-11T00:00:00\", \"2020-05-11T00:00:00\", \"2020-05-11T00:00:00\", \"2020-05-11T00:00:00\", \"2020-05-12T00:00:00\", \"2020-05-12T00:00:00\", \"2020-05-12T00:00:00\", \"2020-05-12T00:00:00\", \"2020-05-12T00:00:00\", \"2020-05-12T00:00:00\", \"2020-05-12T00:00:00\", \"2020-05-12T00:00:00\", \"2020-05-12T00:00:00\", \"2020-05-12T00:00:00\", \"2020-05-12T00:00:00\", \"2020-05-12T00:00:00\", \"2020-05-12T00:00:00\", \"2020-05-12T00:00:00\", \"2020-05-13T00:00:00\", \"2020-05-13T00:00:00\", \"2020-05-13T00:00:00\", \"2020-05-13T00:00:00\", \"2020-05-13T00:00:00\", \"2020-05-13T00:00:00\", \"2020-05-13T00:00:00\", \"2020-05-13T00:00:00\", \"2020-05-13T00:00:00\", \"2020-05-13T00:00:00\", \"2020-05-14T00:00:00\", \"2020-05-14T00:00:00\", \"2020-05-14T00:00:00\", \"2020-05-14T00:00:00\", \"2020-05-14T00:00:00\", \"2020-05-14T00:00:00\", \"2020-05-14T00:00:00\", \"2020-05-14T00:00:00\", \"2020-05-14T00:00:00\", \"2020-05-14T00:00:00\", \"2020-05-14T00:00:00\", \"2020-05-14T00:00:00\", \"2020-05-15T00:00:00\", \"2020-05-15T00:00:00\", \"2020-05-15T00:00:00\", \"2020-05-15T00:00:00\", \"2020-05-15T00:00:00\", \"2020-05-15T00:00:00\", \"2020-05-15T00:00:00\", \"2020-05-15T00:00:00\", \"2020-05-15T00:00:00\", \"2020-05-15T00:00:00\", \"2020-05-15T00:00:00\", \"2020-05-15T00:00:00\", \"2020-05-15T00:00:00\", \"2020-05-15T00:00:00\", \"2020-05-15T00:00:00\", \"2020-05-15T00:00:00\", \"2020-05-16T00:00:00\", \"2020-05-16T00:00:00\", \"2020-05-16T00:00:00\", \"2020-05-16T00:00:00\", \"2020-05-16T00:00:00\", \"2020-05-16T00:00:00\", \"2020-05-16T00:00:00\", \"2020-05-16T00:00:00\", \"2020-05-16T00:00:00\", \"2020-05-16T00:00:00\", \"2020-05-16T00:00:00\", \"2020-05-16T00:00:00\", \"2020-05-16T00:00:00\", \"2020-05-16T00:00:00\", \"2020-05-16T00:00:00\", \"2020-05-16T00:00:00\", \"2020-05-16T00:00:00\", \"2020-05-17T00:00:00\", \"2020-05-17T00:00:00\", \"2020-05-17T00:00:00\", \"2020-05-17T00:00:00\", \"2020-05-17T00:00:00\", \"2020-05-17T00:00:00\", \"2020-05-17T00:00:00\", \"2020-05-17T00:00:00\", \"2020-05-17T00:00:00\", \"2020-05-17T00:00:00\", \"2020-05-17T00:00:00\", \"2020-05-17T00:00:00\", \"2020-05-17T00:00:00\", \"2020-05-17T00:00:00\", \"2020-05-17T00:00:00\", \"2020-05-17T00:00:00\", \"2020-05-17T00:00:00\", \"2020-05-17T00:00:00\", \"2020-05-17T00:00:00\", \"2020-05-17T00:00:00\", \"2020-05-18T00:00:00\", \"2020-05-18T00:00:00\", \"2020-05-18T00:00:00\", \"2020-05-18T00:00:00\", \"2020-05-18T00:00:00\", \"2020-05-18T00:00:00\", \"2020-05-18T00:00:00\", \"2020-05-18T00:00:00\", \"2020-05-18T00:00:00\", \"2020-05-18T00:00:00\", \"2020-05-18T00:00:00\", \"2020-05-18T00:00:00\", \"2020-05-18T00:00:00\", \"2020-05-18T00:00:00\", \"2020-05-19T00:00:00\", \"2020-05-19T00:00:00\", \"2020-05-19T00:00:00\", \"2020-05-19T00:00:00\", \"2020-05-19T00:00:00\", \"2020-05-19T00:00:00\", \"2020-05-19T00:00:00\", \"2020-05-19T00:00:00\", \"2020-05-19T00:00:00\", \"2020-05-19T00:00:00\", \"2020-05-19T00:00:00\", \"2020-05-19T00:00:00\", \"2020-05-19T00:00:00\", \"2020-05-19T00:00:00\", \"2020-05-19T00:00:00\", \"2020-05-19T00:00:00\", \"2020-05-20T00:00:00\", \"2020-05-20T00:00:00\", \"2020-05-20T00:00:00\", \"2020-05-20T00:00:00\", \"2020-05-20T00:00:00\", \"2020-05-20T00:00:00\", \"2020-05-20T00:00:00\", \"2020-05-20T00:00:00\", \"2020-05-20T00:00:00\", \"2020-05-20T00:00:00\", \"2020-05-20T00:00:00\", \"2020-05-20T00:00:00\", \"2020-05-20T00:00:00\", \"2020-05-20T00:00:00\", \"2020-05-20T00:00:00\", \"2020-05-20T00:00:00\", \"2020-05-20T00:00:00\", \"2020-05-21T00:00:00\", \"2020-05-21T00:00:00\", \"2020-05-21T00:00:00\", \"2020-05-21T00:00:00\", \"2020-05-21T00:00:00\", \"2020-05-21T00:00:00\", \"2020-05-21T00:00:00\", \"2020-05-21T00:00:00\", \"2020-05-21T00:00:00\", \"2020-05-21T00:00:00\", \"2020-05-21T00:00:00\", \"2020-05-21T00:00:00\", \"2020-05-21T00:00:00\", \"2020-05-21T00:00:00\", \"2020-05-21T00:00:00\", \"2020-05-21T00:00:00\", \"2020-05-21T00:00:00\", \"2020-05-21T00:00:00\", \"2020-05-22T00:00:00\", \"2020-05-22T00:00:00\", \"2020-05-22T00:00:00\", \"2020-05-22T00:00:00\", \"2020-05-22T00:00:00\", \"2020-05-22T00:00:00\", \"2020-05-22T00:00:00\", \"2020-05-22T00:00:00\", \"2020-05-22T00:00:00\", \"2020-05-22T00:00:00\", \"2020-05-22T00:00:00\", \"2020-05-22T00:00:00\", \"2020-05-22T00:00:00\", \"2020-05-22T00:00:00\", \"2020-05-22T00:00:00\", \"2020-05-22T00:00:00\", \"2020-05-23T00:00:00\", \"2020-05-23T00:00:00\", \"2020-05-23T00:00:00\", \"2020-05-23T00:00:00\", \"2020-05-23T00:00:00\", \"2020-05-23T00:00:00\", \"2020-05-23T00:00:00\", \"2020-05-23T00:00:00\", \"2020-05-23T00:00:00\", \"2020-05-23T00:00:00\", \"2020-05-24T00:00:00\", \"2020-05-24T00:00:00\", \"2020-05-24T00:00:00\", \"2020-05-24T00:00:00\", \"2020-05-24T00:00:00\", \"2020-05-24T00:00:00\", \"2020-05-24T00:00:00\", \"2020-05-24T00:00:00\", \"2020-05-24T00:00:00\", \"2020-05-24T00:00:00\", \"2020-05-24T00:00:00\", \"2020-05-24T00:00:00\", \"2020-05-24T00:00:00\", \"2020-05-24T00:00:00\", \"2020-05-24T00:00:00\", \"2020-05-24T00:00:00\", \"2020-05-24T00:00:00\", \"2020-05-24T00:00:00\", \"2020-05-24T00:00:00\", \"2020-05-24T00:00:00\", \"2020-05-25T00:00:00\", \"2020-05-25T00:00:00\", \"2020-05-25T00:00:00\", \"2020-05-25T00:00:00\", \"2020-05-25T00:00:00\", \"2020-05-25T00:00:00\", \"2020-05-25T00:00:00\", \"2020-05-25T00:00:00\", \"2020-05-25T00:00:00\", \"2020-05-25T00:00:00\", \"2020-05-25T00:00:00\", \"2020-05-25T00:00:00\", \"2020-05-25T00:00:00\", \"2020-05-25T00:00:00\", \"2020-05-25T00:00:00\", \"2020-05-25T00:00:00\", \"2020-05-25T00:00:00\", \"2020-05-25T00:00:00\", \"2020-05-25T00:00:00\", \"2020-05-26T00:00:00\", \"2020-05-26T00:00:00\", \"2020-05-26T00:00:00\", \"2020-05-26T00:00:00\", \"2020-05-26T00:00:00\", \"2020-05-26T00:00:00\", \"2020-05-26T00:00:00\", \"2020-05-26T00:00:00\", \"2020-05-26T00:00:00\", \"2020-05-26T00:00:00\", \"2020-05-26T00:00:00\", \"2020-05-26T00:00:00\", \"2020-05-26T00:00:00\", \"2020-05-26T00:00:00\", \"2020-05-26T00:00:00\", \"2020-05-26T00:00:00\", \"2020-05-26T00:00:00\", \"2020-05-27T00:00:00\", \"2020-05-27T00:00:00\", \"2020-05-27T00:00:00\", \"2020-05-27T00:00:00\", \"2020-05-27T00:00:00\", \"2020-05-27T00:00:00\", \"2020-05-27T00:00:00\", \"2020-05-27T00:00:00\", \"2020-05-27T00:00:00\", \"2020-05-27T00:00:00\", \"2020-05-27T00:00:00\", \"2020-05-27T00:00:00\", \"2020-05-27T00:00:00\", \"2020-05-27T00:00:00\", \"2020-05-27T00:00:00\", \"2020-05-27T00:00:00\", \"2020-05-27T00:00:00\", \"2020-05-27T00:00:00\", \"2020-05-27T00:00:00\", \"2020-05-28T00:00:00\", \"2020-05-28T00:00:00\", \"2020-05-28T00:00:00\", \"2020-05-28T00:00:00\", \"2020-05-28T00:00:00\", \"2020-05-28T00:00:00\", \"2020-05-28T00:00:00\", \"2020-05-28T00:00:00\", \"2020-05-28T00:00:00\", \"2020-05-28T00:00:00\", \"2020-05-28T00:00:00\", \"2020-05-28T00:00:00\", \"2020-05-28T00:00:00\", \"2020-05-28T00:00:00\", \"2020-05-28T00:00:00\", \"2020-05-28T00:00:00\", \"2020-05-28T00:00:00\", \"2020-05-28T00:00:00\", \"2020-05-28T00:00:00\", \"2020-05-28T00:00:00\", \"2020-05-29T00:00:00\", \"2020-05-29T00:00:00\", \"2020-05-29T00:00:00\", \"2020-05-29T00:00:00\", \"2020-05-29T00:00:00\", \"2020-05-29T00:00:00\", \"2020-05-29T00:00:00\", \"2020-05-29T00:00:00\", \"2020-05-29T00:00:00\", \"2020-05-29T00:00:00\", \"2020-05-29T00:00:00\", \"2020-05-29T00:00:00\", \"2020-05-29T00:00:00\", \"2020-05-29T00:00:00\", \"2020-05-29T00:00:00\", \"2020-05-29T00:00:00\", \"2020-05-29T00:00:00\", \"2020-05-30T00:00:00\", \"2020-05-30T00:00:00\", \"2020-05-30T00:00:00\", \"2020-05-30T00:00:00\", \"2020-05-30T00:00:00\", \"2020-05-30T00:00:00\", \"2020-05-30T00:00:00\", \"2020-05-30T00:00:00\", \"2020-05-30T00:00:00\", \"2020-05-30T00:00:00\", \"2020-05-30T00:00:00\", \"2020-05-30T00:00:00\", \"2020-05-30T00:00:00\", \"2020-05-30T00:00:00\", \"2020-05-30T00:00:00\", \"2020-05-30T00:00:00\", \"2020-05-30T00:00:00\", \"2020-05-30T00:00:00\", \"2020-05-30T00:00:00\", \"2020-05-30T00:00:00\", \"2020-05-30T00:00:00\", \"2020-05-30T00:00:00\", \"2020-05-31T00:00:00\", \"2020-05-31T00:00:00\", \"2020-05-31T00:00:00\", \"2020-05-31T00:00:00\", \"2020-05-31T00:00:00\", \"2020-05-31T00:00:00\", \"2020-05-31T00:00:00\", \"2020-05-31T00:00:00\", \"2020-05-31T00:00:00\", \"2020-05-31T00:00:00\", \"2020-05-31T00:00:00\", \"2020-05-31T00:00:00\", \"2020-05-31T00:00:00\", \"2020-05-31T00:00:00\", \"2020-05-31T00:00:00\", \"2020-05-31T00:00:00\", \"2020-05-31T00:00:00\", \"2020-05-31T00:00:00\", \"2020-05-31T00:00:00\", \"2020-05-31T00:00:00\", \"2020-05-31T00:00:00\", \"2020-05-31T00:00:00\", \"2020-05-31T00:00:00\", \"2020-05-31T00:00:00\", \"2020-06-01T00:00:00\", \"2020-06-01T00:00:00\", \"2020-06-01T00:00:00\", \"2020-06-01T00:00:00\", \"2020-06-01T00:00:00\", \"2020-06-01T00:00:00\", \"2020-06-01T00:00:00\", \"2020-06-01T00:00:00\", \"2020-06-01T00:00:00\", \"2020-06-01T00:00:00\", \"2020-06-01T00:00:00\", \"2020-06-01T00:00:00\", \"2020-06-02T00:00:00\", \"2020-06-02T00:00:00\", \"2020-06-02T00:00:00\", \"2020-06-02T00:00:00\", \"2020-06-02T00:00:00\", \"2020-06-02T00:00:00\", \"2020-06-02T00:00:00\", \"2020-06-02T00:00:00\", \"2020-06-02T00:00:00\", \"2020-06-02T00:00:00\", \"2020-06-02T00:00:00\", \"2020-06-02T00:00:00\", \"2020-06-02T00:00:00\", \"2020-06-02T00:00:00\", \"2020-06-02T00:00:00\", \"2020-06-03T00:00:00\", \"2020-06-03T00:00:00\", \"2020-06-03T00:00:00\", \"2020-06-03T00:00:00\", \"2020-06-03T00:00:00\", \"2020-06-03T00:00:00\", \"2020-06-03T00:00:00\", \"2020-06-03T00:00:00\", \"2020-06-03T00:00:00\", \"2020-06-03T00:00:00\", \"2020-06-03T00:00:00\", \"2020-06-03T00:00:00\", \"2020-06-03T00:00:00\", \"2020-06-03T00:00:00\", \"2020-06-03T00:00:00\", \"2020-06-03T00:00:00\", \"2020-06-03T00:00:00\", \"2020-06-03T00:00:00\", \"2020-06-03T00:00:00\", \"2020-06-03T00:00:00\", \"2020-06-03T00:00:00\", \"2020-06-03T00:00:00\", \"2020-06-03T00:00:00\", \"2020-06-03T00:00:00\", \"2020-06-03T00:00:00\", \"2020-06-04T00:00:00\", \"2020-06-04T00:00:00\", \"2020-06-04T00:00:00\", \"2020-06-04T00:00:00\", \"2020-06-04T00:00:00\", \"2020-06-04T00:00:00\", \"2020-06-04T00:00:00\", \"2020-06-04T00:00:00\", \"2020-06-04T00:00:00\", \"2020-06-04T00:00:00\", \"2020-06-04T00:00:00\", \"2020-06-04T00:00:00\", \"2020-06-04T00:00:00\", \"2020-06-04T00:00:00\", \"2020-06-04T00:00:00\", \"2020-06-04T00:00:00\", \"2020-06-04T00:00:00\", \"2020-06-04T00:00:00\", \"2020-06-04T00:00:00\", \"2020-06-05T00:00:00\", \"2020-06-05T00:00:00\", \"2020-06-05T00:00:00\", \"2020-06-05T00:00:00\", \"2020-06-05T00:00:00\", \"2020-06-05T00:00:00\", \"2020-06-05T00:00:00\", \"2020-06-05T00:00:00\", \"2020-06-05T00:00:00\", \"2020-06-05T00:00:00\", \"2020-06-05T00:00:00\", \"2020-06-05T00:00:00\", \"2020-06-05T00:00:00\", \"2020-06-05T00:00:00\", \"2020-06-05T00:00:00\", \"2020-06-05T00:00:00\", \"2020-06-05T00:00:00\", \"2020-06-05T00:00:00\", \"2020-06-05T00:00:00\", \"2020-06-05T00:00:00\", \"2020-06-05T00:00:00\", \"2020-06-05T00:00:00\", \"2020-06-05T00:00:00\", \"2020-06-05T00:00:00\", \"2020-06-06T00:00:00\", \"2020-06-06T00:00:00\", \"2020-06-06T00:00:00\", \"2020-06-06T00:00:00\", \"2020-06-06T00:00:00\", \"2020-06-06T00:00:00\", \"2020-06-06T00:00:00\", \"2020-06-06T00:00:00\", \"2020-06-06T00:00:00\", \"2020-06-06T00:00:00\", \"2020-06-06T00:00:00\", \"2020-06-06T00:00:00\", \"2020-06-06T00:00:00\", \"2020-06-06T00:00:00\", \"2020-06-06T00:00:00\", \"2020-06-06T00:00:00\", \"2020-06-06T00:00:00\", \"2020-06-06T00:00:00\", \"2020-06-06T00:00:00\", \"2020-06-06T00:00:00\", \"2020-06-06T00:00:00\", \"2020-06-06T00:00:00\", \"2020-06-07T00:00:00\", \"2020-06-07T00:00:00\", \"2020-06-07T00:00:00\", \"2020-06-07T00:00:00\", \"2020-06-07T00:00:00\", \"2020-06-07T00:00:00\", \"2020-06-07T00:00:00\", \"2020-06-07T00:00:00\", \"2020-06-07T00:00:00\", \"2020-06-07T00:00:00\", \"2020-06-07T00:00:00\", \"2020-06-07T00:00:00\", \"2020-06-07T00:00:00\", \"2020-06-07T00:00:00\", \"2020-06-07T00:00:00\", \"2020-06-08T00:00:00\", \"2020-06-08T00:00:00\", \"2020-06-08T00:00:00\", \"2020-06-08T00:00:00\", \"2020-06-08T00:00:00\", \"2020-06-08T00:00:00\", \"2020-06-08T00:00:00\", \"2020-06-08T00:00:00\", \"2020-06-08T00:00:00\", \"2020-06-08T00:00:00\", \"2020-06-08T00:00:00\", \"2020-06-08T00:00:00\", \"2020-06-08T00:00:00\", \"2020-06-08T00:00:00\", \"2020-06-08T00:00:00\", \"2020-06-08T00:00:00\", \"2020-06-08T00:00:00\", \"2020-06-08T00:00:00\", \"2020-06-08T00:00:00\", \"2020-06-08T00:00:00\", \"2020-06-08T00:00:00\", \"2020-06-08T00:00:00\", \"2020-06-08T00:00:00\", \"2020-06-09T00:00:00\", \"2020-06-09T00:00:00\", \"2020-06-09T00:00:00\", \"2020-06-09T00:00:00\", \"2020-06-09T00:00:00\", \"2020-06-09T00:00:00\", \"2020-06-09T00:00:00\", \"2020-06-09T00:00:00\", \"2020-06-09T00:00:00\", \"2020-06-09T00:00:00\", \"2020-06-09T00:00:00\", \"2020-06-09T00:00:00\", \"2020-06-09T00:00:00\", \"2020-06-09T00:00:00\", \"2020-06-09T00:00:00\", \"2020-06-09T00:00:00\", \"2020-06-09T00:00:00\", \"2020-06-09T00:00:00\", \"2020-06-09T00:00:00\", \"2020-06-09T00:00:00\", \"2020-06-09T00:00:00\", \"2020-06-09T00:00:00\", \"2020-06-09T00:00:00\", \"2020-06-10T00:00:00\", \"2020-06-10T00:00:00\", \"2020-06-10T00:00:00\", \"2020-06-10T00:00:00\", \"2020-06-10T00:00:00\", \"2020-06-10T00:00:00\", \"2020-06-10T00:00:00\", \"2020-06-10T00:00:00\", \"2020-06-10T00:00:00\", \"2020-06-10T00:00:00\", \"2020-06-10T00:00:00\", \"2020-06-10T00:00:00\", \"2020-06-10T00:00:00\", \"2020-06-10T00:00:00\", \"2020-06-10T00:00:00\", \"2020-06-10T00:00:00\", \"2020-06-10T00:00:00\", \"2020-06-10T00:00:00\", \"2020-06-10T00:00:00\", \"2020-06-10T00:00:00\", \"2020-06-10T00:00:00\", \"2020-06-10T00:00:00\", \"2020-06-10T00:00:00\", \"2020-06-10T00:00:00\", \"2020-06-10T00:00:00\", \"2020-06-10T00:00:00\", \"2020-06-10T00:00:00\", \"2020-06-10T00:00:00\", \"2020-06-10T00:00:00\", \"2020-06-10T00:00:00\", \"2020-06-11T00:00:00\", \"2020-06-11T00:00:00\", \"2020-06-11T00:00:00\", \"2020-06-11T00:00:00\", \"2020-06-11T00:00:00\", \"2020-06-11T00:00:00\", \"2020-06-11T00:00:00\", \"2020-06-11T00:00:00\", \"2020-06-11T00:00:00\", \"2020-06-11T00:00:00\", \"2020-06-11T00:00:00\", \"2020-06-11T00:00:00\", \"2020-06-11T00:00:00\", \"2020-06-11T00:00:00\", \"2020-06-11T00:00:00\", \"2020-06-11T00:00:00\", \"2020-06-11T00:00:00\", \"2020-06-11T00:00:00\", \"2020-06-11T00:00:00\", \"2020-06-11T00:00:00\", \"2020-06-11T00:00:00\", \"2020-06-11T00:00:00\", \"2020-06-11T00:00:00\", \"2020-06-11T00:00:00\", \"2020-06-11T00:00:00\", \"2020-06-11T00:00:00\", \"2020-06-11T00:00:00\", \"2020-06-11T00:00:00\", \"2020-06-11T00:00:00\", \"2020-06-12T00:00:00\", \"2020-06-12T00:00:00\", \"2020-06-12T00:00:00\", \"2020-06-12T00:00:00\", \"2020-06-12T00:00:00\", \"2020-06-12T00:00:00\", \"2020-06-12T00:00:00\", \"2020-06-12T00:00:00\", \"2020-06-12T00:00:00\", \"2020-06-12T00:00:00\", \"2020-06-12T00:00:00\", \"2020-06-12T00:00:00\", \"2020-06-12T00:00:00\", \"2020-06-12T00:00:00\", \"2020-06-12T00:00:00\", \"2020-06-12T00:00:00\", \"2020-06-12T00:00:00\", \"2020-06-12T00:00:00\", \"2020-06-12T00:00:00\", \"2020-06-12T00:00:00\", \"2020-06-12T00:00:00\", \"2020-06-13T00:00:00\", \"2020-06-13T00:00:00\", \"2020-06-13T00:00:00\", \"2020-06-13T00:00:00\", \"2020-06-13T00:00:00\", \"2020-06-13T00:00:00\", \"2020-06-13T00:00:00\", \"2020-06-13T00:00:00\", \"2020-06-13T00:00:00\", \"2020-06-13T00:00:00\", \"2020-06-13T00:00:00\", \"2020-06-13T00:00:00\", \"2020-06-13T00:00:00\", \"2020-06-13T00:00:00\", \"2020-06-13T00:00:00\", \"2020-06-13T00:00:00\", \"2020-06-13T00:00:00\", \"2020-06-13T00:00:00\", \"2020-06-13T00:00:00\", \"2020-06-13T00:00:00\", \"2020-06-13T00:00:00\", \"2020-06-13T00:00:00\", \"2020-06-13T00:00:00\", \"2020-06-13T00:00:00\", \"2020-06-13T00:00:00\", \"2020-06-13T00:00:00\", \"2020-06-13T00:00:00\", \"2020-06-13T00:00:00\", \"2020-06-13T00:00:00\", \"2020-06-14T00:00:00\", \"2020-06-14T00:00:00\", \"2020-06-14T00:00:00\", \"2020-06-14T00:00:00\", \"2020-06-14T00:00:00\", \"2020-06-14T00:00:00\", \"2020-06-14T00:00:00\", \"2020-06-14T00:00:00\", \"2020-06-14T00:00:00\", \"2020-06-14T00:00:00\", \"2020-06-14T00:00:00\", \"2020-06-14T00:00:00\", \"2020-06-14T00:00:00\", \"2020-06-14T00:00:00\", \"2020-06-14T00:00:00\", \"2020-06-14T00:00:00\", \"2020-06-14T00:00:00\", \"2020-06-14T00:00:00\", \"2020-06-14T00:00:00\", \"2020-06-14T00:00:00\", \"2020-06-14T00:00:00\", \"2020-06-14T00:00:00\", \"2020-06-14T00:00:00\", \"2020-06-14T00:00:00\", \"2020-06-14T00:00:00\", \"2020-06-14T00:00:00\", \"2020-06-14T00:00:00\", \"2020-06-14T00:00:00\", \"2020-06-14T00:00:00\", \"2020-06-14T00:00:00\", \"2020-06-15T00:00:00\", \"2020-06-15T00:00:00\", \"2020-06-15T00:00:00\", \"2020-06-15T00:00:00\", \"2020-06-15T00:00:00\", \"2020-06-15T00:00:00\", \"2020-06-15T00:00:00\", \"2020-06-15T00:00:00\", \"2020-06-15T00:00:00\", \"2020-06-15T00:00:00\", \"2020-06-15T00:00:00\", \"2020-06-15T00:00:00\", \"2020-06-15T00:00:00\", \"2020-06-15T00:00:00\", \"2020-06-15T00:00:00\", \"2020-06-15T00:00:00\", \"2020-06-15T00:00:00\", \"2020-06-15T00:00:00\", \"2020-06-15T00:00:00\", \"2020-06-15T00:00:00\", \"2020-06-15T00:00:00\", \"2020-06-15T00:00:00\", \"2020-06-16T00:00:00\", \"2020-06-16T00:00:00\", \"2020-06-16T00:00:00\", \"2020-06-16T00:00:00\", \"2020-06-16T00:00:00\", \"2020-06-16T00:00:00\", \"2020-06-16T00:00:00\", \"2020-06-16T00:00:00\", \"2020-06-16T00:00:00\", \"2020-06-16T00:00:00\", \"2020-06-16T00:00:00\", \"2020-06-16T00:00:00\", \"2020-06-16T00:00:00\", \"2020-06-16T00:00:00\", \"2020-06-16T00:00:00\", \"2020-06-16T00:00:00\", \"2020-06-16T00:00:00\", \"2020-06-16T00:00:00\", \"2020-06-16T00:00:00\", \"2020-06-16T00:00:00\", \"2020-06-16T00:00:00\", \"2020-06-16T00:00:00\", \"2020-06-16T00:00:00\", \"2020-06-16T00:00:00\", \"2020-06-16T00:00:00\", \"2020-06-17T00:00:00\", \"2020-06-17T00:00:00\", \"2020-06-17T00:00:00\", \"2020-06-17T00:00:00\", \"2020-06-17T00:00:00\", \"2020-06-17T00:00:00\", \"2020-06-17T00:00:00\", \"2020-06-17T00:00:00\", \"2020-06-17T00:00:00\", \"2020-06-17T00:00:00\", \"2020-06-17T00:00:00\", \"2020-06-17T00:00:00\", \"2020-06-17T00:00:00\", \"2020-06-17T00:00:00\", \"2020-06-17T00:00:00\", \"2020-06-17T00:00:00\", \"2020-06-17T00:00:00\", \"2020-06-17T00:00:00\", \"2020-06-17T00:00:00\", \"2020-06-17T00:00:00\", \"2020-06-17T00:00:00\", \"2020-06-17T00:00:00\", \"2020-06-17T00:00:00\", \"2020-06-17T00:00:00\", \"2020-06-17T00:00:00\", \"2020-06-17T00:00:00\", \"2020-06-17T00:00:00\", \"2020-06-18T00:00:00\", \"2020-06-18T00:00:00\", \"2020-06-18T00:00:00\", \"2020-06-18T00:00:00\", \"2020-06-18T00:00:00\", \"2020-06-18T00:00:00\", \"2020-06-18T00:00:00\", \"2020-06-18T00:00:00\", \"2020-06-18T00:00:00\", \"2020-06-18T00:00:00\", \"2020-06-18T00:00:00\", \"2020-06-18T00:00:00\", \"2020-06-18T00:00:00\", \"2020-06-18T00:00:00\", \"2020-06-18T00:00:00\", \"2020-06-18T00:00:00\", \"2020-06-18T00:00:00\", \"2020-06-18T00:00:00\", \"2020-06-18T00:00:00\", \"2020-06-18T00:00:00\", \"2020-06-18T00:00:00\", \"2020-06-18T00:00:00\", \"2020-06-18T00:00:00\", \"2020-06-18T00:00:00\", \"2020-06-18T00:00:00\", \"2020-06-18T00:00:00\", \"2020-06-18T00:00:00\", \"2020-06-18T00:00:00\", \"2020-06-18T00:00:00\", \"2020-06-19T00:00:00\", \"2020-06-19T00:00:00\", \"2020-06-19T00:00:00\", \"2020-06-19T00:00:00\", \"2020-06-19T00:00:00\", \"2020-06-19T00:00:00\", \"2020-06-19T00:00:00\", \"2020-06-19T00:00:00\", \"2020-06-19T00:00:00\", \"2020-06-19T00:00:00\", \"2020-06-19T00:00:00\", \"2020-06-19T00:00:00\", \"2020-06-19T00:00:00\", \"2020-06-19T00:00:00\", \"2020-06-19T00:00:00\", \"2020-06-19T00:00:00\", \"2020-06-19T00:00:00\", \"2020-06-19T00:00:00\", \"2020-06-19T00:00:00\", \"2020-06-19T00:00:00\", \"2020-06-19T00:00:00\", \"2020-06-19T00:00:00\", \"2020-06-19T00:00:00\", \"2020-06-19T00:00:00\", \"2020-06-19T00:00:00\", \"2020-06-20T00:00:00\", \"2020-06-20T00:00:00\", \"2020-06-20T00:00:00\", \"2020-06-20T00:00:00\", \"2020-06-20T00:00:00\", \"2020-06-20T00:00:00\", \"2020-06-20T00:00:00\", \"2020-06-20T00:00:00\", \"2020-06-20T00:00:00\", \"2020-06-20T00:00:00\", \"2020-06-20T00:00:00\", \"2020-06-20T00:00:00\", \"2020-06-20T00:00:00\", \"2020-06-20T00:00:00\", \"2020-06-20T00:00:00\", \"2020-06-20T00:00:00\", \"2020-06-20T00:00:00\", \"2020-06-20T00:00:00\", \"2020-06-20T00:00:00\", \"2020-06-20T00:00:00\", \"2020-06-20T00:00:00\", \"2020-06-20T00:00:00\", \"2020-06-20T00:00:00\", \"2020-06-20T00:00:00\", \"2020-06-20T00:00:00\", \"2020-06-20T00:00:00\", \"2020-06-20T00:00:00\", \"2020-06-21T00:00:00\", \"2020-06-21T00:00:00\", \"2020-06-21T00:00:00\", \"2020-06-21T00:00:00\", \"2020-06-21T00:00:00\", \"2020-06-21T00:00:00\", \"2020-06-21T00:00:00\", \"2020-06-21T00:00:00\", \"2020-06-21T00:00:00\", \"2020-06-21T00:00:00\", \"2020-06-21T00:00:00\", \"2020-06-21T00:00:00\", \"2020-06-21T00:00:00\", \"2020-06-21T00:00:00\", \"2020-06-21T00:00:00\", \"2020-06-21T00:00:00\", \"2020-06-21T00:00:00\", \"2020-06-21T00:00:00\", \"2020-06-21T00:00:00\", \"2020-06-21T00:00:00\", \"2020-06-21T00:00:00\", \"2020-06-21T00:00:00\", \"2020-06-21T00:00:00\", \"2020-06-21T00:00:00\", \"2020-06-21T00:00:00\", \"2020-06-21T00:00:00\", \"2020-06-21T00:00:00\", \"2020-06-22T00:00:00\", \"2020-06-22T00:00:00\", \"2020-06-22T00:00:00\", \"2020-06-22T00:00:00\", \"2020-06-22T00:00:00\", \"2020-06-22T00:00:00\", \"2020-06-22T00:00:00\", \"2020-06-22T00:00:00\", \"2020-06-22T00:00:00\", \"2020-06-22T00:00:00\", \"2020-06-22T00:00:00\", \"2020-06-22T00:00:00\", \"2020-06-22T00:00:00\", \"2020-06-22T00:00:00\", \"2020-06-22T00:00:00\", \"2020-06-22T00:00:00\", \"2020-06-22T00:00:00\", \"2020-06-22T00:00:00\", \"2020-06-22T00:00:00\", \"2020-06-22T00:00:00\", \"2020-06-22T00:00:00\", \"2020-06-22T00:00:00\", \"2020-06-22T00:00:00\", \"2020-06-22T00:00:00\", \"2020-06-22T00:00:00\", \"2020-06-22T00:00:00\", \"2020-06-22T00:00:00\", \"2020-06-22T00:00:00\", \"2020-06-22T00:00:00\", \"2020-06-22T00:00:00\", \"2020-06-23T00:00:00\", \"2020-06-23T00:00:00\", \"2020-06-23T00:00:00\", \"2020-06-23T00:00:00\", \"2020-06-23T00:00:00\", \"2020-06-23T00:00:00\", \"2020-06-23T00:00:00\", \"2020-06-23T00:00:00\", \"2020-06-23T00:00:00\", \"2020-06-23T00:00:00\", \"2020-06-23T00:00:00\", \"2020-06-23T00:00:00\", \"2020-06-23T00:00:00\", \"2020-06-23T00:00:00\", \"2020-06-23T00:00:00\", \"2020-06-23T00:00:00\", \"2020-06-23T00:00:00\", \"2020-06-23T00:00:00\", \"2020-06-23T00:00:00\", \"2020-06-23T00:00:00\", \"2020-06-23T00:00:00\", \"2020-06-23T00:00:00\", \"2020-06-23T00:00:00\", \"2020-06-24T00:00:00\", \"2020-06-24T00:00:00\", \"2020-06-24T00:00:00\", \"2020-06-24T00:00:00\", \"2020-06-24T00:00:00\", \"2020-06-24T00:00:00\", \"2020-06-24T00:00:00\", \"2020-06-24T00:00:00\", \"2020-06-24T00:00:00\", \"2020-06-24T00:00:00\", \"2020-06-24T00:00:00\", \"2020-06-24T00:00:00\", \"2020-06-24T00:00:00\", \"2020-06-24T00:00:00\", \"2020-06-24T00:00:00\", \"2020-06-24T00:00:00\", \"2020-06-24T00:00:00\", \"2020-06-24T00:00:00\", \"2020-06-24T00:00:00\", \"2020-06-24T00:00:00\", \"2020-06-24T00:00:00\", \"2020-06-24T00:00:00\", \"2020-06-24T00:00:00\", \"2020-06-24T00:00:00\", \"2020-06-24T00:00:00\", \"2020-06-24T00:00:00\", \"2020-06-24T00:00:00\", \"2020-06-24T00:00:00\", \"2020-06-24T00:00:00\", \"2020-06-25T00:00:00\", \"2020-06-25T00:00:00\", \"2020-06-25T00:00:00\", \"2020-06-25T00:00:00\", \"2020-06-25T00:00:00\", \"2020-06-25T00:00:00\", \"2020-06-25T00:00:00\", \"2020-06-25T00:00:00\", \"2020-06-25T00:00:00\", \"2020-06-25T00:00:00\", \"2020-06-25T00:00:00\", \"2020-06-25T00:00:00\", \"2020-06-25T00:00:00\", \"2020-06-25T00:00:00\", \"2020-06-25T00:00:00\", \"2020-06-25T00:00:00\", \"2020-06-25T00:00:00\", \"2020-06-25T00:00:00\", \"2020-06-25T00:00:00\", \"2020-06-25T00:00:00\", \"2020-06-25T00:00:00\", \"2020-06-25T00:00:00\", \"2020-06-25T00:00:00\", \"2020-06-25T00:00:00\", \"2020-06-25T00:00:00\", \"2020-06-25T00:00:00\", \"2020-06-25T00:00:00\", \"2020-06-26T00:00:00\", \"2020-06-26T00:00:00\", \"2020-06-26T00:00:00\", \"2020-06-26T00:00:00\", \"2020-06-26T00:00:00\", \"2020-06-26T00:00:00\", \"2020-06-26T00:00:00\", \"2020-06-26T00:00:00\", \"2020-06-26T00:00:00\", \"2020-06-26T00:00:00\", \"2020-06-26T00:00:00\", \"2020-06-26T00:00:00\", \"2020-06-26T00:00:00\", \"2020-06-26T00:00:00\", \"2020-06-26T00:00:00\", \"2020-06-26T00:00:00\", \"2020-06-26T00:00:00\", \"2020-06-26T00:00:00\", \"2020-06-26T00:00:00\", \"2020-06-26T00:00:00\", \"2020-06-26T00:00:00\", \"2020-06-26T00:00:00\", \"2020-06-26T00:00:00\", \"2020-06-26T00:00:00\", \"2020-06-27T00:00:00\", \"2020-06-27T00:00:00\", \"2020-06-27T00:00:00\", \"2020-06-27T00:00:00\", \"2020-06-27T00:00:00\", \"2020-06-27T00:00:00\", \"2020-06-27T00:00:00\", \"2020-06-27T00:00:00\", \"2020-06-27T00:00:00\", \"2020-06-27T00:00:00\", \"2020-06-27T00:00:00\", \"2020-06-27T00:00:00\", \"2020-06-27T00:00:00\", \"2020-06-27T00:00:00\", \"2020-06-27T00:00:00\", \"2020-06-27T00:00:00\", \"2020-06-27T00:00:00\", \"2020-06-27T00:00:00\", \"2020-06-27T00:00:00\", \"2020-06-27T00:00:00\", \"2020-06-27T00:00:00\", \"2020-06-28T00:00:00\", \"2020-06-28T00:00:00\", \"2020-06-28T00:00:00\", \"2020-06-28T00:00:00\", \"2020-06-28T00:00:00\", \"2020-06-28T00:00:00\", \"2020-06-28T00:00:00\", \"2020-06-28T00:00:00\", \"2020-06-28T00:00:00\", \"2020-06-28T00:00:00\", \"2020-06-28T00:00:00\", \"2020-06-28T00:00:00\", \"2020-06-28T00:00:00\", \"2020-06-28T00:00:00\", \"2020-06-28T00:00:00\", \"2020-06-28T00:00:00\", \"2020-06-28T00:00:00\", \"2020-06-28T00:00:00\", \"2020-06-28T00:00:00\", \"2020-06-28T00:00:00\", \"2020-06-28T00:00:00\", \"2020-06-28T00:00:00\", \"2020-06-29T00:00:00\", \"2020-06-29T00:00:00\", \"2020-06-29T00:00:00\", \"2020-06-29T00:00:00\", \"2020-06-29T00:00:00\", \"2020-06-29T00:00:00\", \"2020-06-29T00:00:00\", \"2020-06-29T00:00:00\", \"2020-06-29T00:00:00\", \"2020-06-29T00:00:00\", \"2020-06-29T00:00:00\", \"2020-06-29T00:00:00\", \"2020-06-29T00:00:00\", \"2020-06-29T00:00:00\", \"2020-06-29T00:00:00\", \"2020-06-29T00:00:00\", \"2020-06-29T00:00:00\", \"2020-06-29T00:00:00\", \"2020-06-29T00:00:00\", \"2020-06-29T00:00:00\", \"2020-06-29T00:00:00\", \"2020-06-29T00:00:00\", \"2020-06-29T00:00:00\", \"2020-06-29T00:00:00\", \"2020-06-29T00:00:00\", \"2020-06-29T00:00:00\", \"2020-06-30T00:00:00\", \"2020-06-30T00:00:00\", \"2020-06-30T00:00:00\", \"2020-06-30T00:00:00\", \"2020-06-30T00:00:00\", \"2020-06-30T00:00:00\", \"2020-06-30T00:00:00\", \"2020-06-30T00:00:00\", \"2020-06-30T00:00:00\", \"2020-06-30T00:00:00\", \"2020-06-30T00:00:00\", \"2020-06-30T00:00:00\", \"2020-06-30T00:00:00\", \"2020-06-30T00:00:00\", \"2020-06-30T00:00:00\", \"2020-06-30T00:00:00\", \"2020-06-30T00:00:00\", \"2020-06-30T00:00:00\", \"2020-06-30T00:00:00\", \"2020-06-30T00:00:00\", \"2020-07-01T00:00:00\", \"2020-07-01T00:00:00\", \"2020-07-01T00:00:00\", \"2020-07-01T00:00:00\", \"2020-07-01T00:00:00\", \"2020-07-01T00:00:00\", \"2020-07-01T00:00:00\", \"2020-07-01T00:00:00\", \"2020-07-01T00:00:00\", \"2020-07-01T00:00:00\", \"2020-07-01T00:00:00\", \"2020-07-01T00:00:00\", \"2020-07-01T00:00:00\", \"2020-07-01T00:00:00\", \"2020-07-01T00:00:00\", \"2020-07-01T00:00:00\", \"2020-07-01T00:00:00\", \"2020-07-01T00:00:00\", \"2020-07-01T00:00:00\", \"2020-07-01T00:00:00\", \"2020-07-01T00:00:00\", \"2020-07-01T00:00:00\", \"2020-07-01T00:00:00\", \"2020-07-01T00:00:00\", \"2020-07-01T00:00:00\", \"2020-07-01T00:00:00\", \"2020-07-01T00:00:00\", \"2020-07-01T00:00:00\", \"2020-07-02T00:00:00\", \"2020-07-02T00:00:00\", \"2020-07-02T00:00:00\", \"2020-07-02T00:00:00\", \"2020-07-02T00:00:00\", \"2020-07-02T00:00:00\", \"2020-07-02T00:00:00\", \"2020-07-02T00:00:00\", \"2020-07-02T00:00:00\", \"2020-07-02T00:00:00\", \"2020-07-02T00:00:00\", \"2020-07-02T00:00:00\", \"2020-07-02T00:00:00\", \"2020-07-02T00:00:00\", \"2020-07-02T00:00:00\", \"2020-07-02T00:00:00\", \"2020-07-02T00:00:00\", \"2020-07-02T00:00:00\", \"2020-07-02T00:00:00\", \"2020-07-02T00:00:00\", \"2020-07-02T00:00:00\", \"2020-07-02T00:00:00\", \"2020-07-03T00:00:00\", \"2020-07-03T00:00:00\", \"2020-07-03T00:00:00\", \"2020-07-03T00:00:00\", \"2020-07-03T00:00:00\", \"2020-07-03T00:00:00\", \"2020-07-03T00:00:00\", \"2020-07-03T00:00:00\", \"2020-07-03T00:00:00\", \"2020-07-03T00:00:00\", \"2020-07-03T00:00:00\", \"2020-07-03T00:00:00\", \"2020-07-03T00:00:00\", \"2020-07-03T00:00:00\", \"2020-07-03T00:00:00\", \"2020-07-03T00:00:00\", \"2020-07-03T00:00:00\", \"2020-07-03T00:00:00\", \"2020-07-03T00:00:00\", \"2020-07-03T00:00:00\", \"2020-07-03T00:00:00\", \"2020-07-03T00:00:00\", \"2020-07-03T00:00:00\", \"2020-07-03T00:00:00\", \"2020-07-03T00:00:00\", \"2020-07-03T00:00:00\", \"2020-07-03T00:00:00\", \"2020-07-04T00:00:00\", \"2020-07-04T00:00:00\", \"2020-07-04T00:00:00\", \"2020-07-04T00:00:00\", \"2020-07-04T00:00:00\", \"2020-07-04T00:00:00\", \"2020-07-04T00:00:00\", \"2020-07-04T00:00:00\", \"2020-07-04T00:00:00\", \"2020-07-04T00:00:00\", \"2020-07-04T00:00:00\", \"2020-07-04T00:00:00\", \"2020-07-04T00:00:00\", \"2020-07-04T00:00:00\", \"2020-07-04T00:00:00\", \"2020-07-04T00:00:00\", \"2020-07-04T00:00:00\", \"2020-07-04T00:00:00\", \"2020-07-04T00:00:00\", \"2020-07-04T00:00:00\", \"2020-07-04T00:00:00\", \"2020-07-04T00:00:00\", \"2020-07-04T00:00:00\", \"2020-07-05T00:00:00\", \"2020-07-05T00:00:00\", \"2020-07-05T00:00:00\", \"2020-07-05T00:00:00\", \"2020-07-05T00:00:00\", \"2020-07-05T00:00:00\", \"2020-07-05T00:00:00\", \"2020-07-05T00:00:00\", \"2020-07-05T00:00:00\", \"2020-07-05T00:00:00\", \"2020-07-05T00:00:00\", \"2020-07-05T00:00:00\", \"2020-07-05T00:00:00\", \"2020-07-05T00:00:00\", \"2020-07-05T00:00:00\", \"2020-07-05T00:00:00\", \"2020-07-05T00:00:00\", \"2020-07-05T00:00:00\", \"2020-07-05T00:00:00\", \"2020-07-05T00:00:00\", \"2020-07-05T00:00:00\", \"2020-07-05T00:00:00\", \"2020-07-05T00:00:00\", \"2020-07-05T00:00:00\", \"2020-07-05T00:00:00\", \"2020-07-05T00:00:00\", \"2020-07-05T00:00:00\", \"2020-07-06T00:00:00\", \"2020-07-06T00:00:00\", \"2020-07-06T00:00:00\", \"2020-07-06T00:00:00\", \"2020-07-06T00:00:00\", \"2020-07-06T00:00:00\", \"2020-07-06T00:00:00\", \"2020-07-06T00:00:00\", \"2020-07-06T00:00:00\", \"2020-07-06T00:00:00\", \"2020-07-06T00:00:00\", \"2020-07-06T00:00:00\", \"2020-07-06T00:00:00\", \"2020-07-06T00:00:00\", \"2020-07-06T00:00:00\", \"2020-07-06T00:00:00\", \"2020-07-06T00:00:00\", \"2020-07-06T00:00:00\", \"2020-07-06T00:00:00\", \"2020-07-06T00:00:00\", \"2020-07-06T00:00:00\", \"2020-07-06T00:00:00\", \"2020-07-06T00:00:00\", \"2020-07-06T00:00:00\", \"2020-07-06T00:00:00\", \"2020-07-06T00:00:00\", \"2020-07-06T00:00:00\", \"2020-07-06T00:00:00\", \"2020-07-07T00:00:00\", \"2020-07-07T00:00:00\", \"2020-07-07T00:00:00\", \"2020-07-07T00:00:00\", \"2020-07-07T00:00:00\", \"2020-07-07T00:00:00\", \"2020-07-07T00:00:00\", \"2020-07-07T00:00:00\", \"2020-07-07T00:00:00\", \"2020-07-07T00:00:00\", \"2020-07-07T00:00:00\", \"2020-07-07T00:00:00\", \"2020-07-07T00:00:00\", \"2020-07-07T00:00:00\", \"2020-07-07T00:00:00\", \"2020-07-07T00:00:00\", \"2020-07-07T00:00:00\", \"2020-07-07T00:00:00\", \"2020-07-07T00:00:00\", \"2020-07-07T00:00:00\", \"2020-07-07T00:00:00\", \"2020-07-07T00:00:00\", \"2020-07-07T00:00:00\", \"2020-07-07T00:00:00\", \"2020-07-08T00:00:00\", \"2020-07-08T00:00:00\", \"2020-07-08T00:00:00\", \"2020-07-08T00:00:00\", \"2020-07-08T00:00:00\", \"2020-07-08T00:00:00\", \"2020-07-08T00:00:00\", \"2020-07-08T00:00:00\", \"2020-07-08T00:00:00\", \"2020-07-08T00:00:00\", \"2020-07-08T00:00:00\", \"2020-07-08T00:00:00\", \"2020-07-08T00:00:00\", \"2020-07-08T00:00:00\", \"2020-07-08T00:00:00\", \"2020-07-08T00:00:00\", \"2020-07-08T00:00:00\", \"2020-07-08T00:00:00\", \"2020-07-08T00:00:00\", \"2020-07-08T00:00:00\", \"2020-07-08T00:00:00\", \"2020-07-08T00:00:00\", \"2020-07-08T00:00:00\", \"2020-07-08T00:00:00\", \"2020-07-08T00:00:00\", \"2020-07-09T00:00:00\", \"2020-07-09T00:00:00\", \"2020-07-09T00:00:00\", \"2020-07-09T00:00:00\", \"2020-07-09T00:00:00\", \"2020-07-09T00:00:00\", \"2020-07-09T00:00:00\", \"2020-07-09T00:00:00\", \"2020-07-09T00:00:00\", \"2020-07-09T00:00:00\", \"2020-07-09T00:00:00\", \"2020-07-09T00:00:00\", \"2020-07-09T00:00:00\", \"2020-07-09T00:00:00\", \"2020-07-09T00:00:00\", \"2020-07-09T00:00:00\", \"2020-07-09T00:00:00\", \"2020-07-09T00:00:00\", \"2020-07-09T00:00:00\", \"2020-07-09T00:00:00\", \"2020-07-09T00:00:00\", \"2020-07-09T00:00:00\", \"2020-07-09T00:00:00\", \"2020-07-09T00:00:00\", \"2020-07-09T00:00:00\", \"2020-07-09T00:00:00\", \"2020-07-09T00:00:00\", \"2020-07-09T00:00:00\", \"2020-07-10T00:00:00\", \"2020-07-10T00:00:00\", \"2020-07-10T00:00:00\", \"2020-07-10T00:00:00\", \"2020-07-10T00:00:00\", \"2020-07-10T00:00:00\", \"2020-07-10T00:00:00\", \"2020-07-10T00:00:00\", \"2020-07-10T00:00:00\", \"2020-07-10T00:00:00\", \"2020-07-10T00:00:00\", \"2020-07-10T00:00:00\", \"2020-07-10T00:00:00\", \"2020-07-10T00:00:00\", \"2020-07-10T00:00:00\", \"2020-07-10T00:00:00\", \"2020-07-10T00:00:00\", \"2020-07-10T00:00:00\", \"2020-07-10T00:00:00\", \"2020-07-10T00:00:00\", \"2020-07-10T00:00:00\", \"2020-07-10T00:00:00\", \"2020-07-10T00:00:00\", \"2020-07-10T00:00:00\", \"2020-07-10T00:00:00\", \"2020-07-10T00:00:00\", \"2020-07-10T00:00:00\", \"2020-07-11T00:00:00\", \"2020-07-11T00:00:00\", \"2020-07-11T00:00:00\", \"2020-07-11T00:00:00\", \"2020-07-11T00:00:00\", \"2020-07-11T00:00:00\", \"2020-07-11T00:00:00\", \"2020-07-11T00:00:00\", \"2020-07-11T00:00:00\", \"2020-07-11T00:00:00\", \"2020-07-11T00:00:00\", \"2020-07-11T00:00:00\", \"2020-07-11T00:00:00\", \"2020-07-11T00:00:00\", \"2020-07-11T00:00:00\", \"2020-07-11T00:00:00\", \"2020-07-11T00:00:00\", \"2020-07-11T00:00:00\", \"2020-07-11T00:00:00\", \"2020-07-11T00:00:00\", \"2020-07-11T00:00:00\", \"2020-07-11T00:00:00\", \"2020-07-11T00:00:00\", \"2020-07-11T00:00:00\", \"2020-07-11T00:00:00\", \"2020-07-12T00:00:00\", \"2020-07-12T00:00:00\", \"2020-07-12T00:00:00\", \"2020-07-12T00:00:00\", \"2020-07-12T00:00:00\", \"2020-07-12T00:00:00\", \"2020-07-12T00:00:00\", \"2020-07-12T00:00:00\", \"2020-07-12T00:00:00\", \"2020-07-12T00:00:00\", \"2020-07-12T00:00:00\", \"2020-07-12T00:00:00\", \"2020-07-12T00:00:00\", \"2020-07-12T00:00:00\", \"2020-07-12T00:00:00\", \"2020-07-12T00:00:00\", \"2020-07-12T00:00:00\", \"2020-07-12T00:00:00\", \"2020-07-12T00:00:00\", \"2020-07-12T00:00:00\", \"2020-07-12T00:00:00\", \"2020-07-12T00:00:00\", \"2020-07-13T00:00:00\", \"2020-07-13T00:00:00\", \"2020-07-13T00:00:00\", \"2020-07-13T00:00:00\", \"2020-07-13T00:00:00\", \"2020-07-13T00:00:00\", \"2020-07-13T00:00:00\", \"2020-07-13T00:00:00\", \"2020-07-13T00:00:00\", \"2020-07-13T00:00:00\", \"2020-07-13T00:00:00\", \"2020-07-13T00:00:00\", \"2020-07-13T00:00:00\", \"2020-07-13T00:00:00\", \"2020-07-13T00:00:00\", \"2020-07-13T00:00:00\", \"2020-07-13T00:00:00\", \"2020-07-13T00:00:00\", \"2020-07-13T00:00:00\", \"2020-07-13T00:00:00\", \"2020-07-13T00:00:00\", \"2020-07-14T00:00:00\", \"2020-07-14T00:00:00\", \"2020-07-14T00:00:00\", \"2020-07-14T00:00:00\", \"2020-07-14T00:00:00\", \"2020-07-14T00:00:00\", \"2020-07-14T00:00:00\", \"2020-07-14T00:00:00\", \"2020-07-14T00:00:00\", \"2020-07-14T00:00:00\", \"2020-07-14T00:00:00\", \"2020-07-14T00:00:00\", \"2020-07-14T00:00:00\", \"2020-07-14T00:00:00\", \"2020-07-14T00:00:00\", \"2020-07-14T00:00:00\", \"2020-07-14T00:00:00\", \"2020-07-14T00:00:00\", \"2020-07-14T00:00:00\", \"2020-07-14T00:00:00\", \"2020-07-14T00:00:00\", \"2020-07-14T00:00:00\", \"2020-07-14T00:00:00\", \"2020-07-15T00:00:00\", \"2020-07-15T00:00:00\", \"2020-07-15T00:00:00\", \"2020-07-15T00:00:00\", \"2020-07-15T00:00:00\", \"2020-07-15T00:00:00\", \"2020-07-15T00:00:00\", \"2020-07-15T00:00:00\", \"2020-07-15T00:00:00\", \"2020-07-15T00:00:00\", \"2020-07-15T00:00:00\", \"2020-07-15T00:00:00\", \"2020-07-15T00:00:00\", \"2020-07-15T00:00:00\", \"2020-07-15T00:00:00\", \"2020-07-15T00:00:00\", \"2020-07-15T00:00:00\", \"2020-07-15T00:00:00\", \"2020-07-15T00:00:00\", \"2020-07-15T00:00:00\", \"2020-07-15T00:00:00\", \"2020-07-15T00:00:00\", \"2020-07-15T00:00:00\", \"2020-07-16T00:00:00\", \"2020-07-16T00:00:00\", \"2020-07-16T00:00:00\", \"2020-07-16T00:00:00\", \"2020-07-16T00:00:00\", \"2020-07-16T00:00:00\", \"2020-07-16T00:00:00\", \"2020-07-16T00:00:00\", \"2020-07-16T00:00:00\", \"2020-07-16T00:00:00\", \"2020-07-16T00:00:00\", \"2020-07-16T00:00:00\", \"2020-07-16T00:00:00\", \"2020-07-16T00:00:00\", \"2020-07-16T00:00:00\", \"2020-07-16T00:00:00\", \"2020-07-16T00:00:00\", \"2020-07-16T00:00:00\", \"2020-07-16T00:00:00\", \"2020-07-16T00:00:00\", \"2020-07-16T00:00:00\", \"2020-07-16T00:00:00\", \"2020-07-16T00:00:00\", \"2020-07-16T00:00:00\", \"2020-07-16T00:00:00\", \"2020-07-16T00:00:00\", \"2020-07-16T00:00:00\", \"2020-07-17T00:00:00\", \"2020-07-17T00:00:00\", \"2020-07-17T00:00:00\", \"2020-07-17T00:00:00\", \"2020-07-17T00:00:00\", \"2020-07-17T00:00:00\", \"2020-07-17T00:00:00\", \"2020-07-17T00:00:00\", \"2020-07-17T00:00:00\", \"2020-07-17T00:00:00\", \"2020-07-17T00:00:00\", \"2020-07-17T00:00:00\", \"2020-07-17T00:00:00\", \"2020-07-17T00:00:00\", \"2020-07-17T00:00:00\", \"2020-07-17T00:00:00\", \"2020-07-17T00:00:00\", \"2020-07-17T00:00:00\", \"2020-07-17T00:00:00\", \"2020-07-17T00:00:00\", \"2020-07-17T00:00:00\", \"2020-07-17T00:00:00\", \"2020-07-17T00:00:00\", \"2020-07-17T00:00:00\", \"2020-07-17T00:00:00\", \"2020-07-17T00:00:00\", \"2020-07-17T00:00:00\", \"2020-07-17T00:00:00\", \"2020-07-17T00:00:00\", \"2020-07-17T00:00:00\", \"2020-07-18T00:00:00\", \"2020-07-18T00:00:00\", \"2020-07-18T00:00:00\", \"2020-07-18T00:00:00\", \"2020-07-18T00:00:00\", \"2020-07-18T00:00:00\", \"2020-07-18T00:00:00\", \"2020-07-18T00:00:00\", \"2020-07-18T00:00:00\", \"2020-07-18T00:00:00\", \"2020-07-18T00:00:00\", \"2020-07-18T00:00:00\", \"2020-07-18T00:00:00\", \"2020-07-18T00:00:00\", \"2020-07-18T00:00:00\", \"2020-07-18T00:00:00\", \"2020-07-18T00:00:00\", \"2020-07-18T00:00:00\", \"2020-07-18T00:00:00\", \"2020-07-18T00:00:00\", \"2020-07-18T00:00:00\", \"2020-07-18T00:00:00\", \"2020-07-18T00:00:00\", \"2020-07-18T00:00:00\", \"2020-07-18T00:00:00\", \"2020-07-18T00:00:00\", \"2020-07-18T00:00:00\", \"2020-07-19T00:00:00\", \"2020-07-19T00:00:00\", \"2020-07-19T00:00:00\", \"2020-07-19T00:00:00\", \"2020-07-19T00:00:00\", \"2020-07-19T00:00:00\", \"2020-07-19T00:00:00\", \"2020-07-19T00:00:00\", \"2020-07-19T00:00:00\", \"2020-07-19T00:00:00\", \"2020-07-19T00:00:00\", \"2020-07-19T00:00:00\", \"2020-07-19T00:00:00\", \"2020-07-19T00:00:00\", \"2020-07-19T00:00:00\", \"2020-07-19T00:00:00\", \"2020-07-19T00:00:00\", \"2020-07-19T00:00:00\", \"2020-07-19T00:00:00\", \"2020-07-19T00:00:00\", \"2020-07-19T00:00:00\", \"2020-07-19T00:00:00\", \"2020-07-19T00:00:00\", \"2020-07-19T00:00:00\", \"2020-07-19T00:00:00\", \"2020-07-19T00:00:00\", \"2020-07-19T00:00:00\", \"2020-07-19T00:00:00\", \"2020-07-19T00:00:00\", \"2020-07-20T00:00:00\", \"2020-07-20T00:00:00\", \"2020-07-20T00:00:00\", \"2020-07-20T00:00:00\", \"2020-07-20T00:00:00\", \"2020-07-20T00:00:00\", \"2020-07-20T00:00:00\", \"2020-07-20T00:00:00\", \"2020-07-20T00:00:00\", \"2020-07-20T00:00:00\", \"2020-07-20T00:00:00\", \"2020-07-20T00:00:00\", \"2020-07-20T00:00:00\", \"2020-07-20T00:00:00\", \"2020-07-20T00:00:00\", \"2020-07-20T00:00:00\", \"2020-07-20T00:00:00\", \"2020-07-20T00:00:00\", \"2020-07-20T00:00:00\", \"2020-07-20T00:00:00\", \"2020-07-20T00:00:00\", \"2020-07-20T00:00:00\", \"2020-07-20T00:00:00\", \"2020-07-20T00:00:00\", \"2020-07-20T00:00:00\", \"2020-07-20T00:00:00\", \"2020-07-21T00:00:00\", \"2020-07-21T00:00:00\", \"2020-07-21T00:00:00\", \"2020-07-21T00:00:00\", \"2020-07-21T00:00:00\", \"2020-07-21T00:00:00\", \"2020-07-21T00:00:00\", \"2020-07-21T00:00:00\", \"2020-07-21T00:00:00\", \"2020-07-21T00:00:00\", \"2020-07-21T00:00:00\", \"2020-07-21T00:00:00\", \"2020-07-21T00:00:00\", \"2020-07-21T00:00:00\", \"2020-07-21T00:00:00\", \"2020-07-21T00:00:00\", \"2020-07-21T00:00:00\", \"2020-07-21T00:00:00\", \"2020-07-21T00:00:00\", \"2020-07-21T00:00:00\", \"2020-07-21T00:00:00\", \"2020-07-21T00:00:00\", \"2020-07-22T00:00:00\", \"2020-07-22T00:00:00\", \"2020-07-22T00:00:00\", \"2020-07-22T00:00:00\", \"2020-07-22T00:00:00\", \"2020-07-22T00:00:00\", \"2020-07-22T00:00:00\", \"2020-07-22T00:00:00\", \"2020-07-22T00:00:00\", \"2020-07-22T00:00:00\", \"2020-07-22T00:00:00\", \"2020-07-22T00:00:00\", \"2020-07-22T00:00:00\", \"2020-07-22T00:00:00\", \"2020-07-22T00:00:00\", \"2020-07-22T00:00:00\", \"2020-07-22T00:00:00\", \"2020-07-22T00:00:00\", \"2020-07-22T00:00:00\", \"2020-07-22T00:00:00\", \"2020-07-22T00:00:00\", \"2020-07-22T00:00:00\", \"2020-07-22T00:00:00\", \"2020-07-22T00:00:00\", \"2020-07-22T00:00:00\", \"2020-07-22T00:00:00\", \"2020-07-22T00:00:00\", \"2020-07-22T00:00:00\", \"2020-07-22T00:00:00\", \"2020-07-22T00:00:00\", \"2020-07-22T00:00:00\", \"2020-07-22T00:00:00\", \"2020-07-23T00:00:00\", \"2020-07-23T00:00:00\", \"2020-07-23T00:00:00\", \"2020-07-23T00:00:00\", \"2020-07-23T00:00:00\", \"2020-07-23T00:00:00\", \"2020-07-23T00:00:00\", \"2020-07-23T00:00:00\", \"2020-07-23T00:00:00\", \"2020-07-23T00:00:00\", \"2020-07-23T00:00:00\", \"2020-07-23T00:00:00\", \"2020-07-23T00:00:00\", \"2020-07-23T00:00:00\", \"2020-07-23T00:00:00\", \"2020-07-23T00:00:00\", \"2020-07-23T00:00:00\", \"2020-07-23T00:00:00\", \"2020-07-23T00:00:00\", \"2020-07-23T00:00:00\", \"2020-07-23T00:00:00\", \"2020-07-23T00:00:00\", \"2020-07-24T00:00:00\", \"2020-07-24T00:00:00\", \"2020-07-24T00:00:00\", \"2020-07-24T00:00:00\", \"2020-07-24T00:00:00\", \"2020-07-24T00:00:00\", \"2020-07-24T00:00:00\", \"2020-07-24T00:00:00\", \"2020-07-24T00:00:00\", \"2020-07-24T00:00:00\", \"2020-07-24T00:00:00\", \"2020-07-24T00:00:00\", \"2020-07-24T00:00:00\", \"2020-07-24T00:00:00\", \"2020-07-24T00:00:00\", \"2020-07-24T00:00:00\", \"2020-07-24T00:00:00\", \"2020-07-24T00:00:00\", \"2020-07-24T00:00:00\", \"2020-07-24T00:00:00\", \"2020-07-24T00:00:00\", \"2020-07-24T00:00:00\", \"2020-07-24T00:00:00\", \"2020-07-24T00:00:00\", \"2020-07-24T00:00:00\", \"2020-07-24T00:00:00\", \"2020-07-24T00:00:00\", \"2020-07-24T00:00:00\", \"2020-07-25T00:00:00\", \"2020-07-25T00:00:00\", \"2020-07-25T00:00:00\", \"2020-07-25T00:00:00\", \"2020-07-25T00:00:00\", \"2020-07-25T00:00:00\", \"2020-07-25T00:00:00\", \"2020-07-25T00:00:00\", \"2020-07-25T00:00:00\", \"2020-07-25T00:00:00\", \"2020-07-25T00:00:00\", \"2020-07-25T00:00:00\", \"2020-07-25T00:00:00\", \"2020-07-25T00:00:00\", \"2020-07-25T00:00:00\", \"2020-07-25T00:00:00\", \"2020-07-25T00:00:00\", \"2020-07-25T00:00:00\", \"2020-07-25T00:00:00\", \"2020-07-25T00:00:00\", \"2020-07-25T00:00:00\", \"2020-07-25T00:00:00\", \"2020-07-25T00:00:00\", \"2020-07-26T00:00:00\", \"2020-07-26T00:00:00\", \"2020-07-26T00:00:00\", \"2020-07-26T00:00:00\", \"2020-07-26T00:00:00\", \"2020-07-26T00:00:00\", \"2020-07-26T00:00:00\", \"2020-07-26T00:00:00\", \"2020-07-26T00:00:00\", \"2020-07-26T00:00:00\", \"2020-07-26T00:00:00\", \"2020-07-26T00:00:00\", \"2020-07-26T00:00:00\", \"2020-07-26T00:00:00\", \"2020-07-26T00:00:00\", \"2020-07-26T00:00:00\", \"2020-07-26T00:00:00\", \"2020-07-26T00:00:00\", \"2020-07-26T00:00:00\", \"2020-07-26T00:00:00\", \"2020-07-26T00:00:00\", \"2020-07-26T00:00:00\", \"2020-07-26T00:00:00\", \"2020-07-26T00:00:00\", \"2020-07-26T00:00:00\", \"2020-07-26T00:00:00\", \"2020-07-27T00:00:00\", \"2020-07-27T00:00:00\", \"2020-07-27T00:00:00\", \"2020-07-27T00:00:00\", \"2020-07-27T00:00:00\", \"2020-07-27T00:00:00\", \"2020-07-27T00:00:00\", \"2020-07-27T00:00:00\", \"2020-07-27T00:00:00\", \"2020-07-27T00:00:00\", \"2020-07-27T00:00:00\", \"2020-07-27T00:00:00\", \"2020-07-27T00:00:00\", \"2020-07-27T00:00:00\", \"2020-07-27T00:00:00\", \"2020-07-27T00:00:00\", \"2020-07-27T00:00:00\", \"2020-07-27T00:00:00\", \"2020-07-27T00:00:00\", \"2020-07-27T00:00:00\", \"2020-07-27T00:00:00\", \"2020-07-27T00:00:00\", \"2020-07-27T00:00:00\", \"2020-07-27T00:00:00\", \"2020-07-27T00:00:00\", \"2020-07-28T00:00:00\", \"2020-07-28T00:00:00\", \"2020-07-28T00:00:00\", \"2020-07-28T00:00:00\", \"2020-07-28T00:00:00\", \"2020-07-28T00:00:00\", \"2020-07-28T00:00:00\", \"2020-07-28T00:00:00\", \"2020-07-28T00:00:00\", \"2020-07-28T00:00:00\", \"2020-07-28T00:00:00\", \"2020-07-28T00:00:00\", \"2020-07-28T00:00:00\", \"2020-07-28T00:00:00\", \"2020-07-28T00:00:00\", \"2020-07-28T00:00:00\", \"2020-07-28T00:00:00\", \"2020-07-28T00:00:00\", \"2020-07-28T00:00:00\", \"2020-07-28T00:00:00\", \"2020-07-28T00:00:00\", \"2020-07-28T00:00:00\", \"2020-07-28T00:00:00\", \"2020-07-28T00:00:00\", \"2020-07-28T00:00:00\", \"2020-07-29T00:00:00\", \"2020-07-29T00:00:00\", \"2020-07-29T00:00:00\", \"2020-07-29T00:00:00\", \"2020-07-29T00:00:00\", \"2020-07-29T00:00:00\", \"2020-07-29T00:00:00\", \"2020-07-29T00:00:00\", \"2020-07-29T00:00:00\", \"2020-07-29T00:00:00\", \"2020-07-29T00:00:00\", \"2020-07-29T00:00:00\", \"2020-07-29T00:00:00\", \"2020-07-29T00:00:00\", \"2020-07-29T00:00:00\", \"2020-07-29T00:00:00\", \"2020-07-29T00:00:00\", \"2020-07-29T00:00:00\", \"2020-07-29T00:00:00\", \"2020-07-29T00:00:00\", \"2020-07-29T00:00:00\", \"2020-07-29T00:00:00\", \"2020-07-29T00:00:00\", \"2020-07-29T00:00:00\", \"2020-07-29T00:00:00\", \"2020-07-30T00:00:00\", \"2020-07-30T00:00:00\", \"2020-07-30T00:00:00\", \"2020-07-30T00:00:00\", \"2020-07-30T00:00:00\", \"2020-07-30T00:00:00\", \"2020-07-30T00:00:00\", \"2020-07-30T00:00:00\", \"2020-07-30T00:00:00\", \"2020-07-30T00:00:00\", \"2020-07-30T00:00:00\", \"2020-07-30T00:00:00\", \"2020-07-30T00:00:00\", \"2020-07-30T00:00:00\", \"2020-07-30T00:00:00\", \"2020-07-30T00:00:00\", \"2020-07-30T00:00:00\", \"2020-07-30T00:00:00\", \"2020-07-30T00:00:00\", \"2020-07-30T00:00:00\", \"2020-07-30T00:00:00\", \"2020-07-31T00:00:00\", \"2020-07-31T00:00:00\", \"2020-07-31T00:00:00\", \"2020-07-31T00:00:00\", \"2020-07-31T00:00:00\", \"2020-07-31T00:00:00\", \"2020-07-31T00:00:00\", \"2020-07-31T00:00:00\", \"2020-07-31T00:00:00\", \"2020-07-31T00:00:00\", \"2020-07-31T00:00:00\", \"2020-07-31T00:00:00\", \"2020-07-31T00:00:00\", \"2020-07-31T00:00:00\", \"2020-07-31T00:00:00\", \"2020-07-31T00:00:00\", \"2020-07-31T00:00:00\", \"2020-07-31T00:00:00\", \"2020-07-31T00:00:00\", \"2020-07-31T00:00:00\", \"2020-07-31T00:00:00\", \"2020-07-31T00:00:00\", \"2020-07-31T00:00:00\", \"2020-07-31T00:00:00\", \"2020-07-31T00:00:00\", \"2020-07-31T00:00:00\", \"2020-07-31T00:00:00\", \"2020-07-31T00:00:00\", \"2020-07-31T00:00:00\", \"2020-08-01T00:00:00\", \"2020-08-01T00:00:00\", \"2020-08-01T00:00:00\", \"2020-08-01T00:00:00\", \"2020-08-01T00:00:00\", \"2020-08-01T00:00:00\", \"2020-08-01T00:00:00\", \"2020-08-01T00:00:00\", \"2020-08-01T00:00:00\", \"2020-08-01T00:00:00\", \"2020-08-01T00:00:00\", \"2020-08-01T00:00:00\", \"2020-08-01T00:00:00\", \"2020-08-01T00:00:00\", \"2020-08-01T00:00:00\", \"2020-08-01T00:00:00\", \"2020-08-01T00:00:00\", \"2020-08-01T00:00:00\", \"2020-08-01T00:00:00\", \"2020-08-01T00:00:00\", \"2020-08-01T00:00:00\", \"2020-08-01T00:00:00\", \"2020-08-01T00:00:00\", \"2020-08-01T00:00:00\", \"2020-08-01T00:00:00\", \"2020-08-01T00:00:00\", \"2020-08-01T00:00:00\", \"2020-08-02T00:00:00\", \"2020-08-02T00:00:00\", \"2020-08-02T00:00:00\", \"2020-08-02T00:00:00\", \"2020-08-02T00:00:00\", \"2020-08-02T00:00:00\", \"2020-08-02T00:00:00\", \"2020-08-02T00:00:00\", \"2020-08-02T00:00:00\", \"2020-08-02T00:00:00\", \"2020-08-02T00:00:00\", \"2020-08-02T00:00:00\", \"2020-08-02T00:00:00\", \"2020-08-02T00:00:00\", \"2020-08-02T00:00:00\", \"2020-08-02T00:00:00\", \"2020-08-02T00:00:00\", \"2020-08-02T00:00:00\", \"2020-08-02T00:00:00\", \"2020-08-02T00:00:00\", \"2020-08-02T00:00:00\", \"2020-08-02T00:00:00\", \"2020-08-02T00:00:00\", \"2020-08-02T00:00:00\", \"2020-08-03T00:00:00\", \"2020-08-03T00:00:00\", \"2020-08-03T00:00:00\", \"2020-08-03T00:00:00\", \"2020-08-03T00:00:00\", \"2020-08-03T00:00:00\", \"2020-08-03T00:00:00\", \"2020-08-03T00:00:00\", \"2020-08-03T00:00:00\", \"2020-08-03T00:00:00\", \"2020-08-03T00:00:00\", \"2020-08-03T00:00:00\", \"2020-08-03T00:00:00\", \"2020-08-03T00:00:00\", \"2020-08-03T00:00:00\", \"2020-08-03T00:00:00\", \"2020-08-03T00:00:00\", \"2020-08-03T00:00:00\", \"2020-08-03T00:00:00\", \"2020-08-03T00:00:00\", \"2020-08-03T00:00:00\", \"2020-08-04T00:00:00\", \"2020-08-04T00:00:00\", \"2020-08-04T00:00:00\", \"2020-08-04T00:00:00\", \"2020-08-04T00:00:00\", \"2020-08-04T00:00:00\", \"2020-08-04T00:00:00\", \"2020-08-04T00:00:00\", \"2020-08-04T00:00:00\", \"2020-08-04T00:00:00\", \"2020-08-04T00:00:00\", \"2020-08-04T00:00:00\", \"2020-08-04T00:00:00\", \"2020-08-04T00:00:00\", \"2020-08-04T00:00:00\", \"2020-08-04T00:00:00\", \"2020-08-04T00:00:00\", \"2020-08-04T00:00:00\", \"2020-08-04T00:00:00\", \"2020-08-04T00:00:00\", \"2020-08-04T00:00:00\", \"2020-08-04T00:00:00\", \"2020-08-04T00:00:00\", \"2020-08-04T00:00:00\", \"2020-08-04T00:00:00\", \"2020-08-04T00:00:00\", \"2020-08-04T00:00:00\", \"2020-08-05T00:00:00\", \"2020-08-05T00:00:00\", \"2020-08-05T00:00:00\", \"2020-08-05T00:00:00\", \"2020-08-05T00:00:00\", \"2020-08-05T00:00:00\", \"2020-08-05T00:00:00\", \"2020-08-05T00:00:00\", \"2020-08-05T00:00:00\", \"2020-08-05T00:00:00\", \"2020-08-05T00:00:00\", \"2020-08-05T00:00:00\", \"2020-08-05T00:00:00\", \"2020-08-05T00:00:00\", \"2020-08-05T00:00:00\", \"2020-08-05T00:00:00\", \"2020-08-05T00:00:00\", \"2020-08-05T00:00:00\", \"2020-08-05T00:00:00\", \"2020-08-05T00:00:00\", \"2020-08-05T00:00:00\", \"2020-08-05T00:00:00\", \"2020-08-05T00:00:00\", \"2020-08-05T00:00:00\", \"2020-08-06T00:00:00\", \"2020-08-06T00:00:00\", \"2020-08-06T00:00:00\", \"2020-08-06T00:00:00\", \"2020-08-06T00:00:00\", \"2020-08-06T00:00:00\", \"2020-08-06T00:00:00\", \"2020-08-06T00:00:00\", \"2020-08-06T00:00:00\", \"2020-08-06T00:00:00\", \"2020-08-06T00:00:00\", \"2020-08-06T00:00:00\", \"2020-08-06T00:00:00\", \"2020-08-06T00:00:00\", \"2020-08-06T00:00:00\", \"2020-08-06T00:00:00\", \"2020-08-06T00:00:00\", \"2020-08-06T00:00:00\", \"2020-08-06T00:00:00\", \"2020-08-06T00:00:00\", \"2020-08-06T00:00:00\", \"2020-08-06T00:00:00\", \"2020-08-06T00:00:00\", \"2020-08-06T00:00:00\", \"2020-08-06T00:00:00\", \"2020-08-06T00:00:00\", \"2020-08-07T00:00:00\", \"2020-08-07T00:00:00\", \"2020-08-07T00:00:00\", \"2020-08-07T00:00:00\", \"2020-08-07T00:00:00\", \"2020-08-07T00:00:00\", \"2020-08-07T00:00:00\", \"2020-08-07T00:00:00\", \"2020-08-07T00:00:00\", \"2020-08-07T00:00:00\", \"2020-08-07T00:00:00\", \"2020-08-07T00:00:00\", \"2020-08-07T00:00:00\", \"2020-08-07T00:00:00\", \"2020-08-07T00:00:00\", \"2020-08-07T00:00:00\", \"2020-08-07T00:00:00\", \"2020-08-07T00:00:00\", \"2020-08-07T00:00:00\", \"2020-08-07T00:00:00\", \"2020-08-07T00:00:00\", \"2020-08-07T00:00:00\", \"2020-08-07T00:00:00\", \"2020-08-07T00:00:00\", \"2020-08-07T00:00:00\", \"2020-08-07T00:00:00\", \"2020-08-07T00:00:00\", \"2020-08-08T00:00:00\", \"2020-08-08T00:00:00\", \"2020-08-08T00:00:00\", \"2020-08-08T00:00:00\", \"2020-08-08T00:00:00\", \"2020-08-08T00:00:00\", \"2020-08-08T00:00:00\", \"2020-08-08T00:00:00\", \"2020-08-08T00:00:00\", \"2020-08-08T00:00:00\", \"2020-08-08T00:00:00\", \"2020-08-08T00:00:00\", \"2020-08-08T00:00:00\", \"2020-08-08T00:00:00\", \"2020-08-08T00:00:00\", \"2020-08-08T00:00:00\", \"2020-08-08T00:00:00\", \"2020-08-09T00:00:00\", \"2020-08-09T00:00:00\", \"2020-08-09T00:00:00\", \"2020-08-09T00:00:00\", \"2020-08-09T00:00:00\", \"2020-08-09T00:00:00\", \"2020-08-09T00:00:00\", \"2020-08-09T00:00:00\", \"2020-08-09T00:00:00\", \"2020-08-09T00:00:00\", \"2020-08-09T00:00:00\", \"2020-08-09T00:00:00\", \"2020-08-09T00:00:00\", \"2020-08-09T00:00:00\", \"2020-08-09T00:00:00\", \"2020-08-09T00:00:00\", \"2020-08-09T00:00:00\", \"2020-08-09T00:00:00\", \"2020-08-09T00:00:00\", \"2020-08-09T00:00:00\", \"2020-08-09T00:00:00\", \"2020-08-09T00:00:00\", \"2020-08-09T00:00:00\", \"2020-08-10T00:00:00\", \"2020-08-10T00:00:00\", \"2020-08-10T00:00:00\", \"2020-08-10T00:00:00\", \"2020-08-10T00:00:00\", \"2020-08-10T00:00:00\", \"2020-08-10T00:00:00\", \"2020-08-10T00:00:00\", \"2020-08-10T00:00:00\", \"2020-08-10T00:00:00\", \"2020-08-10T00:00:00\", \"2020-08-10T00:00:00\", \"2020-08-10T00:00:00\", \"2020-08-10T00:00:00\", \"2020-08-10T00:00:00\", \"2020-08-10T00:00:00\", \"2020-08-10T00:00:00\", \"2020-08-10T00:00:00\", \"2020-08-10T00:00:00\", \"2020-08-10T00:00:00\", \"2020-08-10T00:00:00\", \"2020-08-10T00:00:00\", \"2020-08-10T00:00:00\", \"2020-08-10T00:00:00\", \"2020-08-11T00:00:00\", \"2020-08-11T00:00:00\", \"2020-08-11T00:00:00\", \"2020-08-11T00:00:00\", \"2020-08-11T00:00:00\", \"2020-08-11T00:00:00\", \"2020-08-11T00:00:00\", \"2020-08-11T00:00:00\", \"2020-08-11T00:00:00\", \"2020-08-11T00:00:00\", \"2020-08-11T00:00:00\", \"2020-08-11T00:00:00\", \"2020-08-11T00:00:00\", \"2020-08-11T00:00:00\", \"2020-08-11T00:00:00\", \"2020-08-11T00:00:00\", \"2020-08-11T00:00:00\", \"2020-08-11T00:00:00\", \"2020-08-11T00:00:00\", \"2020-08-11T00:00:00\", \"2020-08-11T00:00:00\", \"2020-08-11T00:00:00\", \"2020-08-11T00:00:00\", \"2020-08-11T00:00:00\", \"2020-08-11T00:00:00\", \"2020-08-12T00:00:00\", \"2020-08-12T00:00:00\", \"2020-08-12T00:00:00\", \"2020-08-12T00:00:00\", \"2020-08-12T00:00:00\", \"2020-08-12T00:00:00\", \"2020-08-12T00:00:00\", \"2020-08-12T00:00:00\", \"2020-08-12T00:00:00\", \"2020-08-12T00:00:00\", \"2020-08-12T00:00:00\", \"2020-08-12T00:00:00\", \"2020-08-12T00:00:00\", \"2020-08-12T00:00:00\", \"2020-08-12T00:00:00\", \"2020-08-12T00:00:00\", \"2020-08-12T00:00:00\", \"2020-08-12T00:00:00\", \"2020-08-12T00:00:00\", \"2020-08-12T00:00:00\", \"2020-08-12T00:00:00\", \"2020-08-12T00:00:00\", \"2020-08-12T00:00:00\", \"2020-08-12T00:00:00\", \"2020-08-12T00:00:00\", \"2020-08-12T00:00:00\", \"2020-08-12T00:00:00\", \"2020-08-13T00:00:00\", \"2020-08-13T00:00:00\", \"2020-08-13T00:00:00\", \"2020-08-13T00:00:00\", \"2020-08-13T00:00:00\", \"2020-08-13T00:00:00\", \"2020-08-13T00:00:00\", \"2020-08-13T00:00:00\", \"2020-08-13T00:00:00\", \"2020-08-13T00:00:00\", \"2020-08-13T00:00:00\", \"2020-08-13T00:00:00\", \"2020-08-13T00:00:00\", \"2020-08-13T00:00:00\", \"2020-08-13T00:00:00\", \"2020-08-13T00:00:00\", \"2020-08-13T00:00:00\", \"2020-08-13T00:00:00\", \"2020-08-13T00:00:00\", \"2020-08-13T00:00:00\", \"2020-08-13T00:00:00\", \"2020-08-13T00:00:00\", \"2020-08-13T00:00:00\", \"2020-08-13T00:00:00\", \"2020-08-13T00:00:00\", \"2020-08-13T00:00:00\", \"2020-08-13T00:00:00\", \"2020-08-13T00:00:00\", \"2020-08-14T00:00:00\", \"2020-08-14T00:00:00\", \"2020-08-14T00:00:00\", \"2020-08-14T00:00:00\", \"2020-08-14T00:00:00\", \"2020-08-14T00:00:00\", \"2020-08-14T00:00:00\", \"2020-08-14T00:00:00\", \"2020-08-14T00:00:00\", \"2020-08-14T00:00:00\", \"2020-08-14T00:00:00\", \"2020-08-14T00:00:00\", \"2020-08-14T00:00:00\", \"2020-08-14T00:00:00\", \"2020-08-14T00:00:00\", \"2020-08-14T00:00:00\", \"2020-08-14T00:00:00\", \"2020-08-14T00:00:00\", \"2020-08-14T00:00:00\", \"2020-08-14T00:00:00\", \"2020-08-14T00:00:00\", \"2020-08-14T00:00:00\", \"2020-08-14T00:00:00\", \"2020-08-14T00:00:00\", \"2020-08-14T00:00:00\", \"2020-08-15T00:00:00\", \"2020-08-15T00:00:00\", \"2020-08-15T00:00:00\", \"2020-08-15T00:00:00\", \"2020-08-15T00:00:00\", \"2020-08-15T00:00:00\", \"2020-08-15T00:00:00\", \"2020-08-15T00:00:00\", \"2020-08-15T00:00:00\", \"2020-08-15T00:00:00\", \"2020-08-15T00:00:00\", \"2020-08-15T00:00:00\", \"2020-08-15T00:00:00\", \"2020-08-15T00:00:00\", \"2020-08-15T00:00:00\", \"2020-08-15T00:00:00\", \"2020-08-15T00:00:00\", \"2020-08-15T00:00:00\", \"2020-08-15T00:00:00\", \"2020-08-15T00:00:00\", \"2020-08-15T00:00:00\", \"2020-08-15T00:00:00\", \"2020-08-15T00:00:00\", \"2020-08-15T00:00:00\", \"2020-08-15T00:00:00\", \"2020-08-15T00:00:00\", \"2020-08-16T00:00:00\", \"2020-08-16T00:00:00\", \"2020-08-16T00:00:00\", \"2020-08-16T00:00:00\", \"2020-08-16T00:00:00\", \"2020-08-16T00:00:00\", \"2020-08-16T00:00:00\", \"2020-08-16T00:00:00\", \"2020-08-16T00:00:00\", \"2020-08-16T00:00:00\", \"2020-08-16T00:00:00\", \"2020-08-16T00:00:00\", \"2020-08-16T00:00:00\", \"2020-08-16T00:00:00\", \"2020-08-16T00:00:00\", \"2020-08-16T00:00:00\", \"2020-08-16T00:00:00\", \"2020-08-16T00:00:00\", \"2020-08-16T00:00:00\", \"2020-08-16T00:00:00\", \"2020-08-16T00:00:00\", \"2020-08-16T00:00:00\", \"2020-08-16T00:00:00\", \"2020-08-16T00:00:00\", \"2020-08-16T00:00:00\", \"2020-08-16T00:00:00\", \"2020-08-17T00:00:00\", \"2020-08-17T00:00:00\", \"2020-08-17T00:00:00\", \"2020-08-17T00:00:00\", \"2020-08-17T00:00:00\", \"2020-08-17T00:00:00\", \"2020-08-17T00:00:00\", \"2020-08-17T00:00:00\", \"2020-08-17T00:00:00\", \"2020-08-17T00:00:00\", \"2020-08-17T00:00:00\", \"2020-08-17T00:00:00\", \"2020-08-17T00:00:00\", \"2020-08-17T00:00:00\", \"2020-08-17T00:00:00\", \"2020-08-17T00:00:00\", \"2020-08-17T00:00:00\", \"2020-08-17T00:00:00\", \"2020-08-17T00:00:00\", \"2020-08-17T00:00:00\", \"2020-08-17T00:00:00\", \"2020-08-17T00:00:00\", \"2020-08-17T00:00:00\", \"2020-08-17T00:00:00\", \"2020-08-17T00:00:00\", \"2020-08-17T00:00:00\", \"2020-08-17T00:00:00\", \"2020-08-17T00:00:00\", \"2020-08-17T00:00:00\", \"2020-08-17T00:00:00\", \"2020-08-18T00:00:00\", \"2020-08-18T00:00:00\", \"2020-08-18T00:00:00\", \"2020-08-18T00:00:00\", \"2020-08-18T00:00:00\", \"2020-08-18T00:00:00\", \"2020-08-18T00:00:00\", \"2020-08-18T00:00:00\", \"2020-08-18T00:00:00\", \"2020-08-18T00:00:00\", \"2020-08-18T00:00:00\", \"2020-08-18T00:00:00\", \"2020-08-18T00:00:00\", \"2020-08-18T00:00:00\", \"2020-08-18T00:00:00\", \"2020-08-18T00:00:00\", \"2020-08-18T00:00:00\", \"2020-08-18T00:00:00\", \"2020-08-18T00:00:00\", \"2020-08-18T00:00:00\", \"2020-08-18T00:00:00\", \"2020-08-18T00:00:00\", \"2020-08-18T00:00:00\", \"2020-08-19T00:00:00\", \"2020-08-19T00:00:00\", \"2020-08-19T00:00:00\", \"2020-08-19T00:00:00\", \"2020-08-19T00:00:00\", \"2020-08-19T00:00:00\", \"2020-08-19T00:00:00\", \"2020-08-19T00:00:00\", \"2020-08-19T00:00:00\", \"2020-08-19T00:00:00\", \"2020-08-19T00:00:00\", \"2020-08-19T00:00:00\", \"2020-08-19T00:00:00\", \"2020-08-19T00:00:00\", \"2020-08-19T00:00:00\", \"2020-08-19T00:00:00\", \"2020-08-19T00:00:00\", \"2020-08-19T00:00:00\", \"2020-08-19T00:00:00\", \"2020-08-19T00:00:00\", \"2020-08-19T00:00:00\", \"2020-08-19T00:00:00\", \"2020-08-19T00:00:00\", \"2020-08-19T00:00:00\", \"2020-08-19T00:00:00\", \"2020-08-20T00:00:00\", \"2020-08-20T00:00:00\", \"2020-08-20T00:00:00\", \"2020-08-20T00:00:00\", \"2020-08-20T00:00:00\", \"2020-08-20T00:00:00\", \"2020-08-20T00:00:00\", \"2020-08-20T00:00:00\", \"2020-08-20T00:00:00\", \"2020-08-20T00:00:00\", \"2020-08-20T00:00:00\", \"2020-08-20T00:00:00\", \"2020-08-20T00:00:00\", \"2020-08-20T00:00:00\", \"2020-08-20T00:00:00\", \"2020-08-20T00:00:00\", \"2020-08-20T00:00:00\", \"2020-08-20T00:00:00\", \"2020-08-20T00:00:00\", \"2020-08-20T00:00:00\", \"2020-08-20T00:00:00\", \"2020-08-21T00:00:00\", \"2020-08-21T00:00:00\", \"2020-08-21T00:00:00\", \"2020-08-21T00:00:00\", \"2020-08-21T00:00:00\", \"2020-08-21T00:00:00\", \"2020-08-21T00:00:00\", \"2020-08-21T00:00:00\", \"2020-08-21T00:00:00\", \"2020-08-21T00:00:00\", \"2020-08-21T00:00:00\", \"2020-08-21T00:00:00\", \"2020-08-21T00:00:00\", \"2020-08-21T00:00:00\", \"2020-08-21T00:00:00\", \"2020-08-21T00:00:00\", \"2020-08-21T00:00:00\", \"2020-08-21T00:00:00\", \"2020-08-21T00:00:00\", \"2020-08-21T00:00:00\", \"2020-08-21T00:00:00\", \"2020-08-21T00:00:00\", \"2020-08-21T00:00:00\", \"2020-08-22T00:00:00\", \"2020-08-22T00:00:00\", \"2020-08-22T00:00:00\", \"2020-08-22T00:00:00\", \"2020-08-22T00:00:00\", \"2020-08-22T00:00:00\", \"2020-08-22T00:00:00\", \"2020-08-22T00:00:00\", \"2020-08-22T00:00:00\", \"2020-08-22T00:00:00\", \"2020-08-22T00:00:00\", \"2020-08-22T00:00:00\", \"2020-08-22T00:00:00\", \"2020-08-22T00:00:00\", \"2020-08-22T00:00:00\", \"2020-08-22T00:00:00\", \"2020-08-22T00:00:00\", \"2020-08-22T00:00:00\", \"2020-08-22T00:00:00\", \"2020-08-22T00:00:00\", \"2020-08-22T00:00:00\", \"2020-08-22T00:00:00\", \"2020-08-22T00:00:00\", \"2020-08-23T00:00:00\", \"2020-08-23T00:00:00\", \"2020-08-23T00:00:00\", \"2020-08-23T00:00:00\", \"2020-08-23T00:00:00\", \"2020-08-23T00:00:00\", \"2020-08-23T00:00:00\", \"2020-08-23T00:00:00\", \"2020-08-23T00:00:00\", \"2020-08-23T00:00:00\", \"2020-08-23T00:00:00\", \"2020-08-23T00:00:00\", \"2020-08-23T00:00:00\", \"2020-08-23T00:00:00\", \"2020-08-23T00:00:00\", \"2020-08-23T00:00:00\", \"2020-08-23T00:00:00\", \"2020-08-23T00:00:00\", \"2020-08-23T00:00:00\", \"2020-08-23T00:00:00\", \"2020-08-23T00:00:00\", \"2020-08-23T00:00:00\", \"2020-08-23T00:00:00\", \"2020-08-23T00:00:00\", \"2020-08-23T00:00:00\", \"2020-08-23T00:00:00\", \"2020-08-23T00:00:00\", \"2020-08-23T00:00:00\", \"2020-08-23T00:00:00\", \"2020-08-24T00:00:00\", \"2020-08-24T00:00:00\", \"2020-08-24T00:00:00\", \"2020-08-24T00:00:00\", \"2020-08-24T00:00:00\", \"2020-08-24T00:00:00\", \"2020-08-24T00:00:00\", \"2020-08-24T00:00:00\", \"2020-08-24T00:00:00\", \"2020-08-24T00:00:00\", \"2020-08-24T00:00:00\", \"2020-08-24T00:00:00\", \"2020-08-24T00:00:00\", \"2020-08-24T00:00:00\", \"2020-08-24T00:00:00\", \"2020-08-24T00:00:00\", \"2020-08-24T00:00:00\", \"2020-08-24T00:00:00\", \"2020-08-24T00:00:00\", \"2020-08-25T00:00:00\", \"2020-08-25T00:00:00\", \"2020-08-25T00:00:00\", \"2020-08-25T00:00:00\", \"2020-08-25T00:00:00\", \"2020-08-25T00:00:00\", \"2020-08-25T00:00:00\", \"2020-08-25T00:00:00\", \"2020-08-25T00:00:00\", \"2020-08-25T00:00:00\", \"2020-08-25T00:00:00\", \"2020-08-25T00:00:00\", \"2020-08-25T00:00:00\", \"2020-08-25T00:00:00\", \"2020-08-25T00:00:00\", \"2020-08-25T00:00:00\", \"2020-08-25T00:00:00\", \"2020-08-25T00:00:00\", \"2020-08-25T00:00:00\", \"2020-08-26T00:00:00\", \"2020-08-26T00:00:00\", \"2020-08-26T00:00:00\", \"2020-08-26T00:00:00\", \"2020-08-26T00:00:00\", \"2020-08-26T00:00:00\", \"2020-08-26T00:00:00\", \"2020-08-26T00:00:00\", \"2020-08-26T00:00:00\", \"2020-08-26T00:00:00\", \"2020-08-26T00:00:00\", \"2020-08-26T00:00:00\", \"2020-08-26T00:00:00\", \"2020-08-26T00:00:00\", \"2020-08-26T00:00:00\", \"2020-08-26T00:00:00\", \"2020-08-26T00:00:00\", \"2020-08-26T00:00:00\", \"2020-08-26T00:00:00\", \"2020-08-26T00:00:00\", \"2020-08-26T00:00:00\", \"2020-08-26T00:00:00\", \"2020-08-26T00:00:00\", \"2020-08-26T00:00:00\", \"2020-08-27T00:00:00\", \"2020-08-27T00:00:00\", \"2020-08-27T00:00:00\", \"2020-08-27T00:00:00\", \"2020-08-27T00:00:00\", \"2020-08-27T00:00:00\", \"2020-08-27T00:00:00\", \"2020-08-27T00:00:00\", \"2020-08-27T00:00:00\", \"2020-08-27T00:00:00\", \"2020-08-27T00:00:00\", \"2020-08-27T00:00:00\", \"2020-08-27T00:00:00\", \"2020-08-27T00:00:00\", \"2020-08-27T00:00:00\", \"2020-08-27T00:00:00\", \"2020-08-27T00:00:00\", \"2020-08-27T00:00:00\", \"2020-08-27T00:00:00\", \"2020-08-27T00:00:00\", \"2020-08-28T00:00:00\", \"2020-08-28T00:00:00\", \"2020-08-28T00:00:00\", \"2020-08-28T00:00:00\", \"2020-08-28T00:00:00\", \"2020-08-28T00:00:00\", \"2020-08-28T00:00:00\", \"2020-08-28T00:00:00\", \"2020-08-28T00:00:00\", \"2020-08-28T00:00:00\", \"2020-08-28T00:00:00\", \"2020-08-28T00:00:00\", \"2020-08-28T00:00:00\", \"2020-08-28T00:00:00\", \"2020-08-28T00:00:00\", \"2020-08-28T00:00:00\", \"2020-08-28T00:00:00\", \"2020-08-29T00:00:00\", \"2020-08-29T00:00:00\", \"2020-08-29T00:00:00\", \"2020-08-29T00:00:00\", \"2020-08-29T00:00:00\", \"2020-08-29T00:00:00\", \"2020-08-29T00:00:00\", \"2020-08-29T00:00:00\", \"2020-08-29T00:00:00\", \"2020-08-29T00:00:00\", \"2020-08-29T00:00:00\", \"2020-08-29T00:00:00\", \"2020-08-29T00:00:00\", \"2020-08-29T00:00:00\", \"2020-08-29T00:00:00\", \"2020-08-29T00:00:00\", \"2020-08-29T00:00:00\", \"2020-08-29T00:00:00\", \"2020-08-29T00:00:00\", \"2020-08-29T00:00:00\", \"2020-08-29T00:00:00\", \"2020-08-29T00:00:00\", \"2020-08-30T00:00:00\", \"2020-08-30T00:00:00\", \"2020-08-30T00:00:00\", \"2020-08-30T00:00:00\", \"2020-08-30T00:00:00\", \"2020-08-30T00:00:00\", \"2020-08-30T00:00:00\", \"2020-08-30T00:00:00\", \"2020-08-30T00:00:00\", \"2020-08-30T00:00:00\", \"2020-08-30T00:00:00\", \"2020-08-30T00:00:00\", \"2020-08-30T00:00:00\", \"2020-08-30T00:00:00\", \"2020-08-30T00:00:00\", \"2020-08-30T00:00:00\", \"2020-08-30T00:00:00\", \"2020-08-30T00:00:00\", \"2020-08-30T00:00:00\", \"2020-08-30T00:00:00\", \"2020-08-31T00:00:00\", \"2020-08-31T00:00:00\", \"2020-08-31T00:00:00\", \"2020-08-31T00:00:00\", \"2020-08-31T00:00:00\", \"2020-08-31T00:00:00\", \"2020-08-31T00:00:00\", \"2020-08-31T00:00:00\", \"2020-08-31T00:00:00\", \"2020-08-31T00:00:00\", \"2020-08-31T00:00:00\", \"2020-08-31T00:00:00\", \"2020-08-31T00:00:00\", \"2020-08-31T00:00:00\", \"2020-08-31T00:00:00\", \"2020-08-31T00:00:00\", \"2020-08-31T00:00:00\", \"2020-08-31T00:00:00\", \"2020-08-31T00:00:00\", \"2020-08-31T00:00:00\", \"2020-08-31T00:00:00\", \"2020-08-31T00:00:00\", \"2020-08-31T00:00:00\", \"2020-08-31T00:00:00\", \"2020-09-01T00:00:00\", \"2020-09-01T00:00:00\", \"2020-09-01T00:00:00\", \"2020-09-01T00:00:00\", \"2020-09-01T00:00:00\", \"2020-09-01T00:00:00\", \"2020-09-01T00:00:00\", \"2020-09-01T00:00:00\", \"2020-09-01T00:00:00\", \"2020-09-01T00:00:00\", \"2020-09-01T00:00:00\", \"2020-09-01T00:00:00\", \"2020-09-01T00:00:00\", \"2020-09-01T00:00:00\", \"2020-09-01T00:00:00\", \"2020-09-01T00:00:00\", \"2020-09-01T00:00:00\", \"2020-09-01T00:00:00\", \"2020-09-01T00:00:00\", \"2020-09-01T00:00:00\", \"2020-09-02T00:00:00\", \"2020-09-02T00:00:00\", \"2020-09-02T00:00:00\", \"2020-09-02T00:00:00\", \"2020-09-02T00:00:00\", \"2020-09-02T00:00:00\", \"2020-09-02T00:00:00\", \"2020-09-02T00:00:00\", \"2020-09-02T00:00:00\", \"2020-09-02T00:00:00\", \"2020-09-02T00:00:00\", \"2020-09-02T00:00:00\", \"2020-09-02T00:00:00\", \"2020-09-02T00:00:00\", \"2020-09-02T00:00:00\", \"2020-09-02T00:00:00\", \"2020-09-02T00:00:00\", \"2020-09-02T00:00:00\", \"2020-09-02T00:00:00\", \"2020-09-02T00:00:00\", \"2020-09-03T00:00:00\", \"2020-09-03T00:00:00\", \"2020-09-03T00:00:00\", \"2020-09-03T00:00:00\", \"2020-09-03T00:00:00\", \"2020-09-03T00:00:00\", \"2020-09-03T00:00:00\", \"2020-09-03T00:00:00\", \"2020-09-03T00:00:00\", \"2020-09-03T00:00:00\", \"2020-09-03T00:00:00\", \"2020-09-03T00:00:00\", \"2020-09-03T00:00:00\", \"2020-09-03T00:00:00\", \"2020-09-03T00:00:00\", \"2020-09-03T00:00:00\", \"2020-09-03T00:00:00\", \"2020-09-03T00:00:00\", \"2020-09-03T00:00:00\", \"2020-09-03T00:00:00\", \"2020-09-04T00:00:00\", \"2020-09-04T00:00:00\", \"2020-09-04T00:00:00\", \"2020-09-04T00:00:00\", \"2020-09-04T00:00:00\", \"2020-09-04T00:00:00\", \"2020-09-04T00:00:00\", \"2020-09-04T00:00:00\", \"2020-09-04T00:00:00\", \"2020-09-04T00:00:00\", \"2020-09-04T00:00:00\", \"2020-09-04T00:00:00\", \"2020-09-04T00:00:00\", \"2020-09-04T00:00:00\", \"2020-09-04T00:00:00\", \"2020-09-04T00:00:00\", \"2020-09-05T00:00:00\", \"2020-09-05T00:00:00\", \"2020-09-05T00:00:00\", \"2020-09-05T00:00:00\", \"2020-09-05T00:00:00\", \"2020-09-05T00:00:00\", \"2020-09-05T00:00:00\", \"2020-09-05T00:00:00\", \"2020-09-05T00:00:00\", \"2020-09-05T00:00:00\", \"2020-09-05T00:00:00\", \"2020-09-05T00:00:00\", \"2020-09-05T00:00:00\", \"2020-09-05T00:00:00\", \"2020-09-05T00:00:00\", \"2020-09-05T00:00:00\", \"2020-09-05T00:00:00\", \"2020-09-05T00:00:00\", \"2020-09-05T00:00:00\", \"2020-09-06T00:00:00\", \"2020-09-06T00:00:00\", \"2020-09-06T00:00:00\", \"2020-09-06T00:00:00\", \"2020-09-06T00:00:00\", \"2020-09-06T00:00:00\", \"2020-09-06T00:00:00\", \"2020-09-06T00:00:00\", \"2020-09-06T00:00:00\", \"2020-09-06T00:00:00\", \"2020-09-06T00:00:00\", \"2020-09-06T00:00:00\", \"2020-09-06T00:00:00\", \"2020-09-06T00:00:00\", \"2020-09-06T00:00:00\", \"2020-09-06T00:00:00\", \"2020-09-06T00:00:00\", \"2020-09-06T00:00:00\", \"2020-09-06T00:00:00\", \"2020-09-07T00:00:00\", \"2020-09-07T00:00:00\", \"2020-09-07T00:00:00\", \"2020-09-07T00:00:00\", \"2020-09-07T00:00:00\", \"2020-09-07T00:00:00\", \"2020-09-07T00:00:00\", \"2020-09-07T00:00:00\", \"2020-09-07T00:00:00\", \"2020-09-07T00:00:00\", \"2020-09-07T00:00:00\", \"2020-09-07T00:00:00\", \"2020-09-07T00:00:00\", \"2020-09-07T00:00:00\", \"2020-09-07T00:00:00\", \"2020-09-07T00:00:00\", \"2020-09-07T00:00:00\", \"2020-09-07T00:00:00\", \"2020-09-07T00:00:00\", \"2020-09-08T00:00:00\", \"2020-09-08T00:00:00\", \"2020-09-08T00:00:00\", \"2020-09-08T00:00:00\", \"2020-09-08T00:00:00\", \"2020-09-08T00:00:00\", \"2020-09-08T00:00:00\", \"2020-09-08T00:00:00\", \"2020-09-08T00:00:00\", \"2020-09-08T00:00:00\", \"2020-09-08T00:00:00\", \"2020-09-08T00:00:00\", \"2020-09-08T00:00:00\", \"2020-09-08T00:00:00\", \"2020-09-08T00:00:00\", \"2020-09-08T00:00:00\", \"2020-09-08T00:00:00\", \"2020-09-08T00:00:00\", \"2020-09-08T00:00:00\", \"2020-09-08T00:00:00\", \"2020-09-09T00:00:00\", \"2020-09-09T00:00:00\", \"2020-09-09T00:00:00\", \"2020-09-09T00:00:00\", \"2020-09-09T00:00:00\", \"2020-09-09T00:00:00\", \"2020-09-09T00:00:00\", \"2020-09-09T00:00:00\", \"2020-09-09T00:00:00\", \"2020-09-09T00:00:00\", \"2020-09-09T00:00:00\", \"2020-09-09T00:00:00\", \"2020-09-09T00:00:00\", \"2020-09-09T00:00:00\", \"2020-09-09T00:00:00\", \"2020-09-09T00:00:00\", \"2020-09-09T00:00:00\", \"2020-09-09T00:00:00\", \"2020-09-09T00:00:00\", \"2020-09-10T00:00:00\", \"2020-09-10T00:00:00\", \"2020-09-10T00:00:00\", \"2020-09-10T00:00:00\", \"2020-09-10T00:00:00\", \"2020-09-10T00:00:00\", \"2020-09-10T00:00:00\", \"2020-09-10T00:00:00\", \"2020-09-10T00:00:00\", \"2020-09-10T00:00:00\", \"2020-09-10T00:00:00\", \"2020-09-10T00:00:00\", \"2020-09-10T00:00:00\", \"2020-09-10T00:00:00\", \"2020-09-10T00:00:00\", \"2020-09-11T00:00:00\", \"2020-09-11T00:00:00\", \"2020-09-11T00:00:00\", \"2020-09-11T00:00:00\", \"2020-09-11T00:00:00\", \"2020-09-11T00:00:00\", \"2020-09-11T00:00:00\", \"2020-09-11T00:00:00\", \"2020-09-11T00:00:00\", \"2020-09-11T00:00:00\", \"2020-09-11T00:00:00\", \"2020-09-11T00:00:00\", \"2020-09-11T00:00:00\", \"2020-09-11T00:00:00\", \"2020-09-12T00:00:00\", \"2020-09-12T00:00:00\", \"2020-09-12T00:00:00\", \"2020-09-12T00:00:00\", \"2020-09-12T00:00:00\", \"2020-09-12T00:00:00\", \"2020-09-12T00:00:00\", \"2020-09-12T00:00:00\", \"2020-09-12T00:00:00\", \"2020-09-12T00:00:00\", \"2020-09-12T00:00:00\", \"2020-09-12T00:00:00\", \"2020-09-12T00:00:00\", \"2020-09-12T00:00:00\", \"2020-09-12T00:00:00\", \"2020-09-12T00:00:00\", \"2020-09-12T00:00:00\", \"2020-09-13T00:00:00\", \"2020-09-13T00:00:00\", \"2020-09-13T00:00:00\", \"2020-09-13T00:00:00\", \"2020-09-13T00:00:00\", \"2020-09-13T00:00:00\", \"2020-09-13T00:00:00\", \"2020-09-13T00:00:00\", \"2020-09-13T00:00:00\", \"2020-09-13T00:00:00\", \"2020-09-13T00:00:00\", \"2020-09-13T00:00:00\", \"2020-09-13T00:00:00\", \"2020-09-13T00:00:00\", \"2020-09-13T00:00:00\", \"2020-09-13T00:00:00\", \"2020-09-13T00:00:00\", \"2020-09-14T00:00:00\", \"2020-09-14T00:00:00\", \"2020-09-14T00:00:00\", \"2020-09-14T00:00:00\", \"2020-09-14T00:00:00\", \"2020-09-14T00:00:00\", \"2020-09-14T00:00:00\", \"2020-09-14T00:00:00\", \"2020-09-14T00:00:00\", \"2020-09-14T00:00:00\", \"2020-09-14T00:00:00\", \"2020-09-14T00:00:00\", \"2020-09-14T00:00:00\", \"2020-09-14T00:00:00\", \"2020-09-14T00:00:00\", \"2020-09-14T00:00:00\", \"2020-09-14T00:00:00\", \"2020-09-15T00:00:00\", \"2020-09-15T00:00:00\", \"2020-09-15T00:00:00\", \"2020-09-15T00:00:00\", \"2020-09-15T00:00:00\", \"2020-09-15T00:00:00\", \"2020-09-15T00:00:00\", \"2020-09-15T00:00:00\", \"2020-09-15T00:00:00\", \"2020-09-15T00:00:00\", \"2020-09-15T00:00:00\", \"2020-09-15T00:00:00\", \"2020-09-15T00:00:00\", \"2020-09-15T00:00:00\", \"2020-09-15T00:00:00\", \"2020-09-15T00:00:00\", \"2020-09-16T00:00:00\", \"2020-09-16T00:00:00\", \"2020-09-16T00:00:00\", \"2020-09-16T00:00:00\", \"2020-09-16T00:00:00\", \"2020-09-16T00:00:00\", \"2020-09-16T00:00:00\", \"2020-09-16T00:00:00\", \"2020-09-16T00:00:00\", \"2020-09-16T00:00:00\", \"2020-09-16T00:00:00\", \"2020-09-16T00:00:00\", \"2020-09-16T00:00:00\", \"2020-09-16T00:00:00\", \"2020-09-16T00:00:00\", \"2020-09-16T00:00:00\", \"2020-09-16T00:00:00\", \"2020-09-16T00:00:00\", \"2020-09-17T00:00:00\", \"2020-09-17T00:00:00\", \"2020-09-17T00:00:00\", \"2020-09-17T00:00:00\", \"2020-09-17T00:00:00\", \"2020-09-17T00:00:00\", \"2020-09-17T00:00:00\", \"2020-09-17T00:00:00\", \"2020-09-17T00:00:00\", \"2020-09-17T00:00:00\", \"2020-09-17T00:00:00\", \"2020-09-17T00:00:00\", \"2020-09-17T00:00:00\", \"2020-09-17T00:00:00\", \"2020-09-17T00:00:00\", \"2020-09-17T00:00:00\", \"2020-09-17T00:00:00\", \"2020-09-17T00:00:00\", \"2020-09-17T00:00:00\", \"2020-09-17T00:00:00\", \"2020-09-17T00:00:00\", \"2020-09-17T00:00:00\", \"2020-09-17T00:00:00\", \"2020-09-17T00:00:00\", \"2020-09-17T00:00:00\", \"2020-09-17T00:00:00\", \"2020-09-17T00:00:00\", \"2020-09-17T00:00:00\", \"2020-09-18T00:00:00\", \"2020-09-18T00:00:00\", \"2020-09-18T00:00:00\", \"2020-09-18T00:00:00\", \"2020-09-18T00:00:00\", \"2020-09-18T00:00:00\", \"2020-09-18T00:00:00\", \"2020-09-18T00:00:00\", \"2020-09-18T00:00:00\", \"2020-09-18T00:00:00\", \"2020-09-18T00:00:00\", \"2020-09-18T00:00:00\", \"2020-09-18T00:00:00\", \"2020-09-18T00:00:00\", \"2020-09-18T00:00:00\", \"2020-09-18T00:00:00\", \"2020-09-18T00:00:00\", \"2020-09-18T00:00:00\", \"2020-09-18T00:00:00\", \"2020-09-18T00:00:00\", \"2020-09-18T00:00:00\", \"2020-09-19T00:00:00\", \"2020-09-19T00:00:00\", \"2020-09-19T00:00:00\", \"2020-09-19T00:00:00\", \"2020-09-19T00:00:00\", \"2020-09-19T00:00:00\", \"2020-09-19T00:00:00\", \"2020-09-19T00:00:00\", \"2020-09-19T00:00:00\", \"2020-09-19T00:00:00\", \"2020-09-19T00:00:00\", \"2020-09-19T00:00:00\", \"2020-09-19T00:00:00\", \"2020-09-19T00:00:00\", \"2020-09-20T00:00:00\", \"2020-09-20T00:00:00\", \"2020-09-20T00:00:00\", \"2020-09-20T00:00:00\", \"2020-09-20T00:00:00\", \"2020-09-20T00:00:00\", \"2020-09-20T00:00:00\", \"2020-09-20T00:00:00\", \"2020-09-20T00:00:00\", \"2020-09-20T00:00:00\", \"2020-09-20T00:00:00\", \"2020-09-20T00:00:00\", \"2020-09-20T00:00:00\", \"2020-09-20T00:00:00\", \"2020-09-20T00:00:00\", \"2020-09-21T00:00:00\", \"2020-09-21T00:00:00\", \"2020-09-21T00:00:00\", \"2020-09-21T00:00:00\", \"2020-09-21T00:00:00\", \"2020-09-21T00:00:00\", \"2020-09-21T00:00:00\", \"2020-09-21T00:00:00\", \"2020-09-21T00:00:00\", \"2020-09-21T00:00:00\", \"2020-09-21T00:00:00\", \"2020-09-21T00:00:00\", \"2020-09-21T00:00:00\", \"2020-09-21T00:00:00\", \"2020-09-21T00:00:00\", \"2020-09-21T00:00:00\", \"2020-09-21T00:00:00\", \"2020-09-22T00:00:00\", \"2020-09-22T00:00:00\", \"2020-09-22T00:00:00\", \"2020-09-22T00:00:00\", \"2020-09-22T00:00:00\", \"2020-09-22T00:00:00\", \"2020-09-22T00:00:00\", \"2020-09-22T00:00:00\", \"2020-09-22T00:00:00\", \"2020-09-22T00:00:00\", \"2020-09-22T00:00:00\", \"2020-09-22T00:00:00\", \"2020-09-22T00:00:00\", \"2020-09-22T00:00:00\", \"2020-09-22T00:00:00\", \"2020-09-22T00:00:00\", \"2020-09-22T00:00:00\", \"2020-09-22T00:00:00\", \"2020-09-22T00:00:00\", \"2020-09-22T00:00:00\", \"2020-09-22T00:00:00\", \"2020-09-22T00:00:00\", \"2020-09-23T00:00:00\", \"2020-09-23T00:00:00\", \"2020-09-23T00:00:00\", \"2020-09-23T00:00:00\", \"2020-09-23T00:00:00\", \"2020-09-23T00:00:00\", \"2020-09-23T00:00:00\", \"2020-09-23T00:00:00\", \"2020-09-23T00:00:00\", \"2020-09-23T00:00:00\", \"2020-09-23T00:00:00\", \"2020-09-23T00:00:00\", \"2020-09-24T00:00:00\", \"2020-09-24T00:00:00\", \"2020-09-24T00:00:00\", \"2020-09-24T00:00:00\", \"2020-09-24T00:00:00\", \"2020-09-24T00:00:00\", \"2020-09-24T00:00:00\", \"2020-09-24T00:00:00\", \"2020-09-24T00:00:00\", \"2020-09-24T00:00:00\", \"2020-09-24T00:00:00\", \"2020-09-24T00:00:00\", \"2020-09-24T00:00:00\", \"2020-09-24T00:00:00\", \"2020-09-24T00:00:00\", \"2020-09-24T00:00:00\", \"2020-09-24T00:00:00\", \"2020-09-24T00:00:00\", \"2020-09-24T00:00:00\", \"2020-09-25T00:00:00\", \"2020-09-25T00:00:00\", \"2020-09-25T00:00:00\", \"2020-09-25T00:00:00\", \"2020-09-25T00:00:00\", \"2020-09-25T00:00:00\", \"2020-09-25T00:00:00\", \"2020-09-25T00:00:00\", \"2020-09-25T00:00:00\", \"2020-09-25T00:00:00\", \"2020-09-25T00:00:00\", \"2020-09-25T00:00:00\", \"2020-09-25T00:00:00\", \"2020-09-25T00:00:00\", \"2020-09-25T00:00:00\", \"2020-09-25T00:00:00\", \"2020-09-26T00:00:00\", \"2020-09-26T00:00:00\", \"2020-09-26T00:00:00\", \"2020-09-26T00:00:00\", \"2020-09-26T00:00:00\", \"2020-09-26T00:00:00\", \"2020-09-26T00:00:00\", \"2020-09-26T00:00:00\", \"2020-09-26T00:00:00\", \"2020-09-26T00:00:00\", \"2020-09-26T00:00:00\", \"2020-09-26T00:00:00\", \"2020-09-26T00:00:00\", \"2020-09-26T00:00:00\", \"2020-09-26T00:00:00\", \"2020-09-27T00:00:00\", \"2020-09-27T00:00:00\", \"2020-09-27T00:00:00\", \"2020-09-27T00:00:00\", \"2020-09-27T00:00:00\", \"2020-09-27T00:00:00\", \"2020-09-27T00:00:00\", \"2020-09-27T00:00:00\", \"2020-09-27T00:00:00\", \"2020-09-27T00:00:00\", \"2020-09-27T00:00:00\", \"2020-09-27T00:00:00\", \"2020-09-27T00:00:00\", \"2020-09-27T00:00:00\", \"2020-09-27T00:00:00\", \"2020-09-27T00:00:00\", \"2020-09-27T00:00:00\", \"2020-09-28T00:00:00\", \"2020-09-28T00:00:00\", \"2020-09-28T00:00:00\", \"2020-09-28T00:00:00\", \"2020-09-28T00:00:00\", \"2020-09-28T00:00:00\", \"2020-09-28T00:00:00\", \"2020-09-28T00:00:00\", \"2020-09-28T00:00:00\", \"2020-09-28T00:00:00\", \"2020-09-28T00:00:00\", \"2020-09-28T00:00:00\", \"2020-09-28T00:00:00\", \"2020-09-29T00:00:00\", \"2020-09-29T00:00:00\", \"2020-09-29T00:00:00\", \"2020-09-29T00:00:00\", \"2020-09-29T00:00:00\", \"2020-09-29T00:00:00\", \"2020-09-29T00:00:00\", \"2020-09-29T00:00:00\", \"2020-09-29T00:00:00\", \"2020-09-29T00:00:00\", \"2020-09-29T00:00:00\", \"2020-09-29T00:00:00\", \"2020-09-29T00:00:00\", \"2020-09-29T00:00:00\", \"2020-09-29T00:00:00\", \"2020-09-30T00:00:00\", \"2020-09-30T00:00:00\", \"2020-09-30T00:00:00\", \"2020-09-30T00:00:00\", \"2020-09-30T00:00:00\", \"2020-09-30T00:00:00\", \"2020-09-30T00:00:00\", \"2020-09-30T00:00:00\", \"2020-09-30T00:00:00\", \"2020-09-30T00:00:00\", \"2020-10-01T00:00:00\", \"2020-10-01T00:00:00\", \"2020-10-01T00:00:00\", \"2020-10-01T00:00:00\", \"2020-10-01T00:00:00\", \"2020-10-01T00:00:00\", \"2020-10-01T00:00:00\", \"2020-10-01T00:00:00\", \"2020-10-01T00:00:00\", \"2020-10-01T00:00:00\", \"2020-10-01T00:00:00\", \"2020-10-01T00:00:00\", \"2020-10-01T00:00:00\", \"2020-10-01T00:00:00\", \"2020-10-01T00:00:00\", \"2020-10-01T00:00:00\", \"2020-10-01T00:00:00\", \"2020-10-01T00:00:00\", \"2020-10-02T00:00:00\", \"2020-10-02T00:00:00\", \"2020-10-02T00:00:00\", \"2020-10-02T00:00:00\", \"2020-10-02T00:00:00\", \"2020-10-02T00:00:00\", \"2020-10-02T00:00:00\", \"2020-10-02T00:00:00\", \"2020-10-02T00:00:00\", \"2020-10-02T00:00:00\", \"2020-10-02T00:00:00\", \"2020-10-02T00:00:00\", \"2020-10-02T00:00:00\", \"2020-10-02T00:00:00\", \"2020-10-02T00:00:00\", \"2020-10-02T00:00:00\", \"2020-10-02T00:00:00\", \"2020-10-03T00:00:00\", \"2020-10-03T00:00:00\", \"2020-10-03T00:00:00\", \"2020-10-03T00:00:00\", \"2020-10-03T00:00:00\", \"2020-10-03T00:00:00\", \"2020-10-03T00:00:00\", \"2020-10-03T00:00:00\", \"2020-10-03T00:00:00\", \"2020-10-03T00:00:00\", \"2020-10-03T00:00:00\", \"2020-10-03T00:00:00\", \"2020-10-03T00:00:00\", \"2020-10-03T00:00:00\", \"2020-10-04T00:00:00\", \"2020-10-04T00:00:00\", \"2020-10-04T00:00:00\", \"2020-10-04T00:00:00\", \"2020-10-04T00:00:00\", \"2020-10-04T00:00:00\", \"2020-10-04T00:00:00\", \"2020-10-04T00:00:00\", \"2020-10-04T00:00:00\", \"2020-10-04T00:00:00\", \"2020-10-04T00:00:00\", \"2020-10-04T00:00:00\", \"2020-10-04T00:00:00\", \"2020-10-04T00:00:00\", \"2020-10-04T00:00:00\", \"2020-10-04T00:00:00\", \"2020-10-04T00:00:00\", \"2020-10-04T00:00:00\", \"2020-10-05T00:00:00\", \"2020-10-05T00:00:00\", \"2020-10-05T00:00:00\", \"2020-10-05T00:00:00\", \"2020-10-05T00:00:00\", \"2020-10-05T00:00:00\", \"2020-10-05T00:00:00\", \"2020-10-05T00:00:00\", \"2020-10-05T00:00:00\", \"2020-10-05T00:00:00\", \"2020-10-05T00:00:00\", \"2020-10-05T00:00:00\", \"2020-10-05T00:00:00\", \"2020-10-06T00:00:00\", \"2020-10-06T00:00:00\", \"2020-10-06T00:00:00\", \"2020-10-06T00:00:00\", \"2020-10-06T00:00:00\", \"2020-10-06T00:00:00\", \"2020-10-06T00:00:00\", \"2020-10-06T00:00:00\", \"2020-10-06T00:00:00\", \"2020-10-06T00:00:00\", \"2020-10-06T00:00:00\", \"2020-10-06T00:00:00\", \"2020-10-06T00:00:00\", \"2020-10-06T00:00:00\", \"2020-10-06T00:00:00\", \"2020-10-06T00:00:00\", \"2020-10-06T00:00:00\", \"2020-10-07T00:00:00\", \"2020-10-07T00:00:00\", \"2020-10-07T00:00:00\", \"2020-10-07T00:00:00\", \"2020-10-07T00:00:00\", \"2020-10-07T00:00:00\", \"2020-10-07T00:00:00\", \"2020-10-07T00:00:00\", \"2020-10-07T00:00:00\", \"2020-10-07T00:00:00\", \"2020-10-07T00:00:00\", \"2020-10-07T00:00:00\", \"2020-10-07T00:00:00\", \"2020-10-08T00:00:00\", \"2020-10-08T00:00:00\", \"2020-10-08T00:00:00\", \"2020-10-08T00:00:00\", \"2020-10-08T00:00:00\", \"2020-10-08T00:00:00\", \"2020-10-08T00:00:00\", \"2020-10-08T00:00:00\", \"2020-10-09T00:00:00\", \"2020-10-09T00:00:00\", \"2020-10-09T00:00:00\", \"2020-10-09T00:00:00\", \"2020-10-09T00:00:00\", \"2020-10-09T00:00:00\", \"2020-10-09T00:00:00\", \"2020-10-09T00:00:00\", \"2020-10-09T00:00:00\", \"2020-10-09T00:00:00\", \"2020-10-09T00:00:00\", \"2020-10-09T00:00:00\", \"2020-10-10T00:00:00\", \"2020-10-10T00:00:00\", \"2020-10-10T00:00:00\", \"2020-10-10T00:00:00\", \"2020-10-10T00:00:00\", \"2020-10-10T00:00:00\", \"2020-10-10T00:00:00\", \"2020-10-10T00:00:00\", \"2020-10-10T00:00:00\", \"2020-10-10T00:00:00\", \"2020-10-10T00:00:00\", \"2020-10-10T00:00:00\", \"2020-10-10T00:00:00\", \"2020-10-10T00:00:00\", \"2020-10-10T00:00:00\", \"2020-10-11T00:00:00\", \"2020-10-11T00:00:00\", \"2020-10-11T00:00:00\", \"2020-10-11T00:00:00\", \"2020-10-11T00:00:00\", \"2020-10-11T00:00:00\", \"2020-10-11T00:00:00\", \"2020-10-11T00:00:00\", \"2020-10-11T00:00:00\", \"2020-10-11T00:00:00\", \"2020-10-11T00:00:00\", \"2020-10-11T00:00:00\", \"2020-10-11T00:00:00\", \"2020-10-11T00:00:00\", \"2020-10-11T00:00:00\", \"2020-10-12T00:00:00\", \"2020-10-12T00:00:00\", \"2020-10-12T00:00:00\", \"2020-10-12T00:00:00\", \"2020-10-12T00:00:00\", \"2020-10-12T00:00:00\", \"2020-10-12T00:00:00\", \"2020-10-12T00:00:00\", \"2020-10-12T00:00:00\", \"2020-10-12T00:00:00\", \"2020-10-12T00:00:00\", \"2020-10-12T00:00:00\", \"2020-10-12T00:00:00\", \"2020-10-12T00:00:00\", \"2020-10-12T00:00:00\", \"2020-10-13T00:00:00\", \"2020-10-13T00:00:00\", \"2020-10-13T00:00:00\", \"2020-10-13T00:00:00\", \"2020-10-13T00:00:00\", \"2020-10-13T00:00:00\", \"2020-10-13T00:00:00\", \"2020-10-13T00:00:00\", \"2020-10-13T00:00:00\", \"2020-10-13T00:00:00\", \"2020-10-13T00:00:00\", \"2020-10-13T00:00:00\", \"2020-10-13T00:00:00\", \"2020-10-13T00:00:00\", \"2020-10-13T00:00:00\", \"2020-10-13T00:00:00\", \"2020-10-13T00:00:00\", \"2020-10-13T00:00:00\", \"2020-10-13T00:00:00\", \"2020-10-14T00:00:00\", \"2020-10-14T00:00:00\", \"2020-10-14T00:00:00\", \"2020-10-14T00:00:00\", \"2020-10-14T00:00:00\", \"2020-10-14T00:00:00\", \"2020-10-14T00:00:00\", \"2020-10-14T00:00:00\", \"2020-10-14T00:00:00\", \"2020-10-14T00:00:00\", \"2020-10-14T00:00:00\", \"2020-10-14T00:00:00\", \"2020-10-14T00:00:00\", \"2020-10-15T00:00:00\", \"2020-10-15T00:00:00\", \"2020-10-15T00:00:00\", \"2020-10-15T00:00:00\", \"2020-10-15T00:00:00\", \"2020-10-15T00:00:00\", \"2020-10-15T00:00:00\", \"2020-10-15T00:00:00\", \"2020-10-15T00:00:00\", \"2020-10-15T00:00:00\", \"2020-10-15T00:00:00\", \"2020-10-15T00:00:00\", \"2020-10-15T00:00:00\", \"2020-10-15T00:00:00\", \"2020-10-15T00:00:00\", \"2020-10-16T00:00:00\", \"2020-10-16T00:00:00\", \"2020-10-16T00:00:00\", \"2020-10-16T00:00:00\", \"2020-10-16T00:00:00\", \"2020-10-16T00:00:00\", \"2020-10-16T00:00:00\", \"2020-10-16T00:00:00\", \"2020-10-16T00:00:00\", \"2020-10-16T00:00:00\", \"2020-10-16T00:00:00\", \"2020-10-16T00:00:00\", \"2020-10-16T00:00:00\", \"2020-10-17T00:00:00\", \"2020-10-17T00:00:00\", \"2020-10-17T00:00:00\", \"2020-10-17T00:00:00\", \"2020-10-17T00:00:00\", \"2020-10-17T00:00:00\", \"2020-10-17T00:00:00\", \"2020-10-17T00:00:00\", \"2020-10-17T00:00:00\", \"2020-10-17T00:00:00\", \"2020-10-17T00:00:00\", \"2020-10-18T00:00:00\", \"2020-10-18T00:00:00\", \"2020-10-18T00:00:00\", \"2020-10-18T00:00:00\", \"2020-10-18T00:00:00\", \"2020-10-18T00:00:00\", \"2020-10-18T00:00:00\", \"2020-10-18T00:00:00\", \"2020-10-18T00:00:00\", \"2020-10-18T00:00:00\", \"2020-10-18T00:00:00\", \"2020-10-18T00:00:00\", \"2020-10-19T00:00:00\", \"2020-10-19T00:00:00\", \"2020-10-19T00:00:00\", \"2020-10-19T00:00:00\", \"2020-10-19T00:00:00\", \"2020-10-19T00:00:00\", \"2020-10-19T00:00:00\", \"2020-10-19T00:00:00\", \"2020-10-19T00:00:00\", \"2020-10-19T00:00:00\", \"2020-10-19T00:00:00\", \"2020-10-19T00:00:00\", \"2020-10-19T00:00:00\", \"2020-10-20T00:00:00\", \"2020-10-20T00:00:00\", \"2020-10-20T00:00:00\", \"2020-10-20T00:00:00\", \"2020-10-20T00:00:00\", \"2020-10-20T00:00:00\", \"2020-10-20T00:00:00\", \"2020-10-20T00:00:00\", \"2020-10-20T00:00:00\", \"2020-10-20T00:00:00\", \"2020-10-20T00:00:00\", \"2020-10-20T00:00:00\", \"2020-10-21T00:00:00\", \"2020-10-21T00:00:00\", \"2020-10-21T00:00:00\", \"2020-10-21T00:00:00\", \"2020-10-21T00:00:00\", \"2020-10-21T00:00:00\", \"2020-10-21T00:00:00\", \"2020-10-21T00:00:00\", \"2020-10-21T00:00:00\", \"2020-10-21T00:00:00\", \"2020-10-21T00:00:00\", \"2020-10-21T00:00:00\", \"2020-10-22T00:00:00\", \"2020-10-22T00:00:00\", \"2020-10-22T00:00:00\", \"2020-10-22T00:00:00\", \"2020-10-22T00:00:00\", \"2020-10-22T00:00:00\", \"2020-10-22T00:00:00\", \"2020-10-22T00:00:00\", \"2020-10-22T00:00:00\", \"2020-10-22T00:00:00\", \"2020-10-22T00:00:00\", \"2020-10-22T00:00:00\", \"2020-10-22T00:00:00\", \"2020-10-23T00:00:00\", \"2020-10-23T00:00:00\", \"2020-10-23T00:00:00\", \"2020-10-23T00:00:00\", \"2020-10-23T00:00:00\", \"2020-10-23T00:00:00\", \"2020-10-23T00:00:00\", \"2020-10-23T00:00:00\", \"2020-10-23T00:00:00\", \"2020-10-23T00:00:00\", \"2020-10-23T00:00:00\", \"2020-10-24T00:00:00\", \"2020-10-24T00:00:00\", \"2020-10-24T00:00:00\", \"2020-10-24T00:00:00\", \"2020-10-24T00:00:00\", \"2020-10-24T00:00:00\", \"2020-10-24T00:00:00\", \"2020-10-24T00:00:00\", \"2020-10-25T00:00:00\", \"2020-10-25T00:00:00\", \"2020-10-25T00:00:00\", \"2020-10-25T00:00:00\", \"2020-10-25T00:00:00\", \"2020-10-25T00:00:00\", \"2020-10-25T00:00:00\", \"2020-10-25T00:00:00\", \"2020-10-25T00:00:00\", \"2020-10-25T00:00:00\", \"2020-10-25T00:00:00\", \"2020-10-25T00:00:00\", \"2020-10-26T00:00:00\", \"2020-10-26T00:00:00\", \"2020-10-26T00:00:00\", \"2020-10-26T00:00:00\", \"2020-10-26T00:00:00\", \"2020-10-26T00:00:00\", \"2020-10-26T00:00:00\", \"2020-10-26T00:00:00\", \"2020-10-26T00:00:00\", \"2020-10-26T00:00:00\", \"2020-10-26T00:00:00\", \"2020-10-27T00:00:00\", \"2020-10-27T00:00:00\", \"2020-10-27T00:00:00\", \"2020-10-27T00:00:00\", \"2020-10-27T00:00:00\", \"2020-10-27T00:00:00\", \"2020-10-27T00:00:00\", \"2020-10-27T00:00:00\", \"2020-10-27T00:00:00\", \"2020-10-27T00:00:00\", \"2020-10-27T00:00:00\", \"2020-10-28T00:00:00\", \"2020-10-28T00:00:00\", \"2020-10-28T00:00:00\", \"2020-10-28T00:00:00\", \"2020-10-28T00:00:00\", \"2020-10-28T00:00:00\", \"2020-10-28T00:00:00\", \"2020-10-28T00:00:00\", \"2020-10-28T00:00:00\", \"2020-10-28T00:00:00\", \"2020-10-28T00:00:00\", \"2020-10-28T00:00:00\", \"2020-10-29T00:00:00\", \"2020-10-29T00:00:00\", \"2020-10-29T00:00:00\", \"2020-10-29T00:00:00\", \"2020-10-29T00:00:00\", \"2020-10-29T00:00:00\", \"2020-10-29T00:00:00\", \"2020-10-29T00:00:00\", \"2020-10-29T00:00:00\", \"2020-10-29T00:00:00\", \"2020-10-29T00:00:00\", \"2020-10-29T00:00:00\", \"2020-10-29T00:00:00\", \"2020-10-30T00:00:00\", \"2020-10-30T00:00:00\", \"2020-10-30T00:00:00\", \"2020-10-30T00:00:00\", \"2020-10-30T00:00:00\", \"2020-10-30T00:00:00\", \"2020-10-30T00:00:00\", \"2020-10-30T00:00:00\", \"2020-10-30T00:00:00\", \"2020-10-31T00:00:00\", \"2020-10-31T00:00:00\", \"2020-10-31T00:00:00\", \"2020-10-31T00:00:00\", \"2020-10-31T00:00:00\", \"2020-10-31T00:00:00\", \"2020-10-31T00:00:00\", \"2020-10-31T00:00:00\", \"2020-10-31T00:00:00\", \"2020-10-31T00:00:00\", \"2020-10-31T00:00:00\", \"2020-11-01T00:00:00\", \"2020-11-01T00:00:00\", \"2020-11-01T00:00:00\", \"2020-11-01T00:00:00\", \"2020-11-01T00:00:00\", \"2020-11-01T00:00:00\", \"2020-11-01T00:00:00\", \"2020-11-01T00:00:00\", \"2020-11-02T00:00:00\", \"2020-11-02T00:00:00\", \"2020-11-02T00:00:00\", \"2020-11-02T00:00:00\", \"2020-11-02T00:00:00\", \"2020-11-02T00:00:00\", \"2020-11-02T00:00:00\", \"2020-11-02T00:00:00\", \"2020-11-02T00:00:00\", \"2020-11-02T00:00:00\", \"2020-11-02T00:00:00\", \"2020-11-03T00:00:00\", \"2020-11-03T00:00:00\", \"2020-11-03T00:00:00\", \"2020-11-03T00:00:00\", \"2020-11-03T00:00:00\", \"2020-11-03T00:00:00\", \"2020-11-03T00:00:00\", \"2020-11-03T00:00:00\", \"2020-11-03T00:00:00\", \"2020-11-03T00:00:00\", \"2020-11-03T00:00:00\", \"2020-11-03T00:00:00\", \"2020-11-04T00:00:00\", \"2020-11-04T00:00:00\", \"2020-11-04T00:00:00\", \"2020-11-04T00:00:00\", \"2020-11-04T00:00:00\", \"2020-11-04T00:00:00\", \"2020-11-04T00:00:00\", \"2020-11-04T00:00:00\", \"2020-11-04T00:00:00\", \"2020-11-04T00:00:00\", \"2020-11-04T00:00:00\", \"2020-11-04T00:00:00\", \"2020-11-04T00:00:00\", \"2020-11-05T00:00:00\", \"2020-11-05T00:00:00\", \"2020-11-05T00:00:00\", \"2020-11-05T00:00:00\", \"2020-11-05T00:00:00\", \"2020-11-05T00:00:00\", \"2020-11-05T00:00:00\", \"2020-11-05T00:00:00\", \"2020-11-05T00:00:00\", \"2020-11-05T00:00:00\", \"2020-11-05T00:00:00\", \"2020-11-05T00:00:00\", \"2020-11-05T00:00:00\", \"2020-11-05T00:00:00\", \"2020-11-06T00:00:00\", \"2020-11-06T00:00:00\", \"2020-11-06T00:00:00\", \"2020-11-06T00:00:00\", \"2020-11-06T00:00:00\", \"2020-11-06T00:00:00\", \"2020-11-06T00:00:00\", \"2020-11-06T00:00:00\", \"2020-11-06T00:00:00\", \"2020-11-06T00:00:00\", \"2020-11-06T00:00:00\", \"2020-11-06T00:00:00\", \"2020-11-07T00:00:00\", \"2020-11-07T00:00:00\", \"2020-11-07T00:00:00\", \"2020-11-07T00:00:00\", \"2020-11-07T00:00:00\", \"2020-11-07T00:00:00\", \"2020-11-07T00:00:00\", \"2020-11-07T00:00:00\", \"2020-11-07T00:00:00\", \"2020-11-08T00:00:00\", \"2020-11-08T00:00:00\", \"2020-11-08T00:00:00\", \"2020-11-08T00:00:00\", \"2020-11-08T00:00:00\", \"2020-11-08T00:00:00\", \"2020-11-08T00:00:00\", \"2020-11-08T00:00:00\", \"2020-11-08T00:00:00\", \"2020-11-08T00:00:00\", \"2020-11-09T00:00:00\", \"2020-11-09T00:00:00\", \"2020-11-09T00:00:00\", \"2020-11-09T00:00:00\", \"2020-11-09T00:00:00\", \"2020-11-09T00:00:00\", \"2020-11-09T00:00:00\", \"2020-11-09T00:00:00\", \"2020-11-09T00:00:00\", \"2020-11-09T00:00:00\", \"2020-11-09T00:00:00\", \"2020-11-09T00:00:00\", \"2020-11-09T00:00:00\", \"2020-11-09T00:00:00\", \"2020-11-09T00:00:00\", \"2020-11-10T00:00:00\", \"2020-11-10T00:00:00\", \"2020-11-10T00:00:00\", \"2020-11-10T00:00:00\", \"2020-11-10T00:00:00\", \"2020-11-10T00:00:00\", \"2020-11-10T00:00:00\", \"2020-11-10T00:00:00\", \"2020-11-10T00:00:00\", \"2020-11-10T00:00:00\", \"2020-11-10T00:00:00\", \"2020-11-10T00:00:00\", \"2020-11-11T00:00:00\", \"2020-11-11T00:00:00\", \"2020-11-11T00:00:00\", \"2020-11-11T00:00:00\", \"2020-11-11T00:00:00\", \"2020-11-11T00:00:00\", \"2020-11-11T00:00:00\", \"2020-11-11T00:00:00\", \"2020-11-11T00:00:00\", \"2020-11-11T00:00:00\", \"2020-11-11T00:00:00\", \"2020-11-11T00:00:00\", \"2020-11-11T00:00:00\", \"2020-11-12T00:00:00\", \"2020-11-12T00:00:00\", \"2020-11-12T00:00:00\", \"2020-11-12T00:00:00\", \"2020-11-12T00:00:00\", \"2020-11-12T00:00:00\", \"2020-11-12T00:00:00\", \"2020-11-12T00:00:00\", \"2020-11-12T00:00:00\", \"2020-11-12T00:00:00\", \"2020-11-12T00:00:00\", \"2020-11-13T00:00:00\", \"2020-11-13T00:00:00\", \"2020-11-13T00:00:00\", \"2020-11-13T00:00:00\", \"2020-11-13T00:00:00\", \"2020-11-13T00:00:00\", \"2020-11-13T00:00:00\", \"2020-11-13T00:00:00\", \"2020-11-13T00:00:00\", \"2020-11-13T00:00:00\", \"2020-11-14T00:00:00\", \"2020-11-14T00:00:00\", \"2020-11-14T00:00:00\", \"2020-11-14T00:00:00\", \"2020-11-14T00:00:00\", \"2020-11-14T00:00:00\", \"2020-11-14T00:00:00\", \"2020-11-14T00:00:00\", \"2020-11-14T00:00:00\", \"2020-11-15T00:00:00\", \"2020-11-15T00:00:00\", \"2020-11-15T00:00:00\", \"2020-11-15T00:00:00\", \"2020-11-15T00:00:00\", \"2020-11-15T00:00:00\", \"2020-11-15T00:00:00\", \"2020-11-15T00:00:00\", \"2020-11-15T00:00:00\", \"2020-11-15T00:00:00\", \"2020-11-15T00:00:00\", \"2020-11-15T00:00:00\", \"2020-11-15T00:00:00\", \"2020-11-15T00:00:00\", \"2020-11-15T00:00:00\", \"2020-11-15T00:00:00\", \"2020-11-15T00:00:00\", \"2020-11-15T00:00:00\", \"2020-11-15T00:00:00\", \"2020-11-16T00:00:00\", \"2020-11-16T00:00:00\", \"2020-11-16T00:00:00\", \"2020-11-16T00:00:00\", \"2020-11-16T00:00:00\", \"2020-11-16T00:00:00\", \"2020-11-16T00:00:00\", \"2020-11-16T00:00:00\", \"2020-11-16T00:00:00\", \"2020-11-16T00:00:00\", \"2020-11-16T00:00:00\", \"2020-11-16T00:00:00\", \"2020-11-16T00:00:00\", \"2020-11-16T00:00:00\", \"2020-11-16T00:00:00\", \"2020-11-16T00:00:00\", \"2020-11-16T00:00:00\", \"2020-11-16T00:00:00\", \"2020-11-16T00:00:00\", \"2020-11-16T00:00:00\", \"2020-11-16T00:00:00\", \"2020-11-16T00:00:00\", \"2020-11-16T00:00:00\", \"2020-11-16T00:00:00\", \"2020-11-16T00:00:00\", \"2020-11-16T00:00:00\", \"2020-11-16T00:00:00\", \"2020-11-16T00:00:00\", \"2020-11-17T00:00:00\", \"2020-11-17T00:00:00\", \"2020-11-17T00:00:00\", \"2020-11-17T00:00:00\", \"2020-11-17T00:00:00\", \"2020-11-17T00:00:00\", \"2020-11-17T00:00:00\", \"2020-11-17T00:00:00\", \"2020-11-17T00:00:00\", \"2020-11-17T00:00:00\", \"2020-11-17T00:00:00\", \"2020-11-17T00:00:00\", \"2020-11-17T00:00:00\", \"2020-11-17T00:00:00\", \"2020-11-17T00:00:00\", \"2020-11-17T00:00:00\", \"2020-11-17T00:00:00\", \"2020-11-17T00:00:00\", \"2020-11-17T00:00:00\", \"2020-11-17T00:00:00\", \"2020-11-17T00:00:00\", \"2020-11-18T00:00:00\", \"2020-11-18T00:00:00\", \"2020-11-18T00:00:00\", \"2020-11-18T00:00:00\", \"2020-11-18T00:00:00\", \"2020-11-18T00:00:00\", \"2020-11-18T00:00:00\", \"2020-11-18T00:00:00\", \"2020-11-18T00:00:00\", \"2020-11-18T00:00:00\", \"2020-11-18T00:00:00\", \"2020-11-18T00:00:00\", \"2020-11-18T00:00:00\", \"2020-11-18T00:00:00\", \"2020-11-18T00:00:00\", \"2020-11-18T00:00:00\", \"2020-11-18T00:00:00\", \"2020-11-19T00:00:00\", \"2020-11-19T00:00:00\", \"2020-11-19T00:00:00\", \"2020-11-19T00:00:00\", \"2020-11-19T00:00:00\", \"2020-11-19T00:00:00\", \"2020-11-19T00:00:00\", \"2020-11-19T00:00:00\", \"2020-11-19T00:00:00\", \"2020-11-19T00:00:00\", \"2020-11-19T00:00:00\", \"2020-11-19T00:00:00\", \"2020-11-19T00:00:00\", \"2020-11-19T00:00:00\", \"2020-11-19T00:00:00\", \"2020-11-19T00:00:00\", \"2020-11-19T00:00:00\", \"2020-11-19T00:00:00\", \"2020-11-19T00:00:00\", \"2020-11-20T00:00:00\", \"2020-11-20T00:00:00\", \"2020-11-20T00:00:00\", \"2020-11-20T00:00:00\", \"2020-11-20T00:00:00\", \"2020-11-20T00:00:00\", \"2020-11-20T00:00:00\", \"2020-11-20T00:00:00\", \"2020-11-20T00:00:00\", \"2020-11-20T00:00:00\", \"2020-11-20T00:00:00\", \"2020-11-20T00:00:00\", \"2020-11-20T00:00:00\", \"2020-11-20T00:00:00\", \"2020-11-20T00:00:00\", \"2020-11-20T00:00:00\", \"2020-11-20T00:00:00\", \"2020-11-20T00:00:00\", \"2020-11-21T00:00:00\", \"2020-11-21T00:00:00\", \"2020-11-21T00:00:00\", \"2020-11-21T00:00:00\", \"2020-11-21T00:00:00\", \"2020-11-21T00:00:00\", \"2020-11-21T00:00:00\", \"2020-11-21T00:00:00\", \"2020-11-21T00:00:00\", \"2020-11-21T00:00:00\", \"2020-11-21T00:00:00\", \"2020-11-21T00:00:00\", \"2020-11-21T00:00:00\", \"2020-11-21T00:00:00\", \"2020-11-21T00:00:00\", \"2020-11-21T00:00:00\", \"2020-11-21T00:00:00\", \"2020-11-21T00:00:00\", \"2020-11-22T00:00:00\", \"2020-11-22T00:00:00\", \"2020-11-22T00:00:00\", \"2020-11-22T00:00:00\", \"2020-11-22T00:00:00\", \"2020-11-22T00:00:00\", \"2020-11-22T00:00:00\", \"2020-11-22T00:00:00\", \"2020-11-22T00:00:00\", \"2020-11-22T00:00:00\", \"2020-11-22T00:00:00\", \"2020-11-22T00:00:00\", \"2020-11-22T00:00:00\", \"2020-11-23T00:00:00\", \"2020-11-23T00:00:00\", \"2020-11-23T00:00:00\", \"2020-11-23T00:00:00\", \"2020-11-23T00:00:00\", \"2020-11-23T00:00:00\", \"2020-11-23T00:00:00\", \"2020-11-23T00:00:00\", \"2020-11-23T00:00:00\", \"2020-11-23T00:00:00\", \"2020-11-23T00:00:00\", \"2020-11-23T00:00:00\", \"2020-11-23T00:00:00\", \"2020-11-23T00:00:00\", \"2020-11-23T00:00:00\", \"2020-11-24T00:00:00\", \"2020-11-24T00:00:00\", \"2020-11-24T00:00:00\", \"2020-11-24T00:00:00\", \"2020-11-24T00:00:00\", \"2020-11-24T00:00:00\", \"2020-11-24T00:00:00\", \"2020-11-24T00:00:00\", \"2020-11-24T00:00:00\", \"2020-11-24T00:00:00\", \"2020-11-24T00:00:00\", \"2020-11-24T00:00:00\", \"2020-11-24T00:00:00\", \"2020-11-24T00:00:00\", \"2020-11-24T00:00:00\", \"2020-11-24T00:00:00\", \"2020-11-24T00:00:00\", \"2020-11-24T00:00:00\", \"2020-11-25T00:00:00\", \"2020-11-25T00:00:00\", \"2020-11-25T00:00:00\", \"2020-11-25T00:00:00\", \"2020-11-25T00:00:00\", \"2020-11-25T00:00:00\", \"2020-11-25T00:00:00\", \"2020-11-25T00:00:00\", \"2020-11-25T00:00:00\", \"2020-11-25T00:00:00\", \"2020-11-25T00:00:00\", \"2020-11-25T00:00:00\", \"2020-11-25T00:00:00\", \"2020-11-25T00:00:00\", \"2020-11-25T00:00:00\", \"2020-11-25T00:00:00\", \"2020-11-25T00:00:00\", \"2020-11-26T00:00:00\", \"2020-11-26T00:00:00\", \"2020-11-26T00:00:00\", \"2020-11-26T00:00:00\", \"2020-11-26T00:00:00\", \"2020-11-26T00:00:00\", \"2020-11-26T00:00:00\", \"2020-11-26T00:00:00\", \"2020-11-26T00:00:00\", \"2020-11-26T00:00:00\", \"2020-11-26T00:00:00\", \"2020-11-26T00:00:00\", \"2020-11-26T00:00:00\", \"2020-11-26T00:00:00\", \"2020-11-27T00:00:00\", \"2020-11-27T00:00:00\", \"2020-11-27T00:00:00\", \"2020-11-27T00:00:00\", \"2020-11-27T00:00:00\", \"2020-11-27T00:00:00\", \"2020-11-27T00:00:00\", \"2020-11-27T00:00:00\", \"2020-11-27T00:00:00\", \"2020-11-27T00:00:00\", \"2020-11-27T00:00:00\", \"2020-11-27T00:00:00\", \"2020-11-27T00:00:00\", \"2020-11-27T00:00:00\", \"2020-11-27T00:00:00\", \"2020-11-27T00:00:00\", \"2020-11-28T00:00:00\", \"2020-11-28T00:00:00\", \"2020-11-28T00:00:00\", \"2020-11-28T00:00:00\", \"2020-11-28T00:00:00\", \"2020-11-28T00:00:00\", \"2020-11-28T00:00:00\", \"2020-11-28T00:00:00\", \"2020-11-28T00:00:00\", \"2020-11-28T00:00:00\", \"2020-11-28T00:00:00\", \"2020-11-28T00:00:00\", \"2020-11-28T00:00:00\", \"2020-11-28T00:00:00\", \"2020-11-29T00:00:00\", \"2020-11-29T00:00:00\", \"2020-11-29T00:00:00\", \"2020-11-29T00:00:00\", \"2020-11-29T00:00:00\", \"2020-11-29T00:00:00\", \"2020-11-29T00:00:00\", \"2020-11-29T00:00:00\", \"2020-11-29T00:00:00\", \"2020-11-29T00:00:00\", \"2020-11-29T00:00:00\", \"2020-11-29T00:00:00\", \"2020-11-29T00:00:00\", \"2020-11-29T00:00:00\", \"2020-11-29T00:00:00\", \"2020-11-30T00:00:00\", \"2020-11-30T00:00:00\", \"2020-11-30T00:00:00\", \"2020-11-30T00:00:00\", \"2020-11-30T00:00:00\", \"2020-11-30T00:00:00\", \"2020-11-30T00:00:00\", \"2020-11-30T00:00:00\", \"2020-11-30T00:00:00\", \"2020-11-30T00:00:00\", \"2020-11-30T00:00:00\", \"2020-12-01T00:00:00\", \"2020-12-01T00:00:00\", \"2020-12-01T00:00:00\", \"2020-12-01T00:00:00\", \"2020-12-01T00:00:00\", \"2020-12-01T00:00:00\", \"2020-12-01T00:00:00\", \"2020-12-01T00:00:00\", \"2020-12-01T00:00:00\", \"2020-12-01T00:00:00\", \"2020-12-01T00:00:00\", \"2020-12-01T00:00:00\", \"2020-12-02T00:00:00\", \"2020-12-02T00:00:00\", \"2020-12-02T00:00:00\", \"2020-12-02T00:00:00\", \"2020-12-02T00:00:00\", \"2020-12-02T00:00:00\", \"2020-12-02T00:00:00\", \"2020-12-02T00:00:00\", \"2020-12-02T00:00:00\", \"2020-12-02T00:00:00\", \"2020-12-02T00:00:00\", \"2020-12-02T00:00:00\", \"2020-12-02T00:00:00\", \"2020-12-02T00:00:00\", \"2020-12-03T00:00:00\", \"2020-12-03T00:00:00\", \"2020-12-03T00:00:00\", \"2020-12-03T00:00:00\", \"2020-12-03T00:00:00\", \"2020-12-03T00:00:00\", \"2020-12-03T00:00:00\", \"2020-12-03T00:00:00\", \"2020-12-03T00:00:00\", \"2020-12-03T00:00:00\", \"2020-12-03T00:00:00\", \"2020-12-03T00:00:00\", \"2020-12-03T00:00:00\", \"2020-12-03T00:00:00\", \"2020-12-03T00:00:00\", \"2020-12-04T00:00:00\", \"2020-12-04T00:00:00\", \"2020-12-04T00:00:00\", \"2020-12-04T00:00:00\", \"2020-12-04T00:00:00\", \"2020-12-04T00:00:00\", \"2020-12-04T00:00:00\", \"2020-12-04T00:00:00\", \"2020-12-04T00:00:00\", \"2020-12-04T00:00:00\", \"2020-12-04T00:00:00\", \"2020-12-05T00:00:00\", \"2020-12-05T00:00:00\", \"2020-12-05T00:00:00\", \"2020-12-05T00:00:00\", \"2020-12-05T00:00:00\", \"2020-12-05T00:00:00\", \"2020-12-05T00:00:00\", \"2020-12-05T00:00:00\", \"2020-12-05T00:00:00\", \"2020-12-05T00:00:00\", \"2020-12-06T00:00:00\", \"2020-12-06T00:00:00\", \"2020-12-06T00:00:00\", \"2020-12-06T00:00:00\", \"2020-12-06T00:00:00\", \"2020-12-06T00:00:00\", \"2020-12-06T00:00:00\", \"2020-12-06T00:00:00\", \"2020-12-06T00:00:00\", \"2020-12-06T00:00:00\", \"2020-12-06T00:00:00\", \"2020-12-07T00:00:00\", \"2020-12-07T00:00:00\", \"2020-12-07T00:00:00\", \"2020-12-07T00:00:00\", \"2020-12-07T00:00:00\", \"2020-12-07T00:00:00\", \"2020-12-07T00:00:00\", \"2020-12-07T00:00:00\", \"2020-12-07T00:00:00\", \"2020-12-07T00:00:00\", \"2020-12-07T00:00:00\", \"2020-12-07T00:00:00\", \"2020-12-08T00:00:00\", \"2020-12-08T00:00:00\", \"2020-12-08T00:00:00\", \"2020-12-08T00:00:00\", \"2020-12-08T00:00:00\", \"2020-12-08T00:00:00\", \"2020-12-08T00:00:00\", \"2020-12-08T00:00:00\", \"2020-12-08T00:00:00\", \"2020-12-08T00:00:00\", \"2020-12-08T00:00:00\", \"2020-12-08T00:00:00\", \"2020-12-08T00:00:00\", \"2020-12-08T00:00:00\", \"2020-12-08T00:00:00\", \"2020-12-08T00:00:00\", \"2020-12-08T00:00:00\", \"2020-12-08T00:00:00\", \"2020-12-08T00:00:00\", \"2020-12-08T00:00:00\", \"2020-12-09T00:00:00\", \"2020-12-09T00:00:00\", \"2020-12-09T00:00:00\", \"2020-12-09T00:00:00\", \"2020-12-09T00:00:00\", \"2020-12-09T00:00:00\", \"2020-12-09T00:00:00\", \"2020-12-09T00:00:00\", \"2020-12-09T00:00:00\", \"2020-12-09T00:00:00\", \"2020-12-09T00:00:00\", \"2020-12-09T00:00:00\", \"2020-12-09T00:00:00\", \"2020-12-09T00:00:00\", \"2020-12-09T00:00:00\", \"2020-12-09T00:00:00\", \"2020-12-10T00:00:00\", \"2020-12-10T00:00:00\", \"2020-12-10T00:00:00\", \"2020-12-10T00:00:00\", \"2020-12-10T00:00:00\", \"2020-12-10T00:00:00\", \"2020-12-10T00:00:00\", \"2020-12-10T00:00:00\", \"2020-12-10T00:00:00\", \"2020-12-11T00:00:00\", \"2020-12-11T00:00:00\", \"2020-12-11T00:00:00\", \"2020-12-11T00:00:00\", \"2020-12-11T00:00:00\", \"2020-12-11T00:00:00\", \"2020-12-11T00:00:00\", \"2020-12-11T00:00:00\", \"2020-12-11T00:00:00\", \"2020-12-11T00:00:00\", \"2020-12-11T00:00:00\", \"2020-12-11T00:00:00\", \"2020-12-11T00:00:00\", \"2020-12-11T00:00:00\", \"2020-12-12T00:00:00\", \"2020-12-12T00:00:00\", \"2020-12-12T00:00:00\", \"2020-12-12T00:00:00\", \"2020-12-12T00:00:00\", \"2020-12-12T00:00:00\", \"2020-12-12T00:00:00\", \"2020-12-12T00:00:00\", \"2020-12-12T00:00:00\", \"2020-12-12T00:00:00\", \"2020-12-12T00:00:00\", \"2020-12-12T00:00:00\", \"2020-12-12T00:00:00\", \"2020-12-12T00:00:00\", \"2020-12-12T00:00:00\", \"2020-12-13T00:00:00\", \"2020-12-13T00:00:00\", \"2020-12-13T00:00:00\", \"2020-12-13T00:00:00\", \"2020-12-13T00:00:00\", \"2020-12-13T00:00:00\", \"2020-12-13T00:00:00\", \"2020-12-13T00:00:00\", \"2020-12-13T00:00:00\", \"2020-12-13T00:00:00\", \"2020-12-13T00:00:00\", \"2020-12-13T00:00:00\", \"2020-12-13T00:00:00\", \"2020-12-13T00:00:00\", \"2020-12-13T00:00:00\", \"2020-12-13T00:00:00\", \"2020-12-13T00:00:00\", \"2020-12-13T00:00:00\", \"2020-12-14T00:00:00\", \"2020-12-14T00:00:00\", \"2020-12-14T00:00:00\", \"2020-12-14T00:00:00\", \"2020-12-14T00:00:00\", \"2020-12-14T00:00:00\", \"2020-12-14T00:00:00\", \"2020-12-14T00:00:00\", \"2020-12-14T00:00:00\", \"2020-12-15T00:00:00\", \"2020-12-15T00:00:00\", \"2020-12-15T00:00:00\", \"2020-12-15T00:00:00\", \"2020-12-15T00:00:00\", \"2020-12-15T00:00:00\", \"2020-12-15T00:00:00\", \"2020-12-15T00:00:00\", \"2020-12-15T00:00:00\", \"2020-12-15T00:00:00\", \"2020-12-15T00:00:00\", \"2020-12-15T00:00:00\", \"2020-12-15T00:00:00\", \"2020-12-15T00:00:00\", \"2020-12-15T00:00:00\", \"2020-12-15T00:00:00\", \"2020-12-15T00:00:00\", \"2020-12-16T00:00:00\", \"2020-12-16T00:00:00\", \"2020-12-16T00:00:00\", \"2020-12-16T00:00:00\", \"2020-12-16T00:00:00\", \"2020-12-16T00:00:00\", \"2020-12-16T00:00:00\", \"2020-12-16T00:00:00\", \"2020-12-16T00:00:00\", \"2020-12-16T00:00:00\", \"2020-12-16T00:00:00\", \"2020-12-16T00:00:00\", \"2020-12-16T00:00:00\", \"2020-12-16T00:00:00\", \"2020-12-16T00:00:00\", \"2020-12-16T00:00:00\", \"2020-12-17T00:00:00\", \"2020-12-17T00:00:00\", \"2020-12-17T00:00:00\", \"2020-12-17T00:00:00\", \"2020-12-17T00:00:00\", \"2020-12-17T00:00:00\", \"2020-12-17T00:00:00\", \"2020-12-17T00:00:00\", \"2020-12-17T00:00:00\", \"2020-12-17T00:00:00\", \"2020-12-17T00:00:00\", \"2020-12-17T00:00:00\", \"2020-12-17T00:00:00\", \"2020-12-17T00:00:00\", \"2020-12-17T00:00:00\", \"2020-12-17T00:00:00\", \"2020-12-17T00:00:00\", \"2020-12-17T00:00:00\", \"2020-12-18T00:00:00\", \"2020-12-18T00:00:00\", \"2020-12-18T00:00:00\", \"2020-12-18T00:00:00\", \"2020-12-18T00:00:00\", \"2020-12-18T00:00:00\", \"2020-12-18T00:00:00\", \"2020-12-18T00:00:00\", \"2020-12-18T00:00:00\", \"2020-12-18T00:00:00\", \"2020-12-18T00:00:00\", \"2020-12-19T00:00:00\", \"2020-12-19T00:00:00\", \"2020-12-19T00:00:00\", \"2020-12-19T00:00:00\", \"2020-12-19T00:00:00\", \"2020-12-19T00:00:00\", \"2020-12-19T00:00:00\", \"2020-12-19T00:00:00\", \"2020-12-20T00:00:00\", \"2020-12-20T00:00:00\", \"2020-12-20T00:00:00\", \"2020-12-20T00:00:00\", \"2020-12-20T00:00:00\", \"2020-12-20T00:00:00\", \"2020-12-20T00:00:00\", \"2020-12-20T00:00:00\", \"2020-12-20T00:00:00\", \"2020-12-20T00:00:00\", \"2020-12-20T00:00:00\", \"2020-12-20T00:00:00\", \"2020-12-20T00:00:00\", \"2020-12-21T00:00:00\", \"2020-12-21T00:00:00\", \"2020-12-21T00:00:00\", \"2020-12-21T00:00:00\", \"2020-12-21T00:00:00\", \"2020-12-21T00:00:00\", \"2020-12-21T00:00:00\", \"2020-12-21T00:00:00\", \"2020-12-21T00:00:00\", \"2020-12-21T00:00:00\", \"2020-12-21T00:00:00\", \"2020-12-21T00:00:00\", \"2020-12-21T00:00:00\", \"2020-12-21T00:00:00\", \"2020-12-21T00:00:00\", \"2020-12-21T00:00:00\", \"2020-12-21T00:00:00\", \"2020-12-21T00:00:00\", \"2020-12-21T00:00:00\", \"2020-12-22T00:00:00\", \"2020-12-22T00:00:00\", \"2020-12-22T00:00:00\", \"2020-12-22T00:00:00\", \"2020-12-22T00:00:00\", \"2020-12-22T00:00:00\", \"2020-12-22T00:00:00\", \"2020-12-22T00:00:00\", \"2020-12-22T00:00:00\", \"2020-12-22T00:00:00\", \"2020-12-22T00:00:00\", \"2020-12-22T00:00:00\", \"2020-12-22T00:00:00\", \"2020-12-23T00:00:00\", \"2020-12-23T00:00:00\", \"2020-12-23T00:00:00\", \"2020-12-23T00:00:00\", \"2020-12-23T00:00:00\", \"2020-12-23T00:00:00\", \"2020-12-23T00:00:00\", \"2020-12-23T00:00:00\", \"2020-12-23T00:00:00\", \"2020-12-23T00:00:00\", \"2020-12-23T00:00:00\", \"2020-12-23T00:00:00\", \"2020-12-23T00:00:00\", \"2020-12-23T00:00:00\", \"2020-12-23T00:00:00\", \"2020-12-24T00:00:00\", \"2020-12-24T00:00:00\", \"2020-12-24T00:00:00\", \"2020-12-24T00:00:00\", \"2020-12-24T00:00:00\", \"2020-12-24T00:00:00\", \"2020-12-24T00:00:00\", \"2020-12-24T00:00:00\", \"2020-12-24T00:00:00\", \"2020-12-24T00:00:00\", \"2020-12-24T00:00:00\", \"2020-12-24T00:00:00\", \"2020-12-24T00:00:00\", \"2020-12-24T00:00:00\", \"2020-12-24T00:00:00\", \"2020-12-25T00:00:00\", \"2020-12-25T00:00:00\", \"2020-12-25T00:00:00\", \"2020-12-25T00:00:00\", \"2020-12-25T00:00:00\", \"2020-12-25T00:00:00\", \"2020-12-25T00:00:00\", \"2020-12-25T00:00:00\", \"2020-12-25T00:00:00\", \"2020-12-25T00:00:00\", \"2020-12-25T00:00:00\", \"2020-12-26T00:00:00\", \"2020-12-26T00:00:00\", \"2020-12-26T00:00:00\", \"2020-12-26T00:00:00\", \"2020-12-26T00:00:00\", \"2020-12-26T00:00:00\", \"2020-12-26T00:00:00\", \"2020-12-26T00:00:00\", \"2020-12-26T00:00:00\", \"2020-12-26T00:00:00\", \"2020-12-26T00:00:00\", \"2020-12-26T00:00:00\", \"2020-12-27T00:00:00\", \"2020-12-27T00:00:00\", \"2020-12-27T00:00:00\", \"2020-12-27T00:00:00\", \"2020-12-27T00:00:00\", \"2020-12-27T00:00:00\", \"2020-12-27T00:00:00\", \"2020-12-27T00:00:00\", \"2020-12-27T00:00:00\", \"2020-12-27T00:00:00\", \"2020-12-28T00:00:00\", \"2020-12-28T00:00:00\", \"2020-12-28T00:00:00\", \"2020-12-28T00:00:00\", \"2020-12-28T00:00:00\", \"2020-12-28T00:00:00\", \"2020-12-28T00:00:00\", \"2020-12-28T00:00:00\", \"2020-12-28T00:00:00\", \"2020-12-29T00:00:00\", \"2020-12-29T00:00:00\", \"2020-12-29T00:00:00\", \"2020-12-29T00:00:00\", \"2020-12-29T00:00:00\", \"2020-12-29T00:00:00\", \"2020-12-29T00:00:00\", \"2020-12-30T00:00:00\", \"2020-12-30T00:00:00\", \"2020-12-30T00:00:00\", \"2020-12-30T00:00:00\", \"2020-12-30T00:00:00\", \"2020-12-30T00:00:00\", \"2020-12-30T00:00:00\", \"2020-12-30T00:00:00\", \"2020-12-30T00:00:00\", \"2020-12-30T00:00:00\", \"2020-12-30T00:00:00\", \"2020-12-30T00:00:00\", \"2020-12-30T00:00:00\", \"2020-12-30T00:00:00\", \"2020-12-30T00:00:00\", \"2020-12-30T00:00:00\", \"2020-12-30T00:00:00\", \"2020-12-30T00:00:00\", \"2020-12-31T00:00:00\", \"2020-12-31T00:00:00\", \"2020-12-31T00:00:00\", \"2020-12-31T00:00:00\", \"2020-12-31T00:00:00\", \"2020-12-31T00:00:00\", \"2020-12-31T00:00:00\", \"2020-12-31T00:00:00\", \"2020-12-31T00:00:00\", \"2020-12-31T00:00:00\", \"2020-12-31T00:00:00\", \"2020-12-31T00:00:00\", \"2020-12-31T00:00:00\", \"2021-01-01T00:00:00\", \"2021-01-01T00:00:00\", \"2021-01-01T00:00:00\", \"2021-01-01T00:00:00\", \"2021-01-01T00:00:00\", \"2021-01-01T00:00:00\", \"2021-01-01T00:00:00\", \"2021-01-01T00:00:00\", \"2021-01-01T00:00:00\", \"2021-01-01T00:00:00\", \"2021-01-01T00:00:00\", \"2021-01-02T00:00:00\", \"2021-01-02T00:00:00\", \"2021-01-02T00:00:00\", \"2021-01-02T00:00:00\", \"2021-01-02T00:00:00\", \"2021-01-02T00:00:00\", \"2021-01-02T00:00:00\", \"2021-01-02T00:00:00\", \"2021-01-02T00:00:00\", \"2021-01-02T00:00:00\", \"2021-01-03T00:00:00\", \"2021-01-03T00:00:00\", \"2021-01-03T00:00:00\", \"2021-01-03T00:00:00\", \"2021-01-03T00:00:00\", \"2021-01-03T00:00:00\", \"2021-01-03T00:00:00\", \"2021-01-03T00:00:00\", \"2021-01-04T00:00:00\", \"2021-01-04T00:00:00\", \"2021-01-04T00:00:00\", \"2021-01-04T00:00:00\", \"2021-01-04T00:00:00\", \"2021-01-04T00:00:00\", \"2021-01-04T00:00:00\", \"2021-01-04T00:00:00\", \"2021-01-04T00:00:00\", \"2021-01-04T00:00:00\", \"2021-01-04T00:00:00\", \"2021-01-05T00:00:00\", \"2021-01-05T00:00:00\", \"2021-01-05T00:00:00\", \"2021-01-05T00:00:00\", \"2021-01-05T00:00:00\", \"2021-01-05T00:00:00\", \"2021-01-05T00:00:00\", \"2021-01-06T00:00:00\", \"2021-01-06T00:00:00\", \"2021-01-06T00:00:00\", \"2021-01-06T00:00:00\", \"2021-01-06T00:00:00\", \"2021-01-06T00:00:00\", \"2021-01-06T00:00:00\", \"2021-01-06T00:00:00\", \"2021-01-06T00:00:00\", \"2021-01-06T00:00:00\", \"2021-01-06T00:00:00\", \"2021-01-06T00:00:00\", \"2021-01-07T00:00:00\", \"2021-01-07T00:00:00\", \"2021-01-07T00:00:00\", \"2021-01-07T00:00:00\", \"2021-01-07T00:00:00\", \"2021-01-07T00:00:00\", \"2021-01-07T00:00:00\", \"2021-01-07T00:00:00\", \"2021-01-07T00:00:00\", \"2021-01-07T00:00:00\", \"2021-01-07T00:00:00\", \"2021-01-07T00:00:00\", \"2021-01-07T00:00:00\", \"2021-01-07T00:00:00\", \"2021-01-07T00:00:00\", \"2021-01-07T00:00:00\", \"2021-01-07T00:00:00\", \"2021-01-07T00:00:00\", \"2021-01-07T00:00:00\", \"2021-01-07T00:00:00\", \"2021-01-07T00:00:00\", \"2021-01-08T00:00:00\", \"2021-01-08T00:00:00\", \"2021-01-08T00:00:00\", \"2021-01-08T00:00:00\", \"2021-01-08T00:00:00\", \"2021-01-08T00:00:00\", \"2021-01-08T00:00:00\", \"2021-01-08T00:00:00\", \"2021-01-08T00:00:00\", \"2021-01-08T00:00:00\", \"2021-01-08T00:00:00\", \"2021-01-09T00:00:00\", \"2021-01-09T00:00:00\", \"2021-01-09T00:00:00\", \"2021-01-09T00:00:00\", \"2021-01-09T00:00:00\", \"2021-01-09T00:00:00\", \"2021-01-09T00:00:00\", \"2021-01-09T00:00:00\", \"2021-01-09T00:00:00\", \"2021-01-09T00:00:00\", \"2021-01-09T00:00:00\", \"2021-01-09T00:00:00\", \"2021-01-09T00:00:00\", \"2021-01-10T00:00:00\", \"2021-01-10T00:00:00\", \"2021-01-10T00:00:00\", \"2021-01-10T00:00:00\", \"2021-01-10T00:00:00\", \"2021-01-10T00:00:00\", \"2021-01-10T00:00:00\", \"2021-01-10T00:00:00\", \"2021-01-10T00:00:00\", \"2021-01-10T00:00:00\", \"2021-01-10T00:00:00\", \"2021-01-11T00:00:00\", \"2021-01-11T00:00:00\", \"2021-01-11T00:00:00\", \"2021-01-11T00:00:00\", \"2021-01-11T00:00:00\", \"2021-01-11T00:00:00\", \"2021-01-11T00:00:00\", \"2021-01-11T00:00:00\", \"2021-01-11T00:00:00\", \"2021-01-11T00:00:00\", \"2021-01-11T00:00:00\", \"2021-01-11T00:00:00\", \"2021-01-11T00:00:00\", \"2021-01-11T00:00:00\", \"2021-01-11T00:00:00\", \"2021-01-11T00:00:00\", \"2021-01-11T00:00:00\", \"2021-01-12T00:00:00\", \"2021-01-12T00:00:00\", \"2021-01-12T00:00:00\", \"2021-01-12T00:00:00\", \"2021-01-12T00:00:00\", \"2021-01-12T00:00:00\", \"2021-01-12T00:00:00\", \"2021-01-12T00:00:00\", \"2021-01-13T00:00:00\", \"2021-01-13T00:00:00\", \"2021-01-13T00:00:00\", \"2021-01-13T00:00:00\", \"2021-01-13T00:00:00\", \"2021-01-13T00:00:00\", \"2021-01-13T00:00:00\", \"2021-01-13T00:00:00\", \"2021-01-13T00:00:00\", \"2021-01-13T00:00:00\", \"2021-01-13T00:00:00\", \"2021-01-13T00:00:00\", \"2021-01-13T00:00:00\", \"2021-01-13T00:00:00\", \"2021-01-13T00:00:00\", \"2021-01-14T00:00:00\", \"2021-01-14T00:00:00\", \"2021-01-14T00:00:00\", \"2021-01-14T00:00:00\", \"2021-01-14T00:00:00\", \"2021-01-14T00:00:00\", \"2021-01-14T00:00:00\", \"2021-01-14T00:00:00\", \"2021-01-14T00:00:00\", \"2021-01-14T00:00:00\", \"2021-01-14T00:00:00\", \"2021-01-14T00:00:00\", \"2021-01-14T00:00:00\", \"2021-01-14T00:00:00\", \"2021-01-14T00:00:00\", \"2021-01-14T00:00:00\", \"2021-01-14T00:00:00\", \"2021-01-15T00:00:00\", \"2021-01-15T00:00:00\", \"2021-01-15T00:00:00\", \"2021-01-15T00:00:00\", \"2021-01-15T00:00:00\", \"2021-01-15T00:00:00\", \"2021-01-15T00:00:00\", \"2021-01-15T00:00:00\", \"2021-01-15T00:00:00\", \"2021-01-15T00:00:00\", \"2021-01-15T00:00:00\", \"2021-01-15T00:00:00\", \"2021-01-15T00:00:00\", \"2021-01-15T00:00:00\", \"2021-01-15T00:00:00\", \"2021-01-15T00:00:00\", \"2021-01-15T00:00:00\", \"2021-01-15T00:00:00\", \"2021-01-15T00:00:00\", \"2021-01-15T00:00:00\", \"2021-01-16T00:00:00\", \"2021-01-16T00:00:00\", \"2021-01-16T00:00:00\", \"2021-01-16T00:00:00\", \"2021-01-16T00:00:00\", \"2021-01-16T00:00:00\", \"2021-01-16T00:00:00\", \"2021-01-16T00:00:00\", \"2021-01-16T00:00:00\", \"2021-01-16T00:00:00\", \"2021-01-16T00:00:00\", \"2021-01-16T00:00:00\", \"2021-01-17T00:00:00\", \"2021-01-17T00:00:00\", \"2021-01-17T00:00:00\", \"2021-01-17T00:00:00\", \"2021-01-17T00:00:00\", \"2021-01-17T00:00:00\", \"2021-01-17T00:00:00\", \"2021-01-17T00:00:00\", \"2021-01-17T00:00:00\", \"2021-01-17T00:00:00\", \"2021-01-17T00:00:00\", \"2021-01-17T00:00:00\", \"2021-01-17T00:00:00\", \"2021-01-17T00:00:00\", \"2021-01-17T00:00:00\", \"2021-01-17T00:00:00\", \"2021-01-17T00:00:00\", \"2021-01-17T00:00:00\", \"2021-01-17T00:00:00\", \"2021-01-18T00:00:00\", \"2021-01-18T00:00:00\", \"2021-01-18T00:00:00\", \"2021-01-18T00:00:00\", \"2021-01-18T00:00:00\", \"2021-01-18T00:00:00\", \"2021-01-18T00:00:00\", \"2021-01-18T00:00:00\", \"2021-01-18T00:00:00\", \"2021-01-18T00:00:00\", \"2021-01-18T00:00:00\", \"2021-01-18T00:00:00\", \"2021-01-18T00:00:00\", \"2021-01-18T00:00:00\", \"2021-01-18T00:00:00\", \"2021-01-18T00:00:00\", \"2021-01-18T00:00:00\", \"2021-01-18T00:00:00\", \"2021-01-18T00:00:00\", \"2021-01-18T00:00:00\", \"2021-01-18T00:00:00\", \"2021-01-18T00:00:00\", \"2021-01-18T00:00:00\", \"2021-01-19T00:00:00\", \"2021-01-19T00:00:00\", \"2021-01-19T00:00:00\", \"2021-01-19T00:00:00\", \"2021-01-19T00:00:00\", \"2021-01-19T00:00:00\", \"2021-01-19T00:00:00\", \"2021-01-19T00:00:00\", \"2021-01-19T00:00:00\", \"2021-01-19T00:00:00\", \"2021-01-19T00:00:00\", \"2021-01-19T00:00:00\", \"2021-01-19T00:00:00\", \"2021-01-19T00:00:00\", \"2021-01-19T00:00:00\", \"2021-01-19T00:00:00\", \"2021-01-19T00:00:00\", \"2021-01-19T00:00:00\", \"2021-01-19T00:00:00\", \"2021-01-19T00:00:00\", \"2021-01-19T00:00:00\", \"2021-01-20T00:00:00\", \"2021-01-20T00:00:00\", \"2021-01-20T00:00:00\", \"2021-01-20T00:00:00\", \"2021-01-20T00:00:00\", \"2021-01-20T00:00:00\", \"2021-01-20T00:00:00\", \"2021-01-20T00:00:00\", \"2021-01-20T00:00:00\", \"2021-01-20T00:00:00\", \"2021-01-20T00:00:00\", \"2021-01-20T00:00:00\", \"2021-01-20T00:00:00\", \"2021-01-20T00:00:00\", \"2021-01-20T00:00:00\", \"2021-01-20T00:00:00\", \"2021-01-20T00:00:00\", \"2021-01-21T00:00:00\", \"2021-01-21T00:00:00\", \"2021-01-21T00:00:00\", \"2021-01-21T00:00:00\", \"2021-01-21T00:00:00\", \"2021-01-21T00:00:00\", \"2021-01-21T00:00:00\", \"2021-01-21T00:00:00\", \"2021-01-21T00:00:00\", \"2021-01-21T00:00:00\", \"2021-01-21T00:00:00\", \"2021-01-21T00:00:00\", \"2021-01-21T00:00:00\", \"2021-01-21T00:00:00\", \"2021-01-22T00:00:00\", \"2021-01-22T00:00:00\", \"2021-01-22T00:00:00\", \"2021-01-22T00:00:00\", \"2021-01-22T00:00:00\", \"2021-01-22T00:00:00\", \"2021-01-22T00:00:00\", \"2021-01-22T00:00:00\", \"2021-01-22T00:00:00\", \"2021-01-22T00:00:00\", \"2021-01-22T00:00:00\", \"2021-01-23T00:00:00\", \"2021-01-23T00:00:00\", \"2021-01-23T00:00:00\", \"2021-01-23T00:00:00\", \"2021-01-23T00:00:00\", \"2021-01-23T00:00:00\", \"2021-01-23T00:00:00\", \"2021-01-23T00:00:00\", \"2021-01-23T00:00:00\", \"2021-01-23T00:00:00\", \"2021-01-23T00:00:00\", \"2021-01-23T00:00:00\", \"2021-01-23T00:00:00\", \"2021-01-23T00:00:00\", \"2021-01-24T00:00:00\", \"2021-01-24T00:00:00\", \"2021-01-24T00:00:00\", \"2021-01-24T00:00:00\", \"2021-01-24T00:00:00\", \"2021-01-24T00:00:00\", \"2021-01-24T00:00:00\", \"2021-01-24T00:00:00\", \"2021-01-24T00:00:00\", \"2021-01-24T00:00:00\", \"2021-01-24T00:00:00\", \"2021-01-24T00:00:00\", \"2021-01-24T00:00:00\", \"2021-01-24T00:00:00\", \"2021-01-24T00:00:00\", \"2021-01-25T00:00:00\", \"2021-01-25T00:00:00\", \"2021-01-25T00:00:00\", \"2021-01-25T00:00:00\", \"2021-01-25T00:00:00\", \"2021-01-25T00:00:00\", \"2021-01-25T00:00:00\", \"2021-01-25T00:00:00\", \"2021-01-25T00:00:00\", \"2021-01-25T00:00:00\", \"2021-01-25T00:00:00\", \"2021-01-25T00:00:00\", \"2021-01-25T00:00:00\", \"2021-01-25T00:00:00\", \"2021-01-25T00:00:00\", \"2021-01-25T00:00:00\", \"2021-01-25T00:00:00\", \"2021-01-25T00:00:00\", \"2021-01-25T00:00:00\", \"2021-01-25T00:00:00\", \"2021-01-25T00:00:00\", \"2021-01-26T00:00:00\", \"2021-01-26T00:00:00\", \"2021-01-26T00:00:00\", \"2021-01-26T00:00:00\", \"2021-01-26T00:00:00\", \"2021-01-26T00:00:00\", \"2021-01-26T00:00:00\", \"2021-01-26T00:00:00\", \"2021-01-26T00:00:00\", \"2021-01-26T00:00:00\", \"2021-01-26T00:00:00\", \"2021-01-26T00:00:00\", \"2021-01-26T00:00:00\", \"2021-01-26T00:00:00\", \"2021-01-26T00:00:00\", \"2021-01-27T00:00:00\", \"2021-01-27T00:00:00\", \"2021-01-27T00:00:00\", \"2021-01-27T00:00:00\", \"2021-01-27T00:00:00\", \"2021-01-27T00:00:00\", \"2021-01-27T00:00:00\", \"2021-01-27T00:00:00\", \"2021-01-27T00:00:00\", \"2021-01-27T00:00:00\", \"2021-01-28T00:00:00\", \"2021-01-28T00:00:00\", \"2021-01-28T00:00:00\", \"2021-01-28T00:00:00\", \"2021-01-28T00:00:00\", \"2021-01-28T00:00:00\", \"2021-01-28T00:00:00\", \"2021-01-28T00:00:00\", \"2021-01-28T00:00:00\", \"2021-01-28T00:00:00\", \"2021-01-28T00:00:00\", \"2021-01-28T00:00:00\", \"2021-01-28T00:00:00\", \"2021-01-28T00:00:00\", \"2021-01-28T00:00:00\", \"2021-01-28T00:00:00\", \"2021-01-28T00:00:00\", \"2021-01-28T00:00:00\", \"2021-01-28T00:00:00\", \"2021-01-28T00:00:00\", \"2021-01-29T00:00:00\", \"2021-01-29T00:00:00\", \"2021-01-29T00:00:00\", \"2021-01-29T00:00:00\", \"2021-01-29T00:00:00\", \"2021-01-29T00:00:00\", \"2021-01-29T00:00:00\", \"2021-01-29T00:00:00\", \"2021-01-29T00:00:00\", \"2021-01-29T00:00:00\", \"2021-01-29T00:00:00\", \"2021-01-29T00:00:00\", \"2021-01-29T00:00:00\", \"2021-01-29T00:00:00\", \"2021-01-29T00:00:00\", \"2021-01-29T00:00:00\"], \"y\": [1, 3, 12, 2, 4, 19, 19, 21, 49, 36, 34, 18, 69, 83, 34, 46, 41, 27, 1, 22, 33, 7, 7, 13, 80, 1, 1, 1, 36, 65, 97, 2, 4, 83, 3, 69, 1, 76, 198, 118, 1, 114, 1, 56, 1, 2, 84, 24, 225, 85, 1, 9, 200, 1, 1, 148, 3, 164, 1, 157, 2, 131, 1, 1, 1, 4, 1, 5, 1, 170, 6, 1, 267, 3, 2, 3, 1, 11, 2, 1, 1, 178, 1, 171, 1, 2, 18, 1, 3, 4, 203, 4, 13, 440, 1, 1, 3, 1, 3, 5, 6, 282, 14, 6, 19, 161, 10, 3, 1, 109, 12, 131, 1, 5, 4, 1, 5, 11, 5, 1, 230, 4, 1, 4, 5, 149, 16, 5, 10, 1, 194, 10, 4, 1, 142, 1, 1, 3, 20, 316, 1, 23, 1, 13, 1, 2, 363, 3, 3, 4, 7, 520, 1, 1, 25, 2, 443, 3, 1, 4, 1, 1, 10, 57, 3, 3, 2, 1, 1, 1, 673, 1, 1, 1, 30, 1, 18, 6, 2, 2, 1, 10, 3, 11, 1, 4, 1, 6, 1, 478, 8, 1, 66, 1, 1, 419, 1, 10, 1, 4, 1, 1, 1, 89, 1, 1, 4, 7, 3, 1, 1, 2, 19, 0, 2, 1, 1, 5, 839, 0, 4, 1, 0, 2, 0, 0, 0, 1, 5, 0, 488, 4, 0, 0, 3, 1, 2, 1, 642, 2, 2, 1, 2, 1, 0, 0, 1, 9, 0, 1, 1, 1, 3, 44, 3, 1, 1, 5, 10, 2, 4, 0, 3, 730, 2, 12, 0, 7, 1, 1, 2, 8, 1, 2, 7, 1, 4, 86, 815, 1, 9, 1, 0, 1, 8, 1, 6, 1, 714, 3, 1, 2, 0, 1, 3, 5, 2, 0, 2, 2, 2, 61, 3, 2, 1, 2, 1, 0, 1, 4, 1, 0, 1, 2, 118, 3, 1, 4, 2, 1, 856, 4, 2, 0, 0, 0, 6, 1, 1, 4, 0, 794, 0, 2, 1, 0, 0, 0, 0, 0, 2, 0, 0, 0, 742, 1, 6, 0, 5, 2, 2, 1, 2, 1, 0, 1, 1, 2, 0, 0, 765, 1, 8, 7, 2, 1, 1, 0, 0, 3, 0, 1, 2, 1, 1, 3, 0, 4, 1, 1, 0, 0, 3, 789, 5, 9, 2, 1, 1, 739, 2, 0, 1, 5, 1, 1, 0, 1, 1, 13, 1, 5, 4, 0, 0, 0, 1, 0, 611, 1, 0, 0, 0, 0, 0, 0, 0, 4, 0, 0, 0, 0, 3, 2, 3, 3, 483, 10, 6, 4, 2, 6, 0, 1, 2, 5, 1, 4, 0, 1, 1, 11, 0, 1, 3, 2, 1, 1, 1, 2, 1, 679, 0, 1, 0, 3, 2, 1, 1, 1, 0, 0, 0, 0, 6, 0, 0, 4, 0, 8, 2, 0, 504, 0, 0, 1, 0, 1, 2, 0, 1, 7, 2, 0, 4, 20, 27, 668, 2, 2, 1, 2, 11, 7, 4, 5, 0, 0, 3, 5, 0, 1, 3, 13, 3, 2, 2, 1, 3, 556, 2, 72, 1, 0, 0, 2, 1, 0, 1, 1, 1, 1, 1, 4, 1, 0, 4, 683, 1, 1, 1, 12, 3, 6, 2, 8, 4, 12, 5, 2, 4, 4, 1, 1, 4, 3, 1, 0, 3, 1, 9, 675, 2, 2, 1, 2, 2, 1, 3, 8, 1, 19, 4, 1, 7, 2, 0, 1, 0, 0, 719, 2, 0, 0, 0, 20, 17, 2, 28, 1, 6, 1, 4, 1, 1, 5, 6, 1, 2, 5, 2, 10, 51, 900, 7, 1, 2, 2, 6, 18, 1, 13, 1, 1, 2, 3, 1, 717, 1, 1, 27, 10, 3, 2, 1, 2, 2, 8, 2, 1, 1, 13, 22, 0, 18, 0, 1, 41, 746, 1, 3, 1, 1, 0, 1, 2, 3, 2, 11, 0, 12, 3, 1, 0, 6, 3, 2, 4, 2, 2, 5, 1, 1, 2, 1099, 39, 16, 3, 2, 1, 23, 1317, 7, 0, 55, 6, 1, 2, 1, 2, 5, 4, 63, 5, 11, 5, 3, 6, 1, 3, 28, 1, 34, 4, 16, 6, 4, 0, 6, 1, 19, 4, 6, 1431, 1, 2, 2, 1, 22, 2, 31, 5, 3, 1, 28, 34, 3, 6, 3, 40, 3, 11, 10, 7, 1, 1, 2, 1, 4, 3, 93, 12, 2, 1, 1, 27, 1, 1, 3, 1584, 5, 2, 42, 0, 22, 5, 22, 5, 6, 8, 9, 10, 19, 1089, 8, 13, 4, 3, 5, 0, 34, 3, 2, 1, 1, 4, 1, 1, 2, 27, 0, 2, 0, 4, 1, 11, 0, 11, 11, 1, 7, 54, 4, 16, 8, 2, 34, 22, 30, 1, 1, 5, 2, 50, 6, 1735, 0, 6, 2, 12, 0, 7, 17, 4, 2, 27, 1658, 0, 1, 5, 12, 1, 4, 1, 4, 7, 3, 4, 1, 8, 1, 0, 1, 0, 2, 36, 21, 1, 0, 3, 26, 1, 6, 71, 4, 1, 3, 1, 1, 54, 10, 17, 12, 31, 12, 4, 1629, 14, 1, 1, 22, 8, 1, 7, 5, 1, 39, 4, 11, 1, 10, 33, 5, 16, 0, 6, 7, 46, 1, 4, 1, 2371, 6, 17, 11, 2, 3, 5, 4, 5, 1, 0, 1, 4, 5, 2, 7, 3, 11, 1, 3, 1, 91, 4, 0, 4, 0, 8, 9, 40, 102, 1, 3, 1442, 23, 10, 1091, 2, 30, 8, 16, 2, 11, 1, 5, 1, 4, 2, 0, 1, 6, 5, 2, 1, 7, 5, 8, 6, 4, 0, 36, 3, 41, 15, 75, 3, 0, 17, 2, 27, 5, 0, 1, 4, 8, 0, 1, 0, 0, 0, 14, 22, 0, 0, 0, 5, 740, 0, 47, 0, 0, 5, 0, 4, 2, 2, 0, 7, 3, 6, 0, 2, 13, 7, 1, 2, 2, 2, 11, 27, 5, 15, 2, 2, 668, 1, 3, 0, 0, 1, 438, 7, 0, 1, 8, 8, 0, 1, 0, 1, 2, 0, 0, 0, 0, 2, 0, 1, 42, 0, 0, 0, 2, 2, 0, 0, 45, 0, 0, 5, 0, 0, 0, 1, 0, 0, 0, 0, 0, 299, 0, 0, 9, 1, 12, 0, 0, 4, 0, 0, 1, 1, 0, 0, 4, 0, 0, 0, 0, 11, 0, 1, 2, 0, 0, 225, 0, 4, 0, 1, 7, 42, 0, 0, 8, 0, 3, 4, 0, 0, 0, 0, 0, 0, 2, 8, 0, 0, 0, 0, 0, 2, 1, 0, 241, 0, 0, 33, 0, 4, 0, 0, 1, 0, 0, 0, 0, 0, 217, 9, 14, 0, 0, 0, 0, 8, 0, 1, 0, 0, 3, 0, 1, 0, 0, 0, 0, 0, 11, 0, 2, 1, 0, 3, 0, 0, 8, 2, 0, 0, 0, 0, 0, 6, 0, 0, 0, 0, 3, 16, 0, 0, 0, 0, 0, 0, 181, 0, 6, 0, 1, 5, 0, 0, 0, 1, 3, 6, 0, 12, 389, 6, 0, 0, 0, 0, 0, 23, 1, 20, 20, 1, 3, 0, 2, 363, 3, 2, 5, 4, 0, 22, 0, 0, 8, 2, 10, 1, 1, 0, 2, 1, 17, 10, 19, 25, 13, 1, 0, 12, 7, 0, 12, 1, 2, 2, 5, 5, 1, 4, 8, 342, 9, 0, 0, 0, 8, 1, 3, 2, 3, 18, 401, 24, 18, 36, 4, 4, 2, 9, 8, 1, 3, 30, 11, 2, 0, 1, 397, 2, 4, 0, 0, 0, 7, 10, 5, 8, 7, 5, 1, 2, 30, 30, 2, 3, 18, 21, 2, 2, 4, 1, 2, 6, 2, 22, 13, 2, 11, 17, 1, 2, 35, 5, 0, 2, 383, 8, 27, 0, 7, 2, 5, 5, 9, 4, 0, 3, 2, 4, 0, 0, 0, 10, 0, 0, 11, 42, 4, 1, 0, 0, 28, 0, 0, 3, 10, 3, 0, 107, 9, 0, 360, 9, 1, 7, 0, 8, 68, 1, 8, 14, 5, 0, 4, 1, 0, 332, 1, 8, 4, 2, 13, 5, 0, 29, 0, 4, 2, 0, 1, 1, 1, 2, 6, 38, 330, 5, 5, 9, 5, 0, 0, 0, 24, 10, 7, 0, 4, 0, 0, 0, 19, 4, 5, 3, 0, 2, 0, 10, 0, 28, 0, 2, 15, 5, 2, 3, 5, 308, 3, 1, 8, 13, 2, 0, 7, 0, 0, 0, 1, 12, 11, 5, 3, 6, 7, 8, 3, 3, 5, 0, 3, 22, 20, 0, 2, 2, 288, 46, 16, 2, 2, 3, 11, 1, 0, 4, 3, 1, 0, 5, 0, 3, 4, 16, 0, 3, 0, 5, 22, 0, 364, 0, 3, 8, 0, 6, 0, 0, 4, 0, 296, 8, 3, 3, 3, 0, 4, 0, 3, 6, 3, 0, 1, 4, 14, 6, 2, 2, 30, 5, 0, 5, 19, 9, 10, 1, 1, 285, 3, 20, 8, 1, 6, 3, 0, 0, 8, 1, 11, 3, 7, 13, 9, 1, 4, 6, 0, 5, 0, 0, 14, 1, 0, 247, 2, 3, 9, 0, 14, 0, 1, 3, 4, 0, 4, 70, 20, 2, 7, 1, 9, 2, 6, 5, 4, 1, 0, 10, 1, 0, 10, 0, 8, 8, 1, 0, 0, 18, 0, 258, 18, 3, 3, 18, 0, 0, 1, 13, 0, 0, 24, 9, 211, 1, 0, 5, 0, 1, 9, 7, 1, 1, 30, 7, 1, 2, 4, 3, 1, 0, 2, 18, 2, 29, 0, 1, 14, 1, 8, 0, 0, 5, 7, 12, 1, 0, 6, 2, 0, 226, 3, 0, 8, 0, 14, 5, 0, 0, 0, 0, 0, 0, 29, 1, 0, 0, 3, 1, 1, 6, 2, 5, 3, 2, 208, 4, 3, 19, 0, 5, 3, 2, 27, 0, 0, 6, 2, 1, 0, 6, 2, 3, 9, 2, 0, 185, 0, 0, 4, 5, 1, 0, 4, 3, 11, 13, 1, 1, 3, 14, 0, 1, 6, 3, 1, 2, 31, 0, 1, 2, 1, 4, 212, 9, 15, 0, 11, 5, 6, 1, 2, 2, 1, 0, 0, 0, 0, 0, 6, 178, 0, 0, 0, 0, 5, 1, 0, 3, 6, 2, 3, 53, 0, 0, 1, 1, 1, 35, 4, 5, 5, 2, 0, 2, 0, 0, 1, 0, 9, 9, 3, 2, 169, 2, 1, 0, 32, 7, 4, 4, 1, 2, 0, 0, 0, 1, 8, 0, 14, 0, 0, 5, 5, 3, 1, 44, 4, 0, 4, 0, 2, 2, 0, 1, 158, 1, 4, 3, 0, 11, 22, 0, 1, 1, 3, 2, 3, 2, 31, 0, 136, 0, 5, 0, 1, 2, 13, 1, 5, 1, 0, 1, 0, 2, 1, 4, 1, 6, 2, 2, 5, 143, 1, 3, 4, 3, 0, 2, 1, 1, 1, 10, 10, 2, 6, 0, 2, 1, 1, 2, 6, 3, 0, 3, 2, 13, 13, 7, 8, 4, 1, 0, 6, 1, 3, 3, 8, 5, 0, 5, 2, 1, 1, 3, 1, 0, 4, 0, 5, 1, 139, 0, 0, 2, 12, 6, 9, 3, 8, 2, 17, 15, 2, 13, 0, 12, 5, 1, 18, 15, 2, 21, 5, 1, 3, 14, 118, 1, 6, 5, 126, 0, 7, 0, 0, 1, 2, 2, 1, 5, 0, 10, 15, 5, 0, 0, 1, 1, 0, 8, 0, 3, 3, 5, 3, 3, 7, 6, 0, 3, 0, 4, 21, 0, 1, 4, 1, 7, 0, 0, 0, 106, 0, 2, 0, 0, 23, 6, 1, 0, 10, 2, 3, 0, 0, 0, 0, 8, 0, 1, 1, 2, 20, 0, 118, 7, 0, 0, 2, 2, 3, 0, 0, 4, 0, 0, 0, 1, 3, 2, 1, 0, 0, 2, 0, 8, 30, 4, 2, 0, 0, 0, 0, 0, 0, 0, 108, 0, 0, 3, 0, 13, 0, 0, 3, 2, 0, 1, 0, 0, 0, 3, 114, 0, 0, 0, 0, 0, 5, 0, 0, 1, 0, 24, 4, 4, 0, 3, 0, 5, 0, 0, 1, 6, 0, 1, 1, 0, 9, 5, 13, 0, 99, 5, 0, 2, 0, 2, 7, 1, 0, 0, 7, 102, 2, 1, 10, 5, 7, 5, 0, 0, 0, 1, 2, 1, 9, 6, 1, 7, 7, 24, 0, 1, 1, 0, 0, 1, 30, 0, 1, 0, 4, 0, 0, 0, 0, 0, 8, 0, 2, 4, 7, 94, 6, 7, 2, 5, 0, 1, 2, 1, 3, 7, 1, 9, 4, 5, 0, 0, 1, 3, 1, 4, 4, 4, 1, 89, 0, 0, 4, 1, 2, 0, 1, 0, 8, 0, 2, 2, 6, 0, 2, 7, 0, 0, 9, 1, 0, 5, 0, 13, 0, 0, 1, 97, 2, 1, 4, 5, 1, 13, 1, 0, 12, 3, 6, 109, 10, 1, 11, 1, 2, 8, 3, 2, 2, 2, 4, 7, 3, 15, 4, 3, 2, 1, 1, 4, 6, 3, 1, 7, 1, 5, 45, 1, 3, 2, 2, 4, 6, 7, 4, 1, 0, 93, 1, 28, 2, 3, 1, 2, 3, 1, 8, 0, 5, 0, 12, 10, 1, 9, 5, 1, 1, 3, 6, 2, 4, 8, 3, 1, 89, 9, 0, 9, 2, 1, 24, 1, 7, 1, 3, 3, 1, 101, 10, 1, 7, 9, 1, 8, 6, 1, 10, 1, 2, 1, 9, 4, 106, 6, 0, 1, 1, 0, 1, 1, 9, 5, 14, 1, 12, 9, 0, 0, 6, 2, 8, 4, 1, 0, 0, 1, 16, 14, 88, 5, 9, 4, 0, 2, 4, 3, 5, 5, 3, 2, 3, 4, 4, 4, 10, 6, 1, 8, 9, 13, 6, 3, 1, 2, 9, 6, 2, 21, 13, 3, 5, 0, 101, 4, 15, 17, 2, 2, 0, 14, 0, 0, 0, 10, 1, 0, 4, 0, 78, 0, 13, 9, 15, 0, 0, 24, 1, 4, 0, 0, 0, 86, 1, 2, 7, 1, 5, 8, 3, 5, 0, 2, 2, 4, 4, 0, 1, 8, 3, 9, 0, 2, 1, 0, 9, 4, 3, 7, 0, 2, 0, 0, 2, 63, 1, 3, 11, 13, 0, 2, 0, 0, 0, 1, 1, 0, 0, 2, 8, 6, 0, 0, 2, 1, 3, 1, 0, 9, 2, 1, 1, 4, 7, 0, 2, 1, 4, 2, 0, 59, 1, 1, 1, 3, 3, 13, 7, 2, 2, 3, 9, 3, 0, 2, 0, 1, 0, 0, 11, 0, 0, 62, 0, 0, 1, 0, 0, 1, 0, 0, 1, 0, 6, 0, 0, 3, 0, 11, 1, 6, 0, 0, 5, 6, 0, 0, 0, 0, 0, 0, 3, 3, 0, 5, 0, 1, 2, 4, 45, 0, 3, 3, 6, 0, 4, 0, 4, 3, 1, 4, 0, 0, 2, 0, 1, 64, 3, 2, 0, 6, 0, 0, 1, 0, 2, 5, 1, 0, 0, 6, 3, 4, 13, 6, 3, 4, 0, 4, 8, 0, 3, 0, 49, 0, 3, 1, 0, 7, 4, 6, 3, 1, 4, 1, 0, 1, 1, 0, 0, 0, 0, 1, 21, 0, 0, 8, 0, 0, 2, 13, 0, 0, 0, 6, 0, 1, 0, 0, 0, 0, 59, 9, 2, 5, 2, 1, 2, 2, 2, 8, 1, 43, 7, 5, 2, 7, 0, 1, 2, 3, 4, 0, 1, 7, 0, 4, 0, 3, 2, 4, 0, 1, 0, 0, 1, 0, 53, 0, 0, 0, 0, 0, 1, 0, 4, 3, 4, 1, 2, 0, 0, 2, 2, 1, 2, 4, 8, 8, 4, 4, 2, 2, 2, 40, 5, 1, 2, 0, 4, 3, 0, 3, 0, 8, 3, 1, 0, 37, 1, 0, 0, 0, 1, 0, 2, 2, 0, 2, 0, 0, 5, 7, 5, 2, 1, 8, 0, 4, 5, 51, 4, 9, 1, 4, 7, 1, 1, 1, 3, 9, 0, 6, 1, 9, 2, 3, 0, 13, 6, 1, 0, 0, 55, 0, 9, 1, 1, 20, 2, 27, 4, 3, 0, 5, 4, 0, 0, 0, 0, 4, 3, 1, 1, 2, 4, 0, 0, 1, 56, 0, 0, 0, 0, 11, 0, 5, 1, 1, 0, 0, 4, 5, 4, 1, 0, 1, 3, 1, 5, 61, 1, 0, 3, 13, 0, 3, 0, 0, 0, 1, 8, 48, 1, 0, 0, 0, 0, 0, 1, 1, 1, 0, 2, 1, 2, 9, 0, 0, 0, 45, 0, 2, 4, 1, 1, 0, 2, 2, 0, 3, 1, 1, 0, 2, 1, 2, 0, 3, 1, 1, 0, 1, 38, 0, 3, 1, 2, 9, 2, 1, 3, 1, 11, 3, 1, 0, 11, 0, 2, 1, 2, 0, 46, 0, 1, 1, 1, 1, 1, 1, 1, 1, 0, 1, 1, 1, 1, 0, 1, 1, 2, 0, 3, 0, 1, 1, 0, 3, 0, 1, 1, 44, 2, 0, 2, 2, 5, 5, 0, 2, 2, 6, 0, 0, 2, 3, 0, 0, 0, 3, 5, 0, 6, 0, 0, 0, 0, 7, 1, 0, 37, 1, 4, 3, 1, 4, 3, 0, 2, 0, 6, 4, 1, 1, 3, 3, 1, 41, 1, 1, 1, 5, 2, 6, 4, 1, 1, 1, 38, 1, 5, 5, 2, 6, 0, 2, 0, 2, 1, 1, 1, 2, 1, 2, 0, 39, 1, 2, 0, 2, 0, 5, 0, 3, 0, 0, 1, 5, 0, 1, 1, 0, 0, 3, 2, 8, 2, 1, 3, 0, 2, 46, 0, 2, 1, 0, 2, 5, 5, 4, 4, 0, 0, 3, 2, 2, 43, 4, 1, 1, 2, 4, 1, 5, 2, 2, 40, 1, 6, 0, 1, 1, 2, 3, 1, 5, 0, 2, 2, 0, 1, 2, 2, 3, 2, 3, 2, 0, 38, 0, 7, 0, 0, 1, 1, 2, 4, 2, 3, 1, 0, 0, 3, 1, 2, 3, 0, 6, 1, 4, 7, 5, 0, 1, 0, 10, 37, 0, 0, 2, 0, 35, 0, 1, 1, 7, 0, 1, 2, 0, 6, 3, 1, 4, 5, 0, 0, 0, 4, 5, 0, 0, 9, 2, 4, 0, 0, 40, 1, 1, 1, 1, 0, 1, 42, 3, 1, 0, 1, 1, 4, 0, 0, 2, 1, 0, 2, 1, 1, 44, 1, 0, 1, 0, 0, 3, 1, 1, 1, 0, 1, 1, 1, 1, 1, 0, 1, 1, 1, 1, 41, 1, 1, 1, 2, 2, 1, 1, 3, 2, 1, 0, 1, 1, 1, 39, 1, 3, 0, 1, 1, 0, 1, 1, 0, 2, 3, 2, 0, 0, 0, 0, 0, 0, 0, 35, 1, 0, 5, 1, 0, 0, 0, 0, 0, 0, 0, 0, 4, 2, 0, 1, 3, 0, 0, 1, 1, 4, 0, 0, 0, 0, 0, 0, 1, 0, 6, 0, 0, 0, 0, 2, 0, 0, 29, 0, 0, 2, 0, 0, 1, 0, 1, 1, 0, 0, 30, 0, 1, 5, 2, 0, 2, 1, 5, 0, 1, 0, 1, 0, 3, 32, 3, 3, 0, 1, 1, 1, 4, 3, 1, 1, 1, 0, 3, 0, 2, 3, 0, 1, 33, 0, 0, 34, 0, 1, 2, 0, 0, 4, 1, 2, 0, 1, 1, 0, 0, 0, 3, 0, 0, 0, 5, 2, 4, 1, 3, 1, 3, 1, 2, 1, 2, 2, 2, 36, 1, 2, 0, 1, 1, 2, 30, 0, 1, 0, 1, 2, 0, 1, 1, 1, 0, 1, 1, 2, 0, 1, 0, 1, 2, 2, 5, 0, 27, 3, 0, 2, 0, 2, 0, 1, 1, 1, 29, 0, 1, 2, 0, 1, 3, 0, 2, 2, 0, 1, 1, 1, 2, 0, 1, 1, 0, 1, 1, 1, 0, 0, 1, 3, 2, 1, 2, 33, 2, 1, 3, 1, 1, 1, 35, 1, 2, 1, 0, 0, 4, 1, 5, 1, 1, 31, 1, 2, 0, 1, 3, 0, 0, 2, 3, 2, 1, 1, 26, 1, 5, 5, 7, 1, 1, 3, 2, 2, 3, 1, 1, 1, 1, 2, 2, 1, 1, 1, 28, 1, 1, 0, 6, 1, 1, 1, 1, 1, 3, 1, 25, 2, 1, 1, 1, 2, 1, 1, 2, 1, 1, 2, 1, 2, 0, 1, 5, 29, 1, 0, 2, 0, 0, 0, 1, 1, 1, 2, 0, 1, 2, 24, 0, 1, 1, 4, 3, 1, 1, 2, 2, 2, 0, 2, 0, 1, 1, 1, 1, 1, 1, 2, 1, 1, 28, 1, 0, 1, 0, 25, 1, 1, 1, 1, 1, 1, 0, 1, 3, 0, 1, 2, 1, 3, 3, 3, 1, 1, 30, 1, 1, 1, 0, 2, 0, 2, 1, 1, 5, 2, 2, 3, 5, 23, 1, 1, 0, 3, 9, 4, 1, 32, 2, 1, 0, 0, 0, 3, 1, 0, 5, 2, 0, 3, 0, 0, 0, 3, 27, 6, 1, 1, 0, 24, 1, 1, 0, 1, 1, 1, 6, 0, 0, 3, 7, 2, 1, 29, 1, 2, 1, 0, 1, 1, 1, 0, 2, 1, 1, 2, 1, 3, 1, 1, 6, 1, 42, 3, 0, 2, 9, 0, 0, 0, 3, 3, 1, 0, 1, 1, 1, 2, 2, 2, 3, 2, 25, 1, 0, 8, 1, 1, 2, 11, 1, 12, 7, 1, 1, 1, 0, 4, 8, 1, 1, 2, 25, 3, 3, 6, 9, 12, 2, 1, 0, 2, 1, 25, 5, 12, 1, 0, 25, 7, 5, 1, 2, 7, 1, 3, 1, 2, 8, 1, 1, 1, 3, 27, 2, 1, 7, 1, 2, 1, 2, 4, 1, 1, 23, 2, 4, 1, 0, 2, 5, 4, 0, 0, 34, 2, 1, 2, 2, 8, 5, 1, 3, 3, 2, 1, 3, 11, 1, 2, 1, 1, 9, 39, 4, 2, 4, 1, 1, 2, 3, 1, 1, 1, 1, 4, 42, 1, 4, 3, 2, 1, 1, 2, 1, 1, 37, 3, 1, 1, 2, 5, 1, 41, 4, 1, 1, 1, 1, 2, 1, 1, 18, 1, 0, 36, 0, 5, 0, 0, 1, 16, 1, 2, 44, 2, 13, 2, 4, 1, 3, 1, 3, 1, 9, 1, 8, 3, 1, 1, 49, 1, 1, 2, 1, 5, 1, 46, 0, 7, 2, 2, 1, 3, 2, 1, 0, 3, 4, 1, 7, 1, 4, 1, 3, 3, 2, 53, 44, 2, 2, 1, 1, 3, 1, 3, 2, 1, 1, 1, 1, 1, 1, 1, 48, 1, 3, 7, 2, 3, 2, 1, 1, 1, 37, 2, 4, 40, 2, 1, 3, 3, 1, 1, 2, 2, 2, 1, 2, 2, 1, 1, 1, 1, 1, 1, 1, 1, 53, 2, 1, 2, 2, 2, 3, 5, 3, 1, 1, 1, 1, 67, 3, 69, 2, 1, 1, 3, 1, 3, 2, 1, 2, 1, 1, 1, 2, 2, 1, 0, 64, 1, 7, 1, 7, 16, 1, 0, 62, 1, 0, 0, 1, 1, 1, 1, 1, 54, 0, 4, 0, 0, 2, 1, 1, 1, 1, 1, 2, 2, 2, 2, 1, 1, 2, 60, 2, 1, 2, 1, 1, 1, 2, 2, 5, 1, 1, 3, 0, 1, 2, 58, 2, 1, 4, 1, 1, 2, 1, 1, 1, 0, 1, 55, 1, 6, 1, 1, 2, 0, 1, 0, 59, 3, 2, 9, 1, 0, 62, 1, 4, 6, 7, 1, 1, 3, 3, 1, 4, 1, 1, 57, 1, 2, 1, 1, 1, 2, 5, 0, 1, 42, 1, 0, 0, 0, 1, 0, 0, 0, 0, 0, 0, 0, 0, 1, 35, 0, 0, 0, 3, 1, 0, 0, 0, 1, 1, 0, 0, 3, 0, 4, 2, 0, 0, 3, 0, 1, 0, 0, 0, 0, 0, 1, 1, 0, 0, 0, 0, 3, 1, 2, 1, 6, 0, 1, 0, 0, 0, 2, 0, 1, 0, 0, 63, 1, 1, 50, 1, 9, 7, 3, 1, 0, 0, 3, 1, 7, 1, 2, 0, 0, 1, 1, 1, 1, 0, 2, 1, 0, 0, 0, 0, 0, 1, 2, 1, 1, 0, 76, 2, 0, 1, 0, 0, 0, 1, 1, 0, 0, 0, 63, 0, 0, 0, 0, 0, 0, 0, 2, 1, 51, 0, 0, 7, 0, 0, 0, 0, 4, 0, 0, 2, 4, 0, 0, 0, 0, 1, 0, 1, 1, 1, 46, 2, 0, 1, 0, 3, 1, 2, 3, 1, 0, 0, 0, 12, 2, 0, 33, 0, 1, 9, 5, 1, 7, 1, 2, 1, 7, 61, 0, 3, 7, 0, 1, 2, 0, 1, 2, 0, 2, 2, 0, 65, 0, 1, 8, 3, 0, 0, 5, 1, 0, 2, 11, 0, 10, 0, 2, 0, 0, 1, 1, 1, 2, 2, 2, 4, 0, 0, 0, 1, 70, 0, 55, 1, 1, 0, 0, 0, 0, 1, 1, 0, 5, 0, 0, 1, 0, 0, 0, 5, 2, 0, 4, 51, 0, 1, 0, 8, 0, 3, 1, 1, 0, 0, 1, 1, 2, 10, 0, 2, 1, 0, 1, 2, 44, 2, 1, 1, 1, 38, 5, 4, 1, 8, 2, 1, 0, 0, 1, 6, 0, 0, 0, 42, 1, 4, 1, 2, 8, 8, 0, 1, 0, 0, 49, 0, 1, 0, 1, 1, 10, 7, 0, 1, 4, 0, 1, 1, 0, 2, 0, 0, 0, 0, 0, 57, 0, 4, 56, 0, 0, 1, 1, 1, 1, 2, 1, 1, 0, 2, 1, 2, 0, 0, 36, 0, 0, 6, 5, 0, 0, 2, 3, 28, 1, 0, 1, 2, 5, 2, 1, 2, 1, 9, 1, 0, 1, 1, 2, 3, 31, 1, 3, 3, 1, 0, 1, 1, 7, 1, 2, 2, 2, 7, 2, 5, 20, 1, 2, 1, 1, 3, 9, 3, 0, 15, 0, 5, 1, 1, 1, 3, 1, 0, 6, 1, 0, 1, 1, 0, 0, 1, 1, 1, 0, 1, 40, 3, 1, 3, 1, 1, 1, 1, 0, 1, 1, 5, 1, 1, 40, 0, 1, 1, 2, 0, 1, 4, 0, 1, 7, 0, 3, 1, 23, 0, 0, 1, 2, 0, 0, 29, 0, 0, 0, 1, 2, 1, 1, 0, 5, 2, 2, 0, 0, 2, 1, 1, 1, 0, 27, 1, 1, 1, 3, 2, 1, 4, 1, 1, 0, 1, 4, 1, 26, 1, 1, 2, 2, 2, 1, 0, 34, 3, 0, 1, 0, 1, 0, 0, 0, 0, 3, 0, 1, 1, 2, 1, 0, 0, 0, 1, 0, 1, 0, 2, 1, 1, 0, 0, 0, 1, 37, 0, 0, 3, 1, 34, 0, 1, 0, 2, 1, 1, 1, 0, 4, 33, 1, 0, 1, 0, 1, 0, 0, 0, 0, 0, 0, 1, 0, 29, 1, 0, 0, 0, 1, 1, 1, 29, 3, 1, 3, 1, 2, 3, 2, 6, 1, 1, 3, 1, 0, 4, 1, 4, 0, 1, 34, 5, 5, 2, 0, 0, 1, 5, 1, 1, 0, 10, 1, 5, 3, 0, 4, 1, 2, 22, 4, 0, 0, 0, 0, 1, 4, 0, 0, 0, 0, 0, 1, 2, 1, 1, 1, 1, 0, 32, 1, 0, 1, 3, 1, 1, 0, 0, 31, 0, 1, 0, 1, 0, 1, 2, 0, 0, 36, 1, 0, 1, 0, 1, 0, 1, 1, 0, 1, 0, 0, 0, 36, 1, 4, 2, 1, 0, 37, 1, 0, 0, 1, 2, 0, 1, 0, 1, 39, 0, 1, 1, 2, 0, 0, 0, 1, 0, 43, 2, 0, 0, 2, 2, 1, 0, 0, 1, 0, 1, 0, 30, 2, 2, 1, 1, 2, 0, 1, 0, 0, 0, 1, 4, 1, 0, 0, 1, 0, 36, 0, 0, 0, 0, 1, 1, 0, 2, 30, 1, 0, 29, 0, 1, 0, 2, 0, 1, 1, 3, 1, 1, 0, 1, 1, 38, 0, 0, 1, 1, 0, 1, 1, 1, 38, 1, 1, 3, 4, 31, 1, 3, 2, 1, 1, 0, 1, 0, 1, 0, 4, 8, 3, 0, 1, 1, 0, 0, 0, 0, 2, 0, 1, 0, 3, 3, 1, 0, 0, 19, 2, 0, 0, 0, 1, 0, 3, 1, 1, 31, 1, 3, 1, 0, 0, 1, 38, 0, 0, 1, 0, 2, 1, 0, 0, 1, 2, 1, 1, 33, 1, 1, 3, 0, 0, 2, 1, 0, 0, 1, 1, 0, 1, 0, 39, 0, 1, 0, 0, 0, 0, 2, 1, 1, 0, 1, 1, 1, 38, 0, 2, 0, 0, 0, 2, 3, 32, 2, 2, 2, 0, 0, 1, 0, 0, 0, 1, 4, 4, 1, 3, 0, 2, 3, 36, 3, 0, 0, 1, 0, 4, 4, 2, 0, 0, 0, 1, 2, 6, 2, 5, 3, 1, 3, 4, 0, 3, 0, 25, 1, 0, 0, 2, 50, 1, 0, 0, 0, 0, 1, 1, 2, 1, 4, 1, 0, 0, 8, 2, 0, 0, 0, 6, 4, 1, 1, 0, 1, 0, 0, 0, 43, 0, 0, 0, 0, 37, 1, 0, 0, 3, 1, 0, 1, 1, 0, 0, 0, 0, 0, 9, 0, 0, 0, 0, 0, 0, 0, 5, 1, 0, 45, 3, 1, 0, 1, 8, 1, 3, 1, 0, 1, 1, 8, 2, 4, 1, 1, 0, 1, 0, 1, 2, 1, 1, 1, 2, 69, 1, 1, 1, 1, 0, 0, 4, 1, 2, 1, 4, 0, 1, 1, 0, 2, 0, 69, 3, 0, 6, 4, 1, 7, 1, 5, 2, 1, 50, 1, 0, 1, 0, 2, 68, 0, 1, 1, 2, 0, 4, 2, 0, 0, 1, 3, 57, 0, 0, 0, 0, 0, 1, 0, 5, 4, 1, 0, 0, 4, 1, 1, 1, 1, 1, 2, 1, 1, 1, 1, 1, 1, 2, 1, 2, 1, 1, 1, 56, 1, 0, 1, 0, 0, 0, 1, 1, 2, 7, 0, 2, 5, 62, 1, 1, 1, 71, 0, 0, 2, 6, 1, 1, 2, 0, 2, 1, 0, 2, 2, 0, 2, 6, 2, 1, 0, 2, 0, 3, 4, 51, 6, 3, 3, 0, 1, 0, 1, 0, 10, 0, 1, 6, 0, 1, 2, 1, 77, 1, 0, 1, 4]}, {\"hoverinfo\": \"skip\", \"line\": {\"width\": 0}, \"mode\": \"lines\", \"type\": \"scatter\", \"x\": [\"2020-03-09T00:00:00\", \"2020-03-13T00:00:00\", \"2020-03-14T00:00:00\", \"2020-03-15T00:00:00\", \"2020-03-16T00:00:00\", \"2020-03-17T00:00:00\", \"2020-03-18T00:00:00\", \"2020-03-19T00:00:00\", \"2020-03-20T00:00:00\", \"2020-03-21T00:00:00\", \"2020-03-22T00:00:00\", \"2020-03-23T00:00:00\", \"2020-03-24T00:00:00\", \"2020-03-25T00:00:00\", \"2020-03-26T00:00:00\", \"2020-03-27T00:00:00\", \"2020-03-28T00:00:00\", \"2020-03-29T00:00:00\", \"2020-03-30T00:00:00\", \"2020-03-31T00:00:00\", \"2020-04-01T00:00:00\", \"2020-04-02T00:00:00\", \"2020-04-03T00:00:00\", \"2020-04-04T00:00:00\", \"2020-04-05T00:00:00\", \"2020-04-06T00:00:00\", \"2020-04-07T00:00:00\", \"2020-04-08T00:00:00\", \"2020-04-09T00:00:00\", \"2020-04-10T00:00:00\", \"2020-04-11T00:00:00\", \"2020-04-12T00:00:00\", \"2020-04-13T00:00:00\", \"2020-04-14T00:00:00\", \"2020-04-15T00:00:00\", \"2020-04-16T00:00:00\", \"2020-04-17T00:00:00\", \"2020-04-18T00:00:00\", \"2020-04-19T00:00:00\", \"2020-04-20T00:00:00\", \"2020-04-21T00:00:00\", \"2020-04-22T00:00:00\", \"2020-04-23T00:00:00\", \"2020-04-24T00:00:00\", \"2020-04-25T00:00:00\", \"2020-04-26T00:00:00\", \"2020-04-27T00:00:00\", \"2020-04-28T00:00:00\", \"2020-04-29T00:00:00\", \"2020-04-30T00:00:00\", \"2020-05-01T00:00:00\", \"2020-05-02T00:00:00\", \"2020-05-03T00:00:00\", \"2020-05-04T00:00:00\", \"2020-05-05T00:00:00\", \"2020-05-06T00:00:00\", \"2020-05-07T00:00:00\", \"2020-05-08T00:00:00\", \"2020-05-09T00:00:00\", \"2020-05-10T00:00:00\", \"2020-05-11T00:00:00\", \"2020-05-12T00:00:00\", \"2020-05-13T00:00:00\", \"2020-05-14T00:00:00\", \"2020-05-15T00:00:00\", \"2020-05-16T00:00:00\", \"2020-05-17T00:00:00\", \"2020-05-18T00:00:00\", \"2020-05-19T00:00:00\", \"2020-05-20T00:00:00\", \"2020-05-21T00:00:00\", \"2020-05-22T00:00:00\", \"2020-05-23T00:00:00\", \"2020-05-24T00:00:00\", \"2020-05-25T00:00:00\", \"2020-05-26T00:00:00\", \"2020-05-27T00:00:00\", \"2020-05-28T00:00:00\", \"2020-05-29T00:00:00\", \"2020-05-30T00:00:00\", \"2020-05-31T00:00:00\", \"2020-06-01T00:00:00\", \"2020-06-02T00:00:00\", \"2020-06-03T00:00:00\", \"2020-06-04T00:00:00\", \"2020-06-05T00:00:00\", \"2020-06-06T00:00:00\", \"2020-06-07T00:00:00\", \"2020-06-08T00:00:00\", \"2020-06-09T00:00:00\", \"2020-06-10T00:00:00\", \"2020-06-11T00:00:00\", \"2020-06-12T00:00:00\", \"2020-06-13T00:00:00\", \"2020-06-14T00:00:00\", \"2020-06-15T00:00:00\", \"2020-06-16T00:00:00\", \"2020-06-17T00:00:00\", \"2020-06-18T00:00:00\", \"2020-06-19T00:00:00\", \"2020-06-20T00:00:00\", \"2020-06-21T00:00:00\", \"2020-06-22T00:00:00\", \"2020-06-23T00:00:00\", \"2020-06-24T00:00:00\", \"2020-06-25T00:00:00\", \"2020-06-26T00:00:00\", \"2020-06-27T00:00:00\", \"2020-06-28T00:00:00\", \"2020-06-29T00:00:00\", \"2020-06-30T00:00:00\", \"2020-07-01T00:00:00\", \"2020-07-02T00:00:00\", \"2020-07-03T00:00:00\", \"2020-07-04T00:00:00\", \"2020-07-05T00:00:00\", \"2020-07-06T00:00:00\", \"2020-07-07T00:00:00\", \"2020-07-08T00:00:00\", \"2020-07-09T00:00:00\", \"2020-07-10T00:00:00\", \"2020-07-11T00:00:00\", \"2020-07-12T00:00:00\", \"2020-07-13T00:00:00\", \"2020-07-14T00:00:00\", \"2020-07-15T00:00:00\", \"2020-07-16T00:00:00\", \"2020-07-17T00:00:00\", \"2020-07-18T00:00:00\", \"2020-07-19T00:00:00\", \"2020-07-20T00:00:00\", \"2020-07-21T00:00:00\", \"2020-07-22T00:00:00\", \"2020-07-23T00:00:00\", \"2020-07-24T00:00:00\", \"2020-07-25T00:00:00\", \"2020-07-26T00:00:00\", \"2020-07-27T00:00:00\", \"2020-07-28T00:00:00\", \"2020-07-29T00:00:00\", \"2020-07-30T00:00:00\", \"2020-07-31T00:00:00\", \"2020-08-01T00:00:00\", \"2020-08-02T00:00:00\", \"2020-08-03T00:00:00\", \"2020-08-04T00:00:00\", \"2020-08-05T00:00:00\", \"2020-08-06T00:00:00\", \"2020-08-07T00:00:00\", \"2020-08-08T00:00:00\", \"2020-08-09T00:00:00\", \"2020-08-10T00:00:00\", \"2020-08-11T00:00:00\", \"2020-08-12T00:00:00\", \"2020-08-13T00:00:00\", \"2020-08-14T00:00:00\", \"2020-08-15T00:00:00\", \"2020-08-16T00:00:00\", \"2020-08-17T00:00:00\", \"2020-08-18T00:00:00\", \"2020-08-19T00:00:00\", \"2020-08-20T00:00:00\", \"2020-08-21T00:00:00\", \"2020-08-22T00:00:00\", \"2020-08-23T00:00:00\", \"2020-08-24T00:00:00\", \"2020-08-25T00:00:00\", \"2020-08-26T00:00:00\", \"2020-08-27T00:00:00\", \"2020-08-28T00:00:00\", \"2020-08-29T00:00:00\", \"2020-08-30T00:00:00\", \"2020-08-31T00:00:00\", \"2020-09-01T00:00:00\", \"2020-09-02T00:00:00\", \"2020-09-03T00:00:00\", \"2020-09-04T00:00:00\", \"2020-09-05T00:00:00\", \"2020-09-06T00:00:00\", \"2020-09-07T00:00:00\", \"2020-09-08T00:00:00\", \"2020-09-09T00:00:00\", \"2020-09-10T00:00:00\", \"2020-09-11T00:00:00\", \"2020-09-12T00:00:00\", \"2020-09-13T00:00:00\", \"2020-09-14T00:00:00\", \"2020-09-15T00:00:00\", \"2020-09-16T00:00:00\", \"2020-09-17T00:00:00\", \"2020-09-18T00:00:00\", \"2020-09-19T00:00:00\", \"2020-09-20T00:00:00\", \"2020-09-21T00:00:00\", \"2020-09-22T00:00:00\", \"2020-09-23T00:00:00\", \"2020-09-24T00:00:00\", \"2020-09-25T00:00:00\", \"2020-09-26T00:00:00\", \"2020-09-27T00:00:00\", \"2020-09-28T00:00:00\", \"2020-09-29T00:00:00\", \"2020-09-30T00:00:00\", \"2020-10-01T00:00:00\", \"2020-10-02T00:00:00\", \"2020-10-03T00:00:00\", \"2020-10-04T00:00:00\", \"2020-10-05T00:00:00\", \"2020-10-06T00:00:00\", \"2020-10-07T00:00:00\", \"2020-10-08T00:00:00\", \"2020-10-09T00:00:00\", \"2020-10-10T00:00:00\", \"2020-10-11T00:00:00\", \"2020-10-12T00:00:00\", \"2020-10-13T00:00:00\", \"2020-10-14T00:00:00\", \"2020-10-15T00:00:00\", \"2020-10-16T00:00:00\", \"2020-10-17T00:00:00\", \"2020-10-18T00:00:00\", \"2020-10-19T00:00:00\", \"2020-10-20T00:00:00\", \"2020-10-21T00:00:00\", \"2020-10-22T00:00:00\", \"2020-10-23T00:00:00\", \"2020-10-24T00:00:00\", \"2020-10-25T00:00:00\", \"2020-10-26T00:00:00\", \"2020-10-27T00:00:00\", \"2020-10-28T00:00:00\", \"2020-10-29T00:00:00\", \"2020-10-30T00:00:00\", \"2020-10-31T00:00:00\", \"2020-11-01T00:00:00\", \"2020-11-02T00:00:00\", \"2020-11-03T00:00:00\", \"2020-11-04T00:00:00\", \"2020-11-05T00:00:00\", \"2020-11-06T00:00:00\", \"2020-11-07T00:00:00\", \"2020-11-08T00:00:00\", \"2020-11-09T00:00:00\", \"2020-11-10T00:00:00\", \"2020-11-11T00:00:00\", \"2020-11-12T00:00:00\", \"2020-11-13T00:00:00\", \"2020-11-14T00:00:00\", \"2020-11-15T00:00:00\", \"2020-11-16T00:00:00\", \"2020-11-17T00:00:00\", \"2020-11-18T00:00:00\", \"2020-11-19T00:00:00\", \"2020-11-20T00:00:00\", \"2020-11-21T00:00:00\", \"2020-11-22T00:00:00\", \"2020-11-23T00:00:00\", \"2020-11-24T00:00:00\", \"2020-11-25T00:00:00\", \"2020-11-26T00:00:00\", \"2020-11-27T00:00:00\", \"2020-11-28T00:00:00\", \"2020-11-29T00:00:00\", \"2020-11-30T00:00:00\", \"2020-12-01T00:00:00\", \"2020-12-02T00:00:00\", \"2020-12-03T00:00:00\", \"2020-12-04T00:00:00\", \"2020-12-05T00:00:00\", \"2020-12-06T00:00:00\", \"2020-12-07T00:00:00\", \"2020-12-08T00:00:00\", \"2020-12-09T00:00:00\", \"2020-12-10T00:00:00\", \"2020-12-11T00:00:00\", \"2020-12-12T00:00:00\", \"2020-12-13T00:00:00\", \"2020-12-14T00:00:00\", \"2020-12-15T00:00:00\", \"2020-12-16T00:00:00\", \"2020-12-17T00:00:00\", \"2020-12-18T00:00:00\", \"2020-12-19T00:00:00\", \"2020-12-20T00:00:00\", \"2020-12-21T00:00:00\", \"2020-12-22T00:00:00\", \"2020-12-23T00:00:00\", \"2020-12-24T00:00:00\", \"2020-12-25T00:00:00\", \"2020-12-26T00:00:00\", \"2020-12-27T00:00:00\", \"2020-12-28T00:00:00\", \"2020-12-29T00:00:00\", \"2020-12-30T00:00:00\", \"2020-12-31T00:00:00\", \"2021-01-01T00:00:00\", \"2021-01-02T00:00:00\", \"2021-01-03T00:00:00\", \"2021-01-04T00:00:00\", \"2021-01-05T00:00:00\", \"2021-01-06T00:00:00\", \"2021-01-07T00:00:00\", \"2021-01-08T00:00:00\", \"2021-01-09T00:00:00\", \"2021-01-10T00:00:00\", \"2021-01-11T00:00:00\", \"2021-01-12T00:00:00\", \"2021-01-13T00:00:00\", \"2021-01-14T00:00:00\", \"2021-01-15T00:00:00\", \"2021-01-16T00:00:00\", \"2021-01-17T00:00:00\", \"2021-01-18T00:00:00\", \"2021-01-19T00:00:00\", \"2021-01-20T00:00:00\", \"2021-01-21T00:00:00\", \"2021-01-22T00:00:00\", \"2021-01-23T00:00:00\", \"2021-01-24T00:00:00\", \"2021-01-25T00:00:00\", \"2021-01-26T00:00:00\", \"2021-01-27T00:00:00\", \"2021-01-28T00:00:00\", \"2021-01-29T00:00:00\", \"2021-01-31T00:00:00\", \"2021-02-28T00:00:00\", \"2021-03-31T00:00:00\", \"2021-04-30T00:00:00\", \"2021-05-31T00:00:00\", \"2021-06-30T00:00:00\"], \"y\": [-45.987144620947994, -47.528111774804444, -56.458343765889964, -52.513413023355625, -59.59784097387562, -49.71893480626811, -47.377556391636574, -49.393607301052526, -50.29698155083303, -57.87917510904201, -63.077674565289364, -57.224941223884784, -56.043033507904035, -53.88704708637839, -60.92922152994604, -47.52340774179664, -49.87973153392834, -55.53914914793754, -56.6966096458924, -56.48424020187484, -55.79706165862712, -56.30813585733091, -51.932250387407045, -57.9656115202417, -64.97292000522127, -61.3565218427405, -55.51106381893845, -52.61337613173772, -64.81516658767065, -55.172025817962734, -57.239221313687864, -55.40134460228209, -52.565586458376856, -60.5277624020801, -61.63755493678461, -62.18283101062373, -57.251785483771876, -72.1334068021308, -58.63228337580275, -61.618663712099334, -50.24191546432363, -71.35640819339504, -61.49679326953729, -63.637849477560636, -68.6518269048828, -87.0921595945115, -65.05974219380968, -65.12285734671134, -62.44409018247465, -82.4206896669225, -67.93677674903292, -71.78059450246106, -77.97870200552924, -76.86362440717028, -58.25784610815234, -72.06775595333444, -72.83301693159383, -76.88907116938611, -79.52870221517513, -71.41834632502133, -64.9116895903358, -62.17113950075741, -65.87833020643711, -66.47956043776978, -73.60910599421193, -73.27165900748025, -72.64648317245793, -73.62571791148847, -75.65480721231332, -75.51843226990486, -78.14644756352156, -79.11382778600685, -77.7071458099013, -86.8520542627622, -75.47840402623805, -72.41088153250969, -91.45560042000068, -73.87654114951309, -77.48267942767393, -72.3315872818635, -82.31299598349455, -89.0449744521702, -82.11814890661532, -72.50043834688908, -83.62796215260603, -73.46838130583457, -79.09542604870512, -83.07645334211053, -84.42095876374177, -77.05769765994683, -90.95320307626199, -84.5741664789955, -91.83582820556562, -80.33359011629031, -90.37948327466904, -84.5099953817194, -82.87420137522894, -89.89884863822297, -85.61318707279906, -81.557823342243, -87.72938856619041, -89.81645446761328, -87.45670059166767, -86.30077951421735, -85.77158825247835, -96.83520384551602, -91.59654802408078, -93.21715943467639, -88.57822444522083, -95.41926465749627, -95.29862377977693, -94.51241138383247, -97.29707299799077, -100.12391283548286, -98.64449436695944, -92.15485761465666, -86.25714393209374, -95.83689412330428, -86.43019269824768, -103.0023562111418, -99.05830061446191, -92.12166109033632, -102.74885521424574, -101.65949788460254, -87.51011932618385, -96.77394391028719, -99.32299376980015, -105.58522253097145, -109.2626527673126, -90.36893992097762, -108.51213372260237, -99.66282313730393, -101.4557576630448, -106.93648881779838, -110.63145035243919, -109.7946584289738, -107.78776834152214, -96.32154310757838, -103.41811772536586, -104.17541051419964, -105.61388654884693, -105.05727426425712, -102.2934897933826, -107.17531368947485, -106.29109637208933, -105.79999972191064, -106.24590414537275, -105.67066594892601, -113.85171764397934, -114.16077731210216, -120.66697968148893, -111.47669652994803, -103.31284236681809, -111.29401349723605, -117.34325195844102, -108.97926328020003, -114.11364997813564, -110.68508073974624, -117.68853860018754, -105.97289449270947, -116.68633697864097, -116.7149591384453, -111.83638890562943, -108.52644045886014, -112.43561516845986, -118.3721349373533, -100.27676227324905, -116.37140394534264, -104.86097030470786, -110.31726318433275, -108.06107771516085, -111.31791719414622, -111.6791412005986, -116.09230905345474, -124.92363241775301, -116.32708536026922, -112.5356784295767, -116.99904074682384, -103.60780525267191, -106.77876556331724, -108.15719369840653, -110.67308900865888, -116.16453602499992, -109.23301430355775, -116.08938707927835, -124.10398733338153, -118.20794717155792, -113.7001966177784, -115.34911346853542, -107.56141470382018, -111.31537106128097, -103.98856772667556, -113.93896471568823, -111.3529656589658, -106.15695125913277, -113.69608370552177, -118.33002169635458, -122.35966464707526, -118.93668943011359, -117.02082713804192, -123.6502743762846, -107.64007832336992, -114.39907574228053, -110.07224366462475, -114.32981489605507, -111.20551333482459, -115.91580183354272, -122.64378752001983, -105.11330505946549, -122.98616544598025, -116.9963756815258, -108.08593502951135, -118.60851621373025, -122.78396922900062, -126.16849718723483, -116.83602320553503, -115.3323539463678, -121.7478746179347, -121.28270670324879, -118.82781721841637, -110.18678274658308, -122.86690158439767, -108.65265100713474, -116.12360314814507, -115.12839077036747, -124.40471550495302, -116.97097804101753, -118.48170225516934, -114.82924102383112, -111.6546024788421, -115.8974635734009, -117.20159300621519, -109.55789048396811, -106.62199880506225, -129.39293491980004, -119.1683399318695, -114.03388960512974, -117.29966819858889, -110.53197712837874, -115.63176723980233, -107.18638338711807, -117.16389292234159, -119.98760782407635, -103.9960225039103, -109.2991735067822, -113.9914693083173, -109.51868433556024, -119.26848832085435, -125.12333329634093, -120.00397253847666, -109.33690041175502, -104.82655240791449, -118.18851746761771, -123.61886793062055, -112.38892174201517, -121.39386611112549, -113.65398060083757, -111.84355286702684, -109.52817230335573, -123.18204433759398, -120.08075988734647, -118.25147715487388, -114.51601414950818, -109.01953976725382, -114.26163310328826, -111.61441058495026, -108.63146470930933, -119.83054937119279, -125.04926128364569, -107.87119553795824, -113.49836114809194, -120.53536511819605, -113.66397206131225, -114.0557259067269, -119.24765419705692, -117.6304290173887, -119.92180653318697, -119.42934843416819, -116.26937089557606, -115.39414698796949, -115.55769498287742, -113.25756072594535, -112.42027386501013, -114.36942297460016, -120.49161091311082, -104.00451651829738, -117.66875556262062, -116.88743208544737, -113.39103165115196, -109.60183821682742, -120.57049402036705, -117.17413907751127, -108.88432616826928, -117.64265296339366, -121.93221342277035, -119.22490936720378, -111.67011030577795, -116.94301203676132, -109.80859297060282, -107.89687737663931, -117.47308583501754, -118.08139558027251, -119.74724636325327, -117.37206012185548, -120.35200108495316, -117.23081432201235, -106.61740641167883, -120.26141457188601, -118.23380201133799, -121.28864512559959, -122.58840159931717, -116.933350107999, -119.89109971337919, -112.36917535924593, -120.48694978052791, -119.93311957724006, -111.96967094764011, -117.51418339762742, -125.54011786070788, -116.21507747545255, -111.47805256324962, -118.16546027443454, -128.93886327810765, -121.25455288252371, -127.5048469730245, -113.82807734038155, -119.59915788715583, -125.97803763927142, -119.63833444086896, -116.54380522169906]}, {\"fill\": \"tonexty\", \"fillcolor\": \"rgba(0, 114, 178, 0.2)\", \"line\": {\"color\": \"#0072B2\", \"width\": 2}, \"mode\": \"lines\", \"name\": \"Predicted\", \"type\": \"scatter\", \"x\": [\"2020-03-09T00:00:00\", \"2020-03-13T00:00:00\", \"2020-03-14T00:00:00\", \"2020-03-15T00:00:00\", \"2020-03-16T00:00:00\", \"2020-03-17T00:00:00\", \"2020-03-18T00:00:00\", \"2020-03-19T00:00:00\", \"2020-03-20T00:00:00\", \"2020-03-21T00:00:00\", \"2020-03-22T00:00:00\", \"2020-03-23T00:00:00\", \"2020-03-24T00:00:00\", \"2020-03-25T00:00:00\", \"2020-03-26T00:00:00\", \"2020-03-27T00:00:00\", \"2020-03-28T00:00:00\", \"2020-03-29T00:00:00\", \"2020-03-30T00:00:00\", \"2020-03-31T00:00:00\", \"2020-04-01T00:00:00\", \"2020-04-02T00:00:00\", \"2020-04-03T00:00:00\", \"2020-04-04T00:00:00\", \"2020-04-05T00:00:00\", \"2020-04-06T00:00:00\", \"2020-04-07T00:00:00\", \"2020-04-08T00:00:00\", \"2020-04-09T00:00:00\", \"2020-04-10T00:00:00\", \"2020-04-11T00:00:00\", \"2020-04-12T00:00:00\", \"2020-04-13T00:00:00\", \"2020-04-14T00:00:00\", \"2020-04-15T00:00:00\", \"2020-04-16T00:00:00\", \"2020-04-17T00:00:00\", \"2020-04-18T00:00:00\", \"2020-04-19T00:00:00\", \"2020-04-20T00:00:00\", \"2020-04-21T00:00:00\", \"2020-04-22T00:00:00\", \"2020-04-23T00:00:00\", \"2020-04-24T00:00:00\", \"2020-04-25T00:00:00\", \"2020-04-26T00:00:00\", \"2020-04-27T00:00:00\", \"2020-04-28T00:00:00\", \"2020-04-29T00:00:00\", \"2020-04-30T00:00:00\", \"2020-05-01T00:00:00\", \"2020-05-02T00:00:00\", \"2020-05-03T00:00:00\", \"2020-05-04T00:00:00\", \"2020-05-05T00:00:00\", \"2020-05-06T00:00:00\", \"2020-05-07T00:00:00\", \"2020-05-08T00:00:00\", \"2020-05-09T00:00:00\", \"2020-05-10T00:00:00\", \"2020-05-11T00:00:00\", \"2020-05-12T00:00:00\", \"2020-05-13T00:00:00\", \"2020-05-14T00:00:00\", \"2020-05-15T00:00:00\", \"2020-05-16T00:00:00\", \"2020-05-17T00:00:00\", \"2020-05-18T00:00:00\", \"2020-05-19T00:00:00\", \"2020-05-20T00:00:00\", \"2020-05-21T00:00:00\", \"2020-05-22T00:00:00\", \"2020-05-23T00:00:00\", \"2020-05-24T00:00:00\", \"2020-05-25T00:00:00\", \"2020-05-26T00:00:00\", \"2020-05-27T00:00:00\", \"2020-05-28T00:00:00\", \"2020-05-29T00:00:00\", \"2020-05-30T00:00:00\", \"2020-05-31T00:00:00\", \"2020-06-01T00:00:00\", \"2020-06-02T00:00:00\", \"2020-06-03T00:00:00\", \"2020-06-04T00:00:00\", \"2020-06-05T00:00:00\", \"2020-06-06T00:00:00\", \"2020-06-07T00:00:00\", \"2020-06-08T00:00:00\", \"2020-06-09T00:00:00\", \"2020-06-10T00:00:00\", \"2020-06-11T00:00:00\", \"2020-06-12T00:00:00\", \"2020-06-13T00:00:00\", \"2020-06-14T00:00:00\", \"2020-06-15T00:00:00\", \"2020-06-16T00:00:00\", \"2020-06-17T00:00:00\", \"2020-06-18T00:00:00\", \"2020-06-19T00:00:00\", \"2020-06-20T00:00:00\", \"2020-06-21T00:00:00\", \"2020-06-22T00:00:00\", \"2020-06-23T00:00:00\", \"2020-06-24T00:00:00\", \"2020-06-25T00:00:00\", \"2020-06-26T00:00:00\", \"2020-06-27T00:00:00\", \"2020-06-28T00:00:00\", \"2020-06-29T00:00:00\", \"2020-06-30T00:00:00\", \"2020-07-01T00:00:00\", \"2020-07-02T00:00:00\", \"2020-07-03T00:00:00\", \"2020-07-04T00:00:00\", \"2020-07-05T00:00:00\", \"2020-07-06T00:00:00\", \"2020-07-07T00:00:00\", \"2020-07-08T00:00:00\", \"2020-07-09T00:00:00\", \"2020-07-10T00:00:00\", \"2020-07-11T00:00:00\", \"2020-07-12T00:00:00\", \"2020-07-13T00:00:00\", \"2020-07-14T00:00:00\", \"2020-07-15T00:00:00\", \"2020-07-16T00:00:00\", \"2020-07-17T00:00:00\", \"2020-07-18T00:00:00\", \"2020-07-19T00:00:00\", \"2020-07-20T00:00:00\", \"2020-07-21T00:00:00\", \"2020-07-22T00:00:00\", \"2020-07-23T00:00:00\", \"2020-07-24T00:00:00\", \"2020-07-25T00:00:00\", \"2020-07-26T00:00:00\", \"2020-07-27T00:00:00\", \"2020-07-28T00:00:00\", \"2020-07-29T00:00:00\", \"2020-07-30T00:00:00\", \"2020-07-31T00:00:00\", \"2020-08-01T00:00:00\", \"2020-08-02T00:00:00\", \"2020-08-03T00:00:00\", \"2020-08-04T00:00:00\", \"2020-08-05T00:00:00\", \"2020-08-06T00:00:00\", \"2020-08-07T00:00:00\", \"2020-08-08T00:00:00\", \"2020-08-09T00:00:00\", \"2020-08-10T00:00:00\", \"2020-08-11T00:00:00\", \"2020-08-12T00:00:00\", \"2020-08-13T00:00:00\", \"2020-08-14T00:00:00\", \"2020-08-15T00:00:00\", \"2020-08-16T00:00:00\", \"2020-08-17T00:00:00\", \"2020-08-18T00:00:00\", \"2020-08-19T00:00:00\", \"2020-08-20T00:00:00\", \"2020-08-21T00:00:00\", \"2020-08-22T00:00:00\", \"2020-08-23T00:00:00\", \"2020-08-24T00:00:00\", \"2020-08-25T00:00:00\", \"2020-08-26T00:00:00\", \"2020-08-27T00:00:00\", \"2020-08-28T00:00:00\", \"2020-08-29T00:00:00\", \"2020-08-30T00:00:00\", \"2020-08-31T00:00:00\", \"2020-09-01T00:00:00\", \"2020-09-02T00:00:00\", \"2020-09-03T00:00:00\", \"2020-09-04T00:00:00\", \"2020-09-05T00:00:00\", \"2020-09-06T00:00:00\", \"2020-09-07T00:00:00\", \"2020-09-08T00:00:00\", \"2020-09-09T00:00:00\", \"2020-09-10T00:00:00\", \"2020-09-11T00:00:00\", \"2020-09-12T00:00:00\", \"2020-09-13T00:00:00\", \"2020-09-14T00:00:00\", \"2020-09-15T00:00:00\", \"2020-09-16T00:00:00\", \"2020-09-17T00:00:00\", \"2020-09-18T00:00:00\", \"2020-09-19T00:00:00\", \"2020-09-20T00:00:00\", \"2020-09-21T00:00:00\", \"2020-09-22T00:00:00\", \"2020-09-23T00:00:00\", \"2020-09-24T00:00:00\", \"2020-09-25T00:00:00\", \"2020-09-26T00:00:00\", \"2020-09-27T00:00:00\", \"2020-09-28T00:00:00\", \"2020-09-29T00:00:00\", \"2020-09-30T00:00:00\", \"2020-10-01T00:00:00\", \"2020-10-02T00:00:00\", \"2020-10-03T00:00:00\", \"2020-10-04T00:00:00\", \"2020-10-05T00:00:00\", \"2020-10-06T00:00:00\", \"2020-10-07T00:00:00\", \"2020-10-08T00:00:00\", \"2020-10-09T00:00:00\", \"2020-10-10T00:00:00\", \"2020-10-11T00:00:00\", \"2020-10-12T00:00:00\", \"2020-10-13T00:00:00\", \"2020-10-14T00:00:00\", \"2020-10-15T00:00:00\", \"2020-10-16T00:00:00\", \"2020-10-17T00:00:00\", \"2020-10-18T00:00:00\", \"2020-10-19T00:00:00\", \"2020-10-20T00:00:00\", \"2020-10-21T00:00:00\", \"2020-10-22T00:00:00\", \"2020-10-23T00:00:00\", \"2020-10-24T00:00:00\", \"2020-10-25T00:00:00\", \"2020-10-26T00:00:00\", \"2020-10-27T00:00:00\", \"2020-10-28T00:00:00\", \"2020-10-29T00:00:00\", \"2020-10-30T00:00:00\", \"2020-10-31T00:00:00\", \"2020-11-01T00:00:00\", \"2020-11-02T00:00:00\", \"2020-11-03T00:00:00\", \"2020-11-04T00:00:00\", \"2020-11-05T00:00:00\", \"2020-11-06T00:00:00\", \"2020-11-07T00:00:00\", \"2020-11-08T00:00:00\", \"2020-11-09T00:00:00\", \"2020-11-10T00:00:00\", \"2020-11-11T00:00:00\", \"2020-11-12T00:00:00\", \"2020-11-13T00:00:00\", \"2020-11-14T00:00:00\", \"2020-11-15T00:00:00\", \"2020-11-16T00:00:00\", \"2020-11-17T00:00:00\", \"2020-11-18T00:00:00\", \"2020-11-19T00:00:00\", \"2020-11-20T00:00:00\", \"2020-11-21T00:00:00\", \"2020-11-22T00:00:00\", \"2020-11-23T00:00:00\", \"2020-11-24T00:00:00\", \"2020-11-25T00:00:00\", \"2020-11-26T00:00:00\", \"2020-11-27T00:00:00\", \"2020-11-28T00:00:00\", \"2020-11-29T00:00:00\", \"2020-11-30T00:00:00\", \"2020-12-01T00:00:00\", \"2020-12-02T00:00:00\", \"2020-12-03T00:00:00\", \"2020-12-04T00:00:00\", \"2020-12-05T00:00:00\", \"2020-12-06T00:00:00\", \"2020-12-07T00:00:00\", \"2020-12-08T00:00:00\", \"2020-12-09T00:00:00\", \"2020-12-10T00:00:00\", \"2020-12-11T00:00:00\", \"2020-12-12T00:00:00\", \"2020-12-13T00:00:00\", \"2020-12-14T00:00:00\", \"2020-12-15T00:00:00\", \"2020-12-16T00:00:00\", \"2020-12-17T00:00:00\", \"2020-12-18T00:00:00\", \"2020-12-19T00:00:00\", \"2020-12-20T00:00:00\", \"2020-12-21T00:00:00\", \"2020-12-22T00:00:00\", \"2020-12-23T00:00:00\", \"2020-12-24T00:00:00\", \"2020-12-25T00:00:00\", \"2020-12-26T00:00:00\", \"2020-12-27T00:00:00\", \"2020-12-28T00:00:00\", \"2020-12-29T00:00:00\", \"2020-12-30T00:00:00\", \"2020-12-31T00:00:00\", \"2021-01-01T00:00:00\", \"2021-01-02T00:00:00\", \"2021-01-03T00:00:00\", \"2021-01-04T00:00:00\", \"2021-01-05T00:00:00\", \"2021-01-06T00:00:00\", \"2021-01-07T00:00:00\", \"2021-01-08T00:00:00\", \"2021-01-09T00:00:00\", \"2021-01-10T00:00:00\", \"2021-01-11T00:00:00\", \"2021-01-12T00:00:00\", \"2021-01-13T00:00:00\", \"2021-01-14T00:00:00\", \"2021-01-15T00:00:00\", \"2021-01-16T00:00:00\", \"2021-01-17T00:00:00\", \"2021-01-18T00:00:00\", \"2021-01-19T00:00:00\", \"2021-01-20T00:00:00\", \"2021-01-21T00:00:00\", \"2021-01-22T00:00:00\", \"2021-01-23T00:00:00\", \"2021-01-24T00:00:00\", \"2021-01-25T00:00:00\", \"2021-01-26T00:00:00\", \"2021-01-27T00:00:00\", \"2021-01-28T00:00:00\", \"2021-01-29T00:00:00\", \"2021-01-31T00:00:00\", \"2021-02-28T00:00:00\", \"2021-03-31T00:00:00\", \"2021-04-30T00:00:00\", \"2021-05-31T00:00:00\", \"2021-06-30T00:00:00\"], \"y\": [69.347852882566, 68.07262869138107, 66.95505464584741, 65.84433686040468, 66.93783808504205, 69.44668095388693, 66.04035066558217, 64.88459673349921, 65.66261389384873, 64.54503984831905, 63.43432206287919, 64.52782328751893, 67.0366661563596, 63.63033586806406, 62.47458193596958, 63.25259909632407, 62.135025050790695, 61.02430726535371, 62.11780848999415, 64.6266513588351, 61.220321070536166, 60.06456713844615, 60.842584298795934, 59.72501025327018, 58.614292467824754, 59.707793692471036, 62.21663656130847, 58.810306273008266, 57.65455234091962, 58.43256950127474, 57.31499545574497, 56.20427767030149, 57.297778894947925, 59.80662176378182, 56.400291475480365, 55.24453754339091, 56.0225547037466, 54.90498065821344, 53.79426287277377, 54.88776409742398, 57.39660696625663, 53.99027667795037, 52.83452274586438, 53.612539906218466, 52.49496586068824, 51.38424807524829, 52.47774929988647, 54.986592168730695, 51.580261880424565, 50.42450794834095, 51.20252510869306, 50.08495106316773, 48.9742332777228, 50.067734502362526, 52.57657737120335, 49.17024708289457, 48.01449315081442, 48.79251031116493, 47.67493626564252, 46.56421848019732, 47.65771970483943, 50.13936245429187, 46.7058320466075, 45.52287799513131, 46.27369503609813, 45.128920871183354, 43.99100296635644, 45.05730407160235, 47.53894682106722, 44.10541641338089, 42.92246236190607, 43.63419863013323, 42.45034369247635, 41.27334501490636, 42.30056534741438, 44.74312732413416, 41.270516143705024, 40.04848131949095, 40.76021758771485, 39.57636265006163, 38.37754302830508, 39.38294241662833, 41.80368344915914, 38.309251324540355, 37.065395556140366, 37.755310880179465, 36.54963499833658, 35.350815376586056, 36.33140661584256, 38.72733949930384, 35.208099225616145, 33.93943530815022, 34.6045424831198, 33.374058452208075, 32.149956397606395, 33.130073353088825, 35.525531952769, 32.00581739529815, 30.73667919405662, 31.40131208524895, 30.170352831753824, 28.94624983834093, 29.926365855015046, 32.32182351588252, 28.802108019600542, 27.532968879551834, 28.197597394811435, 26.966634704184315, 25.742528273643774, 26.722640853193333, 29.118095076930526, 25.59837614353019, 24.32923356634266, 24.99386310026365, 23.762901428299276, 22.538796016422378, 23.51890961462514, 25.91436485703617, 22.39464694229756, 21.12550607791008, 21.790136305965905, 20.55917532813012, 19.335070610387774, 20.315184902722446, 22.710640839263377, 19.190923618656104, 17.92178724928817, 18.586421972350163, 17.355465489541295, 16.13136526680682, 17.111484054161178, 19.506944485713657, 15.987232380341762, 14.718096631174097, 15.382731974452808, 14.151776111852007, 12.927676509332176, 13.907795916898984, 16.359661672159564, 12.896354270282385, 11.683623224613088, 12.404663271386598, 11.23011211227812, 10.062417213253715, 11.169287361761283, 13.691499154457212, 10.298537790015546, 9.15615278178862, 9.94753886600287, 8.843333744332739, 7.745984882749156, 8.934857050347006, 11.539070862129508, 8.228111516776712, 7.167728527639095, 8.04111663093983, 7.018913528360636, 6.087514694873246, 7.360334871476254, 10.048496692260617, 6.821485355907369, 5.845050375773374, 6.802386488074757, 5.936364612531668, 5.07719899707492, 6.422252391697683, 9.182647430523692, 6.027869312199413, 5.123667550100807, 6.153236880435353, 5.287215004892947, 4.471718869120569, 5.86044174343421, 8.664506261946169, 5.553397623308571, 4.692865340899688, 5.766104150925064, 4.9437517550717756, 4.150470403707946, 5.561408062429631, 8.387687365344423, 5.298793511122426, 4.460476013109609, 5.5559296075416, 4.755791996090281, 3.96251064472711, 5.373448303438154, 8.203105170168936, 5.117588879748565, 4.282648945540701, 5.381480103778138, 4.5847200561298616, 3.7948162685709543, 5.209131491087, 8.038788357813543, 4.953272067392616, 4.120744356498811, 5.221987738040404, 4.427639913705386, 3.6401483494535727, 5.056875795282966, 7.88894488531711, 4.805840818201715, 3.973313107308292, 5.074556488851372, 4.280208664512966, 3.4932726220686714, 4.910555589701078, 7.743180201535463, 4.660631656220945, 3.8286594671313585, 4.930458370478155, 4.136666067937218, 3.3497300254913833, 4.767012993126584, 7.599637604958978, 4.517089059652284, 3.685117929018226, 4.786917890827354, 3.9931266467579825, 3.2061916627711122, 4.623475688872631, 7.456101359164727, 4.37355387231931, 3.541582741686551, 4.64338270349972, 3.849591459426648, 3.0626564754404364, 4.479940501544867, 7.312566171835815, 4.230018684990549, 3.398050623348722, 4.499853654151952, 3.706065479070322, 2.9191335640764366, 4.336420659163583, 7.169049398456217, 4.0865049805992575, 3.2545369189640025, 4.356339949769469, 3.562551774691683, 2.775619859691886, 4.192906954778345, 7.025535694069742, 3.9429929979653275, 3.1110266580836026, 4.212831410641608, 3.419044957319895, 2.632114764079172, 4.049403580925486, 6.882034041968602, 3.799491345872713, 2.967525005985672, 4.069329758542444, 3.2755474081645453, 2.488621317867895, 3.9059142376592515, 6.738548801645573, 3.656010208494188, 2.824047971553858, 3.9258568270537513, 3.132074476672153, 2.345148386377123, 3.7624413061721182, 6.5950758701542025, 3.512537277000156, 2.6805750400602077, 3.782383895560854, 2.9886015451829206, 2.2016754548876105, 3.618968374671431, 6.451602938664232, 3.3690643455082316, 2.5371021085705685, 3.6389109640686907, 2.8451286136873715, 2.0582025233958774, 3.475495443182609, 6.308130007175016, 3.2255914140163067, 2.3936291770800144, 3.4954380325834684, 2.701655682198138, 1.9147295919085867, 3.3320225116954765, 6.164657075685048, 3.082118482524381, 2.250156245592554, 3.3519651010913045, 2.5581827507135997, 1.7712566604168531, 3.1885495802074986, 6.021184144193677, 2.9386455510303495, 2.106683314096725, 3.2084921695991415, 2.414709819221209, 1.6277837289273411, 3.0450766487195207, 5.8777112127037086, 2.7951726195524182, 1.9632103826092644, 3.065019238110448, 2.271236887728817, 1.4843107974343492, 2.90160371721799, 5.734238281213738, 2.6516996880583865, 1.8197374511187094, 2.921546306621756, 2.1277639562395843, 1.3408378659470583, 2.7581307857308572, 5.590765349722368, 2.50822675656646, 1.6762645196281531, 2.7780733751288587, 1.984291024744034, 1.1973649344553248, 2.6146578542428793, 5.447292418232399, 2.3647538250843163, 1.5327915881375982, 2.634600443636695, 1.0538920029658125, 0.4800002770065055, 1.0734974416646637, 0.769452334264868, 0.0321450874219988, -0.7916506677129092]}, {\"fill\": \"tonexty\", \"fillcolor\": \"rgba(0, 114, 178, 0.2)\", \"hoverinfo\": \"skip\", \"line\": {\"width\": 0}, \"mode\": \"lines\", \"type\": \"scatter\", \"x\": [\"2020-03-09T00:00:00\", \"2020-03-13T00:00:00\", \"2020-03-14T00:00:00\", \"2020-03-15T00:00:00\", \"2020-03-16T00:00:00\", \"2020-03-17T00:00:00\", \"2020-03-18T00:00:00\", \"2020-03-19T00:00:00\", \"2020-03-20T00:00:00\", \"2020-03-21T00:00:00\", \"2020-03-22T00:00:00\", \"2020-03-23T00:00:00\", \"2020-03-24T00:00:00\", \"2020-03-25T00:00:00\", \"2020-03-26T00:00:00\", \"2020-03-27T00:00:00\", \"2020-03-28T00:00:00\", \"2020-03-29T00:00:00\", \"2020-03-30T00:00:00\", \"2020-03-31T00:00:00\", \"2020-04-01T00:00:00\", \"2020-04-02T00:00:00\", \"2020-04-03T00:00:00\", \"2020-04-04T00:00:00\", \"2020-04-05T00:00:00\", \"2020-04-06T00:00:00\", \"2020-04-07T00:00:00\", \"2020-04-08T00:00:00\", \"2020-04-09T00:00:00\", \"2020-04-10T00:00:00\", \"2020-04-11T00:00:00\", \"2020-04-12T00:00:00\", \"2020-04-13T00:00:00\", \"2020-04-14T00:00:00\", \"2020-04-15T00:00:00\", \"2020-04-16T00:00:00\", \"2020-04-17T00:00:00\", \"2020-04-18T00:00:00\", \"2020-04-19T00:00:00\", \"2020-04-20T00:00:00\", \"2020-04-21T00:00:00\", \"2020-04-22T00:00:00\", \"2020-04-23T00:00:00\", \"2020-04-24T00:00:00\", \"2020-04-25T00:00:00\", \"2020-04-26T00:00:00\", \"2020-04-27T00:00:00\", \"2020-04-28T00:00:00\", \"2020-04-29T00:00:00\", \"2020-04-30T00:00:00\", \"2020-05-01T00:00:00\", \"2020-05-02T00:00:00\", \"2020-05-03T00:00:00\", \"2020-05-04T00:00:00\", \"2020-05-05T00:00:00\", \"2020-05-06T00:00:00\", \"2020-05-07T00:00:00\", \"2020-05-08T00:00:00\", \"2020-05-09T00:00:00\", \"2020-05-10T00:00:00\", \"2020-05-11T00:00:00\", \"2020-05-12T00:00:00\", \"2020-05-13T00:00:00\", \"2020-05-14T00:00:00\", \"2020-05-15T00:00:00\", \"2020-05-16T00:00:00\", \"2020-05-17T00:00:00\", \"2020-05-18T00:00:00\", \"2020-05-19T00:00:00\", \"2020-05-20T00:00:00\", \"2020-05-21T00:00:00\", \"2020-05-22T00:00:00\", \"2020-05-23T00:00:00\", \"2020-05-24T00:00:00\", \"2020-05-25T00:00:00\", \"2020-05-26T00:00:00\", \"2020-05-27T00:00:00\", \"2020-05-28T00:00:00\", \"2020-05-29T00:00:00\", \"2020-05-30T00:00:00\", \"2020-05-31T00:00:00\", \"2020-06-01T00:00:00\", \"2020-06-02T00:00:00\", \"2020-06-03T00:00:00\", \"2020-06-04T00:00:00\", \"2020-06-05T00:00:00\", \"2020-06-06T00:00:00\", \"2020-06-07T00:00:00\", \"2020-06-08T00:00:00\", \"2020-06-09T00:00:00\", \"2020-06-10T00:00:00\", \"2020-06-11T00:00:00\", \"2020-06-12T00:00:00\", \"2020-06-13T00:00:00\", \"2020-06-14T00:00:00\", \"2020-06-15T00:00:00\", \"2020-06-16T00:00:00\", \"2020-06-17T00:00:00\", \"2020-06-18T00:00:00\", \"2020-06-19T00:00:00\", \"2020-06-20T00:00:00\", \"2020-06-21T00:00:00\", \"2020-06-22T00:00:00\", \"2020-06-23T00:00:00\", \"2020-06-24T00:00:00\", \"2020-06-25T00:00:00\", \"2020-06-26T00:00:00\", \"2020-06-27T00:00:00\", \"2020-06-28T00:00:00\", \"2020-06-29T00:00:00\", \"2020-06-30T00:00:00\", \"2020-07-01T00:00:00\", \"2020-07-02T00:00:00\", \"2020-07-03T00:00:00\", \"2020-07-04T00:00:00\", \"2020-07-05T00:00:00\", \"2020-07-06T00:00:00\", \"2020-07-07T00:00:00\", \"2020-07-08T00:00:00\", \"2020-07-09T00:00:00\", \"2020-07-10T00:00:00\", \"2020-07-11T00:00:00\", \"2020-07-12T00:00:00\", \"2020-07-13T00:00:00\", \"2020-07-14T00:00:00\", \"2020-07-15T00:00:00\", \"2020-07-16T00:00:00\", \"2020-07-17T00:00:00\", \"2020-07-18T00:00:00\", \"2020-07-19T00:00:00\", \"2020-07-20T00:00:00\", \"2020-07-21T00:00:00\", \"2020-07-22T00:00:00\", \"2020-07-23T00:00:00\", \"2020-07-24T00:00:00\", \"2020-07-25T00:00:00\", \"2020-07-26T00:00:00\", \"2020-07-27T00:00:00\", \"2020-07-28T00:00:00\", \"2020-07-29T00:00:00\", \"2020-07-30T00:00:00\", \"2020-07-31T00:00:00\", \"2020-08-01T00:00:00\", \"2020-08-02T00:00:00\", \"2020-08-03T00:00:00\", \"2020-08-04T00:00:00\", \"2020-08-05T00:00:00\", \"2020-08-06T00:00:00\", \"2020-08-07T00:00:00\", \"2020-08-08T00:00:00\", \"2020-08-09T00:00:00\", \"2020-08-10T00:00:00\", \"2020-08-11T00:00:00\", \"2020-08-12T00:00:00\", \"2020-08-13T00:00:00\", \"2020-08-14T00:00:00\", \"2020-08-15T00:00:00\", \"2020-08-16T00:00:00\", \"2020-08-17T00:00:00\", \"2020-08-18T00:00:00\", \"2020-08-19T00:00:00\", \"2020-08-20T00:00:00\", \"2020-08-21T00:00:00\", \"2020-08-22T00:00:00\", \"2020-08-23T00:00:00\", \"2020-08-24T00:00:00\", \"2020-08-25T00:00:00\", \"2020-08-26T00:00:00\", \"2020-08-27T00:00:00\", \"2020-08-28T00:00:00\", \"2020-08-29T00:00:00\", \"2020-08-30T00:00:00\", \"2020-08-31T00:00:00\", \"2020-09-01T00:00:00\", \"2020-09-02T00:00:00\", \"2020-09-03T00:00:00\", \"2020-09-04T00:00:00\", \"2020-09-05T00:00:00\", \"2020-09-06T00:00:00\", \"2020-09-07T00:00:00\", \"2020-09-08T00:00:00\", \"2020-09-09T00:00:00\", \"2020-09-10T00:00:00\", \"2020-09-11T00:00:00\", \"2020-09-12T00:00:00\", \"2020-09-13T00:00:00\", \"2020-09-14T00:00:00\", \"2020-09-15T00:00:00\", \"2020-09-16T00:00:00\", \"2020-09-17T00:00:00\", \"2020-09-18T00:00:00\", \"2020-09-19T00:00:00\", \"2020-09-20T00:00:00\", \"2020-09-21T00:00:00\", \"2020-09-22T00:00:00\", \"2020-09-23T00:00:00\", \"2020-09-24T00:00:00\", \"2020-09-25T00:00:00\", \"2020-09-26T00:00:00\", \"2020-09-27T00:00:00\", \"2020-09-28T00:00:00\", \"2020-09-29T00:00:00\", \"2020-09-30T00:00:00\", \"2020-10-01T00:00:00\", \"2020-10-02T00:00:00\", \"2020-10-03T00:00:00\", \"2020-10-04T00:00:00\", \"2020-10-05T00:00:00\", \"2020-10-06T00:00:00\", \"2020-10-07T00:00:00\", \"2020-10-08T00:00:00\", \"2020-10-09T00:00:00\", \"2020-10-10T00:00:00\", \"2020-10-11T00:00:00\", \"2020-10-12T00:00:00\", \"2020-10-13T00:00:00\", \"2020-10-14T00:00:00\", \"2020-10-15T00:00:00\", \"2020-10-16T00:00:00\", \"2020-10-17T00:00:00\", \"2020-10-18T00:00:00\", \"2020-10-19T00:00:00\", \"2020-10-20T00:00:00\", \"2020-10-21T00:00:00\", \"2020-10-22T00:00:00\", \"2020-10-23T00:00:00\", \"2020-10-24T00:00:00\", \"2020-10-25T00:00:00\", \"2020-10-26T00:00:00\", \"2020-10-27T00:00:00\", \"2020-10-28T00:00:00\", \"2020-10-29T00:00:00\", \"2020-10-30T00:00:00\", \"2020-10-31T00:00:00\", \"2020-11-01T00:00:00\", \"2020-11-02T00:00:00\", \"2020-11-03T00:00:00\", \"2020-11-04T00:00:00\", \"2020-11-05T00:00:00\", \"2020-11-06T00:00:00\", \"2020-11-07T00:00:00\", \"2020-11-08T00:00:00\", \"2020-11-09T00:00:00\", \"2020-11-10T00:00:00\", \"2020-11-11T00:00:00\", \"2020-11-12T00:00:00\", \"2020-11-13T00:00:00\", \"2020-11-14T00:00:00\", \"2020-11-15T00:00:00\", \"2020-11-16T00:00:00\", \"2020-11-17T00:00:00\", \"2020-11-18T00:00:00\", \"2020-11-19T00:00:00\", \"2020-11-20T00:00:00\", \"2020-11-21T00:00:00\", \"2020-11-22T00:00:00\", \"2020-11-23T00:00:00\", \"2020-11-24T00:00:00\", \"2020-11-25T00:00:00\", \"2020-11-26T00:00:00\", \"2020-11-27T00:00:00\", \"2020-11-28T00:00:00\", \"2020-11-29T00:00:00\", \"2020-11-30T00:00:00\", \"2020-12-01T00:00:00\", \"2020-12-02T00:00:00\", \"2020-12-03T00:00:00\", \"2020-12-04T00:00:00\", \"2020-12-05T00:00:00\", \"2020-12-06T00:00:00\", \"2020-12-07T00:00:00\", \"2020-12-08T00:00:00\", \"2020-12-09T00:00:00\", \"2020-12-10T00:00:00\", \"2020-12-11T00:00:00\", \"2020-12-12T00:00:00\", \"2020-12-13T00:00:00\", \"2020-12-14T00:00:00\", \"2020-12-15T00:00:00\", \"2020-12-16T00:00:00\", \"2020-12-17T00:00:00\", \"2020-12-18T00:00:00\", \"2020-12-19T00:00:00\", \"2020-12-20T00:00:00\", \"2020-12-21T00:00:00\", \"2020-12-22T00:00:00\", \"2020-12-23T00:00:00\", \"2020-12-24T00:00:00\", \"2020-12-25T00:00:00\", \"2020-12-26T00:00:00\", \"2020-12-27T00:00:00\", \"2020-12-28T00:00:00\", \"2020-12-29T00:00:00\", \"2020-12-30T00:00:00\", \"2020-12-31T00:00:00\", \"2021-01-01T00:00:00\", \"2021-01-02T00:00:00\", \"2021-01-03T00:00:00\", \"2021-01-04T00:00:00\", \"2021-01-05T00:00:00\", \"2021-01-06T00:00:00\", \"2021-01-07T00:00:00\", \"2021-01-08T00:00:00\", \"2021-01-09T00:00:00\", \"2021-01-10T00:00:00\", \"2021-01-11T00:00:00\", \"2021-01-12T00:00:00\", \"2021-01-13T00:00:00\", \"2021-01-14T00:00:00\", \"2021-01-15T00:00:00\", \"2021-01-16T00:00:00\", \"2021-01-17T00:00:00\", \"2021-01-18T00:00:00\", \"2021-01-19T00:00:00\", \"2021-01-20T00:00:00\", \"2021-01-21T00:00:00\", \"2021-01-22T00:00:00\", \"2021-01-23T00:00:00\", \"2021-01-24T00:00:00\", \"2021-01-25T00:00:00\", \"2021-01-26T00:00:00\", \"2021-01-27T00:00:00\", \"2021-01-28T00:00:00\", \"2021-01-29T00:00:00\", \"2021-01-31T00:00:00\", \"2021-02-28T00:00:00\", \"2021-03-31T00:00:00\", \"2021-04-30T00:00:00\", \"2021-05-31T00:00:00\", \"2021-06-30T00:00:00\"], \"y\": [188.6923307808221, 194.60636717149336, 186.77459594815645, 193.94634176767337, 188.02180766534372, 197.08595699329504, 186.98117812489335, 180.1555832963905, 175.7325990074085, 183.88373059232123, 180.9629931605871, 168.78578059748278, 182.58558664847087, 187.23653567199688, 184.8918620388292, 174.14469936811622, 175.44826141273134, 172.84196900598795, 184.0147425410374, 189.23187104961275, 182.46074891077572, 174.46446744961116, 183.32594181993636, 181.699414414383, 174.63264553100183, 180.27087505645983, 177.19843520148873, 180.08992592297412, 174.44342414499386, 177.20943841897625, 174.90900791551027, 170.68211776720278, 175.9388831803373, 184.66161281231953, 173.49722128407075, 175.2494793431695, 175.536066282694, 175.5933902924264, 173.331658965897, 173.69821527568155, 179.74648326712136, 170.71292154224466, 163.07753241297615, 164.69451659438562, 173.70942163829608, 177.01379903082153, 175.48636901530625, 171.99566332208119, 171.37567798534653, 160.2909067035122, 167.22949031570298, 171.3195672626942, 172.6832469774574, 164.91466858533866, 177.75836984721857, 163.4703294046107, 157.02196064529397, 180.784054639825, 161.30138357636613, 166.49604163732496, 171.40664576538796, 169.29577302454993, 156.5436454206403, 159.5921513149393, 164.44551442462298, 162.43081003885274, 169.75187363429558, 161.3408874709666, 164.0916436093492, 154.9168967594561, 154.4174118801758, 157.8173612875619, 161.79408404613054, 158.26444475766, 157.0735527249042, 167.28126953855147, 156.89444363488812, 163.74639422141288, 148.78331423344258, 160.14216156481137, 157.76833989708274, 148.75162620695764, 165.56819073820088, 158.81958331557965, 163.22178822747017, 155.95667561384022, 155.94726308002822, 152.27238174314874, 159.07334740932987, 159.1651279218533, 155.62545891042083, 146.40883330915034, 163.179057466592, 158.57406511381214, 147.99706380544467, 156.18664708909893, 151.10203693536891, 152.19825483002083, 153.51377639730413, 147.90641122805255, 147.3102526179239, 152.9579503419512, 145.65114591990326, 144.8034748257121, 147.61818931010788, 145.04250692626937, 133.36017907238326, 142.69068983663527, 143.50793451973064, 139.27840999325275, 154.81756601645665, 142.2871835050758, 136.46328008234295, 153.20679350652983, 142.00789961138187, 137.56066786114442, 145.21380552531173, 140.9966761128067, 137.85448249966382, 140.60956328481723, 138.5965976969855, 138.62109230286347, 139.14757474613106, 134.91432298730646, 137.22260709395235, 144.96104944276686, 135.92260880075327, 134.51251742959136, 130.6082686206087, 144.1817567469166, 136.64714510764827, 137.97365231924226, 143.09110398737118, 133.88375940615643, 133.98200559840018, 123.03203196916456, 128.031818833927, 136.38767156630445, 142.51342028057906, 129.25221515501732, 125.17345411322519, 132.83565758501828, 121.04800055456805, 128.62388802805648, 134.00435514590694, 132.36774372522987, 123.32484411296481, 122.44929949843001, 131.86585620375692, 121.57051081504943, 117.63616393091229, 129.21770297456885, 126.43857821568264, 118.11322859967787, 127.05691399698642, 111.84205131864357, 119.73318360896096, 122.7849825879488, 131.1269499213829, 131.12722210842304, 135.63503170078397, 121.45155384354625, 126.43773566808498, 129.58996830109942, 123.19955185523457, 123.3515797255316, 130.44945638555762, 127.33279068469675, 127.75521235171723, 118.83675451823714, 121.76115021816724, 120.24173049433765, 119.90725163078655, 128.36039072871486, 117.26462741424845, 121.85298893914488, 118.54758986204166, 123.24496175778447, 128.58661418462833, 124.90273676563254, 122.62301165401101, 123.98796739567051, 129.18536839653345, 116.8781664476149, 125.35445314795241, 122.05350111783483, 129.8205918860994, 119.43304308571513, 123.44727047353261, 130.33323925001784, 130.19894030636056, 122.10530211871055, 120.61693333745006, 131.54075849494043, 120.06499033587752, 127.42422045717665, 120.17129765755524, 114.81004720451924, 126.67616554827512, 118.35394581311405, 129.78638573788353, 119.31536717101004, 129.0421359920338, 119.02105360508865, 123.83982782785435, 129.61685820961677, 130.9641504403145, 119.24365930329515, 130.59703294660088, 126.8405583370022, 118.10006218303572, 124.17237267205505, 119.48622968747246, 116.17675740333046, 121.40168900135723, 125.52778617690382, 114.27340109241145, 133.15021361594938, 121.85753468627681, 117.8796796380165, 124.06637364827013, 123.71773517999318, 131.079843572818, 119.7708516649962, 116.184019963807, 123.83517647663865, 123.27687850117097, 122.4137679601963, 130.4268700284868, 123.09917388803625, 127.24457830392369, 123.30165694644916, 125.1788104850919, 127.31802095109232, 121.65364696543301, 121.49143006606538, 126.34776603048354, 115.44671431797492, 115.16561743533032, 119.21013120417581, 120.05599617150574, 119.11426624053048, 128.68892966163776, 124.46418067468919, 119.70658435719247, 138.1544240536946, 126.20516628356648, 120.46237771353923, 118.55718754271581, 116.54791504336676, 125.24018274882934, 135.18969639481867, 115.15310540216534, 114.55018472720519, 124.76351368851525, 120.7218183019841, 123.11992345831787, 118.60892857305261, 124.30393039236057, 115.92268633890642, 122.71812127670235, 126.8082915839845, 116.88456307316369, 115.93293560678106, 129.5560830216662, 135.80969437637845, 123.46217591016273, 119.90766127374867, 117.50672407974483, 117.48945218863382, 115.1980657281857, 120.17708934023322, 129.31839964764882, 124.5028653307838, 122.77348223838285, 120.08078090769732, 128.17248000511682, 119.29521160187848, 127.58766656462147, 127.92036981756891, 125.47333682491345, 115.54426792986253, 117.25633299598472, 117.3352015280178, 125.60200709497317, 130.3041833064592, 119.07545285413774, 115.60261831179983, 126.85065187900432, 124.11422385782093, 116.91419877213899, 131.3561462999392, 126.1151517453082, 125.65388151763773, 126.66044509224355, 125.58005150417162, 116.1840621062187, 116.07843997888659, 125.9074427745779, 126.80225307051903, 119.01795328747343, 115.9651440592687, 118.97430192939639, 121.72961326929303, 119.62561012217921, 122.67251909991893, 123.6180196771522, 116.99884907745297, 116.20211292088831, 127.40203155342734, 123.2873572054205, 116.69250765182244, 113.04690734130216, 125.57806061275892, 123.27976795660493, 117.93599625987281, 119.28999042444866, 119.68898397379112, 114.78490736441321, 112.25821109415328, 120.09864891766583, 123.65749720065101, 114.3227573571934, 116.8715300450377, 125.95307755823994, 121.06607787386542, 118.83647017566523, 120.3576643654063, 117.70496608265076, 120.97240111278447]}],\n",
              "                        {\"height\": 600, \"showlegend\": false, \"template\": {\"data\": {\"bar\": [{\"error_x\": {\"color\": \"#2a3f5f\"}, \"error_y\": {\"color\": \"#2a3f5f\"}, \"marker\": {\"line\": {\"color\": \"#E5ECF6\", \"width\": 0.5}}, \"type\": \"bar\"}], \"barpolar\": [{\"marker\": {\"line\": {\"color\": \"#E5ECF6\", \"width\": 0.5}}, \"type\": \"barpolar\"}], \"carpet\": [{\"aaxis\": {\"endlinecolor\": \"#2a3f5f\", \"gridcolor\": \"white\", \"linecolor\": \"white\", \"minorgridcolor\": \"white\", \"startlinecolor\": \"#2a3f5f\"}, \"baxis\": {\"endlinecolor\": \"#2a3f5f\", \"gridcolor\": \"white\", \"linecolor\": \"white\", \"minorgridcolor\": \"white\", \"startlinecolor\": \"#2a3f5f\"}, \"type\": \"carpet\"}], \"choropleth\": [{\"colorbar\": {\"outlinewidth\": 0, \"ticks\": \"\"}, \"type\": \"choropleth\"}], \"contour\": [{\"colorbar\": {\"outlinewidth\": 0, \"ticks\": \"\"}, \"colorscale\": [[0.0, \"#0d0887\"], [0.1111111111111111, \"#46039f\"], [0.2222222222222222, \"#7201a8\"], [0.3333333333333333, \"#9c179e\"], [0.4444444444444444, \"#bd3786\"], [0.5555555555555556, \"#d8576b\"], [0.6666666666666666, \"#ed7953\"], [0.7777777777777778, \"#fb9f3a\"], [0.8888888888888888, \"#fdca26\"], [1.0, \"#f0f921\"]], \"type\": \"contour\"}], \"contourcarpet\": [{\"colorbar\": {\"outlinewidth\": 0, \"ticks\": \"\"}, \"type\": \"contourcarpet\"}], \"heatmap\": [{\"colorbar\": {\"outlinewidth\": 0, \"ticks\": \"\"}, \"colorscale\": [[0.0, \"#0d0887\"], [0.1111111111111111, \"#46039f\"], [0.2222222222222222, \"#7201a8\"], [0.3333333333333333, \"#9c179e\"], [0.4444444444444444, \"#bd3786\"], [0.5555555555555556, \"#d8576b\"], [0.6666666666666666, \"#ed7953\"], [0.7777777777777778, \"#fb9f3a\"], [0.8888888888888888, \"#fdca26\"], [1.0, \"#f0f921\"]], \"type\": \"heatmap\"}], \"heatmapgl\": [{\"colorbar\": {\"outlinewidth\": 0, \"ticks\": \"\"}, \"colorscale\": [[0.0, \"#0d0887\"], [0.1111111111111111, \"#46039f\"], [0.2222222222222222, \"#7201a8\"], [0.3333333333333333, \"#9c179e\"], [0.4444444444444444, \"#bd3786\"], [0.5555555555555556, \"#d8576b\"], [0.6666666666666666, \"#ed7953\"], [0.7777777777777778, \"#fb9f3a\"], [0.8888888888888888, \"#fdca26\"], [1.0, \"#f0f921\"]], \"type\": \"heatmapgl\"}], \"histogram\": [{\"marker\": {\"colorbar\": {\"outlinewidth\": 0, \"ticks\": \"\"}}, \"type\": \"histogram\"}], \"histogram2d\": [{\"colorbar\": {\"outlinewidth\": 0, \"ticks\": \"\"}, \"colorscale\": [[0.0, \"#0d0887\"], [0.1111111111111111, \"#46039f\"], [0.2222222222222222, \"#7201a8\"], [0.3333333333333333, \"#9c179e\"], [0.4444444444444444, \"#bd3786\"], [0.5555555555555556, \"#d8576b\"], [0.6666666666666666, \"#ed7953\"], [0.7777777777777778, \"#fb9f3a\"], [0.8888888888888888, \"#fdca26\"], [1.0, \"#f0f921\"]], \"type\": \"histogram2d\"}], \"histogram2dcontour\": [{\"colorbar\": {\"outlinewidth\": 0, \"ticks\": \"\"}, \"colorscale\": [[0.0, \"#0d0887\"], [0.1111111111111111, \"#46039f\"], [0.2222222222222222, \"#7201a8\"], [0.3333333333333333, \"#9c179e\"], [0.4444444444444444, \"#bd3786\"], [0.5555555555555556, \"#d8576b\"], [0.6666666666666666, \"#ed7953\"], [0.7777777777777778, \"#fb9f3a\"], [0.8888888888888888, \"#fdca26\"], [1.0, \"#f0f921\"]], \"type\": \"histogram2dcontour\"}], \"mesh3d\": [{\"colorbar\": {\"outlinewidth\": 0, \"ticks\": \"\"}, \"type\": \"mesh3d\"}], \"parcoords\": [{\"line\": {\"colorbar\": {\"outlinewidth\": 0, \"ticks\": \"\"}}, \"type\": \"parcoords\"}], \"pie\": [{\"automargin\": true, \"type\": \"pie\"}], \"scatter\": [{\"marker\": {\"colorbar\": {\"outlinewidth\": 0, \"ticks\": \"\"}}, \"type\": \"scatter\"}], \"scatter3d\": [{\"line\": {\"colorbar\": {\"outlinewidth\": 0, \"ticks\": \"\"}}, \"marker\": {\"colorbar\": {\"outlinewidth\": 0, \"ticks\": \"\"}}, \"type\": \"scatter3d\"}], \"scattercarpet\": [{\"marker\": {\"colorbar\": {\"outlinewidth\": 0, \"ticks\": \"\"}}, \"type\": \"scattercarpet\"}], \"scattergeo\": [{\"marker\": {\"colorbar\": {\"outlinewidth\": 0, \"ticks\": \"\"}}, \"type\": \"scattergeo\"}], \"scattergl\": [{\"marker\": {\"colorbar\": {\"outlinewidth\": 0, \"ticks\": \"\"}}, \"type\": \"scattergl\"}], \"scattermapbox\": [{\"marker\": {\"colorbar\": {\"outlinewidth\": 0, \"ticks\": \"\"}}, \"type\": \"scattermapbox\"}], \"scatterpolar\": [{\"marker\": {\"colorbar\": {\"outlinewidth\": 0, \"ticks\": \"\"}}, \"type\": \"scatterpolar\"}], \"scatterpolargl\": [{\"marker\": {\"colorbar\": {\"outlinewidth\": 0, \"ticks\": \"\"}}, \"type\": \"scatterpolargl\"}], \"scatterternary\": [{\"marker\": {\"colorbar\": {\"outlinewidth\": 0, \"ticks\": \"\"}}, \"type\": \"scatterternary\"}], \"surface\": [{\"colorbar\": {\"outlinewidth\": 0, \"ticks\": \"\"}, \"colorscale\": [[0.0, \"#0d0887\"], [0.1111111111111111, \"#46039f\"], [0.2222222222222222, \"#7201a8\"], [0.3333333333333333, \"#9c179e\"], [0.4444444444444444, \"#bd3786\"], [0.5555555555555556, \"#d8576b\"], [0.6666666666666666, \"#ed7953\"], [0.7777777777777778, \"#fb9f3a\"], [0.8888888888888888, \"#fdca26\"], [1.0, \"#f0f921\"]], \"type\": \"surface\"}], \"table\": [{\"cells\": {\"fill\": {\"color\": \"#EBF0F8\"}, \"line\": {\"color\": \"white\"}}, \"header\": {\"fill\": {\"color\": \"#C8D4E3\"}, \"line\": {\"color\": \"white\"}}, \"type\": \"table\"}]}, \"layout\": {\"annotationdefaults\": {\"arrowcolor\": \"#2a3f5f\", \"arrowhead\": 0, \"arrowwidth\": 1}, \"coloraxis\": {\"colorbar\": {\"outlinewidth\": 0, \"ticks\": \"\"}}, \"colorscale\": {\"diverging\": [[0, \"#8e0152\"], [0.1, \"#c51b7d\"], [0.2, \"#de77ae\"], [0.3, \"#f1b6da\"], [0.4, \"#fde0ef\"], [0.5, \"#f7f7f7\"], [0.6, \"#e6f5d0\"], [0.7, \"#b8e186\"], [0.8, \"#7fbc41\"], [0.9, \"#4d9221\"], [1, \"#276419\"]], \"sequential\": [[0.0, \"#0d0887\"], [0.1111111111111111, \"#46039f\"], [0.2222222222222222, \"#7201a8\"], [0.3333333333333333, \"#9c179e\"], [0.4444444444444444, \"#bd3786\"], [0.5555555555555556, \"#d8576b\"], [0.6666666666666666, \"#ed7953\"], [0.7777777777777778, \"#fb9f3a\"], [0.8888888888888888, \"#fdca26\"], [1.0, \"#f0f921\"]], \"sequentialminus\": [[0.0, \"#0d0887\"], [0.1111111111111111, \"#46039f\"], [0.2222222222222222, \"#7201a8\"], [0.3333333333333333, \"#9c179e\"], [0.4444444444444444, \"#bd3786\"], [0.5555555555555556, \"#d8576b\"], [0.6666666666666666, \"#ed7953\"], [0.7777777777777778, \"#fb9f3a\"], [0.8888888888888888, \"#fdca26\"], [1.0, \"#f0f921\"]]}, \"colorway\": [\"#636efa\", \"#EF553B\", \"#00cc96\", \"#ab63fa\", \"#FFA15A\", \"#19d3f3\", \"#FF6692\", \"#B6E880\", \"#FF97FF\", \"#FECB52\"], \"font\": {\"color\": \"#2a3f5f\"}, \"geo\": {\"bgcolor\": \"white\", \"lakecolor\": \"white\", \"landcolor\": \"#E5ECF6\", \"showlakes\": true, \"showland\": true, \"subunitcolor\": \"white\"}, \"hoverlabel\": {\"align\": \"left\"}, \"hovermode\": \"closest\", \"mapbox\": {\"style\": \"light\"}, \"paper_bgcolor\": \"white\", \"plot_bgcolor\": \"#E5ECF6\", \"polar\": {\"angularaxis\": {\"gridcolor\": \"white\", \"linecolor\": \"white\", \"ticks\": \"\"}, \"bgcolor\": \"#E5ECF6\", \"radialaxis\": {\"gridcolor\": \"white\", \"linecolor\": \"white\", \"ticks\": \"\"}}, \"scene\": {\"xaxis\": {\"backgroundcolor\": \"#E5ECF6\", \"gridcolor\": \"white\", \"gridwidth\": 2, \"linecolor\": \"white\", \"showbackground\": true, \"ticks\": \"\", \"zerolinecolor\": \"white\"}, \"yaxis\": {\"backgroundcolor\": \"#E5ECF6\", \"gridcolor\": \"white\", \"gridwidth\": 2, \"linecolor\": \"white\", \"showbackground\": true, \"ticks\": \"\", \"zerolinecolor\": \"white\"}, \"zaxis\": {\"backgroundcolor\": \"#E5ECF6\", \"gridcolor\": \"white\", \"gridwidth\": 2, \"linecolor\": \"white\", \"showbackground\": true, \"ticks\": \"\", \"zerolinecolor\": \"white\"}}, \"shapedefaults\": {\"line\": {\"color\": \"#2a3f5f\"}}, \"ternary\": {\"aaxis\": {\"gridcolor\": \"white\", \"linecolor\": \"white\", \"ticks\": \"\"}, \"baxis\": {\"gridcolor\": \"white\", \"linecolor\": \"white\", \"ticks\": \"\"}, \"bgcolor\": \"#E5ECF6\", \"caxis\": {\"gridcolor\": \"white\", \"linecolor\": \"white\", \"ticks\": \"\"}}, \"title\": {\"x\": 0.05}, \"xaxis\": {\"automargin\": true, \"gridcolor\": \"white\", \"linecolor\": \"white\", \"ticks\": \"\", \"title\": {\"standoff\": 15}, \"zerolinecolor\": \"white\", \"zerolinewidth\": 2}, \"yaxis\": {\"automargin\": true, \"gridcolor\": \"white\", \"linecolor\": \"white\", \"ticks\": \"\", \"title\": {\"standoff\": 15}, \"zerolinecolor\": \"white\", \"zerolinewidth\": 2}}}, \"width\": 900, \"xaxis\": {\"rangeselector\": {\"buttons\": [{\"count\": 7, \"label\": \"1w\", \"step\": \"day\", \"stepmode\": \"backward\"}, {\"count\": 1, \"label\": \"1m\", \"step\": \"month\", \"stepmode\": \"backward\"}, {\"count\": 6, \"label\": \"6m\", \"step\": \"month\", \"stepmode\": \"backward\"}, {\"count\": 1, \"label\": \"1y\", \"step\": \"year\", \"stepmode\": \"backward\"}, {\"step\": \"all\"}]}, \"rangeslider\": {\"visible\": true}, \"title\": {\"text\": \"ds\"}, \"type\": \"date\"}, \"yaxis\": {\"title\": {\"text\": \"y\"}}},\n",
              "                        {\"responsive\": true}\n",
              "                    ).then(function(){\n",
              "                            \n",
              "var gd = document.getElementById('2846cd49-ea1f-4505-b481-176b25a27a44');\n",
              "var x = new MutationObserver(function (mutations, observer) {{\n",
              "        var display = window.getComputedStyle(gd).display;\n",
              "        if (!display || display === 'none') {{\n",
              "            console.log([gd, 'removed!']);\n",
              "            Plotly.purge(gd);\n",
              "            observer.disconnect();\n",
              "        }}\n",
              "}});\n",
              "\n",
              "// Listen for the removal of the full notebook cells\n",
              "var notebookContainer = gd.closest('#notebook-container');\n",
              "if (notebookContainer) {{\n",
              "    x.observe(notebookContainer, {childList: true});\n",
              "}}\n",
              "\n",
              "// Listen for the clearing of the current output cell\n",
              "var outputEl = gd.closest('.output');\n",
              "if (outputEl) {{\n",
              "    x.observe(outputEl, {childList: true});\n",
              "}}\n",
              "\n",
              "                        })\n",
              "                };\n",
              "                \n",
              "            </script>\n",
              "        </div>\n",
              "</body>\n",
              "</html>"
            ]
          },
          "metadata": {
            "tags": []
          }
        }
      ]
    },
    {
      "cell_type": "markdown",
      "metadata": {
        "id": "HF2UVZEGp6qs"
      },
      "source": [
        "# Visualizing Prophet models\r\n",
        "\r\n",
        "### In order to build a useful dataframe to visualize our model versus our original data `Riyadh`, we need to combine the output of the Prophet model with our original data set, then we'll build a new chart manually using pandas and matplotlib.\r\n",
        "\r\n"
      ]
    },
    {
      "cell_type": "code",
      "metadata": {
        "id": "bSiP3yE8xZMO"
      },
      "source": [
        "# let's set the dataframe to have the same index of ds\r\n",
        "Rregion=Rregion.rename(columns={'Date':'ds', 'Confirmed':'y'})"
      ],
      "execution_count": 36,
      "outputs": []
    },
    {
      "cell_type": "code",
      "metadata": {
        "id": "6cgusZZdAq_f"
      },
      "source": [
        "Rregion.set_index('ds', inplace=True)\r\n",
        "fcst.set_index('ds', inplace=True)"
      ],
      "execution_count": 37,
      "outputs": []
    },
    {
      "cell_type": "code",
      "metadata": {
        "id": "acNBIzukAyDZ"
      },
      "source": [
        "# combine the original data and the forecast model data\r\n",
        "viz_df = Rregion.join(fcst[['yhat', 'yhat_lower','yhat_upper']], how = 'outer')"
      ],
      "execution_count": 38,
      "outputs": []
    },
    {
      "cell_type": "markdown",
      "metadata": {
        "id": "rGsbt1hDyg8f"
      },
      "source": [
        "### If we look at the head(), we see the data has been joined correctly but the scales of our original data (y) that confirmed cases and the model (yhat) are different. so need to rescale the yhat colums(s) to get the same scale, so we'll use numpy's exp function to do that."
      ]
    },
    {
      "cell_type": "code",
      "metadata": {
        "colab": {
          "base_uri": "https://localhost:8080/",
          "height": 510
        },
        "id": "2h8XlhtBAyMq",
        "outputId": "f8b68f18-7513-4dd1-be8d-c5704b62f975"
      },
      "source": [
        "viz_df.head()"
      ],
      "execution_count": 39,
      "outputs": [
        {
          "output_type": "execute_result",
          "data": {
            "text/html": [
              "<div>\n",
              "<style scoped>\n",
              "    .dataframe tbody tr th:only-of-type {\n",
              "        vertical-align: middle;\n",
              "    }\n",
              "\n",
              "    .dataframe tbody tr th {\n",
              "        vertical-align: top;\n",
              "    }\n",
              "\n",
              "    .dataframe thead th {\n",
              "        text-align: right;\n",
              "    }\n",
              "</style>\n",
              "<table border=\"1\" class=\"dataframe\">\n",
              "  <thead>\n",
              "    <tr style=\"text-align: right;\">\n",
              "      <th></th>\n",
              "      <th>PlaceName_EN</th>\n",
              "      <th>GovernorateName_EN</th>\n",
              "      <th>RegionName_EN</th>\n",
              "      <th>PLC_CODE</th>\n",
              "      <th>REG_CODE</th>\n",
              "      <th>GOV_CODE</th>\n",
              "      <th>Place_Category</th>\n",
              "      <th>DataSource</th>\n",
              "      <th>GlobalID</th>\n",
              "      <th>Reportdt</th>\n",
              "      <th>Name_Eng</th>\n",
              "      <th>Place_Code</th>\n",
              "      <th>y</th>\n",
              "      <th>Deaths</th>\n",
              "      <th>Recovered</th>\n",
              "      <th>Tested</th>\n",
              "      <th>NewAdded</th>\n",
              "      <th>GlobalID_1587594607483</th>\n",
              "      <th>Time</th>\n",
              "      <th>yhat</th>\n",
              "      <th>yhat_lower</th>\n",
              "      <th>yhat_upper</th>\n",
              "    </tr>\n",
              "    <tr>\n",
              "      <th>ds</th>\n",
              "      <th></th>\n",
              "      <th></th>\n",
              "      <th></th>\n",
              "      <th></th>\n",
              "      <th></th>\n",
              "      <th></th>\n",
              "      <th></th>\n",
              "      <th></th>\n",
              "      <th></th>\n",
              "      <th></th>\n",
              "      <th></th>\n",
              "      <th></th>\n",
              "      <th></th>\n",
              "      <th></th>\n",
              "      <th></th>\n",
              "      <th></th>\n",
              "      <th></th>\n",
              "      <th></th>\n",
              "      <th></th>\n",
              "      <th></th>\n",
              "      <th></th>\n",
              "      <th></th>\n",
              "    </tr>\n",
              "  </thead>\n",
              "  <tbody>\n",
              "    <tr>\n",
              "      <th>2020-03-09</th>\n",
              "      <td>AR RIYAD</td>\n",
              "      <td>Ar Riyad</td>\n",
              "      <td>Ar Riyad</td>\n",
              "      <td>C531G10R01</td>\n",
              "      <td>R01</td>\n",
              "      <td>G10R01</td>\n",
              "      <td>City</td>\n",
              "      <td>GCS</td>\n",
              "      <td>296ee29a-b190-4064-a3c5-cdd778046ab2</td>\n",
              "      <td>1.583712e+12</td>\n",
              "      <td>Riyadh</td>\n",
              "      <td>C531G10R01</td>\n",
              "      <td>1.0</td>\n",
              "      <td>0.0</td>\n",
              "      <td>0.0</td>\n",
              "      <td>1.0</td>\n",
              "      <td>0.0</td>\n",
              "      <td>cf1eb028-be80-401f-8a37-3ec00796fe9b</td>\n",
              "      <td>00:00:00</td>\n",
              "      <td>69.347853</td>\n",
              "      <td>-45.987145</td>\n",
              "      <td>188.692331</td>\n",
              "    </tr>\n",
              "    <tr>\n",
              "      <th>2020-03-13</th>\n",
              "      <td>AR RIYAD</td>\n",
              "      <td>Ar Riyad</td>\n",
              "      <td>Ar Riyad</td>\n",
              "      <td>C531G10R01</td>\n",
              "      <td>R01</td>\n",
              "      <td>G10R01</td>\n",
              "      <td>City</td>\n",
              "      <td>GCS</td>\n",
              "      <td>296ee29a-b190-4064-a3c5-cdd778046ab2</td>\n",
              "      <td>1.584058e+12</td>\n",
              "      <td>Riyadh</td>\n",
              "      <td>C531G10R01</td>\n",
              "      <td>3.0</td>\n",
              "      <td>0.0</td>\n",
              "      <td>0.0</td>\n",
              "      <td>3.0</td>\n",
              "      <td>0.0</td>\n",
              "      <td>9ffc0208-877f-4da0-9f48-f9ae39c71b46</td>\n",
              "      <td>00:00:00</td>\n",
              "      <td>68.072629</td>\n",
              "      <td>-47.528112</td>\n",
              "      <td>194.606367</td>\n",
              "    </tr>\n",
              "    <tr>\n",
              "      <th>2020-03-14</th>\n",
              "      <td>AR RIYAD</td>\n",
              "      <td>Ar Riyad</td>\n",
              "      <td>Ar Riyad</td>\n",
              "      <td>C531G10R01</td>\n",
              "      <td>R01</td>\n",
              "      <td>G10R01</td>\n",
              "      <td>City</td>\n",
              "      <td>GCS</td>\n",
              "      <td>296ee29a-b190-4064-a3c5-cdd778046ab2</td>\n",
              "      <td>1.584144e+12</td>\n",
              "      <td>Riyadh</td>\n",
              "      <td>C531G10R01</td>\n",
              "      <td>12.0</td>\n",
              "      <td>0.0</td>\n",
              "      <td>0.0</td>\n",
              "      <td>12.0</td>\n",
              "      <td>0.0</td>\n",
              "      <td>f5826ad2-87d9-4141-830a-91dc620b2b8b</td>\n",
              "      <td>00:00:00</td>\n",
              "      <td>66.955055</td>\n",
              "      <td>-56.458344</td>\n",
              "      <td>186.774596</td>\n",
              "    </tr>\n",
              "    <tr>\n",
              "      <th>2020-03-15</th>\n",
              "      <td>AR RIYAD</td>\n",
              "      <td>Ar Riyad</td>\n",
              "      <td>Ar Riyad</td>\n",
              "      <td>C531G10R01</td>\n",
              "      <td>R01</td>\n",
              "      <td>G10R01</td>\n",
              "      <td>City</td>\n",
              "      <td>GCS</td>\n",
              "      <td>296ee29a-b190-4064-a3c5-cdd778046ab2</td>\n",
              "      <td>1.584230e+12</td>\n",
              "      <td>Riyadh</td>\n",
              "      <td>C531G10R01</td>\n",
              "      <td>2.0</td>\n",
              "      <td>0.0</td>\n",
              "      <td>0.0</td>\n",
              "      <td>2.0</td>\n",
              "      <td>0.0</td>\n",
              "      <td>3c037e1f-0baa-4a98-a47f-1ce52534c7d3</td>\n",
              "      <td>00:00:00</td>\n",
              "      <td>65.844337</td>\n",
              "      <td>-52.513413</td>\n",
              "      <td>193.946342</td>\n",
              "    </tr>\n",
              "    <tr>\n",
              "      <th>2020-03-16</th>\n",
              "      <td>AR RIYAD</td>\n",
              "      <td>Ar Riyad</td>\n",
              "      <td>Ar Riyad</td>\n",
              "      <td>C531G10R01</td>\n",
              "      <td>R01</td>\n",
              "      <td>G10R01</td>\n",
              "      <td>City</td>\n",
              "      <td>GCS</td>\n",
              "      <td>296ee29a-b190-4064-a3c5-cdd778046ab2</td>\n",
              "      <td>1.584317e+12</td>\n",
              "      <td>Riyadh</td>\n",
              "      <td>C531G10R01</td>\n",
              "      <td>4.0</td>\n",
              "      <td>0.0</td>\n",
              "      <td>0.0</td>\n",
              "      <td>4.0</td>\n",
              "      <td>0.0</td>\n",
              "      <td>3aed2d7e-dfc2-4109-87a9-7a1b6c129bbe</td>\n",
              "      <td>00:00:00</td>\n",
              "      <td>66.937838</td>\n",
              "      <td>-59.597841</td>\n",
              "      <td>188.021808</td>\n",
              "    </tr>\n",
              "  </tbody>\n",
              "</table>\n",
              "</div>"
            ],
            "text/plain": [
              "           PlaceName_EN GovernorateName_EN  ... yhat_lower  yhat_upper\n",
              "ds                                          ...                       \n",
              "2020-03-09     AR RIYAD           Ar Riyad  ... -45.987145  188.692331\n",
              "2020-03-13     AR RIYAD           Ar Riyad  ... -47.528112  194.606367\n",
              "2020-03-14     AR RIYAD           Ar Riyad  ... -56.458344  186.774596\n",
              "2020-03-15     AR RIYAD           Ar Riyad  ... -52.513413  193.946342\n",
              "2020-03-16     AR RIYAD           Ar Riyad  ... -59.597841  188.021808\n",
              "\n",
              "[5 rows x 22 columns]"
            ]
          },
          "metadata": {
            "tags": []
          },
          "execution_count": 39
        }
      ]
    },
    {
      "cell_type": "code",
      "metadata": {
        "id": "U00K7ggUCG5n"
      },
      "source": [
        "viz_df['yhat_rescaled'] = np.exp(viz_df['yhat'])"
      ],
      "execution_count": 40,
      "outputs": []
    },
    {
      "cell_type": "code",
      "metadata": {
        "colab": {
          "base_uri": "https://localhost:8080/",
          "height": 510
        },
        "id": "xf9acN-DCHGN",
        "outputId": "3ab1c469-5f90-4404-ffb1-0b06a8e5fa4b"
      },
      "source": [
        "viz_df.head()"
      ],
      "execution_count": 41,
      "outputs": [
        {
          "output_type": "execute_result",
          "data": {
            "text/html": [
              "<div>\n",
              "<style scoped>\n",
              "    .dataframe tbody tr th:only-of-type {\n",
              "        vertical-align: middle;\n",
              "    }\n",
              "\n",
              "    .dataframe tbody tr th {\n",
              "        vertical-align: top;\n",
              "    }\n",
              "\n",
              "    .dataframe thead th {\n",
              "        text-align: right;\n",
              "    }\n",
              "</style>\n",
              "<table border=\"1\" class=\"dataframe\">\n",
              "  <thead>\n",
              "    <tr style=\"text-align: right;\">\n",
              "      <th></th>\n",
              "      <th>PlaceName_EN</th>\n",
              "      <th>GovernorateName_EN</th>\n",
              "      <th>RegionName_EN</th>\n",
              "      <th>PLC_CODE</th>\n",
              "      <th>REG_CODE</th>\n",
              "      <th>GOV_CODE</th>\n",
              "      <th>Place_Category</th>\n",
              "      <th>DataSource</th>\n",
              "      <th>GlobalID</th>\n",
              "      <th>Reportdt</th>\n",
              "      <th>Name_Eng</th>\n",
              "      <th>Place_Code</th>\n",
              "      <th>y</th>\n",
              "      <th>Deaths</th>\n",
              "      <th>Recovered</th>\n",
              "      <th>Tested</th>\n",
              "      <th>NewAdded</th>\n",
              "      <th>GlobalID_1587594607483</th>\n",
              "      <th>Time</th>\n",
              "      <th>yhat</th>\n",
              "      <th>yhat_lower</th>\n",
              "      <th>yhat_upper</th>\n",
              "      <th>yhat_rescaled</th>\n",
              "    </tr>\n",
              "    <tr>\n",
              "      <th>ds</th>\n",
              "      <th></th>\n",
              "      <th></th>\n",
              "      <th></th>\n",
              "      <th></th>\n",
              "      <th></th>\n",
              "      <th></th>\n",
              "      <th></th>\n",
              "      <th></th>\n",
              "      <th></th>\n",
              "      <th></th>\n",
              "      <th></th>\n",
              "      <th></th>\n",
              "      <th></th>\n",
              "      <th></th>\n",
              "      <th></th>\n",
              "      <th></th>\n",
              "      <th></th>\n",
              "      <th></th>\n",
              "      <th></th>\n",
              "      <th></th>\n",
              "      <th></th>\n",
              "      <th></th>\n",
              "      <th></th>\n",
              "    </tr>\n",
              "  </thead>\n",
              "  <tbody>\n",
              "    <tr>\n",
              "      <th>2020-03-09</th>\n",
              "      <td>AR RIYAD</td>\n",
              "      <td>Ar Riyad</td>\n",
              "      <td>Ar Riyad</td>\n",
              "      <td>C531G10R01</td>\n",
              "      <td>R01</td>\n",
              "      <td>G10R01</td>\n",
              "      <td>City</td>\n",
              "      <td>GCS</td>\n",
              "      <td>296ee29a-b190-4064-a3c5-cdd778046ab2</td>\n",
              "      <td>1.583712e+12</td>\n",
              "      <td>Riyadh</td>\n",
              "      <td>C531G10R01</td>\n",
              "      <td>1.0</td>\n",
              "      <td>0.0</td>\n",
              "      <td>0.0</td>\n",
              "      <td>1.0</td>\n",
              "      <td>0.0</td>\n",
              "      <td>cf1eb028-be80-401f-8a37-3ec00796fe9b</td>\n",
              "      <td>00:00:00</td>\n",
              "      <td>69.347853</td>\n",
              "      <td>-45.987145</td>\n",
              "      <td>188.692331</td>\n",
              "      <td>1.310358e+30</td>\n",
              "    </tr>\n",
              "    <tr>\n",
              "      <th>2020-03-13</th>\n",
              "      <td>AR RIYAD</td>\n",
              "      <td>Ar Riyad</td>\n",
              "      <td>Ar Riyad</td>\n",
              "      <td>C531G10R01</td>\n",
              "      <td>R01</td>\n",
              "      <td>G10R01</td>\n",
              "      <td>City</td>\n",
              "      <td>GCS</td>\n",
              "      <td>296ee29a-b190-4064-a3c5-cdd778046ab2</td>\n",
              "      <td>1.584058e+12</td>\n",
              "      <td>Riyadh</td>\n",
              "      <td>C531G10R01</td>\n",
              "      <td>3.0</td>\n",
              "      <td>0.0</td>\n",
              "      <td>0.0</td>\n",
              "      <td>3.0</td>\n",
              "      <td>0.0</td>\n",
              "      <td>9ffc0208-877f-4da0-9f48-f9ae39c71b46</td>\n",
              "      <td>00:00:00</td>\n",
              "      <td>68.072629</td>\n",
              "      <td>-47.528112</td>\n",
              "      <td>194.606367</td>\n",
              "      <td>3.660724e+29</td>\n",
              "    </tr>\n",
              "    <tr>\n",
              "      <th>2020-03-14</th>\n",
              "      <td>AR RIYAD</td>\n",
              "      <td>Ar Riyad</td>\n",
              "      <td>Ar Riyad</td>\n",
              "      <td>C531G10R01</td>\n",
              "      <td>R01</td>\n",
              "      <td>G10R01</td>\n",
              "      <td>City</td>\n",
              "      <td>GCS</td>\n",
              "      <td>296ee29a-b190-4064-a3c5-cdd778046ab2</td>\n",
              "      <td>1.584144e+12</td>\n",
              "      <td>Riyadh</td>\n",
              "      <td>C531G10R01</td>\n",
              "      <td>12.0</td>\n",
              "      <td>0.0</td>\n",
              "      <td>0.0</td>\n",
              "      <td>12.0</td>\n",
              "      <td>0.0</td>\n",
              "      <td>f5826ad2-87d9-4141-830a-91dc620b2b8b</td>\n",
              "      <td>00:00:00</td>\n",
              "      <td>66.955055</td>\n",
              "      <td>-56.458344</td>\n",
              "      <td>186.774596</td>\n",
              "      <td>1.197321e+29</td>\n",
              "    </tr>\n",
              "    <tr>\n",
              "      <th>2020-03-15</th>\n",
              "      <td>AR RIYAD</td>\n",
              "      <td>Ar Riyad</td>\n",
              "      <td>Ar Riyad</td>\n",
              "      <td>C531G10R01</td>\n",
              "      <td>R01</td>\n",
              "      <td>G10R01</td>\n",
              "      <td>City</td>\n",
              "      <td>GCS</td>\n",
              "      <td>296ee29a-b190-4064-a3c5-cdd778046ab2</td>\n",
              "      <td>1.584230e+12</td>\n",
              "      <td>Riyadh</td>\n",
              "      <td>C531G10R01</td>\n",
              "      <td>2.0</td>\n",
              "      <td>0.0</td>\n",
              "      <td>0.0</td>\n",
              "      <td>2.0</td>\n",
              "      <td>0.0</td>\n",
              "      <td>3c037e1f-0baa-4a98-a47f-1ce52534c7d3</td>\n",
              "      <td>00:00:00</td>\n",
              "      <td>65.844337</td>\n",
              "      <td>-52.513413</td>\n",
              "      <td>193.946342</td>\n",
              "      <td>3.943049e+28</td>\n",
              "    </tr>\n",
              "    <tr>\n",
              "      <th>2020-03-16</th>\n",
              "      <td>AR RIYAD</td>\n",
              "      <td>Ar Riyad</td>\n",
              "      <td>Ar Riyad</td>\n",
              "      <td>C531G10R01</td>\n",
              "      <td>R01</td>\n",
              "      <td>G10R01</td>\n",
              "      <td>City</td>\n",
              "      <td>GCS</td>\n",
              "      <td>296ee29a-b190-4064-a3c5-cdd778046ab2</td>\n",
              "      <td>1.584317e+12</td>\n",
              "      <td>Riyadh</td>\n",
              "      <td>C531G10R01</td>\n",
              "      <td>4.0</td>\n",
              "      <td>0.0</td>\n",
              "      <td>0.0</td>\n",
              "      <td>4.0</td>\n",
              "      <td>0.0</td>\n",
              "      <td>3aed2d7e-dfc2-4109-87a9-7a1b6c129bbe</td>\n",
              "      <td>00:00:00</td>\n",
              "      <td>66.937838</td>\n",
              "      <td>-59.597841</td>\n",
              "      <td>188.021808</td>\n",
              "      <td>1.176884e+29</td>\n",
              "    </tr>\n",
              "  </tbody>\n",
              "</table>\n",
              "</div>"
            ],
            "text/plain": [
              "           PlaceName_EN GovernorateName_EN  ...  yhat_upper yhat_rescaled\n",
              "ds                                          ...                          \n",
              "2020-03-09     AR RIYAD           Ar Riyad  ...  188.692331  1.310358e+30\n",
              "2020-03-13     AR RIYAD           Ar Riyad  ...  194.606367  3.660724e+29\n",
              "2020-03-14     AR RIYAD           Ar Riyad  ...  186.774596  1.197321e+29\n",
              "2020-03-15     AR RIYAD           Ar Riyad  ...  193.946342  3.943049e+28\n",
              "2020-03-16     AR RIYAD           Ar Riyad  ...  188.021808  1.176884e+29\n",
              "\n",
              "[5 rows x 23 columns]"
            ]
          },
          "metadata": {
            "tags": []
          },
          "execution_count": 41
        }
      ]
    },
    {
      "cell_type": "markdown",
      "metadata": {
        "id": "ViabcMswy90F"
      },
      "source": [
        "### Let's see the confirmed `y` and `yhat_rescaled` data together in a chart"
      ]
    },
    {
      "cell_type": "code",
      "metadata": {
        "colab": {
          "base_uri": "https://localhost:8080/",
          "height": 308
        },
        "id": "TTrN76ysCOEc",
        "outputId": "7dec845e-c762-494c-b703-c8ea7852415b"
      },
      "source": [
        "viz_df[['y', 'yhat_rescaled']].plot()"
      ],
      "execution_count": 42,
      "outputs": [
        {
          "output_type": "execute_result",
          "data": {
            "text/plain": [
              "<matplotlib.axes._subplots.AxesSubplot at 0x7f9814890910>"
            ]
          },
          "metadata": {
            "tags": []
          },
          "execution_count": 42
        },
        {
          "output_type": "display_data",
          "data": {
            "image/png": "[encoded data removed]",
            "text/plain": [
              "<Figure size 432x288 with 1 Axes>"
            ]
          },
          "metadata": {
            "tags": [],
            "needs_background": "light"
          }
        }
      ]
    },
    {
      "cell_type": "code",
      "metadata": {
        "id": "TCsQALlaClD9"
      },
      "source": [
        "Rregion.index = pd.to_datetime(Rregion.index) #make sure our index as a datetime object\r\n",
        "connect_date = Rregion.index[-2] #select the 2nd to last date"
      ],
      "execution_count": 43,
      "outputs": []
    },
    {
      "cell_type": "code",
      "metadata": {
        "id": "dsgz06HTC0zq"
      },
      "source": [
        "mask = (fcst.index > connect_date)\r\n",
        "predict_df = fcst.loc[mask]"
      ],
      "execution_count": 44,
      "outputs": []
    },
    {
      "cell_type": "code",
      "metadata": {
        "colab": {
          "base_uri": "https://localhost:8080/",
          "height": 340
        },
        "id": "cPb6AJyGC6ad",
        "outputId": "33471602-c60d-46ab-8fee-25b9727f8401"
      },
      "source": [
        "predict_df.head()"
      ],
      "execution_count": 45,
      "outputs": [
        {
          "output_type": "execute_result",
          "data": {
            "text/html": [
              "<div>\n",
              "<style scoped>\n",
              "    .dataframe tbody tr th:only-of-type {\n",
              "        vertical-align: middle;\n",
              "    }\n",
              "\n",
              "    .dataframe tbody tr th {\n",
              "        vertical-align: top;\n",
              "    }\n",
              "\n",
              "    .dataframe thead th {\n",
              "        text-align: right;\n",
              "    }\n",
              "</style>\n",
              "<table border=\"1\" class=\"dataframe\">\n",
              "  <thead>\n",
              "    <tr style=\"text-align: right;\">\n",
              "      <th></th>\n",
              "      <th>trend</th>\n",
              "      <th>yhat_lower</th>\n",
              "      <th>yhat_upper</th>\n",
              "      <th>trend_lower</th>\n",
              "      <th>trend_upper</th>\n",
              "      <th>additive_terms</th>\n",
              "      <th>additive_terms_lower</th>\n",
              "      <th>additive_terms_upper</th>\n",
              "      <th>weekly</th>\n",
              "      <th>weekly_lower</th>\n",
              "      <th>weekly_upper</th>\n",
              "      <th>multiplicative_terms</th>\n",
              "      <th>multiplicative_terms_lower</th>\n",
              "      <th>multiplicative_terms_upper</th>\n",
              "      <th>yhat</th>\n",
              "    </tr>\n",
              "    <tr>\n",
              "      <th>ds</th>\n",
              "      <th></th>\n",
              "      <th></th>\n",
              "      <th></th>\n",
              "      <th></th>\n",
              "      <th></th>\n",
              "      <th></th>\n",
              "      <th></th>\n",
              "      <th></th>\n",
              "      <th></th>\n",
              "      <th></th>\n",
              "      <th></th>\n",
              "      <th></th>\n",
              "      <th></th>\n",
              "      <th></th>\n",
              "      <th></th>\n",
              "    </tr>\n",
              "  </thead>\n",
              "  <tbody>\n",
              "    <tr>\n",
              "      <th>2021-01-29</th>\n",
              "      <td>2.477905</td>\n",
              "      <td>-121.254553</td>\n",
              "      <td>116.871530</td>\n",
              "      <td>2.477905</td>\n",
              "      <td>2.477905</td>\n",
              "      <td>0.156696</td>\n",
              "      <td>0.156696</td>\n",
              "      <td>0.156696</td>\n",
              "      <td>0.156696</td>\n",
              "      <td>0.156696</td>\n",
              "      <td>0.156696</td>\n",
              "      <td>0.0</td>\n",
              "      <td>0.0</td>\n",
              "      <td>0.0</td>\n",
              "      <td>2.634600</td>\n",
              "    </tr>\n",
              "    <tr>\n",
              "      <th>2021-01-31</th>\n",
              "      <td>2.436912</td>\n",
              "      <td>-127.504847</td>\n",
              "      <td>125.953078</td>\n",
              "      <td>2.436912</td>\n",
              "      <td>2.436912</td>\n",
              "      <td>-1.383020</td>\n",
              "      <td>-1.383020</td>\n",
              "      <td>-1.383020</td>\n",
              "      <td>-1.383020</td>\n",
              "      <td>-1.383020</td>\n",
              "      <td>-1.383020</td>\n",
              "      <td>0.0</td>\n",
              "      <td>0.0</td>\n",
              "      <td>0.0</td>\n",
              "      <td>1.053892</td>\n",
              "    </tr>\n",
              "    <tr>\n",
              "      <th>2021-02-28</th>\n",
              "      <td>1.863021</td>\n",
              "      <td>-113.828077</td>\n",
              "      <td>121.066078</td>\n",
              "      <td>0.968618</td>\n",
              "      <td>2.713327</td>\n",
              "      <td>-1.383020</td>\n",
              "      <td>-1.383020</td>\n",
              "      <td>-1.383020</td>\n",
              "      <td>-1.383020</td>\n",
              "      <td>-1.383020</td>\n",
              "      <td>-1.383020</td>\n",
              "      <td>0.0</td>\n",
              "      <td>0.0</td>\n",
              "      <td>0.0</td>\n",
              "      <td>0.480000</td>\n",
              "    </tr>\n",
              "    <tr>\n",
              "      <th>2021-03-31</th>\n",
              "      <td>1.227641</td>\n",
              "      <td>-119.599158</td>\n",
              "      <td>118.836470</td>\n",
              "      <td>-1.611886</td>\n",
              "      <td>4.057329</td>\n",
              "      <td>-0.154143</td>\n",
              "      <td>-0.154143</td>\n",
              "      <td>-0.154143</td>\n",
              "      <td>-0.154143</td>\n",
              "      <td>-0.154143</td>\n",
              "      <td>-0.154143</td>\n",
              "      <td>0.0</td>\n",
              "      <td>0.0</td>\n",
              "      <td>0.0</td>\n",
              "      <td>1.073497</td>\n",
              "    </tr>\n",
              "    <tr>\n",
              "      <th>2021-04-30</th>\n",
              "      <td>0.612757</td>\n",
              "      <td>-125.978038</td>\n",
              "      <td>120.357664</td>\n",
              "      <td>-4.807280</td>\n",
              "      <td>5.793617</td>\n",
              "      <td>0.156696</td>\n",
              "      <td>0.156696</td>\n",
              "      <td>0.156696</td>\n",
              "      <td>0.156696</td>\n",
              "      <td>0.156696</td>\n",
              "      <td>0.156696</td>\n",
              "      <td>0.0</td>\n",
              "      <td>0.0</td>\n",
              "      <td>0.0</td>\n",
              "      <td>0.769452</td>\n",
              "    </tr>\n",
              "  </tbody>\n",
              "</table>\n",
              "</div>"
            ],
            "text/plain": [
              "               trend  yhat_lower  ...  multiplicative_terms_upper      yhat\n",
              "ds                                ...                                      \n",
              "2021-01-29  2.477905 -121.254553  ...                         0.0  2.634600\n",
              "2021-01-31  2.436912 -127.504847  ...                         0.0  1.053892\n",
              "2021-02-28  1.863021 -113.828077  ...                         0.0  0.480000\n",
              "2021-03-31  1.227641 -119.599158  ...                         0.0  1.073497\n",
              "2021-04-30  0.612757 -125.978038  ...                         0.0  0.769452\n",
              "\n",
              "[5 rows x 15 columns]"
            ]
          },
          "metadata": {
            "tags": []
          },
          "execution_count": 45
        }
      ]
    },
    {
      "cell_type": "code",
      "metadata": {
        "id": "CPyZtax5C0-8"
      },
      "source": [
        "viz_df = Rregion.join(predict_df[['yhat', 'yhat_lower','yhat_upper']], how = 'outer')\r\n",
        "viz_df['yhat_scaled']=np.exp(viz_df['yhat'])"
      ],
      "execution_count": 46,
      "outputs": []
    },
    {
      "cell_type": "code",
      "metadata": {
        "colab": {
          "base_uri": "https://localhost:8080/",
          "height": 510
        },
        "id": "Oc9fMEoODDPW",
        "outputId": "730e85dd-04e0-4df1-f7e3-cceec1c4db24"
      },
      "source": [
        "viz_df.head()"
      ],
      "execution_count": 47,
      "outputs": [
        {
          "output_type": "execute_result",
          "data": {
            "text/html": [
              "<div>\n",
              "<style scoped>\n",
              "    .dataframe tbody tr th:only-of-type {\n",
              "        vertical-align: middle;\n",
              "    }\n",
              "\n",
              "    .dataframe tbody tr th {\n",
              "        vertical-align: top;\n",
              "    }\n",
              "\n",
              "    .dataframe thead th {\n",
              "        text-align: right;\n",
              "    }\n",
              "</style>\n",
              "<table border=\"1\" class=\"dataframe\">\n",
              "  <thead>\n",
              "    <tr style=\"text-align: right;\">\n",
              "      <th></th>\n",
              "      <th>PlaceName_EN</th>\n",
              "      <th>GovernorateName_EN</th>\n",
              "      <th>RegionName_EN</th>\n",
              "      <th>PLC_CODE</th>\n",
              "      <th>REG_CODE</th>\n",
              "      <th>GOV_CODE</th>\n",
              "      <th>Place_Category</th>\n",
              "      <th>DataSource</th>\n",
              "      <th>GlobalID</th>\n",
              "      <th>Reportdt</th>\n",
              "      <th>Name_Eng</th>\n",
              "      <th>Place_Code</th>\n",
              "      <th>y</th>\n",
              "      <th>Deaths</th>\n",
              "      <th>Recovered</th>\n",
              "      <th>Tested</th>\n",
              "      <th>NewAdded</th>\n",
              "      <th>GlobalID_1587594607483</th>\n",
              "      <th>Time</th>\n",
              "      <th>yhat</th>\n",
              "      <th>yhat_lower</th>\n",
              "      <th>yhat_upper</th>\n",
              "      <th>yhat_scaled</th>\n",
              "    </tr>\n",
              "    <tr>\n",
              "      <th>ds</th>\n",
              "      <th></th>\n",
              "      <th></th>\n",
              "      <th></th>\n",
              "      <th></th>\n",
              "      <th></th>\n",
              "      <th></th>\n",
              "      <th></th>\n",
              "      <th></th>\n",
              "      <th></th>\n",
              "      <th></th>\n",
              "      <th></th>\n",
              "      <th></th>\n",
              "      <th></th>\n",
              "      <th></th>\n",
              "      <th></th>\n",
              "      <th></th>\n",
              "      <th></th>\n",
              "      <th></th>\n",
              "      <th></th>\n",
              "      <th></th>\n",
              "      <th></th>\n",
              "      <th></th>\n",
              "      <th></th>\n",
              "    </tr>\n",
              "  </thead>\n",
              "  <tbody>\n",
              "    <tr>\n",
              "      <th>2020-03-09</th>\n",
              "      <td>AR RIYAD</td>\n",
              "      <td>Ar Riyad</td>\n",
              "      <td>Ar Riyad</td>\n",
              "      <td>C531G10R01</td>\n",
              "      <td>R01</td>\n",
              "      <td>G10R01</td>\n",
              "      <td>City</td>\n",
              "      <td>GCS</td>\n",
              "      <td>296ee29a-b190-4064-a3c5-cdd778046ab2</td>\n",
              "      <td>1.583712e+12</td>\n",
              "      <td>Riyadh</td>\n",
              "      <td>C531G10R01</td>\n",
              "      <td>1.0</td>\n",
              "      <td>0.0</td>\n",
              "      <td>0.0</td>\n",
              "      <td>1.0</td>\n",
              "      <td>0.0</td>\n",
              "      <td>cf1eb028-be80-401f-8a37-3ec00796fe9b</td>\n",
              "      <td>00:00:00</td>\n",
              "      <td>NaN</td>\n",
              "      <td>NaN</td>\n",
              "      <td>NaN</td>\n",
              "      <td>NaN</td>\n",
              "    </tr>\n",
              "    <tr>\n",
              "      <th>2020-03-13</th>\n",
              "      <td>AR RIYAD</td>\n",
              "      <td>Ar Riyad</td>\n",
              "      <td>Ar Riyad</td>\n",
              "      <td>C531G10R01</td>\n",
              "      <td>R01</td>\n",
              "      <td>G10R01</td>\n",
              "      <td>City</td>\n",
              "      <td>GCS</td>\n",
              "      <td>296ee29a-b190-4064-a3c5-cdd778046ab2</td>\n",
              "      <td>1.584058e+12</td>\n",
              "      <td>Riyadh</td>\n",
              "      <td>C531G10R01</td>\n",
              "      <td>3.0</td>\n",
              "      <td>0.0</td>\n",
              "      <td>0.0</td>\n",
              "      <td>3.0</td>\n",
              "      <td>0.0</td>\n",
              "      <td>9ffc0208-877f-4da0-9f48-f9ae39c71b46</td>\n",
              "      <td>00:00:00</td>\n",
              "      <td>NaN</td>\n",
              "      <td>NaN</td>\n",
              "      <td>NaN</td>\n",
              "      <td>NaN</td>\n",
              "    </tr>\n",
              "    <tr>\n",
              "      <th>2020-03-14</th>\n",
              "      <td>AR RIYAD</td>\n",
              "      <td>Ar Riyad</td>\n",
              "      <td>Ar Riyad</td>\n",
              "      <td>C531G10R01</td>\n",
              "      <td>R01</td>\n",
              "      <td>G10R01</td>\n",
              "      <td>City</td>\n",
              "      <td>GCS</td>\n",
              "      <td>296ee29a-b190-4064-a3c5-cdd778046ab2</td>\n",
              "      <td>1.584144e+12</td>\n",
              "      <td>Riyadh</td>\n",
              "      <td>C531G10R01</td>\n",
              "      <td>12.0</td>\n",
              "      <td>0.0</td>\n",
              "      <td>0.0</td>\n",
              "      <td>12.0</td>\n",
              "      <td>0.0</td>\n",
              "      <td>f5826ad2-87d9-4141-830a-91dc620b2b8b</td>\n",
              "      <td>00:00:00</td>\n",
              "      <td>NaN</td>\n",
              "      <td>NaN</td>\n",
              "      <td>NaN</td>\n",
              "      <td>NaN</td>\n",
              "    </tr>\n",
              "    <tr>\n",
              "      <th>2020-03-15</th>\n",
              "      <td>AR RIYAD</td>\n",
              "      <td>Ar Riyad</td>\n",
              "      <td>Ar Riyad</td>\n",
              "      <td>C531G10R01</td>\n",
              "      <td>R01</td>\n",
              "      <td>G10R01</td>\n",
              "      <td>City</td>\n",
              "      <td>GCS</td>\n",
              "      <td>296ee29a-b190-4064-a3c5-cdd778046ab2</td>\n",
              "      <td>1.584230e+12</td>\n",
              "      <td>Riyadh</td>\n",
              "      <td>C531G10R01</td>\n",
              "      <td>2.0</td>\n",
              "      <td>0.0</td>\n",
              "      <td>0.0</td>\n",
              "      <td>2.0</td>\n",
              "      <td>0.0</td>\n",
              "      <td>3c037e1f-0baa-4a98-a47f-1ce52534c7d3</td>\n",
              "      <td>00:00:00</td>\n",
              "      <td>NaN</td>\n",
              "      <td>NaN</td>\n",
              "      <td>NaN</td>\n",
              "      <td>NaN</td>\n",
              "    </tr>\n",
              "    <tr>\n",
              "      <th>2020-03-16</th>\n",
              "      <td>AR RIYAD</td>\n",
              "      <td>Ar Riyad</td>\n",
              "      <td>Ar Riyad</td>\n",
              "      <td>C531G10R01</td>\n",
              "      <td>R01</td>\n",
              "      <td>G10R01</td>\n",
              "      <td>City</td>\n",
              "      <td>GCS</td>\n",
              "      <td>296ee29a-b190-4064-a3c5-cdd778046ab2</td>\n",
              "      <td>1.584317e+12</td>\n",
              "      <td>Riyadh</td>\n",
              "      <td>C531G10R01</td>\n",
              "      <td>4.0</td>\n",
              "      <td>0.0</td>\n",
              "      <td>0.0</td>\n",
              "      <td>4.0</td>\n",
              "      <td>0.0</td>\n",
              "      <td>3aed2d7e-dfc2-4109-87a9-7a1b6c129bbe</td>\n",
              "      <td>00:00:00</td>\n",
              "      <td>NaN</td>\n",
              "      <td>NaN</td>\n",
              "      <td>NaN</td>\n",
              "      <td>NaN</td>\n",
              "    </tr>\n",
              "  </tbody>\n",
              "</table>\n",
              "</div>"
            ],
            "text/plain": [
              "           PlaceName_EN GovernorateName_EN  ... yhat_upper yhat_scaled\n",
              "ds                                          ...                       \n",
              "2020-03-09     AR RIYAD           Ar Riyad  ...        NaN         NaN\n",
              "2020-03-13     AR RIYAD           Ar Riyad  ...        NaN         NaN\n",
              "2020-03-14     AR RIYAD           Ar Riyad  ...        NaN         NaN\n",
              "2020-03-15     AR RIYAD           Ar Riyad  ...        NaN         NaN\n",
              "2020-03-16     AR RIYAD           Ar Riyad  ...        NaN         NaN\n",
              "\n",
              "[5 rows x 23 columns]"
            ]
          },
          "metadata": {
            "tags": []
          },
          "execution_count": 47
        }
      ]
    },
    {
      "cell_type": "code",
      "metadata": {
        "colab": {
          "base_uri": "https://localhost:8080/",
          "height": 340
        },
        "id": "F570gdTkDSL3",
        "outputId": "242874eb-a032-42a4-d98b-7df0ac65d0b1"
      },
      "source": [
        "viz_df.tail()"
      ],
      "execution_count": 48,
      "outputs": [
        {
          "output_type": "execute_result",
          "data": {
            "text/html": [
              "<div>\n",
              "<style scoped>\n",
              "    .dataframe tbody tr th:only-of-type {\n",
              "        vertical-align: middle;\n",
              "    }\n",
              "\n",
              "    .dataframe tbody tr th {\n",
              "        vertical-align: top;\n",
              "    }\n",
              "\n",
              "    .dataframe thead th {\n",
              "        text-align: right;\n",
              "    }\n",
              "</style>\n",
              "<table border=\"1\" class=\"dataframe\">\n",
              "  <thead>\n",
              "    <tr style=\"text-align: right;\">\n",
              "      <th></th>\n",
              "      <th>PlaceName_EN</th>\n",
              "      <th>GovernorateName_EN</th>\n",
              "      <th>RegionName_EN</th>\n",
              "      <th>PLC_CODE</th>\n",
              "      <th>REG_CODE</th>\n",
              "      <th>GOV_CODE</th>\n",
              "      <th>Place_Category</th>\n",
              "      <th>DataSource</th>\n",
              "      <th>GlobalID</th>\n",
              "      <th>Reportdt</th>\n",
              "      <th>Name_Eng</th>\n",
              "      <th>Place_Code</th>\n",
              "      <th>y</th>\n",
              "      <th>Deaths</th>\n",
              "      <th>Recovered</th>\n",
              "      <th>Tested</th>\n",
              "      <th>NewAdded</th>\n",
              "      <th>GlobalID_1587594607483</th>\n",
              "      <th>Time</th>\n",
              "      <th>yhat</th>\n",
              "      <th>yhat_lower</th>\n",
              "      <th>yhat_upper</th>\n",
              "      <th>yhat_scaled</th>\n",
              "    </tr>\n",
              "    <tr>\n",
              "      <th>ds</th>\n",
              "      <th></th>\n",
              "      <th></th>\n",
              "      <th></th>\n",
              "      <th></th>\n",
              "      <th></th>\n",
              "      <th></th>\n",
              "      <th></th>\n",
              "      <th></th>\n",
              "      <th></th>\n",
              "      <th></th>\n",
              "      <th></th>\n",
              "      <th></th>\n",
              "      <th></th>\n",
              "      <th></th>\n",
              "      <th></th>\n",
              "      <th></th>\n",
              "      <th></th>\n",
              "      <th></th>\n",
              "      <th></th>\n",
              "      <th></th>\n",
              "      <th></th>\n",
              "      <th></th>\n",
              "      <th></th>\n",
              "    </tr>\n",
              "  </thead>\n",
              "  <tbody>\n",
              "    <tr>\n",
              "      <th>2021-02-28</th>\n",
              "      <td>NaN</td>\n",
              "      <td>NaN</td>\n",
              "      <td>NaN</td>\n",
              "      <td>NaN</td>\n",
              "      <td>NaN</td>\n",
              "      <td>NaN</td>\n",
              "      <td>NaN</td>\n",
              "      <td>NaN</td>\n",
              "      <td>NaN</td>\n",
              "      <td>NaN</td>\n",
              "      <td>NaN</td>\n",
              "      <td>NaN</td>\n",
              "      <td>NaN</td>\n",
              "      <td>NaN</td>\n",
              "      <td>NaN</td>\n",
              "      <td>NaN</td>\n",
              "      <td>NaN</td>\n",
              "      <td>NaN</td>\n",
              "      <td>NaN</td>\n",
              "      <td>0.480000</td>\n",
              "      <td>-113.828077</td>\n",
              "      <td>121.066078</td>\n",
              "      <td>1.616075</td>\n",
              "    </tr>\n",
              "    <tr>\n",
              "      <th>2021-03-31</th>\n",
              "      <td>NaN</td>\n",
              "      <td>NaN</td>\n",
              "      <td>NaN</td>\n",
              "      <td>NaN</td>\n",
              "      <td>NaN</td>\n",
              "      <td>NaN</td>\n",
              "      <td>NaN</td>\n",
              "      <td>NaN</td>\n",
              "      <td>NaN</td>\n",
              "      <td>NaN</td>\n",
              "      <td>NaN</td>\n",
              "      <td>NaN</td>\n",
              "      <td>NaN</td>\n",
              "      <td>NaN</td>\n",
              "      <td>NaN</td>\n",
              "      <td>NaN</td>\n",
              "      <td>NaN</td>\n",
              "      <td>NaN</td>\n",
              "      <td>NaN</td>\n",
              "      <td>1.073497</td>\n",
              "      <td>-119.599158</td>\n",
              "      <td>118.836470</td>\n",
              "      <td>2.925594</td>\n",
              "    </tr>\n",
              "    <tr>\n",
              "      <th>2021-04-30</th>\n",
              "      <td>NaN</td>\n",
              "      <td>NaN</td>\n",
              "      <td>NaN</td>\n",
              "      <td>NaN</td>\n",
              "      <td>NaN</td>\n",
              "      <td>NaN</td>\n",
              "      <td>NaN</td>\n",
              "      <td>NaN</td>\n",
              "      <td>NaN</td>\n",
              "      <td>NaN</td>\n",
              "      <td>NaN</td>\n",
              "      <td>NaN</td>\n",
              "      <td>NaN</td>\n",
              "      <td>NaN</td>\n",
              "      <td>NaN</td>\n",
              "      <td>NaN</td>\n",
              "      <td>NaN</td>\n",
              "      <td>NaN</td>\n",
              "      <td>NaN</td>\n",
              "      <td>0.769452</td>\n",
              "      <td>-125.978038</td>\n",
              "      <td>120.357664</td>\n",
              "      <td>2.158584</td>\n",
              "    </tr>\n",
              "    <tr>\n",
              "      <th>2021-05-31</th>\n",
              "      <td>NaN</td>\n",
              "      <td>NaN</td>\n",
              "      <td>NaN</td>\n",
              "      <td>NaN</td>\n",
              "      <td>NaN</td>\n",
              "      <td>NaN</td>\n",
              "      <td>NaN</td>\n",
              "      <td>NaN</td>\n",
              "      <td>NaN</td>\n",
              "      <td>NaN</td>\n",
              "      <td>NaN</td>\n",
              "      <td>NaN</td>\n",
              "      <td>NaN</td>\n",
              "      <td>NaN</td>\n",
              "      <td>NaN</td>\n",
              "      <td>NaN</td>\n",
              "      <td>NaN</td>\n",
              "      <td>NaN</td>\n",
              "      <td>NaN</td>\n",
              "      <td>0.032145</td>\n",
              "      <td>-119.638334</td>\n",
              "      <td>117.704966</td>\n",
              "      <td>1.032667</td>\n",
              "    </tr>\n",
              "    <tr>\n",
              "      <th>2021-06-30</th>\n",
              "      <td>NaN</td>\n",
              "      <td>NaN</td>\n",
              "      <td>NaN</td>\n",
              "      <td>NaN</td>\n",
              "      <td>NaN</td>\n",
              "      <td>NaN</td>\n",
              "      <td>NaN</td>\n",
              "      <td>NaN</td>\n",
              "      <td>NaN</td>\n",
              "      <td>NaN</td>\n",
              "      <td>NaN</td>\n",
              "      <td>NaN</td>\n",
              "      <td>NaN</td>\n",
              "      <td>NaN</td>\n",
              "      <td>NaN</td>\n",
              "      <td>NaN</td>\n",
              "      <td>NaN</td>\n",
              "      <td>NaN</td>\n",
              "      <td>NaN</td>\n",
              "      <td>-0.791651</td>\n",
              "      <td>-116.543805</td>\n",
              "      <td>120.972401</td>\n",
              "      <td>0.453096</td>\n",
              "    </tr>\n",
              "  </tbody>\n",
              "</table>\n",
              "</div>"
            ],
            "text/plain": [
              "           PlaceName_EN GovernorateName_EN  ...  yhat_upper yhat_scaled\n",
              "ds                                          ...                        \n",
              "2021-02-28          NaN                NaN  ...  121.066078    1.616075\n",
              "2021-03-31          NaN                NaN  ...  118.836470    2.925594\n",
              "2021-04-30          NaN                NaN  ...  120.357664    2.158584\n",
              "2021-05-31          NaN                NaN  ...  117.704966    1.032667\n",
              "2021-06-30          NaN                NaN  ...  120.972401    0.453096\n",
              "\n",
              "[5 rows x 23 columns]"
            ]
          },
          "metadata": {
            "tags": []
          },
          "execution_count": 48
        }
      ]
    },
    {
      "cell_type": "code",
      "metadata": {
        "colab": {
          "base_uri": "https://localhost:8080/",
          "height": 320
        },
        "id": "EHtMlpKQDVF9",
        "outputId": "1e0cdceb-583b-458a-ac29-8b4fe97f1879"
      },
      "source": [
        "fig, ax1 = plt.subplots()\r\n",
        "ax1.plot(viz_df.y)\r\n",
        "ax1.plot(viz_df.yhat_scaled, color='black', linestyle=':')\r\n",
        "ax1.fill_between(viz_df.index, np.exp(viz_df['yhat_upper']), np.exp(viz_df['yhat_lower']), alpha=0.5, color='darkgray')\r\n",
        "ax1.set_title('Confirmed (Orange) vs Confirmed Forecast (Black)',fontsize=20)\r\n",
        "ax1.set_ylabel('Confirmed Cases')\r\n",
        "ax1.set_xlabel('Date')"
      ],
      "execution_count": 49,
      "outputs": [
        {
          "output_type": "execute_result",
          "data": {
            "text/plain": [
              "Text(0.5, 0, 'Date')"
            ]
          },
          "metadata": {
            "tags": []
          },
          "execution_count": 49
        },
        {
          "output_type": "display_data",
          "data": {
            "image/png": "[encoded data removed]",
            "text/plain": [
              "<Figure size 432x288 with 1 Axes>"
            ]
          },
          "metadata": {
            "tags": [],
            "needs_background": "light"
          }
        }
      ]
    },
    {
      "cell_type": "code",
      "metadata": {
        "colab": {
          "base_uri": "https://localhost:8080/",
          "height": 204
        },
        "id": "WU8s3bsaUOiz",
        "outputId": "087b11af-6d2d-4e9d-a751-cbe3b39e6a5c"
      },
      "source": [
        "future.tail()"
      ],
      "execution_count": 50,
      "outputs": [
        {
          "output_type": "execute_result",
          "data": {
            "text/html": [
              "<div>\n",
              "<style scoped>\n",
              "    .dataframe tbody tr th:only-of-type {\n",
              "        vertical-align: middle;\n",
              "    }\n",
              "\n",
              "    .dataframe tbody tr th {\n",
              "        vertical-align: top;\n",
              "    }\n",
              "\n",
              "    .dataframe thead th {\n",
              "        text-align: right;\n",
              "    }\n",
              "</style>\n",
              "<table border=\"1\" class=\"dataframe\">\n",
              "  <thead>\n",
              "    <tr style=\"text-align: right;\">\n",
              "      <th></th>\n",
              "      <th>ds</th>\n",
              "    </tr>\n",
              "  </thead>\n",
              "  <tbody>\n",
              "    <tr>\n",
              "      <th>325</th>\n",
              "      <td>2021-02-28</td>\n",
              "    </tr>\n",
              "    <tr>\n",
              "      <th>326</th>\n",
              "      <td>2021-03-31</td>\n",
              "    </tr>\n",
              "    <tr>\n",
              "      <th>327</th>\n",
              "      <td>2021-04-30</td>\n",
              "    </tr>\n",
              "    <tr>\n",
              "      <th>328</th>\n",
              "      <td>2021-05-31</td>\n",
              "    </tr>\n",
              "    <tr>\n",
              "      <th>329</th>\n",
              "      <td>2021-06-30</td>\n",
              "    </tr>\n",
              "  </tbody>\n",
              "</table>\n",
              "</div>"
            ],
            "text/plain": [
              "            ds\n",
              "325 2021-02-28\n",
              "326 2021-03-31\n",
              "327 2021-04-30\n",
              "328 2021-05-31\n",
              "329 2021-06-30"
            ]
          },
          "metadata": {
            "tags": []
          },
          "execution_count": 50
        }
      ]
    },
    {
      "cell_type": "code",
      "metadata": {
        "colab": {
          "base_uri": "https://localhost:8080/",
          "height": 244
        },
        "id": "9e9apxkJUOqR",
        "outputId": "d9d25e61-94b1-4ed0-aaad-d88f0277ce67"
      },
      "source": [
        "fcst.sample(3)"
      ],
      "execution_count": 51,
      "outputs": [
        {
          "output_type": "execute_result",
          "data": {
            "text/html": [
              "<div>\n",
              "<style scoped>\n",
              "    .dataframe tbody tr th:only-of-type {\n",
              "        vertical-align: middle;\n",
              "    }\n",
              "\n",
              "    .dataframe tbody tr th {\n",
              "        vertical-align: top;\n",
              "    }\n",
              "\n",
              "    .dataframe thead th {\n",
              "        text-align: right;\n",
              "    }\n",
              "</style>\n",
              "<table border=\"1\" class=\"dataframe\">\n",
              "  <thead>\n",
              "    <tr style=\"text-align: right;\">\n",
              "      <th></th>\n",
              "      <th>trend</th>\n",
              "      <th>yhat_lower</th>\n",
              "      <th>yhat_upper</th>\n",
              "      <th>trend_lower</th>\n",
              "      <th>trend_upper</th>\n",
              "      <th>additive_terms</th>\n",
              "      <th>additive_terms_lower</th>\n",
              "      <th>additive_terms_upper</th>\n",
              "      <th>weekly</th>\n",
              "      <th>weekly_lower</th>\n",
              "      <th>weekly_upper</th>\n",
              "      <th>multiplicative_terms</th>\n",
              "      <th>multiplicative_terms_lower</th>\n",
              "      <th>multiplicative_terms_upper</th>\n",
              "      <th>yhat</th>\n",
              "    </tr>\n",
              "    <tr>\n",
              "      <th>ds</th>\n",
              "      <th></th>\n",
              "      <th></th>\n",
              "      <th></th>\n",
              "      <th></th>\n",
              "      <th></th>\n",
              "      <th></th>\n",
              "      <th></th>\n",
              "      <th></th>\n",
              "      <th></th>\n",
              "      <th></th>\n",
              "      <th></th>\n",
              "      <th></th>\n",
              "      <th></th>\n",
              "      <th></th>\n",
              "      <th></th>\n",
              "    </tr>\n",
              "  </thead>\n",
              "  <tbody>\n",
              "    <tr>\n",
              "      <th>2020-03-25</th>\n",
              "      <td>63.784479</td>\n",
              "      <td>-53.887047</td>\n",
              "      <td>187.236536</td>\n",
              "      <td>63.784479</td>\n",
              "      <td>63.784479</td>\n",
              "      <td>-0.154143</td>\n",
              "      <td>-0.154143</td>\n",
              "      <td>-0.154143</td>\n",
              "      <td>-0.154143</td>\n",
              "      <td>-0.154143</td>\n",
              "      <td>-0.154143</td>\n",
              "      <td>0.0</td>\n",
              "      <td>0.0</td>\n",
              "      <td>0.0</td>\n",
              "      <td>63.630336</td>\n",
              "    </tr>\n",
              "    <tr>\n",
              "      <th>2020-12-25</th>\n",
              "      <td>3.195269</td>\n",
              "      <td>-113.391032</td>\n",
              "      <td>126.850652</td>\n",
              "      <td>3.195269</td>\n",
              "      <td>3.195269</td>\n",
              "      <td>0.156696</td>\n",
              "      <td>0.156696</td>\n",
              "      <td>0.156696</td>\n",
              "      <td>0.156696</td>\n",
              "      <td>0.156696</td>\n",
              "      <td>0.156696</td>\n",
              "      <td>0.0</td>\n",
              "      <td>0.0</td>\n",
              "      <td>0.0</td>\n",
              "      <td>3.351965</td>\n",
              "    </tr>\n",
              "    <tr>\n",
              "      <th>2020-10-28</th>\n",
              "      <td>4.384162</td>\n",
              "      <td>-115.897464</td>\n",
              "      <td>127.244578</td>\n",
              "      <td>4.384162</td>\n",
              "      <td>4.384162</td>\n",
              "      <td>-0.154143</td>\n",
              "      <td>-0.154143</td>\n",
              "      <td>-0.154143</td>\n",
              "      <td>-0.154143</td>\n",
              "      <td>-0.154143</td>\n",
              "      <td>-0.154143</td>\n",
              "      <td>0.0</td>\n",
              "      <td>0.0</td>\n",
              "      <td>0.0</td>\n",
              "      <td>4.230019</td>\n",
              "    </tr>\n",
              "  </tbody>\n",
              "</table>\n",
              "</div>"
            ],
            "text/plain": [
              "                trend  yhat_lower  ...  multiplicative_terms_upper       yhat\n",
              "ds                                 ...                                       \n",
              "2020-03-25  63.784479  -53.887047  ...                         0.0  63.630336\n",
              "2020-12-25   3.195269 -113.391032  ...                         0.0   3.351965\n",
              "2020-10-28   4.384162 -115.897464  ...                         0.0   4.230019\n",
              "\n",
              "[3 rows x 15 columns]"
            ]
          },
          "metadata": {
            "tags": []
          },
          "execution_count": 51
        }
      ]
    },
    {
      "cell_type": "markdown",
      "metadata": {
        "id": "oz_KuEyH18qg"
      },
      "source": [
        "# Model Evaluation\r\n",
        " \r\n",
        " - initial: how much data to consider before making any predictions\r\n",
        " - period: how frequently to make predictions\r\n",
        "    - should be about 1/2 of your horizon\r\n",
        " - horizon: how many periods to predict\r\n",
        "    - should be about 2x your period"
      ]
    },
    {
      "cell_type": "code",
      "metadata": {
        "colab": {
          "base_uri": "https://localhost:8080/",
          "height": 485,
          "referenced_widgets": [
            "74408601ec8848698551a36bfc26bffb",
            "4651820c1fc64ec6bf8fbfcafdcd1c95",
            "7d0de93844d74f4a9e3a35cee41ac355",
            "a2849f7b7e1a45b7b88fb47962c7e8a6",
            "fc9b31dc4e584404a3f352264b911052",
            "63f08039875549cd8e34269614620727",
            "e7d088ede2c54dc7acd56ad5984963b9",
            "6628a090510d4cd6a5526c88ca338dcd"
          ]
        },
        "id": "Ck3T5O9w0iIY",
        "outputId": "142452cf-0487-405f-aeb7-2dbf09436bd6"
      },
      "source": [
        "# Cross validation the forecast\r\n",
        "cross_validation(model,initial='40 days', period='50 days', horizon='100 days')"
      ],
      "execution_count": 52,
      "outputs": [
        {
          "output_type": "stream",
          "text": [
            "INFO:fbprophet:Making 5 forecasts with cutoffs between 2020-05-14 00:00:00 and 2020-10-21 00:00:00\n"
          ],
          "name": "stderr"
        },
        {
          "output_type": "display_data",
          "data": {
            "application/vnd.jupyter.widget-view+json": {
              "model_id": "74408601ec8848698551a36bfc26bffb",
              "version_minor": 0,
              "version_major": 2
            },
            "text/plain": [
              "HBox(children=(FloatProgress(value=0.0, max=5.0), HTML(value='')))"
            ]
          },
          "metadata": {
            "tags": []
          }
        },
        {
          "output_type": "stream",
          "text": [
            "\n"
          ],
          "name": "stdout"
        },
        {
          "output_type": "execute_result",
          "data": {
            "text/html": [
              "<div>\n",
              "<style scoped>\n",
              "    .dataframe tbody tr th:only-of-type {\n",
              "        vertical-align: middle;\n",
              "    }\n",
              "\n",
              "    .dataframe tbody tr th {\n",
              "        vertical-align: top;\n",
              "    }\n",
              "\n",
              "    .dataframe thead th {\n",
              "        text-align: right;\n",
              "    }\n",
              "</style>\n",
              "<table border=\"1\" class=\"dataframe\">\n",
              "  <thead>\n",
              "    <tr style=\"text-align: right;\">\n",
              "      <th></th>\n",
              "      <th>ds</th>\n",
              "      <th>yhat</th>\n",
              "      <th>yhat_lower</th>\n",
              "      <th>yhat_upper</th>\n",
              "      <th>y</th>\n",
              "      <th>cutoff</th>\n",
              "    </tr>\n",
              "  </thead>\n",
              "  <tbody>\n",
              "    <tr>\n",
              "      <th>0</th>\n",
              "      <td>2020-05-15</td>\n",
              "      <td>67.289033</td>\n",
              "      <td>-66.301016</td>\n",
              "      <td>204.053811</td>\n",
              "      <td>89</td>\n",
              "      <td>2020-05-14</td>\n",
              "    </tr>\n",
              "    <tr>\n",
              "      <th>1</th>\n",
              "      <td>2020-05-15</td>\n",
              "      <td>67.289033</td>\n",
              "      <td>-62.657327</td>\n",
              "      <td>196.660434</td>\n",
              "      <td>1</td>\n",
              "      <td>2020-05-14</td>\n",
              "    </tr>\n",
              "    <tr>\n",
              "      <th>2</th>\n",
              "      <td>2020-05-15</td>\n",
              "      <td>67.289033</td>\n",
              "      <td>-56.215413</td>\n",
              "      <td>197.308648</td>\n",
              "      <td>1</td>\n",
              "      <td>2020-05-14</td>\n",
              "    </tr>\n",
              "    <tr>\n",
              "      <th>3</th>\n",
              "      <td>2020-05-15</td>\n",
              "      <td>67.289033</td>\n",
              "      <td>-78.454109</td>\n",
              "      <td>196.385312</td>\n",
              "      <td>4</td>\n",
              "      <td>2020-05-14</td>\n",
              "    </tr>\n",
              "    <tr>\n",
              "      <th>4</th>\n",
              "      <td>2020-05-15</td>\n",
              "      <td>67.289033</td>\n",
              "      <td>-59.887424</td>\n",
              "      <td>205.396481</td>\n",
              "      <td>7</td>\n",
              "      <td>2020-05-14</td>\n",
              "    </tr>\n",
              "    <tr>\n",
              "      <th>...</th>\n",
              "      <td>...</td>\n",
              "      <td>...</td>\n",
              "      <td>...</td>\n",
              "      <td>...</td>\n",
              "      <td>...</td>\n",
              "      <td>...</td>\n",
              "    </tr>\n",
              "    <tr>\n",
              "      <th>9110</th>\n",
              "      <td>2021-01-29</td>\n",
              "      <td>-25.656194</td>\n",
              "      <td>-165.578835</td>\n",
              "      <td>105.121273</td>\n",
              "      <td>77</td>\n",
              "      <td>2020-10-21</td>\n",
              "    </tr>\n",
              "    <tr>\n",
              "      <th>9111</th>\n",
              "      <td>2021-01-29</td>\n",
              "      <td>-25.656194</td>\n",
              "      <td>-177.327616</td>\n",
              "      <td>120.200381</td>\n",
              "      <td>1</td>\n",
              "      <td>2020-10-21</td>\n",
              "    </tr>\n",
              "    <tr>\n",
              "      <th>9112</th>\n",
              "      <td>2021-01-29</td>\n",
              "      <td>-25.656194</td>\n",
              "      <td>-160.277978</td>\n",
              "      <td>105.707116</td>\n",
              "      <td>0</td>\n",
              "      <td>2020-10-21</td>\n",
              "    </tr>\n",
              "    <tr>\n",
              "      <th>9113</th>\n",
              "      <td>2021-01-29</td>\n",
              "      <td>-25.656194</td>\n",
              "      <td>-173.884488</td>\n",
              "      <td>132.626406</td>\n",
              "      <td>1</td>\n",
              "      <td>2020-10-21</td>\n",
              "    </tr>\n",
              "    <tr>\n",
              "      <th>9114</th>\n",
              "      <td>2021-01-29</td>\n",
              "      <td>-25.656194</td>\n",
              "      <td>-171.527690</td>\n",
              "      <td>110.839323</td>\n",
              "      <td>4</td>\n",
              "      <td>2020-10-21</td>\n",
              "    </tr>\n",
              "  </tbody>\n",
              "</table>\n",
              "<p>9115 rows × 6 columns</p>\n",
              "</div>"
            ],
            "text/plain": [
              "             ds       yhat  yhat_lower  yhat_upper   y     cutoff\n",
              "0    2020-05-15  67.289033  -66.301016  204.053811  89 2020-05-14\n",
              "1    2020-05-15  67.289033  -62.657327  196.660434   1 2020-05-14\n",
              "2    2020-05-15  67.289033  -56.215413  197.308648   1 2020-05-14\n",
              "3    2020-05-15  67.289033  -78.454109  196.385312   4 2020-05-14\n",
              "4    2020-05-15  67.289033  -59.887424  205.396481   7 2020-05-14\n",
              "...         ...        ...         ...         ...  ..        ...\n",
              "9110 2021-01-29 -25.656194 -165.578835  105.121273  77 2020-10-21\n",
              "9111 2021-01-29 -25.656194 -177.327616  120.200381   1 2020-10-21\n",
              "9112 2021-01-29 -25.656194 -160.277978  105.707116   0 2020-10-21\n",
              "9113 2021-01-29 -25.656194 -173.884488  132.626406   1 2020-10-21\n",
              "9114 2021-01-29 -25.656194 -171.527690  110.839323   4 2020-10-21\n",
              "\n",
              "[9115 rows x 6 columns]"
            ]
          },
          "metadata": {
            "tags": []
          },
          "execution_count": 52
        }
      ]
    },
    {
      "cell_type": "code",
      "metadata": {
        "id": "SAvy2tQDoL-f",
        "colab": {
          "base_uri": "https://localhost:8080/",
          "height": 83,
          "referenced_widgets": [
            "4f3fa7e841cc435989b1ce15de507d57",
            "2ed8ed5f24c04a66bf19bc432a38b088",
            "da1fc48b972d4318bf52bc681201005e",
            "8e4be59773dd49cab9d97814b743cc93",
            "80e985f23b5f4aec8f897d2880542f8d",
            "17432dbc964c453faadcaeee4f3c0175",
            "2e1369a366914170a6f552c8d889169b",
            "a93fa87df3344e77a5db1115c7ce7222"
          ]
        },
        "outputId": "e8141ad3-87b1-49b7-a79e-bdb97c8788f2"
      },
      "source": [
        "df_cv2 = cross_validation(model, initial='90 days', period='90 days', horizon='180 days')"
      ],
      "execution_count": 53,
      "outputs": [
        {
          "output_type": "stream",
          "text": [
            "INFO:fbprophet:Making 1 forecasts with cutoffs between 2020-08-02 00:00:00 and 2020-08-02 00:00:00\n"
          ],
          "name": "stderr"
        },
        {
          "output_type": "display_data",
          "data": {
            "application/vnd.jupyter.widget-view+json": {
              "model_id": "4f3fa7e841cc435989b1ce15de507d57",
              "version_minor": 0,
              "version_major": 2
            },
            "text/plain": [
              "HBox(children=(FloatProgress(value=0.0, max=1.0), HTML(value='')))"
            ]
          },
          "metadata": {
            "tags": []
          }
        },
        {
          "output_type": "stream",
          "text": [
            "\n"
          ],
          "name": "stdout"
        }
      ]
    },
    {
      "cell_type": "code",
      "metadata": {
        "colab": {
          "base_uri": "https://localhost:8080/",
          "height": 221
        },
        "id": "J394SgJN7boR",
        "outputId": "1a137b88-2502-45a8-e47b-cf0300c12d18"
      },
      "source": [
        "from fbprophet.diagnostics import performance_metrics\r\n",
        "df_p = performance_metrics(df_cv2)\r\n",
        "df_p.head()"
      ],
      "execution_count": 54,
      "outputs": [
        {
          "output_type": "stream",
          "text": [
            "INFO:fbprophet:Skipping MAPE because y close to 0\n"
          ],
          "name": "stderr"
        },
        {
          "output_type": "execute_result",
          "data": {
            "text/html": [
              "<div>\n",
              "<style scoped>\n",
              "    .dataframe tbody tr th:only-of-type {\n",
              "        vertical-align: middle;\n",
              "    }\n",
              "\n",
              "    .dataframe tbody tr th {\n",
              "        vertical-align: top;\n",
              "    }\n",
              "\n",
              "    .dataframe thead th {\n",
              "        text-align: right;\n",
              "    }\n",
              "</style>\n",
              "<table border=\"1\" class=\"dataframe\">\n",
              "  <thead>\n",
              "    <tr style=\"text-align: right;\">\n",
              "      <th></th>\n",
              "      <th>horizon</th>\n",
              "      <th>mse</th>\n",
              "      <th>rmse</th>\n",
              "      <th>mae</th>\n",
              "      <th>mdape</th>\n",
              "      <th>coverage</th>\n",
              "    </tr>\n",
              "  </thead>\n",
              "  <tbody>\n",
              "    <tr>\n",
              "      <th>0</th>\n",
              "      <td>12 days</td>\n",
              "      <td>339.287838</td>\n",
              "      <td>18.419768</td>\n",
              "      <td>7.836533</td>\n",
              "      <td>0.878620</td>\n",
              "      <td>1.0</td>\n",
              "    </tr>\n",
              "    <tr>\n",
              "      <th>1</th>\n",
              "      <td>13 days</td>\n",
              "      <td>315.942473</td>\n",
              "      <td>17.774771</td>\n",
              "      <td>7.293336</td>\n",
              "      <td>0.944144</td>\n",
              "      <td>1.0</td>\n",
              "    </tr>\n",
              "    <tr>\n",
              "      <th>2</th>\n",
              "      <td>14 days</td>\n",
              "      <td>289.437081</td>\n",
              "      <td>17.012850</td>\n",
              "      <td>6.983832</td>\n",
              "      <td>1.065947</td>\n",
              "      <td>1.0</td>\n",
              "    </tr>\n",
              "    <tr>\n",
              "      <th>3</th>\n",
              "      <td>15 days</td>\n",
              "      <td>268.752247</td>\n",
              "      <td>16.393665</td>\n",
              "      <td>6.760550</td>\n",
              "      <td>1.269783</td>\n",
              "      <td>1.0</td>\n",
              "    </tr>\n",
              "    <tr>\n",
              "      <th>4</th>\n",
              "      <td>16 days</td>\n",
              "      <td>248.434563</td>\n",
              "      <td>15.761807</td>\n",
              "      <td>6.596205</td>\n",
              "      <td>1.355199</td>\n",
              "      <td>1.0</td>\n",
              "    </tr>\n",
              "  </tbody>\n",
              "</table>\n",
              "</div>"
            ],
            "text/plain": [
              "  horizon         mse       rmse       mae     mdape  coverage\n",
              "0 12 days  339.287838  18.419768  7.836533  0.878620       1.0\n",
              "1 13 days  315.942473  17.774771  7.293336  0.944144       1.0\n",
              "2 14 days  289.437081  17.012850  6.983832  1.065947       1.0\n",
              "3 15 days  268.752247  16.393665  6.760550  1.269783       1.0\n",
              "4 16 days  248.434563  15.761807  6.596205  1.355199       1.0"
            ]
          },
          "metadata": {
            "tags": []
          },
          "execution_count": 54
        }
      ]
    },
    {
      "cell_type": "code",
      "metadata": {
        "colab": {
          "base_uri": "https://localhost:8080/",
          "height": 204
        },
        "id": "IYsMoiv47eHZ",
        "outputId": "e9600fd3-dd37-403b-d192-ba237f00efdb"
      },
      "source": [
        "df_p.tail()"
      ],
      "execution_count": 55,
      "outputs": [
        {
          "output_type": "execute_result",
          "data": {
            "text/html": [
              "<div>\n",
              "<style scoped>\n",
              "    .dataframe tbody tr th:only-of-type {\n",
              "        vertical-align: middle;\n",
              "    }\n",
              "\n",
              "    .dataframe tbody tr th {\n",
              "        vertical-align: top;\n",
              "    }\n",
              "\n",
              "    .dataframe thead th {\n",
              "        text-align: right;\n",
              "    }\n",
              "</style>\n",
              "<table border=\"1\" class=\"dataframe\">\n",
              "  <thead>\n",
              "    <tr style=\"text-align: right;\">\n",
              "      <th></th>\n",
              "      <th>horizon</th>\n",
              "      <th>mse</th>\n",
              "      <th>rmse</th>\n",
              "      <th>mae</th>\n",
              "      <th>mdape</th>\n",
              "      <th>coverage</th>\n",
              "    </tr>\n",
              "  </thead>\n",
              "  <tbody>\n",
              "    <tr>\n",
              "      <th>164</th>\n",
              "      <td>176 days</td>\n",
              "      <td>8952.938576</td>\n",
              "      <td>94.619969</td>\n",
              "      <td>93.836803</td>\n",
              "      <td>93.24636</td>\n",
              "      <td>1.0</td>\n",
              "    </tr>\n",
              "    <tr>\n",
              "      <th>165</th>\n",
              "      <td>177 days</td>\n",
              "      <td>9010.208159</td>\n",
              "      <td>94.922116</td>\n",
              "      <td>94.098444</td>\n",
              "      <td>93.24636</td>\n",
              "      <td>1.0</td>\n",
              "    </tr>\n",
              "    <tr>\n",
              "      <th>166</th>\n",
              "      <td>178 days</td>\n",
              "      <td>9127.287961</td>\n",
              "      <td>95.536841</td>\n",
              "      <td>94.639584</td>\n",
              "      <td>93.24636</td>\n",
              "      <td>1.0</td>\n",
              "    </tr>\n",
              "    <tr>\n",
              "      <th>167</th>\n",
              "      <td>179 days</td>\n",
              "      <td>9291.961957</td>\n",
              "      <td>96.394823</td>\n",
              "      <td>95.478227</td>\n",
              "      <td>93.24636</td>\n",
              "      <td>1.0</td>\n",
              "    </tr>\n",
              "    <tr>\n",
              "      <th>168</th>\n",
              "      <td>180 days</td>\n",
              "      <td>9461.696977</td>\n",
              "      <td>97.271255</td>\n",
              "      <td>96.290906</td>\n",
              "      <td>93.24636</td>\n",
              "      <td>1.0</td>\n",
              "    </tr>\n",
              "  </tbody>\n",
              "</table>\n",
              "</div>"
            ],
            "text/plain": [
              "     horizon          mse       rmse        mae     mdape  coverage\n",
              "164 176 days  8952.938576  94.619969  93.836803  93.24636       1.0\n",
              "165 177 days  9010.208159  94.922116  94.098444  93.24636       1.0\n",
              "166 178 days  9127.287961  95.536841  94.639584  93.24636       1.0\n",
              "167 179 days  9291.961957  96.394823  95.478227  93.24636       1.0\n",
              "168 180 days  9461.696977  97.271255  96.290906  93.24636       1.0"
            ]
          },
          "metadata": {
            "tags": []
          },
          "execution_count": 55
        }
      ]
    },
    {
      "cell_type": "markdown",
      "metadata": {
        "id": "H11HP-_q1kao"
      },
      "source": [
        "# Visualize Cross Validation"
      ]
    },
    {
      "cell_type": "code",
      "metadata": {
        "id": "oyQQ6em81MlO"
      },
      "source": [
        "# fig = plot_cross_validation_metric(df_cv2, metric='mape')\r\n",
        "# 'NoneType' object is not subscriptable "
      ],
      "execution_count": 56,
      "outputs": []
    },
    {
      "cell_type": "code",
      "metadata": {
        "id": "IViTm-spoMSN",
        "colab": {
          "base_uri": "https://localhost:8080/",
          "height": 391
        },
        "outputId": "514711f3-7fa7-48ed-ec87-aa79d960e7ae"
      },
      "source": [
        "fig1 = plot_cross_validation_metric(df_cv2, metric='rmse', rolling_window = 0.1);"
      ],
      "execution_count": 57,
      "outputs": [
        {
          "output_type": "display_data",
          "data": {
            "image/png": "[encoded data removed]",
            "text/plain": [
              "<Figure size 720x432 with 1 Axes>"
            ]
          },
          "metadata": {
            "tags": []
          }
        }
      ]
    },
    {
      "cell_type": "code",
      "metadata": {
        "colab": {
          "base_uri": "https://localhost:8080/",
          "height": 391
        },
        "id": "tye4OQR_8opc",
        "outputId": "ac3a486b-082c-43e7-e86c-29395730d233"
      },
      "source": [
        "fig2 = plot_cross_validation_metric(df_cv2, metric='mse', rolling_window = 0.1);"
      ],
      "execution_count": 58,
      "outputs": [
        {
          "output_type": "display_data",
          "data": {
            "image/png": "[encoded data removed]",
            "text/plain": [
              "<Figure size 720x432 with 1 Axes>"
            ]
          },
          "metadata": {
            "tags": []
          }
        }
      ]
    },
    {
      "cell_type": "code",
      "metadata": {
        "colab": {
          "base_uri": "https://localhost:8080/",
          "height": 391
        },
        "id": "NXfe_NqN-pfS",
        "outputId": "0e7a3e71-f04d-402d-8c2d-1c7df7048ede"
      },
      "source": [
        "fig3 = plot_cross_validation_metric(df_cv2, metric='mae', rolling_window = 0.1);"
      ],
      "execution_count": 59,
      "outputs": [
        {
          "output_type": "display_data",
          "data": {
            "image/png": "[encoded data removed]",
            "text/plain": [
              "<Figure size 720x432 with 1 Axes>"
            ]
          },
          "metadata": {
            "tags": []
          }
        }
      ]
    },
    {
      "cell_type": "markdown",
      "metadata": {
        "id": "SwS7EMI0V1bB"
      },
      "source": [
        "#Save Cleaned Data and Download it\r\n",
        "### Use pickle to save the Prophet model after fitting"
      ]
    },
    {
      "cell_type": "code",
      "metadata": {
        "colab": {
          "base_uri": "https://localhost:8080/"
        },
        "id": "if3zKnh4WNCm",
        "outputId": "e3ae7c3d-b59c-4943-9b57-4cb93a3ce160"
      },
      "source": [
        "import pickle\r\n",
        "\r\n",
        "pkl_path = \"Prophet.pkl\" # saved into /content/Prophet.pkl\r\n",
        "with open(pkl_path, \"wb\") as f:\r\n",
        "    # Pickle the 'Prophet' model using the highest protocol available.\r\n",
        "    pickle.dump(model, f)\r\n",
        "\r\n",
        "# save the dataframe\r\n",
        "fcst.to_pickle(\"forecast.pkl\") # saved into /content/forecast.pkl\r\n",
        "print(\"*** Data Saved ***\") # we can find the files in the data 'Files'"
      ],
      "execution_count": 60,
      "outputs": [
        {
          "output_type": "stream",
          "text": [
            "*** Data Saved ***\n"
          ],
          "name": "stdout"
        }
      ]
    }
  ]
}