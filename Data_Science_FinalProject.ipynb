{
  "nbformat": 4,
  "nbformat_minor": 0,
  "metadata": {
    "colab": {
      "name": "Data_Science_FinalProject.ipynb",
      "provenance": [],
      "collapsed_sections": [],
      "authorship_tag": "ABX9TyMIomgxcuADPQYftfpPBR40",
      "include_colab_link": true
    },
    "kernelspec": {
      "name": "python3",
      "display_name": "Python 3"
    },
    "widgets": {
      "application/vnd.jupyter.widget-state+json": {
        "ff7b315b024d44718096b35685d83053": {
          "model_module": "@jupyter-widgets/controls",
          "model_name": "HBoxModel",
          "state": {
            "_view_name": "HBoxView",
            "_dom_classes": [],
            "_model_name": "HBoxModel",
            "_view_module": "@jupyter-widgets/controls",
            "_model_module_version": "1.5.0",
            "_view_count": null,
            "_view_module_version": "1.5.0",
            "box_style": "",
            "layout": "IPY_MODEL_24f2e6a74ae04ab2b8ad2dba94f8eb78",
            "_model_module": "@jupyter-widgets/controls",
            "children": [
              "IPY_MODEL_98718a180a3d49ad81920ccf3d965175",
              "IPY_MODEL_74aaf060d2594b248ba8111dd210f581"
            ]
          }
        },
        "24f2e6a74ae04ab2b8ad2dba94f8eb78": {
          "model_module": "@jupyter-widgets/base",
          "model_name": "LayoutModel",
          "state": {
            "_view_name": "LayoutView",
            "grid_template_rows": null,
            "right": null,
            "justify_content": null,
            "_view_module": "@jupyter-widgets/base",
            "overflow": null,
            "_model_module_version": "1.2.0",
            "_view_count": null,
            "flex_flow": null,
            "width": null,
            "min_width": null,
            "border": null,
            "align_items": null,
            "bottom": null,
            "_model_module": "@jupyter-widgets/base",
            "top": null,
            "grid_column": null,
            "overflow_y": null,
            "overflow_x": null,
            "grid_auto_flow": null,
            "grid_area": null,
            "grid_template_columns": null,
            "flex": null,
            "_model_name": "LayoutModel",
            "justify_items": null,
            "grid_row": null,
            "max_height": null,
            "align_content": null,
            "visibility": null,
            "align_self": null,
            "height": null,
            "min_height": null,
            "padding": null,
            "grid_auto_rows": null,
            "grid_gap": null,
            "max_width": null,
            "order": null,
            "_view_module_version": "1.2.0",
            "grid_template_areas": null,
            "object_position": null,
            "object_fit": null,
            "grid_auto_columns": null,
            "margin": null,
            "display": null,
            "left": null
          }
        },
        "98718a180a3d49ad81920ccf3d965175": {
          "model_module": "@jupyter-widgets/controls",
          "model_name": "FloatProgressModel",
          "state": {
            "_view_name": "ProgressView",
            "style": "IPY_MODEL_95996b9e6990401980d145b6bc4b03dd",
            "_dom_classes": [],
            "description": "100%",
            "_model_name": "FloatProgressModel",
            "bar_style": "success",
            "max": 4,
            "_view_module": "@jupyter-widgets/controls",
            "_model_module_version": "1.5.0",
            "value": 4,
            "_view_count": null,
            "_view_module_version": "1.5.0",
            "orientation": "horizontal",
            "min": 0,
            "description_tooltip": null,
            "_model_module": "@jupyter-widgets/controls",
            "layout": "IPY_MODEL_a7a548bc52d74c958beca2165fe5f3af"
          }
        },
        "74aaf060d2594b248ba8111dd210f581": {
          "model_module": "@jupyter-widgets/controls",
          "model_name": "HTMLModel",
          "state": {
            "_view_name": "HTMLView",
            "style": "IPY_MODEL_63899778190d4203934581e23c58ad8c",
            "_dom_classes": [],
            "description": "",
            "_model_name": "HTMLModel",
            "placeholder": "​",
            "_view_module": "@jupyter-widgets/controls",
            "_model_module_version": "1.5.0",
            "value": " 4/4 [00:16&lt;00:00,  4.12s/it]",
            "_view_count": null,
            "_view_module_version": "1.5.0",
            "description_tooltip": null,
            "_model_module": "@jupyter-widgets/controls",
            "layout": "IPY_MODEL_0b2d9814eb644a4bafbb491d885efc90"
          }
        },
        "95996b9e6990401980d145b6bc4b03dd": {
          "model_module": "@jupyter-widgets/controls",
          "model_name": "ProgressStyleModel",
          "state": {
            "_view_name": "StyleView",
            "_model_name": "ProgressStyleModel",
            "description_width": "initial",
            "_view_module": "@jupyter-widgets/base",
            "_model_module_version": "1.5.0",
            "_view_count": null,
            "_view_module_version": "1.2.0",
            "bar_color": null,
            "_model_module": "@jupyter-widgets/controls"
          }
        },
        "a7a548bc52d74c958beca2165fe5f3af": {
          "model_module": "@jupyter-widgets/base",
          "model_name": "LayoutModel",
          "state": {
            "_view_name": "LayoutView",
            "grid_template_rows": null,
            "right": null,
            "justify_content": null,
            "_view_module": "@jupyter-widgets/base",
            "overflow": null,
            "_model_module_version": "1.2.0",
            "_view_count": null,
            "flex_flow": null,
            "width": null,
            "min_width": null,
            "border": null,
            "align_items": null,
            "bottom": null,
            "_model_module": "@jupyter-widgets/base",
            "top": null,
            "grid_column": null,
            "overflow_y": null,
            "overflow_x": null,
            "grid_auto_flow": null,
            "grid_area": null,
            "grid_template_columns": null,
            "flex": null,
            "_model_name": "LayoutModel",
            "justify_items": null,
            "grid_row": null,
            "max_height": null,
            "align_content": null,
            "visibility": null,
            "align_self": null,
            "height": null,
            "min_height": null,
            "padding": null,
            "grid_auto_rows": null,
            "grid_gap": null,
            "max_width": null,
            "order": null,
            "_view_module_version": "1.2.0",
            "grid_template_areas": null,
            "object_position": null,
            "object_fit": null,
            "grid_auto_columns": null,
            "margin": null,
            "display": null,
            "left": null
          }
        },
        "63899778190d4203934581e23c58ad8c": {
          "model_module": "@jupyter-widgets/controls",
          "model_name": "DescriptionStyleModel",
          "state": {
            "_view_name": "StyleView",
            "_model_name": "DescriptionStyleModel",
            "description_width": "",
            "_view_module": "@jupyter-widgets/base",
            "_model_module_version": "1.5.0",
            "_view_count": null,
            "_view_module_version": "1.2.0",
            "_model_module": "@jupyter-widgets/controls"
          }
        },
        "0b2d9814eb644a4bafbb491d885efc90": {
          "model_module": "@jupyter-widgets/base",
          "model_name": "LayoutModel",
          "state": {
            "_view_name": "LayoutView",
            "grid_template_rows": null,
            "right": null,
            "justify_content": null,
            "_view_module": "@jupyter-widgets/base",
            "overflow": null,
            "_model_module_version": "1.2.0",
            "_view_count": null,
            "flex_flow": null,
            "width": null,
            "min_width": null,
            "border": null,
            "align_items": null,
            "bottom": null,
            "_model_module": "@jupyter-widgets/base",
            "top": null,
            "grid_column": null,
            "overflow_y": null,
            "overflow_x": null,
            "grid_auto_flow": null,
            "grid_area": null,
            "grid_template_columns": null,
            "flex": null,
            "_model_name": "LayoutModel",
            "justify_items": null,
            "grid_row": null,
            "max_height": null,
            "align_content": null,
            "visibility": null,
            "align_self": null,
            "height": null,
            "min_height": null,
            "padding": null,
            "grid_auto_rows": null,
            "grid_gap": null,
            "max_width": null,
            "order": null,
            "_view_module_version": "1.2.0",
            "grid_template_areas": null,
            "object_position": null,
            "object_fit": null,
            "grid_auto_columns": null,
            "margin": null,
            "display": null,
            "left": null
          }
        },
        "82e55d77f17f4541b0f9506057a163ba": {
          "model_module": "@jupyter-widgets/controls",
          "model_name": "HBoxModel",
          "state": {
            "_view_name": "HBoxView",
            "_dom_classes": [],
            "_model_name": "HBoxModel",
            "_view_module": "@jupyter-widgets/controls",
            "_model_module_version": "1.5.0",
            "_view_count": null,
            "_view_module_version": "1.5.0",
            "box_style": "",
            "layout": "IPY_MODEL_4ea4842946d742f2a8b701b19bcb7631",
            "_model_module": "@jupyter-widgets/controls",
            "children": [
              "IPY_MODEL_7c5750c0e6dd45938cb2c796b11ffd56",
              "IPY_MODEL_22540ddb1cc240e193befb31ac3e28a2"
            ]
          }
        },
        "4ea4842946d742f2a8b701b19bcb7631": {
          "model_module": "@jupyter-widgets/base",
          "model_name": "LayoutModel",
          "state": {
            "_view_name": "LayoutView",
            "grid_template_rows": null,
            "right": null,
            "justify_content": null,
            "_view_module": "@jupyter-widgets/base",
            "overflow": null,
            "_model_module_version": "1.2.0",
            "_view_count": null,
            "flex_flow": null,
            "width": null,
            "min_width": null,
            "border": null,
            "align_items": null,
            "bottom": null,
            "_model_module": "@jupyter-widgets/base",
            "top": null,
            "grid_column": null,
            "overflow_y": null,
            "overflow_x": null,
            "grid_auto_flow": null,
            "grid_area": null,
            "grid_template_columns": null,
            "flex": null,
            "_model_name": "LayoutModel",
            "justify_items": null,
            "grid_row": null,
            "max_height": null,
            "align_content": null,
            "visibility": null,
            "align_self": null,
            "height": null,
            "min_height": null,
            "padding": null,
            "grid_auto_rows": null,
            "grid_gap": null,
            "max_width": null,
            "order": null,
            "_view_module_version": "1.2.0",
            "grid_template_areas": null,
            "object_position": null,
            "object_fit": null,
            "grid_auto_columns": null,
            "margin": null,
            "display": null,
            "left": null
          }
        },
        "7c5750c0e6dd45938cb2c796b11ffd56": {
          "model_module": "@jupyter-widgets/controls",
          "model_name": "FloatProgressModel",
          "state": {
            "_view_name": "ProgressView",
            "style": "IPY_MODEL_f60a10957f8f476097ebda642b5248ad",
            "_dom_classes": [],
            "description": "100%",
            "_model_name": "FloatProgressModel",
            "bar_style": "success",
            "max": 1,
            "_view_module": "@jupyter-widgets/controls",
            "_model_module_version": "1.5.0",
            "value": 1,
            "_view_count": null,
            "_view_module_version": "1.5.0",
            "orientation": "horizontal",
            "min": 0,
            "description_tooltip": null,
            "_model_module": "@jupyter-widgets/controls",
            "layout": "IPY_MODEL_2b4fb71b7c9f4b24bbde1b3d52a67b72"
          }
        },
        "22540ddb1cc240e193befb31ac3e28a2": {
          "model_module": "@jupyter-widgets/controls",
          "model_name": "HTMLModel",
          "state": {
            "_view_name": "HTMLView",
            "style": "IPY_MODEL_e38ba3f1db0d4d7e8770e05164ac0404",
            "_dom_classes": [],
            "description": "",
            "_model_name": "HTMLModel",
            "placeholder": "​",
            "_view_module": "@jupyter-widgets/controls",
            "_model_module_version": "1.5.0",
            "value": " 1/1 [00:05&lt;00:00,  5.71s/it]",
            "_view_count": null,
            "_view_module_version": "1.5.0",
            "description_tooltip": null,
            "_model_module": "@jupyter-widgets/controls",
            "layout": "IPY_MODEL_bf6ac4f54512476cb544c2eea44b8da9"
          }
        },
        "f60a10957f8f476097ebda642b5248ad": {
          "model_module": "@jupyter-widgets/controls",
          "model_name": "ProgressStyleModel",
          "state": {
            "_view_name": "StyleView",
            "_model_name": "ProgressStyleModel",
            "description_width": "initial",
            "_view_module": "@jupyter-widgets/base",
            "_model_module_version": "1.5.0",
            "_view_count": null,
            "_view_module_version": "1.2.0",
            "bar_color": null,
            "_model_module": "@jupyter-widgets/controls"
          }
        },
        "2b4fb71b7c9f4b24bbde1b3d52a67b72": {
          "model_module": "@jupyter-widgets/base",
          "model_name": "LayoutModel",
          "state": {
            "_view_name": "LayoutView",
            "grid_template_rows": null,
            "right": null,
            "justify_content": null,
            "_view_module": "@jupyter-widgets/base",
            "overflow": null,
            "_model_module_version": "1.2.0",
            "_view_count": null,
            "flex_flow": null,
            "width": null,
            "min_width": null,
            "border": null,
            "align_items": null,
            "bottom": null,
            "_model_module": "@jupyter-widgets/base",
            "top": null,
            "grid_column": null,
            "overflow_y": null,
            "overflow_x": null,
            "grid_auto_flow": null,
            "grid_area": null,
            "grid_template_columns": null,
            "flex": null,
            "_model_name": "LayoutModel",
            "justify_items": null,
            "grid_row": null,
            "max_height": null,
            "align_content": null,
            "visibility": null,
            "align_self": null,
            "height": null,
            "min_height": null,
            "padding": null,
            "grid_auto_rows": null,
            "grid_gap": null,
            "max_width": null,
            "order": null,
            "_view_module_version": "1.2.0",
            "grid_template_areas": null,
            "object_position": null,
            "object_fit": null,
            "grid_auto_columns": null,
            "margin": null,
            "display": null,
            "left": null
          }
        },
        "e38ba3f1db0d4d7e8770e05164ac0404": {
          "model_module": "@jupyter-widgets/controls",
          "model_name": "DescriptionStyleModel",
          "state": {
            "_view_name": "StyleView",
            "_model_name": "DescriptionStyleModel",
            "description_width": "",
            "_view_module": "@jupyter-widgets/base",
            "_model_module_version": "1.5.0",
            "_view_count": null,
            "_view_module_version": "1.2.0",
            "_model_module": "@jupyter-widgets/controls"
          }
        },
        "bf6ac4f54512476cb544c2eea44b8da9": {
          "model_module": "@jupyter-widgets/base",
          "model_name": "LayoutModel",
          "state": {
            "_view_name": "LayoutView",
            "grid_template_rows": null,
            "right": null,
            "justify_content": null,
            "_view_module": "@jupyter-widgets/base",
            "overflow": null,
            "_model_module_version": "1.2.0",
            "_view_count": null,
            "flex_flow": null,
            "width": null,
            "min_width": null,
            "border": null,
            "align_items": null,
            "bottom": null,
            "_model_module": "@jupyter-widgets/base",
            "top": null,
            "grid_column": null,
            "overflow_y": null,
            "overflow_x": null,
            "grid_auto_flow": null,
            "grid_area": null,
            "grid_template_columns": null,
            "flex": null,
            "_model_name": "LayoutModel",
            "justify_items": null,
            "grid_row": null,
            "max_height": null,
            "align_content": null,
            "visibility": null,
            "align_self": null,
            "height": null,
            "min_height": null,
            "padding": null,
            "grid_auto_rows": null,
            "grid_gap": null,
            "max_width": null,
            "order": null,
            "_view_module_version": "1.2.0",
            "grid_template_areas": null,
            "object_position": null,
            "object_fit": null,
            "grid_auto_columns": null,
            "margin": null,
            "display": null,
            "left": null
          }
        }
      }
    }
  },
  "cells": [
    {
      "cell_type": "markdown",
      "metadata": {
        "id": "view-in-github",
        "colab_type": "text"
      },
      "source": [
        "<a href=\"https://colab.research.google.com/github/RahafSh/SDA_DS_FinalProject/blob/main/Data_Science_FinalProject.ipynb\" target=\"_parent\"><img src=\"https://colab.research.google.com/assets/colab-badge.svg\" alt=\"Open In Colab\"/></a>"
      ]
    },
    {
      "cell_type": "markdown",
      "metadata": {
        "id": "XtNJpkf1UtIo"
      },
      "source": [
        "# **Data Science Bootcamp** `Final Project` \n",
        "\n",
        "\n",
        "##Learning Objectives:\n",
        "\n",
        " \n",
        "* Formulate  the problem\n",
        "* Load the Data\n",
        "* Data Exploration\n",
        "* Clean The Data\n",
        "* Looking for Correlations\n",
        "* Discover and Visualize the Data \n",
        "* Prepare the Data for Prophet Model\n",
        "* Save the Prophet model and Download it \n",
        "\n",
        "\n"
      ]
    },
    {
      "cell_type": "markdown",
      "metadata": {
        "id": "3hNFkjmUVLv0"
      },
      "source": [
        "#Formulate  the problem"
      ]
    },
    {
      "cell_type": "markdown",
      "metadata": {
        "id": "VBvJZbSwt2-F"
      },
      "source": [
        "The Kingdom of Saudi Arabia has dealt excellently with the Covid-19 situation. So, here we want to explore and extract hidden knowledge to predict the future using time series forecasting Prophet.\n",
        "\n",
        "**Loading the dataset from Kaggle website**  \n",
        "[Click here](https://www.kaggle.com/fahdahalalyan/covid19-ksa?select=critical_cases_ksa_covid19.csv)"
      ]
    },
    {
      "cell_type": "code",
      "metadata": {
        "id": "_2awGlG_UhRl"
      },
      "source": [
        "#Import libraries & packages \n",
        "import numpy as np \n",
        "import pandas as pd \n",
        "import os\n",
        "import matplotlib.pyplot as plt\n",
        "import seaborn as sns\n",
        "from fbprophet import Prophet\n",
        "from fbprophet.plot import plot_plotly, plot_components_plotly\n",
        "from fbprophet.plot import add_changepoints_to_plot\n",
        "from fbprophet.diagnostics import cross_validation\n",
        "from fbprophet.plot import plot_cross_validation_metric\n",
        "\n",
        "import warnings\n",
        "warnings.filterwarnings('ignore')\n",
        "\n",
        "%matplotlib inline\n"
      ],
      "execution_count": 1,
      "outputs": []
    },
    {
      "cell_type": "markdown",
      "metadata": {
        "id": "rDw8wI-WVQLK"
      },
      "source": [
        "#Load Data"
      ]
    },
    {
      "cell_type": "code",
      "metadata": {
        "id": "ANCCWuZoWIu9"
      },
      "source": [
        "#Load the dataset\n",
        "file_path = '/content/daily_cases_ksa_covid19.csv'"
      ],
      "execution_count": 2,
      "outputs": []
    },
    {
      "cell_type": "code",
      "metadata": {
        "id": "r7yRSdRLWS-K",
        "colab": {
          "base_uri": "https://localhost:8080/",
          "height": 949
        },
        "outputId": "bbc4909a-c9dd-4ae9-ab87-e75542c4efce"
      },
      "source": [
        "#Use the Pandas method read_csv() to load the data from the web address.\n",
        "df = pd.read_csv(file_path)\n",
        "df"
      ],
      "execution_count": 3,
      "outputs": [
        {
          "output_type": "execute_result",
          "data": {
            "text/html": [
              "<div>\n",
              "<style scoped>\n",
              "    .dataframe tbody tr th:only-of-type {\n",
              "        vertical-align: middle;\n",
              "    }\n",
              "\n",
              "    .dataframe tbody tr th {\n",
              "        vertical-align: top;\n",
              "    }\n",
              "\n",
              "    .dataframe thead th {\n",
              "        text-align: right;\n",
              "    }\n",
              "</style>\n",
              "<table border=\"1\" class=\"dataframe\">\n",
              "  <thead>\n",
              "    <tr style=\"text-align: right;\">\n",
              "      <th></th>\n",
              "      <th>ObjectId</th>\n",
              "      <th>PlaceName_EN</th>\n",
              "      <th>GovernorateName_EN</th>\n",
              "      <th>RegionName_EN</th>\n",
              "      <th>PLC_CODE</th>\n",
              "      <th>REG_CODE</th>\n",
              "      <th>GOV_CODE</th>\n",
              "      <th>Place_Category</th>\n",
              "      <th>DataSource</th>\n",
              "      <th>GlobalID</th>\n",
              "      <th>Reportdt</th>\n",
              "      <th>Name_Eng</th>\n",
              "      <th>Place_Code</th>\n",
              "      <th>Confirmed</th>\n",
              "      <th>Deaths</th>\n",
              "      <th>Recovered</th>\n",
              "      <th>Tested</th>\n",
              "      <th>NewAdded</th>\n",
              "      <th>GlobalID_1587594607483</th>\n",
              "      <th>Date</th>\n",
              "    </tr>\n",
              "  </thead>\n",
              "  <tbody>\n",
              "    <tr>\n",
              "      <th>0</th>\n",
              "      <td>1</td>\n",
              "      <td>Al Sho'bah</td>\n",
              "      <td>Rafha</td>\n",
              "      <td>Northern Borders</td>\n",
              "      <td>C4G90R09</td>\n",
              "      <td>R09</td>\n",
              "      <td>G90R09</td>\n",
              "      <td>City</td>\n",
              "      <td>GCS</td>\n",
              "      <td>0af06ce2-c55b-4a25-ad66-dc280b06f70b</td>\n",
              "      <td>1589619600000</td>\n",
              "      <td>Al Sho'bah</td>\n",
              "      <td>C4G90R09</td>\n",
              "      <td>1</td>\n",
              "      <td>0</td>\n",
              "      <td>0</td>\n",
              "      <td>1</td>\n",
              "      <td>0</td>\n",
              "      <td>b8aca67d-4e8a-4242-ba61-c0612fb3b78b</td>\n",
              "      <td>2020-05-16 09:00:00</td>\n",
              "    </tr>\n",
              "    <tr>\n",
              "      <th>1</th>\n",
              "      <td>2</td>\n",
              "      <td>Al Sho'bah</td>\n",
              "      <td>Rafha</td>\n",
              "      <td>Northern Borders</td>\n",
              "      <td>C4G90R09</td>\n",
              "      <td>R09</td>\n",
              "      <td>G90R09</td>\n",
              "      <td>City</td>\n",
              "      <td>GCS</td>\n",
              "      <td>0af06ce2-c55b-4a25-ad66-dc280b06f70b</td>\n",
              "      <td>1590656400000</td>\n",
              "      <td>Al Sho'bah</td>\n",
              "      <td>C4G90R09</td>\n",
              "      <td>0</td>\n",
              "      <td>0</td>\n",
              "      <td>1</td>\n",
              "      <td>-1</td>\n",
              "      <td>0</td>\n",
              "      <td>0aecc440-862f-4bd6-9100-db15f18ed360</td>\n",
              "      <td>2020-05-28 09:00:00</td>\n",
              "    </tr>\n",
              "    <tr>\n",
              "      <th>2</th>\n",
              "      <td>3</td>\n",
              "      <td>Al Sho'bah</td>\n",
              "      <td>Rafha</td>\n",
              "      <td>Northern Borders</td>\n",
              "      <td>C4G90R09</td>\n",
              "      <td>R09</td>\n",
              "      <td>G90R09</td>\n",
              "      <td>City</td>\n",
              "      <td>GCS</td>\n",
              "      <td>0af06ce2-c55b-4a25-ad66-dc280b06f70b</td>\n",
              "      <td>1591261200000</td>\n",
              "      <td>Al Sho'bah</td>\n",
              "      <td>C4G90R09</td>\n",
              "      <td>1</td>\n",
              "      <td>0</td>\n",
              "      <td>0</td>\n",
              "      <td>1</td>\n",
              "      <td>0</td>\n",
              "      <td>e41e638b-6c66-4583-919b-1735b7247ba9</td>\n",
              "      <td>2020-06-04 09:00:00</td>\n",
              "    </tr>\n",
              "    <tr>\n",
              "      <th>3</th>\n",
              "      <td>4</td>\n",
              "      <td>Al Sho'bah</td>\n",
              "      <td>Rafha</td>\n",
              "      <td>Northern Borders</td>\n",
              "      <td>C4G90R09</td>\n",
              "      <td>R09</td>\n",
              "      <td>G90R09</td>\n",
              "      <td>City</td>\n",
              "      <td>GCS</td>\n",
              "      <td>0af06ce2-c55b-4a25-ad66-dc280b06f70b</td>\n",
              "      <td>1591520400000</td>\n",
              "      <td>Al Sho'bah</td>\n",
              "      <td>C4G90R09</td>\n",
              "      <td>1</td>\n",
              "      <td>0</td>\n",
              "      <td>0</td>\n",
              "      <td>1</td>\n",
              "      <td>0</td>\n",
              "      <td>d8016503-2900-4bab-bbb2-1866f86669fa</td>\n",
              "      <td>2020-06-07 09:00:00</td>\n",
              "    </tr>\n",
              "    <tr>\n",
              "      <th>4</th>\n",
              "      <td>5</td>\n",
              "      <td>Al Sho'bah</td>\n",
              "      <td>Rafha</td>\n",
              "      <td>Northern Borders</td>\n",
              "      <td>C4G90R09</td>\n",
              "      <td>R09</td>\n",
              "      <td>G90R09</td>\n",
              "      <td>City</td>\n",
              "      <td>GCS</td>\n",
              "      <td>0af06ce2-c55b-4a25-ad66-dc280b06f70b</td>\n",
              "      <td>1592211600000</td>\n",
              "      <td>Al Sho'bah</td>\n",
              "      <td>C4G90R09</td>\n",
              "      <td>1</td>\n",
              "      <td>0</td>\n",
              "      <td>1</td>\n",
              "      <td>0</td>\n",
              "      <td>0</td>\n",
              "      <td>132c1b56-8502-4d31-afc0-66c825c7a97f</td>\n",
              "      <td>2020-06-15 09:00:00</td>\n",
              "    </tr>\n",
              "    <tr>\n",
              "      <th>...</th>\n",
              "      <td>...</td>\n",
              "      <td>...</td>\n",
              "      <td>...</td>\n",
              "      <td>...</td>\n",
              "      <td>...</td>\n",
              "      <td>...</td>\n",
              "      <td>...</td>\n",
              "      <td>...</td>\n",
              "      <td>...</td>\n",
              "      <td>...</td>\n",
              "      <td>...</td>\n",
              "      <td>...</td>\n",
              "      <td>...</td>\n",
              "      <td>...</td>\n",
              "      <td>...</td>\n",
              "      <td>...</td>\n",
              "      <td>...</td>\n",
              "      <td>...</td>\n",
              "      <td>...</td>\n",
              "      <td>...</td>\n",
              "    </tr>\n",
              "    <tr>\n",
              "      <th>29922</th>\n",
              "      <td>29923</td>\n",
              "      <td>Al Bashayer</td>\n",
              "      <td>Balqarn</td>\n",
              "      <td>Aseer</td>\n",
              "      <td>C10798G61R06</td>\n",
              "      <td>R06</td>\n",
              "      <td>G61R06</td>\n",
              "      <td>City</td>\n",
              "      <td>Other</td>\n",
              "      <td>c1cf02cc-fa3b-4bd5-b064-65a47cca1b0c</td>\n",
              "      <td>1610627777460</td>\n",
              "      <td>Al Bashayer</td>\n",
              "      <td>C10798G61R06</td>\n",
              "      <td>0</td>\n",
              "      <td>0</td>\n",
              "      <td>1</td>\n",
              "      <td>-1</td>\n",
              "      <td>0</td>\n",
              "      <td>55444fa3-751c-4a7b-a906-c279cd577934</td>\n",
              "      <td>2021-01-14 12:36:17</td>\n",
              "    </tr>\n",
              "    <tr>\n",
              "      <th>29923</th>\n",
              "      <td>29924</td>\n",
              "      <td>Al Bashayer</td>\n",
              "      <td>Balqarn</td>\n",
              "      <td>Aseer</td>\n",
              "      <td>C10798G61R06</td>\n",
              "      <td>R06</td>\n",
              "      <td>G61R06</td>\n",
              "      <td>City</td>\n",
              "      <td>Other</td>\n",
              "      <td>c1cf02cc-fa3b-4bd5-b064-65a47cca1b0c</td>\n",
              "      <td>1610714193996</td>\n",
              "      <td>Al Bashayer</td>\n",
              "      <td>C10798G61R06</td>\n",
              "      <td>0</td>\n",
              "      <td>0</td>\n",
              "      <td>1</td>\n",
              "      <td>-1</td>\n",
              "      <td>0</td>\n",
              "      <td>218ce8b6-49d8-403a-b74b-172d2cf37ad7</td>\n",
              "      <td>2021-01-15 12:36:33</td>\n",
              "    </tr>\n",
              "    <tr>\n",
              "      <th>29924</th>\n",
              "      <td>29925</td>\n",
              "      <td>Al Bashayer</td>\n",
              "      <td>Balqarn</td>\n",
              "      <td>Aseer</td>\n",
              "      <td>C10798G61R06</td>\n",
              "      <td>R06</td>\n",
              "      <td>G61R06</td>\n",
              "      <td>City</td>\n",
              "      <td>Other</td>\n",
              "      <td>c1cf02cc-fa3b-4bd5-b064-65a47cca1b0c</td>\n",
              "      <td>1610800665122</td>\n",
              "      <td>Al Bashayer</td>\n",
              "      <td>C10798G61R06</td>\n",
              "      <td>0</td>\n",
              "      <td>0</td>\n",
              "      <td>1</td>\n",
              "      <td>-1</td>\n",
              "      <td>0</td>\n",
              "      <td>5219a63f-f976-444a-ba2c-7a118fd37c0d</td>\n",
              "      <td>2021-01-16 12:37:45</td>\n",
              "    </tr>\n",
              "    <tr>\n",
              "      <th>29925</th>\n",
              "      <td>29926</td>\n",
              "      <td>Al Bashayer</td>\n",
              "      <td>Balqarn</td>\n",
              "      <td>Aseer</td>\n",
              "      <td>C10798G61R06</td>\n",
              "      <td>R06</td>\n",
              "      <td>G61R06</td>\n",
              "      <td>City</td>\n",
              "      <td>Other</td>\n",
              "      <td>c1cf02cc-fa3b-4bd5-b064-65a47cca1b0c</td>\n",
              "      <td>1611578520156</td>\n",
              "      <td>Al Bashayer</td>\n",
              "      <td>C10798G61R06</td>\n",
              "      <td>1</td>\n",
              "      <td>0</td>\n",
              "      <td>0</td>\n",
              "      <td>1</td>\n",
              "      <td>0</td>\n",
              "      <td>6adba119-72ae-4c26-bde6-58d726d4d10c</td>\n",
              "      <td>2021-01-25 12:42:00</td>\n",
              "    </tr>\n",
              "    <tr>\n",
              "      <th>29926</th>\n",
              "      <td>29927</td>\n",
              "      <td>Al Bashayer</td>\n",
              "      <td>Balqarn</td>\n",
              "      <td>Aseer</td>\n",
              "      <td>C10798G61R06</td>\n",
              "      <td>R06</td>\n",
              "      <td>G61R06</td>\n",
              "      <td>City</td>\n",
              "      <td>Other</td>\n",
              "      <td>c1cf02cc-fa3b-4bd5-b064-65a47cca1b0c</td>\n",
              "      <td>1611751424643</td>\n",
              "      <td>Al Bashayer</td>\n",
              "      <td>C10798G61R06</td>\n",
              "      <td>1</td>\n",
              "      <td>0</td>\n",
              "      <td>0</td>\n",
              "      <td>1</td>\n",
              "      <td>0</td>\n",
              "      <td>8458873f-d0a8-4e58-8a64-e28409094d6a</td>\n",
              "      <td>2021-01-27 12:43:44</td>\n",
              "    </tr>\n",
              "  </tbody>\n",
              "</table>\n",
              "<p>29927 rows × 20 columns</p>\n",
              "</div>"
            ],
            "text/plain": [
              "       ObjectId  ...                 Date\n",
              "0             1  ...  2020-05-16 09:00:00\n",
              "1             2  ...  2020-05-28 09:00:00\n",
              "2             3  ...  2020-06-04 09:00:00\n",
              "3             4  ...  2020-06-07 09:00:00\n",
              "4             5  ...  2020-06-15 09:00:00\n",
              "...         ...  ...                  ...\n",
              "29922     29923  ...  2021-01-14 12:36:17\n",
              "29923     29924  ...  2021-01-15 12:36:33\n",
              "29924     29925  ...  2021-01-16 12:37:45\n",
              "29925     29926  ...  2021-01-25 12:42:00\n",
              "29926     29927  ...  2021-01-27 12:43:44\n",
              "\n",
              "[29927 rows x 20 columns]"
            ]
          },
          "metadata": {
            "tags": []
          },
          "execution_count": 3
        }
      ]
    },
    {
      "cell_type": "markdown",
      "metadata": {
        "id": "4vRy87glVUO3"
      },
      "source": [
        "#Data Exploration"
      ]
    },
    {
      "cell_type": "code",
      "metadata": {
        "id": "tEeV4QowWbq7",
        "colab": {
          "base_uri": "https://localhost:8080/",
          "height": 233
        },
        "outputId": "6170e471-845b-4947-bd1f-aaba32671c01"
      },
      "source": [
        "#Use the method head() to display the first five rows of the dataframe, but we can spcify a number also like here I choose 2!\n",
        "df.head(2)"
      ],
      "execution_count": 4,
      "outputs": [
        {
          "output_type": "execute_result",
          "data": {
            "text/html": [
              "<div>\n",
              "<style scoped>\n",
              "    .dataframe tbody tr th:only-of-type {\n",
              "        vertical-align: middle;\n",
              "    }\n",
              "\n",
              "    .dataframe tbody tr th {\n",
              "        vertical-align: top;\n",
              "    }\n",
              "\n",
              "    .dataframe thead th {\n",
              "        text-align: right;\n",
              "    }\n",
              "</style>\n",
              "<table border=\"1\" class=\"dataframe\">\n",
              "  <thead>\n",
              "    <tr style=\"text-align: right;\">\n",
              "      <th></th>\n",
              "      <th>ObjectId</th>\n",
              "      <th>PlaceName_EN</th>\n",
              "      <th>GovernorateName_EN</th>\n",
              "      <th>RegionName_EN</th>\n",
              "      <th>PLC_CODE</th>\n",
              "      <th>REG_CODE</th>\n",
              "      <th>GOV_CODE</th>\n",
              "      <th>Place_Category</th>\n",
              "      <th>DataSource</th>\n",
              "      <th>GlobalID</th>\n",
              "      <th>Reportdt</th>\n",
              "      <th>Name_Eng</th>\n",
              "      <th>Place_Code</th>\n",
              "      <th>Confirmed</th>\n",
              "      <th>Deaths</th>\n",
              "      <th>Recovered</th>\n",
              "      <th>Tested</th>\n",
              "      <th>NewAdded</th>\n",
              "      <th>GlobalID_1587594607483</th>\n",
              "      <th>Date</th>\n",
              "    </tr>\n",
              "  </thead>\n",
              "  <tbody>\n",
              "    <tr>\n",
              "      <th>0</th>\n",
              "      <td>1</td>\n",
              "      <td>Al Sho'bah</td>\n",
              "      <td>Rafha</td>\n",
              "      <td>Northern Borders</td>\n",
              "      <td>C4G90R09</td>\n",
              "      <td>R09</td>\n",
              "      <td>G90R09</td>\n",
              "      <td>City</td>\n",
              "      <td>GCS</td>\n",
              "      <td>0af06ce2-c55b-4a25-ad66-dc280b06f70b</td>\n",
              "      <td>1589619600000</td>\n",
              "      <td>Al Sho'bah</td>\n",
              "      <td>C4G90R09</td>\n",
              "      <td>1</td>\n",
              "      <td>0</td>\n",
              "      <td>0</td>\n",
              "      <td>1</td>\n",
              "      <td>0</td>\n",
              "      <td>b8aca67d-4e8a-4242-ba61-c0612fb3b78b</td>\n",
              "      <td>2020-05-16 09:00:00</td>\n",
              "    </tr>\n",
              "    <tr>\n",
              "      <th>1</th>\n",
              "      <td>2</td>\n",
              "      <td>Al Sho'bah</td>\n",
              "      <td>Rafha</td>\n",
              "      <td>Northern Borders</td>\n",
              "      <td>C4G90R09</td>\n",
              "      <td>R09</td>\n",
              "      <td>G90R09</td>\n",
              "      <td>City</td>\n",
              "      <td>GCS</td>\n",
              "      <td>0af06ce2-c55b-4a25-ad66-dc280b06f70b</td>\n",
              "      <td>1590656400000</td>\n",
              "      <td>Al Sho'bah</td>\n",
              "      <td>C4G90R09</td>\n",
              "      <td>0</td>\n",
              "      <td>0</td>\n",
              "      <td>1</td>\n",
              "      <td>-1</td>\n",
              "      <td>0</td>\n",
              "      <td>0aecc440-862f-4bd6-9100-db15f18ed360</td>\n",
              "      <td>2020-05-28 09:00:00</td>\n",
              "    </tr>\n",
              "  </tbody>\n",
              "</table>\n",
              "</div>"
            ],
            "text/plain": [
              "   ObjectId  ...                 Date\n",
              "0         1  ...  2020-05-16 09:00:00\n",
              "1         2  ...  2020-05-28 09:00:00\n",
              "\n",
              "[2 rows x 20 columns]"
            ]
          },
          "metadata": {
            "tags": []
          },
          "execution_count": 4
        }
      ]
    },
    {
      "cell_type": "code",
      "metadata": {
        "colab": {
          "base_uri": "https://localhost:8080/",
          "height": 233
        },
        "id": "DLC1LYnoPhLy",
        "outputId": "f5b2d2bf-a7c0-4aed-a935-56497383f670"
      },
      "source": [
        "#Use the method tail() to display the last five rows of the dataframe.\r\n",
        "df.tail(2)"
      ],
      "execution_count": 5,
      "outputs": [
        {
          "output_type": "execute_result",
          "data": {
            "text/html": [
              "<div>\n",
              "<style scoped>\n",
              "    .dataframe tbody tr th:only-of-type {\n",
              "        vertical-align: middle;\n",
              "    }\n",
              "\n",
              "    .dataframe tbody tr th {\n",
              "        vertical-align: top;\n",
              "    }\n",
              "\n",
              "    .dataframe thead th {\n",
              "        text-align: right;\n",
              "    }\n",
              "</style>\n",
              "<table border=\"1\" class=\"dataframe\">\n",
              "  <thead>\n",
              "    <tr style=\"text-align: right;\">\n",
              "      <th></th>\n",
              "      <th>ObjectId</th>\n",
              "      <th>PlaceName_EN</th>\n",
              "      <th>GovernorateName_EN</th>\n",
              "      <th>RegionName_EN</th>\n",
              "      <th>PLC_CODE</th>\n",
              "      <th>REG_CODE</th>\n",
              "      <th>GOV_CODE</th>\n",
              "      <th>Place_Category</th>\n",
              "      <th>DataSource</th>\n",
              "      <th>GlobalID</th>\n",
              "      <th>Reportdt</th>\n",
              "      <th>Name_Eng</th>\n",
              "      <th>Place_Code</th>\n",
              "      <th>Confirmed</th>\n",
              "      <th>Deaths</th>\n",
              "      <th>Recovered</th>\n",
              "      <th>Tested</th>\n",
              "      <th>NewAdded</th>\n",
              "      <th>GlobalID_1587594607483</th>\n",
              "      <th>Date</th>\n",
              "    </tr>\n",
              "  </thead>\n",
              "  <tbody>\n",
              "    <tr>\n",
              "      <th>29925</th>\n",
              "      <td>29926</td>\n",
              "      <td>Al Bashayer</td>\n",
              "      <td>Balqarn</td>\n",
              "      <td>Aseer</td>\n",
              "      <td>C10798G61R06</td>\n",
              "      <td>R06</td>\n",
              "      <td>G61R06</td>\n",
              "      <td>City</td>\n",
              "      <td>Other</td>\n",
              "      <td>c1cf02cc-fa3b-4bd5-b064-65a47cca1b0c</td>\n",
              "      <td>1611578520156</td>\n",
              "      <td>Al Bashayer</td>\n",
              "      <td>C10798G61R06</td>\n",
              "      <td>1</td>\n",
              "      <td>0</td>\n",
              "      <td>0</td>\n",
              "      <td>1</td>\n",
              "      <td>0</td>\n",
              "      <td>6adba119-72ae-4c26-bde6-58d726d4d10c</td>\n",
              "      <td>2021-01-25 12:42:00</td>\n",
              "    </tr>\n",
              "    <tr>\n",
              "      <th>29926</th>\n",
              "      <td>29927</td>\n",
              "      <td>Al Bashayer</td>\n",
              "      <td>Balqarn</td>\n",
              "      <td>Aseer</td>\n",
              "      <td>C10798G61R06</td>\n",
              "      <td>R06</td>\n",
              "      <td>G61R06</td>\n",
              "      <td>City</td>\n",
              "      <td>Other</td>\n",
              "      <td>c1cf02cc-fa3b-4bd5-b064-65a47cca1b0c</td>\n",
              "      <td>1611751424643</td>\n",
              "      <td>Al Bashayer</td>\n",
              "      <td>C10798G61R06</td>\n",
              "      <td>1</td>\n",
              "      <td>0</td>\n",
              "      <td>0</td>\n",
              "      <td>1</td>\n",
              "      <td>0</td>\n",
              "      <td>8458873f-d0a8-4e58-8a64-e28409094d6a</td>\n",
              "      <td>2021-01-27 12:43:44</td>\n",
              "    </tr>\n",
              "  </tbody>\n",
              "</table>\n",
              "</div>"
            ],
            "text/plain": [
              "       ObjectId  ...                 Date\n",
              "29925     29926  ...  2021-01-25 12:42:00\n",
              "29926     29927  ...  2021-01-27 12:43:44\n",
              "\n",
              "[2 rows x 20 columns]"
            ]
          },
          "metadata": {
            "tags": []
          },
          "execution_count": 5
        }
      ]
    },
    {
      "cell_type": "code",
      "metadata": {
        "colab": {
          "base_uri": "https://localhost:8080/"
        },
        "id": "rsdUKvuPSpnj",
        "outputId": "143ef171-c496-430b-b6b5-9c2587683e8f"
      },
      "source": [
        "# Display total of rows and features \r\n",
        "df.shape"
      ],
      "execution_count": 6,
      "outputs": [
        {
          "output_type": "execute_result",
          "data": {
            "text/plain": [
              "(29927, 20)"
            ]
          },
          "metadata": {
            "tags": []
          },
          "execution_count": 6
        }
      ]
    },
    {
      "cell_type": "code",
      "metadata": {
        "colab": {
          "base_uri": "https://localhost:8080/"
        },
        "id": "THv5THS-Pnzt",
        "outputId": "66fb7888-4117-492d-c0f9-2f846952a964"
      },
      "source": [
        "# Shows column addresses\r\n",
        "df.columns"
      ],
      "execution_count": 7,
      "outputs": [
        {
          "output_type": "execute_result",
          "data": {
            "text/plain": [
              "Index(['ObjectId', 'PlaceName_EN', 'GovernorateName_EN', 'RegionName_EN',\n",
              "       'PLC_CODE', 'REG_CODE', 'GOV_CODE', 'Place_Category', 'DataSource',\n",
              "       'GlobalID', 'Reportdt', 'Name_Eng', 'Place_Code', 'Confirmed', 'Deaths',\n",
              "       'Recovered', 'Tested', 'NewAdded', 'GlobalID_1587594607483', 'Date'],\n",
              "      dtype='object')"
            ]
          },
          "metadata": {
            "tags": []
          },
          "execution_count": 7
        }
      ]
    },
    {
      "cell_type": "markdown",
      "metadata": {
        "id": "Pd7Tu9u_VZpM"
      },
      "source": [
        "#Clean Data"
      ]
    },
    {
      "cell_type": "code",
      "metadata": {
        "id": "j7y8qWZCWeLM",
        "colab": {
          "base_uri": "https://localhost:8080/"
        },
        "outputId": "e8bc1e79-8951-4685-abe7-b18a9844992a"
      },
      "source": [
        "# Data detail for each feature\r\n",
        "df.info()"
      ],
      "execution_count": 8,
      "outputs": [
        {
          "output_type": "stream",
          "text": [
            "<class 'pandas.core.frame.DataFrame'>\n",
            "RangeIndex: 29927 entries, 0 to 29926\n",
            "Data columns (total 20 columns):\n",
            " #   Column                  Non-Null Count  Dtype \n",
            "---  ------                  --------------  ----- \n",
            " 0   ObjectId                29927 non-null  int64 \n",
            " 1   PlaceName_EN            29927 non-null  object\n",
            " 2   GovernorateName_EN      29927 non-null  object\n",
            " 3   RegionName_EN           29927 non-null  object\n",
            " 4   PLC_CODE                29927 non-null  object\n",
            " 5   REG_CODE                29927 non-null  object\n",
            " 6   GOV_CODE                29927 non-null  object\n",
            " 7   Place_Category          29927 non-null  object\n",
            " 8   DataSource              29927 non-null  object\n",
            " 9   GlobalID                29927 non-null  object\n",
            " 10  Reportdt                29927 non-null  int64 \n",
            " 11  Name_Eng                29927 non-null  object\n",
            " 12  Place_Code              29927 non-null  object\n",
            " 13  Confirmed               29927 non-null  int64 \n",
            " 14  Deaths                  29927 non-null  int64 \n",
            " 15  Recovered               29927 non-null  int64 \n",
            " 16  Tested                  29927 non-null  int64 \n",
            " 17  NewAdded                29927 non-null  int64 \n",
            " 18  GlobalID_1587594607483  29927 non-null  object\n",
            " 19  Date                    29927 non-null  object\n",
            "dtypes: int64(7), object(13)\n",
            "memory usage: 4.6+ MB\n"
          ],
          "name": "stdout"
        }
      ]
    },
    {
      "cell_type": "code",
      "metadata": {
        "colab": {
          "base_uri": "https://localhost:8080/",
          "height": 297
        },
        "id": "pI35kOJmPsEp",
        "outputId": "f6ae198f-9bd0-45db-bd4e-79374baf4f49"
      },
      "source": [
        "# Show details of numerical features\r\n",
        "df.describe()"
      ],
      "execution_count": 9,
      "outputs": [
        {
          "output_type": "execute_result",
          "data": {
            "text/html": [
              "<div>\n",
              "<style scoped>\n",
              "    .dataframe tbody tr th:only-of-type {\n",
              "        vertical-align: middle;\n",
              "    }\n",
              "\n",
              "    .dataframe tbody tr th {\n",
              "        vertical-align: top;\n",
              "    }\n",
              "\n",
              "    .dataframe thead th {\n",
              "        text-align: right;\n",
              "    }\n",
              "</style>\n",
              "<table border=\"1\" class=\"dataframe\">\n",
              "  <thead>\n",
              "    <tr style=\"text-align: right;\">\n",
              "      <th></th>\n",
              "      <th>ObjectId</th>\n",
              "      <th>Reportdt</th>\n",
              "      <th>Confirmed</th>\n",
              "      <th>Deaths</th>\n",
              "      <th>Recovered</th>\n",
              "      <th>Tested</th>\n",
              "      <th>NewAdded</th>\n",
              "    </tr>\n",
              "  </thead>\n",
              "  <tbody>\n",
              "    <tr>\n",
              "      <th>count</th>\n",
              "      <td>29927.000000</td>\n",
              "      <td>2.992700e+04</td>\n",
              "      <td>29927.00000</td>\n",
              "      <td>29927.000000</td>\n",
              "      <td>29927.000000</td>\n",
              "      <td>29927.000000</td>\n",
              "      <td>29927.000000</td>\n",
              "    </tr>\n",
              "    <tr>\n",
              "      <th>mean</th>\n",
              "      <td>14964.000000</td>\n",
              "      <td>1.598902e+12</td>\n",
              "      <td>12.29034</td>\n",
              "      <td>0.212918</td>\n",
              "      <td>12.005848</td>\n",
              "      <td>0.071574</td>\n",
              "      <td>0.002506</td>\n",
              "    </tr>\n",
              "    <tr>\n",
              "      <th>std</th>\n",
              "      <td>8639.325089</td>\n",
              "      <td>6.426469e+09</td>\n",
              "      <td>51.69547</td>\n",
              "      <td>1.078786</td>\n",
              "      <td>56.892200</td>\n",
              "      <td>49.132371</td>\n",
              "      <td>0.049999</td>\n",
              "    </tr>\n",
              "    <tr>\n",
              "      <th>min</th>\n",
              "      <td>1.000000</td>\n",
              "      <td>1.583107e+12</td>\n",
              "      <td>0.00000</td>\n",
              "      <td>0.000000</td>\n",
              "      <td>0.000000</td>\n",
              "      <td>-2941.000000</td>\n",
              "      <td>0.000000</td>\n",
              "    </tr>\n",
              "    <tr>\n",
              "      <th>25%</th>\n",
              "      <td>7482.500000</td>\n",
              "      <td>1.594026e+12</td>\n",
              "      <td>1.00000</td>\n",
              "      <td>0.000000</td>\n",
              "      <td>0.000000</td>\n",
              "      <td>-2.000000</td>\n",
              "      <td>0.000000</td>\n",
              "    </tr>\n",
              "    <tr>\n",
              "      <th>50%</th>\n",
              "      <td>14964.000000</td>\n",
              "      <td>1.598101e+12</td>\n",
              "      <td>2.00000</td>\n",
              "      <td>0.000000</td>\n",
              "      <td>2.000000</td>\n",
              "      <td>0.000000</td>\n",
              "      <td>0.000000</td>\n",
              "    </tr>\n",
              "    <tr>\n",
              "      <th>75%</th>\n",
              "      <td>22445.500000</td>\n",
              "      <td>1.603889e+12</td>\n",
              "      <td>6.00000</td>\n",
              "      <td>0.000000</td>\n",
              "      <td>6.000000</td>\n",
              "      <td>2.000000</td>\n",
              "      <td>0.000000</td>\n",
              "    </tr>\n",
              "    <tr>\n",
              "      <th>max</th>\n",
              "      <td>29927.000000</td>\n",
              "      <td>1.611924e+12</td>\n",
              "      <td>2371.00000</td>\n",
              "      <td>35.000000</td>\n",
              "      <td>3165.000000</td>\n",
              "      <td>2124.000000</td>\n",
              "      <td>1.000000</td>\n",
              "    </tr>\n",
              "  </tbody>\n",
              "</table>\n",
              "</div>"
            ],
            "text/plain": [
              "           ObjectId      Reportdt  ...        Tested      NewAdded\n",
              "count  29927.000000  2.992700e+04  ...  29927.000000  29927.000000\n",
              "mean   14964.000000  1.598902e+12  ...      0.071574      0.002506\n",
              "std     8639.325089  6.426469e+09  ...     49.132371      0.049999\n",
              "min        1.000000  1.583107e+12  ...  -2941.000000      0.000000\n",
              "25%     7482.500000  1.594026e+12  ...     -2.000000      0.000000\n",
              "50%    14964.000000  1.598101e+12  ...      0.000000      0.000000\n",
              "75%    22445.500000  1.603889e+12  ...      2.000000      0.000000\n",
              "max    29927.000000  1.611924e+12  ...   2124.000000      1.000000\n",
              "\n",
              "[8 rows x 7 columns]"
            ]
          },
          "metadata": {
            "tags": []
          },
          "execution_count": 9
        }
      ]
    },
    {
      "cell_type": "code",
      "metadata": {
        "colab": {
          "base_uri": "https://localhost:8080/",
          "height": 266
        },
        "id": "py6b3VjUfhWZ",
        "outputId": "edda003a-17c9-44db-f4aa-4bf27d433723"
      },
      "source": [
        "# find the correlation among the columns in the dataframe using pearson method \r\n",
        "df.corr(method ='pearson')"
      ],
      "execution_count": 10,
      "outputs": [
        {
          "output_type": "execute_result",
          "data": {
            "text/html": [
              "<div>\n",
              "<style scoped>\n",
              "    .dataframe tbody tr th:only-of-type {\n",
              "        vertical-align: middle;\n",
              "    }\n",
              "\n",
              "    .dataframe tbody tr th {\n",
              "        vertical-align: top;\n",
              "    }\n",
              "\n",
              "    .dataframe thead th {\n",
              "        text-align: right;\n",
              "    }\n",
              "</style>\n",
              "<table border=\"1\" class=\"dataframe\">\n",
              "  <thead>\n",
              "    <tr style=\"text-align: right;\">\n",
              "      <th></th>\n",
              "      <th>ObjectId</th>\n",
              "      <th>Reportdt</th>\n",
              "      <th>Confirmed</th>\n",
              "      <th>Deaths</th>\n",
              "      <th>Recovered</th>\n",
              "      <th>Tested</th>\n",
              "      <th>NewAdded</th>\n",
              "    </tr>\n",
              "  </thead>\n",
              "  <tbody>\n",
              "    <tr>\n",
              "      <th>ObjectId</th>\n",
              "      <td>1.000000</td>\n",
              "      <td>-0.002512</td>\n",
              "      <td>-0.120177</td>\n",
              "      <td>-0.129774</td>\n",
              "      <td>-0.105915</td>\n",
              "      <td>-0.000954</td>\n",
              "      <td>-0.001470</td>\n",
              "    </tr>\n",
              "    <tr>\n",
              "      <th>Reportdt</th>\n",
              "      <td>-0.002512</td>\n",
              "      <td>1.000000</td>\n",
              "      <td>-0.174051</td>\n",
              "      <td>-0.038650</td>\n",
              "      <td>-0.112835</td>\n",
              "      <td>-0.051626</td>\n",
              "      <td>0.101563</td>\n",
              "    </tr>\n",
              "    <tr>\n",
              "      <th>Confirmed</th>\n",
              "      <td>-0.120177</td>\n",
              "      <td>-0.174051</td>\n",
              "      <td>1.000000</td>\n",
              "      <td>0.468480</td>\n",
              "      <td>0.595781</td>\n",
              "      <td>0.352004</td>\n",
              "      <td>-0.008426</td>\n",
              "    </tr>\n",
              "    <tr>\n",
              "      <th>Deaths</th>\n",
              "      <td>-0.129774</td>\n",
              "      <td>-0.038650</td>\n",
              "      <td>0.468480</td>\n",
              "      <td>1.000000</td>\n",
              "      <td>0.492071</td>\n",
              "      <td>-0.098825</td>\n",
              "      <td>-0.007415</td>\n",
              "    </tr>\n",
              "    <tr>\n",
              "      <th>Recovered</th>\n",
              "      <td>-0.105915</td>\n",
              "      <td>-0.112835</td>\n",
              "      <td>0.595781</td>\n",
              "      <td>0.492071</td>\n",
              "      <td>1.000000</td>\n",
              "      <td>-0.541880</td>\n",
              "      <td>-0.007136</td>\n",
              "    </tr>\n",
              "    <tr>\n",
              "      <th>Tested</th>\n",
              "      <td>-0.000954</td>\n",
              "      <td>-0.051626</td>\n",
              "      <td>0.352004</td>\n",
              "      <td>-0.098825</td>\n",
              "      <td>-0.541880</td>\n",
              "      <td>1.000000</td>\n",
              "      <td>-0.000440</td>\n",
              "    </tr>\n",
              "    <tr>\n",
              "      <th>NewAdded</th>\n",
              "      <td>-0.001470</td>\n",
              "      <td>0.101563</td>\n",
              "      <td>-0.008426</td>\n",
              "      <td>-0.007415</td>\n",
              "      <td>-0.007136</td>\n",
              "      <td>-0.000440</td>\n",
              "      <td>1.000000</td>\n",
              "    </tr>\n",
              "  </tbody>\n",
              "</table>\n",
              "</div>"
            ],
            "text/plain": [
              "           ObjectId  Reportdt  Confirmed  ...  Recovered    Tested  NewAdded\n",
              "ObjectId   1.000000 -0.002512  -0.120177  ...  -0.105915 -0.000954 -0.001470\n",
              "Reportdt  -0.002512  1.000000  -0.174051  ...  -0.112835 -0.051626  0.101563\n",
              "Confirmed -0.120177 -0.174051   1.000000  ...   0.595781  0.352004 -0.008426\n",
              "Deaths    -0.129774 -0.038650   0.468480  ...   0.492071 -0.098825 -0.007415\n",
              "Recovered -0.105915 -0.112835   0.595781  ...   1.000000 -0.541880 -0.007136\n",
              "Tested    -0.000954 -0.051626   0.352004  ...  -0.541880  1.000000 -0.000440\n",
              "NewAdded  -0.001470  0.101563  -0.008426  ...  -0.007136 -0.000440  1.000000\n",
              "\n",
              "[7 rows x 7 columns]"
            ]
          },
          "metadata": {
            "tags": []
          },
          "execution_count": 10
        }
      ]
    },
    {
      "cell_type": "markdown",
      "metadata": {
        "id": "faOJQFOCtoSx"
      },
      "source": [
        "#Missing data values"
      ]
    },
    {
      "cell_type": "code",
      "metadata": {
        "id": "_kBrUmxrWre1",
        "colab": {
          "base_uri": "https://localhost:8080/"
        },
        "outputId": "365252b7-24fb-44d6-9056-23807cabf806"
      },
      "source": [
        "# Identify missing values\n",
        "df.isnull().sum()"
      ],
      "execution_count": 11,
      "outputs": [
        {
          "output_type": "execute_result",
          "data": {
            "text/plain": [
              "ObjectId                  0\n",
              "PlaceName_EN              0\n",
              "GovernorateName_EN        0\n",
              "RegionName_EN             0\n",
              "PLC_CODE                  0\n",
              "REG_CODE                  0\n",
              "GOV_CODE                  0\n",
              "Place_Category            0\n",
              "DataSource                0\n",
              "GlobalID                  0\n",
              "Reportdt                  0\n",
              "Name_Eng                  0\n",
              "Place_Code                0\n",
              "Confirmed                 0\n",
              "Deaths                    0\n",
              "Recovered                 0\n",
              "Tested                    0\n",
              "NewAdded                  0\n",
              "GlobalID_1587594607483    0\n",
              "Date                      0\n",
              "dtype: int64"
            ]
          },
          "metadata": {
            "tags": []
          },
          "execution_count": 11
        }
      ]
    },
    {
      "cell_type": "code",
      "metadata": {
        "id": "Aqcmskdftdlv",
        "colab": {
          "base_uri": "https://localhost:8080/"
        },
        "outputId": "95cb7c86-de5e-4c39-ba3b-7be0c2a75929"
      },
      "source": [
        "# Total number of null values in the whole dataframe\r\n",
        "df.isnull().sum().sum()"
      ],
      "execution_count": 12,
      "outputs": [
        {
          "output_type": "execute_result",
          "data": {
            "text/plain": [
              "0"
            ]
          },
          "metadata": {
            "tags": []
          },
          "execution_count": 12
        }
      ]
    },
    {
      "cell_type": "code",
      "metadata": {
        "id": "Dideawo_XAaP",
        "colab": {
          "base_uri": "https://localhost:8080/",
          "height": 443
        },
        "outputId": "682fd8d1-080c-4ca7-ef30-e9410959f76c"
      },
      "source": [
        "# Check if there is any missing value with plot!\n",
        "plt.rcParams['figure.figsize']=(15,5)\n",
        "plt.style.use('ggplot')\n",
        "sns.heatmap(df.isnull(), cmap='viridis')\n",
        "plt.show()"
      ],
      "execution_count": 13,
      "outputs": [
        {
          "output_type": "display_data",
          "data": {
            "image/png": "[encoded data removed]",
            "text/plain": [
              "<Figure size 1080x360 with 2 Axes>"
            ]
          },
          "metadata": {
            "tags": []
          }
        }
      ]
    },
    {
      "cell_type": "code",
      "metadata": {
        "id": "vKMS_42-IMHj"
      },
      "source": [
        "# Drop the whole column, the column will not help in the model!\r\n",
        "df.drop([\"ObjectId\"], axis=1, inplace=True) "
      ],
      "execution_count": 14,
      "outputs": []
    },
    {
      "cell_type": "code",
      "metadata": {
        "id": "skxgA13BH_HA"
      },
      "source": [
        "# Drop any duplicates if there are any!\r\n",
        "df = df.drop_duplicates()"
      ],
      "execution_count": 15,
      "outputs": []
    },
    {
      "cell_type": "code",
      "metadata": {
        "colab": {
          "base_uri": "https://localhost:8080/"
        },
        "id": "vvnnTFU4IIad",
        "outputId": "dba1ea3e-be40-4b40-bb4c-764146f4550d"
      },
      "source": [
        "# Check data shape after dropping duplicated\r\n",
        "df.shape"
      ],
      "execution_count": 16,
      "outputs": [
        {
          "output_type": "execute_result",
          "data": {
            "text/plain": [
              "(29927, 19)"
            ]
          },
          "metadata": {
            "tags": []
          },
          "execution_count": 16
        }
      ]
    },
    {
      "cell_type": "markdown",
      "metadata": {
        "id": "nNOM6irIVg1L"
      },
      "source": [
        "#Discover and Visualize Data"
      ]
    },
    {
      "cell_type": "code",
      "metadata": {
        "id": "zKG5m_uq9q4N",
        "colab": {
          "base_uri": "https://localhost:8080/",
          "height": 375
        },
        "outputId": "275bc5c4-2f28-4b61-ac71-85189f6968d7"
      },
      "source": [
        "# Plot 1: Visual region names\n",
        "\n",
        "plt.rcParams['figure.figsize']=(15,5)\n",
        "plt.style.use('ggplot')\n",
        "fig, ax1 = plt.subplots()\n",
        "sns.countplot(y='RegionName_EN',data=df, palette='hls')\n",
        "plt.title('Region Name',fontsize=20)\n",
        "ax1.set_ylabel('Region Name')\n",
        "ax1.set_xlabel('Count')"
      ],
      "execution_count": 17,
      "outputs": [
        {
          "output_type": "execute_result",
          "data": {
            "text/plain": [
              "Text(0.5, 0, 'Count')"
            ]
          },
          "metadata": {
            "tags": []
          },
          "execution_count": 17
        },
        {
          "output_type": "display_data",
          "data": {
            "image/png": "[encoded data removed]",
            "text/plain": [
              "<Figure size 1080x360 with 1 Axes>"
            ]
          },
          "metadata": {
            "tags": []
          }
        }
      ]
    },
    {
      "cell_type": "code",
      "metadata": {
        "colab": {
          "base_uri": "https://localhost:8080/",
          "height": 375
        },
        "id": "bzznsQVAVFxe",
        "outputId": "03982ce8-ea06-4119-cb16-4d6c921f605c"
      },
      "source": [
        "# Plot 2: Visual Place Category\r\n",
        "\r\n",
        "plt.rcParams['figure.figsize']=(15,5)\r\n",
        "plt.style.use('ggplot')\r\n",
        "fig, ax1 = plt.subplots()\r\n",
        "sns.countplot(x='Place_Category',data=df, palette='hls')\r\n",
        "plt.title('Place Category Plot',fontsize=20)\r\n",
        "ax1.set_ylabel('Count')\r\n",
        "ax1.set_xlabel('Place Category')"
      ],
      "execution_count": 18,
      "outputs": [
        {
          "output_type": "execute_result",
          "data": {
            "text/plain": [
              "Text(0.5, 0, 'Place Category')"
            ]
          },
          "metadata": {
            "tags": []
          },
          "execution_count": 18
        },
        {
          "output_type": "display_data",
          "data": {
            "image/png": "[encoded data removed]",
            "text/plain": [
              "<Figure size 1080x360 with 1 Axes>"
            ]
          },
          "metadata": {
            "tags": []
          }
        }
      ]
    },
    {
      "cell_type": "code",
      "metadata": {
        "colab": {
          "base_uri": "https://localhost:8080/",
          "height": 449
        },
        "id": "NKMFgmv-TkYx",
        "outputId": "280a0380-0264-4ccd-ec3a-27682bfef1a9"
      },
      "source": [
        "# Plot 3: Visual Regions Pie Chart\r\n",
        "\r\n",
        "P =df.RegionName_EN.value_counts()/df.shape[0]\r\n",
        "plt.figure(figsize=[15, 7])\r\n",
        "plt.pie(P ,labels=P.index,autopct='%1.1f%%',shadow=True)\r\n",
        "plt.title('Regions Name',fontsize=20)"
      ],
      "execution_count": 19,
      "outputs": [
        {
          "output_type": "execute_result",
          "data": {
            "text/plain": [
              "Text(0.5, 1.0, 'Regions Name')"
            ]
          },
          "metadata": {
            "tags": []
          },
          "execution_count": 19
        },
        {
          "output_type": "display_data",
          "data": {
            "image/png": "[encoded data removed]",
            "text/plain": [
              "<Figure size 1080x504 with 1 Axes>"
            ]
          },
          "metadata": {
            "tags": []
          }
        }
      ]
    },
    {
      "cell_type": "code",
      "metadata": {
        "colab": {
          "base_uri": "https://localhost:8080/",
          "height": 354
        },
        "id": "BSBTwtoxLzJQ",
        "outputId": "16cc839b-b632-449e-da22-d3c7d2bb29fa"
      },
      "source": [
        "# Plot 4: Visual regions with confirmed cases\r\n",
        "\r\n",
        "plt.rcParams['figure.figsize']=(15,5)\r\n",
        "plt.style.use('ggplot')\r\n",
        "sns.stripplot(x=\"Confirmed\", y=\"RegionName_EN\", data=df,palette='hls')"
      ],
      "execution_count": 20,
      "outputs": [
        {
          "output_type": "execute_result",
          "data": {
            "text/plain": [
              "<matplotlib.axes._subplots.AxesSubplot at 0x7f802dd532d0>"
            ]
          },
          "metadata": {
            "tags": []
          },
          "execution_count": 20
        },
        {
          "output_type": "display_data",
          "data": {
            "image/png": "[encoded data removed]",
            "text/plain": [
              "<Figure size 1080x360 with 1 Axes>"
            ]
          },
          "metadata": {
            "tags": []
          }
        }
      ]
    },
    {
      "cell_type": "code",
      "metadata": {
        "colab": {
          "base_uri": "https://localhost:8080/",
          "height": 453
        },
        "id": "Zt6NqGxbMyWk",
        "outputId": "d84d4cb3-91d9-4dae-964f-e809b1bac65c"
      },
      "source": [
        "# Plot 5: Visual confiremed & recovered cases\r\n",
        "plt.figure(figsize=(35,15))\r\n",
        "plt.subplot(231)#subplot to add a subplot to the current figure\r\n",
        "sns.regplot(x=\"Confirmed\",y=\"Recovered\", data=df,  line_kws={'color': 'blue'})"
      ],
      "execution_count": 21,
      "outputs": [
        {
          "output_type": "execute_result",
          "data": {
            "text/plain": [
              "<matplotlib.axes._subplots.AxesSubplot at 0x7f802dd6c750>"
            ]
          },
          "metadata": {
            "tags": []
          },
          "execution_count": 21
        },
        {
          "output_type": "display_data",
          "data": {
            "image/png": "[encoded data removed]",
            "text/plain": [
              "<Figure size 2520x1080 with 1 Axes>"
            ]
          },
          "metadata": {
            "tags": []
          }
        }
      ]
    },
    {
      "cell_type": "markdown",
      "metadata": {
        "id": "yy0BF8NbVrjg"
      },
      "source": [
        "# Prophet Model"
      ]
    },
    {
      "cell_type": "markdown",
      "metadata": {
        "id": "qeh88R7yaCKq"
      },
      "source": [
        "### Taking the highest confirmed cases as shown above in the plots, to make the forecasting for is Riyadh Region"
      ]
    },
    {
      "cell_type": "code",
      "metadata": {
        "colab": {
          "base_uri": "https://localhost:8080/",
          "height": 479
        },
        "id": "XInf2rhsiHSc",
        "outputId": "6dbf04d3-142e-4ee8-e3be-60adeabffc8a"
      },
      "source": [
        "# Separate Riyadh rows region to make forecasting on it\r\n",
        "Rregion = df[df[\"RegionName_EN\"] == 'Ar Riyad']\r\n",
        "# Print the first 5 rows\r\n",
        "Rregion.head()"
      ],
      "execution_count": 22,
      "outputs": [
        {
          "output_type": "execute_result",
          "data": {
            "text/html": [
              "<div>\n",
              "<style scoped>\n",
              "    .dataframe tbody tr th:only-of-type {\n",
              "        vertical-align: middle;\n",
              "    }\n",
              "\n",
              "    .dataframe tbody tr th {\n",
              "        vertical-align: top;\n",
              "    }\n",
              "\n",
              "    .dataframe thead th {\n",
              "        text-align: right;\n",
              "    }\n",
              "</style>\n",
              "<table border=\"1\" class=\"dataframe\">\n",
              "  <thead>\n",
              "    <tr style=\"text-align: right;\">\n",
              "      <th></th>\n",
              "      <th>PlaceName_EN</th>\n",
              "      <th>GovernorateName_EN</th>\n",
              "      <th>RegionName_EN</th>\n",
              "      <th>PLC_CODE</th>\n",
              "      <th>REG_CODE</th>\n",
              "      <th>GOV_CODE</th>\n",
              "      <th>Place_Category</th>\n",
              "      <th>DataSource</th>\n",
              "      <th>GlobalID</th>\n",
              "      <th>Reportdt</th>\n",
              "      <th>Name_Eng</th>\n",
              "      <th>Place_Code</th>\n",
              "      <th>Confirmed</th>\n",
              "      <th>Deaths</th>\n",
              "      <th>Recovered</th>\n",
              "      <th>Tested</th>\n",
              "      <th>NewAdded</th>\n",
              "      <th>GlobalID_1587594607483</th>\n",
              "      <th>Date</th>\n",
              "    </tr>\n",
              "  </thead>\n",
              "  <tbody>\n",
              "    <tr>\n",
              "      <th>1260</th>\n",
              "      <td>Rafa'i' Al Jamsh</td>\n",
              "      <td>Ad Duwadimi</td>\n",
              "      <td>Ar Riyad</td>\n",
              "      <td>C121G10R01</td>\n",
              "      <td>R01</td>\n",
              "      <td>G10R01</td>\n",
              "      <td>City</td>\n",
              "      <td>GCS</td>\n",
              "      <td>5499ddae-b02e-4473-b69c-dfb3e9e24f80</td>\n",
              "      <td>1589878800000</td>\n",
              "      <td>Rafa'i' Al Jamsh</td>\n",
              "      <td>C121G10R01</td>\n",
              "      <td>1</td>\n",
              "      <td>0</td>\n",
              "      <td>0</td>\n",
              "      <td>1</td>\n",
              "      <td>0</td>\n",
              "      <td>7d2f6fe0-1126-46e5-96f7-741ec9a20c1f</td>\n",
              "      <td>2020-05-19 09:00:00</td>\n",
              "    </tr>\n",
              "    <tr>\n",
              "      <th>1261</th>\n",
              "      <td>Rafa'i' Al Jamsh</td>\n",
              "      <td>Ad Duwadimi</td>\n",
              "      <td>Ar Riyad</td>\n",
              "      <td>C121G10R01</td>\n",
              "      <td>R01</td>\n",
              "      <td>G10R01</td>\n",
              "      <td>City</td>\n",
              "      <td>GCS</td>\n",
              "      <td>5499ddae-b02e-4473-b69c-dfb3e9e24f80</td>\n",
              "      <td>1590829200000</td>\n",
              "      <td>Rafa'i' Al Jamsh</td>\n",
              "      <td>C121G10R01</td>\n",
              "      <td>0</td>\n",
              "      <td>0</td>\n",
              "      <td>1</td>\n",
              "      <td>-1</td>\n",
              "      <td>0</td>\n",
              "      <td>574e8e26-d40e-4f7c-871c-c9aa66a8f063</td>\n",
              "      <td>2020-05-30 09:00:00</td>\n",
              "    </tr>\n",
              "    <tr>\n",
              "      <th>1262</th>\n",
              "      <td>Rafa'i' Al Jamsh</td>\n",
              "      <td>Ad Duwadimi</td>\n",
              "      <td>Ar Riyad</td>\n",
              "      <td>C121G10R01</td>\n",
              "      <td>R01</td>\n",
              "      <td>G10R01</td>\n",
              "      <td>City</td>\n",
              "      <td>GCS</td>\n",
              "      <td>5499ddae-b02e-4473-b69c-dfb3e9e24f80</td>\n",
              "      <td>1590915600000</td>\n",
              "      <td>Rafa'i' Al Jamsh</td>\n",
              "      <td>C121G10R01</td>\n",
              "      <td>13</td>\n",
              "      <td>0</td>\n",
              "      <td>0</td>\n",
              "      <td>13</td>\n",
              "      <td>0</td>\n",
              "      <td>f466961c-2c2e-4bb9-999e-4fb36de07eee</td>\n",
              "      <td>2020-05-31 09:00:00</td>\n",
              "    </tr>\n",
              "    <tr>\n",
              "      <th>1263</th>\n",
              "      <td>Rafa'i' Al Jamsh</td>\n",
              "      <td>Ad Duwadimi</td>\n",
              "      <td>Ar Riyad</td>\n",
              "      <td>C121G10R01</td>\n",
              "      <td>R01</td>\n",
              "      <td>G10R01</td>\n",
              "      <td>City</td>\n",
              "      <td>GCS</td>\n",
              "      <td>5499ddae-b02e-4473-b69c-dfb3e9e24f80</td>\n",
              "      <td>1591174800000</td>\n",
              "      <td>Rafa'i' Al Jamsh</td>\n",
              "      <td>C121G10R01</td>\n",
              "      <td>2</td>\n",
              "      <td>0</td>\n",
              "      <td>0</td>\n",
              "      <td>2</td>\n",
              "      <td>0</td>\n",
              "      <td>a9b44605-12eb-4096-9713-b8690559143e</td>\n",
              "      <td>2020-06-03 09:00:00</td>\n",
              "    </tr>\n",
              "    <tr>\n",
              "      <th>1264</th>\n",
              "      <td>Rafa'i' Al Jamsh</td>\n",
              "      <td>Ad Duwadimi</td>\n",
              "      <td>Ar Riyad</td>\n",
              "      <td>C121G10R01</td>\n",
              "      <td>R01</td>\n",
              "      <td>G10R01</td>\n",
              "      <td>City</td>\n",
              "      <td>GCS</td>\n",
              "      <td>5499ddae-b02e-4473-b69c-dfb3e9e24f80</td>\n",
              "      <td>1591347600000</td>\n",
              "      <td>Rafa'i' Al Jamsh</td>\n",
              "      <td>C121G10R01</td>\n",
              "      <td>7</td>\n",
              "      <td>0</td>\n",
              "      <td>0</td>\n",
              "      <td>7</td>\n",
              "      <td>0</td>\n",
              "      <td>d4fc71a7-27cb-43a4-b9a0-0756e13be754</td>\n",
              "      <td>2020-06-05 09:00:00</td>\n",
              "    </tr>\n",
              "  </tbody>\n",
              "</table>\n",
              "</div>"
            ],
            "text/plain": [
              "          PlaceName_EN  ...                 Date\n",
              "1260  Rafa'i' Al Jamsh  ...  2020-05-19 09:00:00\n",
              "1261  Rafa'i' Al Jamsh  ...  2020-05-30 09:00:00\n",
              "1262  Rafa'i' Al Jamsh  ...  2020-05-31 09:00:00\n",
              "1263  Rafa'i' Al Jamsh  ...  2020-06-03 09:00:00\n",
              "1264  Rafa'i' Al Jamsh  ...  2020-06-05 09:00:00\n",
              "\n",
              "[5 rows x 19 columns]"
            ]
          },
          "metadata": {
            "tags": []
          },
          "execution_count": 22
        }
      ]
    },
    {
      "cell_type": "code",
      "metadata": {
        "id": "cECkIlGKnmGV"
      },
      "source": [
        "Rregion[['Date','Time']] = df.Date.str.split(expand=True) "
      ],
      "execution_count": 23,
      "outputs": []
    },
    {
      "cell_type": "markdown",
      "metadata": {
        "id": "xLdE8JaomFGn"
      },
      "source": [
        "# Prepare for Prophet\r\n",
        "### For prophet to work, we need to change the names of these columns to 'ds' and 'y', so lets just create a new dataframe. \r\n",
        "\r\n",
        "\r\n",
        "### And rename the columns as required by fbprophet. Additioinally, fbprophet doesn't like the index to be a datetime...it wants to see 'ds' as a non-index column, so that's why separated above into time from Date."
      ]
    },
    {
      "cell_type": "code",
      "metadata": {
        "colab": {
          "base_uri": "https://localhost:8080/",
          "height": 419
        },
        "id": "_r9WTWz3Tl9X",
        "outputId": "45f0901b-9960-4f2e-a05a-3ec55505196d"
      },
      "source": [
        "Rdf = Rregion[['Date','Confirmed']]\r\n",
        "Rdf.columns = ['ds','y']\r\n",
        "Rdf"
      ],
      "execution_count": 24,
      "outputs": [
        {
          "output_type": "execute_result",
          "data": {
            "text/html": [
              "<div>\n",
              "<style scoped>\n",
              "    .dataframe tbody tr th:only-of-type {\n",
              "        vertical-align: middle;\n",
              "    }\n",
              "\n",
              "    .dataframe tbody tr th {\n",
              "        vertical-align: top;\n",
              "    }\n",
              "\n",
              "    .dataframe thead th {\n",
              "        text-align: right;\n",
              "    }\n",
              "</style>\n",
              "<table border=\"1\" class=\"dataframe\">\n",
              "  <thead>\n",
              "    <tr style=\"text-align: right;\">\n",
              "      <th></th>\n",
              "      <th>ds</th>\n",
              "      <th>y</th>\n",
              "    </tr>\n",
              "  </thead>\n",
              "  <tbody>\n",
              "    <tr>\n",
              "      <th>1260</th>\n",
              "      <td>2020-05-19</td>\n",
              "      <td>1</td>\n",
              "    </tr>\n",
              "    <tr>\n",
              "      <th>1261</th>\n",
              "      <td>2020-05-30</td>\n",
              "      <td>0</td>\n",
              "    </tr>\n",
              "    <tr>\n",
              "      <th>1262</th>\n",
              "      <td>2020-05-31</td>\n",
              "      <td>13</td>\n",
              "    </tr>\n",
              "    <tr>\n",
              "      <th>1263</th>\n",
              "      <td>2020-06-03</td>\n",
              "      <td>2</td>\n",
              "    </tr>\n",
              "    <tr>\n",
              "      <th>1264</th>\n",
              "      <td>2020-06-05</td>\n",
              "      <td>7</td>\n",
              "    </tr>\n",
              "    <tr>\n",
              "      <th>...</th>\n",
              "      <td>...</td>\n",
              "      <td>...</td>\n",
              "    </tr>\n",
              "    <tr>\n",
              "      <th>28289</th>\n",
              "      <td>2021-01-25</td>\n",
              "      <td>1</td>\n",
              "    </tr>\n",
              "    <tr>\n",
              "      <th>28290</th>\n",
              "      <td>2021-01-26</td>\n",
              "      <td>0</td>\n",
              "    </tr>\n",
              "    <tr>\n",
              "      <th>28291</th>\n",
              "      <td>2021-01-27</td>\n",
              "      <td>0</td>\n",
              "    </tr>\n",
              "    <tr>\n",
              "      <th>28292</th>\n",
              "      <td>2021-01-28</td>\n",
              "      <td>2</td>\n",
              "    </tr>\n",
              "    <tr>\n",
              "      <th>28293</th>\n",
              "      <td>2021-01-29</td>\n",
              "      <td>4</td>\n",
              "    </tr>\n",
              "  </tbody>\n",
              "</table>\n",
              "<p>4941 rows × 2 columns</p>\n",
              "</div>"
            ],
            "text/plain": [
              "               ds   y\n",
              "1260   2020-05-19   1\n",
              "1261   2020-05-30   0\n",
              "1262   2020-05-31  13\n",
              "1263   2020-06-03   2\n",
              "1264   2020-06-05   7\n",
              "...           ...  ..\n",
              "28289  2021-01-25   1\n",
              "28290  2021-01-26   0\n",
              "28291  2021-01-27   0\n",
              "28292  2021-01-28   2\n",
              "28293  2021-01-29   4\n",
              "\n",
              "[4941 rows x 2 columns]"
            ]
          },
          "metadata": {
            "tags": []
          },
          "execution_count": 24
        }
      ]
    },
    {
      "cell_type": "code",
      "metadata": {
        "colab": {
          "base_uri": "https://localhost:8080/"
        },
        "id": "KhAD3tVmF65f",
        "outputId": "e196bc9d-049c-4117-9d95-f3ece991da38"
      },
      "source": [
        "# Just to check for 0 values in the y column\r\n",
        "Rdf.isin([0]).sum()"
      ],
      "execution_count": 25,
      "outputs": [
        {
          "output_type": "execute_result",
          "data": {
            "text/plain": [
              "ds       0\n",
              "y     1297\n",
              "dtype: int64"
            ]
          },
          "metadata": {
            "tags": []
          },
          "execution_count": 25
        }
      ]
    },
    {
      "cell_type": "code",
      "metadata": {
        "colab": {
          "base_uri": "https://localhost:8080/"
        },
        "id": "kCIjyXYkGi1d",
        "outputId": "8b993f2f-5228-4370-f180-e278ff217b39"
      },
      "source": [
        "len(Rdf.index)"
      ],
      "execution_count": 26,
      "outputs": [
        {
          "output_type": "execute_result",
          "data": {
            "text/plain": [
              "4941"
            ]
          },
          "metadata": {
            "tags": []
          },
          "execution_count": 26
        }
      ]
    },
    {
      "cell_type": "code",
      "metadata": {
        "colab": {
          "base_uri": "https://localhost:8080/"
        },
        "id": "TBOsmXRbTmC9",
        "outputId": "3f630fe3-7e1e-42fa-c176-1752ff5bef2d"
      },
      "source": [
        "Rdf.columns"
      ],
      "execution_count": 27,
      "outputs": [
        {
          "output_type": "execute_result",
          "data": {
            "text/plain": [
              "Index(['ds', 'y'], dtype='object')"
            ]
          },
          "metadata": {
            "tags": []
          },
          "execution_count": 27
        }
      ]
    },
    {
      "cell_type": "code",
      "metadata": {
        "colab": {
          "base_uri": "https://localhost:8080/",
          "height": 354
        },
        "id": "AoN2hjx383Fz",
        "outputId": "2944a4ff-881f-4daa-a7cf-337245031e15"
      },
      "source": [
        "# Plot the data using pandas' plot function\r\n",
        "\r\n",
        "plt.rcParams['figure.figsize']=(15,5)\r\n",
        "plt.style.use('ggplot')\r\n",
        "Rdf.set_index('ds').y.plot()"
      ],
      "execution_count": 28,
      "outputs": [
        {
          "output_type": "execute_result",
          "data": {
            "text/plain": [
              "<matplotlib.axes._subplots.AxesSubplot at 0x7f80376e9cd0>"
            ]
          },
          "metadata": {
            "tags": []
          },
          "execution_count": 28
        },
        {
          "output_type": "display_data",
          "data": {
            "image/png": "[encoded data removed]",
            "text/plain": [
              "<Figure size 1080x360 with 1 Axes>"
            ]
          },
          "metadata": {
            "tags": []
          }
        }
      ]
    },
    {
      "cell_type": "markdown",
      "metadata": {
        "id": "M3mbgUqeoEP-"
      },
      "source": [
        "# Running Prophet\r\n",
        "\r\n",
        "### Add some future dates to our dataframe. I want to forecast 6 months into the future, so built a future dataframe with 6 periods. Note the freq='m' inclusion to ensure we are adding 6 months of data."
      ]
    },
    {
      "cell_type": "code",
      "metadata": {
        "colab": {
          "base_uri": "https://localhost:8080/",
          "height": 238
        },
        "id": "gL4ofFJzz4FQ",
        "outputId": "9eb535a0-5716-4120-f111-f6b987a13a9f"
      },
      "source": [
        "model = Prophet(changepoint_prior_scale=0.01).fit(Rdf)\r\n",
        "future = model.make_future_dataframe(periods=6, freq='m') # period 6 and the frequency of months\r\n",
        "future.tail()"
      ],
      "execution_count": 29,
      "outputs": [
        {
          "output_type": "stream",
          "text": [
            "INFO:fbprophet:Disabling yearly seasonality. Run prophet with yearly_seasonality=True to override this.\n",
            "INFO:fbprophet:Disabling daily seasonality. Run prophet with daily_seasonality=True to override this.\n"
          ],
          "name": "stderr"
        },
        {
          "output_type": "execute_result",
          "data": {
            "text/html": [
              "<div>\n",
              "<style scoped>\n",
              "    .dataframe tbody tr th:only-of-type {\n",
              "        vertical-align: middle;\n",
              "    }\n",
              "\n",
              "    .dataframe tbody tr th {\n",
              "        vertical-align: top;\n",
              "    }\n",
              "\n",
              "    .dataframe thead th {\n",
              "        text-align: right;\n",
              "    }\n",
              "</style>\n",
              "<table border=\"1\" class=\"dataframe\">\n",
              "  <thead>\n",
              "    <tr style=\"text-align: right;\">\n",
              "      <th></th>\n",
              "      <th>ds</th>\n",
              "    </tr>\n",
              "  </thead>\n",
              "  <tbody>\n",
              "    <tr>\n",
              "      <th>325</th>\n",
              "      <td>2021-02-28</td>\n",
              "    </tr>\n",
              "    <tr>\n",
              "      <th>326</th>\n",
              "      <td>2021-03-31</td>\n",
              "    </tr>\n",
              "    <tr>\n",
              "      <th>327</th>\n",
              "      <td>2021-04-30</td>\n",
              "    </tr>\n",
              "    <tr>\n",
              "      <th>328</th>\n",
              "      <td>2021-05-31</td>\n",
              "    </tr>\n",
              "    <tr>\n",
              "      <th>329</th>\n",
              "      <td>2021-06-30</td>\n",
              "    </tr>\n",
              "  </tbody>\n",
              "</table>\n",
              "</div>"
            ],
            "text/plain": [
              "            ds\n",
              "325 2021-02-28\n",
              "326 2021-03-31\n",
              "327 2021-04-30\n",
              "328 2021-05-31\n",
              "329 2021-06-30"
            ]
          },
          "metadata": {
            "tags": []
          },
          "execution_count": 29
        }
      ]
    },
    {
      "cell_type": "code",
      "metadata": {
        "colab": {
          "base_uri": "https://localhost:8080/",
          "height": 609
        },
        "id": "4nUP_ZvHmem0",
        "outputId": "4be6e7b4-8c7c-4026-80af-ed72979522bc"
      },
      "source": [
        "# To forecast this future data, we need to run it through Prophet's model\r\n",
        "fcst = model.predict(future)\r\n",
        "fcst"
      ],
      "execution_count": 30,
      "outputs": [
        {
          "output_type": "execute_result",
          "data": {
            "text/html": [
              "<div>\n",
              "<style scoped>\n",
              "    .dataframe tbody tr th:only-of-type {\n",
              "        vertical-align: middle;\n",
              "    }\n",
              "\n",
              "    .dataframe tbody tr th {\n",
              "        vertical-align: top;\n",
              "    }\n",
              "\n",
              "    .dataframe thead th {\n",
              "        text-align: right;\n",
              "    }\n",
              "</style>\n",
              "<table border=\"1\" class=\"dataframe\">\n",
              "  <thead>\n",
              "    <tr style=\"text-align: right;\">\n",
              "      <th></th>\n",
              "      <th>ds</th>\n",
              "      <th>trend</th>\n",
              "      <th>yhat_lower</th>\n",
              "      <th>yhat_upper</th>\n",
              "      <th>trend_lower</th>\n",
              "      <th>trend_upper</th>\n",
              "      <th>additive_terms</th>\n",
              "      <th>additive_terms_lower</th>\n",
              "      <th>additive_terms_upper</th>\n",
              "      <th>weekly</th>\n",
              "      <th>weekly_lower</th>\n",
              "      <th>weekly_upper</th>\n",
              "      <th>multiplicative_terms</th>\n",
              "      <th>multiplicative_terms_lower</th>\n",
              "      <th>multiplicative_terms_upper</th>\n",
              "      <th>yhat</th>\n",
              "    </tr>\n",
              "  </thead>\n",
              "  <tbody>\n",
              "    <tr>\n",
              "      <th>0</th>\n",
              "      <td>2020-03-09</td>\n",
              "      <td>69.293084</td>\n",
              "      <td>-50.727559</td>\n",
              "      <td>185.942128</td>\n",
              "      <td>69.293084</td>\n",
              "      <td>69.293084</td>\n",
              "      <td>0.054769</td>\n",
              "      <td>0.054769</td>\n",
              "      <td>0.054769</td>\n",
              "      <td>0.054769</td>\n",
              "      <td>0.054769</td>\n",
              "      <td>0.054769</td>\n",
              "      <td>0.0</td>\n",
              "      <td>0.0</td>\n",
              "      <td>0.0</td>\n",
              "      <td>69.347853</td>\n",
              "    </tr>\n",
              "    <tr>\n",
              "      <th>1</th>\n",
              "      <td>2020-03-13</td>\n",
              "      <td>67.915933</td>\n",
              "      <td>-48.629616</td>\n",
              "      <td>182.836538</td>\n",
              "      <td>67.915933</td>\n",
              "      <td>67.915933</td>\n",
              "      <td>0.156696</td>\n",
              "      <td>0.156696</td>\n",
              "      <td>0.156696</td>\n",
              "      <td>0.156696</td>\n",
              "      <td>0.156696</td>\n",
              "      <td>0.156696</td>\n",
              "      <td>0.0</td>\n",
              "      <td>0.0</td>\n",
              "      <td>0.0</td>\n",
              "      <td>68.072629</td>\n",
              "    </tr>\n",
              "    <tr>\n",
              "      <th>2</th>\n",
              "      <td>2020-03-14</td>\n",
              "      <td>67.571645</td>\n",
              "      <td>-51.558796</td>\n",
              "      <td>184.376122</td>\n",
              "      <td>67.571645</td>\n",
              "      <td>67.571645</td>\n",
              "      <td>-0.616591</td>\n",
              "      <td>-0.616591</td>\n",
              "      <td>-0.616591</td>\n",
              "      <td>-0.616591</td>\n",
              "      <td>-0.616591</td>\n",
              "      <td>-0.616591</td>\n",
              "      <td>0.0</td>\n",
              "      <td>0.0</td>\n",
              "      <td>0.0</td>\n",
              "      <td>66.955055</td>\n",
              "    </tr>\n",
              "    <tr>\n",
              "      <th>3</th>\n",
              "      <td>2020-03-15</td>\n",
              "      <td>67.227357</td>\n",
              "      <td>-59.541761</td>\n",
              "      <td>182.330720</td>\n",
              "      <td>67.227357</td>\n",
              "      <td>67.227357</td>\n",
              "      <td>-1.383020</td>\n",
              "      <td>-1.383020</td>\n",
              "      <td>-1.383020</td>\n",
              "      <td>-1.383020</td>\n",
              "      <td>-1.383020</td>\n",
              "      <td>-1.383020</td>\n",
              "      <td>0.0</td>\n",
              "      <td>0.0</td>\n",
              "      <td>0.0</td>\n",
              "      <td>65.844337</td>\n",
              "    </tr>\n",
              "    <tr>\n",
              "      <th>4</th>\n",
              "      <td>2020-03-16</td>\n",
              "      <td>66.883070</td>\n",
              "      <td>-54.309053</td>\n",
              "      <td>176.421635</td>\n",
              "      <td>66.883070</td>\n",
              "      <td>66.883070</td>\n",
              "      <td>0.054769</td>\n",
              "      <td>0.054769</td>\n",
              "      <td>0.054769</td>\n",
              "      <td>0.054769</td>\n",
              "      <td>0.054769</td>\n",
              "      <td>0.054769</td>\n",
              "      <td>0.0</td>\n",
              "      <td>0.0</td>\n",
              "      <td>0.0</td>\n",
              "      <td>66.937838</td>\n",
              "    </tr>\n",
              "    <tr>\n",
              "      <th>...</th>\n",
              "      <td>...</td>\n",
              "      <td>...</td>\n",
              "      <td>...</td>\n",
              "      <td>...</td>\n",
              "      <td>...</td>\n",
              "      <td>...</td>\n",
              "      <td>...</td>\n",
              "      <td>...</td>\n",
              "      <td>...</td>\n",
              "      <td>...</td>\n",
              "      <td>...</td>\n",
              "      <td>...</td>\n",
              "      <td>...</td>\n",
              "      <td>...</td>\n",
              "      <td>...</td>\n",
              "      <td>...</td>\n",
              "    </tr>\n",
              "    <tr>\n",
              "      <th>325</th>\n",
              "      <td>2021-02-28</td>\n",
              "      <td>1.863021</td>\n",
              "      <td>-114.492395</td>\n",
              "      <td>119.745656</td>\n",
              "      <td>0.930795</td>\n",
              "      <td>2.754387</td>\n",
              "      <td>-1.383020</td>\n",
              "      <td>-1.383020</td>\n",
              "      <td>-1.383020</td>\n",
              "      <td>-1.383020</td>\n",
              "      <td>-1.383020</td>\n",
              "      <td>-1.383020</td>\n",
              "      <td>0.0</td>\n",
              "      <td>0.0</td>\n",
              "      <td>0.0</td>\n",
              "      <td>0.480000</td>\n",
              "    </tr>\n",
              "    <tr>\n",
              "      <th>326</th>\n",
              "      <td>2021-03-31</td>\n",
              "      <td>1.227641</td>\n",
              "      <td>-116.032919</td>\n",
              "      <td>127.054540</td>\n",
              "      <td>-1.451852</td>\n",
              "      <td>3.777772</td>\n",
              "      <td>-0.154143</td>\n",
              "      <td>-0.154143</td>\n",
              "      <td>-0.154143</td>\n",
              "      <td>-0.154143</td>\n",
              "      <td>-0.154143</td>\n",
              "      <td>-0.154143</td>\n",
              "      <td>0.0</td>\n",
              "      <td>0.0</td>\n",
              "      <td>0.0</td>\n",
              "      <td>1.073497</td>\n",
              "    </tr>\n",
              "    <tr>\n",
              "      <th>327</th>\n",
              "      <td>2021-04-30</td>\n",
              "      <td>0.612757</td>\n",
              "      <td>-119.913084</td>\n",
              "      <td>114.994578</td>\n",
              "      <td>-4.613743</td>\n",
              "      <td>5.513582</td>\n",
              "      <td>0.156696</td>\n",
              "      <td>0.156696</td>\n",
              "      <td>0.156696</td>\n",
              "      <td>0.156696</td>\n",
              "      <td>0.156696</td>\n",
              "      <td>0.156696</td>\n",
              "      <td>0.0</td>\n",
              "      <td>0.0</td>\n",
              "      <td>0.0</td>\n",
              "      <td>0.769452</td>\n",
              "    </tr>\n",
              "    <tr>\n",
              "      <th>328</th>\n",
              "      <td>2021-05-31</td>\n",
              "      <td>-0.022623</td>\n",
              "      <td>-129.826357</td>\n",
              "      <td>120.904249</td>\n",
              "      <td>-7.965859</td>\n",
              "      <td>7.888336</td>\n",
              "      <td>0.054769</td>\n",
              "      <td>0.054769</td>\n",
              "      <td>0.054769</td>\n",
              "      <td>0.054769</td>\n",
              "      <td>0.054769</td>\n",
              "      <td>0.054769</td>\n",
              "      <td>0.0</td>\n",
              "      <td>0.0</td>\n",
              "      <td>0.0</td>\n",
              "      <td>0.032145</td>\n",
              "    </tr>\n",
              "    <tr>\n",
              "      <th>329</th>\n",
              "      <td>2021-06-30</td>\n",
              "      <td>-0.637507</td>\n",
              "      <td>-116.476855</td>\n",
              "      <td>121.456753</td>\n",
              "      <td>-11.846597</td>\n",
              "      <td>10.257582</td>\n",
              "      <td>-0.154143</td>\n",
              "      <td>-0.154143</td>\n",
              "      <td>-0.154143</td>\n",
              "      <td>-0.154143</td>\n",
              "      <td>-0.154143</td>\n",
              "      <td>-0.154143</td>\n",
              "      <td>0.0</td>\n",
              "      <td>0.0</td>\n",
              "      <td>0.0</td>\n",
              "      <td>-0.791651</td>\n",
              "    </tr>\n",
              "  </tbody>\n",
              "</table>\n",
              "<p>330 rows × 16 columns</p>\n",
              "</div>"
            ],
            "text/plain": [
              "            ds      trend  ...  multiplicative_terms_upper       yhat\n",
              "0   2020-03-09  69.293084  ...                         0.0  69.347853\n",
              "1   2020-03-13  67.915933  ...                         0.0  68.072629\n",
              "2   2020-03-14  67.571645  ...                         0.0  66.955055\n",
              "3   2020-03-15  67.227357  ...                         0.0  65.844337\n",
              "4   2020-03-16  66.883070  ...                         0.0  66.937838\n",
              "..         ...        ...  ...                         ...        ...\n",
              "325 2021-02-28   1.863021  ...                         0.0   0.480000\n",
              "326 2021-03-31   1.227641  ...                         0.0   1.073497\n",
              "327 2021-04-30   0.612757  ...                         0.0   0.769452\n",
              "328 2021-05-31  -0.022623  ...                         0.0   0.032145\n",
              "329 2021-06-30  -0.637507  ...                         0.0  -0.791651\n",
              "\n",
              "[330 rows x 16 columns]"
            ]
          },
          "metadata": {
            "tags": []
          },
          "execution_count": 30
        }
      ]
    },
    {
      "cell_type": "code",
      "metadata": {
        "colab": {
          "base_uri": "https://localhost:8080/",
          "height": 204
        },
        "id": "u8eq4Dt2ASq_",
        "outputId": "2e60f527-31e3-4f1a-bfbc-74dcc2ecc0b9"
      },
      "source": [
        "# look at yhat, yhat_lower and yhat_upper\r\n",
        "fcst[['ds', 'yhat', 'yhat_lower', 'yhat_upper']].tail()"
      ],
      "execution_count": 31,
      "outputs": [
        {
          "output_type": "execute_result",
          "data": {
            "text/html": [
              "<div>\n",
              "<style scoped>\n",
              "    .dataframe tbody tr th:only-of-type {\n",
              "        vertical-align: middle;\n",
              "    }\n",
              "\n",
              "    .dataframe tbody tr th {\n",
              "        vertical-align: top;\n",
              "    }\n",
              "\n",
              "    .dataframe thead th {\n",
              "        text-align: right;\n",
              "    }\n",
              "</style>\n",
              "<table border=\"1\" class=\"dataframe\">\n",
              "  <thead>\n",
              "    <tr style=\"text-align: right;\">\n",
              "      <th></th>\n",
              "      <th>ds</th>\n",
              "      <th>yhat</th>\n",
              "      <th>yhat_lower</th>\n",
              "      <th>yhat_upper</th>\n",
              "    </tr>\n",
              "  </thead>\n",
              "  <tbody>\n",
              "    <tr>\n",
              "      <th>325</th>\n",
              "      <td>2021-02-28</td>\n",
              "      <td>0.480000</td>\n",
              "      <td>-114.492395</td>\n",
              "      <td>119.745656</td>\n",
              "    </tr>\n",
              "    <tr>\n",
              "      <th>326</th>\n",
              "      <td>2021-03-31</td>\n",
              "      <td>1.073497</td>\n",
              "      <td>-116.032919</td>\n",
              "      <td>127.054540</td>\n",
              "    </tr>\n",
              "    <tr>\n",
              "      <th>327</th>\n",
              "      <td>2021-04-30</td>\n",
              "      <td>0.769452</td>\n",
              "      <td>-119.913084</td>\n",
              "      <td>114.994578</td>\n",
              "    </tr>\n",
              "    <tr>\n",
              "      <th>328</th>\n",
              "      <td>2021-05-31</td>\n",
              "      <td>0.032145</td>\n",
              "      <td>-129.826357</td>\n",
              "      <td>120.904249</td>\n",
              "    </tr>\n",
              "    <tr>\n",
              "      <th>329</th>\n",
              "      <td>2021-06-30</td>\n",
              "      <td>-0.791651</td>\n",
              "      <td>-116.476855</td>\n",
              "      <td>121.456753</td>\n",
              "    </tr>\n",
              "  </tbody>\n",
              "</table>\n",
              "</div>"
            ],
            "text/plain": [
              "            ds      yhat  yhat_lower  yhat_upper\n",
              "325 2021-02-28  0.480000 -114.492395  119.745656\n",
              "326 2021-03-31  1.073497 -116.032919  127.054540\n",
              "327 2021-04-30  0.769452 -119.913084  114.994578\n",
              "328 2021-05-31  0.032145 -129.826357  120.904249\n",
              "329 2021-06-30 -0.791651 -116.476855  121.456753"
            ]
          },
          "metadata": {
            "tags": []
          },
          "execution_count": 31
        }
      ]
    },
    {
      "cell_type": "markdown",
      "metadata": {
        "id": "EfDo6WE-AZlX"
      },
      "source": [
        "# Plotting Prophet Results\r\n",
        "\r\n",
        "### Prophet has a plotting mechanism called `plot`. This plot functionality draws the original data (black dots), the model (blue line) and the error of the forecast (shaded blue area)."
      ]
    },
    {
      "cell_type": "code",
      "metadata": {
        "colab": {
          "base_uri": "https://localhost:8080/",
          "height": 441
        },
        "id": "0PSogB6D2U5i",
        "outputId": "e309d39f-2482-4d3c-b616-e2a4133fe2b7"
      },
      "source": [
        "\r\n",
        "plt.rcParams['figure.figsize']=(15,5)\r\n",
        "plt.style.use('ggplot')\r\n",
        "fig = model.plot(fcst);"
      ],
      "execution_count": 32,
      "outputs": [
        {
          "output_type": "display_data",
          "data": {
            "image/png": "[encoded data removed]",
            "text/plain": [
              "<Figure size 720x432 with 1 Axes>"
            ]
          },
          "metadata": {
            "tags": []
          }
        }
      ]
    },
    {
      "cell_type": "code",
      "metadata": {
        "colab": {
          "base_uri": "https://localhost:8080/",
          "height": 441
        },
        "id": "ILlnbXUlz8bZ",
        "outputId": "f7cde794-c09e-44ad-dc02-ab45a3570dfa"
      },
      "source": [
        "fig = model.plot_components(fcst)"
      ],
      "execution_count": 33,
      "outputs": [
        {
          "output_type": "display_data",
          "data": {
            "image/png": "[encoded data removed]",
            "text/plain": [
              "<Figure size 648x432 with 2 Axes>"
            ]
          },
          "metadata": {
            "tags": []
          }
        }
      ]
    },
    {
      "cell_type": "code",
      "metadata": {
        "colab": {
          "base_uri": "https://localhost:8080/",
          "height": 441
        },
        "id": "PmzIBI0yZfTu",
        "outputId": "16b124bd-5ea2-4c8b-d1e0-b53c491cbc7f"
      },
      "source": [
        "# the vertical lines where the potential changepoints occurred\r\n",
        "fig = model.plot(fcst)\r\n",
        "a = add_changepoints_to_plot(fig.gca(), model, fcst)"
      ],
      "execution_count": 34,
      "outputs": [
        {
          "output_type": "display_data",
          "data": {
            "image/png": "[encoded data removed]",
            "text/plain": [
              "<Figure size 720x432 with 1 Axes>"
            ]
          },
          "metadata": {
            "tags": []
          }
        }
      ]
    },
    {
      "cell_type": "code",
      "metadata": {
        "colab": {
          "base_uri": "https://localhost:8080/",
          "height": 617
        },
        "id": "tqtp7IXtTW32",
        "outputId": "45271c4f-e8b1-4df4-9431-9cd1951d6d79"
      },
      "source": [
        "plot_plotly(model, fcst)"
      ],
      "execution_count": 35,
      "outputs": [
        {
          "output_type": "display_data",
          "data": {
            "text/html": [
              "<html>\n",
              "<head><meta charset=\"utf-8\" /></head>\n",
              "<body>\n",
              "    <div>\n",
              "            <script src=\"https://cdnjs.cloudflare.com/ajax/libs/mathjax/2.7.5/MathJax.js?config=TeX-AMS-MML_SVG\"></script><script type=\"text/javascript\">if (window.MathJax) {MathJax.Hub.Config({SVG: {font: \"STIX-Web\"}});}</script>\n",
              "                <script type=\"text/javascript\">window.PlotlyConfig = {MathJaxConfig: 'local'};</script>\n",
              "        <script src=\"https://cdn.plot.ly/plotly-latest.min.js\"></script>    \n",
              "            <div id=\"fe676327-6726-4a65-be9c-404f6691c833\" class=\"plotly-graph-div\" style=\"height:600px; width:900px;\"></div>\n",
              "            <script type=\"text/javascript\">\n",
              "                \n",
              "                    window.PLOTLYENV=window.PLOTLYENV || {};\n",
              "                    \n",
              "                if (document.getElementById(\"fe676327-6726-4a65-be9c-404f6691c833\")) {\n",
              "                    Plotly.newPlot(\n",
              "                        'fe676327-6726-4a65-be9c-404f6691c833',\n",
              "                        [{\"marker\": {\"color\": \"black\", \"size\": 4}, \"mode\": \"markers\", \"name\": \"Actual\", \"type\": \"scatter\", \"x\": [\"2020-03-09T00:00:00\", \"2020-03-13T00:00:00\", \"2020-03-14T00:00:00\", \"2020-03-15T00:00:00\", \"2020-03-16T00:00:00\", \"2020-03-17T00:00:00\", \"2020-03-18T00:00:00\", \"2020-03-19T00:00:00\", \"2020-03-20T00:00:00\", \"2020-03-21T00:00:00\", \"2020-03-22T00:00:00\", \"2020-03-23T00:00:00\", \"2020-03-24T00:00:00\", \"2020-03-25T00:00:00\", \"2020-03-26T00:00:00\", \"2020-03-27T00:00:00\", \"2020-03-28T00:00:00\", \"2020-03-29T00:00:00\", \"2020-03-30T00:00:00\", \"2020-03-30T00:00:00\", \"2020-03-31T00:00:00\", \"2020-04-01T00:00:00\", \"2020-04-02T00:00:00\", \"2020-04-03T00:00:00\", \"2020-04-04T00:00:00\", \"2020-04-04T00:00:00\", \"2020-04-04T00:00:00\", \"2020-04-05T00:00:00\", \"2020-04-05T00:00:00\", \"2020-04-06T00:00:00\", \"2020-04-07T00:00:00\", \"2020-04-08T00:00:00\", \"2020-04-08T00:00:00\", \"2020-04-08T00:00:00\", \"2020-04-09T00:00:00\", \"2020-04-09T00:00:00\", \"2020-04-09T00:00:00\", \"2020-04-10T00:00:00\", \"2020-04-11T00:00:00\", \"2020-04-12T00:00:00\", \"2020-04-12T00:00:00\", \"2020-04-13T00:00:00\", \"2020-04-13T00:00:00\", \"2020-04-14T00:00:00\", \"2020-04-14T00:00:00\", \"2020-04-15T00:00:00\", \"2020-04-15T00:00:00\", \"2020-04-16T00:00:00\", \"2020-04-17T00:00:00\", \"2020-04-18T00:00:00\", \"2020-04-18T00:00:00\", \"2020-04-18T00:00:00\", \"2020-04-19T00:00:00\", \"2020-04-19T00:00:00\", \"2020-04-19T00:00:00\", \"2020-04-20T00:00:00\", \"2020-04-21T00:00:00\", \"2020-04-21T00:00:00\", \"2020-04-22T00:00:00\", \"2020-04-22T00:00:00\", \"2020-04-23T00:00:00\", \"2020-04-23T00:00:00\", \"2020-04-23T00:00:00\", \"2020-04-23T00:00:00\", \"2020-04-23T00:00:00\", \"2020-04-23T00:00:00\", \"2020-04-23T00:00:00\", \"2020-04-24T00:00:00\", \"2020-04-24T00:00:00\", \"2020-04-24T00:00:00\", \"2020-04-24T00:00:00\", \"2020-04-24T00:00:00\", \"2020-04-25T00:00:00\", \"2020-04-25T00:00:00\", \"2020-04-25T00:00:00\", \"2020-04-25T00:00:00\", \"2020-04-26T00:00:00\", \"2020-04-26T00:00:00\", \"2020-04-26T00:00:00\", \"2020-04-26T00:00:00\", \"2020-04-26T00:00:00\", \"2020-04-26T00:00:00\", \"2020-04-27T00:00:00\", \"2020-04-27T00:00:00\", \"2020-04-27T00:00:00\", \"2020-04-27T00:00:00\", \"2020-04-27T00:00:00\", \"2020-04-28T00:00:00\", \"2020-04-28T00:00:00\", \"2020-04-28T00:00:00\", \"2020-04-28T00:00:00\", \"2020-04-28T00:00:00\", \"2020-04-29T00:00:00\", \"2020-04-29T00:00:00\", \"2020-04-29T00:00:00\", \"2020-04-29T00:00:00\", \"2020-04-29T00:00:00\", \"2020-04-30T00:00:00\", \"2020-04-30T00:00:00\", \"2020-04-30T00:00:00\", \"2020-04-30T00:00:00\", \"2020-04-30T00:00:00\", \"2020-04-30T00:00:00\", \"2020-05-01T00:00:00\", \"2020-05-01T00:00:00\", \"2020-05-01T00:00:00\", \"2020-05-02T00:00:00\", \"2020-05-02T00:00:00\", \"2020-05-02T00:00:00\", \"2020-05-02T00:00:00\", \"2020-05-02T00:00:00\", \"2020-05-03T00:00:00\", \"2020-05-03T00:00:00\", \"2020-05-03T00:00:00\", \"2020-05-03T00:00:00\", \"2020-05-03T00:00:00\", \"2020-05-03T00:00:00\", \"2020-05-04T00:00:00\", \"2020-05-04T00:00:00\", \"2020-05-04T00:00:00\", \"2020-05-04T00:00:00\", \"2020-05-04T00:00:00\", \"2020-05-05T00:00:00\", \"2020-05-05T00:00:00\", \"2020-05-05T00:00:00\", \"2020-05-05T00:00:00\", \"2020-05-05T00:00:00\", \"2020-05-06T00:00:00\", \"2020-05-06T00:00:00\", \"2020-05-06T00:00:00\", \"2020-05-06T00:00:00\", \"2020-05-07T00:00:00\", \"2020-05-07T00:00:00\", \"2020-05-07T00:00:00\", \"2020-05-07T00:00:00\", \"2020-05-07T00:00:00\", \"2020-05-07T00:00:00\", \"2020-05-07T00:00:00\", \"2020-05-08T00:00:00\", \"2020-05-08T00:00:00\", \"2020-05-08T00:00:00\", \"2020-05-08T00:00:00\", \"2020-05-09T00:00:00\", \"2020-05-09T00:00:00\", \"2020-05-09T00:00:00\", \"2020-05-09T00:00:00\", \"2020-05-09T00:00:00\", \"2020-05-09T00:00:00\", \"2020-05-09T00:00:00\", \"2020-05-09T00:00:00\", \"2020-05-09T00:00:00\", \"2020-05-10T00:00:00\", \"2020-05-10T00:00:00\", \"2020-05-10T00:00:00\", \"2020-05-10T00:00:00\", \"2020-05-10T00:00:00\", \"2020-05-11T00:00:00\", \"2020-05-11T00:00:00\", \"2020-05-11T00:00:00\", \"2020-05-11T00:00:00\", \"2020-05-11T00:00:00\", \"2020-05-11T00:00:00\", \"2020-05-11T00:00:00\", \"2020-05-11T00:00:00\", \"2020-05-11T00:00:00\", \"2020-05-11T00:00:00\", \"2020-05-11T00:00:00\", \"2020-05-12T00:00:00\", \"2020-05-12T00:00:00\", \"2020-05-12T00:00:00\", \"2020-05-12T00:00:00\", \"2020-05-12T00:00:00\", \"2020-05-12T00:00:00\", \"2020-05-12T00:00:00\", \"2020-05-12T00:00:00\", \"2020-05-12T00:00:00\", \"2020-05-12T00:00:00\", \"2020-05-12T00:00:00\", \"2020-05-12T00:00:00\", \"2020-05-12T00:00:00\", \"2020-05-12T00:00:00\", \"2020-05-13T00:00:00\", \"2020-05-13T00:00:00\", \"2020-05-13T00:00:00\", \"2020-05-13T00:00:00\", \"2020-05-13T00:00:00\", \"2020-05-13T00:00:00\", \"2020-05-13T00:00:00\", \"2020-05-13T00:00:00\", \"2020-05-13T00:00:00\", \"2020-05-13T00:00:00\", \"2020-05-14T00:00:00\", \"2020-05-14T00:00:00\", \"2020-05-14T00:00:00\", \"2020-05-14T00:00:00\", \"2020-05-14T00:00:00\", \"2020-05-14T00:00:00\", \"2020-05-14T00:00:00\", \"2020-05-14T00:00:00\", \"2020-05-14T00:00:00\", \"2020-05-14T00:00:00\", \"2020-05-14T00:00:00\", \"2020-05-14T00:00:00\", \"2020-05-15T00:00:00\", \"2020-05-15T00:00:00\", \"2020-05-15T00:00:00\", \"2020-05-15T00:00:00\", \"2020-05-15T00:00:00\", \"2020-05-15T00:00:00\", \"2020-05-15T00:00:00\", \"2020-05-15T00:00:00\", \"2020-05-15T00:00:00\", \"2020-05-15T00:00:00\", \"2020-05-15T00:00:00\", \"2020-05-15T00:00:00\", \"2020-05-15T00:00:00\", \"2020-05-15T00:00:00\", \"2020-05-15T00:00:00\", \"2020-05-15T00:00:00\", \"2020-05-16T00:00:00\", \"2020-05-16T00:00:00\", \"2020-05-16T00:00:00\", \"2020-05-16T00:00:00\", \"2020-05-16T00:00:00\", \"2020-05-16T00:00:00\", \"2020-05-16T00:00:00\", \"2020-05-16T00:00:00\", \"2020-05-16T00:00:00\", \"2020-05-16T00:00:00\", \"2020-05-16T00:00:00\", \"2020-05-16T00:00:00\", \"2020-05-16T00:00:00\", \"2020-05-16T00:00:00\", \"2020-05-16T00:00:00\", \"2020-05-16T00:00:00\", \"2020-05-16T00:00:00\", \"2020-05-17T00:00:00\", \"2020-05-17T00:00:00\", \"2020-05-17T00:00:00\", \"2020-05-17T00:00:00\", \"2020-05-17T00:00:00\", \"2020-05-17T00:00:00\", \"2020-05-17T00:00:00\", \"2020-05-17T00:00:00\", \"2020-05-17T00:00:00\", \"2020-05-17T00:00:00\", \"2020-05-17T00:00:00\", \"2020-05-17T00:00:00\", \"2020-05-17T00:00:00\", \"2020-05-17T00:00:00\", \"2020-05-17T00:00:00\", \"2020-05-17T00:00:00\", \"2020-05-17T00:00:00\", \"2020-05-17T00:00:00\", \"2020-05-17T00:00:00\", \"2020-05-17T00:00:00\", \"2020-05-18T00:00:00\", \"2020-05-18T00:00:00\", \"2020-05-18T00:00:00\", \"2020-05-18T00:00:00\", \"2020-05-18T00:00:00\", \"2020-05-18T00:00:00\", \"2020-05-18T00:00:00\", \"2020-05-18T00:00:00\", \"2020-05-18T00:00:00\", \"2020-05-18T00:00:00\", \"2020-05-18T00:00:00\", \"2020-05-18T00:00:00\", \"2020-05-18T00:00:00\", \"2020-05-18T00:00:00\", \"2020-05-19T00:00:00\", \"2020-05-19T00:00:00\", \"2020-05-19T00:00:00\", \"2020-05-19T00:00:00\", \"2020-05-19T00:00:00\", \"2020-05-19T00:00:00\", \"2020-05-19T00:00:00\", \"2020-05-19T00:00:00\", \"2020-05-19T00:00:00\", \"2020-05-19T00:00:00\", \"2020-05-19T00:00:00\", \"2020-05-19T00:00:00\", \"2020-05-19T00:00:00\", \"2020-05-19T00:00:00\", \"2020-05-19T00:00:00\", \"2020-05-19T00:00:00\", \"2020-05-20T00:00:00\", \"2020-05-20T00:00:00\", \"2020-05-20T00:00:00\", \"2020-05-20T00:00:00\", \"2020-05-20T00:00:00\", \"2020-05-20T00:00:00\", \"2020-05-20T00:00:00\", \"2020-05-20T00:00:00\", \"2020-05-20T00:00:00\", \"2020-05-20T00:00:00\", \"2020-05-20T00:00:00\", \"2020-05-20T00:00:00\", \"2020-05-20T00:00:00\", \"2020-05-20T00:00:00\", \"2020-05-20T00:00:00\", \"2020-05-20T00:00:00\", \"2020-05-20T00:00:00\", \"2020-05-21T00:00:00\", \"2020-05-21T00:00:00\", \"2020-05-21T00:00:00\", \"2020-05-21T00:00:00\", \"2020-05-21T00:00:00\", \"2020-05-21T00:00:00\", \"2020-05-21T00:00:00\", \"2020-05-21T00:00:00\", \"2020-05-21T00:00:00\", \"2020-05-21T00:00:00\", \"2020-05-21T00:00:00\", \"2020-05-21T00:00:00\", \"2020-05-21T00:00:00\", \"2020-05-21T00:00:00\", \"2020-05-21T00:00:00\", \"2020-05-21T00:00:00\", \"2020-05-21T00:00:00\", \"2020-05-21T00:00:00\", \"2020-05-22T00:00:00\", \"2020-05-22T00:00:00\", \"2020-05-22T00:00:00\", \"2020-05-22T00:00:00\", \"2020-05-22T00:00:00\", \"2020-05-22T00:00:00\", \"2020-05-22T00:00:00\", \"2020-05-22T00:00:00\", \"2020-05-22T00:00:00\", \"2020-05-22T00:00:00\", \"2020-05-22T00:00:00\", \"2020-05-22T00:00:00\", \"2020-05-22T00:00:00\", \"2020-05-22T00:00:00\", \"2020-05-22T00:00:00\", \"2020-05-22T00:00:00\", \"2020-05-23T00:00:00\", \"2020-05-23T00:00:00\", \"2020-05-23T00:00:00\", \"2020-05-23T00:00:00\", \"2020-05-23T00:00:00\", \"2020-05-23T00:00:00\", \"2020-05-23T00:00:00\", \"2020-05-23T00:00:00\", \"2020-05-23T00:00:00\", \"2020-05-23T00:00:00\", \"2020-05-24T00:00:00\", \"2020-05-24T00:00:00\", \"2020-05-24T00:00:00\", \"2020-05-24T00:00:00\", \"2020-05-24T00:00:00\", \"2020-05-24T00:00:00\", \"2020-05-24T00:00:00\", \"2020-05-24T00:00:00\", \"2020-05-24T00:00:00\", \"2020-05-24T00:00:00\", \"2020-05-24T00:00:00\", \"2020-05-24T00:00:00\", \"2020-05-24T00:00:00\", \"2020-05-24T00:00:00\", \"2020-05-24T00:00:00\", \"2020-05-24T00:00:00\", \"2020-05-24T00:00:00\", \"2020-05-24T00:00:00\", \"2020-05-24T00:00:00\", \"2020-05-24T00:00:00\", \"2020-05-25T00:00:00\", \"2020-05-25T00:00:00\", \"2020-05-25T00:00:00\", \"2020-05-25T00:00:00\", \"2020-05-25T00:00:00\", \"2020-05-25T00:00:00\", \"2020-05-25T00:00:00\", \"2020-05-25T00:00:00\", \"2020-05-25T00:00:00\", \"2020-05-25T00:00:00\", \"2020-05-25T00:00:00\", \"2020-05-25T00:00:00\", \"2020-05-25T00:00:00\", \"2020-05-25T00:00:00\", \"2020-05-25T00:00:00\", \"2020-05-25T00:00:00\", \"2020-05-25T00:00:00\", \"2020-05-25T00:00:00\", \"2020-05-25T00:00:00\", \"2020-05-26T00:00:00\", \"2020-05-26T00:00:00\", \"2020-05-26T00:00:00\", \"2020-05-26T00:00:00\", \"2020-05-26T00:00:00\", \"2020-05-26T00:00:00\", \"2020-05-26T00:00:00\", \"2020-05-26T00:00:00\", \"2020-05-26T00:00:00\", \"2020-05-26T00:00:00\", \"2020-05-26T00:00:00\", \"2020-05-26T00:00:00\", \"2020-05-26T00:00:00\", \"2020-05-26T00:00:00\", \"2020-05-26T00:00:00\", \"2020-05-26T00:00:00\", \"2020-05-26T00:00:00\", \"2020-05-27T00:00:00\", \"2020-05-27T00:00:00\", \"2020-05-27T00:00:00\", \"2020-05-27T00:00:00\", \"2020-05-27T00:00:00\", \"2020-05-27T00:00:00\", \"2020-05-27T00:00:00\", \"2020-05-27T00:00:00\", \"2020-05-27T00:00:00\", \"2020-05-27T00:00:00\", \"2020-05-27T00:00:00\", \"2020-05-27T00:00:00\", \"2020-05-27T00:00:00\", \"2020-05-27T00:00:00\", \"2020-05-27T00:00:00\", \"2020-05-27T00:00:00\", \"2020-05-27T00:00:00\", \"2020-05-27T00:00:00\", \"2020-05-27T00:00:00\", \"2020-05-28T00:00:00\", \"2020-05-28T00:00:00\", \"2020-05-28T00:00:00\", \"2020-05-28T00:00:00\", \"2020-05-28T00:00:00\", \"2020-05-28T00:00:00\", \"2020-05-28T00:00:00\", \"2020-05-28T00:00:00\", \"2020-05-28T00:00:00\", \"2020-05-28T00:00:00\", \"2020-05-28T00:00:00\", \"2020-05-28T00:00:00\", \"2020-05-28T00:00:00\", \"2020-05-28T00:00:00\", \"2020-05-28T00:00:00\", \"2020-05-28T00:00:00\", \"2020-05-28T00:00:00\", \"2020-05-28T00:00:00\", \"2020-05-28T00:00:00\", \"2020-05-28T00:00:00\", \"2020-05-29T00:00:00\", \"2020-05-29T00:00:00\", \"2020-05-29T00:00:00\", \"2020-05-29T00:00:00\", \"2020-05-29T00:00:00\", \"2020-05-29T00:00:00\", \"2020-05-29T00:00:00\", \"2020-05-29T00:00:00\", \"2020-05-29T00:00:00\", \"2020-05-29T00:00:00\", \"2020-05-29T00:00:00\", \"2020-05-29T00:00:00\", \"2020-05-29T00:00:00\", \"2020-05-29T00:00:00\", \"2020-05-29T00:00:00\", \"2020-05-29T00:00:00\", \"2020-05-29T00:00:00\", \"2020-05-30T00:00:00\", \"2020-05-30T00:00:00\", \"2020-05-30T00:00:00\", \"2020-05-30T00:00:00\", \"2020-05-30T00:00:00\", \"2020-05-30T00:00:00\", \"2020-05-30T00:00:00\", \"2020-05-30T00:00:00\", \"2020-05-30T00:00:00\", \"2020-05-30T00:00:00\", \"2020-05-30T00:00:00\", \"2020-05-30T00:00:00\", \"2020-05-30T00:00:00\", \"2020-05-30T00:00:00\", \"2020-05-30T00:00:00\", \"2020-05-30T00:00:00\", \"2020-05-30T00:00:00\", \"2020-05-30T00:00:00\", \"2020-05-30T00:00:00\", \"2020-05-30T00:00:00\", \"2020-05-30T00:00:00\", \"2020-05-30T00:00:00\", \"2020-05-31T00:00:00\", \"2020-05-31T00:00:00\", \"2020-05-31T00:00:00\", \"2020-05-31T00:00:00\", \"2020-05-31T00:00:00\", \"2020-05-31T00:00:00\", \"2020-05-31T00:00:00\", \"2020-05-31T00:00:00\", \"2020-05-31T00:00:00\", \"2020-05-31T00:00:00\", \"2020-05-31T00:00:00\", \"2020-05-31T00:00:00\", \"2020-05-31T00:00:00\", \"2020-05-31T00:00:00\", \"2020-05-31T00:00:00\", \"2020-05-31T00:00:00\", \"2020-05-31T00:00:00\", \"2020-05-31T00:00:00\", \"2020-05-31T00:00:00\", \"2020-05-31T00:00:00\", \"2020-05-31T00:00:00\", \"2020-05-31T00:00:00\", \"2020-05-31T00:00:00\", \"2020-05-31T00:00:00\", \"2020-06-01T00:00:00\", \"2020-06-01T00:00:00\", \"2020-06-01T00:00:00\", \"2020-06-01T00:00:00\", \"2020-06-01T00:00:00\", \"2020-06-01T00:00:00\", \"2020-06-01T00:00:00\", \"2020-06-01T00:00:00\", \"2020-06-01T00:00:00\", \"2020-06-01T00:00:00\", \"2020-06-01T00:00:00\", \"2020-06-01T00:00:00\", \"2020-06-02T00:00:00\", \"2020-06-02T00:00:00\", \"2020-06-02T00:00:00\", \"2020-06-02T00:00:00\", \"2020-06-02T00:00:00\", \"2020-06-02T00:00:00\", \"2020-06-02T00:00:00\", \"2020-06-02T00:00:00\", \"2020-06-02T00:00:00\", \"2020-06-02T00:00:00\", \"2020-06-02T00:00:00\", \"2020-06-02T00:00:00\", \"2020-06-02T00:00:00\", \"2020-06-02T00:00:00\", \"2020-06-02T00:00:00\", \"2020-06-03T00:00:00\", \"2020-06-03T00:00:00\", \"2020-06-03T00:00:00\", \"2020-06-03T00:00:00\", \"2020-06-03T00:00:00\", \"2020-06-03T00:00:00\", \"2020-06-03T00:00:00\", \"2020-06-03T00:00:00\", \"2020-06-03T00:00:00\", \"2020-06-03T00:00:00\", \"2020-06-03T00:00:00\", \"2020-06-03T00:00:00\", \"2020-06-03T00:00:00\", \"2020-06-03T00:00:00\", \"2020-06-03T00:00:00\", \"2020-06-03T00:00:00\", \"2020-06-03T00:00:00\", \"2020-06-03T00:00:00\", \"2020-06-03T00:00:00\", \"2020-06-03T00:00:00\", \"2020-06-03T00:00:00\", \"2020-06-03T00:00:00\", \"2020-06-03T00:00:00\", \"2020-06-03T00:00:00\", \"2020-06-03T00:00:00\", \"2020-06-04T00:00:00\", \"2020-06-04T00:00:00\", \"2020-06-04T00:00:00\", \"2020-06-04T00:00:00\", \"2020-06-04T00:00:00\", \"2020-06-04T00:00:00\", \"2020-06-04T00:00:00\", \"2020-06-04T00:00:00\", \"2020-06-04T00:00:00\", \"2020-06-04T00:00:00\", \"2020-06-04T00:00:00\", \"2020-06-04T00:00:00\", \"2020-06-04T00:00:00\", \"2020-06-04T00:00:00\", \"2020-06-04T00:00:00\", \"2020-06-04T00:00:00\", \"2020-06-04T00:00:00\", \"2020-06-04T00:00:00\", \"2020-06-04T00:00:00\", \"2020-06-05T00:00:00\", \"2020-06-05T00:00:00\", \"2020-06-05T00:00:00\", \"2020-06-05T00:00:00\", \"2020-06-05T00:00:00\", \"2020-06-05T00:00:00\", \"2020-06-05T00:00:00\", \"2020-06-05T00:00:00\", \"2020-06-05T00:00:00\", \"2020-06-05T00:00:00\", \"2020-06-05T00:00:00\", \"2020-06-05T00:00:00\", \"2020-06-05T00:00:00\", \"2020-06-05T00:00:00\", \"2020-06-05T00:00:00\", \"2020-06-05T00:00:00\", \"2020-06-05T00:00:00\", \"2020-06-05T00:00:00\", \"2020-06-05T00:00:00\", \"2020-06-05T00:00:00\", \"2020-06-05T00:00:00\", \"2020-06-05T00:00:00\", \"2020-06-05T00:00:00\", \"2020-06-05T00:00:00\", \"2020-06-06T00:00:00\", \"2020-06-06T00:00:00\", \"2020-06-06T00:00:00\", \"2020-06-06T00:00:00\", \"2020-06-06T00:00:00\", \"2020-06-06T00:00:00\", \"2020-06-06T00:00:00\", \"2020-06-06T00:00:00\", \"2020-06-06T00:00:00\", \"2020-06-06T00:00:00\", \"2020-06-06T00:00:00\", \"2020-06-06T00:00:00\", \"2020-06-06T00:00:00\", \"2020-06-06T00:00:00\", \"2020-06-06T00:00:00\", \"2020-06-06T00:00:00\", \"2020-06-06T00:00:00\", \"2020-06-06T00:00:00\", \"2020-06-06T00:00:00\", \"2020-06-06T00:00:00\", \"2020-06-06T00:00:00\", \"2020-06-06T00:00:00\", \"2020-06-07T00:00:00\", \"2020-06-07T00:00:00\", \"2020-06-07T00:00:00\", \"2020-06-07T00:00:00\", \"2020-06-07T00:00:00\", \"2020-06-07T00:00:00\", \"2020-06-07T00:00:00\", \"2020-06-07T00:00:00\", \"2020-06-07T00:00:00\", \"2020-06-07T00:00:00\", \"2020-06-07T00:00:00\", \"2020-06-07T00:00:00\", \"2020-06-07T00:00:00\", \"2020-06-07T00:00:00\", \"2020-06-07T00:00:00\", \"2020-06-08T00:00:00\", \"2020-06-08T00:00:00\", \"2020-06-08T00:00:00\", \"2020-06-08T00:00:00\", \"2020-06-08T00:00:00\", \"2020-06-08T00:00:00\", \"2020-06-08T00:00:00\", \"2020-06-08T00:00:00\", \"2020-06-08T00:00:00\", \"2020-06-08T00:00:00\", \"2020-06-08T00:00:00\", \"2020-06-08T00:00:00\", \"2020-06-08T00:00:00\", \"2020-06-08T00:00:00\", \"2020-06-08T00:00:00\", \"2020-06-08T00:00:00\", \"2020-06-08T00:00:00\", \"2020-06-08T00:00:00\", \"2020-06-08T00:00:00\", \"2020-06-08T00:00:00\", \"2020-06-08T00:00:00\", \"2020-06-08T00:00:00\", \"2020-06-08T00:00:00\", \"2020-06-09T00:00:00\", \"2020-06-09T00:00:00\", \"2020-06-09T00:00:00\", \"2020-06-09T00:00:00\", \"2020-06-09T00:00:00\", \"2020-06-09T00:00:00\", \"2020-06-09T00:00:00\", \"2020-06-09T00:00:00\", \"2020-06-09T00:00:00\", \"2020-06-09T00:00:00\", \"2020-06-09T00:00:00\", \"2020-06-09T00:00:00\", \"2020-06-09T00:00:00\", \"2020-06-09T00:00:00\", \"2020-06-09T00:00:00\", \"2020-06-09T00:00:00\", \"2020-06-09T00:00:00\", \"2020-06-09T00:00:00\", \"2020-06-09T00:00:00\", \"2020-06-09T00:00:00\", \"2020-06-09T00:00:00\", \"2020-06-09T00:00:00\", \"2020-06-09T00:00:00\", \"2020-06-10T00:00:00\", \"2020-06-10T00:00:00\", \"2020-06-10T00:00:00\", \"2020-06-10T00:00:00\", \"2020-06-10T00:00:00\", \"2020-06-10T00:00:00\", \"2020-06-10T00:00:00\", \"2020-06-10T00:00:00\", \"2020-06-10T00:00:00\", \"2020-06-10T00:00:00\", \"2020-06-10T00:00:00\", \"2020-06-10T00:00:00\", \"2020-06-10T00:00:00\", \"2020-06-10T00:00:00\", \"2020-06-10T00:00:00\", \"2020-06-10T00:00:00\", \"2020-06-10T00:00:00\", \"2020-06-10T00:00:00\", \"2020-06-10T00:00:00\", \"2020-06-10T00:00:00\", \"2020-06-10T00:00:00\", \"2020-06-10T00:00:00\", \"2020-06-10T00:00:00\", \"2020-06-10T00:00:00\", \"2020-06-10T00:00:00\", \"2020-06-10T00:00:00\", \"2020-06-10T00:00:00\", \"2020-06-10T00:00:00\", \"2020-06-10T00:00:00\", \"2020-06-10T00:00:00\", \"2020-06-11T00:00:00\", \"2020-06-11T00:00:00\", \"2020-06-11T00:00:00\", \"2020-06-11T00:00:00\", \"2020-06-11T00:00:00\", \"2020-06-11T00:00:00\", \"2020-06-11T00:00:00\", \"2020-06-11T00:00:00\", \"2020-06-11T00:00:00\", \"2020-06-11T00:00:00\", \"2020-06-11T00:00:00\", \"2020-06-11T00:00:00\", \"2020-06-11T00:00:00\", \"2020-06-11T00:00:00\", \"2020-06-11T00:00:00\", \"2020-06-11T00:00:00\", \"2020-06-11T00:00:00\", \"2020-06-11T00:00:00\", \"2020-06-11T00:00:00\", \"2020-06-11T00:00:00\", \"2020-06-11T00:00:00\", \"2020-06-11T00:00:00\", \"2020-06-11T00:00:00\", \"2020-06-11T00:00:00\", \"2020-06-11T00:00:00\", \"2020-06-11T00:00:00\", \"2020-06-11T00:00:00\", \"2020-06-11T00:00:00\", \"2020-06-11T00:00:00\", \"2020-06-12T00:00:00\", \"2020-06-12T00:00:00\", \"2020-06-12T00:00:00\", \"2020-06-12T00:00:00\", \"2020-06-12T00:00:00\", \"2020-06-12T00:00:00\", \"2020-06-12T00:00:00\", \"2020-06-12T00:00:00\", \"2020-06-12T00:00:00\", \"2020-06-12T00:00:00\", \"2020-06-12T00:00:00\", \"2020-06-12T00:00:00\", \"2020-06-12T00:00:00\", \"2020-06-12T00:00:00\", \"2020-06-12T00:00:00\", \"2020-06-12T00:00:00\", \"2020-06-12T00:00:00\", \"2020-06-12T00:00:00\", \"2020-06-12T00:00:00\", \"2020-06-12T00:00:00\", \"2020-06-12T00:00:00\", \"2020-06-13T00:00:00\", \"2020-06-13T00:00:00\", \"2020-06-13T00:00:00\", \"2020-06-13T00:00:00\", \"2020-06-13T00:00:00\", \"2020-06-13T00:00:00\", \"2020-06-13T00:00:00\", \"2020-06-13T00:00:00\", \"2020-06-13T00:00:00\", \"2020-06-13T00:00:00\", \"2020-06-13T00:00:00\", \"2020-06-13T00:00:00\", \"2020-06-13T00:00:00\", \"2020-06-13T00:00:00\", \"2020-06-13T00:00:00\", \"2020-06-13T00:00:00\", \"2020-06-13T00:00:00\", \"2020-06-13T00:00:00\", \"2020-06-13T00:00:00\", \"2020-06-13T00:00:00\", \"2020-06-13T00:00:00\", \"2020-06-13T00:00:00\", \"2020-06-13T00:00:00\", \"2020-06-13T00:00:00\", \"2020-06-13T00:00:00\", \"2020-06-13T00:00:00\", \"2020-06-13T00:00:00\", \"2020-06-13T00:00:00\", \"2020-06-13T00:00:00\", \"2020-06-14T00:00:00\", \"2020-06-14T00:00:00\", \"2020-06-14T00:00:00\", \"2020-06-14T00:00:00\", \"2020-06-14T00:00:00\", \"2020-06-14T00:00:00\", \"2020-06-14T00:00:00\", \"2020-06-14T00:00:00\", \"2020-06-14T00:00:00\", \"2020-06-14T00:00:00\", \"2020-06-14T00:00:00\", \"2020-06-14T00:00:00\", \"2020-06-14T00:00:00\", \"2020-06-14T00:00:00\", \"2020-06-14T00:00:00\", \"2020-06-14T00:00:00\", \"2020-06-14T00:00:00\", \"2020-06-14T00:00:00\", \"2020-06-14T00:00:00\", \"2020-06-14T00:00:00\", \"2020-06-14T00:00:00\", \"2020-06-14T00:00:00\", \"2020-06-14T00:00:00\", \"2020-06-14T00:00:00\", \"2020-06-14T00:00:00\", \"2020-06-14T00:00:00\", \"2020-06-14T00:00:00\", \"2020-06-14T00:00:00\", \"2020-06-14T00:00:00\", \"2020-06-14T00:00:00\", \"2020-06-15T00:00:00\", \"2020-06-15T00:00:00\", \"2020-06-15T00:00:00\", \"2020-06-15T00:00:00\", \"2020-06-15T00:00:00\", \"2020-06-15T00:00:00\", \"2020-06-15T00:00:00\", \"2020-06-15T00:00:00\", \"2020-06-15T00:00:00\", \"2020-06-15T00:00:00\", \"2020-06-15T00:00:00\", \"2020-06-15T00:00:00\", \"2020-06-15T00:00:00\", \"2020-06-15T00:00:00\", \"2020-06-15T00:00:00\", \"2020-06-15T00:00:00\", \"2020-06-15T00:00:00\", \"2020-06-15T00:00:00\", \"2020-06-15T00:00:00\", \"2020-06-15T00:00:00\", \"2020-06-15T00:00:00\", \"2020-06-15T00:00:00\", \"2020-06-16T00:00:00\", \"2020-06-16T00:00:00\", \"2020-06-16T00:00:00\", \"2020-06-16T00:00:00\", \"2020-06-16T00:00:00\", \"2020-06-16T00:00:00\", \"2020-06-16T00:00:00\", \"2020-06-16T00:00:00\", \"2020-06-16T00:00:00\", \"2020-06-16T00:00:00\", \"2020-06-16T00:00:00\", \"2020-06-16T00:00:00\", \"2020-06-16T00:00:00\", \"2020-06-16T00:00:00\", \"2020-06-16T00:00:00\", \"2020-06-16T00:00:00\", \"2020-06-16T00:00:00\", \"2020-06-16T00:00:00\", \"2020-06-16T00:00:00\", \"2020-06-16T00:00:00\", \"2020-06-16T00:00:00\", \"2020-06-16T00:00:00\", \"2020-06-16T00:00:00\", \"2020-06-16T00:00:00\", \"2020-06-16T00:00:00\", \"2020-06-17T00:00:00\", \"2020-06-17T00:00:00\", \"2020-06-17T00:00:00\", \"2020-06-17T00:00:00\", \"2020-06-17T00:00:00\", \"2020-06-17T00:00:00\", \"2020-06-17T00:00:00\", \"2020-06-17T00:00:00\", \"2020-06-17T00:00:00\", \"2020-06-17T00:00:00\", \"2020-06-17T00:00:00\", \"2020-06-17T00:00:00\", \"2020-06-17T00:00:00\", \"2020-06-17T00:00:00\", \"2020-06-17T00:00:00\", \"2020-06-17T00:00:00\", \"2020-06-17T00:00:00\", \"2020-06-17T00:00:00\", \"2020-06-17T00:00:00\", \"2020-06-17T00:00:00\", \"2020-06-17T00:00:00\", \"2020-06-17T00:00:00\", \"2020-06-17T00:00:00\", \"2020-06-17T00:00:00\", \"2020-06-17T00:00:00\", \"2020-06-17T00:00:00\", \"2020-06-17T00:00:00\", \"2020-06-18T00:00:00\", \"2020-06-18T00:00:00\", \"2020-06-18T00:00:00\", \"2020-06-18T00:00:00\", \"2020-06-18T00:00:00\", \"2020-06-18T00:00:00\", \"2020-06-18T00:00:00\", \"2020-06-18T00:00:00\", \"2020-06-18T00:00:00\", \"2020-06-18T00:00:00\", \"2020-06-18T00:00:00\", \"2020-06-18T00:00:00\", \"2020-06-18T00:00:00\", \"2020-06-18T00:00:00\", \"2020-06-18T00:00:00\", \"2020-06-18T00:00:00\", \"2020-06-18T00:00:00\", \"2020-06-18T00:00:00\", \"2020-06-18T00:00:00\", \"2020-06-18T00:00:00\", \"2020-06-18T00:00:00\", \"2020-06-18T00:00:00\", \"2020-06-18T00:00:00\", \"2020-06-18T00:00:00\", \"2020-06-18T00:00:00\", \"2020-06-18T00:00:00\", \"2020-06-18T00:00:00\", \"2020-06-18T00:00:00\", \"2020-06-18T00:00:00\", \"2020-06-19T00:00:00\", \"2020-06-19T00:00:00\", \"2020-06-19T00:00:00\", \"2020-06-19T00:00:00\", \"2020-06-19T00:00:00\", \"2020-06-19T00:00:00\", \"2020-06-19T00:00:00\", \"2020-06-19T00:00:00\", \"2020-06-19T00:00:00\", \"2020-06-19T00:00:00\", \"2020-06-19T00:00:00\", \"2020-06-19T00:00:00\", \"2020-06-19T00:00:00\", \"2020-06-19T00:00:00\", \"2020-06-19T00:00:00\", \"2020-06-19T00:00:00\", \"2020-06-19T00:00:00\", \"2020-06-19T00:00:00\", \"2020-06-19T00:00:00\", \"2020-06-19T00:00:00\", \"2020-06-19T00:00:00\", \"2020-06-19T00:00:00\", \"2020-06-19T00:00:00\", \"2020-06-19T00:00:00\", \"2020-06-19T00:00:00\", \"2020-06-20T00:00:00\", \"2020-06-20T00:00:00\", \"2020-06-20T00:00:00\", \"2020-06-20T00:00:00\", \"2020-06-20T00:00:00\", \"2020-06-20T00:00:00\", \"2020-06-20T00:00:00\", \"2020-06-20T00:00:00\", \"2020-06-20T00:00:00\", \"2020-06-20T00:00:00\", \"2020-06-20T00:00:00\", \"2020-06-20T00:00:00\", \"2020-06-20T00:00:00\", \"2020-06-20T00:00:00\", \"2020-06-20T00:00:00\", \"2020-06-20T00:00:00\", \"2020-06-20T00:00:00\", \"2020-06-20T00:00:00\", \"2020-06-20T00:00:00\", \"2020-06-20T00:00:00\", \"2020-06-20T00:00:00\", \"2020-06-20T00:00:00\", \"2020-06-20T00:00:00\", \"2020-06-20T00:00:00\", \"2020-06-20T00:00:00\", \"2020-06-20T00:00:00\", \"2020-06-20T00:00:00\", \"2020-06-21T00:00:00\", \"2020-06-21T00:00:00\", \"2020-06-21T00:00:00\", \"2020-06-21T00:00:00\", \"2020-06-21T00:00:00\", \"2020-06-21T00:00:00\", \"2020-06-21T00:00:00\", \"2020-06-21T00:00:00\", \"2020-06-21T00:00:00\", \"2020-06-21T00:00:00\", \"2020-06-21T00:00:00\", \"2020-06-21T00:00:00\", \"2020-06-21T00:00:00\", \"2020-06-21T00:00:00\", \"2020-06-21T00:00:00\", \"2020-06-21T00:00:00\", \"2020-06-21T00:00:00\", \"2020-06-21T00:00:00\", \"2020-06-21T00:00:00\", \"2020-06-21T00:00:00\", \"2020-06-21T00:00:00\", \"2020-06-21T00:00:00\", \"2020-06-21T00:00:00\", \"2020-06-21T00:00:00\", \"2020-06-21T00:00:00\", \"2020-06-21T00:00:00\", \"2020-06-21T00:00:00\", \"2020-06-22T00:00:00\", \"2020-06-22T00:00:00\", \"2020-06-22T00:00:00\", \"2020-06-22T00:00:00\", \"2020-06-22T00:00:00\", \"2020-06-22T00:00:00\", \"2020-06-22T00:00:00\", \"2020-06-22T00:00:00\", \"2020-06-22T00:00:00\", \"2020-06-22T00:00:00\", \"2020-06-22T00:00:00\", \"2020-06-22T00:00:00\", \"2020-06-22T00:00:00\", \"2020-06-22T00:00:00\", \"2020-06-22T00:00:00\", \"2020-06-22T00:00:00\", \"2020-06-22T00:00:00\", \"2020-06-22T00:00:00\", \"2020-06-22T00:00:00\", \"2020-06-22T00:00:00\", \"2020-06-22T00:00:00\", \"2020-06-22T00:00:00\", \"2020-06-22T00:00:00\", \"2020-06-22T00:00:00\", \"2020-06-22T00:00:00\", \"2020-06-22T00:00:00\", \"2020-06-22T00:00:00\", \"2020-06-22T00:00:00\", \"2020-06-22T00:00:00\", \"2020-06-22T00:00:00\", \"2020-06-23T00:00:00\", \"2020-06-23T00:00:00\", \"2020-06-23T00:00:00\", \"2020-06-23T00:00:00\", \"2020-06-23T00:00:00\", \"2020-06-23T00:00:00\", \"2020-06-23T00:00:00\", \"2020-06-23T00:00:00\", \"2020-06-23T00:00:00\", \"2020-06-23T00:00:00\", \"2020-06-23T00:00:00\", \"2020-06-23T00:00:00\", \"2020-06-23T00:00:00\", \"2020-06-23T00:00:00\", \"2020-06-23T00:00:00\", \"2020-06-23T00:00:00\", \"2020-06-23T00:00:00\", \"2020-06-23T00:00:00\", \"2020-06-23T00:00:00\", \"2020-06-23T00:00:00\", \"2020-06-23T00:00:00\", \"2020-06-23T00:00:00\", \"2020-06-23T00:00:00\", \"2020-06-24T00:00:00\", \"2020-06-24T00:00:00\", \"2020-06-24T00:00:00\", \"2020-06-24T00:00:00\", \"2020-06-24T00:00:00\", \"2020-06-24T00:00:00\", \"2020-06-24T00:00:00\", \"2020-06-24T00:00:00\", \"2020-06-24T00:00:00\", \"2020-06-24T00:00:00\", \"2020-06-24T00:00:00\", \"2020-06-24T00:00:00\", \"2020-06-24T00:00:00\", \"2020-06-24T00:00:00\", \"2020-06-24T00:00:00\", \"2020-06-24T00:00:00\", \"2020-06-24T00:00:00\", \"2020-06-24T00:00:00\", \"2020-06-24T00:00:00\", \"2020-06-24T00:00:00\", \"2020-06-24T00:00:00\", \"2020-06-24T00:00:00\", \"2020-06-24T00:00:00\", \"2020-06-24T00:00:00\", \"2020-06-24T00:00:00\", \"2020-06-24T00:00:00\", \"2020-06-24T00:00:00\", \"2020-06-24T00:00:00\", \"2020-06-24T00:00:00\", \"2020-06-25T00:00:00\", \"2020-06-25T00:00:00\", \"2020-06-25T00:00:00\", \"2020-06-25T00:00:00\", \"2020-06-25T00:00:00\", \"2020-06-25T00:00:00\", \"2020-06-25T00:00:00\", \"2020-06-25T00:00:00\", \"2020-06-25T00:00:00\", \"2020-06-25T00:00:00\", \"2020-06-25T00:00:00\", \"2020-06-25T00:00:00\", \"2020-06-25T00:00:00\", \"2020-06-25T00:00:00\", \"2020-06-25T00:00:00\", \"2020-06-25T00:00:00\", \"2020-06-25T00:00:00\", \"2020-06-25T00:00:00\", \"2020-06-25T00:00:00\", \"2020-06-25T00:00:00\", \"2020-06-25T00:00:00\", \"2020-06-25T00:00:00\", \"2020-06-25T00:00:00\", \"2020-06-25T00:00:00\", \"2020-06-25T00:00:00\", \"2020-06-25T00:00:00\", \"2020-06-25T00:00:00\", \"2020-06-26T00:00:00\", \"2020-06-26T00:00:00\", \"2020-06-26T00:00:00\", \"2020-06-26T00:00:00\", \"2020-06-26T00:00:00\", \"2020-06-26T00:00:00\", \"2020-06-26T00:00:00\", \"2020-06-26T00:00:00\", \"2020-06-26T00:00:00\", \"2020-06-26T00:00:00\", \"2020-06-26T00:00:00\", \"2020-06-26T00:00:00\", \"2020-06-26T00:00:00\", \"2020-06-26T00:00:00\", \"2020-06-26T00:00:00\", \"2020-06-26T00:00:00\", \"2020-06-26T00:00:00\", \"2020-06-26T00:00:00\", \"2020-06-26T00:00:00\", \"2020-06-26T00:00:00\", \"2020-06-26T00:00:00\", \"2020-06-26T00:00:00\", \"2020-06-26T00:00:00\", \"2020-06-26T00:00:00\", \"2020-06-27T00:00:00\", \"2020-06-27T00:00:00\", \"2020-06-27T00:00:00\", \"2020-06-27T00:00:00\", \"2020-06-27T00:00:00\", \"2020-06-27T00:00:00\", \"2020-06-27T00:00:00\", \"2020-06-27T00:00:00\", \"2020-06-27T00:00:00\", \"2020-06-27T00:00:00\", \"2020-06-27T00:00:00\", \"2020-06-27T00:00:00\", \"2020-06-27T00:00:00\", \"2020-06-27T00:00:00\", \"2020-06-27T00:00:00\", \"2020-06-27T00:00:00\", \"2020-06-27T00:00:00\", \"2020-06-27T00:00:00\", \"2020-06-27T00:00:00\", \"2020-06-27T00:00:00\", \"2020-06-27T00:00:00\", \"2020-06-28T00:00:00\", \"2020-06-28T00:00:00\", \"2020-06-28T00:00:00\", \"2020-06-28T00:00:00\", \"2020-06-28T00:00:00\", \"2020-06-28T00:00:00\", \"2020-06-28T00:00:00\", \"2020-06-28T00:00:00\", \"2020-06-28T00:00:00\", \"2020-06-28T00:00:00\", \"2020-06-28T00:00:00\", \"2020-06-28T00:00:00\", \"2020-06-28T00:00:00\", \"2020-06-28T00:00:00\", \"2020-06-28T00:00:00\", \"2020-06-28T00:00:00\", \"2020-06-28T00:00:00\", \"2020-06-28T00:00:00\", \"2020-06-28T00:00:00\", \"2020-06-28T00:00:00\", \"2020-06-28T00:00:00\", \"2020-06-28T00:00:00\", \"2020-06-29T00:00:00\", \"2020-06-29T00:00:00\", \"2020-06-29T00:00:00\", \"2020-06-29T00:00:00\", \"2020-06-29T00:00:00\", \"2020-06-29T00:00:00\", \"2020-06-29T00:00:00\", \"2020-06-29T00:00:00\", \"2020-06-29T00:00:00\", \"2020-06-29T00:00:00\", \"2020-06-29T00:00:00\", \"2020-06-29T00:00:00\", \"2020-06-29T00:00:00\", \"2020-06-29T00:00:00\", \"2020-06-29T00:00:00\", \"2020-06-29T00:00:00\", \"2020-06-29T00:00:00\", \"2020-06-29T00:00:00\", \"2020-06-29T00:00:00\", \"2020-06-29T00:00:00\", \"2020-06-29T00:00:00\", \"2020-06-29T00:00:00\", \"2020-06-29T00:00:00\", \"2020-06-29T00:00:00\", \"2020-06-29T00:00:00\", \"2020-06-29T00:00:00\", \"2020-06-30T00:00:00\", \"2020-06-30T00:00:00\", \"2020-06-30T00:00:00\", \"2020-06-30T00:00:00\", \"2020-06-30T00:00:00\", \"2020-06-30T00:00:00\", \"2020-06-30T00:00:00\", \"2020-06-30T00:00:00\", \"2020-06-30T00:00:00\", \"2020-06-30T00:00:00\", \"2020-06-30T00:00:00\", \"2020-06-30T00:00:00\", \"2020-06-30T00:00:00\", \"2020-06-30T00:00:00\", \"2020-06-30T00:00:00\", \"2020-06-30T00:00:00\", \"2020-06-30T00:00:00\", \"2020-06-30T00:00:00\", \"2020-06-30T00:00:00\", \"2020-06-30T00:00:00\", \"2020-07-01T00:00:00\", \"2020-07-01T00:00:00\", \"2020-07-01T00:00:00\", \"2020-07-01T00:00:00\", \"2020-07-01T00:00:00\", \"2020-07-01T00:00:00\", \"2020-07-01T00:00:00\", \"2020-07-01T00:00:00\", \"2020-07-01T00:00:00\", \"2020-07-01T00:00:00\", \"2020-07-01T00:00:00\", \"2020-07-01T00:00:00\", \"2020-07-01T00:00:00\", \"2020-07-01T00:00:00\", \"2020-07-01T00:00:00\", \"2020-07-01T00:00:00\", \"2020-07-01T00:00:00\", \"2020-07-01T00:00:00\", \"2020-07-01T00:00:00\", \"2020-07-01T00:00:00\", \"2020-07-01T00:00:00\", \"2020-07-01T00:00:00\", \"2020-07-01T00:00:00\", \"2020-07-01T00:00:00\", \"2020-07-01T00:00:00\", \"2020-07-01T00:00:00\", \"2020-07-01T00:00:00\", \"2020-07-01T00:00:00\", \"2020-07-02T00:00:00\", \"2020-07-02T00:00:00\", \"2020-07-02T00:00:00\", \"2020-07-02T00:00:00\", \"2020-07-02T00:00:00\", \"2020-07-02T00:00:00\", \"2020-07-02T00:00:00\", \"2020-07-02T00:00:00\", \"2020-07-02T00:00:00\", \"2020-07-02T00:00:00\", \"2020-07-02T00:00:00\", \"2020-07-02T00:00:00\", \"2020-07-02T00:00:00\", \"2020-07-02T00:00:00\", \"2020-07-02T00:00:00\", \"2020-07-02T00:00:00\", \"2020-07-02T00:00:00\", \"2020-07-02T00:00:00\", \"2020-07-02T00:00:00\", \"2020-07-02T00:00:00\", \"2020-07-02T00:00:00\", \"2020-07-02T00:00:00\", \"2020-07-03T00:00:00\", \"2020-07-03T00:00:00\", \"2020-07-03T00:00:00\", \"2020-07-03T00:00:00\", \"2020-07-03T00:00:00\", \"2020-07-03T00:00:00\", \"2020-07-03T00:00:00\", \"2020-07-03T00:00:00\", \"2020-07-03T00:00:00\", \"2020-07-03T00:00:00\", \"2020-07-03T00:00:00\", \"2020-07-03T00:00:00\", \"2020-07-03T00:00:00\", \"2020-07-03T00:00:00\", \"2020-07-03T00:00:00\", \"2020-07-03T00:00:00\", \"2020-07-03T00:00:00\", \"2020-07-03T00:00:00\", \"2020-07-03T00:00:00\", \"2020-07-03T00:00:00\", \"2020-07-03T00:00:00\", \"2020-07-03T00:00:00\", \"2020-07-03T00:00:00\", \"2020-07-03T00:00:00\", \"2020-07-03T00:00:00\", \"2020-07-03T00:00:00\", \"2020-07-03T00:00:00\", \"2020-07-04T00:00:00\", \"2020-07-04T00:00:00\", \"2020-07-04T00:00:00\", \"2020-07-04T00:00:00\", \"2020-07-04T00:00:00\", \"2020-07-04T00:00:00\", \"2020-07-04T00:00:00\", \"2020-07-04T00:00:00\", \"2020-07-04T00:00:00\", \"2020-07-04T00:00:00\", \"2020-07-04T00:00:00\", \"2020-07-04T00:00:00\", \"2020-07-04T00:00:00\", \"2020-07-04T00:00:00\", \"2020-07-04T00:00:00\", \"2020-07-04T00:00:00\", \"2020-07-04T00:00:00\", \"2020-07-04T00:00:00\", \"2020-07-04T00:00:00\", \"2020-07-04T00:00:00\", \"2020-07-04T00:00:00\", \"2020-07-04T00:00:00\", \"2020-07-04T00:00:00\", \"2020-07-05T00:00:00\", \"2020-07-05T00:00:00\", \"2020-07-05T00:00:00\", \"2020-07-05T00:00:00\", \"2020-07-05T00:00:00\", \"2020-07-05T00:00:00\", \"2020-07-05T00:00:00\", \"2020-07-05T00:00:00\", \"2020-07-05T00:00:00\", \"2020-07-05T00:00:00\", \"2020-07-05T00:00:00\", \"2020-07-05T00:00:00\", \"2020-07-05T00:00:00\", \"2020-07-05T00:00:00\", \"2020-07-05T00:00:00\", \"2020-07-05T00:00:00\", \"2020-07-05T00:00:00\", \"2020-07-05T00:00:00\", \"2020-07-05T00:00:00\", \"2020-07-05T00:00:00\", \"2020-07-05T00:00:00\", \"2020-07-05T00:00:00\", \"2020-07-05T00:00:00\", \"2020-07-05T00:00:00\", \"2020-07-05T00:00:00\", \"2020-07-05T00:00:00\", \"2020-07-05T00:00:00\", \"2020-07-06T00:00:00\", \"2020-07-06T00:00:00\", \"2020-07-06T00:00:00\", \"2020-07-06T00:00:00\", \"2020-07-06T00:00:00\", \"2020-07-06T00:00:00\", \"2020-07-06T00:00:00\", \"2020-07-06T00:00:00\", \"2020-07-06T00:00:00\", \"2020-07-06T00:00:00\", \"2020-07-06T00:00:00\", \"2020-07-06T00:00:00\", \"2020-07-06T00:00:00\", \"2020-07-06T00:00:00\", \"2020-07-06T00:00:00\", \"2020-07-06T00:00:00\", \"2020-07-06T00:00:00\", \"2020-07-06T00:00:00\", \"2020-07-06T00:00:00\", \"2020-07-06T00:00:00\", \"2020-07-06T00:00:00\", \"2020-07-06T00:00:00\", \"2020-07-06T00:00:00\", \"2020-07-06T00:00:00\", \"2020-07-06T00:00:00\", \"2020-07-06T00:00:00\", \"2020-07-06T00:00:00\", \"2020-07-06T00:00:00\", \"2020-07-07T00:00:00\", \"2020-07-07T00:00:00\", \"2020-07-07T00:00:00\", \"2020-07-07T00:00:00\", \"2020-07-07T00:00:00\", \"2020-07-07T00:00:00\", \"2020-07-07T00:00:00\", \"2020-07-07T00:00:00\", \"2020-07-07T00:00:00\", \"2020-07-07T00:00:00\", \"2020-07-07T00:00:00\", \"2020-07-07T00:00:00\", \"2020-07-07T00:00:00\", \"2020-07-07T00:00:00\", \"2020-07-07T00:00:00\", \"2020-07-07T00:00:00\", \"2020-07-07T00:00:00\", \"2020-07-07T00:00:00\", \"2020-07-07T00:00:00\", \"2020-07-07T00:00:00\", \"2020-07-07T00:00:00\", \"2020-07-07T00:00:00\", \"2020-07-07T00:00:00\", \"2020-07-07T00:00:00\", \"2020-07-08T00:00:00\", \"2020-07-08T00:00:00\", \"2020-07-08T00:00:00\", \"2020-07-08T00:00:00\", \"2020-07-08T00:00:00\", \"2020-07-08T00:00:00\", \"2020-07-08T00:00:00\", \"2020-07-08T00:00:00\", \"2020-07-08T00:00:00\", \"2020-07-08T00:00:00\", \"2020-07-08T00:00:00\", \"2020-07-08T00:00:00\", \"2020-07-08T00:00:00\", \"2020-07-08T00:00:00\", \"2020-07-08T00:00:00\", \"2020-07-08T00:00:00\", \"2020-07-08T00:00:00\", \"2020-07-08T00:00:00\", \"2020-07-08T00:00:00\", \"2020-07-08T00:00:00\", \"2020-07-08T00:00:00\", \"2020-07-08T00:00:00\", \"2020-07-08T00:00:00\", \"2020-07-08T00:00:00\", \"2020-07-08T00:00:00\", \"2020-07-09T00:00:00\", \"2020-07-09T00:00:00\", \"2020-07-09T00:00:00\", \"2020-07-09T00:00:00\", \"2020-07-09T00:00:00\", \"2020-07-09T00:00:00\", \"2020-07-09T00:00:00\", \"2020-07-09T00:00:00\", \"2020-07-09T00:00:00\", \"2020-07-09T00:00:00\", \"2020-07-09T00:00:00\", \"2020-07-09T00:00:00\", \"2020-07-09T00:00:00\", \"2020-07-09T00:00:00\", \"2020-07-09T00:00:00\", \"2020-07-09T00:00:00\", \"2020-07-09T00:00:00\", \"2020-07-09T00:00:00\", \"2020-07-09T00:00:00\", \"2020-07-09T00:00:00\", \"2020-07-09T00:00:00\", \"2020-07-09T00:00:00\", \"2020-07-09T00:00:00\", \"2020-07-09T00:00:00\", \"2020-07-09T00:00:00\", \"2020-07-09T00:00:00\", \"2020-07-09T00:00:00\", \"2020-07-09T00:00:00\", \"2020-07-10T00:00:00\", \"2020-07-10T00:00:00\", \"2020-07-10T00:00:00\", \"2020-07-10T00:00:00\", \"2020-07-10T00:00:00\", \"2020-07-10T00:00:00\", \"2020-07-10T00:00:00\", \"2020-07-10T00:00:00\", \"2020-07-10T00:00:00\", \"2020-07-10T00:00:00\", \"2020-07-10T00:00:00\", \"2020-07-10T00:00:00\", \"2020-07-10T00:00:00\", \"2020-07-10T00:00:00\", \"2020-07-10T00:00:00\", \"2020-07-10T00:00:00\", \"2020-07-10T00:00:00\", \"2020-07-10T00:00:00\", \"2020-07-10T00:00:00\", \"2020-07-10T00:00:00\", \"2020-07-10T00:00:00\", \"2020-07-10T00:00:00\", \"2020-07-10T00:00:00\", \"2020-07-10T00:00:00\", \"2020-07-10T00:00:00\", \"2020-07-10T00:00:00\", \"2020-07-10T00:00:00\", \"2020-07-11T00:00:00\", \"2020-07-11T00:00:00\", \"2020-07-11T00:00:00\", \"2020-07-11T00:00:00\", \"2020-07-11T00:00:00\", \"2020-07-11T00:00:00\", \"2020-07-11T00:00:00\", \"2020-07-11T00:00:00\", \"2020-07-11T00:00:00\", \"2020-07-11T00:00:00\", \"2020-07-11T00:00:00\", \"2020-07-11T00:00:00\", \"2020-07-11T00:00:00\", \"2020-07-11T00:00:00\", \"2020-07-11T00:00:00\", \"2020-07-11T00:00:00\", \"2020-07-11T00:00:00\", \"2020-07-11T00:00:00\", \"2020-07-11T00:00:00\", \"2020-07-11T00:00:00\", \"2020-07-11T00:00:00\", \"2020-07-11T00:00:00\", \"2020-07-11T00:00:00\", \"2020-07-11T00:00:00\", \"2020-07-11T00:00:00\", \"2020-07-12T00:00:00\", \"2020-07-12T00:00:00\", \"2020-07-12T00:00:00\", \"2020-07-12T00:00:00\", \"2020-07-12T00:00:00\", \"2020-07-12T00:00:00\", \"2020-07-12T00:00:00\", \"2020-07-12T00:00:00\", \"2020-07-12T00:00:00\", \"2020-07-12T00:00:00\", \"2020-07-12T00:00:00\", \"2020-07-12T00:00:00\", \"2020-07-12T00:00:00\", \"2020-07-12T00:00:00\", \"2020-07-12T00:00:00\", \"2020-07-12T00:00:00\", \"2020-07-12T00:00:00\", \"2020-07-12T00:00:00\", \"2020-07-12T00:00:00\", \"2020-07-12T00:00:00\", \"2020-07-12T00:00:00\", \"2020-07-12T00:00:00\", \"2020-07-13T00:00:00\", \"2020-07-13T00:00:00\", \"2020-07-13T00:00:00\", \"2020-07-13T00:00:00\", \"2020-07-13T00:00:00\", \"2020-07-13T00:00:00\", \"2020-07-13T00:00:00\", \"2020-07-13T00:00:00\", \"2020-07-13T00:00:00\", \"2020-07-13T00:00:00\", \"2020-07-13T00:00:00\", \"2020-07-13T00:00:00\", \"2020-07-13T00:00:00\", \"2020-07-13T00:00:00\", \"2020-07-13T00:00:00\", \"2020-07-13T00:00:00\", \"2020-07-13T00:00:00\", \"2020-07-13T00:00:00\", \"2020-07-13T00:00:00\", \"2020-07-13T00:00:00\", \"2020-07-13T00:00:00\", \"2020-07-14T00:00:00\", \"2020-07-14T00:00:00\", \"2020-07-14T00:00:00\", \"2020-07-14T00:00:00\", \"2020-07-14T00:00:00\", \"2020-07-14T00:00:00\", \"2020-07-14T00:00:00\", \"2020-07-14T00:00:00\", \"2020-07-14T00:00:00\", \"2020-07-14T00:00:00\", \"2020-07-14T00:00:00\", \"2020-07-14T00:00:00\", \"2020-07-14T00:00:00\", \"2020-07-14T00:00:00\", \"2020-07-14T00:00:00\", \"2020-07-14T00:00:00\", \"2020-07-14T00:00:00\", \"2020-07-14T00:00:00\", \"2020-07-14T00:00:00\", \"2020-07-14T00:00:00\", \"2020-07-14T00:00:00\", \"2020-07-14T00:00:00\", \"2020-07-14T00:00:00\", \"2020-07-15T00:00:00\", \"2020-07-15T00:00:00\", \"2020-07-15T00:00:00\", \"2020-07-15T00:00:00\", \"2020-07-15T00:00:00\", \"2020-07-15T00:00:00\", \"2020-07-15T00:00:00\", \"2020-07-15T00:00:00\", \"2020-07-15T00:00:00\", \"2020-07-15T00:00:00\", \"2020-07-15T00:00:00\", \"2020-07-15T00:00:00\", \"2020-07-15T00:00:00\", \"2020-07-15T00:00:00\", \"2020-07-15T00:00:00\", \"2020-07-15T00:00:00\", \"2020-07-15T00:00:00\", \"2020-07-15T00:00:00\", \"2020-07-15T00:00:00\", \"2020-07-15T00:00:00\", \"2020-07-15T00:00:00\", \"2020-07-15T00:00:00\", \"2020-07-15T00:00:00\", \"2020-07-16T00:00:00\", \"2020-07-16T00:00:00\", \"2020-07-16T00:00:00\", \"2020-07-16T00:00:00\", \"2020-07-16T00:00:00\", \"2020-07-16T00:00:00\", \"2020-07-16T00:00:00\", \"2020-07-16T00:00:00\", \"2020-07-16T00:00:00\", \"2020-07-16T00:00:00\", \"2020-07-16T00:00:00\", \"2020-07-16T00:00:00\", \"2020-07-16T00:00:00\", \"2020-07-16T00:00:00\", \"2020-07-16T00:00:00\", \"2020-07-16T00:00:00\", \"2020-07-16T00:00:00\", \"2020-07-16T00:00:00\", \"2020-07-16T00:00:00\", \"2020-07-16T00:00:00\", \"2020-07-16T00:00:00\", \"2020-07-16T00:00:00\", \"2020-07-16T00:00:00\", \"2020-07-16T00:00:00\", \"2020-07-16T00:00:00\", \"2020-07-16T00:00:00\", \"2020-07-16T00:00:00\", \"2020-07-17T00:00:00\", \"2020-07-17T00:00:00\", \"2020-07-17T00:00:00\", \"2020-07-17T00:00:00\", \"2020-07-17T00:00:00\", \"2020-07-17T00:00:00\", \"2020-07-17T00:00:00\", \"2020-07-17T00:00:00\", \"2020-07-17T00:00:00\", \"2020-07-17T00:00:00\", \"2020-07-17T00:00:00\", \"2020-07-17T00:00:00\", \"2020-07-17T00:00:00\", \"2020-07-17T00:00:00\", \"2020-07-17T00:00:00\", \"2020-07-17T00:00:00\", \"2020-07-17T00:00:00\", \"2020-07-17T00:00:00\", \"2020-07-17T00:00:00\", \"2020-07-17T00:00:00\", \"2020-07-17T00:00:00\", \"2020-07-17T00:00:00\", \"2020-07-17T00:00:00\", \"2020-07-17T00:00:00\", \"2020-07-17T00:00:00\", \"2020-07-17T00:00:00\", \"2020-07-17T00:00:00\", \"2020-07-17T00:00:00\", \"2020-07-17T00:00:00\", \"2020-07-17T00:00:00\", \"2020-07-18T00:00:00\", \"2020-07-18T00:00:00\", \"2020-07-18T00:00:00\", \"2020-07-18T00:00:00\", \"2020-07-18T00:00:00\", \"2020-07-18T00:00:00\", \"2020-07-18T00:00:00\", \"2020-07-18T00:00:00\", \"2020-07-18T00:00:00\", \"2020-07-18T00:00:00\", \"2020-07-18T00:00:00\", \"2020-07-18T00:00:00\", \"2020-07-18T00:00:00\", \"2020-07-18T00:00:00\", \"2020-07-18T00:00:00\", \"2020-07-18T00:00:00\", \"2020-07-18T00:00:00\", \"2020-07-18T00:00:00\", \"2020-07-18T00:00:00\", \"2020-07-18T00:00:00\", \"2020-07-18T00:00:00\", \"2020-07-18T00:00:00\", \"2020-07-18T00:00:00\", \"2020-07-18T00:00:00\", \"2020-07-18T00:00:00\", \"2020-07-18T00:00:00\", \"2020-07-18T00:00:00\", \"2020-07-19T00:00:00\", \"2020-07-19T00:00:00\", \"2020-07-19T00:00:00\", \"2020-07-19T00:00:00\", \"2020-07-19T00:00:00\", \"2020-07-19T00:00:00\", \"2020-07-19T00:00:00\", \"2020-07-19T00:00:00\", \"2020-07-19T00:00:00\", \"2020-07-19T00:00:00\", \"2020-07-19T00:00:00\", \"2020-07-19T00:00:00\", \"2020-07-19T00:00:00\", \"2020-07-19T00:00:00\", \"2020-07-19T00:00:00\", \"2020-07-19T00:00:00\", \"2020-07-19T00:00:00\", \"2020-07-19T00:00:00\", \"2020-07-19T00:00:00\", \"2020-07-19T00:00:00\", \"2020-07-19T00:00:00\", \"2020-07-19T00:00:00\", \"2020-07-19T00:00:00\", \"2020-07-19T00:00:00\", \"2020-07-19T00:00:00\", \"2020-07-19T00:00:00\", \"2020-07-19T00:00:00\", \"2020-07-19T00:00:00\", \"2020-07-19T00:00:00\", \"2020-07-20T00:00:00\", \"2020-07-20T00:00:00\", \"2020-07-20T00:00:00\", \"2020-07-20T00:00:00\", \"2020-07-20T00:00:00\", \"2020-07-20T00:00:00\", \"2020-07-20T00:00:00\", \"2020-07-20T00:00:00\", \"2020-07-20T00:00:00\", \"2020-07-20T00:00:00\", \"2020-07-20T00:00:00\", \"2020-07-20T00:00:00\", \"2020-07-20T00:00:00\", \"2020-07-20T00:00:00\", \"2020-07-20T00:00:00\", \"2020-07-20T00:00:00\", \"2020-07-20T00:00:00\", \"2020-07-20T00:00:00\", \"2020-07-20T00:00:00\", \"2020-07-20T00:00:00\", \"2020-07-20T00:00:00\", \"2020-07-20T00:00:00\", \"2020-07-20T00:00:00\", \"2020-07-20T00:00:00\", \"2020-07-20T00:00:00\", \"2020-07-20T00:00:00\", \"2020-07-21T00:00:00\", \"2020-07-21T00:00:00\", \"2020-07-21T00:00:00\", \"2020-07-21T00:00:00\", \"2020-07-21T00:00:00\", \"2020-07-21T00:00:00\", \"2020-07-21T00:00:00\", \"2020-07-21T00:00:00\", \"2020-07-21T00:00:00\", \"2020-07-21T00:00:00\", \"2020-07-21T00:00:00\", \"2020-07-21T00:00:00\", \"2020-07-21T00:00:00\", \"2020-07-21T00:00:00\", \"2020-07-21T00:00:00\", \"2020-07-21T00:00:00\", \"2020-07-21T00:00:00\", \"2020-07-21T00:00:00\", \"2020-07-21T00:00:00\", \"2020-07-21T00:00:00\", \"2020-07-21T00:00:00\", \"2020-07-21T00:00:00\", \"2020-07-22T00:00:00\", \"2020-07-22T00:00:00\", \"2020-07-22T00:00:00\", \"2020-07-22T00:00:00\", \"2020-07-22T00:00:00\", \"2020-07-22T00:00:00\", \"2020-07-22T00:00:00\", \"2020-07-22T00:00:00\", \"2020-07-22T00:00:00\", \"2020-07-22T00:00:00\", \"2020-07-22T00:00:00\", \"2020-07-22T00:00:00\", \"2020-07-22T00:00:00\", \"2020-07-22T00:00:00\", \"2020-07-22T00:00:00\", \"2020-07-22T00:00:00\", \"2020-07-22T00:00:00\", \"2020-07-22T00:00:00\", \"2020-07-22T00:00:00\", \"2020-07-22T00:00:00\", \"2020-07-22T00:00:00\", \"2020-07-22T00:00:00\", \"2020-07-22T00:00:00\", \"2020-07-22T00:00:00\", \"2020-07-22T00:00:00\", \"2020-07-22T00:00:00\", \"2020-07-22T00:00:00\", \"2020-07-22T00:00:00\", \"2020-07-22T00:00:00\", \"2020-07-22T00:00:00\", \"2020-07-22T00:00:00\", \"2020-07-22T00:00:00\", \"2020-07-23T00:00:00\", \"2020-07-23T00:00:00\", \"2020-07-23T00:00:00\", \"2020-07-23T00:00:00\", \"2020-07-23T00:00:00\", \"2020-07-23T00:00:00\", \"2020-07-23T00:00:00\", \"2020-07-23T00:00:00\", \"2020-07-23T00:00:00\", \"2020-07-23T00:00:00\", \"2020-07-23T00:00:00\", \"2020-07-23T00:00:00\", \"2020-07-23T00:00:00\", \"2020-07-23T00:00:00\", \"2020-07-23T00:00:00\", \"2020-07-23T00:00:00\", \"2020-07-23T00:00:00\", \"2020-07-23T00:00:00\", \"2020-07-23T00:00:00\", \"2020-07-23T00:00:00\", \"2020-07-23T00:00:00\", \"2020-07-23T00:00:00\", \"2020-07-24T00:00:00\", \"2020-07-24T00:00:00\", \"2020-07-24T00:00:00\", \"2020-07-24T00:00:00\", \"2020-07-24T00:00:00\", \"2020-07-24T00:00:00\", \"2020-07-24T00:00:00\", \"2020-07-24T00:00:00\", \"2020-07-24T00:00:00\", \"2020-07-24T00:00:00\", \"2020-07-24T00:00:00\", \"2020-07-24T00:00:00\", \"2020-07-24T00:00:00\", \"2020-07-24T00:00:00\", \"2020-07-24T00:00:00\", \"2020-07-24T00:00:00\", \"2020-07-24T00:00:00\", \"2020-07-24T00:00:00\", \"2020-07-24T00:00:00\", \"2020-07-24T00:00:00\", \"2020-07-24T00:00:00\", \"2020-07-24T00:00:00\", \"2020-07-24T00:00:00\", \"2020-07-24T00:00:00\", \"2020-07-24T00:00:00\", \"2020-07-24T00:00:00\", \"2020-07-24T00:00:00\", \"2020-07-24T00:00:00\", \"2020-07-25T00:00:00\", \"2020-07-25T00:00:00\", \"2020-07-25T00:00:00\", \"2020-07-25T00:00:00\", \"2020-07-25T00:00:00\", \"2020-07-25T00:00:00\", \"2020-07-25T00:00:00\", \"2020-07-25T00:00:00\", \"2020-07-25T00:00:00\", \"2020-07-25T00:00:00\", \"2020-07-25T00:00:00\", \"2020-07-25T00:00:00\", \"2020-07-25T00:00:00\", \"2020-07-25T00:00:00\", \"2020-07-25T00:00:00\", \"2020-07-25T00:00:00\", \"2020-07-25T00:00:00\", \"2020-07-25T00:00:00\", \"2020-07-25T00:00:00\", \"2020-07-25T00:00:00\", \"2020-07-25T00:00:00\", \"2020-07-25T00:00:00\", \"2020-07-25T00:00:00\", \"2020-07-26T00:00:00\", \"2020-07-26T00:00:00\", \"2020-07-26T00:00:00\", \"2020-07-26T00:00:00\", \"2020-07-26T00:00:00\", \"2020-07-26T00:00:00\", \"2020-07-26T00:00:00\", \"2020-07-26T00:00:00\", \"2020-07-26T00:00:00\", \"2020-07-26T00:00:00\", \"2020-07-26T00:00:00\", \"2020-07-26T00:00:00\", \"2020-07-26T00:00:00\", \"2020-07-26T00:00:00\", \"2020-07-26T00:00:00\", \"2020-07-26T00:00:00\", \"2020-07-26T00:00:00\", \"2020-07-26T00:00:00\", \"2020-07-26T00:00:00\", \"2020-07-26T00:00:00\", \"2020-07-26T00:00:00\", \"2020-07-26T00:00:00\", \"2020-07-26T00:00:00\", \"2020-07-26T00:00:00\", \"2020-07-26T00:00:00\", \"2020-07-26T00:00:00\", \"2020-07-27T00:00:00\", \"2020-07-27T00:00:00\", \"2020-07-27T00:00:00\", \"2020-07-27T00:00:00\", \"2020-07-27T00:00:00\", \"2020-07-27T00:00:00\", \"2020-07-27T00:00:00\", \"2020-07-27T00:00:00\", \"2020-07-27T00:00:00\", \"2020-07-27T00:00:00\", \"2020-07-27T00:00:00\", \"2020-07-27T00:00:00\", \"2020-07-27T00:00:00\", \"2020-07-27T00:00:00\", \"2020-07-27T00:00:00\", \"2020-07-27T00:00:00\", \"2020-07-27T00:00:00\", \"2020-07-27T00:00:00\", \"2020-07-27T00:00:00\", \"2020-07-27T00:00:00\", \"2020-07-27T00:00:00\", \"2020-07-27T00:00:00\", \"2020-07-27T00:00:00\", \"2020-07-27T00:00:00\", \"2020-07-27T00:00:00\", \"2020-07-28T00:00:00\", \"2020-07-28T00:00:00\", \"2020-07-28T00:00:00\", \"2020-07-28T00:00:00\", \"2020-07-28T00:00:00\", \"2020-07-28T00:00:00\", \"2020-07-28T00:00:00\", \"2020-07-28T00:00:00\", \"2020-07-28T00:00:00\", \"2020-07-28T00:00:00\", \"2020-07-28T00:00:00\", \"2020-07-28T00:00:00\", \"2020-07-28T00:00:00\", \"2020-07-28T00:00:00\", \"2020-07-28T00:00:00\", \"2020-07-28T00:00:00\", \"2020-07-28T00:00:00\", \"2020-07-28T00:00:00\", \"2020-07-28T00:00:00\", \"2020-07-28T00:00:00\", \"2020-07-28T00:00:00\", \"2020-07-28T00:00:00\", \"2020-07-28T00:00:00\", \"2020-07-28T00:00:00\", \"2020-07-28T00:00:00\", \"2020-07-29T00:00:00\", \"2020-07-29T00:00:00\", \"2020-07-29T00:00:00\", \"2020-07-29T00:00:00\", \"2020-07-29T00:00:00\", \"2020-07-29T00:00:00\", \"2020-07-29T00:00:00\", \"2020-07-29T00:00:00\", \"2020-07-29T00:00:00\", \"2020-07-29T00:00:00\", \"2020-07-29T00:00:00\", \"2020-07-29T00:00:00\", \"2020-07-29T00:00:00\", \"2020-07-29T00:00:00\", \"2020-07-29T00:00:00\", \"2020-07-29T00:00:00\", \"2020-07-29T00:00:00\", \"2020-07-29T00:00:00\", \"2020-07-29T00:00:00\", \"2020-07-29T00:00:00\", \"2020-07-29T00:00:00\", \"2020-07-29T00:00:00\", \"2020-07-29T00:00:00\", \"2020-07-29T00:00:00\", \"2020-07-29T00:00:00\", \"2020-07-30T00:00:00\", \"2020-07-30T00:00:00\", \"2020-07-30T00:00:00\", \"2020-07-30T00:00:00\", \"2020-07-30T00:00:00\", \"2020-07-30T00:00:00\", \"2020-07-30T00:00:00\", \"2020-07-30T00:00:00\", \"2020-07-30T00:00:00\", \"2020-07-30T00:00:00\", \"2020-07-30T00:00:00\", \"2020-07-30T00:00:00\", \"2020-07-30T00:00:00\", \"2020-07-30T00:00:00\", \"2020-07-30T00:00:00\", \"2020-07-30T00:00:00\", \"2020-07-30T00:00:00\", \"2020-07-30T00:00:00\", \"2020-07-30T00:00:00\", \"2020-07-30T00:00:00\", \"2020-07-30T00:00:00\", \"2020-07-31T00:00:00\", \"2020-07-31T00:00:00\", \"2020-07-31T00:00:00\", \"2020-07-31T00:00:00\", \"2020-07-31T00:00:00\", \"2020-07-31T00:00:00\", \"2020-07-31T00:00:00\", \"2020-07-31T00:00:00\", \"2020-07-31T00:00:00\", \"2020-07-31T00:00:00\", \"2020-07-31T00:00:00\", \"2020-07-31T00:00:00\", \"2020-07-31T00:00:00\", \"2020-07-31T00:00:00\", \"2020-07-31T00:00:00\", \"2020-07-31T00:00:00\", \"2020-07-31T00:00:00\", \"2020-07-31T00:00:00\", \"2020-07-31T00:00:00\", \"2020-07-31T00:00:00\", \"2020-07-31T00:00:00\", \"2020-07-31T00:00:00\", \"2020-07-31T00:00:00\", \"2020-07-31T00:00:00\", \"2020-07-31T00:00:00\", \"2020-07-31T00:00:00\", \"2020-07-31T00:00:00\", \"2020-07-31T00:00:00\", \"2020-07-31T00:00:00\", \"2020-08-01T00:00:00\", \"2020-08-01T00:00:00\", \"2020-08-01T00:00:00\", \"2020-08-01T00:00:00\", \"2020-08-01T00:00:00\", \"2020-08-01T00:00:00\", \"2020-08-01T00:00:00\", \"2020-08-01T00:00:00\", \"2020-08-01T00:00:00\", \"2020-08-01T00:00:00\", \"2020-08-01T00:00:00\", \"2020-08-01T00:00:00\", \"2020-08-01T00:00:00\", \"2020-08-01T00:00:00\", \"2020-08-01T00:00:00\", \"2020-08-01T00:00:00\", \"2020-08-01T00:00:00\", \"2020-08-01T00:00:00\", \"2020-08-01T00:00:00\", \"2020-08-01T00:00:00\", \"2020-08-01T00:00:00\", \"2020-08-01T00:00:00\", \"2020-08-01T00:00:00\", \"2020-08-01T00:00:00\", \"2020-08-01T00:00:00\", \"2020-08-01T00:00:00\", \"2020-08-01T00:00:00\", \"2020-08-02T00:00:00\", \"2020-08-02T00:00:00\", \"2020-08-02T00:00:00\", \"2020-08-02T00:00:00\", \"2020-08-02T00:00:00\", \"2020-08-02T00:00:00\", \"2020-08-02T00:00:00\", \"2020-08-02T00:00:00\", \"2020-08-02T00:00:00\", \"2020-08-02T00:00:00\", \"2020-08-02T00:00:00\", \"2020-08-02T00:00:00\", \"2020-08-02T00:00:00\", \"2020-08-02T00:00:00\", \"2020-08-02T00:00:00\", \"2020-08-02T00:00:00\", \"2020-08-02T00:00:00\", \"2020-08-02T00:00:00\", \"2020-08-02T00:00:00\", \"2020-08-02T00:00:00\", \"2020-08-02T00:00:00\", \"2020-08-02T00:00:00\", \"2020-08-02T00:00:00\", \"2020-08-02T00:00:00\", \"2020-08-03T00:00:00\", \"2020-08-03T00:00:00\", \"2020-08-03T00:00:00\", \"2020-08-03T00:00:00\", \"2020-08-03T00:00:00\", \"2020-08-03T00:00:00\", \"2020-08-03T00:00:00\", \"2020-08-03T00:00:00\", \"2020-08-03T00:00:00\", \"2020-08-03T00:00:00\", \"2020-08-03T00:00:00\", \"2020-08-03T00:00:00\", \"2020-08-03T00:00:00\", \"2020-08-03T00:00:00\", \"2020-08-03T00:00:00\", \"2020-08-03T00:00:00\", \"2020-08-03T00:00:00\", \"2020-08-03T00:00:00\", \"2020-08-03T00:00:00\", \"2020-08-03T00:00:00\", \"2020-08-03T00:00:00\", \"2020-08-04T00:00:00\", \"2020-08-04T00:00:00\", \"2020-08-04T00:00:00\", \"2020-08-04T00:00:00\", \"2020-08-04T00:00:00\", \"2020-08-04T00:00:00\", \"2020-08-04T00:00:00\", \"2020-08-04T00:00:00\", \"2020-08-04T00:00:00\", \"2020-08-04T00:00:00\", \"2020-08-04T00:00:00\", \"2020-08-04T00:00:00\", \"2020-08-04T00:00:00\", \"2020-08-04T00:00:00\", \"2020-08-04T00:00:00\", \"2020-08-04T00:00:00\", \"2020-08-04T00:00:00\", \"2020-08-04T00:00:00\", \"2020-08-04T00:00:00\", \"2020-08-04T00:00:00\", \"2020-08-04T00:00:00\", \"2020-08-04T00:00:00\", \"2020-08-04T00:00:00\", \"2020-08-04T00:00:00\", \"2020-08-04T00:00:00\", \"2020-08-04T00:00:00\", \"2020-08-04T00:00:00\", \"2020-08-05T00:00:00\", \"2020-08-05T00:00:00\", \"2020-08-05T00:00:00\", \"2020-08-05T00:00:00\", \"2020-08-05T00:00:00\", \"2020-08-05T00:00:00\", \"2020-08-05T00:00:00\", \"2020-08-05T00:00:00\", \"2020-08-05T00:00:00\", \"2020-08-05T00:00:00\", \"2020-08-05T00:00:00\", \"2020-08-05T00:00:00\", \"2020-08-05T00:00:00\", \"2020-08-05T00:00:00\", \"2020-08-05T00:00:00\", \"2020-08-05T00:00:00\", \"2020-08-05T00:00:00\", \"2020-08-05T00:00:00\", \"2020-08-05T00:00:00\", \"2020-08-05T00:00:00\", \"2020-08-05T00:00:00\", \"2020-08-05T00:00:00\", \"2020-08-05T00:00:00\", \"2020-08-05T00:00:00\", \"2020-08-06T00:00:00\", \"2020-08-06T00:00:00\", \"2020-08-06T00:00:00\", \"2020-08-06T00:00:00\", \"2020-08-06T00:00:00\", \"2020-08-06T00:00:00\", \"2020-08-06T00:00:00\", \"2020-08-06T00:00:00\", \"2020-08-06T00:00:00\", \"2020-08-06T00:00:00\", \"2020-08-06T00:00:00\", \"2020-08-06T00:00:00\", \"2020-08-06T00:00:00\", \"2020-08-06T00:00:00\", \"2020-08-06T00:00:00\", \"2020-08-06T00:00:00\", \"2020-08-06T00:00:00\", \"2020-08-06T00:00:00\", \"2020-08-06T00:00:00\", \"2020-08-06T00:00:00\", \"2020-08-06T00:00:00\", \"2020-08-06T00:00:00\", \"2020-08-06T00:00:00\", \"2020-08-06T00:00:00\", \"2020-08-06T00:00:00\", \"2020-08-06T00:00:00\", \"2020-08-07T00:00:00\", \"2020-08-07T00:00:00\", \"2020-08-07T00:00:00\", \"2020-08-07T00:00:00\", \"2020-08-07T00:00:00\", \"2020-08-07T00:00:00\", \"2020-08-07T00:00:00\", \"2020-08-07T00:00:00\", \"2020-08-07T00:00:00\", \"2020-08-07T00:00:00\", \"2020-08-07T00:00:00\", \"2020-08-07T00:00:00\", \"2020-08-07T00:00:00\", \"2020-08-07T00:00:00\", \"2020-08-07T00:00:00\", \"2020-08-07T00:00:00\", \"2020-08-07T00:00:00\", \"2020-08-07T00:00:00\", \"2020-08-07T00:00:00\", \"2020-08-07T00:00:00\", \"2020-08-07T00:00:00\", \"2020-08-07T00:00:00\", \"2020-08-07T00:00:00\", \"2020-08-07T00:00:00\", \"2020-08-07T00:00:00\", \"2020-08-07T00:00:00\", \"2020-08-07T00:00:00\", \"2020-08-08T00:00:00\", \"2020-08-08T00:00:00\", \"2020-08-08T00:00:00\", \"2020-08-08T00:00:00\", \"2020-08-08T00:00:00\", \"2020-08-08T00:00:00\", \"2020-08-08T00:00:00\", \"2020-08-08T00:00:00\", \"2020-08-08T00:00:00\", \"2020-08-08T00:00:00\", \"2020-08-08T00:00:00\", \"2020-08-08T00:00:00\", \"2020-08-08T00:00:00\", \"2020-08-08T00:00:00\", \"2020-08-08T00:00:00\", \"2020-08-08T00:00:00\", \"2020-08-08T00:00:00\", \"2020-08-09T00:00:00\", \"2020-08-09T00:00:00\", \"2020-08-09T00:00:00\", \"2020-08-09T00:00:00\", \"2020-08-09T00:00:00\", \"2020-08-09T00:00:00\", \"2020-08-09T00:00:00\", \"2020-08-09T00:00:00\", \"2020-08-09T00:00:00\", \"2020-08-09T00:00:00\", \"2020-08-09T00:00:00\", \"2020-08-09T00:00:00\", \"2020-08-09T00:00:00\", \"2020-08-09T00:00:00\", \"2020-08-09T00:00:00\", \"2020-08-09T00:00:00\", \"2020-08-09T00:00:00\", \"2020-08-09T00:00:00\", \"2020-08-09T00:00:00\", \"2020-08-09T00:00:00\", \"2020-08-09T00:00:00\", \"2020-08-09T00:00:00\", \"2020-08-09T00:00:00\", \"2020-08-10T00:00:00\", \"2020-08-10T00:00:00\", \"2020-08-10T00:00:00\", \"2020-08-10T00:00:00\", \"2020-08-10T00:00:00\", \"2020-08-10T00:00:00\", \"2020-08-10T00:00:00\", \"2020-08-10T00:00:00\", \"2020-08-10T00:00:00\", \"2020-08-10T00:00:00\", \"2020-08-10T00:00:00\", \"2020-08-10T00:00:00\", \"2020-08-10T00:00:00\", \"2020-08-10T00:00:00\", \"2020-08-10T00:00:00\", \"2020-08-10T00:00:00\", \"2020-08-10T00:00:00\", \"2020-08-10T00:00:00\", \"2020-08-10T00:00:00\", \"2020-08-10T00:00:00\", \"2020-08-10T00:00:00\", \"2020-08-10T00:00:00\", \"2020-08-10T00:00:00\", \"2020-08-10T00:00:00\", \"2020-08-11T00:00:00\", \"2020-08-11T00:00:00\", \"2020-08-11T00:00:00\", \"2020-08-11T00:00:00\", \"2020-08-11T00:00:00\", \"2020-08-11T00:00:00\", \"2020-08-11T00:00:00\", \"2020-08-11T00:00:00\", \"2020-08-11T00:00:00\", \"2020-08-11T00:00:00\", \"2020-08-11T00:00:00\", \"2020-08-11T00:00:00\", \"2020-08-11T00:00:00\", \"2020-08-11T00:00:00\", \"2020-08-11T00:00:00\", \"2020-08-11T00:00:00\", \"2020-08-11T00:00:00\", \"2020-08-11T00:00:00\", \"2020-08-11T00:00:00\", \"2020-08-11T00:00:00\", \"2020-08-11T00:00:00\", \"2020-08-11T00:00:00\", \"2020-08-11T00:00:00\", \"2020-08-11T00:00:00\", \"2020-08-11T00:00:00\", \"2020-08-12T00:00:00\", \"2020-08-12T00:00:00\", \"2020-08-12T00:00:00\", \"2020-08-12T00:00:00\", \"2020-08-12T00:00:00\", \"2020-08-12T00:00:00\", \"2020-08-12T00:00:00\", \"2020-08-12T00:00:00\", \"2020-08-12T00:00:00\", \"2020-08-12T00:00:00\", \"2020-08-12T00:00:00\", \"2020-08-12T00:00:00\", \"2020-08-12T00:00:00\", \"2020-08-12T00:00:00\", \"2020-08-12T00:00:00\", \"2020-08-12T00:00:00\", \"2020-08-12T00:00:00\", \"2020-08-12T00:00:00\", \"2020-08-12T00:00:00\", \"2020-08-12T00:00:00\", \"2020-08-12T00:00:00\", \"2020-08-12T00:00:00\", \"2020-08-12T00:00:00\", \"2020-08-12T00:00:00\", \"2020-08-12T00:00:00\", \"2020-08-12T00:00:00\", \"2020-08-12T00:00:00\", \"2020-08-13T00:00:00\", \"2020-08-13T00:00:00\", \"2020-08-13T00:00:00\", \"2020-08-13T00:00:00\", \"2020-08-13T00:00:00\", \"2020-08-13T00:00:00\", \"2020-08-13T00:00:00\", \"2020-08-13T00:00:00\", \"2020-08-13T00:00:00\", \"2020-08-13T00:00:00\", \"2020-08-13T00:00:00\", \"2020-08-13T00:00:00\", \"2020-08-13T00:00:00\", \"2020-08-13T00:00:00\", \"2020-08-13T00:00:00\", \"2020-08-13T00:00:00\", \"2020-08-13T00:00:00\", \"2020-08-13T00:00:00\", \"2020-08-13T00:00:00\", \"2020-08-13T00:00:00\", \"2020-08-13T00:00:00\", \"2020-08-13T00:00:00\", \"2020-08-13T00:00:00\", \"2020-08-13T00:00:00\", \"2020-08-13T00:00:00\", \"2020-08-13T00:00:00\", \"2020-08-13T00:00:00\", \"2020-08-13T00:00:00\", \"2020-08-14T00:00:00\", \"2020-08-14T00:00:00\", \"2020-08-14T00:00:00\", \"2020-08-14T00:00:00\", \"2020-08-14T00:00:00\", \"2020-08-14T00:00:00\", \"2020-08-14T00:00:00\", \"2020-08-14T00:00:00\", \"2020-08-14T00:00:00\", \"2020-08-14T00:00:00\", \"2020-08-14T00:00:00\", \"2020-08-14T00:00:00\", \"2020-08-14T00:00:00\", \"2020-08-14T00:00:00\", \"2020-08-14T00:00:00\", \"2020-08-14T00:00:00\", \"2020-08-14T00:00:00\", \"2020-08-14T00:00:00\", \"2020-08-14T00:00:00\", \"2020-08-14T00:00:00\", \"2020-08-14T00:00:00\", \"2020-08-14T00:00:00\", \"2020-08-14T00:00:00\", \"2020-08-14T00:00:00\", \"2020-08-14T00:00:00\", \"2020-08-15T00:00:00\", \"2020-08-15T00:00:00\", \"2020-08-15T00:00:00\", \"2020-08-15T00:00:00\", \"2020-08-15T00:00:00\", \"2020-08-15T00:00:00\", \"2020-08-15T00:00:00\", \"2020-08-15T00:00:00\", \"2020-08-15T00:00:00\", \"2020-08-15T00:00:00\", \"2020-08-15T00:00:00\", \"2020-08-15T00:00:00\", \"2020-08-15T00:00:00\", \"2020-08-15T00:00:00\", \"2020-08-15T00:00:00\", \"2020-08-15T00:00:00\", \"2020-08-15T00:00:00\", \"2020-08-15T00:00:00\", \"2020-08-15T00:00:00\", \"2020-08-15T00:00:00\", \"2020-08-15T00:00:00\", \"2020-08-15T00:00:00\", \"2020-08-15T00:00:00\", \"2020-08-15T00:00:00\", \"2020-08-15T00:00:00\", \"2020-08-15T00:00:00\", \"2020-08-16T00:00:00\", \"2020-08-16T00:00:00\", \"2020-08-16T00:00:00\", \"2020-08-16T00:00:00\", \"2020-08-16T00:00:00\", \"2020-08-16T00:00:00\", \"2020-08-16T00:00:00\", \"2020-08-16T00:00:00\", \"2020-08-16T00:00:00\", \"2020-08-16T00:00:00\", \"2020-08-16T00:00:00\", \"2020-08-16T00:00:00\", \"2020-08-16T00:00:00\", \"2020-08-16T00:00:00\", \"2020-08-16T00:00:00\", \"2020-08-16T00:00:00\", \"2020-08-16T00:00:00\", \"2020-08-16T00:00:00\", \"2020-08-16T00:00:00\", \"2020-08-16T00:00:00\", \"2020-08-16T00:00:00\", \"2020-08-16T00:00:00\", \"2020-08-16T00:00:00\", \"2020-08-16T00:00:00\", \"2020-08-16T00:00:00\", \"2020-08-16T00:00:00\", \"2020-08-17T00:00:00\", \"2020-08-17T00:00:00\", \"2020-08-17T00:00:00\", \"2020-08-17T00:00:00\", \"2020-08-17T00:00:00\", \"2020-08-17T00:00:00\", \"2020-08-17T00:00:00\", \"2020-08-17T00:00:00\", \"2020-08-17T00:00:00\", \"2020-08-17T00:00:00\", \"2020-08-17T00:00:00\", \"2020-08-17T00:00:00\", \"2020-08-17T00:00:00\", \"2020-08-17T00:00:00\", \"2020-08-17T00:00:00\", \"2020-08-17T00:00:00\", \"2020-08-17T00:00:00\", \"2020-08-17T00:00:00\", \"2020-08-17T00:00:00\", \"2020-08-17T00:00:00\", \"2020-08-17T00:00:00\", \"2020-08-17T00:00:00\", \"2020-08-17T00:00:00\", \"2020-08-17T00:00:00\", \"2020-08-17T00:00:00\", \"2020-08-17T00:00:00\", \"2020-08-17T00:00:00\", \"2020-08-17T00:00:00\", \"2020-08-17T00:00:00\", \"2020-08-17T00:00:00\", \"2020-08-18T00:00:00\", \"2020-08-18T00:00:00\", \"2020-08-18T00:00:00\", \"2020-08-18T00:00:00\", \"2020-08-18T00:00:00\", \"2020-08-18T00:00:00\", \"2020-08-18T00:00:00\", \"2020-08-18T00:00:00\", \"2020-08-18T00:00:00\", \"2020-08-18T00:00:00\", \"2020-08-18T00:00:00\", \"2020-08-18T00:00:00\", \"2020-08-18T00:00:00\", \"2020-08-18T00:00:00\", \"2020-08-18T00:00:00\", \"2020-08-18T00:00:00\", \"2020-08-18T00:00:00\", \"2020-08-18T00:00:00\", \"2020-08-18T00:00:00\", \"2020-08-18T00:00:00\", \"2020-08-18T00:00:00\", \"2020-08-18T00:00:00\", \"2020-08-18T00:00:00\", \"2020-08-19T00:00:00\", \"2020-08-19T00:00:00\", \"2020-08-19T00:00:00\", \"2020-08-19T00:00:00\", \"2020-08-19T00:00:00\", \"2020-08-19T00:00:00\", \"2020-08-19T00:00:00\", \"2020-08-19T00:00:00\", \"2020-08-19T00:00:00\", \"2020-08-19T00:00:00\", \"2020-08-19T00:00:00\", \"2020-08-19T00:00:00\", \"2020-08-19T00:00:00\", \"2020-08-19T00:00:00\", \"2020-08-19T00:00:00\", \"2020-08-19T00:00:00\", \"2020-08-19T00:00:00\", \"2020-08-19T00:00:00\", \"2020-08-19T00:00:00\", \"2020-08-19T00:00:00\", \"2020-08-19T00:00:00\", \"2020-08-19T00:00:00\", \"2020-08-19T00:00:00\", \"2020-08-19T00:00:00\", \"2020-08-19T00:00:00\", \"2020-08-20T00:00:00\", \"2020-08-20T00:00:00\", \"2020-08-20T00:00:00\", \"2020-08-20T00:00:00\", \"2020-08-20T00:00:00\", \"2020-08-20T00:00:00\", \"2020-08-20T00:00:00\", \"2020-08-20T00:00:00\", \"2020-08-20T00:00:00\", \"2020-08-20T00:00:00\", \"2020-08-20T00:00:00\", \"2020-08-20T00:00:00\", \"2020-08-20T00:00:00\", \"2020-08-20T00:00:00\", \"2020-08-20T00:00:00\", \"2020-08-20T00:00:00\", \"2020-08-20T00:00:00\", \"2020-08-20T00:00:00\", \"2020-08-20T00:00:00\", \"2020-08-20T00:00:00\", \"2020-08-20T00:00:00\", \"2020-08-21T00:00:00\", \"2020-08-21T00:00:00\", \"2020-08-21T00:00:00\", \"2020-08-21T00:00:00\", \"2020-08-21T00:00:00\", \"2020-08-21T00:00:00\", \"2020-08-21T00:00:00\", \"2020-08-21T00:00:00\", \"2020-08-21T00:00:00\", \"2020-08-21T00:00:00\", \"2020-08-21T00:00:00\", \"2020-08-21T00:00:00\", \"2020-08-21T00:00:00\", \"2020-08-21T00:00:00\", \"2020-08-21T00:00:00\", \"2020-08-21T00:00:00\", \"2020-08-21T00:00:00\", \"2020-08-21T00:00:00\", \"2020-08-21T00:00:00\", \"2020-08-21T00:00:00\", \"2020-08-21T00:00:00\", \"2020-08-21T00:00:00\", \"2020-08-21T00:00:00\", \"2020-08-22T00:00:00\", \"2020-08-22T00:00:00\", \"2020-08-22T00:00:00\", \"2020-08-22T00:00:00\", \"2020-08-22T00:00:00\", \"2020-08-22T00:00:00\", \"2020-08-22T00:00:00\", \"2020-08-22T00:00:00\", \"2020-08-22T00:00:00\", \"2020-08-22T00:00:00\", \"2020-08-22T00:00:00\", \"2020-08-22T00:00:00\", \"2020-08-22T00:00:00\", \"2020-08-22T00:00:00\", \"2020-08-22T00:00:00\", \"2020-08-22T00:00:00\", \"2020-08-22T00:00:00\", \"2020-08-22T00:00:00\", \"2020-08-22T00:00:00\", \"2020-08-22T00:00:00\", \"2020-08-22T00:00:00\", \"2020-08-22T00:00:00\", \"2020-08-22T00:00:00\", \"2020-08-23T00:00:00\", \"2020-08-23T00:00:00\", \"2020-08-23T00:00:00\", \"2020-08-23T00:00:00\", \"2020-08-23T00:00:00\", \"2020-08-23T00:00:00\", \"2020-08-23T00:00:00\", \"2020-08-23T00:00:00\", \"2020-08-23T00:00:00\", \"2020-08-23T00:00:00\", \"2020-08-23T00:00:00\", \"2020-08-23T00:00:00\", \"2020-08-23T00:00:00\", \"2020-08-23T00:00:00\", \"2020-08-23T00:00:00\", \"2020-08-23T00:00:00\", \"2020-08-23T00:00:00\", \"2020-08-23T00:00:00\", \"2020-08-23T00:00:00\", \"2020-08-23T00:00:00\", \"2020-08-23T00:00:00\", \"2020-08-23T00:00:00\", \"2020-08-23T00:00:00\", \"2020-08-23T00:00:00\", \"2020-08-23T00:00:00\", \"2020-08-23T00:00:00\", \"2020-08-23T00:00:00\", \"2020-08-23T00:00:00\", \"2020-08-23T00:00:00\", \"2020-08-24T00:00:00\", \"2020-08-24T00:00:00\", \"2020-08-24T00:00:00\", \"2020-08-24T00:00:00\", \"2020-08-24T00:00:00\", \"2020-08-24T00:00:00\", \"2020-08-24T00:00:00\", \"2020-08-24T00:00:00\", \"2020-08-24T00:00:00\", \"2020-08-24T00:00:00\", \"2020-08-24T00:00:00\", \"2020-08-24T00:00:00\", \"2020-08-24T00:00:00\", \"2020-08-24T00:00:00\", \"2020-08-24T00:00:00\", \"2020-08-24T00:00:00\", \"2020-08-24T00:00:00\", \"2020-08-24T00:00:00\", \"2020-08-24T00:00:00\", \"2020-08-25T00:00:00\", \"2020-08-25T00:00:00\", \"2020-08-25T00:00:00\", \"2020-08-25T00:00:00\", \"2020-08-25T00:00:00\", \"2020-08-25T00:00:00\", \"2020-08-25T00:00:00\", \"2020-08-25T00:00:00\", \"2020-08-25T00:00:00\", \"2020-08-25T00:00:00\", \"2020-08-25T00:00:00\", \"2020-08-25T00:00:00\", \"2020-08-25T00:00:00\", \"2020-08-25T00:00:00\", \"2020-08-25T00:00:00\", \"2020-08-25T00:00:00\", \"2020-08-25T00:00:00\", \"2020-08-25T00:00:00\", \"2020-08-25T00:00:00\", \"2020-08-26T00:00:00\", \"2020-08-26T00:00:00\", \"2020-08-26T00:00:00\", \"2020-08-26T00:00:00\", \"2020-08-26T00:00:00\", \"2020-08-26T00:00:00\", \"2020-08-26T00:00:00\", \"2020-08-26T00:00:00\", \"2020-08-26T00:00:00\", \"2020-08-26T00:00:00\", \"2020-08-26T00:00:00\", \"2020-08-26T00:00:00\", \"2020-08-26T00:00:00\", \"2020-08-26T00:00:00\", \"2020-08-26T00:00:00\", \"2020-08-26T00:00:00\", \"2020-08-26T00:00:00\", \"2020-08-26T00:00:00\", \"2020-08-26T00:00:00\", \"2020-08-26T00:00:00\", \"2020-08-26T00:00:00\", \"2020-08-26T00:00:00\", \"2020-08-26T00:00:00\", \"2020-08-26T00:00:00\", \"2020-08-27T00:00:00\", \"2020-08-27T00:00:00\", \"2020-08-27T00:00:00\", \"2020-08-27T00:00:00\", \"2020-08-27T00:00:00\", \"2020-08-27T00:00:00\", \"2020-08-27T00:00:00\", \"2020-08-27T00:00:00\", \"2020-08-27T00:00:00\", \"2020-08-27T00:00:00\", \"2020-08-27T00:00:00\", \"2020-08-27T00:00:00\", \"2020-08-27T00:00:00\", \"2020-08-27T00:00:00\", \"2020-08-27T00:00:00\", \"2020-08-27T00:00:00\", \"2020-08-27T00:00:00\", \"2020-08-27T00:00:00\", \"2020-08-27T00:00:00\", \"2020-08-27T00:00:00\", \"2020-08-28T00:00:00\", \"2020-08-28T00:00:00\", \"2020-08-28T00:00:00\", \"2020-08-28T00:00:00\", \"2020-08-28T00:00:00\", \"2020-08-28T00:00:00\", \"2020-08-28T00:00:00\", \"2020-08-28T00:00:00\", \"2020-08-28T00:00:00\", \"2020-08-28T00:00:00\", \"2020-08-28T00:00:00\", \"2020-08-28T00:00:00\", \"2020-08-28T00:00:00\", \"2020-08-28T00:00:00\", \"2020-08-28T00:00:00\", \"2020-08-28T00:00:00\", \"2020-08-28T00:00:00\", \"2020-08-29T00:00:00\", \"2020-08-29T00:00:00\", \"2020-08-29T00:00:00\", \"2020-08-29T00:00:00\", \"2020-08-29T00:00:00\", \"2020-08-29T00:00:00\", \"2020-08-29T00:00:00\", \"2020-08-29T00:00:00\", \"2020-08-29T00:00:00\", \"2020-08-29T00:00:00\", \"2020-08-29T00:00:00\", \"2020-08-29T00:00:00\", \"2020-08-29T00:00:00\", \"2020-08-29T00:00:00\", \"2020-08-29T00:00:00\", \"2020-08-29T00:00:00\", \"2020-08-29T00:00:00\", \"2020-08-29T00:00:00\", \"2020-08-29T00:00:00\", \"2020-08-29T00:00:00\", \"2020-08-29T00:00:00\", \"2020-08-29T00:00:00\", \"2020-08-30T00:00:00\", \"2020-08-30T00:00:00\", \"2020-08-30T00:00:00\", \"2020-08-30T00:00:00\", \"2020-08-30T00:00:00\", \"2020-08-30T00:00:00\", \"2020-08-30T00:00:00\", \"2020-08-30T00:00:00\", \"2020-08-30T00:00:00\", \"2020-08-30T00:00:00\", \"2020-08-30T00:00:00\", \"2020-08-30T00:00:00\", \"2020-08-30T00:00:00\", \"2020-08-30T00:00:00\", \"2020-08-30T00:00:00\", \"2020-08-30T00:00:00\", \"2020-08-30T00:00:00\", \"2020-08-30T00:00:00\", \"2020-08-30T00:00:00\", \"2020-08-30T00:00:00\", \"2020-08-31T00:00:00\", \"2020-08-31T00:00:00\", \"2020-08-31T00:00:00\", \"2020-08-31T00:00:00\", \"2020-08-31T00:00:00\", \"2020-08-31T00:00:00\", \"2020-08-31T00:00:00\", \"2020-08-31T00:00:00\", \"2020-08-31T00:00:00\", \"2020-08-31T00:00:00\", \"2020-08-31T00:00:00\", \"2020-08-31T00:00:00\", \"2020-08-31T00:00:00\", \"2020-08-31T00:00:00\", \"2020-08-31T00:00:00\", \"2020-08-31T00:00:00\", \"2020-08-31T00:00:00\", \"2020-08-31T00:00:00\", \"2020-08-31T00:00:00\", \"2020-08-31T00:00:00\", \"2020-08-31T00:00:00\", \"2020-08-31T00:00:00\", \"2020-08-31T00:00:00\", \"2020-08-31T00:00:00\", \"2020-09-01T00:00:00\", \"2020-09-01T00:00:00\", \"2020-09-01T00:00:00\", \"2020-09-01T00:00:00\", \"2020-09-01T00:00:00\", \"2020-09-01T00:00:00\", \"2020-09-01T00:00:00\", \"2020-09-01T00:00:00\", \"2020-09-01T00:00:00\", \"2020-09-01T00:00:00\", \"2020-09-01T00:00:00\", \"2020-09-01T00:00:00\", \"2020-09-01T00:00:00\", \"2020-09-01T00:00:00\", \"2020-09-01T00:00:00\", \"2020-09-01T00:00:00\", \"2020-09-01T00:00:00\", \"2020-09-01T00:00:00\", \"2020-09-01T00:00:00\", \"2020-09-01T00:00:00\", \"2020-09-02T00:00:00\", \"2020-09-02T00:00:00\", \"2020-09-02T00:00:00\", \"2020-09-02T00:00:00\", \"2020-09-02T00:00:00\", \"2020-09-02T00:00:00\", \"2020-09-02T00:00:00\", \"2020-09-02T00:00:00\", \"2020-09-02T00:00:00\", \"2020-09-02T00:00:00\", \"2020-09-02T00:00:00\", \"2020-09-02T00:00:00\", \"2020-09-02T00:00:00\", \"2020-09-02T00:00:00\", \"2020-09-02T00:00:00\", \"2020-09-02T00:00:00\", \"2020-09-02T00:00:00\", \"2020-09-02T00:00:00\", \"2020-09-02T00:00:00\", \"2020-09-02T00:00:00\", \"2020-09-03T00:00:00\", \"2020-09-03T00:00:00\", \"2020-09-03T00:00:00\", \"2020-09-03T00:00:00\", \"2020-09-03T00:00:00\", \"2020-09-03T00:00:00\", \"2020-09-03T00:00:00\", \"2020-09-03T00:00:00\", \"2020-09-03T00:00:00\", \"2020-09-03T00:00:00\", \"2020-09-03T00:00:00\", \"2020-09-03T00:00:00\", \"2020-09-03T00:00:00\", \"2020-09-03T00:00:00\", \"2020-09-03T00:00:00\", \"2020-09-03T00:00:00\", \"2020-09-03T00:00:00\", \"2020-09-03T00:00:00\", \"2020-09-03T00:00:00\", \"2020-09-03T00:00:00\", \"2020-09-04T00:00:00\", \"2020-09-04T00:00:00\", \"2020-09-04T00:00:00\", \"2020-09-04T00:00:00\", \"2020-09-04T00:00:00\", \"2020-09-04T00:00:00\", \"2020-09-04T00:00:00\", \"2020-09-04T00:00:00\", \"2020-09-04T00:00:00\", \"2020-09-04T00:00:00\", \"2020-09-04T00:00:00\", \"2020-09-04T00:00:00\", \"2020-09-04T00:00:00\", \"2020-09-04T00:00:00\", \"2020-09-04T00:00:00\", \"2020-09-04T00:00:00\", \"2020-09-05T00:00:00\", \"2020-09-05T00:00:00\", \"2020-09-05T00:00:00\", \"2020-09-05T00:00:00\", \"2020-09-05T00:00:00\", \"2020-09-05T00:00:00\", \"2020-09-05T00:00:00\", \"2020-09-05T00:00:00\", \"2020-09-05T00:00:00\", \"2020-09-05T00:00:00\", \"2020-09-05T00:00:00\", \"2020-09-05T00:00:00\", \"2020-09-05T00:00:00\", \"2020-09-05T00:00:00\", \"2020-09-05T00:00:00\", \"2020-09-05T00:00:00\", \"2020-09-05T00:00:00\", \"2020-09-05T00:00:00\", \"2020-09-05T00:00:00\", \"2020-09-06T00:00:00\", \"2020-09-06T00:00:00\", \"2020-09-06T00:00:00\", \"2020-09-06T00:00:00\", \"2020-09-06T00:00:00\", \"2020-09-06T00:00:00\", \"2020-09-06T00:00:00\", \"2020-09-06T00:00:00\", \"2020-09-06T00:00:00\", \"2020-09-06T00:00:00\", \"2020-09-06T00:00:00\", \"2020-09-06T00:00:00\", \"2020-09-06T00:00:00\", \"2020-09-06T00:00:00\", \"2020-09-06T00:00:00\", \"2020-09-06T00:00:00\", \"2020-09-06T00:00:00\", \"2020-09-06T00:00:00\", \"2020-09-06T00:00:00\", \"2020-09-07T00:00:00\", \"2020-09-07T00:00:00\", \"2020-09-07T00:00:00\", \"2020-09-07T00:00:00\", \"2020-09-07T00:00:00\", \"2020-09-07T00:00:00\", \"2020-09-07T00:00:00\", \"2020-09-07T00:00:00\", \"2020-09-07T00:00:00\", \"2020-09-07T00:00:00\", \"2020-09-07T00:00:00\", \"2020-09-07T00:00:00\", \"2020-09-07T00:00:00\", \"2020-09-07T00:00:00\", \"2020-09-07T00:00:00\", \"2020-09-07T00:00:00\", \"2020-09-07T00:00:00\", \"2020-09-07T00:00:00\", \"2020-09-07T00:00:00\", \"2020-09-08T00:00:00\", \"2020-09-08T00:00:00\", \"2020-09-08T00:00:00\", \"2020-09-08T00:00:00\", \"2020-09-08T00:00:00\", \"2020-09-08T00:00:00\", \"2020-09-08T00:00:00\", \"2020-09-08T00:00:00\", \"2020-09-08T00:00:00\", \"2020-09-08T00:00:00\", \"2020-09-08T00:00:00\", \"2020-09-08T00:00:00\", \"2020-09-08T00:00:00\", \"2020-09-08T00:00:00\", \"2020-09-08T00:00:00\", \"2020-09-08T00:00:00\", \"2020-09-08T00:00:00\", \"2020-09-08T00:00:00\", \"2020-09-08T00:00:00\", \"2020-09-08T00:00:00\", \"2020-09-09T00:00:00\", \"2020-09-09T00:00:00\", \"2020-09-09T00:00:00\", \"2020-09-09T00:00:00\", \"2020-09-09T00:00:00\", \"2020-09-09T00:00:00\", \"2020-09-09T00:00:00\", \"2020-09-09T00:00:00\", \"2020-09-09T00:00:00\", \"2020-09-09T00:00:00\", \"2020-09-09T00:00:00\", \"2020-09-09T00:00:00\", \"2020-09-09T00:00:00\", \"2020-09-09T00:00:00\", \"2020-09-09T00:00:00\", \"2020-09-09T00:00:00\", \"2020-09-09T00:00:00\", \"2020-09-09T00:00:00\", \"2020-09-09T00:00:00\", \"2020-09-10T00:00:00\", \"2020-09-10T00:00:00\", \"2020-09-10T00:00:00\", \"2020-09-10T00:00:00\", \"2020-09-10T00:00:00\", \"2020-09-10T00:00:00\", \"2020-09-10T00:00:00\", \"2020-09-10T00:00:00\", \"2020-09-10T00:00:00\", \"2020-09-10T00:00:00\", \"2020-09-10T00:00:00\", \"2020-09-10T00:00:00\", \"2020-09-10T00:00:00\", \"2020-09-10T00:00:00\", \"2020-09-10T00:00:00\", \"2020-09-11T00:00:00\", \"2020-09-11T00:00:00\", \"2020-09-11T00:00:00\", \"2020-09-11T00:00:00\", \"2020-09-11T00:00:00\", \"2020-09-11T00:00:00\", \"2020-09-11T00:00:00\", \"2020-09-11T00:00:00\", \"2020-09-11T00:00:00\", \"2020-09-11T00:00:00\", \"2020-09-11T00:00:00\", \"2020-09-11T00:00:00\", \"2020-09-11T00:00:00\", \"2020-09-11T00:00:00\", \"2020-09-12T00:00:00\", \"2020-09-12T00:00:00\", \"2020-09-12T00:00:00\", \"2020-09-12T00:00:00\", \"2020-09-12T00:00:00\", \"2020-09-12T00:00:00\", \"2020-09-12T00:00:00\", \"2020-09-12T00:00:00\", \"2020-09-12T00:00:00\", \"2020-09-12T00:00:00\", \"2020-09-12T00:00:00\", \"2020-09-12T00:00:00\", \"2020-09-12T00:00:00\", \"2020-09-12T00:00:00\", \"2020-09-12T00:00:00\", \"2020-09-12T00:00:00\", \"2020-09-12T00:00:00\", \"2020-09-13T00:00:00\", \"2020-09-13T00:00:00\", \"2020-09-13T00:00:00\", \"2020-09-13T00:00:00\", \"2020-09-13T00:00:00\", \"2020-09-13T00:00:00\", \"2020-09-13T00:00:00\", \"2020-09-13T00:00:00\", \"2020-09-13T00:00:00\", \"2020-09-13T00:00:00\", \"2020-09-13T00:00:00\", \"2020-09-13T00:00:00\", \"2020-09-13T00:00:00\", \"2020-09-13T00:00:00\", \"2020-09-13T00:00:00\", \"2020-09-13T00:00:00\", \"2020-09-13T00:00:00\", \"2020-09-14T00:00:00\", \"2020-09-14T00:00:00\", \"2020-09-14T00:00:00\", \"2020-09-14T00:00:00\", \"2020-09-14T00:00:00\", \"2020-09-14T00:00:00\", \"2020-09-14T00:00:00\", \"2020-09-14T00:00:00\", \"2020-09-14T00:00:00\", \"2020-09-14T00:00:00\", \"2020-09-14T00:00:00\", \"2020-09-14T00:00:00\", \"2020-09-14T00:00:00\", \"2020-09-14T00:00:00\", \"2020-09-14T00:00:00\", \"2020-09-14T00:00:00\", \"2020-09-14T00:00:00\", \"2020-09-15T00:00:00\", \"2020-09-15T00:00:00\", \"2020-09-15T00:00:00\", \"2020-09-15T00:00:00\", \"2020-09-15T00:00:00\", \"2020-09-15T00:00:00\", \"2020-09-15T00:00:00\", \"2020-09-15T00:00:00\", \"2020-09-15T00:00:00\", \"2020-09-15T00:00:00\", \"2020-09-15T00:00:00\", \"2020-09-15T00:00:00\", \"2020-09-15T00:00:00\", \"2020-09-15T00:00:00\", \"2020-09-15T00:00:00\", \"2020-09-15T00:00:00\", \"2020-09-16T00:00:00\", \"2020-09-16T00:00:00\", \"2020-09-16T00:00:00\", \"2020-09-16T00:00:00\", \"2020-09-16T00:00:00\", \"2020-09-16T00:00:00\", \"2020-09-16T00:00:00\", \"2020-09-16T00:00:00\", \"2020-09-16T00:00:00\", \"2020-09-16T00:00:00\", \"2020-09-16T00:00:00\", \"2020-09-16T00:00:00\", \"2020-09-16T00:00:00\", \"2020-09-16T00:00:00\", \"2020-09-16T00:00:00\", \"2020-09-16T00:00:00\", \"2020-09-16T00:00:00\", \"2020-09-16T00:00:00\", \"2020-09-17T00:00:00\", \"2020-09-17T00:00:00\", \"2020-09-17T00:00:00\", \"2020-09-17T00:00:00\", \"2020-09-17T00:00:00\", \"2020-09-17T00:00:00\", \"2020-09-17T00:00:00\", \"2020-09-17T00:00:00\", \"2020-09-17T00:00:00\", \"2020-09-17T00:00:00\", \"2020-09-17T00:00:00\", \"2020-09-17T00:00:00\", \"2020-09-17T00:00:00\", \"2020-09-17T00:00:00\", \"2020-09-17T00:00:00\", \"2020-09-17T00:00:00\", \"2020-09-17T00:00:00\", \"2020-09-17T00:00:00\", \"2020-09-17T00:00:00\", \"2020-09-17T00:00:00\", \"2020-09-17T00:00:00\", \"2020-09-17T00:00:00\", \"2020-09-17T00:00:00\", \"2020-09-17T00:00:00\", \"2020-09-17T00:00:00\", \"2020-09-17T00:00:00\", \"2020-09-17T00:00:00\", \"2020-09-17T00:00:00\", \"2020-09-18T00:00:00\", \"2020-09-18T00:00:00\", \"2020-09-18T00:00:00\", \"2020-09-18T00:00:00\", \"2020-09-18T00:00:00\", \"2020-09-18T00:00:00\", \"2020-09-18T00:00:00\", \"2020-09-18T00:00:00\", \"2020-09-18T00:00:00\", \"2020-09-18T00:00:00\", \"2020-09-18T00:00:00\", \"2020-09-18T00:00:00\", \"2020-09-18T00:00:00\", \"2020-09-18T00:00:00\", \"2020-09-18T00:00:00\", \"2020-09-18T00:00:00\", \"2020-09-18T00:00:00\", \"2020-09-18T00:00:00\", \"2020-09-18T00:00:00\", \"2020-09-18T00:00:00\", \"2020-09-18T00:00:00\", \"2020-09-19T00:00:00\", \"2020-09-19T00:00:00\", \"2020-09-19T00:00:00\", \"2020-09-19T00:00:00\", \"2020-09-19T00:00:00\", \"2020-09-19T00:00:00\", \"2020-09-19T00:00:00\", \"2020-09-19T00:00:00\", \"2020-09-19T00:00:00\", \"2020-09-19T00:00:00\", \"2020-09-19T00:00:00\", \"2020-09-19T00:00:00\", \"2020-09-19T00:00:00\", \"2020-09-19T00:00:00\", \"2020-09-20T00:00:00\", \"2020-09-20T00:00:00\", \"2020-09-20T00:00:00\", \"2020-09-20T00:00:00\", \"2020-09-20T00:00:00\", \"2020-09-20T00:00:00\", \"2020-09-20T00:00:00\", \"2020-09-20T00:00:00\", \"2020-09-20T00:00:00\", \"2020-09-20T00:00:00\", \"2020-09-20T00:00:00\", \"2020-09-20T00:00:00\", \"2020-09-20T00:00:00\", \"2020-09-20T00:00:00\", \"2020-09-20T00:00:00\", \"2020-09-21T00:00:00\", \"2020-09-21T00:00:00\", \"2020-09-21T00:00:00\", \"2020-09-21T00:00:00\", \"2020-09-21T00:00:00\", \"2020-09-21T00:00:00\", \"2020-09-21T00:00:00\", \"2020-09-21T00:00:00\", \"2020-09-21T00:00:00\", \"2020-09-21T00:00:00\", \"2020-09-21T00:00:00\", \"2020-09-21T00:00:00\", \"2020-09-21T00:00:00\", \"2020-09-21T00:00:00\", \"2020-09-21T00:00:00\", \"2020-09-21T00:00:00\", \"2020-09-21T00:00:00\", \"2020-09-22T00:00:00\", \"2020-09-22T00:00:00\", \"2020-09-22T00:00:00\", \"2020-09-22T00:00:00\", \"2020-09-22T00:00:00\", \"2020-09-22T00:00:00\", \"2020-09-22T00:00:00\", \"2020-09-22T00:00:00\", \"2020-09-22T00:00:00\", \"2020-09-22T00:00:00\", \"2020-09-22T00:00:00\", \"2020-09-22T00:00:00\", \"2020-09-22T00:00:00\", \"2020-09-22T00:00:00\", \"2020-09-22T00:00:00\", \"2020-09-22T00:00:00\", \"2020-09-22T00:00:00\", \"2020-09-22T00:00:00\", \"2020-09-22T00:00:00\", \"2020-09-22T00:00:00\", \"2020-09-22T00:00:00\", \"2020-09-22T00:00:00\", \"2020-09-23T00:00:00\", \"2020-09-23T00:00:00\", \"2020-09-23T00:00:00\", \"2020-09-23T00:00:00\", \"2020-09-23T00:00:00\", \"2020-09-23T00:00:00\", \"2020-09-23T00:00:00\", \"2020-09-23T00:00:00\", \"2020-09-23T00:00:00\", \"2020-09-23T00:00:00\", \"2020-09-23T00:00:00\", \"2020-09-23T00:00:00\", \"2020-09-24T00:00:00\", \"2020-09-24T00:00:00\", \"2020-09-24T00:00:00\", \"2020-09-24T00:00:00\", \"2020-09-24T00:00:00\", \"2020-09-24T00:00:00\", \"2020-09-24T00:00:00\", \"2020-09-24T00:00:00\", \"2020-09-24T00:00:00\", \"2020-09-24T00:00:00\", \"2020-09-24T00:00:00\", \"2020-09-24T00:00:00\", \"2020-09-24T00:00:00\", \"2020-09-24T00:00:00\", \"2020-09-24T00:00:00\", \"2020-09-24T00:00:00\", \"2020-09-24T00:00:00\", \"2020-09-24T00:00:00\", \"2020-09-24T00:00:00\", \"2020-09-25T00:00:00\", \"2020-09-25T00:00:00\", \"2020-09-25T00:00:00\", \"2020-09-25T00:00:00\", \"2020-09-25T00:00:00\", \"2020-09-25T00:00:00\", \"2020-09-25T00:00:00\", \"2020-09-25T00:00:00\", \"2020-09-25T00:00:00\", \"2020-09-25T00:00:00\", \"2020-09-25T00:00:00\", \"2020-09-25T00:00:00\", \"2020-09-25T00:00:00\", \"2020-09-25T00:00:00\", \"2020-09-25T00:00:00\", \"2020-09-25T00:00:00\", \"2020-09-26T00:00:00\", \"2020-09-26T00:00:00\", \"2020-09-26T00:00:00\", \"2020-09-26T00:00:00\", \"2020-09-26T00:00:00\", \"2020-09-26T00:00:00\", \"2020-09-26T00:00:00\", \"2020-09-26T00:00:00\", \"2020-09-26T00:00:00\", \"2020-09-26T00:00:00\", \"2020-09-26T00:00:00\", \"2020-09-26T00:00:00\", \"2020-09-26T00:00:00\", \"2020-09-26T00:00:00\", \"2020-09-26T00:00:00\", \"2020-09-27T00:00:00\", \"2020-09-27T00:00:00\", \"2020-09-27T00:00:00\", \"2020-09-27T00:00:00\", \"2020-09-27T00:00:00\", \"2020-09-27T00:00:00\", \"2020-09-27T00:00:00\", \"2020-09-27T00:00:00\", \"2020-09-27T00:00:00\", \"2020-09-27T00:00:00\", \"2020-09-27T00:00:00\", \"2020-09-27T00:00:00\", \"2020-09-27T00:00:00\", \"2020-09-27T00:00:00\", \"2020-09-27T00:00:00\", \"2020-09-27T00:00:00\", \"2020-09-27T00:00:00\", \"2020-09-28T00:00:00\", \"2020-09-28T00:00:00\", \"2020-09-28T00:00:00\", \"2020-09-28T00:00:00\", \"2020-09-28T00:00:00\", \"2020-09-28T00:00:00\", \"2020-09-28T00:00:00\", \"2020-09-28T00:00:00\", \"2020-09-28T00:00:00\", \"2020-09-28T00:00:00\", \"2020-09-28T00:00:00\", \"2020-09-28T00:00:00\", \"2020-09-28T00:00:00\", \"2020-09-29T00:00:00\", \"2020-09-29T00:00:00\", \"2020-09-29T00:00:00\", \"2020-09-29T00:00:00\", \"2020-09-29T00:00:00\", \"2020-09-29T00:00:00\", \"2020-09-29T00:00:00\", \"2020-09-29T00:00:00\", \"2020-09-29T00:00:00\", \"2020-09-29T00:00:00\", \"2020-09-29T00:00:00\", \"2020-09-29T00:00:00\", \"2020-09-29T00:00:00\", \"2020-09-29T00:00:00\", \"2020-09-29T00:00:00\", \"2020-09-30T00:00:00\", \"2020-09-30T00:00:00\", \"2020-09-30T00:00:00\", \"2020-09-30T00:00:00\", \"2020-09-30T00:00:00\", \"2020-09-30T00:00:00\", \"2020-09-30T00:00:00\", \"2020-09-30T00:00:00\", \"2020-09-30T00:00:00\", \"2020-09-30T00:00:00\", \"2020-10-01T00:00:00\", \"2020-10-01T00:00:00\", \"2020-10-01T00:00:00\", \"2020-10-01T00:00:00\", \"2020-10-01T00:00:00\", \"2020-10-01T00:00:00\", \"2020-10-01T00:00:00\", \"2020-10-01T00:00:00\", \"2020-10-01T00:00:00\", \"2020-10-01T00:00:00\", \"2020-10-01T00:00:00\", \"2020-10-01T00:00:00\", \"2020-10-01T00:00:00\", \"2020-10-01T00:00:00\", \"2020-10-01T00:00:00\", \"2020-10-01T00:00:00\", \"2020-10-01T00:00:00\", \"2020-10-01T00:00:00\", \"2020-10-02T00:00:00\", \"2020-10-02T00:00:00\", \"2020-10-02T00:00:00\", \"2020-10-02T00:00:00\", \"2020-10-02T00:00:00\", \"2020-10-02T00:00:00\", \"2020-10-02T00:00:00\", \"2020-10-02T00:00:00\", \"2020-10-02T00:00:00\", \"2020-10-02T00:00:00\", \"2020-10-02T00:00:00\", \"2020-10-02T00:00:00\", \"2020-10-02T00:00:00\", \"2020-10-02T00:00:00\", \"2020-10-02T00:00:00\", \"2020-10-02T00:00:00\", \"2020-10-02T00:00:00\", \"2020-10-03T00:00:00\", \"2020-10-03T00:00:00\", \"2020-10-03T00:00:00\", \"2020-10-03T00:00:00\", \"2020-10-03T00:00:00\", \"2020-10-03T00:00:00\", \"2020-10-03T00:00:00\", \"2020-10-03T00:00:00\", \"2020-10-03T00:00:00\", \"2020-10-03T00:00:00\", \"2020-10-03T00:00:00\", \"2020-10-03T00:00:00\", \"2020-10-03T00:00:00\", \"2020-10-03T00:00:00\", \"2020-10-04T00:00:00\", \"2020-10-04T00:00:00\", \"2020-10-04T00:00:00\", \"2020-10-04T00:00:00\", \"2020-10-04T00:00:00\", \"2020-10-04T00:00:00\", \"2020-10-04T00:00:00\", \"2020-10-04T00:00:00\", \"2020-10-04T00:00:00\", \"2020-10-04T00:00:00\", \"2020-10-04T00:00:00\", \"2020-10-04T00:00:00\", \"2020-10-04T00:00:00\", \"2020-10-04T00:00:00\", \"2020-10-04T00:00:00\", \"2020-10-04T00:00:00\", \"2020-10-04T00:00:00\", \"2020-10-04T00:00:00\", \"2020-10-05T00:00:00\", \"2020-10-05T00:00:00\", \"2020-10-05T00:00:00\", \"2020-10-05T00:00:00\", \"2020-10-05T00:00:00\", \"2020-10-05T00:00:00\", \"2020-10-05T00:00:00\", \"2020-10-05T00:00:00\", \"2020-10-05T00:00:00\", \"2020-10-05T00:00:00\", \"2020-10-05T00:00:00\", \"2020-10-05T00:00:00\", \"2020-10-05T00:00:00\", \"2020-10-06T00:00:00\", \"2020-10-06T00:00:00\", \"2020-10-06T00:00:00\", \"2020-10-06T00:00:00\", \"2020-10-06T00:00:00\", \"2020-10-06T00:00:00\", \"2020-10-06T00:00:00\", \"2020-10-06T00:00:00\", \"2020-10-06T00:00:00\", \"2020-10-06T00:00:00\", \"2020-10-06T00:00:00\", \"2020-10-06T00:00:00\", \"2020-10-06T00:00:00\", \"2020-10-06T00:00:00\", \"2020-10-06T00:00:00\", \"2020-10-06T00:00:00\", \"2020-10-06T00:00:00\", \"2020-10-07T00:00:00\", \"2020-10-07T00:00:00\", \"2020-10-07T00:00:00\", \"2020-10-07T00:00:00\", \"2020-10-07T00:00:00\", \"2020-10-07T00:00:00\", \"2020-10-07T00:00:00\", \"2020-10-07T00:00:00\", \"2020-10-07T00:00:00\", \"2020-10-07T00:00:00\", \"2020-10-07T00:00:00\", \"2020-10-07T00:00:00\", \"2020-10-07T00:00:00\", \"2020-10-08T00:00:00\", \"2020-10-08T00:00:00\", \"2020-10-08T00:00:00\", \"2020-10-08T00:00:00\", \"2020-10-08T00:00:00\", \"2020-10-08T00:00:00\", \"2020-10-08T00:00:00\", \"2020-10-08T00:00:00\", \"2020-10-09T00:00:00\", \"2020-10-09T00:00:00\", \"2020-10-09T00:00:00\", \"2020-10-09T00:00:00\", \"2020-10-09T00:00:00\", \"2020-10-09T00:00:00\", \"2020-10-09T00:00:00\", \"2020-10-09T00:00:00\", \"2020-10-09T00:00:00\", \"2020-10-09T00:00:00\", \"2020-10-09T00:00:00\", \"2020-10-09T00:00:00\", \"2020-10-10T00:00:00\", \"2020-10-10T00:00:00\", \"2020-10-10T00:00:00\", \"2020-10-10T00:00:00\", \"2020-10-10T00:00:00\", \"2020-10-10T00:00:00\", \"2020-10-10T00:00:00\", \"2020-10-10T00:00:00\", \"2020-10-10T00:00:00\", \"2020-10-10T00:00:00\", \"2020-10-10T00:00:00\", \"2020-10-10T00:00:00\", \"2020-10-10T00:00:00\", \"2020-10-10T00:00:00\", \"2020-10-10T00:00:00\", \"2020-10-11T00:00:00\", \"2020-10-11T00:00:00\", \"2020-10-11T00:00:00\", \"2020-10-11T00:00:00\", \"2020-10-11T00:00:00\", \"2020-10-11T00:00:00\", \"2020-10-11T00:00:00\", \"2020-10-11T00:00:00\", \"2020-10-11T00:00:00\", \"2020-10-11T00:00:00\", \"2020-10-11T00:00:00\", \"2020-10-11T00:00:00\", \"2020-10-11T00:00:00\", \"2020-10-11T00:00:00\", \"2020-10-11T00:00:00\", \"2020-10-12T00:00:00\", \"2020-10-12T00:00:00\", \"2020-10-12T00:00:00\", \"2020-10-12T00:00:00\", \"2020-10-12T00:00:00\", \"2020-10-12T00:00:00\", \"2020-10-12T00:00:00\", \"2020-10-12T00:00:00\", \"2020-10-12T00:00:00\", \"2020-10-12T00:00:00\", \"2020-10-12T00:00:00\", \"2020-10-12T00:00:00\", \"2020-10-12T00:00:00\", \"2020-10-12T00:00:00\", \"2020-10-12T00:00:00\", \"2020-10-13T00:00:00\", \"2020-10-13T00:00:00\", \"2020-10-13T00:00:00\", \"2020-10-13T00:00:00\", \"2020-10-13T00:00:00\", \"2020-10-13T00:00:00\", \"2020-10-13T00:00:00\", \"2020-10-13T00:00:00\", \"2020-10-13T00:00:00\", \"2020-10-13T00:00:00\", \"2020-10-13T00:00:00\", \"2020-10-13T00:00:00\", \"2020-10-13T00:00:00\", \"2020-10-13T00:00:00\", \"2020-10-13T00:00:00\", \"2020-10-13T00:00:00\", \"2020-10-13T00:00:00\", \"2020-10-13T00:00:00\", \"2020-10-13T00:00:00\", \"2020-10-14T00:00:00\", \"2020-10-14T00:00:00\", \"2020-10-14T00:00:00\", \"2020-10-14T00:00:00\", \"2020-10-14T00:00:00\", \"2020-10-14T00:00:00\", \"2020-10-14T00:00:00\", \"2020-10-14T00:00:00\", \"2020-10-14T00:00:00\", \"2020-10-14T00:00:00\", \"2020-10-14T00:00:00\", \"2020-10-14T00:00:00\", \"2020-10-14T00:00:00\", \"2020-10-15T00:00:00\", \"2020-10-15T00:00:00\", \"2020-10-15T00:00:00\", \"2020-10-15T00:00:00\", \"2020-10-15T00:00:00\", \"2020-10-15T00:00:00\", \"2020-10-15T00:00:00\", \"2020-10-15T00:00:00\", \"2020-10-15T00:00:00\", \"2020-10-15T00:00:00\", \"2020-10-15T00:00:00\", \"2020-10-15T00:00:00\", \"2020-10-15T00:00:00\", \"2020-10-15T00:00:00\", \"2020-10-15T00:00:00\", \"2020-10-16T00:00:00\", \"2020-10-16T00:00:00\", \"2020-10-16T00:00:00\", \"2020-10-16T00:00:00\", \"2020-10-16T00:00:00\", \"2020-10-16T00:00:00\", \"2020-10-16T00:00:00\", \"2020-10-16T00:00:00\", \"2020-10-16T00:00:00\", \"2020-10-16T00:00:00\", \"2020-10-16T00:00:00\", \"2020-10-16T00:00:00\", \"2020-10-16T00:00:00\", \"2020-10-17T00:00:00\", \"2020-10-17T00:00:00\", \"2020-10-17T00:00:00\", \"2020-10-17T00:00:00\", \"2020-10-17T00:00:00\", \"2020-10-17T00:00:00\", \"2020-10-17T00:00:00\", \"2020-10-17T00:00:00\", \"2020-10-17T00:00:00\", \"2020-10-17T00:00:00\", \"2020-10-17T00:00:00\", \"2020-10-18T00:00:00\", \"2020-10-18T00:00:00\", \"2020-10-18T00:00:00\", \"2020-10-18T00:00:00\", \"2020-10-18T00:00:00\", \"2020-10-18T00:00:00\", \"2020-10-18T00:00:00\", \"2020-10-18T00:00:00\", \"2020-10-18T00:00:00\", \"2020-10-18T00:00:00\", \"2020-10-18T00:00:00\", \"2020-10-18T00:00:00\", \"2020-10-19T00:00:00\", \"2020-10-19T00:00:00\", \"2020-10-19T00:00:00\", \"2020-10-19T00:00:00\", \"2020-10-19T00:00:00\", \"2020-10-19T00:00:00\", \"2020-10-19T00:00:00\", \"2020-10-19T00:00:00\", \"2020-10-19T00:00:00\", \"2020-10-19T00:00:00\", \"2020-10-19T00:00:00\", \"2020-10-19T00:00:00\", \"2020-10-19T00:00:00\", \"2020-10-20T00:00:00\", \"2020-10-20T00:00:00\", \"2020-10-20T00:00:00\", \"2020-10-20T00:00:00\", \"2020-10-20T00:00:00\", \"2020-10-20T00:00:00\", \"2020-10-20T00:00:00\", \"2020-10-20T00:00:00\", \"2020-10-20T00:00:00\", \"2020-10-20T00:00:00\", \"2020-10-20T00:00:00\", \"2020-10-20T00:00:00\", \"2020-10-21T00:00:00\", \"2020-10-21T00:00:00\", \"2020-10-21T00:00:00\", \"2020-10-21T00:00:00\", \"2020-10-21T00:00:00\", \"2020-10-21T00:00:00\", \"2020-10-21T00:00:00\", \"2020-10-21T00:00:00\", \"2020-10-21T00:00:00\", \"2020-10-21T00:00:00\", \"2020-10-21T00:00:00\", \"2020-10-21T00:00:00\", \"2020-10-22T00:00:00\", \"2020-10-22T00:00:00\", \"2020-10-22T00:00:00\", \"2020-10-22T00:00:00\", \"2020-10-22T00:00:00\", \"2020-10-22T00:00:00\", \"2020-10-22T00:00:00\", \"2020-10-22T00:00:00\", \"2020-10-22T00:00:00\", \"2020-10-22T00:00:00\", \"2020-10-22T00:00:00\", \"2020-10-22T00:00:00\", \"2020-10-22T00:00:00\", \"2020-10-23T00:00:00\", \"2020-10-23T00:00:00\", \"2020-10-23T00:00:00\", \"2020-10-23T00:00:00\", \"2020-10-23T00:00:00\", \"2020-10-23T00:00:00\", \"2020-10-23T00:00:00\", \"2020-10-23T00:00:00\", \"2020-10-23T00:00:00\", \"2020-10-23T00:00:00\", \"2020-10-23T00:00:00\", \"2020-10-24T00:00:00\", \"2020-10-24T00:00:00\", \"2020-10-24T00:00:00\", \"2020-10-24T00:00:00\", \"2020-10-24T00:00:00\", \"2020-10-24T00:00:00\", \"2020-10-24T00:00:00\", \"2020-10-24T00:00:00\", \"2020-10-25T00:00:00\", \"2020-10-25T00:00:00\", \"2020-10-25T00:00:00\", \"2020-10-25T00:00:00\", \"2020-10-25T00:00:00\", \"2020-10-25T00:00:00\", \"2020-10-25T00:00:00\", \"2020-10-25T00:00:00\", \"2020-10-25T00:00:00\", \"2020-10-25T00:00:00\", \"2020-10-25T00:00:00\", \"2020-10-25T00:00:00\", \"2020-10-26T00:00:00\", \"2020-10-26T00:00:00\", \"2020-10-26T00:00:00\", \"2020-10-26T00:00:00\", \"2020-10-26T00:00:00\", \"2020-10-26T00:00:00\", \"2020-10-26T00:00:00\", \"2020-10-26T00:00:00\", \"2020-10-26T00:00:00\", \"2020-10-26T00:00:00\", \"2020-10-26T00:00:00\", \"2020-10-27T00:00:00\", \"2020-10-27T00:00:00\", \"2020-10-27T00:00:00\", \"2020-10-27T00:00:00\", \"2020-10-27T00:00:00\", \"2020-10-27T00:00:00\", \"2020-10-27T00:00:00\", \"2020-10-27T00:00:00\", \"2020-10-27T00:00:00\", \"2020-10-27T00:00:00\", \"2020-10-27T00:00:00\", \"2020-10-28T00:00:00\", \"2020-10-28T00:00:00\", \"2020-10-28T00:00:00\", \"2020-10-28T00:00:00\", \"2020-10-28T00:00:00\", \"2020-10-28T00:00:00\", \"2020-10-28T00:00:00\", \"2020-10-28T00:00:00\", \"2020-10-28T00:00:00\", \"2020-10-28T00:00:00\", \"2020-10-28T00:00:00\", \"2020-10-28T00:00:00\", \"2020-10-29T00:00:00\", \"2020-10-29T00:00:00\", \"2020-10-29T00:00:00\", \"2020-10-29T00:00:00\", \"2020-10-29T00:00:00\", \"2020-10-29T00:00:00\", \"2020-10-29T00:00:00\", \"2020-10-29T00:00:00\", \"2020-10-29T00:00:00\", \"2020-10-29T00:00:00\", \"2020-10-29T00:00:00\", \"2020-10-29T00:00:00\", \"2020-10-29T00:00:00\", \"2020-10-30T00:00:00\", \"2020-10-30T00:00:00\", \"2020-10-30T00:00:00\", \"2020-10-30T00:00:00\", \"2020-10-30T00:00:00\", \"2020-10-30T00:00:00\", \"2020-10-30T00:00:00\", \"2020-10-30T00:00:00\", \"2020-10-30T00:00:00\", \"2020-10-31T00:00:00\", \"2020-10-31T00:00:00\", \"2020-10-31T00:00:00\", \"2020-10-31T00:00:00\", \"2020-10-31T00:00:00\", \"2020-10-31T00:00:00\", \"2020-10-31T00:00:00\", \"2020-10-31T00:00:00\", \"2020-10-31T00:00:00\", \"2020-10-31T00:00:00\", \"2020-10-31T00:00:00\", \"2020-11-01T00:00:00\", \"2020-11-01T00:00:00\", \"2020-11-01T00:00:00\", \"2020-11-01T00:00:00\", \"2020-11-01T00:00:00\", \"2020-11-01T00:00:00\", \"2020-11-01T00:00:00\", \"2020-11-01T00:00:00\", \"2020-11-02T00:00:00\", \"2020-11-02T00:00:00\", \"2020-11-02T00:00:00\", \"2020-11-02T00:00:00\", \"2020-11-02T00:00:00\", \"2020-11-02T00:00:00\", \"2020-11-02T00:00:00\", \"2020-11-02T00:00:00\", \"2020-11-02T00:00:00\", \"2020-11-02T00:00:00\", \"2020-11-02T00:00:00\", \"2020-11-03T00:00:00\", \"2020-11-03T00:00:00\", \"2020-11-03T00:00:00\", \"2020-11-03T00:00:00\", \"2020-11-03T00:00:00\", \"2020-11-03T00:00:00\", \"2020-11-03T00:00:00\", \"2020-11-03T00:00:00\", \"2020-11-03T00:00:00\", \"2020-11-03T00:00:00\", \"2020-11-03T00:00:00\", \"2020-11-03T00:00:00\", \"2020-11-04T00:00:00\", \"2020-11-04T00:00:00\", \"2020-11-04T00:00:00\", \"2020-11-04T00:00:00\", \"2020-11-04T00:00:00\", \"2020-11-04T00:00:00\", \"2020-11-04T00:00:00\", \"2020-11-04T00:00:00\", \"2020-11-04T00:00:00\", \"2020-11-04T00:00:00\", \"2020-11-04T00:00:00\", \"2020-11-04T00:00:00\", \"2020-11-04T00:00:00\", \"2020-11-05T00:00:00\", \"2020-11-05T00:00:00\", \"2020-11-05T00:00:00\", \"2020-11-05T00:00:00\", \"2020-11-05T00:00:00\", \"2020-11-05T00:00:00\", \"2020-11-05T00:00:00\", \"2020-11-05T00:00:00\", \"2020-11-05T00:00:00\", \"2020-11-05T00:00:00\", \"2020-11-05T00:00:00\", \"2020-11-05T00:00:00\", \"2020-11-05T00:00:00\", \"2020-11-05T00:00:00\", \"2020-11-06T00:00:00\", \"2020-11-06T00:00:00\", \"2020-11-06T00:00:00\", \"2020-11-06T00:00:00\", \"2020-11-06T00:00:00\", \"2020-11-06T00:00:00\", \"2020-11-06T00:00:00\", \"2020-11-06T00:00:00\", \"2020-11-06T00:00:00\", \"2020-11-06T00:00:00\", \"2020-11-06T00:00:00\", \"2020-11-06T00:00:00\", \"2020-11-07T00:00:00\", \"2020-11-07T00:00:00\", \"2020-11-07T00:00:00\", \"2020-11-07T00:00:00\", \"2020-11-07T00:00:00\", \"2020-11-07T00:00:00\", \"2020-11-07T00:00:00\", \"2020-11-07T00:00:00\", \"2020-11-07T00:00:00\", \"2020-11-08T00:00:00\", \"2020-11-08T00:00:00\", \"2020-11-08T00:00:00\", \"2020-11-08T00:00:00\", \"2020-11-08T00:00:00\", \"2020-11-08T00:00:00\", \"2020-11-08T00:00:00\", \"2020-11-08T00:00:00\", \"2020-11-08T00:00:00\", \"2020-11-08T00:00:00\", \"2020-11-09T00:00:00\", \"2020-11-09T00:00:00\", \"2020-11-09T00:00:00\", \"2020-11-09T00:00:00\", \"2020-11-09T00:00:00\", \"2020-11-09T00:00:00\", \"2020-11-09T00:00:00\", \"2020-11-09T00:00:00\", \"2020-11-09T00:00:00\", \"2020-11-09T00:00:00\", \"2020-11-09T00:00:00\", \"2020-11-09T00:00:00\", \"2020-11-09T00:00:00\", \"2020-11-09T00:00:00\", \"2020-11-09T00:00:00\", \"2020-11-10T00:00:00\", \"2020-11-10T00:00:00\", \"2020-11-10T00:00:00\", \"2020-11-10T00:00:00\", \"2020-11-10T00:00:00\", \"2020-11-10T00:00:00\", \"2020-11-10T00:00:00\", \"2020-11-10T00:00:00\", \"2020-11-10T00:00:00\", \"2020-11-10T00:00:00\", \"2020-11-10T00:00:00\", \"2020-11-10T00:00:00\", \"2020-11-11T00:00:00\", \"2020-11-11T00:00:00\", \"2020-11-11T00:00:00\", \"2020-11-11T00:00:00\", \"2020-11-11T00:00:00\", \"2020-11-11T00:00:00\", \"2020-11-11T00:00:00\", \"2020-11-11T00:00:00\", \"2020-11-11T00:00:00\", \"2020-11-11T00:00:00\", \"2020-11-11T00:00:00\", \"2020-11-11T00:00:00\", \"2020-11-11T00:00:00\", \"2020-11-12T00:00:00\", \"2020-11-12T00:00:00\", \"2020-11-12T00:00:00\", \"2020-11-12T00:00:00\", \"2020-11-12T00:00:00\", \"2020-11-12T00:00:00\", \"2020-11-12T00:00:00\", \"2020-11-12T00:00:00\", \"2020-11-12T00:00:00\", \"2020-11-12T00:00:00\", \"2020-11-12T00:00:00\", \"2020-11-13T00:00:00\", \"2020-11-13T00:00:00\", \"2020-11-13T00:00:00\", \"2020-11-13T00:00:00\", \"2020-11-13T00:00:00\", \"2020-11-13T00:00:00\", \"2020-11-13T00:00:00\", \"2020-11-13T00:00:00\", \"2020-11-13T00:00:00\", \"2020-11-13T00:00:00\", \"2020-11-14T00:00:00\", \"2020-11-14T00:00:00\", \"2020-11-14T00:00:00\", \"2020-11-14T00:00:00\", \"2020-11-14T00:00:00\", \"2020-11-14T00:00:00\", \"2020-11-14T00:00:00\", \"2020-11-14T00:00:00\", \"2020-11-14T00:00:00\", \"2020-11-15T00:00:00\", \"2020-11-15T00:00:00\", \"2020-11-15T00:00:00\", \"2020-11-15T00:00:00\", \"2020-11-15T00:00:00\", \"2020-11-15T00:00:00\", \"2020-11-15T00:00:00\", \"2020-11-15T00:00:00\", \"2020-11-15T00:00:00\", \"2020-11-15T00:00:00\", \"2020-11-15T00:00:00\", \"2020-11-15T00:00:00\", \"2020-11-15T00:00:00\", \"2020-11-15T00:00:00\", \"2020-11-15T00:00:00\", \"2020-11-15T00:00:00\", \"2020-11-15T00:00:00\", \"2020-11-15T00:00:00\", \"2020-11-15T00:00:00\", \"2020-11-16T00:00:00\", \"2020-11-16T00:00:00\", \"2020-11-16T00:00:00\", \"2020-11-16T00:00:00\", \"2020-11-16T00:00:00\", \"2020-11-16T00:00:00\", \"2020-11-16T00:00:00\", \"2020-11-16T00:00:00\", \"2020-11-16T00:00:00\", \"2020-11-16T00:00:00\", \"2020-11-16T00:00:00\", \"2020-11-16T00:00:00\", \"2020-11-16T00:00:00\", \"2020-11-16T00:00:00\", \"2020-11-16T00:00:00\", \"2020-11-16T00:00:00\", \"2020-11-16T00:00:00\", \"2020-11-16T00:00:00\", \"2020-11-16T00:00:00\", \"2020-11-16T00:00:00\", \"2020-11-16T00:00:00\", \"2020-11-16T00:00:00\", \"2020-11-16T00:00:00\", \"2020-11-16T00:00:00\", \"2020-11-16T00:00:00\", \"2020-11-16T00:00:00\", \"2020-11-16T00:00:00\", \"2020-11-16T00:00:00\", \"2020-11-17T00:00:00\", \"2020-11-17T00:00:00\", \"2020-11-17T00:00:00\", \"2020-11-17T00:00:00\", \"2020-11-17T00:00:00\", \"2020-11-17T00:00:00\", \"2020-11-17T00:00:00\", \"2020-11-17T00:00:00\", \"2020-11-17T00:00:00\", \"2020-11-17T00:00:00\", \"2020-11-17T00:00:00\", \"2020-11-17T00:00:00\", \"2020-11-17T00:00:00\", \"2020-11-17T00:00:00\", \"2020-11-17T00:00:00\", \"2020-11-17T00:00:00\", \"2020-11-17T00:00:00\", \"2020-11-17T00:00:00\", \"2020-11-17T00:00:00\", \"2020-11-17T00:00:00\", \"2020-11-17T00:00:00\", \"2020-11-18T00:00:00\", \"2020-11-18T00:00:00\", \"2020-11-18T00:00:00\", \"2020-11-18T00:00:00\", \"2020-11-18T00:00:00\", \"2020-11-18T00:00:00\", \"2020-11-18T00:00:00\", \"2020-11-18T00:00:00\", \"2020-11-18T00:00:00\", \"2020-11-18T00:00:00\", \"2020-11-18T00:00:00\", \"2020-11-18T00:00:00\", \"2020-11-18T00:00:00\", \"2020-11-18T00:00:00\", \"2020-11-18T00:00:00\", \"2020-11-18T00:00:00\", \"2020-11-18T00:00:00\", \"2020-11-19T00:00:00\", \"2020-11-19T00:00:00\", \"2020-11-19T00:00:00\", \"2020-11-19T00:00:00\", \"2020-11-19T00:00:00\", \"2020-11-19T00:00:00\", \"2020-11-19T00:00:00\", \"2020-11-19T00:00:00\", \"2020-11-19T00:00:00\", \"2020-11-19T00:00:00\", \"2020-11-19T00:00:00\", \"2020-11-19T00:00:00\", \"2020-11-19T00:00:00\", \"2020-11-19T00:00:00\", \"2020-11-19T00:00:00\", \"2020-11-19T00:00:00\", \"2020-11-19T00:00:00\", \"2020-11-19T00:00:00\", \"2020-11-19T00:00:00\", \"2020-11-20T00:00:00\", \"2020-11-20T00:00:00\", \"2020-11-20T00:00:00\", \"2020-11-20T00:00:00\", \"2020-11-20T00:00:00\", \"2020-11-20T00:00:00\", \"2020-11-20T00:00:00\", \"2020-11-20T00:00:00\", \"2020-11-20T00:00:00\", \"2020-11-20T00:00:00\", \"2020-11-20T00:00:00\", \"2020-11-20T00:00:00\", \"2020-11-20T00:00:00\", \"2020-11-20T00:00:00\", \"2020-11-20T00:00:00\", \"2020-11-20T00:00:00\", \"2020-11-20T00:00:00\", \"2020-11-20T00:00:00\", \"2020-11-21T00:00:00\", \"2020-11-21T00:00:00\", \"2020-11-21T00:00:00\", \"2020-11-21T00:00:00\", \"2020-11-21T00:00:00\", \"2020-11-21T00:00:00\", \"2020-11-21T00:00:00\", \"2020-11-21T00:00:00\", \"2020-11-21T00:00:00\", \"2020-11-21T00:00:00\", \"2020-11-21T00:00:00\", \"2020-11-21T00:00:00\", \"2020-11-21T00:00:00\", \"2020-11-21T00:00:00\", \"2020-11-21T00:00:00\", \"2020-11-21T00:00:00\", \"2020-11-21T00:00:00\", \"2020-11-21T00:00:00\", \"2020-11-22T00:00:00\", \"2020-11-22T00:00:00\", \"2020-11-22T00:00:00\", \"2020-11-22T00:00:00\", \"2020-11-22T00:00:00\", \"2020-11-22T00:00:00\", \"2020-11-22T00:00:00\", \"2020-11-22T00:00:00\", \"2020-11-22T00:00:00\", \"2020-11-22T00:00:00\", \"2020-11-22T00:00:00\", \"2020-11-22T00:00:00\", \"2020-11-22T00:00:00\", \"2020-11-23T00:00:00\", \"2020-11-23T00:00:00\", \"2020-11-23T00:00:00\", \"2020-11-23T00:00:00\", \"2020-11-23T00:00:00\", \"2020-11-23T00:00:00\", \"2020-11-23T00:00:00\", \"2020-11-23T00:00:00\", \"2020-11-23T00:00:00\", \"2020-11-23T00:00:00\", \"2020-11-23T00:00:00\", \"2020-11-23T00:00:00\", \"2020-11-23T00:00:00\", \"2020-11-23T00:00:00\", \"2020-11-23T00:00:00\", \"2020-11-24T00:00:00\", \"2020-11-24T00:00:00\", \"2020-11-24T00:00:00\", \"2020-11-24T00:00:00\", \"2020-11-24T00:00:00\", \"2020-11-24T00:00:00\", \"2020-11-24T00:00:00\", \"2020-11-24T00:00:00\", \"2020-11-24T00:00:00\", \"2020-11-24T00:00:00\", \"2020-11-24T00:00:00\", \"2020-11-24T00:00:00\", \"2020-11-24T00:00:00\", \"2020-11-24T00:00:00\", \"2020-11-24T00:00:00\", \"2020-11-24T00:00:00\", \"2020-11-24T00:00:00\", \"2020-11-24T00:00:00\", \"2020-11-25T00:00:00\", \"2020-11-25T00:00:00\", \"2020-11-25T00:00:00\", \"2020-11-25T00:00:00\", \"2020-11-25T00:00:00\", \"2020-11-25T00:00:00\", \"2020-11-25T00:00:00\", \"2020-11-25T00:00:00\", \"2020-11-25T00:00:00\", \"2020-11-25T00:00:00\", \"2020-11-25T00:00:00\", \"2020-11-25T00:00:00\", \"2020-11-25T00:00:00\", \"2020-11-25T00:00:00\", \"2020-11-25T00:00:00\", \"2020-11-25T00:00:00\", \"2020-11-25T00:00:00\", \"2020-11-26T00:00:00\", \"2020-11-26T00:00:00\", \"2020-11-26T00:00:00\", \"2020-11-26T00:00:00\", \"2020-11-26T00:00:00\", \"2020-11-26T00:00:00\", \"2020-11-26T00:00:00\", \"2020-11-26T00:00:00\", \"2020-11-26T00:00:00\", \"2020-11-26T00:00:00\", \"2020-11-26T00:00:00\", \"2020-11-26T00:00:00\", \"2020-11-26T00:00:00\", \"2020-11-26T00:00:00\", \"2020-11-27T00:00:00\", \"2020-11-27T00:00:00\", \"2020-11-27T00:00:00\", \"2020-11-27T00:00:00\", \"2020-11-27T00:00:00\", \"2020-11-27T00:00:00\", \"2020-11-27T00:00:00\", \"2020-11-27T00:00:00\", \"2020-11-27T00:00:00\", \"2020-11-27T00:00:00\", \"2020-11-27T00:00:00\", \"2020-11-27T00:00:00\", \"2020-11-27T00:00:00\", \"2020-11-27T00:00:00\", \"2020-11-27T00:00:00\", \"2020-11-27T00:00:00\", \"2020-11-28T00:00:00\", \"2020-11-28T00:00:00\", \"2020-11-28T00:00:00\", \"2020-11-28T00:00:00\", \"2020-11-28T00:00:00\", \"2020-11-28T00:00:00\", \"2020-11-28T00:00:00\", \"2020-11-28T00:00:00\", \"2020-11-28T00:00:00\", \"2020-11-28T00:00:00\", \"2020-11-28T00:00:00\", \"2020-11-28T00:00:00\", \"2020-11-28T00:00:00\", \"2020-11-28T00:00:00\", \"2020-11-29T00:00:00\", \"2020-11-29T00:00:00\", \"2020-11-29T00:00:00\", \"2020-11-29T00:00:00\", \"2020-11-29T00:00:00\", \"2020-11-29T00:00:00\", \"2020-11-29T00:00:00\", \"2020-11-29T00:00:00\", \"2020-11-29T00:00:00\", \"2020-11-29T00:00:00\", \"2020-11-29T00:00:00\", \"2020-11-29T00:00:00\", \"2020-11-29T00:00:00\", \"2020-11-29T00:00:00\", \"2020-11-29T00:00:00\", \"2020-11-30T00:00:00\", \"2020-11-30T00:00:00\", \"2020-11-30T00:00:00\", \"2020-11-30T00:00:00\", \"2020-11-30T00:00:00\", \"2020-11-30T00:00:00\", \"2020-11-30T00:00:00\", \"2020-11-30T00:00:00\", \"2020-11-30T00:00:00\", \"2020-11-30T00:00:00\", \"2020-11-30T00:00:00\", \"2020-12-01T00:00:00\", \"2020-12-01T00:00:00\", \"2020-12-01T00:00:00\", \"2020-12-01T00:00:00\", \"2020-12-01T00:00:00\", \"2020-12-01T00:00:00\", \"2020-12-01T00:00:00\", \"2020-12-01T00:00:00\", \"2020-12-01T00:00:00\", \"2020-12-01T00:00:00\", \"2020-12-01T00:00:00\", \"2020-12-01T00:00:00\", \"2020-12-02T00:00:00\", \"2020-12-02T00:00:00\", \"2020-12-02T00:00:00\", \"2020-12-02T00:00:00\", \"2020-12-02T00:00:00\", \"2020-12-02T00:00:00\", \"2020-12-02T00:00:00\", \"2020-12-02T00:00:00\", \"2020-12-02T00:00:00\", \"2020-12-02T00:00:00\", \"2020-12-02T00:00:00\", \"2020-12-02T00:00:00\", \"2020-12-02T00:00:00\", \"2020-12-02T00:00:00\", \"2020-12-03T00:00:00\", \"2020-12-03T00:00:00\", \"2020-12-03T00:00:00\", \"2020-12-03T00:00:00\", \"2020-12-03T00:00:00\", \"2020-12-03T00:00:00\", \"2020-12-03T00:00:00\", \"2020-12-03T00:00:00\", \"2020-12-03T00:00:00\", \"2020-12-03T00:00:00\", \"2020-12-03T00:00:00\", \"2020-12-03T00:00:00\", \"2020-12-03T00:00:00\", \"2020-12-03T00:00:00\", \"2020-12-03T00:00:00\", \"2020-12-04T00:00:00\", \"2020-12-04T00:00:00\", \"2020-12-04T00:00:00\", \"2020-12-04T00:00:00\", \"2020-12-04T00:00:00\", \"2020-12-04T00:00:00\", \"2020-12-04T00:00:00\", \"2020-12-04T00:00:00\", \"2020-12-04T00:00:00\", \"2020-12-04T00:00:00\", \"2020-12-04T00:00:00\", \"2020-12-05T00:00:00\", \"2020-12-05T00:00:00\", \"2020-12-05T00:00:00\", \"2020-12-05T00:00:00\", \"2020-12-05T00:00:00\", \"2020-12-05T00:00:00\", \"2020-12-05T00:00:00\", \"2020-12-05T00:00:00\", \"2020-12-05T00:00:00\", \"2020-12-05T00:00:00\", \"2020-12-06T00:00:00\", \"2020-12-06T00:00:00\", \"2020-12-06T00:00:00\", \"2020-12-06T00:00:00\", \"2020-12-06T00:00:00\", \"2020-12-06T00:00:00\", \"2020-12-06T00:00:00\", \"2020-12-06T00:00:00\", \"2020-12-06T00:00:00\", \"2020-12-06T00:00:00\", \"2020-12-06T00:00:00\", \"2020-12-07T00:00:00\", \"2020-12-07T00:00:00\", \"2020-12-07T00:00:00\", \"2020-12-07T00:00:00\", \"2020-12-07T00:00:00\", \"2020-12-07T00:00:00\", \"2020-12-07T00:00:00\", \"2020-12-07T00:00:00\", \"2020-12-07T00:00:00\", \"2020-12-07T00:00:00\", \"2020-12-07T00:00:00\", \"2020-12-07T00:00:00\", \"2020-12-08T00:00:00\", \"2020-12-08T00:00:00\", \"2020-12-08T00:00:00\", \"2020-12-08T00:00:00\", \"2020-12-08T00:00:00\", \"2020-12-08T00:00:00\", \"2020-12-08T00:00:00\", \"2020-12-08T00:00:00\", \"2020-12-08T00:00:00\", \"2020-12-08T00:00:00\", \"2020-12-08T00:00:00\", \"2020-12-08T00:00:00\", \"2020-12-08T00:00:00\", \"2020-12-08T00:00:00\", \"2020-12-08T00:00:00\", \"2020-12-08T00:00:00\", \"2020-12-08T00:00:00\", \"2020-12-08T00:00:00\", \"2020-12-08T00:00:00\", \"2020-12-08T00:00:00\", \"2020-12-09T00:00:00\", \"2020-12-09T00:00:00\", \"2020-12-09T00:00:00\", \"2020-12-09T00:00:00\", \"2020-12-09T00:00:00\", \"2020-12-09T00:00:00\", \"2020-12-09T00:00:00\", \"2020-12-09T00:00:00\", \"2020-12-09T00:00:00\", \"2020-12-09T00:00:00\", \"2020-12-09T00:00:00\", \"2020-12-09T00:00:00\", \"2020-12-09T00:00:00\", \"2020-12-09T00:00:00\", \"2020-12-09T00:00:00\", \"2020-12-09T00:00:00\", \"2020-12-10T00:00:00\", \"2020-12-10T00:00:00\", \"2020-12-10T00:00:00\", \"2020-12-10T00:00:00\", \"2020-12-10T00:00:00\", \"2020-12-10T00:00:00\", \"2020-12-10T00:00:00\", \"2020-12-10T00:00:00\", \"2020-12-10T00:00:00\", \"2020-12-11T00:00:00\", \"2020-12-11T00:00:00\", \"2020-12-11T00:00:00\", \"2020-12-11T00:00:00\", \"2020-12-11T00:00:00\", \"2020-12-11T00:00:00\", \"2020-12-11T00:00:00\", \"2020-12-11T00:00:00\", \"2020-12-11T00:00:00\", \"2020-12-11T00:00:00\", \"2020-12-11T00:00:00\", \"2020-12-11T00:00:00\", \"2020-12-11T00:00:00\", \"2020-12-11T00:00:00\", \"2020-12-12T00:00:00\", \"2020-12-12T00:00:00\", \"2020-12-12T00:00:00\", \"2020-12-12T00:00:00\", \"2020-12-12T00:00:00\", \"2020-12-12T00:00:00\", \"2020-12-12T00:00:00\", \"2020-12-12T00:00:00\", \"2020-12-12T00:00:00\", \"2020-12-12T00:00:00\", \"2020-12-12T00:00:00\", \"2020-12-12T00:00:00\", \"2020-12-12T00:00:00\", \"2020-12-12T00:00:00\", \"2020-12-12T00:00:00\", \"2020-12-13T00:00:00\", \"2020-12-13T00:00:00\", \"2020-12-13T00:00:00\", \"2020-12-13T00:00:00\", \"2020-12-13T00:00:00\", \"2020-12-13T00:00:00\", \"2020-12-13T00:00:00\", \"2020-12-13T00:00:00\", \"2020-12-13T00:00:00\", \"2020-12-13T00:00:00\", \"2020-12-13T00:00:00\", \"2020-12-13T00:00:00\", \"2020-12-13T00:00:00\", \"2020-12-13T00:00:00\", \"2020-12-13T00:00:00\", \"2020-12-13T00:00:00\", \"2020-12-13T00:00:00\", \"2020-12-13T00:00:00\", \"2020-12-14T00:00:00\", \"2020-12-14T00:00:00\", \"2020-12-14T00:00:00\", \"2020-12-14T00:00:00\", \"2020-12-14T00:00:00\", \"2020-12-14T00:00:00\", \"2020-12-14T00:00:00\", \"2020-12-14T00:00:00\", \"2020-12-14T00:00:00\", \"2020-12-15T00:00:00\", \"2020-12-15T00:00:00\", \"2020-12-15T00:00:00\", \"2020-12-15T00:00:00\", \"2020-12-15T00:00:00\", \"2020-12-15T00:00:00\", \"2020-12-15T00:00:00\", \"2020-12-15T00:00:00\", \"2020-12-15T00:00:00\", \"2020-12-15T00:00:00\", \"2020-12-15T00:00:00\", \"2020-12-15T00:00:00\", \"2020-12-15T00:00:00\", \"2020-12-15T00:00:00\", \"2020-12-15T00:00:00\", \"2020-12-15T00:00:00\", \"2020-12-15T00:00:00\", \"2020-12-16T00:00:00\", \"2020-12-16T00:00:00\", \"2020-12-16T00:00:00\", \"2020-12-16T00:00:00\", \"2020-12-16T00:00:00\", \"2020-12-16T00:00:00\", \"2020-12-16T00:00:00\", \"2020-12-16T00:00:00\", \"2020-12-16T00:00:00\", \"2020-12-16T00:00:00\", \"2020-12-16T00:00:00\", \"2020-12-16T00:00:00\", \"2020-12-16T00:00:00\", \"2020-12-16T00:00:00\", \"2020-12-16T00:00:00\", \"2020-12-16T00:00:00\", \"2020-12-17T00:00:00\", \"2020-12-17T00:00:00\", \"2020-12-17T00:00:00\", \"2020-12-17T00:00:00\", \"2020-12-17T00:00:00\", \"2020-12-17T00:00:00\", \"2020-12-17T00:00:00\", \"2020-12-17T00:00:00\", \"2020-12-17T00:00:00\", \"2020-12-17T00:00:00\", \"2020-12-17T00:00:00\", \"2020-12-17T00:00:00\", \"2020-12-17T00:00:00\", \"2020-12-17T00:00:00\", \"2020-12-17T00:00:00\", \"2020-12-17T00:00:00\", \"2020-12-17T00:00:00\", \"2020-12-17T00:00:00\", \"2020-12-18T00:00:00\", \"2020-12-18T00:00:00\", \"2020-12-18T00:00:00\", \"2020-12-18T00:00:00\", \"2020-12-18T00:00:00\", \"2020-12-18T00:00:00\", \"2020-12-18T00:00:00\", \"2020-12-18T00:00:00\", \"2020-12-18T00:00:00\", \"2020-12-18T00:00:00\", \"2020-12-18T00:00:00\", \"2020-12-19T00:00:00\", \"2020-12-19T00:00:00\", \"2020-12-19T00:00:00\", \"2020-12-19T00:00:00\", \"2020-12-19T00:00:00\", \"2020-12-19T00:00:00\", \"2020-12-19T00:00:00\", \"2020-12-19T00:00:00\", \"2020-12-20T00:00:00\", \"2020-12-20T00:00:00\", \"2020-12-20T00:00:00\", \"2020-12-20T00:00:00\", \"2020-12-20T00:00:00\", \"2020-12-20T00:00:00\", \"2020-12-20T00:00:00\", \"2020-12-20T00:00:00\", \"2020-12-20T00:00:00\", \"2020-12-20T00:00:00\", \"2020-12-20T00:00:00\", \"2020-12-20T00:00:00\", \"2020-12-20T00:00:00\", \"2020-12-21T00:00:00\", \"2020-12-21T00:00:00\", \"2020-12-21T00:00:00\", \"2020-12-21T00:00:00\", \"2020-12-21T00:00:00\", \"2020-12-21T00:00:00\", \"2020-12-21T00:00:00\", \"2020-12-21T00:00:00\", \"2020-12-21T00:00:00\", \"2020-12-21T00:00:00\", \"2020-12-21T00:00:00\", \"2020-12-21T00:00:00\", \"2020-12-21T00:00:00\", \"2020-12-21T00:00:00\", \"2020-12-21T00:00:00\", \"2020-12-21T00:00:00\", \"2020-12-21T00:00:00\", \"2020-12-21T00:00:00\", \"2020-12-21T00:00:00\", \"2020-12-22T00:00:00\", \"2020-12-22T00:00:00\", \"2020-12-22T00:00:00\", \"2020-12-22T00:00:00\", \"2020-12-22T00:00:00\", \"2020-12-22T00:00:00\", \"2020-12-22T00:00:00\", \"2020-12-22T00:00:00\", \"2020-12-22T00:00:00\", \"2020-12-22T00:00:00\", \"2020-12-22T00:00:00\", \"2020-12-22T00:00:00\", \"2020-12-22T00:00:00\", \"2020-12-23T00:00:00\", \"2020-12-23T00:00:00\", \"2020-12-23T00:00:00\", \"2020-12-23T00:00:00\", \"2020-12-23T00:00:00\", \"2020-12-23T00:00:00\", \"2020-12-23T00:00:00\", \"2020-12-23T00:00:00\", \"2020-12-23T00:00:00\", \"2020-12-23T00:00:00\", \"2020-12-23T00:00:00\", \"2020-12-23T00:00:00\", \"2020-12-23T00:00:00\", \"2020-12-23T00:00:00\", \"2020-12-23T00:00:00\", \"2020-12-24T00:00:00\", \"2020-12-24T00:00:00\", \"2020-12-24T00:00:00\", \"2020-12-24T00:00:00\", \"2020-12-24T00:00:00\", \"2020-12-24T00:00:00\", \"2020-12-24T00:00:00\", \"2020-12-24T00:00:00\", \"2020-12-24T00:00:00\", \"2020-12-24T00:00:00\", \"2020-12-24T00:00:00\", \"2020-12-24T00:00:00\", \"2020-12-24T00:00:00\", \"2020-12-24T00:00:00\", \"2020-12-24T00:00:00\", \"2020-12-25T00:00:00\", \"2020-12-25T00:00:00\", \"2020-12-25T00:00:00\", \"2020-12-25T00:00:00\", \"2020-12-25T00:00:00\", \"2020-12-25T00:00:00\", \"2020-12-25T00:00:00\", \"2020-12-25T00:00:00\", \"2020-12-25T00:00:00\", \"2020-12-25T00:00:00\", \"2020-12-25T00:00:00\", \"2020-12-26T00:00:00\", \"2020-12-26T00:00:00\", \"2020-12-26T00:00:00\", \"2020-12-26T00:00:00\", \"2020-12-26T00:00:00\", \"2020-12-26T00:00:00\", \"2020-12-26T00:00:00\", \"2020-12-26T00:00:00\", \"2020-12-26T00:00:00\", \"2020-12-26T00:00:00\", \"2020-12-26T00:00:00\", \"2020-12-26T00:00:00\", \"2020-12-27T00:00:00\", \"2020-12-27T00:00:00\", \"2020-12-27T00:00:00\", \"2020-12-27T00:00:00\", \"2020-12-27T00:00:00\", \"2020-12-27T00:00:00\", \"2020-12-27T00:00:00\", \"2020-12-27T00:00:00\", \"2020-12-27T00:00:00\", \"2020-12-27T00:00:00\", \"2020-12-28T00:00:00\", \"2020-12-28T00:00:00\", \"2020-12-28T00:00:00\", \"2020-12-28T00:00:00\", \"2020-12-28T00:00:00\", \"2020-12-28T00:00:00\", \"2020-12-28T00:00:00\", \"2020-12-28T00:00:00\", \"2020-12-28T00:00:00\", \"2020-12-29T00:00:00\", \"2020-12-29T00:00:00\", \"2020-12-29T00:00:00\", \"2020-12-29T00:00:00\", \"2020-12-29T00:00:00\", \"2020-12-29T00:00:00\", \"2020-12-29T00:00:00\", \"2020-12-30T00:00:00\", \"2020-12-30T00:00:00\", \"2020-12-30T00:00:00\", \"2020-12-30T00:00:00\", \"2020-12-30T00:00:00\", \"2020-12-30T00:00:00\", \"2020-12-30T00:00:00\", \"2020-12-30T00:00:00\", \"2020-12-30T00:00:00\", \"2020-12-30T00:00:00\", \"2020-12-30T00:00:00\", \"2020-12-30T00:00:00\", \"2020-12-30T00:00:00\", \"2020-12-30T00:00:00\", \"2020-12-30T00:00:00\", \"2020-12-30T00:00:00\", \"2020-12-30T00:00:00\", \"2020-12-30T00:00:00\", \"2020-12-31T00:00:00\", \"2020-12-31T00:00:00\", \"2020-12-31T00:00:00\", \"2020-12-31T00:00:00\", \"2020-12-31T00:00:00\", \"2020-12-31T00:00:00\", \"2020-12-31T00:00:00\", \"2020-12-31T00:00:00\", \"2020-12-31T00:00:00\", \"2020-12-31T00:00:00\", \"2020-12-31T00:00:00\", \"2020-12-31T00:00:00\", \"2020-12-31T00:00:00\", \"2021-01-01T00:00:00\", \"2021-01-01T00:00:00\", \"2021-01-01T00:00:00\", \"2021-01-01T00:00:00\", \"2021-01-01T00:00:00\", \"2021-01-01T00:00:00\", \"2021-01-01T00:00:00\", \"2021-01-01T00:00:00\", \"2021-01-01T00:00:00\", \"2021-01-01T00:00:00\", \"2021-01-01T00:00:00\", \"2021-01-02T00:00:00\", \"2021-01-02T00:00:00\", \"2021-01-02T00:00:00\", \"2021-01-02T00:00:00\", \"2021-01-02T00:00:00\", \"2021-01-02T00:00:00\", \"2021-01-02T00:00:00\", \"2021-01-02T00:00:00\", \"2021-01-02T00:00:00\", \"2021-01-02T00:00:00\", \"2021-01-03T00:00:00\", \"2021-01-03T00:00:00\", \"2021-01-03T00:00:00\", \"2021-01-03T00:00:00\", \"2021-01-03T00:00:00\", \"2021-01-03T00:00:00\", \"2021-01-03T00:00:00\", \"2021-01-03T00:00:00\", \"2021-01-04T00:00:00\", \"2021-01-04T00:00:00\", \"2021-01-04T00:00:00\", \"2021-01-04T00:00:00\", \"2021-01-04T00:00:00\", \"2021-01-04T00:00:00\", \"2021-01-04T00:00:00\", \"2021-01-04T00:00:00\", \"2021-01-04T00:00:00\", \"2021-01-04T00:00:00\", \"2021-01-04T00:00:00\", \"2021-01-05T00:00:00\", \"2021-01-05T00:00:00\", \"2021-01-05T00:00:00\", \"2021-01-05T00:00:00\", \"2021-01-05T00:00:00\", \"2021-01-05T00:00:00\", \"2021-01-05T00:00:00\", \"2021-01-06T00:00:00\", \"2021-01-06T00:00:00\", \"2021-01-06T00:00:00\", \"2021-01-06T00:00:00\", \"2021-01-06T00:00:00\", \"2021-01-06T00:00:00\", \"2021-01-06T00:00:00\", \"2021-01-06T00:00:00\", \"2021-01-06T00:00:00\", \"2021-01-06T00:00:00\", \"2021-01-06T00:00:00\", \"2021-01-06T00:00:00\", \"2021-01-07T00:00:00\", \"2021-01-07T00:00:00\", \"2021-01-07T00:00:00\", \"2021-01-07T00:00:00\", \"2021-01-07T00:00:00\", \"2021-01-07T00:00:00\", \"2021-01-07T00:00:00\", \"2021-01-07T00:00:00\", \"2021-01-07T00:00:00\", \"2021-01-07T00:00:00\", \"2021-01-07T00:00:00\", \"2021-01-07T00:00:00\", \"2021-01-07T00:00:00\", \"2021-01-07T00:00:00\", \"2021-01-07T00:00:00\", \"2021-01-07T00:00:00\", \"2021-01-07T00:00:00\", \"2021-01-07T00:00:00\", \"2021-01-07T00:00:00\", \"2021-01-07T00:00:00\", \"2021-01-07T00:00:00\", \"2021-01-08T00:00:00\", \"2021-01-08T00:00:00\", \"2021-01-08T00:00:00\", \"2021-01-08T00:00:00\", \"2021-01-08T00:00:00\", \"2021-01-08T00:00:00\", \"2021-01-08T00:00:00\", \"2021-01-08T00:00:00\", \"2021-01-08T00:00:00\", \"2021-01-08T00:00:00\", \"2021-01-08T00:00:00\", \"2021-01-09T00:00:00\", \"2021-01-09T00:00:00\", \"2021-01-09T00:00:00\", \"2021-01-09T00:00:00\", \"2021-01-09T00:00:00\", \"2021-01-09T00:00:00\", \"2021-01-09T00:00:00\", \"2021-01-09T00:00:00\", \"2021-01-09T00:00:00\", \"2021-01-09T00:00:00\", \"2021-01-09T00:00:00\", \"2021-01-09T00:00:00\", \"2021-01-09T00:00:00\", \"2021-01-10T00:00:00\", \"2021-01-10T00:00:00\", \"2021-01-10T00:00:00\", \"2021-01-10T00:00:00\", \"2021-01-10T00:00:00\", \"2021-01-10T00:00:00\", \"2021-01-10T00:00:00\", \"2021-01-10T00:00:00\", \"2021-01-10T00:00:00\", \"2021-01-10T00:00:00\", \"2021-01-10T00:00:00\", \"2021-01-11T00:00:00\", \"2021-01-11T00:00:00\", \"2021-01-11T00:00:00\", \"2021-01-11T00:00:00\", \"2021-01-11T00:00:00\", \"2021-01-11T00:00:00\", \"2021-01-11T00:00:00\", \"2021-01-11T00:00:00\", \"2021-01-11T00:00:00\", \"2021-01-11T00:00:00\", \"2021-01-11T00:00:00\", \"2021-01-11T00:00:00\", \"2021-01-11T00:00:00\", \"2021-01-11T00:00:00\", \"2021-01-11T00:00:00\", \"2021-01-11T00:00:00\", \"2021-01-11T00:00:00\", \"2021-01-12T00:00:00\", \"2021-01-12T00:00:00\", \"2021-01-12T00:00:00\", \"2021-01-12T00:00:00\", \"2021-01-12T00:00:00\", \"2021-01-12T00:00:00\", \"2021-01-12T00:00:00\", \"2021-01-12T00:00:00\", \"2021-01-13T00:00:00\", \"2021-01-13T00:00:00\", \"2021-01-13T00:00:00\", \"2021-01-13T00:00:00\", \"2021-01-13T00:00:00\", \"2021-01-13T00:00:00\", \"2021-01-13T00:00:00\", \"2021-01-13T00:00:00\", \"2021-01-13T00:00:00\", \"2021-01-13T00:00:00\", \"2021-01-13T00:00:00\", \"2021-01-13T00:00:00\", \"2021-01-13T00:00:00\", \"2021-01-13T00:00:00\", \"2021-01-13T00:00:00\", \"2021-01-14T00:00:00\", \"2021-01-14T00:00:00\", \"2021-01-14T00:00:00\", \"2021-01-14T00:00:00\", \"2021-01-14T00:00:00\", \"2021-01-14T00:00:00\", \"2021-01-14T00:00:00\", \"2021-01-14T00:00:00\", \"2021-01-14T00:00:00\", \"2021-01-14T00:00:00\", \"2021-01-14T00:00:00\", \"2021-01-14T00:00:00\", \"2021-01-14T00:00:00\", \"2021-01-14T00:00:00\", \"2021-01-14T00:00:00\", \"2021-01-14T00:00:00\", \"2021-01-14T00:00:00\", \"2021-01-15T00:00:00\", \"2021-01-15T00:00:00\", \"2021-01-15T00:00:00\", \"2021-01-15T00:00:00\", \"2021-01-15T00:00:00\", \"2021-01-15T00:00:00\", \"2021-01-15T00:00:00\", \"2021-01-15T00:00:00\", \"2021-01-15T00:00:00\", \"2021-01-15T00:00:00\", \"2021-01-15T00:00:00\", \"2021-01-15T00:00:00\", \"2021-01-15T00:00:00\", \"2021-01-15T00:00:00\", \"2021-01-15T00:00:00\", \"2021-01-15T00:00:00\", \"2021-01-15T00:00:00\", \"2021-01-15T00:00:00\", \"2021-01-15T00:00:00\", \"2021-01-15T00:00:00\", \"2021-01-16T00:00:00\", \"2021-01-16T00:00:00\", \"2021-01-16T00:00:00\", \"2021-01-16T00:00:00\", \"2021-01-16T00:00:00\", \"2021-01-16T00:00:00\", \"2021-01-16T00:00:00\", \"2021-01-16T00:00:00\", \"2021-01-16T00:00:00\", \"2021-01-16T00:00:00\", \"2021-01-16T00:00:00\", \"2021-01-16T00:00:00\", \"2021-01-17T00:00:00\", \"2021-01-17T00:00:00\", \"2021-01-17T00:00:00\", \"2021-01-17T00:00:00\", \"2021-01-17T00:00:00\", \"2021-01-17T00:00:00\", \"2021-01-17T00:00:00\", \"2021-01-17T00:00:00\", \"2021-01-17T00:00:00\", \"2021-01-17T00:00:00\", \"2021-01-17T00:00:00\", \"2021-01-17T00:00:00\", \"2021-01-17T00:00:00\", \"2021-01-17T00:00:00\", \"2021-01-17T00:00:00\", \"2021-01-17T00:00:00\", \"2021-01-17T00:00:00\", \"2021-01-17T00:00:00\", \"2021-01-17T00:00:00\", \"2021-01-18T00:00:00\", \"2021-01-18T00:00:00\", \"2021-01-18T00:00:00\", \"2021-01-18T00:00:00\", \"2021-01-18T00:00:00\", \"2021-01-18T00:00:00\", \"2021-01-18T00:00:00\", \"2021-01-18T00:00:00\", \"2021-01-18T00:00:00\", \"2021-01-18T00:00:00\", \"2021-01-18T00:00:00\", \"2021-01-18T00:00:00\", \"2021-01-18T00:00:00\", \"2021-01-18T00:00:00\", \"2021-01-18T00:00:00\", \"2021-01-18T00:00:00\", \"2021-01-18T00:00:00\", \"2021-01-18T00:00:00\", \"2021-01-18T00:00:00\", \"2021-01-18T00:00:00\", \"2021-01-18T00:00:00\", \"2021-01-18T00:00:00\", \"2021-01-18T00:00:00\", \"2021-01-19T00:00:00\", \"2021-01-19T00:00:00\", \"2021-01-19T00:00:00\", \"2021-01-19T00:00:00\", \"2021-01-19T00:00:00\", \"2021-01-19T00:00:00\", \"2021-01-19T00:00:00\", \"2021-01-19T00:00:00\", \"2021-01-19T00:00:00\", \"2021-01-19T00:00:00\", \"2021-01-19T00:00:00\", \"2021-01-19T00:00:00\", \"2021-01-19T00:00:00\", \"2021-01-19T00:00:00\", \"2021-01-19T00:00:00\", \"2021-01-19T00:00:00\", \"2021-01-19T00:00:00\", \"2021-01-19T00:00:00\", \"2021-01-19T00:00:00\", \"2021-01-19T00:00:00\", \"2021-01-19T00:00:00\", \"2021-01-20T00:00:00\", \"2021-01-20T00:00:00\", \"2021-01-20T00:00:00\", \"2021-01-20T00:00:00\", \"2021-01-20T00:00:00\", \"2021-01-20T00:00:00\", \"2021-01-20T00:00:00\", \"2021-01-20T00:00:00\", \"2021-01-20T00:00:00\", \"2021-01-20T00:00:00\", \"2021-01-20T00:00:00\", \"2021-01-20T00:00:00\", \"2021-01-20T00:00:00\", \"2021-01-20T00:00:00\", \"2021-01-20T00:00:00\", \"2021-01-20T00:00:00\", \"2021-01-20T00:00:00\", \"2021-01-21T00:00:00\", \"2021-01-21T00:00:00\", \"2021-01-21T00:00:00\", \"2021-01-21T00:00:00\", \"2021-01-21T00:00:00\", \"2021-01-21T00:00:00\", \"2021-01-21T00:00:00\", \"2021-01-21T00:00:00\", \"2021-01-21T00:00:00\", \"2021-01-21T00:00:00\", \"2021-01-21T00:00:00\", \"2021-01-21T00:00:00\", \"2021-01-21T00:00:00\", \"2021-01-21T00:00:00\", \"2021-01-22T00:00:00\", \"2021-01-22T00:00:00\", \"2021-01-22T00:00:00\", \"2021-01-22T00:00:00\", \"2021-01-22T00:00:00\", \"2021-01-22T00:00:00\", \"2021-01-22T00:00:00\", \"2021-01-22T00:00:00\", \"2021-01-22T00:00:00\", \"2021-01-22T00:00:00\", \"2021-01-22T00:00:00\", \"2021-01-23T00:00:00\", \"2021-01-23T00:00:00\", \"2021-01-23T00:00:00\", \"2021-01-23T00:00:00\", \"2021-01-23T00:00:00\", \"2021-01-23T00:00:00\", \"2021-01-23T00:00:00\", \"2021-01-23T00:00:00\", \"2021-01-23T00:00:00\", \"2021-01-23T00:00:00\", \"2021-01-23T00:00:00\", \"2021-01-23T00:00:00\", \"2021-01-23T00:00:00\", \"2021-01-23T00:00:00\", \"2021-01-24T00:00:00\", \"2021-01-24T00:00:00\", \"2021-01-24T00:00:00\", \"2021-01-24T00:00:00\", \"2021-01-24T00:00:00\", \"2021-01-24T00:00:00\", \"2021-01-24T00:00:00\", \"2021-01-24T00:00:00\", \"2021-01-24T00:00:00\", \"2021-01-24T00:00:00\", \"2021-01-24T00:00:00\", \"2021-01-24T00:00:00\", \"2021-01-24T00:00:00\", \"2021-01-24T00:00:00\", \"2021-01-24T00:00:00\", \"2021-01-25T00:00:00\", \"2021-01-25T00:00:00\", \"2021-01-25T00:00:00\", \"2021-01-25T00:00:00\", \"2021-01-25T00:00:00\", \"2021-01-25T00:00:00\", \"2021-01-25T00:00:00\", \"2021-01-25T00:00:00\", \"2021-01-25T00:00:00\", \"2021-01-25T00:00:00\", \"2021-01-25T00:00:00\", \"2021-01-25T00:00:00\", \"2021-01-25T00:00:00\", \"2021-01-25T00:00:00\", \"2021-01-25T00:00:00\", \"2021-01-25T00:00:00\", \"2021-01-25T00:00:00\", \"2021-01-25T00:00:00\", \"2021-01-25T00:00:00\", \"2021-01-25T00:00:00\", \"2021-01-25T00:00:00\", \"2021-01-26T00:00:00\", \"2021-01-26T00:00:00\", \"2021-01-26T00:00:00\", \"2021-01-26T00:00:00\", \"2021-01-26T00:00:00\", \"2021-01-26T00:00:00\", \"2021-01-26T00:00:00\", \"2021-01-26T00:00:00\", \"2021-01-26T00:00:00\", \"2021-01-26T00:00:00\", \"2021-01-26T00:00:00\", \"2021-01-26T00:00:00\", \"2021-01-26T00:00:00\", \"2021-01-26T00:00:00\", \"2021-01-26T00:00:00\", \"2021-01-27T00:00:00\", \"2021-01-27T00:00:00\", \"2021-01-27T00:00:00\", \"2021-01-27T00:00:00\", \"2021-01-27T00:00:00\", \"2021-01-27T00:00:00\", \"2021-01-27T00:00:00\", \"2021-01-27T00:00:00\", \"2021-01-27T00:00:00\", \"2021-01-27T00:00:00\", \"2021-01-28T00:00:00\", \"2021-01-28T00:00:00\", \"2021-01-28T00:00:00\", \"2021-01-28T00:00:00\", \"2021-01-28T00:00:00\", \"2021-01-28T00:00:00\", \"2021-01-28T00:00:00\", \"2021-01-28T00:00:00\", \"2021-01-28T00:00:00\", \"2021-01-28T00:00:00\", \"2021-01-28T00:00:00\", \"2021-01-28T00:00:00\", \"2021-01-28T00:00:00\", \"2021-01-28T00:00:00\", \"2021-01-28T00:00:00\", \"2021-01-28T00:00:00\", \"2021-01-28T00:00:00\", \"2021-01-28T00:00:00\", \"2021-01-28T00:00:00\", \"2021-01-28T00:00:00\", \"2021-01-29T00:00:00\", \"2021-01-29T00:00:00\", \"2021-01-29T00:00:00\", \"2021-01-29T00:00:00\", \"2021-01-29T00:00:00\", \"2021-01-29T00:00:00\", \"2021-01-29T00:00:00\", \"2021-01-29T00:00:00\", \"2021-01-29T00:00:00\", \"2021-01-29T00:00:00\", \"2021-01-29T00:00:00\", \"2021-01-29T00:00:00\", \"2021-01-29T00:00:00\", \"2021-01-29T00:00:00\", \"2021-01-29T00:00:00\", \"2021-01-29T00:00:00\"], \"y\": [1, 3, 12, 2, 4, 19, 19, 21, 49, 36, 34, 18, 69, 83, 34, 46, 41, 27, 1, 22, 33, 7, 7, 13, 80, 1, 1, 1, 36, 65, 97, 2, 4, 83, 3, 69, 1, 76, 198, 118, 1, 114, 1, 56, 1, 2, 84, 24, 225, 85, 1, 9, 200, 1, 1, 148, 3, 164, 1, 157, 2, 131, 1, 1, 1, 4, 1, 5, 1, 170, 6, 1, 267, 3, 2, 3, 1, 11, 2, 1, 1, 178, 1, 171, 1, 2, 18, 1, 3, 4, 203, 4, 13, 440, 1, 1, 3, 1, 3, 5, 6, 282, 14, 6, 19, 161, 10, 3, 1, 109, 12, 131, 1, 5, 4, 1, 5, 11, 5, 1, 230, 4, 1, 4, 5, 149, 16, 5, 10, 1, 194, 10, 4, 1, 142, 1, 1, 3, 20, 316, 1, 23, 1, 13, 1, 2, 363, 3, 3, 4, 7, 520, 1, 1, 25, 2, 443, 3, 1, 4, 1, 1, 10, 57, 3, 3, 2, 1, 1, 1, 673, 1, 1, 1, 30, 1, 18, 6, 2, 2, 1, 10, 3, 11, 1, 4, 1, 6, 1, 478, 8, 1, 66, 1, 1, 419, 1, 10, 1, 4, 1, 1, 1, 89, 1, 1, 4, 7, 3, 1, 1, 2, 19, 0, 2, 1, 1, 5, 839, 0, 4, 1, 0, 2, 0, 0, 0, 1, 5, 0, 488, 4, 0, 0, 3, 1, 2, 1, 642, 2, 2, 1, 2, 1, 0, 0, 1, 9, 0, 1, 1, 1, 3, 44, 3, 1, 1, 5, 10, 2, 4, 0, 3, 730, 2, 12, 0, 7, 1, 1, 2, 8, 1, 2, 7, 1, 4, 86, 815, 1, 9, 1, 0, 1, 8, 1, 6, 1, 714, 3, 1, 2, 0, 1, 3, 5, 2, 0, 2, 2, 2, 61, 3, 2, 1, 2, 1, 0, 1, 4, 1, 0, 1, 2, 118, 3, 1, 4, 2, 1, 856, 4, 2, 0, 0, 0, 6, 1, 1, 4, 0, 794, 0, 2, 1, 0, 0, 0, 0, 0, 2, 0, 0, 0, 742, 1, 6, 0, 5, 2, 2, 1, 2, 1, 0, 1, 1, 2, 0, 0, 765, 1, 8, 7, 2, 1, 1, 0, 0, 3, 0, 1, 2, 1, 1, 3, 0, 4, 1, 1, 0, 0, 3, 789, 5, 9, 2, 1, 1, 739, 2, 0, 1, 5, 1, 1, 0, 1, 1, 13, 1, 5, 4, 0, 0, 0, 1, 0, 611, 1, 0, 0, 0, 0, 0, 0, 0, 4, 0, 0, 0, 0, 3, 2, 3, 3, 483, 10, 6, 4, 2, 6, 0, 1, 2, 5, 1, 4, 0, 1, 1, 11, 0, 1, 3, 2, 1, 1, 1, 2, 1, 679, 0, 1, 0, 3, 2, 1, 1, 1, 0, 0, 0, 0, 6, 0, 0, 4, 0, 8, 2, 0, 504, 0, 0, 1, 0, 1, 2, 0, 1, 7, 2, 0, 4, 20, 27, 668, 2, 2, 1, 2, 11, 7, 4, 5, 0, 0, 3, 5, 0, 1, 3, 13, 3, 2, 2, 1, 3, 556, 2, 72, 1, 0, 0, 2, 1, 0, 1, 1, 1, 1, 1, 4, 1, 0, 4, 683, 1, 1, 1, 12, 3, 6, 2, 8, 4, 12, 5, 2, 4, 4, 1, 1, 4, 3, 1, 0, 3, 1, 9, 675, 2, 2, 1, 2, 2, 1, 3, 8, 1, 19, 4, 1, 7, 2, 0, 1, 0, 0, 719, 2, 0, 0, 0, 20, 17, 2, 28, 1, 6, 1, 4, 1, 1, 5, 6, 1, 2, 5, 2, 10, 51, 900, 7, 1, 2, 2, 6, 18, 1, 13, 1, 1, 2, 3, 1, 717, 1, 1, 27, 10, 3, 2, 1, 2, 2, 8, 2, 1, 1, 13, 22, 0, 18, 0, 1, 41, 746, 1, 3, 1, 1, 0, 1, 2, 3, 2, 11, 0, 12, 3, 1, 0, 6, 3, 2, 4, 2, 2, 5, 1, 1, 2, 1099, 39, 16, 3, 2, 1, 23, 1317, 7, 0, 55, 6, 1, 2, 1, 2, 5, 4, 63, 5, 11, 5, 3, 6, 1, 3, 28, 1, 34, 4, 16, 6, 4, 0, 6, 1, 19, 4, 6, 1431, 1, 2, 2, 1, 22, 2, 31, 5, 3, 1, 28, 34, 3, 6, 3, 40, 3, 11, 10, 7, 1, 1, 2, 1, 4, 3, 93, 12, 2, 1, 1, 27, 1, 1, 3, 1584, 5, 2, 42, 0, 22, 5, 22, 5, 6, 8, 9, 10, 19, 1089, 8, 13, 4, 3, 5, 0, 34, 3, 2, 1, 1, 4, 1, 1, 2, 27, 0, 2, 0, 4, 1, 11, 0, 11, 11, 1, 7, 54, 4, 16, 8, 2, 34, 22, 30, 1, 1, 5, 2, 50, 6, 1735, 0, 6, 2, 12, 0, 7, 17, 4, 2, 27, 1658, 0, 1, 5, 12, 1, 4, 1, 4, 7, 3, 4, 1, 8, 1, 0, 1, 0, 2, 36, 21, 1, 0, 3, 26, 1, 6, 71, 4, 1, 3, 1, 1, 54, 10, 17, 12, 31, 12, 4, 1629, 14, 1, 1, 22, 8, 1, 7, 5, 1, 39, 4, 11, 1, 10, 33, 5, 16, 0, 6, 7, 46, 1, 4, 1, 2371, 6, 17, 11, 2, 3, 5, 4, 5, 1, 0, 1, 4, 5, 2, 7, 3, 11, 1, 3, 1, 91, 4, 0, 4, 0, 8, 9, 40, 102, 1, 3, 1442, 23, 10, 1091, 2, 30, 8, 16, 2, 11, 1, 5, 1, 4, 2, 0, 1, 6, 5, 2, 1, 7, 5, 8, 6, 4, 0, 36, 3, 41, 15, 75, 3, 0, 17, 2, 27, 5, 0, 1, 4, 8, 0, 1, 0, 0, 0, 14, 22, 0, 0, 0, 5, 740, 0, 47, 0, 0, 5, 0, 4, 2, 2, 0, 7, 3, 6, 0, 2, 13, 7, 1, 2, 2, 2, 11, 27, 5, 15, 2, 2, 668, 1, 3, 0, 0, 1, 438, 7, 0, 1, 8, 8, 0, 1, 0, 1, 2, 0, 0, 0, 0, 2, 0, 1, 42, 0, 0, 0, 2, 2, 0, 0, 45, 0, 0, 5, 0, 0, 0, 1, 0, 0, 0, 0, 0, 299, 0, 0, 9, 1, 12, 0, 0, 4, 0, 0, 1, 1, 0, 0, 4, 0, 0, 0, 0, 11, 0, 1, 2, 0, 0, 225, 0, 4, 0, 1, 7, 42, 0, 0, 8, 0, 3, 4, 0, 0, 0, 0, 0, 0, 2, 8, 0, 0, 0, 0, 0, 2, 1, 0, 241, 0, 0, 33, 0, 4, 0, 0, 1, 0, 0, 0, 0, 0, 217, 9, 14, 0, 0, 0, 0, 8, 0, 1, 0, 0, 3, 0, 1, 0, 0, 0, 0, 0, 11, 0, 2, 1, 0, 3, 0, 0, 8, 2, 0, 0, 0, 0, 0, 6, 0, 0, 0, 0, 3, 16, 0, 0, 0, 0, 0, 0, 181, 0, 6, 0, 1, 5, 0, 0, 0, 1, 3, 6, 0, 12, 389, 6, 0, 0, 0, 0, 0, 23, 1, 20, 20, 1, 3, 0, 2, 363, 3, 2, 5, 4, 0, 22, 0, 0, 8, 2, 10, 1, 1, 0, 2, 1, 17, 10, 19, 25, 13, 1, 0, 12, 7, 0, 12, 1, 2, 2, 5, 5, 1, 4, 8, 342, 9, 0, 0, 0, 8, 1, 3, 2, 3, 18, 401, 24, 18, 36, 4, 4, 2, 9, 8, 1, 3, 30, 11, 2, 0, 1, 397, 2, 4, 0, 0, 0, 7, 10, 5, 8, 7, 5, 1, 2, 30, 30, 2, 3, 18, 21, 2, 2, 4, 1, 2, 6, 2, 22, 13, 2, 11, 17, 1, 2, 35, 5, 0, 2, 383, 8, 27, 0, 7, 2, 5, 5, 9, 4, 0, 3, 2, 4, 0, 0, 0, 10, 0, 0, 11, 42, 4, 1, 0, 0, 28, 0, 0, 3, 10, 3, 0, 107, 9, 0, 360, 9, 1, 7, 0, 8, 68, 1, 8, 14, 5, 0, 4, 1, 0, 332, 1, 8, 4, 2, 13, 5, 0, 29, 0, 4, 2, 0, 1, 1, 1, 2, 6, 38, 330, 5, 5, 9, 5, 0, 0, 0, 24, 10, 7, 0, 4, 0, 0, 0, 19, 4, 5, 3, 0, 2, 0, 10, 0, 28, 0, 2, 15, 5, 2, 3, 5, 308, 3, 1, 8, 13, 2, 0, 7, 0, 0, 0, 1, 12, 11, 5, 3, 6, 7, 8, 3, 3, 5, 0, 3, 22, 20, 0, 2, 2, 288, 46, 16, 2, 2, 3, 11, 1, 0, 4, 3, 1, 0, 5, 0, 3, 4, 16, 0, 3, 0, 5, 22, 0, 364, 0, 3, 8, 0, 6, 0, 0, 4, 0, 296, 8, 3, 3, 3, 0, 4, 0, 3, 6, 3, 0, 1, 4, 14, 6, 2, 2, 30, 5, 0, 5, 19, 9, 10, 1, 1, 285, 3, 20, 8, 1, 6, 3, 0, 0, 8, 1, 11, 3, 7, 13, 9, 1, 4, 6, 0, 5, 0, 0, 14, 1, 0, 247, 2, 3, 9, 0, 14, 0, 1, 3, 4, 0, 4, 70, 20, 2, 7, 1, 9, 2, 6, 5, 4, 1, 0, 10, 1, 0, 10, 0, 8, 8, 1, 0, 0, 18, 0, 258, 18, 3, 3, 18, 0, 0, 1, 13, 0, 0, 24, 9, 211, 1, 0, 5, 0, 1, 9, 7, 1, 1, 30, 7, 1, 2, 4, 3, 1, 0, 2, 18, 2, 29, 0, 1, 14, 1, 8, 0, 0, 5, 7, 12, 1, 0, 6, 2, 0, 226, 3, 0, 8, 0, 14, 5, 0, 0, 0, 0, 0, 0, 29, 1, 0, 0, 3, 1, 1, 6, 2, 5, 3, 2, 208, 4, 3, 19, 0, 5, 3, 2, 27, 0, 0, 6, 2, 1, 0, 6, 2, 3, 9, 2, 0, 185, 0, 0, 4, 5, 1, 0, 4, 3, 11, 13, 1, 1, 3, 14, 0, 1, 6, 3, 1, 2, 31, 0, 1, 2, 1, 4, 212, 9, 15, 0, 11, 5, 6, 1, 2, 2, 1, 0, 0, 0, 0, 0, 6, 178, 0, 0, 0, 0, 5, 1, 0, 3, 6, 2, 3, 53, 0, 0, 1, 1, 1, 35, 4, 5, 5, 2, 0, 2, 0, 0, 1, 0, 9, 9, 3, 2, 169, 2, 1, 0, 32, 7, 4, 4, 1, 2, 0, 0, 0, 1, 8, 0, 14, 0, 0, 5, 5, 3, 1, 44, 4, 0, 4, 0, 2, 2, 0, 1, 158, 1, 4, 3, 0, 11, 22, 0, 1, 1, 3, 2, 3, 2, 31, 0, 136, 0, 5, 0, 1, 2, 13, 1, 5, 1, 0, 1, 0, 2, 1, 4, 1, 6, 2, 2, 5, 143, 1, 3, 4, 3, 0, 2, 1, 1, 1, 10, 10, 2, 6, 0, 2, 1, 1, 2, 6, 3, 0, 3, 2, 13, 13, 7, 8, 4, 1, 0, 6, 1, 3, 3, 8, 5, 0, 5, 2, 1, 1, 3, 1, 0, 4, 0, 5, 1, 139, 0, 0, 2, 12, 6, 9, 3, 8, 2, 17, 15, 2, 13, 0, 12, 5, 1, 18, 15, 2, 21, 5, 1, 3, 14, 118, 1, 6, 5, 126, 0, 7, 0, 0, 1, 2, 2, 1, 5, 0, 10, 15, 5, 0, 0, 1, 1, 0, 8, 0, 3, 3, 5, 3, 3, 7, 6, 0, 3, 0, 4, 21, 0, 1, 4, 1, 7, 0, 0, 0, 106, 0, 2, 0, 0, 23, 6, 1, 0, 10, 2, 3, 0, 0, 0, 0, 8, 0, 1, 1, 2, 20, 0, 118, 7, 0, 0, 2, 2, 3, 0, 0, 4, 0, 0, 0, 1, 3, 2, 1, 0, 0, 2, 0, 8, 30, 4, 2, 0, 0, 0, 0, 0, 0, 0, 108, 0, 0, 3, 0, 13, 0, 0, 3, 2, 0, 1, 0, 0, 0, 3, 114, 0, 0, 0, 0, 0, 5, 0, 0, 1, 0, 24, 4, 4, 0, 3, 0, 5, 0, 0, 1, 6, 0, 1, 1, 0, 9, 5, 13, 0, 99, 5, 0, 2, 0, 2, 7, 1, 0, 0, 7, 102, 2, 1, 10, 5, 7, 5, 0, 0, 0, 1, 2, 1, 9, 6, 1, 7, 7, 24, 0, 1, 1, 0, 0, 1, 30, 0, 1, 0, 4, 0, 0, 0, 0, 0, 8, 0, 2, 4, 7, 94, 6, 7, 2, 5, 0, 1, 2, 1, 3, 7, 1, 9, 4, 5, 0, 0, 1, 3, 1, 4, 4, 4, 1, 89, 0, 0, 4, 1, 2, 0, 1, 0, 8, 0, 2, 2, 6, 0, 2, 7, 0, 0, 9, 1, 0, 5, 0, 13, 0, 0, 1, 97, 2, 1, 4, 5, 1, 13, 1, 0, 12, 3, 6, 109, 10, 1, 11, 1, 2, 8, 3, 2, 2, 2, 4, 7, 3, 15, 4, 3, 2, 1, 1, 4, 6, 3, 1, 7, 1, 5, 45, 1, 3, 2, 2, 4, 6, 7, 4, 1, 0, 93, 1, 28, 2, 3, 1, 2, 3, 1, 8, 0, 5, 0, 12, 10, 1, 9, 5, 1, 1, 3, 6, 2, 4, 8, 3, 1, 89, 9, 0, 9, 2, 1, 24, 1, 7, 1, 3, 3, 1, 101, 10, 1, 7, 9, 1, 8, 6, 1, 10, 1, 2, 1, 9, 4, 106, 6, 0, 1, 1, 0, 1, 1, 9, 5, 14, 1, 12, 9, 0, 0, 6, 2, 8, 4, 1, 0, 0, 1, 16, 14, 88, 5, 9, 4, 0, 2, 4, 3, 5, 5, 3, 2, 3, 4, 4, 4, 10, 6, 1, 8, 9, 13, 6, 3, 1, 2, 9, 6, 2, 21, 13, 3, 5, 0, 101, 4, 15, 17, 2, 2, 0, 14, 0, 0, 0, 10, 1, 0, 4, 0, 78, 0, 13, 9, 15, 0, 0, 24, 1, 4, 0, 0, 0, 86, 1, 2, 7, 1, 5, 8, 3, 5, 0, 2, 2, 4, 4, 0, 1, 8, 3, 9, 0, 2, 1, 0, 9, 4, 3, 7, 0, 2, 0, 0, 2, 63, 1, 3, 11, 13, 0, 2, 0, 0, 0, 1, 1, 0, 0, 2, 8, 6, 0, 0, 2, 1, 3, 1, 0, 9, 2, 1, 1, 4, 7, 0, 2, 1, 4, 2, 0, 59, 1, 1, 1, 3, 3, 13, 7, 2, 2, 3, 9, 3, 0, 2, 0, 1, 0, 0, 11, 0, 0, 62, 0, 0, 1, 0, 0, 1, 0, 0, 1, 0, 6, 0, 0, 3, 0, 11, 1, 6, 0, 0, 5, 6, 0, 0, 0, 0, 0, 0, 3, 3, 0, 5, 0, 1, 2, 4, 45, 0, 3, 3, 6, 0, 4, 0, 4, 3, 1, 4, 0, 0, 2, 0, 1, 64, 3, 2, 0, 6, 0, 0, 1, 0, 2, 5, 1, 0, 0, 6, 3, 4, 13, 6, 3, 4, 0, 4, 8, 0, 3, 0, 49, 0, 3, 1, 0, 7, 4, 6, 3, 1, 4, 1, 0, 1, 1, 0, 0, 0, 0, 1, 21, 0, 0, 8, 0, 0, 2, 13, 0, 0, 0, 6, 0, 1, 0, 0, 0, 0, 59, 9, 2, 5, 2, 1, 2, 2, 2, 8, 1, 43, 7, 5, 2, 7, 0, 1, 2, 3, 4, 0, 1, 7, 0, 4, 0, 3, 2, 4, 0, 1, 0, 0, 1, 0, 53, 0, 0, 0, 0, 0, 1, 0, 4, 3, 4, 1, 2, 0, 0, 2, 2, 1, 2, 4, 8, 8, 4, 4, 2, 2, 2, 40, 5, 1, 2, 0, 4, 3, 0, 3, 0, 8, 3, 1, 0, 37, 1, 0, 0, 0, 1, 0, 2, 2, 0, 2, 0, 0, 5, 7, 5, 2, 1, 8, 0, 4, 5, 51, 4, 9, 1, 4, 7, 1, 1, 1, 3, 9, 0, 6, 1, 9, 2, 3, 0, 13, 6, 1, 0, 0, 55, 0, 9, 1, 1, 20, 2, 27, 4, 3, 0, 5, 4, 0, 0, 0, 0, 4, 3, 1, 1, 2, 4, 0, 0, 1, 56, 0, 0, 0, 0, 11, 0, 5, 1, 1, 0, 0, 4, 5, 4, 1, 0, 1, 3, 1, 5, 61, 1, 0, 3, 13, 0, 3, 0, 0, 0, 1, 8, 48, 1, 0, 0, 0, 0, 0, 1, 1, 1, 0, 2, 1, 2, 9, 0, 0, 0, 45, 0, 2, 4, 1, 1, 0, 2, 2, 0, 3, 1, 1, 0, 2, 1, 2, 0, 3, 1, 1, 0, 1, 38, 0, 3, 1, 2, 9, 2, 1, 3, 1, 11, 3, 1, 0, 11, 0, 2, 1, 2, 0, 46, 0, 1, 1, 1, 1, 1, 1, 1, 1, 0, 1, 1, 1, 1, 0, 1, 1, 2, 0, 3, 0, 1, 1, 0, 3, 0, 1, 1, 44, 2, 0, 2, 2, 5, 5, 0, 2, 2, 6, 0, 0, 2, 3, 0, 0, 0, 3, 5, 0, 6, 0, 0, 0, 0, 7, 1, 0, 37, 1, 4, 3, 1, 4, 3, 0, 2, 0, 6, 4, 1, 1, 3, 3, 1, 41, 1, 1, 1, 5, 2, 6, 4, 1, 1, 1, 38, 1, 5, 5, 2, 6, 0, 2, 0, 2, 1, 1, 1, 2, 1, 2, 0, 39, 1, 2, 0, 2, 0, 5, 0, 3, 0, 0, 1, 5, 0, 1, 1, 0, 0, 3, 2, 8, 2, 1, 3, 0, 2, 46, 0, 2, 1, 0, 2, 5, 5, 4, 4, 0, 0, 3, 2, 2, 43, 4, 1, 1, 2, 4, 1, 5, 2, 2, 40, 1, 6, 0, 1, 1, 2, 3, 1, 5, 0, 2, 2, 0, 1, 2, 2, 3, 2, 3, 2, 0, 38, 0, 7, 0, 0, 1, 1, 2, 4, 2, 3, 1, 0, 0, 3, 1, 2, 3, 0, 6, 1, 4, 7, 5, 0, 1, 0, 10, 37, 0, 0, 2, 0, 35, 0, 1, 1, 7, 0, 1, 2, 0, 6, 3, 1, 4, 5, 0, 0, 0, 4, 5, 0, 0, 9, 2, 4, 0, 0, 40, 1, 1, 1, 1, 0, 1, 42, 3, 1, 0, 1, 1, 4, 0, 0, 2, 1, 0, 2, 1, 1, 44, 1, 0, 1, 0, 0, 3, 1, 1, 1, 0, 1, 1, 1, 1, 1, 0, 1, 1, 1, 1, 41, 1, 1, 1, 2, 2, 1, 1, 3, 2, 1, 0, 1, 1, 1, 39, 1, 3, 0, 1, 1, 0, 1, 1, 0, 2, 3, 2, 0, 0, 0, 0, 0, 0, 0, 35, 1, 0, 5, 1, 0, 0, 0, 0, 0, 0, 0, 0, 4, 2, 0, 1, 3, 0, 0, 1, 1, 4, 0, 0, 0, 0, 0, 0, 1, 0, 6, 0, 0, 0, 0, 2, 0, 0, 29, 0, 0, 2, 0, 0, 1, 0, 1, 1, 0, 0, 30, 0, 1, 5, 2, 0, 2, 1, 5, 0, 1, 0, 1, 0, 3, 32, 3, 3, 0, 1, 1, 1, 4, 3, 1, 1, 1, 0, 3, 0, 2, 3, 0, 1, 33, 0, 0, 34, 0, 1, 2, 0, 0, 4, 1, 2, 0, 1, 1, 0, 0, 0, 3, 0, 0, 0, 5, 2, 4, 1, 3, 1, 3, 1, 2, 1, 2, 2, 2, 36, 1, 2, 0, 1, 1, 2, 30, 0, 1, 0, 1, 2, 0, 1, 1, 1, 0, 1, 1, 2, 0, 1, 0, 1, 2, 2, 5, 0, 27, 3, 0, 2, 0, 2, 0, 1, 1, 1, 29, 0, 1, 2, 0, 1, 3, 0, 2, 2, 0, 1, 1, 1, 2, 0, 1, 1, 0, 1, 1, 1, 0, 0, 1, 3, 2, 1, 2, 33, 2, 1, 3, 1, 1, 1, 35, 1, 2, 1, 0, 0, 4, 1, 5, 1, 1, 31, 1, 2, 0, 1, 3, 0, 0, 2, 3, 2, 1, 1, 26, 1, 5, 5, 7, 1, 1, 3, 2, 2, 3, 1, 1, 1, 1, 2, 2, 1, 1, 1, 28, 1, 1, 0, 6, 1, 1, 1, 1, 1, 3, 1, 25, 2, 1, 1, 1, 2, 1, 1, 2, 1, 1, 2, 1, 2, 0, 1, 5, 29, 1, 0, 2, 0, 0, 0, 1, 1, 1, 2, 0, 1, 2, 24, 0, 1, 1, 4, 3, 1, 1, 2, 2, 2, 0, 2, 0, 1, 1, 1, 1, 1, 1, 2, 1, 1, 28, 1, 0, 1, 0, 25, 1, 1, 1, 1, 1, 1, 0, 1, 3, 0, 1, 2, 1, 3, 3, 3, 1, 1, 30, 1, 1, 1, 0, 2, 0, 2, 1, 1, 5, 2, 2, 3, 5, 23, 1, 1, 0, 3, 9, 4, 1, 32, 2, 1, 0, 0, 0, 3, 1, 0, 5, 2, 0, 3, 0, 0, 0, 3, 27, 6, 1, 1, 0, 24, 1, 1, 0, 1, 1, 1, 6, 0, 0, 3, 7, 2, 1, 29, 1, 2, 1, 0, 1, 1, 1, 0, 2, 1, 1, 2, 1, 3, 1, 1, 6, 1, 42, 3, 0, 2, 9, 0, 0, 0, 3, 3, 1, 0, 1, 1, 1, 2, 2, 2, 3, 2, 25, 1, 0, 8, 1, 1, 2, 11, 1, 12, 7, 1, 1, 1, 0, 4, 8, 1, 1, 2, 25, 3, 3, 6, 9, 12, 2, 1, 0, 2, 1, 25, 5, 12, 1, 0, 25, 7, 5, 1, 2, 7, 1, 3, 1, 2, 8, 1, 1, 1, 3, 27, 2, 1, 7, 1, 2, 1, 2, 4, 1, 1, 23, 2, 4, 1, 0, 2, 5, 4, 0, 0, 34, 2, 1, 2, 2, 8, 5, 1, 3, 3, 2, 1, 3, 11, 1, 2, 1, 1, 9, 39, 4, 2, 4, 1, 1, 2, 3, 1, 1, 1, 1, 4, 42, 1, 4, 3, 2, 1, 1, 2, 1, 1, 37, 3, 1, 1, 2, 5, 1, 41, 4, 1, 1, 1, 1, 2, 1, 1, 18, 1, 0, 36, 0, 5, 0, 0, 1, 16, 1, 2, 44, 2, 13, 2, 4, 1, 3, 1, 3, 1, 9, 1, 8, 3, 1, 1, 49, 1, 1, 2, 1, 5, 1, 46, 0, 7, 2, 2, 1, 3, 2, 1, 0, 3, 4, 1, 7, 1, 4, 1, 3, 3, 2, 53, 44, 2, 2, 1, 1, 3, 1, 3, 2, 1, 1, 1, 1, 1, 1, 1, 48, 1, 3, 7, 2, 3, 2, 1, 1, 1, 37, 2, 4, 40, 2, 1, 3, 3, 1, 1, 2, 2, 2, 1, 2, 2, 1, 1, 1, 1, 1, 1, 1, 1, 53, 2, 1, 2, 2, 2, 3, 5, 3, 1, 1, 1, 1, 67, 3, 69, 2, 1, 1, 3, 1, 3, 2, 1, 2, 1, 1, 1, 2, 2, 1, 0, 64, 1, 7, 1, 7, 16, 1, 0, 62, 1, 0, 0, 1, 1, 1, 1, 1, 54, 0, 4, 0, 0, 2, 1, 1, 1, 1, 1, 2, 2, 2, 2, 1, 1, 2, 60, 2, 1, 2, 1, 1, 1, 2, 2, 5, 1, 1, 3, 0, 1, 2, 58, 2, 1, 4, 1, 1, 2, 1, 1, 1, 0, 1, 55, 1, 6, 1, 1, 2, 0, 1, 0, 59, 3, 2, 9, 1, 0, 62, 1, 4, 6, 7, 1, 1, 3, 3, 1, 4, 1, 1, 57, 1, 2, 1, 1, 1, 2, 5, 0, 1, 42, 1, 0, 0, 0, 1, 0, 0, 0, 0, 0, 0, 0, 0, 1, 35, 0, 0, 0, 3, 1, 0, 0, 0, 1, 1, 0, 0, 3, 0, 4, 2, 0, 0, 3, 0, 1, 0, 0, 0, 0, 0, 1, 1, 0, 0, 0, 0, 3, 1, 2, 1, 6, 0, 1, 0, 0, 0, 2, 0, 1, 0, 0, 63, 1, 1, 50, 1, 9, 7, 3, 1, 0, 0, 3, 1, 7, 1, 2, 0, 0, 1, 1, 1, 1, 0, 2, 1, 0, 0, 0, 0, 0, 1, 2, 1, 1, 0, 76, 2, 0, 1, 0, 0, 0, 1, 1, 0, 0, 0, 63, 0, 0, 0, 0, 0, 0, 0, 2, 1, 51, 0, 0, 7, 0, 0, 0, 0, 4, 0, 0, 2, 4, 0, 0, 0, 0, 1, 0, 1, 1, 1, 46, 2, 0, 1, 0, 3, 1, 2, 3, 1, 0, 0, 0, 12, 2, 0, 33, 0, 1, 9, 5, 1, 7, 1, 2, 1, 7, 61, 0, 3, 7, 0, 1, 2, 0, 1, 2, 0, 2, 2, 0, 65, 0, 1, 8, 3, 0, 0, 5, 1, 0, 2, 11, 0, 10, 0, 2, 0, 0, 1, 1, 1, 2, 2, 2, 4, 0, 0, 0, 1, 70, 0, 55, 1, 1, 0, 0, 0, 0, 1, 1, 0, 5, 0, 0, 1, 0, 0, 0, 5, 2, 0, 4, 51, 0, 1, 0, 8, 0, 3, 1, 1, 0, 0, 1, 1, 2, 10, 0, 2, 1, 0, 1, 2, 44, 2, 1, 1, 1, 38, 5, 4, 1, 8, 2, 1, 0, 0, 1, 6, 0, 0, 0, 42, 1, 4, 1, 2, 8, 8, 0, 1, 0, 0, 49, 0, 1, 0, 1, 1, 10, 7, 0, 1, 4, 0, 1, 1, 0, 2, 0, 0, 0, 0, 0, 57, 0, 4, 56, 0, 0, 1, 1, 1, 1, 2, 1, 1, 0, 2, 1, 2, 0, 0, 36, 0, 0, 6, 5, 0, 0, 2, 3, 28, 1, 0, 1, 2, 5, 2, 1, 2, 1, 9, 1, 0, 1, 1, 2, 3, 31, 1, 3, 3, 1, 0, 1, 1, 7, 1, 2, 2, 2, 7, 2, 5, 20, 1, 2, 1, 1, 3, 9, 3, 0, 15, 0, 5, 1, 1, 1, 3, 1, 0, 6, 1, 0, 1, 1, 0, 0, 1, 1, 1, 0, 1, 40, 3, 1, 3, 1, 1, 1, 1, 0, 1, 1, 5, 1, 1, 40, 0, 1, 1, 2, 0, 1, 4, 0, 1, 7, 0, 3, 1, 23, 0, 0, 1, 2, 0, 0, 29, 0, 0, 0, 1, 2, 1, 1, 0, 5, 2, 2, 0, 0, 2, 1, 1, 1, 0, 27, 1, 1, 1, 3, 2, 1, 4, 1, 1, 0, 1, 4, 1, 26, 1, 1, 2, 2, 2, 1, 0, 34, 3, 0, 1, 0, 1, 0, 0, 0, 0, 3, 0, 1, 1, 2, 1, 0, 0, 0, 1, 0, 1, 0, 2, 1, 1, 0, 0, 0, 1, 37, 0, 0, 3, 1, 34, 0, 1, 0, 2, 1, 1, 1, 0, 4, 33, 1, 0, 1, 0, 1, 0, 0, 0, 0, 0, 0, 1, 0, 29, 1, 0, 0, 0, 1, 1, 1, 29, 3, 1, 3, 1, 2, 3, 2, 6, 1, 1, 3, 1, 0, 4, 1, 4, 0, 1, 34, 5, 5, 2, 0, 0, 1, 5, 1, 1, 0, 10, 1, 5, 3, 0, 4, 1, 2, 22, 4, 0, 0, 0, 0, 1, 4, 0, 0, 0, 0, 0, 1, 2, 1, 1, 1, 1, 0, 32, 1, 0, 1, 3, 1, 1, 0, 0, 31, 0, 1, 0, 1, 0, 1, 2, 0, 0, 36, 1, 0, 1, 0, 1, 0, 1, 1, 0, 1, 0, 0, 0, 36, 1, 4, 2, 1, 0, 37, 1, 0, 0, 1, 2, 0, 1, 0, 1, 39, 0, 1, 1, 2, 0, 0, 0, 1, 0, 43, 2, 0, 0, 2, 2, 1, 0, 0, 1, 0, 1, 0, 30, 2, 2, 1, 1, 2, 0, 1, 0, 0, 0, 1, 4, 1, 0, 0, 1, 0, 36, 0, 0, 0, 0, 1, 1, 0, 2, 30, 1, 0, 29, 0, 1, 0, 2, 0, 1, 1, 3, 1, 1, 0, 1, 1, 38, 0, 0, 1, 1, 0, 1, 1, 1, 38, 1, 1, 3, 4, 31, 1, 3, 2, 1, 1, 0, 1, 0, 1, 0, 4, 8, 3, 0, 1, 1, 0, 0, 0, 0, 2, 0, 1, 0, 3, 3, 1, 0, 0, 19, 2, 0, 0, 0, 1, 0, 3, 1, 1, 31, 1, 3, 1, 0, 0, 1, 38, 0, 0, 1, 0, 2, 1, 0, 0, 1, 2, 1, 1, 33, 1, 1, 3, 0, 0, 2, 1, 0, 0, 1, 1, 0, 1, 0, 39, 0, 1, 0, 0, 0, 0, 2, 1, 1, 0, 1, 1, 1, 38, 0, 2, 0, 0, 0, 2, 3, 32, 2, 2, 2, 0, 0, 1, 0, 0, 0, 1, 4, 4, 1, 3, 0, 2, 3, 36, 3, 0, 0, 1, 0, 4, 4, 2, 0, 0, 0, 1, 2, 6, 2, 5, 3, 1, 3, 4, 0, 3, 0, 25, 1, 0, 0, 2, 50, 1, 0, 0, 0, 0, 1, 1, 2, 1, 4, 1, 0, 0, 8, 2, 0, 0, 0, 6, 4, 1, 1, 0, 1, 0, 0, 0, 43, 0, 0, 0, 0, 37, 1, 0, 0, 3, 1, 0, 1, 1, 0, 0, 0, 0, 0, 9, 0, 0, 0, 0, 0, 0, 0, 5, 1, 0, 45, 3, 1, 0, 1, 8, 1, 3, 1, 0, 1, 1, 8, 2, 4, 1, 1, 0, 1, 0, 1, 2, 1, 1, 1, 2, 69, 1, 1, 1, 1, 0, 0, 4, 1, 2, 1, 4, 0, 1, 1, 0, 2, 0, 69, 3, 0, 6, 4, 1, 7, 1, 5, 2, 1, 50, 1, 0, 1, 0, 2, 68, 0, 1, 1, 2, 0, 4, 2, 0, 0, 1, 3, 57, 0, 0, 0, 0, 0, 1, 0, 5, 4, 1, 0, 0, 4, 1, 1, 1, 1, 1, 2, 1, 1, 1, 1, 1, 1, 2, 1, 2, 1, 1, 1, 56, 1, 0, 1, 0, 0, 0, 1, 1, 2, 7, 0, 2, 5, 62, 1, 1, 1, 71, 0, 0, 2, 6, 1, 1, 2, 0, 2, 1, 0, 2, 2, 0, 2, 6, 2, 1, 0, 2, 0, 3, 4, 51, 6, 3, 3, 0, 1, 0, 1, 0, 10, 0, 1, 6, 0, 1, 2, 1, 77, 1, 0, 1, 4]}, {\"hoverinfo\": \"skip\", \"line\": {\"width\": 0}, \"mode\": \"lines\", \"type\": \"scatter\", \"x\": [\"2020-03-09T00:00:00\", \"2020-03-13T00:00:00\", \"2020-03-14T00:00:00\", \"2020-03-15T00:00:00\", \"2020-03-16T00:00:00\", \"2020-03-17T00:00:00\", \"2020-03-18T00:00:00\", \"2020-03-19T00:00:00\", \"2020-03-20T00:00:00\", \"2020-03-21T00:00:00\", \"2020-03-22T00:00:00\", \"2020-03-23T00:00:00\", \"2020-03-24T00:00:00\", \"2020-03-25T00:00:00\", \"2020-03-26T00:00:00\", \"2020-03-27T00:00:00\", \"2020-03-28T00:00:00\", \"2020-03-29T00:00:00\", \"2020-03-30T00:00:00\", \"2020-03-31T00:00:00\", \"2020-04-01T00:00:00\", \"2020-04-02T00:00:00\", \"2020-04-03T00:00:00\", \"2020-04-04T00:00:00\", \"2020-04-05T00:00:00\", \"2020-04-06T00:00:00\", \"2020-04-07T00:00:00\", \"2020-04-08T00:00:00\", \"2020-04-09T00:00:00\", \"2020-04-10T00:00:00\", \"2020-04-11T00:00:00\", \"2020-04-12T00:00:00\", \"2020-04-13T00:00:00\", \"2020-04-14T00:00:00\", \"2020-04-15T00:00:00\", \"2020-04-16T00:00:00\", \"2020-04-17T00:00:00\", \"2020-04-18T00:00:00\", \"2020-04-19T00:00:00\", \"2020-04-20T00:00:00\", \"2020-04-21T00:00:00\", \"2020-04-22T00:00:00\", \"2020-04-23T00:00:00\", \"2020-04-24T00:00:00\", \"2020-04-25T00:00:00\", \"2020-04-26T00:00:00\", \"2020-04-27T00:00:00\", \"2020-04-28T00:00:00\", \"2020-04-29T00:00:00\", \"2020-04-30T00:00:00\", \"2020-05-01T00:00:00\", \"2020-05-02T00:00:00\", \"2020-05-03T00:00:00\", \"2020-05-04T00:00:00\", \"2020-05-05T00:00:00\", \"2020-05-06T00:00:00\", \"2020-05-07T00:00:00\", \"2020-05-08T00:00:00\", \"2020-05-09T00:00:00\", \"2020-05-10T00:00:00\", \"2020-05-11T00:00:00\", \"2020-05-12T00:00:00\", \"2020-05-13T00:00:00\", \"2020-05-14T00:00:00\", \"2020-05-15T00:00:00\", \"2020-05-16T00:00:00\", \"2020-05-17T00:00:00\", \"2020-05-18T00:00:00\", \"2020-05-19T00:00:00\", \"2020-05-20T00:00:00\", \"2020-05-21T00:00:00\", \"2020-05-22T00:00:00\", \"2020-05-23T00:00:00\", \"2020-05-24T00:00:00\", \"2020-05-25T00:00:00\", \"2020-05-26T00:00:00\", \"2020-05-27T00:00:00\", \"2020-05-28T00:00:00\", \"2020-05-29T00:00:00\", \"2020-05-30T00:00:00\", \"2020-05-31T00:00:00\", \"2020-06-01T00:00:00\", \"2020-06-02T00:00:00\", \"2020-06-03T00:00:00\", \"2020-06-04T00:00:00\", \"2020-06-05T00:00:00\", \"2020-06-06T00:00:00\", \"2020-06-07T00:00:00\", \"2020-06-08T00:00:00\", \"2020-06-09T00:00:00\", \"2020-06-10T00:00:00\", \"2020-06-11T00:00:00\", \"2020-06-12T00:00:00\", \"2020-06-13T00:00:00\", \"2020-06-14T00:00:00\", \"2020-06-15T00:00:00\", \"2020-06-16T00:00:00\", \"2020-06-17T00:00:00\", \"2020-06-18T00:00:00\", \"2020-06-19T00:00:00\", \"2020-06-20T00:00:00\", \"2020-06-21T00:00:00\", \"2020-06-22T00:00:00\", \"2020-06-23T00:00:00\", \"2020-06-24T00:00:00\", \"2020-06-25T00:00:00\", \"2020-06-26T00:00:00\", \"2020-06-27T00:00:00\", \"2020-06-28T00:00:00\", \"2020-06-29T00:00:00\", \"2020-06-30T00:00:00\", \"2020-07-01T00:00:00\", \"2020-07-02T00:00:00\", \"2020-07-03T00:00:00\", \"2020-07-04T00:00:00\", \"2020-07-05T00:00:00\", \"2020-07-06T00:00:00\", \"2020-07-07T00:00:00\", \"2020-07-08T00:00:00\", \"2020-07-09T00:00:00\", \"2020-07-10T00:00:00\", \"2020-07-11T00:00:00\", \"2020-07-12T00:00:00\", \"2020-07-13T00:00:00\", \"2020-07-14T00:00:00\", \"2020-07-15T00:00:00\", \"2020-07-16T00:00:00\", \"2020-07-17T00:00:00\", \"2020-07-18T00:00:00\", \"2020-07-19T00:00:00\", \"2020-07-20T00:00:00\", \"2020-07-21T00:00:00\", \"2020-07-22T00:00:00\", \"2020-07-23T00:00:00\", \"2020-07-24T00:00:00\", \"2020-07-25T00:00:00\", \"2020-07-26T00:00:00\", \"2020-07-27T00:00:00\", \"2020-07-28T00:00:00\", \"2020-07-29T00:00:00\", \"2020-07-30T00:00:00\", \"2020-07-31T00:00:00\", \"2020-08-01T00:00:00\", \"2020-08-02T00:00:00\", \"2020-08-03T00:00:00\", \"2020-08-04T00:00:00\", \"2020-08-05T00:00:00\", \"2020-08-06T00:00:00\", \"2020-08-07T00:00:00\", \"2020-08-08T00:00:00\", \"2020-08-09T00:00:00\", \"2020-08-10T00:00:00\", \"2020-08-11T00:00:00\", \"2020-08-12T00:00:00\", \"2020-08-13T00:00:00\", \"2020-08-14T00:00:00\", \"2020-08-15T00:00:00\", \"2020-08-16T00:00:00\", \"2020-08-17T00:00:00\", \"2020-08-18T00:00:00\", \"2020-08-19T00:00:00\", \"2020-08-20T00:00:00\", \"2020-08-21T00:00:00\", \"2020-08-22T00:00:00\", \"2020-08-23T00:00:00\", \"2020-08-24T00:00:00\", \"2020-08-25T00:00:00\", \"2020-08-26T00:00:00\", \"2020-08-27T00:00:00\", \"2020-08-28T00:00:00\", \"2020-08-29T00:00:00\", \"2020-08-30T00:00:00\", \"2020-08-31T00:00:00\", \"2020-09-01T00:00:00\", \"2020-09-02T00:00:00\", \"2020-09-03T00:00:00\", \"2020-09-04T00:00:00\", \"2020-09-05T00:00:00\", \"2020-09-06T00:00:00\", \"2020-09-07T00:00:00\", \"2020-09-08T00:00:00\", \"2020-09-09T00:00:00\", \"2020-09-10T00:00:00\", \"2020-09-11T00:00:00\", \"2020-09-12T00:00:00\", \"2020-09-13T00:00:00\", \"2020-09-14T00:00:00\", \"2020-09-15T00:00:00\", \"2020-09-16T00:00:00\", \"2020-09-17T00:00:00\", \"2020-09-18T00:00:00\", \"2020-09-19T00:00:00\", \"2020-09-20T00:00:00\", \"2020-09-21T00:00:00\", \"2020-09-22T00:00:00\", \"2020-09-23T00:00:00\", \"2020-09-24T00:00:00\", \"2020-09-25T00:00:00\", \"2020-09-26T00:00:00\", \"2020-09-27T00:00:00\", \"2020-09-28T00:00:00\", \"2020-09-29T00:00:00\", \"2020-09-30T00:00:00\", \"2020-10-01T00:00:00\", \"2020-10-02T00:00:00\", \"2020-10-03T00:00:00\", \"2020-10-04T00:00:00\", \"2020-10-05T00:00:00\", \"2020-10-06T00:00:00\", \"2020-10-07T00:00:00\", \"2020-10-08T00:00:00\", \"2020-10-09T00:00:00\", \"2020-10-10T00:00:00\", \"2020-10-11T00:00:00\", \"2020-10-12T00:00:00\", \"2020-10-13T00:00:00\", \"2020-10-14T00:00:00\", \"2020-10-15T00:00:00\", \"2020-10-16T00:00:00\", \"2020-10-17T00:00:00\", \"2020-10-18T00:00:00\", \"2020-10-19T00:00:00\", \"2020-10-20T00:00:00\", \"2020-10-21T00:00:00\", \"2020-10-22T00:00:00\", \"2020-10-23T00:00:00\", \"2020-10-24T00:00:00\", \"2020-10-25T00:00:00\", \"2020-10-26T00:00:00\", \"2020-10-27T00:00:00\", \"2020-10-28T00:00:00\", \"2020-10-29T00:00:00\", \"2020-10-30T00:00:00\", \"2020-10-31T00:00:00\", \"2020-11-01T00:00:00\", \"2020-11-02T00:00:00\", \"2020-11-03T00:00:00\", \"2020-11-04T00:00:00\", \"2020-11-05T00:00:00\", \"2020-11-06T00:00:00\", \"2020-11-07T00:00:00\", \"2020-11-08T00:00:00\", \"2020-11-09T00:00:00\", \"2020-11-10T00:00:00\", \"2020-11-11T00:00:00\", \"2020-11-12T00:00:00\", \"2020-11-13T00:00:00\", \"2020-11-14T00:00:00\", \"2020-11-15T00:00:00\", \"2020-11-16T00:00:00\", \"2020-11-17T00:00:00\", \"2020-11-18T00:00:00\", \"2020-11-19T00:00:00\", \"2020-11-20T00:00:00\", \"2020-11-21T00:00:00\", \"2020-11-22T00:00:00\", \"2020-11-23T00:00:00\", \"2020-11-24T00:00:00\", \"2020-11-25T00:00:00\", \"2020-11-26T00:00:00\", \"2020-11-27T00:00:00\", \"2020-11-28T00:00:00\", \"2020-11-29T00:00:00\", \"2020-11-30T00:00:00\", \"2020-12-01T00:00:00\", \"2020-12-02T00:00:00\", \"2020-12-03T00:00:00\", \"2020-12-04T00:00:00\", \"2020-12-05T00:00:00\", \"2020-12-06T00:00:00\", \"2020-12-07T00:00:00\", \"2020-12-08T00:00:00\", \"2020-12-09T00:00:00\", \"2020-12-10T00:00:00\", \"2020-12-11T00:00:00\", \"2020-12-12T00:00:00\", \"2020-12-13T00:00:00\", \"2020-12-14T00:00:00\", \"2020-12-15T00:00:00\", \"2020-12-16T00:00:00\", \"2020-12-17T00:00:00\", \"2020-12-18T00:00:00\", \"2020-12-19T00:00:00\", \"2020-12-20T00:00:00\", \"2020-12-21T00:00:00\", \"2020-12-22T00:00:00\", \"2020-12-23T00:00:00\", \"2020-12-24T00:00:00\", \"2020-12-25T00:00:00\", \"2020-12-26T00:00:00\", \"2020-12-27T00:00:00\", \"2020-12-28T00:00:00\", \"2020-12-29T00:00:00\", \"2020-12-30T00:00:00\", \"2020-12-31T00:00:00\", \"2021-01-01T00:00:00\", \"2021-01-02T00:00:00\", \"2021-01-03T00:00:00\", \"2021-01-04T00:00:00\", \"2021-01-05T00:00:00\", \"2021-01-06T00:00:00\", \"2021-01-07T00:00:00\", \"2021-01-08T00:00:00\", \"2021-01-09T00:00:00\", \"2021-01-10T00:00:00\", \"2021-01-11T00:00:00\", \"2021-01-12T00:00:00\", \"2021-01-13T00:00:00\", \"2021-01-14T00:00:00\", \"2021-01-15T00:00:00\", \"2021-01-16T00:00:00\", \"2021-01-17T00:00:00\", \"2021-01-18T00:00:00\", \"2021-01-19T00:00:00\", \"2021-01-20T00:00:00\", \"2021-01-21T00:00:00\", \"2021-01-22T00:00:00\", \"2021-01-23T00:00:00\", \"2021-01-24T00:00:00\", \"2021-01-25T00:00:00\", \"2021-01-26T00:00:00\", \"2021-01-27T00:00:00\", \"2021-01-28T00:00:00\", \"2021-01-29T00:00:00\", \"2021-01-31T00:00:00\", \"2021-02-28T00:00:00\", \"2021-03-31T00:00:00\", \"2021-04-30T00:00:00\", \"2021-05-31T00:00:00\", \"2021-06-30T00:00:00\"], \"y\": [-50.72755893852375, -48.62961568435035, -51.55879607352725, -59.54176137198639, -54.30905253021815, -47.14692511090651, -53.41669955473407, -58.00807007594039, -43.193226804438076, -51.32926827301674, -57.23178073348463, -54.7913380916629, -49.59752407379944, -50.84037268521091, -54.9177624845164, -60.74750884724198, -65.16285948516233, -55.27414904352932, -49.32232589836962, -57.993439528918834, -62.37430201830609, -54.83853681453071, -59.04216306727113, -58.66783861190275, -63.84261204309557, -54.39872759196104, -60.36565550695564, -70.77410563269326, -57.99907384998714, -62.17746109163905, -53.67082650650613, -52.15634795251005, -75.2958716473463, -64.14157415481213, -63.572333345438615, -63.082615694865005, -67.02616703486167, -65.40309697601941, -65.49298145564205, -64.64772183644911, -62.6064504320446, -71.36404261584354, -56.63189298943489, -67.89683842949385, -73.05450481992439, -61.719978259972606, -73.89809660392105, -65.13988221356819, -70.50078233725199, -56.84547384862325, -66.09720285638257, -84.86865650746493, -61.10220786228025, -70.54299752745055, -58.66060208272154, -68.2033959816583, -70.11865452713919, -68.83942547360462, -68.05994128555636, -75.39434644785665, -71.4718871951684, -69.56885652069705, -79.66519812895869, -72.42262418007816, -72.52167985697827, -66.8895053494505, -72.83352309700605, -65.21797163359956, -74.78963860276393, -72.17829285508714, -74.63931470203657, -80.69410314009657, -80.58033693069697, -70.32965234339215, -71.12093134278845, -76.8656699912312, -74.3341786446917, -81.95651084419225, -79.13175332485704, -81.99797404783801, -76.47125063012828, -78.61337809287718, -74.01505309061943, -73.82388688912772, -87.01196369045027, -82.95119127076211, -79.16380690991366, -84.79458291303933, -76.84846046827718, -78.2127118152048, -92.03309956203186, -84.32220805550148, -82.05757122105435, -83.83393209264784, -86.40898170413686, -78.25047029436374, -82.47219059575664, -87.70813285175758, -85.28008891384692, -88.00777324861244, -85.44774754550623, -91.83737748870769, -102.90506496837321, -92.81576013005976, -95.18458806840286, -81.4232397217522, -78.40256544171551, -99.69784225405472, -93.70155075972288, -92.6314998693426, -93.9417112135656, -84.56209917968481, -96.42446803552099, -96.82348110753962, -95.9303772324496, -107.53093444851837, -96.08041745406264, -98.62825557986365, -94.58895582655975, -106.47231130077876, -110.15442283498423, -98.38030390207636, -97.560086514361, -94.94983124187479, -93.53943627275052, -111.99693012540736, -106.6031851594233, -97.73718381180045, -96.18770354097643, -97.40851185446624, -96.80467084874499, -98.1033108596633, -100.9098013961885, -104.7422427464068, -100.47121619700322, -105.55201494506761, -120.06191414546527, -109.76284845265384, -99.73251303599699, -113.98844069845508, -101.01760548343817, -109.51447138162118, -98.4903027581769, -111.0832161580434, -117.46918661436852, -100.94131109570749, -113.5083000237022, -103.20752155668008, -103.58365597280557, -111.98923547930639, -113.99783313072219, -106.7119042204514, -103.7912148407664, -107.5584342307721, -110.9819268654685, -106.55286255387756, -106.19079964553644, -105.8162158300658, -120.27812033054424, -99.12589170833863, -110.59048798124158, -117.88968186864948, -117.53314048640141, -119.32179826062747, -110.93786812744415, -111.9313148845912, -106.76999610516724, -119.3852620157356, -123.04906111596087, -111.12465504820635, -119.38283734268279, -110.3541241339443, -115.3776125143734, -105.22904656951233, -112.5475513352609, -117.06417842592104, -106.58224813061217, -118.9683712911746, -115.59895491384928, -107.99404225206901, -116.88156484229017, -118.98618650406962, -111.24825209750192, -114.740148580686, -116.43330697278458, -121.02973472185735, -119.5055105504643, -105.56650948746494, -107.34211397567405, -111.64714096922489, -119.75352715271231, -120.24380873235252, -118.27513541702251, -113.0933076858864, -102.10577252175388, -110.91752962245411, -109.19740507014225, -115.47588257777893, -114.41153786411394, -110.92620602581312, -110.83124781922149, -111.84505369263987, -116.43501162012151, -119.27653140471044, -112.643726151839, -114.83001490963203, -107.39504889955803, -119.19853112699948, -103.0910917194679, -114.00457336530522, -114.94430832034746, -115.40790235584612, -117.7029551933805, -114.89601034681395, -123.7831100094433, -117.87194253878673, -116.46342072942119, -117.91099487152846, -121.42799527185515, -113.51384992902403, -109.77854301010873, -112.88261941141052, -96.0761229190844, -120.67696296630477, -116.60267874825149, -115.71577145784254, -108.28035473256563, -118.23328981827918, -117.73573926216926, -107.98518114375304, -111.3650953397605, -117.63700156889988, -114.98688726497478, -110.85788272417487, -122.208580480996, -113.14751826396487, -100.35857615843844, -103.29666822299588, -109.13264516911879, -116.69364942289533, -131.03239860114655, -117.39222307045685, -116.37134149739505, -113.91461917282844, -108.12010783347888, -114.32557058804805, -114.6828141697254, -112.70744788878447, -118.7952804546724, -113.59119057949908, -119.36537034732478, -117.55102152566947, -119.82953694249532, -111.88659059771112, -113.16285940460386, -114.9451852714564, -111.14946652253118, -112.66998550948192, -111.01711523787164, -125.96135179196801, -109.95134308824136, -109.67404299318409, -109.20004277796957, -118.32511530480082, -114.24529375049485, -117.64921308951395, -121.78199420864271, -116.8428448232369, -114.98352949297775, -122.70275547097637, -110.22648660829795, -108.51435839061703, -121.1298470091497, -120.9689007142363, -114.07888550857518, -113.33854659646984, -120.73656484619156, -119.44345996927856, -117.12294251385356, -109.9188720045747, -109.06150293210851, -110.69065516186008, -117.59186159370658, -116.17184727209872, -111.77169718919708, -122.61110136021253, -118.78123058790791, -126.28998070179479, -110.00224570393262, -109.44400405348, -122.15336796133163, -115.69047200240998, -112.47219980215485, -113.00722508253067, -116.90905484758919, -117.03711901174492, -117.30704938465041, -111.4596727133432, -124.96272969042141, -117.41087387225663, -116.61178252259499, -116.75737293252897, -108.04886599703059, -110.6213741183195, -117.52806176941206, -118.06247030732717, -122.38636393261572, -120.02349954350808, -122.18316146822228, -112.57841445749635, -107.75317681152558, -116.79694809651221, -116.00431725301269, -100.9778431784795, -118.30377365622003, -111.23014303979822, -120.69395391473819, -121.72761163821349, -116.99157278575244, -114.05804148478893, -119.78016610480967, -119.1232474320282, -122.61117351008674, -117.90019234355826, -118.8689443383041, -114.49239523926697, -116.03291889940945, -119.91308398824741, -129.8263572048526, -116.47685462178393]}, {\"fill\": \"tonexty\", \"fillcolor\": \"rgba(0, 114, 178, 0.2)\", \"line\": {\"color\": \"#0072B2\", \"width\": 2}, \"mode\": \"lines\", \"name\": \"Predicted\", \"type\": \"scatter\", \"x\": [\"2020-03-09T00:00:00\", \"2020-03-13T00:00:00\", \"2020-03-14T00:00:00\", \"2020-03-15T00:00:00\", \"2020-03-16T00:00:00\", \"2020-03-17T00:00:00\", \"2020-03-18T00:00:00\", \"2020-03-19T00:00:00\", \"2020-03-20T00:00:00\", \"2020-03-21T00:00:00\", \"2020-03-22T00:00:00\", \"2020-03-23T00:00:00\", \"2020-03-24T00:00:00\", \"2020-03-25T00:00:00\", \"2020-03-26T00:00:00\", \"2020-03-27T00:00:00\", \"2020-03-28T00:00:00\", \"2020-03-29T00:00:00\", \"2020-03-30T00:00:00\", \"2020-03-31T00:00:00\", \"2020-04-01T00:00:00\", \"2020-04-02T00:00:00\", \"2020-04-03T00:00:00\", \"2020-04-04T00:00:00\", \"2020-04-05T00:00:00\", \"2020-04-06T00:00:00\", \"2020-04-07T00:00:00\", \"2020-04-08T00:00:00\", \"2020-04-09T00:00:00\", \"2020-04-10T00:00:00\", \"2020-04-11T00:00:00\", \"2020-04-12T00:00:00\", \"2020-04-13T00:00:00\", \"2020-04-14T00:00:00\", \"2020-04-15T00:00:00\", \"2020-04-16T00:00:00\", \"2020-04-17T00:00:00\", \"2020-04-18T00:00:00\", \"2020-04-19T00:00:00\", \"2020-04-20T00:00:00\", \"2020-04-21T00:00:00\", \"2020-04-22T00:00:00\", \"2020-04-23T00:00:00\", \"2020-04-24T00:00:00\", \"2020-04-25T00:00:00\", \"2020-04-26T00:00:00\", \"2020-04-27T00:00:00\", \"2020-04-28T00:00:00\", \"2020-04-29T00:00:00\", \"2020-04-30T00:00:00\", \"2020-05-01T00:00:00\", \"2020-05-02T00:00:00\", \"2020-05-03T00:00:00\", \"2020-05-04T00:00:00\", \"2020-05-05T00:00:00\", \"2020-05-06T00:00:00\", \"2020-05-07T00:00:00\", \"2020-05-08T00:00:00\", \"2020-05-09T00:00:00\", \"2020-05-10T00:00:00\", \"2020-05-11T00:00:00\", \"2020-05-12T00:00:00\", \"2020-05-13T00:00:00\", \"2020-05-14T00:00:00\", \"2020-05-15T00:00:00\", \"2020-05-16T00:00:00\", \"2020-05-17T00:00:00\", \"2020-05-18T00:00:00\", \"2020-05-19T00:00:00\", \"2020-05-20T00:00:00\", \"2020-05-21T00:00:00\", \"2020-05-22T00:00:00\", \"2020-05-23T00:00:00\", \"2020-05-24T00:00:00\", \"2020-05-25T00:00:00\", \"2020-05-26T00:00:00\", \"2020-05-27T00:00:00\", \"2020-05-28T00:00:00\", \"2020-05-29T00:00:00\", \"2020-05-30T00:00:00\", \"2020-05-31T00:00:00\", \"2020-06-01T00:00:00\", \"2020-06-02T00:00:00\", \"2020-06-03T00:00:00\", \"2020-06-04T00:00:00\", \"2020-06-05T00:00:00\", \"2020-06-06T00:00:00\", \"2020-06-07T00:00:00\", \"2020-06-08T00:00:00\", \"2020-06-09T00:00:00\", \"2020-06-10T00:00:00\", \"2020-06-11T00:00:00\", \"2020-06-12T00:00:00\", \"2020-06-13T00:00:00\", \"2020-06-14T00:00:00\", \"2020-06-15T00:00:00\", \"2020-06-16T00:00:00\", \"2020-06-17T00:00:00\", \"2020-06-18T00:00:00\", \"2020-06-19T00:00:00\", \"2020-06-20T00:00:00\", \"2020-06-21T00:00:00\", \"2020-06-22T00:00:00\", \"2020-06-23T00:00:00\", \"2020-06-24T00:00:00\", \"2020-06-25T00:00:00\", \"2020-06-26T00:00:00\", \"2020-06-27T00:00:00\", \"2020-06-28T00:00:00\", \"2020-06-29T00:00:00\", \"2020-06-30T00:00:00\", \"2020-07-01T00:00:00\", \"2020-07-02T00:00:00\", \"2020-07-03T00:00:00\", \"2020-07-04T00:00:00\", \"2020-07-05T00:00:00\", \"2020-07-06T00:00:00\", \"2020-07-07T00:00:00\", \"2020-07-08T00:00:00\", \"2020-07-09T00:00:00\", \"2020-07-10T00:00:00\", \"2020-07-11T00:00:00\", \"2020-07-12T00:00:00\", \"2020-07-13T00:00:00\", \"2020-07-14T00:00:00\", \"2020-07-15T00:00:00\", \"2020-07-16T00:00:00\", \"2020-07-17T00:00:00\", \"2020-07-18T00:00:00\", \"2020-07-19T00:00:00\", \"2020-07-20T00:00:00\", \"2020-07-21T00:00:00\", \"2020-07-22T00:00:00\", \"2020-07-23T00:00:00\", \"2020-07-24T00:00:00\", \"2020-07-25T00:00:00\", \"2020-07-26T00:00:00\", \"2020-07-27T00:00:00\", \"2020-07-28T00:00:00\", \"2020-07-29T00:00:00\", \"2020-07-30T00:00:00\", \"2020-07-31T00:00:00\", \"2020-08-01T00:00:00\", \"2020-08-02T00:00:00\", \"2020-08-03T00:00:00\", \"2020-08-04T00:00:00\", \"2020-08-05T00:00:00\", \"2020-08-06T00:00:00\", \"2020-08-07T00:00:00\", \"2020-08-08T00:00:00\", \"2020-08-09T00:00:00\", \"2020-08-10T00:00:00\", \"2020-08-11T00:00:00\", \"2020-08-12T00:00:00\", \"2020-08-13T00:00:00\", \"2020-08-14T00:00:00\", \"2020-08-15T00:00:00\", \"2020-08-16T00:00:00\", \"2020-08-17T00:00:00\", \"2020-08-18T00:00:00\", \"2020-08-19T00:00:00\", \"2020-08-20T00:00:00\", \"2020-08-21T00:00:00\", \"2020-08-22T00:00:00\", \"2020-08-23T00:00:00\", \"2020-08-24T00:00:00\", \"2020-08-25T00:00:00\", \"2020-08-26T00:00:00\", \"2020-08-27T00:00:00\", \"2020-08-28T00:00:00\", \"2020-08-29T00:00:00\", \"2020-08-30T00:00:00\", \"2020-08-31T00:00:00\", \"2020-09-01T00:00:00\", \"2020-09-02T00:00:00\", \"2020-09-03T00:00:00\", \"2020-09-04T00:00:00\", \"2020-09-05T00:00:00\", \"2020-09-06T00:00:00\", \"2020-09-07T00:00:00\", \"2020-09-08T00:00:00\", \"2020-09-09T00:00:00\", \"2020-09-10T00:00:00\", \"2020-09-11T00:00:00\", \"2020-09-12T00:00:00\", \"2020-09-13T00:00:00\", \"2020-09-14T00:00:00\", \"2020-09-15T00:00:00\", \"2020-09-16T00:00:00\", \"2020-09-17T00:00:00\", \"2020-09-18T00:00:00\", \"2020-09-19T00:00:00\", \"2020-09-20T00:00:00\", \"2020-09-21T00:00:00\", \"2020-09-22T00:00:00\", \"2020-09-23T00:00:00\", \"2020-09-24T00:00:00\", \"2020-09-25T00:00:00\", \"2020-09-26T00:00:00\", \"2020-09-27T00:00:00\", \"2020-09-28T00:00:00\", \"2020-09-29T00:00:00\", \"2020-09-30T00:00:00\", \"2020-10-01T00:00:00\", \"2020-10-02T00:00:00\", \"2020-10-03T00:00:00\", \"2020-10-04T00:00:00\", \"2020-10-05T00:00:00\", \"2020-10-06T00:00:00\", \"2020-10-07T00:00:00\", \"2020-10-08T00:00:00\", \"2020-10-09T00:00:00\", \"2020-10-10T00:00:00\", \"2020-10-11T00:00:00\", \"2020-10-12T00:00:00\", \"2020-10-13T00:00:00\", \"2020-10-14T00:00:00\", \"2020-10-15T00:00:00\", \"2020-10-16T00:00:00\", \"2020-10-17T00:00:00\", \"2020-10-18T00:00:00\", \"2020-10-19T00:00:00\", \"2020-10-20T00:00:00\", \"2020-10-21T00:00:00\", \"2020-10-22T00:00:00\", \"2020-10-23T00:00:00\", \"2020-10-24T00:00:00\", \"2020-10-25T00:00:00\", \"2020-10-26T00:00:00\", \"2020-10-27T00:00:00\", \"2020-10-28T00:00:00\", \"2020-10-29T00:00:00\", \"2020-10-30T00:00:00\", \"2020-10-31T00:00:00\", \"2020-11-01T00:00:00\", \"2020-11-02T00:00:00\", \"2020-11-03T00:00:00\", \"2020-11-04T00:00:00\", \"2020-11-05T00:00:00\", \"2020-11-06T00:00:00\", \"2020-11-07T00:00:00\", \"2020-11-08T00:00:00\", \"2020-11-09T00:00:00\", \"2020-11-10T00:00:00\", \"2020-11-11T00:00:00\", \"2020-11-12T00:00:00\", \"2020-11-13T00:00:00\", \"2020-11-14T00:00:00\", \"2020-11-15T00:00:00\", \"2020-11-16T00:00:00\", \"2020-11-17T00:00:00\", \"2020-11-18T00:00:00\", \"2020-11-19T00:00:00\", \"2020-11-20T00:00:00\", \"2020-11-21T00:00:00\", \"2020-11-22T00:00:00\", \"2020-11-23T00:00:00\", \"2020-11-24T00:00:00\", \"2020-11-25T00:00:00\", \"2020-11-26T00:00:00\", \"2020-11-27T00:00:00\", \"2020-11-28T00:00:00\", \"2020-11-29T00:00:00\", \"2020-11-30T00:00:00\", \"2020-12-01T00:00:00\", \"2020-12-02T00:00:00\", \"2020-12-03T00:00:00\", \"2020-12-04T00:00:00\", \"2020-12-05T00:00:00\", \"2020-12-06T00:00:00\", \"2020-12-07T00:00:00\", \"2020-12-08T00:00:00\", \"2020-12-09T00:00:00\", \"2020-12-10T00:00:00\", \"2020-12-11T00:00:00\", \"2020-12-12T00:00:00\", \"2020-12-13T00:00:00\", \"2020-12-14T00:00:00\", \"2020-12-15T00:00:00\", \"2020-12-16T00:00:00\", \"2020-12-17T00:00:00\", \"2020-12-18T00:00:00\", \"2020-12-19T00:00:00\", \"2020-12-20T00:00:00\", \"2020-12-21T00:00:00\", \"2020-12-22T00:00:00\", \"2020-12-23T00:00:00\", \"2020-12-24T00:00:00\", \"2020-12-25T00:00:00\", \"2020-12-26T00:00:00\", \"2020-12-27T00:00:00\", \"2020-12-28T00:00:00\", \"2020-12-29T00:00:00\", \"2020-12-30T00:00:00\", \"2020-12-31T00:00:00\", \"2021-01-01T00:00:00\", \"2021-01-02T00:00:00\", \"2021-01-03T00:00:00\", \"2021-01-04T00:00:00\", \"2021-01-05T00:00:00\", \"2021-01-06T00:00:00\", \"2021-01-07T00:00:00\", \"2021-01-08T00:00:00\", \"2021-01-09T00:00:00\", \"2021-01-10T00:00:00\", \"2021-01-11T00:00:00\", \"2021-01-12T00:00:00\", \"2021-01-13T00:00:00\", \"2021-01-14T00:00:00\", \"2021-01-15T00:00:00\", \"2021-01-16T00:00:00\", \"2021-01-17T00:00:00\", \"2021-01-18T00:00:00\", \"2021-01-19T00:00:00\", \"2021-01-20T00:00:00\", \"2021-01-21T00:00:00\", \"2021-01-22T00:00:00\", \"2021-01-23T00:00:00\", \"2021-01-24T00:00:00\", \"2021-01-25T00:00:00\", \"2021-01-26T00:00:00\", \"2021-01-27T00:00:00\", \"2021-01-28T00:00:00\", \"2021-01-29T00:00:00\", \"2021-01-31T00:00:00\", \"2021-02-28T00:00:00\", \"2021-03-31T00:00:00\", \"2021-04-30T00:00:00\", \"2021-05-31T00:00:00\", \"2021-06-30T00:00:00\"], \"y\": [69.347852882566, 68.07262869138107, 66.95505464584741, 65.84433686040468, 66.93783808504205, 69.44668095388693, 66.04035066558217, 64.88459673349921, 65.66261389384873, 64.54503984831905, 63.43432206287919, 64.52782328751893, 67.0366661563596, 63.63033586806406, 62.47458193596958, 63.25259909632407, 62.135025050790695, 61.02430726535371, 62.11780848999415, 64.6266513588351, 61.220321070536166, 60.06456713844615, 60.842584298795934, 59.72501025327018, 58.614292467824754, 59.707793692471036, 62.21663656130847, 58.810306273008266, 57.65455234091962, 58.43256950127474, 57.31499545574497, 56.20427767030149, 57.297778894947925, 59.80662176378182, 56.400291475480365, 55.24453754339091, 56.0225547037466, 54.90498065821344, 53.79426287277377, 54.88776409742398, 57.39660696625663, 53.99027667795037, 52.83452274586438, 53.612539906218466, 52.49496586068824, 51.38424807524829, 52.47774929988647, 54.986592168730695, 51.580261880424565, 50.42450794834095, 51.20252510869306, 50.08495106316773, 48.9742332777228, 50.067734502362526, 52.57657737120335, 49.17024708289457, 48.01449315081442, 48.79251031116493, 47.67493626564252, 46.56421848019732, 47.65771970483943, 50.13936245429187, 46.7058320466075, 45.52287799513131, 46.27369503609813, 45.128920871183354, 43.99100296635644, 45.05730407160235, 47.53894682106722, 44.10541641338089, 42.92246236190607, 43.63419863013323, 42.45034369247635, 41.27334501490636, 42.30056534741438, 44.74312732413416, 41.270516143705024, 40.04848131949095, 40.76021758771485, 39.57636265006163, 38.37754302830508, 39.38294241662833, 41.80368344915914, 38.309251324540355, 37.065395556140366, 37.755310880179465, 36.54963499833658, 35.350815376586056, 36.33140661584256, 38.72733949930384, 35.208099225616145, 33.93943530815022, 34.6045424831198, 33.374058452208075, 32.149956397606395, 33.130073353088825, 35.525531952769, 32.00581739529815, 30.73667919405662, 31.40131208524895, 30.170352831753824, 28.94624983834093, 29.926365855015046, 32.32182351588252, 28.802108019600542, 27.532968879551834, 28.197597394811435, 26.966634704184315, 25.742528273643774, 26.722640853193333, 29.118095076930526, 25.59837614353019, 24.32923356634266, 24.99386310026365, 23.762901428299276, 22.538796016422378, 23.51890961462514, 25.91436485703617, 22.39464694229756, 21.12550607791008, 21.790136305965905, 20.55917532813012, 19.335070610387774, 20.315184902722446, 22.710640839263377, 19.190923618656104, 17.92178724928817, 18.586421972350163, 17.355465489541295, 16.13136526680682, 17.111484054161178, 19.506944485713657, 15.987232380341762, 14.718096631174097, 15.382731974452808, 14.151776111852007, 12.927676509332176, 13.907795916898984, 16.359661672159564, 12.896354270282385, 11.683623224613088, 12.404663271386598, 11.23011211227812, 10.062417213253715, 11.169287361761283, 13.691499154457212, 10.298537790015546, 9.15615278178862, 9.94753886600287, 8.843333744332739, 7.745984882749156, 8.934857050347006, 11.539070862129508, 8.228111516776712, 7.167728527639095, 8.04111663093983, 7.018913528360636, 6.087514694873246, 7.360334871476254, 10.048496692260617, 6.821485355907369, 5.845050375773374, 6.802386488074757, 5.936364612531668, 5.07719899707492, 6.422252391697683, 9.182647430523692, 6.027869312199413, 5.123667550100807, 6.153236880435353, 5.287215004892947, 4.471718869120569, 5.86044174343421, 8.664506261946169, 5.553397623308571, 4.692865340899688, 5.766104150925064, 4.9437517550717756, 4.150470403707946, 5.561408062429631, 8.387687365344423, 5.298793511122426, 4.460476013109609, 5.5559296075416, 4.755791996090281, 3.96251064472711, 5.373448303438154, 8.203105170168936, 5.117588879748565, 4.282648945540701, 5.381480103778138, 4.5847200561298616, 3.7948162685709543, 5.209131491087, 8.038788357813543, 4.953272067392616, 4.120744356498811, 5.221987738040404, 4.427639913705386, 3.6401483494535727, 5.056875795282966, 7.88894488531711, 4.805840818201715, 3.973313107308292, 5.074556488851372, 4.280208664512966, 3.4932726220686714, 4.910555589701078, 7.743180201535463, 4.660631656220945, 3.8286594671313585, 4.930458370478155, 4.136666067937218, 3.3497300254913833, 4.767012993126584, 7.599637604958978, 4.517089059652284, 3.685117929018226, 4.786917890827354, 3.9931266467579825, 3.2061916627711122, 4.623475688872631, 7.456101359164727, 4.37355387231931, 3.541582741686551, 4.64338270349972, 3.849591459426648, 3.0626564754404364, 4.479940501544867, 7.312566171835815, 4.230018684990549, 3.398050623348722, 4.499853654151952, 3.706065479070322, 2.9191335640764366, 4.336420659163583, 7.169049398456217, 4.0865049805992575, 3.2545369189640025, 4.356339949769469, 3.562551774691683, 2.775619859691886, 4.192906954778345, 7.025535694069742, 3.9429929979653275, 3.1110266580836026, 4.212831410641608, 3.419044957319895, 2.632114764079172, 4.049403580925486, 6.882034041968602, 3.799491345872713, 2.967525005985672, 4.069329758542444, 3.2755474081645453, 2.488621317867895, 3.9059142376592515, 6.738548801645573, 3.656010208494188, 2.824047971553858, 3.9258568270537513, 3.132074476672153, 2.345148386377123, 3.7624413061721182, 6.5950758701542025, 3.512537277000156, 2.6805750400602077, 3.782383895560854, 2.9886015451829206, 2.2016754548876105, 3.618968374671431, 6.451602938664232, 3.3690643455082316, 2.5371021085705685, 3.6389109640686907, 2.8451286136873715, 2.0582025233958774, 3.475495443182609, 6.308130007175016, 3.2255914140163067, 2.3936291770800144, 3.4954380325834684, 2.701655682198138, 1.9147295919085867, 3.3320225116954765, 6.164657075685048, 3.082118482524381, 2.250156245592554, 3.3519651010913045, 2.5581827507135997, 1.7712566604168531, 3.1885495802074986, 6.021184144193677, 2.9386455510303495, 2.106683314096725, 3.2084921695991415, 2.414709819221209, 1.6277837289273411, 3.0450766487195207, 5.8777112127037086, 2.7951726195524182, 1.9632103826092644, 3.065019238110448, 2.271236887728817, 1.4843107974343492, 2.90160371721799, 5.734238281213738, 2.6516996880583865, 1.8197374511187094, 2.921546306621756, 2.1277639562395843, 1.3408378659470583, 2.7581307857308572, 5.590765349722368, 2.50822675656646, 1.6762645196281531, 2.7780733751288587, 1.984291024744034, 1.1973649344553248, 2.6146578542428793, 5.447292418232399, 2.3647538250843163, 1.5327915881375982, 2.634600443636695, 1.0538920029658125, 0.4800002770065055, 1.0734974416646637, 0.769452334264868, 0.0321450874219988, -0.7916506677129092]}, {\"fill\": \"tonexty\", \"fillcolor\": \"rgba(0, 114, 178, 0.2)\", \"hoverinfo\": \"skip\", \"line\": {\"width\": 0}, \"mode\": \"lines\", \"type\": \"scatter\", \"x\": [\"2020-03-09T00:00:00\", \"2020-03-13T00:00:00\", \"2020-03-14T00:00:00\", \"2020-03-15T00:00:00\", \"2020-03-16T00:00:00\", \"2020-03-17T00:00:00\", \"2020-03-18T00:00:00\", \"2020-03-19T00:00:00\", \"2020-03-20T00:00:00\", \"2020-03-21T00:00:00\", \"2020-03-22T00:00:00\", \"2020-03-23T00:00:00\", \"2020-03-24T00:00:00\", \"2020-03-25T00:00:00\", \"2020-03-26T00:00:00\", \"2020-03-27T00:00:00\", \"2020-03-28T00:00:00\", \"2020-03-29T00:00:00\", \"2020-03-30T00:00:00\", \"2020-03-31T00:00:00\", \"2020-04-01T00:00:00\", \"2020-04-02T00:00:00\", \"2020-04-03T00:00:00\", \"2020-04-04T00:00:00\", \"2020-04-05T00:00:00\", \"2020-04-06T00:00:00\", \"2020-04-07T00:00:00\", \"2020-04-08T00:00:00\", \"2020-04-09T00:00:00\", \"2020-04-10T00:00:00\", \"2020-04-11T00:00:00\", \"2020-04-12T00:00:00\", \"2020-04-13T00:00:00\", \"2020-04-14T00:00:00\", \"2020-04-15T00:00:00\", \"2020-04-16T00:00:00\", \"2020-04-17T00:00:00\", \"2020-04-18T00:00:00\", \"2020-04-19T00:00:00\", \"2020-04-20T00:00:00\", \"2020-04-21T00:00:00\", \"2020-04-22T00:00:00\", \"2020-04-23T00:00:00\", \"2020-04-24T00:00:00\", \"2020-04-25T00:00:00\", \"2020-04-26T00:00:00\", \"2020-04-27T00:00:00\", \"2020-04-28T00:00:00\", \"2020-04-29T00:00:00\", \"2020-04-30T00:00:00\", \"2020-05-01T00:00:00\", \"2020-05-02T00:00:00\", \"2020-05-03T00:00:00\", \"2020-05-04T00:00:00\", \"2020-05-05T00:00:00\", \"2020-05-06T00:00:00\", \"2020-05-07T00:00:00\", \"2020-05-08T00:00:00\", \"2020-05-09T00:00:00\", \"2020-05-10T00:00:00\", \"2020-05-11T00:00:00\", \"2020-05-12T00:00:00\", \"2020-05-13T00:00:00\", \"2020-05-14T00:00:00\", \"2020-05-15T00:00:00\", \"2020-05-16T00:00:00\", \"2020-05-17T00:00:00\", \"2020-05-18T00:00:00\", \"2020-05-19T00:00:00\", \"2020-05-20T00:00:00\", \"2020-05-21T00:00:00\", \"2020-05-22T00:00:00\", \"2020-05-23T00:00:00\", \"2020-05-24T00:00:00\", \"2020-05-25T00:00:00\", \"2020-05-26T00:00:00\", \"2020-05-27T00:00:00\", \"2020-05-28T00:00:00\", \"2020-05-29T00:00:00\", \"2020-05-30T00:00:00\", \"2020-05-31T00:00:00\", \"2020-06-01T00:00:00\", \"2020-06-02T00:00:00\", \"2020-06-03T00:00:00\", \"2020-06-04T00:00:00\", \"2020-06-05T00:00:00\", \"2020-06-06T00:00:00\", \"2020-06-07T00:00:00\", \"2020-06-08T00:00:00\", \"2020-06-09T00:00:00\", \"2020-06-10T00:00:00\", \"2020-06-11T00:00:00\", \"2020-06-12T00:00:00\", \"2020-06-13T00:00:00\", \"2020-06-14T00:00:00\", \"2020-06-15T00:00:00\", \"2020-06-16T00:00:00\", \"2020-06-17T00:00:00\", \"2020-06-18T00:00:00\", \"2020-06-19T00:00:00\", \"2020-06-20T00:00:00\", \"2020-06-21T00:00:00\", \"2020-06-22T00:00:00\", \"2020-06-23T00:00:00\", \"2020-06-24T00:00:00\", \"2020-06-25T00:00:00\", \"2020-06-26T00:00:00\", \"2020-06-27T00:00:00\", \"2020-06-28T00:00:00\", \"2020-06-29T00:00:00\", \"2020-06-30T00:00:00\", \"2020-07-01T00:00:00\", \"2020-07-02T00:00:00\", \"2020-07-03T00:00:00\", \"2020-07-04T00:00:00\", \"2020-07-05T00:00:00\", \"2020-07-06T00:00:00\", \"2020-07-07T00:00:00\", \"2020-07-08T00:00:00\", \"2020-07-09T00:00:00\", \"2020-07-10T00:00:00\", \"2020-07-11T00:00:00\", \"2020-07-12T00:00:00\", \"2020-07-13T00:00:00\", \"2020-07-14T00:00:00\", \"2020-07-15T00:00:00\", \"2020-07-16T00:00:00\", \"2020-07-17T00:00:00\", \"2020-07-18T00:00:00\", \"2020-07-19T00:00:00\", \"2020-07-20T00:00:00\", \"2020-07-21T00:00:00\", \"2020-07-22T00:00:00\", \"2020-07-23T00:00:00\", \"2020-07-24T00:00:00\", \"2020-07-25T00:00:00\", \"2020-07-26T00:00:00\", \"2020-07-27T00:00:00\", \"2020-07-28T00:00:00\", \"2020-07-29T00:00:00\", \"2020-07-30T00:00:00\", \"2020-07-31T00:00:00\", \"2020-08-01T00:00:00\", \"2020-08-02T00:00:00\", \"2020-08-03T00:00:00\", \"2020-08-04T00:00:00\", \"2020-08-05T00:00:00\", \"2020-08-06T00:00:00\", \"2020-08-07T00:00:00\", \"2020-08-08T00:00:00\", \"2020-08-09T00:00:00\", \"2020-08-10T00:00:00\", \"2020-08-11T00:00:00\", \"2020-08-12T00:00:00\", \"2020-08-13T00:00:00\", \"2020-08-14T00:00:00\", \"2020-08-15T00:00:00\", \"2020-08-16T00:00:00\", \"2020-08-17T00:00:00\", \"2020-08-18T00:00:00\", \"2020-08-19T00:00:00\", \"2020-08-20T00:00:00\", \"2020-08-21T00:00:00\", \"2020-08-22T00:00:00\", \"2020-08-23T00:00:00\", \"2020-08-24T00:00:00\", \"2020-08-25T00:00:00\", \"2020-08-26T00:00:00\", \"2020-08-27T00:00:00\", \"2020-08-28T00:00:00\", \"2020-08-29T00:00:00\", \"2020-08-30T00:00:00\", \"2020-08-31T00:00:00\", \"2020-09-01T00:00:00\", \"2020-09-02T00:00:00\", \"2020-09-03T00:00:00\", \"2020-09-04T00:00:00\", \"2020-09-05T00:00:00\", \"2020-09-06T00:00:00\", \"2020-09-07T00:00:00\", \"2020-09-08T00:00:00\", \"2020-09-09T00:00:00\", \"2020-09-10T00:00:00\", \"2020-09-11T00:00:00\", \"2020-09-12T00:00:00\", \"2020-09-13T00:00:00\", \"2020-09-14T00:00:00\", \"2020-09-15T00:00:00\", \"2020-09-16T00:00:00\", \"2020-09-17T00:00:00\", \"2020-09-18T00:00:00\", \"2020-09-19T00:00:00\", \"2020-09-20T00:00:00\", \"2020-09-21T00:00:00\", \"2020-09-22T00:00:00\", \"2020-09-23T00:00:00\", \"2020-09-24T00:00:00\", \"2020-09-25T00:00:00\", \"2020-09-26T00:00:00\", \"2020-09-27T00:00:00\", \"2020-09-28T00:00:00\", \"2020-09-29T00:00:00\", \"2020-09-30T00:00:00\", \"2020-10-01T00:00:00\", \"2020-10-02T00:00:00\", \"2020-10-03T00:00:00\", \"2020-10-04T00:00:00\", \"2020-10-05T00:00:00\", \"2020-10-06T00:00:00\", \"2020-10-07T00:00:00\", \"2020-10-08T00:00:00\", \"2020-10-09T00:00:00\", \"2020-10-10T00:00:00\", \"2020-10-11T00:00:00\", \"2020-10-12T00:00:00\", \"2020-10-13T00:00:00\", \"2020-10-14T00:00:00\", \"2020-10-15T00:00:00\", \"2020-10-16T00:00:00\", \"2020-10-17T00:00:00\", \"2020-10-18T00:00:00\", \"2020-10-19T00:00:00\", \"2020-10-20T00:00:00\", \"2020-10-21T00:00:00\", \"2020-10-22T00:00:00\", \"2020-10-23T00:00:00\", \"2020-10-24T00:00:00\", \"2020-10-25T00:00:00\", \"2020-10-26T00:00:00\", \"2020-10-27T00:00:00\", \"2020-10-28T00:00:00\", \"2020-10-29T00:00:00\", \"2020-10-30T00:00:00\", \"2020-10-31T00:00:00\", \"2020-11-01T00:00:00\", \"2020-11-02T00:00:00\", \"2020-11-03T00:00:00\", \"2020-11-04T00:00:00\", \"2020-11-05T00:00:00\", \"2020-11-06T00:00:00\", \"2020-11-07T00:00:00\", \"2020-11-08T00:00:00\", \"2020-11-09T00:00:00\", \"2020-11-10T00:00:00\", \"2020-11-11T00:00:00\", \"2020-11-12T00:00:00\", \"2020-11-13T00:00:00\", \"2020-11-14T00:00:00\", \"2020-11-15T00:00:00\", \"2020-11-16T00:00:00\", \"2020-11-17T00:00:00\", \"2020-11-18T00:00:00\", \"2020-11-19T00:00:00\", \"2020-11-20T00:00:00\", \"2020-11-21T00:00:00\", \"2020-11-22T00:00:00\", \"2020-11-23T00:00:00\", \"2020-11-24T00:00:00\", \"2020-11-25T00:00:00\", \"2020-11-26T00:00:00\", \"2020-11-27T00:00:00\", \"2020-11-28T00:00:00\", \"2020-11-29T00:00:00\", \"2020-11-30T00:00:00\", \"2020-12-01T00:00:00\", \"2020-12-02T00:00:00\", \"2020-12-03T00:00:00\", \"2020-12-04T00:00:00\", \"2020-12-05T00:00:00\", \"2020-12-06T00:00:00\", \"2020-12-07T00:00:00\", \"2020-12-08T00:00:00\", \"2020-12-09T00:00:00\", \"2020-12-10T00:00:00\", \"2020-12-11T00:00:00\", \"2020-12-12T00:00:00\", \"2020-12-13T00:00:00\", \"2020-12-14T00:00:00\", \"2020-12-15T00:00:00\", \"2020-12-16T00:00:00\", \"2020-12-17T00:00:00\", \"2020-12-18T00:00:00\", \"2020-12-19T00:00:00\", \"2020-12-20T00:00:00\", \"2020-12-21T00:00:00\", \"2020-12-22T00:00:00\", \"2020-12-23T00:00:00\", \"2020-12-24T00:00:00\", \"2020-12-25T00:00:00\", \"2020-12-26T00:00:00\", \"2020-12-27T00:00:00\", \"2020-12-28T00:00:00\", \"2020-12-29T00:00:00\", \"2020-12-30T00:00:00\", \"2020-12-31T00:00:00\", \"2021-01-01T00:00:00\", \"2021-01-02T00:00:00\", \"2021-01-03T00:00:00\", \"2021-01-04T00:00:00\", \"2021-01-05T00:00:00\", \"2021-01-06T00:00:00\", \"2021-01-07T00:00:00\", \"2021-01-08T00:00:00\", \"2021-01-09T00:00:00\", \"2021-01-10T00:00:00\", \"2021-01-11T00:00:00\", \"2021-01-12T00:00:00\", \"2021-01-13T00:00:00\", \"2021-01-14T00:00:00\", \"2021-01-15T00:00:00\", \"2021-01-16T00:00:00\", \"2021-01-17T00:00:00\", \"2021-01-18T00:00:00\", \"2021-01-19T00:00:00\", \"2021-01-20T00:00:00\", \"2021-01-21T00:00:00\", \"2021-01-22T00:00:00\", \"2021-01-23T00:00:00\", \"2021-01-24T00:00:00\", \"2021-01-25T00:00:00\", \"2021-01-26T00:00:00\", \"2021-01-27T00:00:00\", \"2021-01-28T00:00:00\", \"2021-01-29T00:00:00\", \"2021-01-31T00:00:00\", \"2021-02-28T00:00:00\", \"2021-03-31T00:00:00\", \"2021-04-30T00:00:00\", \"2021-05-31T00:00:00\", \"2021-06-30T00:00:00\"], \"y\": [185.94212751364265, 182.83653798679126, 184.37612240686386, 182.33072044176586, 176.42163527617478, 195.20908394909418, 183.79505872797023, 184.34381570500173, 186.65689149750935, 188.79547317833152, 183.52420683994103, 179.14058880265648, 188.5039830172616, 178.28066825530826, 186.82682907974004, 186.88027478056537, 173.61355286921042, 176.10697594697433, 178.39567489908686, 187.12511155896755, 182.55748425253685, 180.28790111629377, 182.7248636898764, 189.00202494114052, 173.2629430757748, 183.6600415239945, 183.117903101482, 175.41409404528736, 174.58713866271825, 184.66638299634124, 176.46544682462806, 170.7962622565501, 182.8475330000581, 183.88173210804263, 176.76967872568488, 173.77523069005298, 174.88864785882868, 172.61660937255263, 171.8738184963397, 180.30633751380532, 177.38256179660632, 175.80661064371452, 177.30172777002647, 169.5355512427676, 164.8838479375002, 164.9671123463939, 178.05196527632881, 173.3993846784326, 166.8570050853814, 171.69752738524207, 179.3106023447569, 158.26689075023486, 171.4903625256027, 166.61957463093574, 171.7217062366614, 165.72613743441914, 162.76682144710267, 171.91744920772058, 167.76860406695653, 163.4082589507113, 162.74432968406128, 173.18166347836433, 167.42047458713415, 154.03193795422825, 176.51979300511528, 172.87885241897192, 158.41218110430137, 150.54173072363193, 164.96239872342733, 168.12128531010643, 162.78517765554912, 164.32182792301205, 161.26288386417573, 153.07036499399595, 161.69001278873586, 154.27301234621189, 151.71441252871278, 154.92903964303625, 161.87032225155656, 164.7507784491351, 163.10419834920893, 160.51979125741394, 156.83419565898558, 152.40029831475803, 147.57350199984316, 158.39496313204586, 154.7513588907803, 148.37801513090744, 162.29171894494257, 159.5139869626041, 150.8816974298727, 156.54888679767697, 153.65025917571242, 149.56179085793755, 159.5365211546605, 151.60030587159267, 150.5891336983323, 146.72751192749007, 153.5918728699125, 150.44647156858156, 149.85274142991224, 146.88378062956244, 142.2738364687158, 149.61520547220562, 151.68252126257585, 144.2299415777755, 139.25209652135197, 144.1393346036738, 144.16368907842718, 154.88703176958134, 145.08318642642232, 151.1457541161056, 131.9621378909168, 139.24429037684715, 143.45707721576264, 134.8157982369023, 145.08767131667258, 147.73607222570595, 131.20316205073937, 132.52877815098697, 147.13886080057938, 138.74178975229358, 137.4038566911176, 136.5219712610119, 136.0161779446246, 131.6967022563661, 140.62651326930313, 135.8891100293454, 135.7220598027803, 138.08779608279377, 134.82505829582402, 139.89654702286123, 123.24830789154711, 139.29531195377294, 129.61517021861462, 139.3230189118593, 132.42388848003023, 137.10248389517517, 138.88429894713994, 131.75570460969138, 129.2418127331276, 128.6593082088701, 134.88861963321114, 132.95967515211603, 132.9390797870042, 132.44579962429944, 125.92072365571784, 123.0002064413899, 129.49238730825743, 130.84447012257678, 123.92827861578807, 137.07000110658643, 132.9220461194234, 122.51198019133953, 127.86240159535292, 140.02535086081028, 127.06706858789025, 128.06268125991988, 131.07749245092975, 139.45106916746275, 129.95006765507677, 124.0048007814335, 134.27597652927415, 113.23231066016098, 125.58472002139432, 124.42906815369632, 134.26312163649987, 125.51077544479831, 128.18565940657962, 131.3710476826954, 124.1745053680358, 122.85998794511644, 116.651928119726, 135.84533519115857, 124.99329597832444, 125.78404657094097, 128.5616071083202, 119.63537102124988, 122.85576076887116, 126.50519147025624, 119.56000384935253, 120.2922307698887, 117.68639302411609, 127.17194931051131, 120.8663183116392, 120.70710988362981, 128.27544015825882, 126.30502586582911, 127.92313982021297, 128.7109290386298, 126.00581600248157, 125.26133227823345, 122.65566121155138, 116.01288137186384, 128.52328162476041, 132.75251855573046, 126.3046616749751, 135.71693030274417, 121.56205500183864, 127.34697715945909, 136.55075468276303, 133.22775924043663, 124.10617605389183, 119.4210730554518, 133.40679619539395, 124.15482849040384, 121.34634437929392, 124.08534467082644, 130.98727188367175, 122.83994350396625, 126.85212689565975, 121.08672676020008, 114.18253442545982, 127.72142163602973, 116.03352630989374, 122.17854827913578, 133.02815095227027, 115.81407567749253, 110.69445600800007, 125.05479597410495, 123.75377163829289, 120.91888432425714, 124.95323370394122, 115.18225701336786, 113.38718385326086, 123.31829264336866, 130.51103567578946, 120.40217752563186, 126.47130899116559, 121.27660374961545, 124.44542208408238, 116.81039396581077, 117.55115955828691, 124.46154684286819, 122.80677992987859, 124.13587603028681, 127.53182567471347, 120.70210328647178, 126.16624128472944, 122.55274941043112, 130.1311647818658, 113.64248965312682, 118.71780334432728, 127.47690166239971, 123.54854437103639, 122.60279929504857, 120.60223113205862, 124.17517608224537, 120.72740056242814, 126.26265933778363, 126.89160734956927, 125.39397868509158, 117.63929845261146, 120.90805039897946, 128.30990129042374, 123.44573544316076, 130.05571546908496, 123.84941781968898, 118.74244301653273, 122.29794299691913, 112.14957121752641, 115.9880162007669, 122.81610276089486, 120.66256075521487, 139.71462672959382, 117.67066126143857, 119.16198123680799, 124.99315207965905, 115.85764049282929, 119.72421382779903, 112.35584588891733, 122.20862651766744, 129.56110361163286, 116.267597406423, 129.1089433611797, 122.13947221207077, 125.71302649148382, 128.4976170131543, 120.37580708589837, 124.00994306615009, 129.50439962972146, 122.36736709146936, 130.14909052172126, 126.3023972318583, 106.88546940792932, 126.98321159581415, 123.36327600472856, 122.27438075339309, 122.88900225445887, 122.2470481916937, 121.46182343374124, 125.73282080267153, 125.03616435152455, 123.6412092307505, 127.35807451798013, 120.27578744060476, 118.7268203247886, 115.94198669529713, 115.67645280708784, 120.27169521687753, 118.12283010002426, 118.87075793068212, 122.12548316099642, 125.74172334188505, 121.3539366223457, 126.68677193740666, 128.10867915213578, 123.98514824695692, 118.0974617775015, 121.64978346262251, 123.50440556675679, 126.97129954959618, 124.6591344044989, 127.47065106293444, 129.53198972390425, 131.89830005728518, 129.4454372629388, 118.90312527971456, 118.17396319683267, 126.65266739925539, 118.07967859281685, 122.65204654543376, 118.11386348413832, 130.3241596811649, 113.39755855094052, 119.74565578706404, 127.05454006296652, 114.99457799522119, 120.90424882489852, 121.45675286935825]}],\n",
              "                        {\"height\": 600, \"showlegend\": false, \"template\": {\"data\": {\"bar\": [{\"error_x\": {\"color\": \"#2a3f5f\"}, \"error_y\": {\"color\": \"#2a3f5f\"}, \"marker\": {\"line\": {\"color\": \"#E5ECF6\", \"width\": 0.5}}, \"type\": \"bar\"}], \"barpolar\": [{\"marker\": {\"line\": {\"color\": \"#E5ECF6\", \"width\": 0.5}}, \"type\": \"barpolar\"}], \"carpet\": [{\"aaxis\": {\"endlinecolor\": \"#2a3f5f\", \"gridcolor\": \"white\", \"linecolor\": \"white\", \"minorgridcolor\": \"white\", \"startlinecolor\": \"#2a3f5f\"}, \"baxis\": {\"endlinecolor\": \"#2a3f5f\", \"gridcolor\": \"white\", \"linecolor\": \"white\", \"minorgridcolor\": \"white\", \"startlinecolor\": \"#2a3f5f\"}, \"type\": \"carpet\"}], \"choropleth\": [{\"colorbar\": {\"outlinewidth\": 0, \"ticks\": \"\"}, \"type\": \"choropleth\"}], \"contour\": [{\"colorbar\": {\"outlinewidth\": 0, \"ticks\": \"\"}, \"colorscale\": [[0.0, \"#0d0887\"], [0.1111111111111111, \"#46039f\"], [0.2222222222222222, \"#7201a8\"], [0.3333333333333333, \"#9c179e\"], [0.4444444444444444, \"#bd3786\"], [0.5555555555555556, \"#d8576b\"], [0.6666666666666666, \"#ed7953\"], [0.7777777777777778, \"#fb9f3a\"], [0.8888888888888888, \"#fdca26\"], [1.0, \"#f0f921\"]], \"type\": \"contour\"}], \"contourcarpet\": [{\"colorbar\": {\"outlinewidth\": 0, \"ticks\": \"\"}, \"type\": \"contourcarpet\"}], \"heatmap\": [{\"colorbar\": {\"outlinewidth\": 0, \"ticks\": \"\"}, \"colorscale\": [[0.0, \"#0d0887\"], [0.1111111111111111, \"#46039f\"], [0.2222222222222222, \"#7201a8\"], [0.3333333333333333, \"#9c179e\"], [0.4444444444444444, \"#bd3786\"], [0.5555555555555556, \"#d8576b\"], [0.6666666666666666, \"#ed7953\"], [0.7777777777777778, \"#fb9f3a\"], [0.8888888888888888, \"#fdca26\"], [1.0, \"#f0f921\"]], \"type\": \"heatmap\"}], \"heatmapgl\": [{\"colorbar\": {\"outlinewidth\": 0, \"ticks\": \"\"}, \"colorscale\": [[0.0, \"#0d0887\"], [0.1111111111111111, \"#46039f\"], [0.2222222222222222, \"#7201a8\"], [0.3333333333333333, \"#9c179e\"], [0.4444444444444444, \"#bd3786\"], [0.5555555555555556, \"#d8576b\"], [0.6666666666666666, \"#ed7953\"], [0.7777777777777778, \"#fb9f3a\"], [0.8888888888888888, \"#fdca26\"], [1.0, \"#f0f921\"]], \"type\": \"heatmapgl\"}], \"histogram\": [{\"marker\": {\"colorbar\": {\"outlinewidth\": 0, \"ticks\": \"\"}}, \"type\": \"histogram\"}], \"histogram2d\": [{\"colorbar\": {\"outlinewidth\": 0, \"ticks\": \"\"}, \"colorscale\": [[0.0, \"#0d0887\"], [0.1111111111111111, \"#46039f\"], [0.2222222222222222, \"#7201a8\"], [0.3333333333333333, \"#9c179e\"], [0.4444444444444444, \"#bd3786\"], [0.5555555555555556, \"#d8576b\"], [0.6666666666666666, \"#ed7953\"], [0.7777777777777778, \"#fb9f3a\"], [0.8888888888888888, \"#fdca26\"], [1.0, \"#f0f921\"]], \"type\": \"histogram2d\"}], \"histogram2dcontour\": [{\"colorbar\": {\"outlinewidth\": 0, \"ticks\": \"\"}, \"colorscale\": [[0.0, \"#0d0887\"], [0.1111111111111111, \"#46039f\"], [0.2222222222222222, \"#7201a8\"], [0.3333333333333333, \"#9c179e\"], [0.4444444444444444, \"#bd3786\"], [0.5555555555555556, \"#d8576b\"], [0.6666666666666666, \"#ed7953\"], [0.7777777777777778, \"#fb9f3a\"], [0.8888888888888888, \"#fdca26\"], [1.0, \"#f0f921\"]], \"type\": \"histogram2dcontour\"}], \"mesh3d\": [{\"colorbar\": {\"outlinewidth\": 0, \"ticks\": \"\"}, \"type\": \"mesh3d\"}], \"parcoords\": [{\"line\": {\"colorbar\": {\"outlinewidth\": 0, \"ticks\": \"\"}}, \"type\": \"parcoords\"}], \"pie\": [{\"automargin\": true, \"type\": \"pie\"}], \"scatter\": [{\"marker\": {\"colorbar\": {\"outlinewidth\": 0, \"ticks\": \"\"}}, \"type\": \"scatter\"}], \"scatter3d\": [{\"line\": {\"colorbar\": {\"outlinewidth\": 0, \"ticks\": \"\"}}, \"marker\": {\"colorbar\": {\"outlinewidth\": 0, \"ticks\": \"\"}}, \"type\": \"scatter3d\"}], \"scattercarpet\": [{\"marker\": {\"colorbar\": {\"outlinewidth\": 0, \"ticks\": \"\"}}, \"type\": \"scattercarpet\"}], \"scattergeo\": [{\"marker\": {\"colorbar\": {\"outlinewidth\": 0, \"ticks\": \"\"}}, \"type\": \"scattergeo\"}], \"scattergl\": [{\"marker\": {\"colorbar\": {\"outlinewidth\": 0, \"ticks\": \"\"}}, \"type\": \"scattergl\"}], \"scattermapbox\": [{\"marker\": {\"colorbar\": {\"outlinewidth\": 0, \"ticks\": \"\"}}, \"type\": \"scattermapbox\"}], \"scatterpolar\": [{\"marker\": {\"colorbar\": {\"outlinewidth\": 0, \"ticks\": \"\"}}, \"type\": \"scatterpolar\"}], \"scatterpolargl\": [{\"marker\": {\"colorbar\": {\"outlinewidth\": 0, \"ticks\": \"\"}}, \"type\": \"scatterpolargl\"}], \"scatterternary\": [{\"marker\": {\"colorbar\": {\"outlinewidth\": 0, \"ticks\": \"\"}}, \"type\": \"scatterternary\"}], \"surface\": [{\"colorbar\": {\"outlinewidth\": 0, \"ticks\": \"\"}, \"colorscale\": [[0.0, \"#0d0887\"], [0.1111111111111111, \"#46039f\"], [0.2222222222222222, \"#7201a8\"], [0.3333333333333333, \"#9c179e\"], [0.4444444444444444, \"#bd3786\"], [0.5555555555555556, \"#d8576b\"], [0.6666666666666666, \"#ed7953\"], [0.7777777777777778, \"#fb9f3a\"], [0.8888888888888888, \"#fdca26\"], [1.0, \"#f0f921\"]], \"type\": \"surface\"}], \"table\": [{\"cells\": {\"fill\": {\"color\": \"#EBF0F8\"}, \"line\": {\"color\": \"white\"}}, \"header\": {\"fill\": {\"color\": \"#C8D4E3\"}, \"line\": {\"color\": \"white\"}}, \"type\": \"table\"}]}, \"layout\": {\"annotationdefaults\": {\"arrowcolor\": \"#2a3f5f\", \"arrowhead\": 0, \"arrowwidth\": 1}, \"coloraxis\": {\"colorbar\": {\"outlinewidth\": 0, \"ticks\": \"\"}}, \"colorscale\": {\"diverging\": [[0, \"#8e0152\"], [0.1, \"#c51b7d\"], [0.2, \"#de77ae\"], [0.3, \"#f1b6da\"], [0.4, \"#fde0ef\"], [0.5, \"#f7f7f7\"], [0.6, \"#e6f5d0\"], [0.7, \"#b8e186\"], [0.8, \"#7fbc41\"], [0.9, \"#4d9221\"], [1, \"#276419\"]], \"sequential\": [[0.0, \"#0d0887\"], [0.1111111111111111, \"#46039f\"], [0.2222222222222222, \"#7201a8\"], [0.3333333333333333, \"#9c179e\"], [0.4444444444444444, \"#bd3786\"], [0.5555555555555556, \"#d8576b\"], [0.6666666666666666, \"#ed7953\"], [0.7777777777777778, \"#fb9f3a\"], [0.8888888888888888, \"#fdca26\"], [1.0, \"#f0f921\"]], \"sequentialminus\": [[0.0, \"#0d0887\"], [0.1111111111111111, \"#46039f\"], [0.2222222222222222, \"#7201a8\"], [0.3333333333333333, \"#9c179e\"], [0.4444444444444444, \"#bd3786\"], [0.5555555555555556, \"#d8576b\"], [0.6666666666666666, \"#ed7953\"], [0.7777777777777778, \"#fb9f3a\"], [0.8888888888888888, \"#fdca26\"], [1.0, \"#f0f921\"]]}, \"colorway\": [\"#636efa\", \"#EF553B\", \"#00cc96\", \"#ab63fa\", \"#FFA15A\", \"#19d3f3\", \"#FF6692\", \"#B6E880\", \"#FF97FF\", \"#FECB52\"], \"font\": {\"color\": \"#2a3f5f\"}, \"geo\": {\"bgcolor\": \"white\", \"lakecolor\": \"white\", \"landcolor\": \"#E5ECF6\", \"showlakes\": true, \"showland\": true, \"subunitcolor\": \"white\"}, \"hoverlabel\": {\"align\": \"left\"}, \"hovermode\": \"closest\", \"mapbox\": {\"style\": \"light\"}, \"paper_bgcolor\": \"white\", \"plot_bgcolor\": \"#E5ECF6\", \"polar\": {\"angularaxis\": {\"gridcolor\": \"white\", \"linecolor\": \"white\", \"ticks\": \"\"}, \"bgcolor\": \"#E5ECF6\", \"radialaxis\": {\"gridcolor\": \"white\", \"linecolor\": \"white\", \"ticks\": \"\"}}, \"scene\": {\"xaxis\": {\"backgroundcolor\": \"#E5ECF6\", \"gridcolor\": \"white\", \"gridwidth\": 2, \"linecolor\": \"white\", \"showbackground\": true, \"ticks\": \"\", \"zerolinecolor\": \"white\"}, \"yaxis\": {\"backgroundcolor\": \"#E5ECF6\", \"gridcolor\": \"white\", \"gridwidth\": 2, \"linecolor\": \"white\", \"showbackground\": true, \"ticks\": \"\", \"zerolinecolor\": \"white\"}, \"zaxis\": {\"backgroundcolor\": \"#E5ECF6\", \"gridcolor\": \"white\", \"gridwidth\": 2, \"linecolor\": \"white\", \"showbackground\": true, \"ticks\": \"\", \"zerolinecolor\": \"white\"}}, \"shapedefaults\": {\"line\": {\"color\": \"#2a3f5f\"}}, \"ternary\": {\"aaxis\": {\"gridcolor\": \"white\", \"linecolor\": \"white\", \"ticks\": \"\"}, \"baxis\": {\"gridcolor\": \"white\", \"linecolor\": \"white\", \"ticks\": \"\"}, \"bgcolor\": \"#E5ECF6\", \"caxis\": {\"gridcolor\": \"white\", \"linecolor\": \"white\", \"ticks\": \"\"}}, \"title\": {\"x\": 0.05}, \"xaxis\": {\"automargin\": true, \"gridcolor\": \"white\", \"linecolor\": \"white\", \"ticks\": \"\", \"title\": {\"standoff\": 15}, \"zerolinecolor\": \"white\", \"zerolinewidth\": 2}, \"yaxis\": {\"automargin\": true, \"gridcolor\": \"white\", \"linecolor\": \"white\", \"ticks\": \"\", \"title\": {\"standoff\": 15}, \"zerolinecolor\": \"white\", \"zerolinewidth\": 2}}}, \"width\": 900, \"xaxis\": {\"rangeselector\": {\"buttons\": [{\"count\": 7, \"label\": \"1w\", \"step\": \"day\", \"stepmode\": \"backward\"}, {\"count\": 1, \"label\": \"1m\", \"step\": \"month\", \"stepmode\": \"backward\"}, {\"count\": 6, \"label\": \"6m\", \"step\": \"month\", \"stepmode\": \"backward\"}, {\"count\": 1, \"label\": \"1y\", \"step\": \"year\", \"stepmode\": \"backward\"}, {\"step\": \"all\"}]}, \"rangeslider\": {\"visible\": true}, \"title\": {\"text\": \"ds\"}, \"type\": \"date\"}, \"yaxis\": {\"title\": {\"text\": \"y\"}}},\n",
              "                        {\"responsive\": true}\n",
              "                    ).then(function(){\n",
              "                            \n",
              "var gd = document.getElementById('fe676327-6726-4a65-be9c-404f6691c833');\n",
              "var x = new MutationObserver(function (mutations, observer) {{\n",
              "        var display = window.getComputedStyle(gd).display;\n",
              "        if (!display || display === 'none') {{\n",
              "            console.log([gd, 'removed!']);\n",
              "            Plotly.purge(gd);\n",
              "            observer.disconnect();\n",
              "        }}\n",
              "}});\n",
              "\n",
              "// Listen for the removal of the full notebook cells\n",
              "var notebookContainer = gd.closest('#notebook-container');\n",
              "if (notebookContainer) {{\n",
              "    x.observe(notebookContainer, {childList: true});\n",
              "}}\n",
              "\n",
              "// Listen for the clearing of the current output cell\n",
              "var outputEl = gd.closest('.output');\n",
              "if (outputEl) {{\n",
              "    x.observe(outputEl, {childList: true});\n",
              "}}\n",
              "\n",
              "                        })\n",
              "                };\n",
              "                \n",
              "            </script>\n",
              "        </div>\n",
              "</body>\n",
              "</html>"
            ]
          },
          "metadata": {
            "tags": []
          }
        }
      ]
    },
    {
      "cell_type": "markdown",
      "metadata": {
        "id": "HF2UVZEGp6qs"
      },
      "source": [
        "# Visualizing Prophet models\r\n",
        "\r\n",
        "### In order to build a useful dataframe to visualize our model versus our original data `Riyadh`, we need to combine the output of the Prophet model with our original data set, then we'll build a new chart manually using pandas and matplotlib.\r\n",
        "\r\n"
      ]
    },
    {
      "cell_type": "code",
      "metadata": {
        "id": "bSiP3yE8xZMO"
      },
      "source": [
        "# let's set the dataframe to have the same index of ds\r\n",
        "Rregion=Rregion.rename(columns={'Date':'ds', 'Confirmed':'y'})"
      ],
      "execution_count": 36,
      "outputs": []
    },
    {
      "cell_type": "code",
      "metadata": {
        "id": "6cgusZZdAq_f"
      },
      "source": [
        "Rregion.set_index('ds', inplace=True)\r\n",
        "fcst.set_index('ds', inplace=True)"
      ],
      "execution_count": 37,
      "outputs": []
    },
    {
      "cell_type": "code",
      "metadata": {
        "id": "acNBIzukAyDZ"
      },
      "source": [
        "# combine the original data and the forecast model data\r\n",
        "viz_df = Rregion.join(fcst[['yhat', 'yhat_lower','yhat_upper']], how = 'outer')"
      ],
      "execution_count": 38,
      "outputs": []
    },
    {
      "cell_type": "markdown",
      "metadata": {
        "id": "rGsbt1hDyg8f"
      },
      "source": [
        "### If we look at the head(), we see the data has been joined correctly but the scales of our original data (y) that confirmed cases and the model (yhat) are different. so need to rescale the yhat colums(s) to get the same scale, so we'll use numpy's exp function to do that."
      ]
    },
    {
      "cell_type": "code",
      "metadata": {
        "colab": {
          "base_uri": "https://localhost:8080/",
          "height": 510
        },
        "id": "2h8XlhtBAyMq",
        "outputId": "21e0c9cd-3d9e-4fb6-a959-188d8a0c36f3"
      },
      "source": [
        "viz_df.head()"
      ],
      "execution_count": 39,
      "outputs": [
        {
          "output_type": "execute_result",
          "data": {
            "text/html": [
              "<div>\n",
              "<style scoped>\n",
              "    .dataframe tbody tr th:only-of-type {\n",
              "        vertical-align: middle;\n",
              "    }\n",
              "\n",
              "    .dataframe tbody tr th {\n",
              "        vertical-align: top;\n",
              "    }\n",
              "\n",
              "    .dataframe thead th {\n",
              "        text-align: right;\n",
              "    }\n",
              "</style>\n",
              "<table border=\"1\" class=\"dataframe\">\n",
              "  <thead>\n",
              "    <tr style=\"text-align: right;\">\n",
              "      <th></th>\n",
              "      <th>PlaceName_EN</th>\n",
              "      <th>GovernorateName_EN</th>\n",
              "      <th>RegionName_EN</th>\n",
              "      <th>PLC_CODE</th>\n",
              "      <th>REG_CODE</th>\n",
              "      <th>GOV_CODE</th>\n",
              "      <th>Place_Category</th>\n",
              "      <th>DataSource</th>\n",
              "      <th>GlobalID</th>\n",
              "      <th>Reportdt</th>\n",
              "      <th>Name_Eng</th>\n",
              "      <th>Place_Code</th>\n",
              "      <th>y</th>\n",
              "      <th>Deaths</th>\n",
              "      <th>Recovered</th>\n",
              "      <th>Tested</th>\n",
              "      <th>NewAdded</th>\n",
              "      <th>GlobalID_1587594607483</th>\n",
              "      <th>Time</th>\n",
              "      <th>yhat</th>\n",
              "      <th>yhat_lower</th>\n",
              "      <th>yhat_upper</th>\n",
              "    </tr>\n",
              "    <tr>\n",
              "      <th>ds</th>\n",
              "      <th></th>\n",
              "      <th></th>\n",
              "      <th></th>\n",
              "      <th></th>\n",
              "      <th></th>\n",
              "      <th></th>\n",
              "      <th></th>\n",
              "      <th></th>\n",
              "      <th></th>\n",
              "      <th></th>\n",
              "      <th></th>\n",
              "      <th></th>\n",
              "      <th></th>\n",
              "      <th></th>\n",
              "      <th></th>\n",
              "      <th></th>\n",
              "      <th></th>\n",
              "      <th></th>\n",
              "      <th></th>\n",
              "      <th></th>\n",
              "      <th></th>\n",
              "      <th></th>\n",
              "    </tr>\n",
              "  </thead>\n",
              "  <tbody>\n",
              "    <tr>\n",
              "      <th>2020-03-09</th>\n",
              "      <td>AR RIYAD</td>\n",
              "      <td>Ar Riyad</td>\n",
              "      <td>Ar Riyad</td>\n",
              "      <td>C531G10R01</td>\n",
              "      <td>R01</td>\n",
              "      <td>G10R01</td>\n",
              "      <td>City</td>\n",
              "      <td>GCS</td>\n",
              "      <td>296ee29a-b190-4064-a3c5-cdd778046ab2</td>\n",
              "      <td>1.583712e+12</td>\n",
              "      <td>Riyadh</td>\n",
              "      <td>C531G10R01</td>\n",
              "      <td>1.0</td>\n",
              "      <td>0.0</td>\n",
              "      <td>0.0</td>\n",
              "      <td>1.0</td>\n",
              "      <td>0.0</td>\n",
              "      <td>cf1eb028-be80-401f-8a37-3ec00796fe9b</td>\n",
              "      <td>00:00:00</td>\n",
              "      <td>69.347853</td>\n",
              "      <td>-50.727559</td>\n",
              "      <td>185.942128</td>\n",
              "    </tr>\n",
              "    <tr>\n",
              "      <th>2020-03-13</th>\n",
              "      <td>AR RIYAD</td>\n",
              "      <td>Ar Riyad</td>\n",
              "      <td>Ar Riyad</td>\n",
              "      <td>C531G10R01</td>\n",
              "      <td>R01</td>\n",
              "      <td>G10R01</td>\n",
              "      <td>City</td>\n",
              "      <td>GCS</td>\n",
              "      <td>296ee29a-b190-4064-a3c5-cdd778046ab2</td>\n",
              "      <td>1.584058e+12</td>\n",
              "      <td>Riyadh</td>\n",
              "      <td>C531G10R01</td>\n",
              "      <td>3.0</td>\n",
              "      <td>0.0</td>\n",
              "      <td>0.0</td>\n",
              "      <td>3.0</td>\n",
              "      <td>0.0</td>\n",
              "      <td>9ffc0208-877f-4da0-9f48-f9ae39c71b46</td>\n",
              "      <td>00:00:00</td>\n",
              "      <td>68.072629</td>\n",
              "      <td>-48.629616</td>\n",
              "      <td>182.836538</td>\n",
              "    </tr>\n",
              "    <tr>\n",
              "      <th>2020-03-14</th>\n",
              "      <td>AR RIYAD</td>\n",
              "      <td>Ar Riyad</td>\n",
              "      <td>Ar Riyad</td>\n",
              "      <td>C531G10R01</td>\n",
              "      <td>R01</td>\n",
              "      <td>G10R01</td>\n",
              "      <td>City</td>\n",
              "      <td>GCS</td>\n",
              "      <td>296ee29a-b190-4064-a3c5-cdd778046ab2</td>\n",
              "      <td>1.584144e+12</td>\n",
              "      <td>Riyadh</td>\n",
              "      <td>C531G10R01</td>\n",
              "      <td>12.0</td>\n",
              "      <td>0.0</td>\n",
              "      <td>0.0</td>\n",
              "      <td>12.0</td>\n",
              "      <td>0.0</td>\n",
              "      <td>f5826ad2-87d9-4141-830a-91dc620b2b8b</td>\n",
              "      <td>00:00:00</td>\n",
              "      <td>66.955055</td>\n",
              "      <td>-51.558796</td>\n",
              "      <td>184.376122</td>\n",
              "    </tr>\n",
              "    <tr>\n",
              "      <th>2020-03-15</th>\n",
              "      <td>AR RIYAD</td>\n",
              "      <td>Ar Riyad</td>\n",
              "      <td>Ar Riyad</td>\n",
              "      <td>C531G10R01</td>\n",
              "      <td>R01</td>\n",
              "      <td>G10R01</td>\n",
              "      <td>City</td>\n",
              "      <td>GCS</td>\n",
              "      <td>296ee29a-b190-4064-a3c5-cdd778046ab2</td>\n",
              "      <td>1.584230e+12</td>\n",
              "      <td>Riyadh</td>\n",
              "      <td>C531G10R01</td>\n",
              "      <td>2.0</td>\n",
              "      <td>0.0</td>\n",
              "      <td>0.0</td>\n",
              "      <td>2.0</td>\n",
              "      <td>0.0</td>\n",
              "      <td>3c037e1f-0baa-4a98-a47f-1ce52534c7d3</td>\n",
              "      <td>00:00:00</td>\n",
              "      <td>65.844337</td>\n",
              "      <td>-59.541761</td>\n",
              "      <td>182.330720</td>\n",
              "    </tr>\n",
              "    <tr>\n",
              "      <th>2020-03-16</th>\n",
              "      <td>AR RIYAD</td>\n",
              "      <td>Ar Riyad</td>\n",
              "      <td>Ar Riyad</td>\n",
              "      <td>C531G10R01</td>\n",
              "      <td>R01</td>\n",
              "      <td>G10R01</td>\n",
              "      <td>City</td>\n",
              "      <td>GCS</td>\n",
              "      <td>296ee29a-b190-4064-a3c5-cdd778046ab2</td>\n",
              "      <td>1.584317e+12</td>\n",
              "      <td>Riyadh</td>\n",
              "      <td>C531G10R01</td>\n",
              "      <td>4.0</td>\n",
              "      <td>0.0</td>\n",
              "      <td>0.0</td>\n",
              "      <td>4.0</td>\n",
              "      <td>0.0</td>\n",
              "      <td>3aed2d7e-dfc2-4109-87a9-7a1b6c129bbe</td>\n",
              "      <td>00:00:00</td>\n",
              "      <td>66.937838</td>\n",
              "      <td>-54.309053</td>\n",
              "      <td>176.421635</td>\n",
              "    </tr>\n",
              "  </tbody>\n",
              "</table>\n",
              "</div>"
            ],
            "text/plain": [
              "           PlaceName_EN GovernorateName_EN  ... yhat_lower  yhat_upper\n",
              "ds                                          ...                       \n",
              "2020-03-09     AR RIYAD           Ar Riyad  ... -50.727559  185.942128\n",
              "2020-03-13     AR RIYAD           Ar Riyad  ... -48.629616  182.836538\n",
              "2020-03-14     AR RIYAD           Ar Riyad  ... -51.558796  184.376122\n",
              "2020-03-15     AR RIYAD           Ar Riyad  ... -59.541761  182.330720\n",
              "2020-03-16     AR RIYAD           Ar Riyad  ... -54.309053  176.421635\n",
              "\n",
              "[5 rows x 22 columns]"
            ]
          },
          "metadata": {
            "tags": []
          },
          "execution_count": 39
        }
      ]
    },
    {
      "cell_type": "code",
      "metadata": {
        "id": "U00K7ggUCG5n"
      },
      "source": [
        "viz_df['yhat_rescaled'] = np.exp(viz_df['yhat'])"
      ],
      "execution_count": 40,
      "outputs": []
    },
    {
      "cell_type": "code",
      "metadata": {
        "colab": {
          "base_uri": "https://localhost:8080/",
          "height": 510
        },
        "id": "xf9acN-DCHGN",
        "outputId": "5184c6a4-301f-462b-9813-bbc87de9465b"
      },
      "source": [
        "viz_df.head()"
      ],
      "execution_count": 41,
      "outputs": [
        {
          "output_type": "execute_result",
          "data": {
            "text/html": [
              "<div>\n",
              "<style scoped>\n",
              "    .dataframe tbody tr th:only-of-type {\n",
              "        vertical-align: middle;\n",
              "    }\n",
              "\n",
              "    .dataframe tbody tr th {\n",
              "        vertical-align: top;\n",
              "    }\n",
              "\n",
              "    .dataframe thead th {\n",
              "        text-align: right;\n",
              "    }\n",
              "</style>\n",
              "<table border=\"1\" class=\"dataframe\">\n",
              "  <thead>\n",
              "    <tr style=\"text-align: right;\">\n",
              "      <th></th>\n",
              "      <th>PlaceName_EN</th>\n",
              "      <th>GovernorateName_EN</th>\n",
              "      <th>RegionName_EN</th>\n",
              "      <th>PLC_CODE</th>\n",
              "      <th>REG_CODE</th>\n",
              "      <th>GOV_CODE</th>\n",
              "      <th>Place_Category</th>\n",
              "      <th>DataSource</th>\n",
              "      <th>GlobalID</th>\n",
              "      <th>Reportdt</th>\n",
              "      <th>Name_Eng</th>\n",
              "      <th>Place_Code</th>\n",
              "      <th>y</th>\n",
              "      <th>Deaths</th>\n",
              "      <th>Recovered</th>\n",
              "      <th>Tested</th>\n",
              "      <th>NewAdded</th>\n",
              "      <th>GlobalID_1587594607483</th>\n",
              "      <th>Time</th>\n",
              "      <th>yhat</th>\n",
              "      <th>yhat_lower</th>\n",
              "      <th>yhat_upper</th>\n",
              "      <th>yhat_rescaled</th>\n",
              "    </tr>\n",
              "    <tr>\n",
              "      <th>ds</th>\n",
              "      <th></th>\n",
              "      <th></th>\n",
              "      <th></th>\n",
              "      <th></th>\n",
              "      <th></th>\n",
              "      <th></th>\n",
              "      <th></th>\n",
              "      <th></th>\n",
              "      <th></th>\n",
              "      <th></th>\n",
              "      <th></th>\n",
              "      <th></th>\n",
              "      <th></th>\n",
              "      <th></th>\n",
              "      <th></th>\n",
              "      <th></th>\n",
              "      <th></th>\n",
              "      <th></th>\n",
              "      <th></th>\n",
              "      <th></th>\n",
              "      <th></th>\n",
              "      <th></th>\n",
              "      <th></th>\n",
              "    </tr>\n",
              "  </thead>\n",
              "  <tbody>\n",
              "    <tr>\n",
              "      <th>2020-03-09</th>\n",
              "      <td>AR RIYAD</td>\n",
              "      <td>Ar Riyad</td>\n",
              "      <td>Ar Riyad</td>\n",
              "      <td>C531G10R01</td>\n",
              "      <td>R01</td>\n",
              "      <td>G10R01</td>\n",
              "      <td>City</td>\n",
              "      <td>GCS</td>\n",
              "      <td>296ee29a-b190-4064-a3c5-cdd778046ab2</td>\n",
              "      <td>1.583712e+12</td>\n",
              "      <td>Riyadh</td>\n",
              "      <td>C531G10R01</td>\n",
              "      <td>1.0</td>\n",
              "      <td>0.0</td>\n",
              "      <td>0.0</td>\n",
              "      <td>1.0</td>\n",
              "      <td>0.0</td>\n",
              "      <td>cf1eb028-be80-401f-8a37-3ec00796fe9b</td>\n",
              "      <td>00:00:00</td>\n",
              "      <td>69.347853</td>\n",
              "      <td>-50.727559</td>\n",
              "      <td>185.942128</td>\n",
              "      <td>1.310358e+30</td>\n",
              "    </tr>\n",
              "    <tr>\n",
              "      <th>2020-03-13</th>\n",
              "      <td>AR RIYAD</td>\n",
              "      <td>Ar Riyad</td>\n",
              "      <td>Ar Riyad</td>\n",
              "      <td>C531G10R01</td>\n",
              "      <td>R01</td>\n",
              "      <td>G10R01</td>\n",
              "      <td>City</td>\n",
              "      <td>GCS</td>\n",
              "      <td>296ee29a-b190-4064-a3c5-cdd778046ab2</td>\n",
              "      <td>1.584058e+12</td>\n",
              "      <td>Riyadh</td>\n",
              "      <td>C531G10R01</td>\n",
              "      <td>3.0</td>\n",
              "      <td>0.0</td>\n",
              "      <td>0.0</td>\n",
              "      <td>3.0</td>\n",
              "      <td>0.0</td>\n",
              "      <td>9ffc0208-877f-4da0-9f48-f9ae39c71b46</td>\n",
              "      <td>00:00:00</td>\n",
              "      <td>68.072629</td>\n",
              "      <td>-48.629616</td>\n",
              "      <td>182.836538</td>\n",
              "      <td>3.660724e+29</td>\n",
              "    </tr>\n",
              "    <tr>\n",
              "      <th>2020-03-14</th>\n",
              "      <td>AR RIYAD</td>\n",
              "      <td>Ar Riyad</td>\n",
              "      <td>Ar Riyad</td>\n",
              "      <td>C531G10R01</td>\n",
              "      <td>R01</td>\n",
              "      <td>G10R01</td>\n",
              "      <td>City</td>\n",
              "      <td>GCS</td>\n",
              "      <td>296ee29a-b190-4064-a3c5-cdd778046ab2</td>\n",
              "      <td>1.584144e+12</td>\n",
              "      <td>Riyadh</td>\n",
              "      <td>C531G10R01</td>\n",
              "      <td>12.0</td>\n",
              "      <td>0.0</td>\n",
              "      <td>0.0</td>\n",
              "      <td>12.0</td>\n",
              "      <td>0.0</td>\n",
              "      <td>f5826ad2-87d9-4141-830a-91dc620b2b8b</td>\n",
              "      <td>00:00:00</td>\n",
              "      <td>66.955055</td>\n",
              "      <td>-51.558796</td>\n",
              "      <td>184.376122</td>\n",
              "      <td>1.197321e+29</td>\n",
              "    </tr>\n",
              "    <tr>\n",
              "      <th>2020-03-15</th>\n",
              "      <td>AR RIYAD</td>\n",
              "      <td>Ar Riyad</td>\n",
              "      <td>Ar Riyad</td>\n",
              "      <td>C531G10R01</td>\n",
              "      <td>R01</td>\n",
              "      <td>G10R01</td>\n",
              "      <td>City</td>\n",
              "      <td>GCS</td>\n",
              "      <td>296ee29a-b190-4064-a3c5-cdd778046ab2</td>\n",
              "      <td>1.584230e+12</td>\n",
              "      <td>Riyadh</td>\n",
              "      <td>C531G10R01</td>\n",
              "      <td>2.0</td>\n",
              "      <td>0.0</td>\n",
              "      <td>0.0</td>\n",
              "      <td>2.0</td>\n",
              "      <td>0.0</td>\n",
              "      <td>3c037e1f-0baa-4a98-a47f-1ce52534c7d3</td>\n",
              "      <td>00:00:00</td>\n",
              "      <td>65.844337</td>\n",
              "      <td>-59.541761</td>\n",
              "      <td>182.330720</td>\n",
              "      <td>3.943049e+28</td>\n",
              "    </tr>\n",
              "    <tr>\n",
              "      <th>2020-03-16</th>\n",
              "      <td>AR RIYAD</td>\n",
              "      <td>Ar Riyad</td>\n",
              "      <td>Ar Riyad</td>\n",
              "      <td>C531G10R01</td>\n",
              "      <td>R01</td>\n",
              "      <td>G10R01</td>\n",
              "      <td>City</td>\n",
              "      <td>GCS</td>\n",
              "      <td>296ee29a-b190-4064-a3c5-cdd778046ab2</td>\n",
              "      <td>1.584317e+12</td>\n",
              "      <td>Riyadh</td>\n",
              "      <td>C531G10R01</td>\n",
              "      <td>4.0</td>\n",
              "      <td>0.0</td>\n",
              "      <td>0.0</td>\n",
              "      <td>4.0</td>\n",
              "      <td>0.0</td>\n",
              "      <td>3aed2d7e-dfc2-4109-87a9-7a1b6c129bbe</td>\n",
              "      <td>00:00:00</td>\n",
              "      <td>66.937838</td>\n",
              "      <td>-54.309053</td>\n",
              "      <td>176.421635</td>\n",
              "      <td>1.176884e+29</td>\n",
              "    </tr>\n",
              "  </tbody>\n",
              "</table>\n",
              "</div>"
            ],
            "text/plain": [
              "           PlaceName_EN GovernorateName_EN  ...  yhat_upper yhat_rescaled\n",
              "ds                                          ...                          \n",
              "2020-03-09     AR RIYAD           Ar Riyad  ...  185.942128  1.310358e+30\n",
              "2020-03-13     AR RIYAD           Ar Riyad  ...  182.836538  3.660724e+29\n",
              "2020-03-14     AR RIYAD           Ar Riyad  ...  184.376122  1.197321e+29\n",
              "2020-03-15     AR RIYAD           Ar Riyad  ...  182.330720  3.943049e+28\n",
              "2020-03-16     AR RIYAD           Ar Riyad  ...  176.421635  1.176884e+29\n",
              "\n",
              "[5 rows x 23 columns]"
            ]
          },
          "metadata": {
            "tags": []
          },
          "execution_count": 41
        }
      ]
    },
    {
      "cell_type": "markdown",
      "metadata": {
        "id": "ViabcMswy90F"
      },
      "source": [
        "### Let's see the confirmed `y` and `yhat_rescaled` data together in a chart"
      ]
    },
    {
      "cell_type": "code",
      "metadata": {
        "colab": {
          "base_uri": "https://localhost:8080/",
          "height": 357
        },
        "id": "TTrN76ysCOEc",
        "outputId": "4ed54506-7a8e-47e8-f632-0756355138b5"
      },
      "source": [
        "\r\n",
        "plt.rcParams['figure.figsize']=(15,5)\r\n",
        "plt.style.use('ggplot')\r\n",
        "viz_df[['y', 'yhat_rescaled']].plot()"
      ],
      "execution_count": 42,
      "outputs": [
        {
          "output_type": "execute_result",
          "data": {
            "text/plain": [
              "<matplotlib.axes._subplots.AxesSubplot at 0x7f802a48a0d0>"
            ]
          },
          "metadata": {
            "tags": []
          },
          "execution_count": 42
        },
        {
          "output_type": "display_data",
          "data": {
            "image/png": "[encoded data removed]",
            "text/plain": [
              "<Figure size 1080x360 with 1 Axes>"
            ]
          },
          "metadata": {
            "tags": []
          }
        }
      ]
    },
    {
      "cell_type": "code",
      "metadata": {
        "id": "TCsQALlaClD9"
      },
      "source": [
        "Rregion.index = pd.to_datetime(Rregion.index) #make sure our index as a datetime object\r\n",
        "connect_date = Rregion.index[-2] #select the 2nd to last date"
      ],
      "execution_count": 43,
      "outputs": []
    },
    {
      "cell_type": "code",
      "metadata": {
        "id": "dsgz06HTC0zq"
      },
      "source": [
        "mask = (fcst.index > connect_date)\r\n",
        "predict_df = fcst.loc[mask]"
      ],
      "execution_count": 44,
      "outputs": []
    },
    {
      "cell_type": "code",
      "metadata": {
        "colab": {
          "base_uri": "https://localhost:8080/",
          "height": 340
        },
        "id": "cPb6AJyGC6ad",
        "outputId": "d1c0d23d-76ce-4cfe-adc5-aeca879f0cda"
      },
      "source": [
        "predict_df.head()"
      ],
      "execution_count": 45,
      "outputs": [
        {
          "output_type": "execute_result",
          "data": {
            "text/html": [
              "<div>\n",
              "<style scoped>\n",
              "    .dataframe tbody tr th:only-of-type {\n",
              "        vertical-align: middle;\n",
              "    }\n",
              "\n",
              "    .dataframe tbody tr th {\n",
              "        vertical-align: top;\n",
              "    }\n",
              "\n",
              "    .dataframe thead th {\n",
              "        text-align: right;\n",
              "    }\n",
              "</style>\n",
              "<table border=\"1\" class=\"dataframe\">\n",
              "  <thead>\n",
              "    <tr style=\"text-align: right;\">\n",
              "      <th></th>\n",
              "      <th>trend</th>\n",
              "      <th>yhat_lower</th>\n",
              "      <th>yhat_upper</th>\n",
              "      <th>trend_lower</th>\n",
              "      <th>trend_upper</th>\n",
              "      <th>additive_terms</th>\n",
              "      <th>additive_terms_lower</th>\n",
              "      <th>additive_terms_upper</th>\n",
              "      <th>weekly</th>\n",
              "      <th>weekly_lower</th>\n",
              "      <th>weekly_upper</th>\n",
              "      <th>multiplicative_terms</th>\n",
              "      <th>multiplicative_terms_lower</th>\n",
              "      <th>multiplicative_terms_upper</th>\n",
              "      <th>yhat</th>\n",
              "    </tr>\n",
              "    <tr>\n",
              "      <th>ds</th>\n",
              "      <th></th>\n",
              "      <th></th>\n",
              "      <th></th>\n",
              "      <th></th>\n",
              "      <th></th>\n",
              "      <th></th>\n",
              "      <th></th>\n",
              "      <th></th>\n",
              "      <th></th>\n",
              "      <th></th>\n",
              "      <th></th>\n",
              "      <th></th>\n",
              "      <th></th>\n",
              "      <th></th>\n",
              "      <th></th>\n",
              "    </tr>\n",
              "  </thead>\n",
              "  <tbody>\n",
              "    <tr>\n",
              "      <th>2021-01-29</th>\n",
              "      <td>2.477905</td>\n",
              "      <td>-117.900192</td>\n",
              "      <td>130.324160</td>\n",
              "      <td>2.477905</td>\n",
              "      <td>2.477905</td>\n",
              "      <td>0.156696</td>\n",
              "      <td>0.156696</td>\n",
              "      <td>0.156696</td>\n",
              "      <td>0.156696</td>\n",
              "      <td>0.156696</td>\n",
              "      <td>0.156696</td>\n",
              "      <td>0.0</td>\n",
              "      <td>0.0</td>\n",
              "      <td>0.0</td>\n",
              "      <td>2.634600</td>\n",
              "    </tr>\n",
              "    <tr>\n",
              "      <th>2021-01-31</th>\n",
              "      <td>2.436912</td>\n",
              "      <td>-118.868944</td>\n",
              "      <td>113.397559</td>\n",
              "      <td>2.436912</td>\n",
              "      <td>2.436912</td>\n",
              "      <td>-1.383020</td>\n",
              "      <td>-1.383020</td>\n",
              "      <td>-1.383020</td>\n",
              "      <td>-1.383020</td>\n",
              "      <td>-1.383020</td>\n",
              "      <td>-1.383020</td>\n",
              "      <td>0.0</td>\n",
              "      <td>0.0</td>\n",
              "      <td>0.0</td>\n",
              "      <td>1.053892</td>\n",
              "    </tr>\n",
              "    <tr>\n",
              "      <th>2021-02-28</th>\n",
              "      <td>1.863021</td>\n",
              "      <td>-114.492395</td>\n",
              "      <td>119.745656</td>\n",
              "      <td>0.930795</td>\n",
              "      <td>2.754387</td>\n",
              "      <td>-1.383020</td>\n",
              "      <td>-1.383020</td>\n",
              "      <td>-1.383020</td>\n",
              "      <td>-1.383020</td>\n",
              "      <td>-1.383020</td>\n",
              "      <td>-1.383020</td>\n",
              "      <td>0.0</td>\n",
              "      <td>0.0</td>\n",
              "      <td>0.0</td>\n",
              "      <td>0.480000</td>\n",
              "    </tr>\n",
              "    <tr>\n",
              "      <th>2021-03-31</th>\n",
              "      <td>1.227641</td>\n",
              "      <td>-116.032919</td>\n",
              "      <td>127.054540</td>\n",
              "      <td>-1.451852</td>\n",
              "      <td>3.777772</td>\n",
              "      <td>-0.154143</td>\n",
              "      <td>-0.154143</td>\n",
              "      <td>-0.154143</td>\n",
              "      <td>-0.154143</td>\n",
              "      <td>-0.154143</td>\n",
              "      <td>-0.154143</td>\n",
              "      <td>0.0</td>\n",
              "      <td>0.0</td>\n",
              "      <td>0.0</td>\n",
              "      <td>1.073497</td>\n",
              "    </tr>\n",
              "    <tr>\n",
              "      <th>2021-04-30</th>\n",
              "      <td>0.612757</td>\n",
              "      <td>-119.913084</td>\n",
              "      <td>114.994578</td>\n",
              "      <td>-4.613743</td>\n",
              "      <td>5.513582</td>\n",
              "      <td>0.156696</td>\n",
              "      <td>0.156696</td>\n",
              "      <td>0.156696</td>\n",
              "      <td>0.156696</td>\n",
              "      <td>0.156696</td>\n",
              "      <td>0.156696</td>\n",
              "      <td>0.0</td>\n",
              "      <td>0.0</td>\n",
              "      <td>0.0</td>\n",
              "      <td>0.769452</td>\n",
              "    </tr>\n",
              "  </tbody>\n",
              "</table>\n",
              "</div>"
            ],
            "text/plain": [
              "               trend  yhat_lower  ...  multiplicative_terms_upper      yhat\n",
              "ds                                ...                                      \n",
              "2021-01-29  2.477905 -117.900192  ...                         0.0  2.634600\n",
              "2021-01-31  2.436912 -118.868944  ...                         0.0  1.053892\n",
              "2021-02-28  1.863021 -114.492395  ...                         0.0  0.480000\n",
              "2021-03-31  1.227641 -116.032919  ...                         0.0  1.073497\n",
              "2021-04-30  0.612757 -119.913084  ...                         0.0  0.769452\n",
              "\n",
              "[5 rows x 15 columns]"
            ]
          },
          "metadata": {
            "tags": []
          },
          "execution_count": 45
        }
      ]
    },
    {
      "cell_type": "code",
      "metadata": {
        "id": "CPyZtax5C0-8"
      },
      "source": [
        "viz_df = Rregion.join(predict_df[['yhat', 'yhat_lower','yhat_upper']], how = 'outer')\r\n",
        "viz_df['yhat_scaled']=np.exp(viz_df['yhat'])"
      ],
      "execution_count": 46,
      "outputs": []
    },
    {
      "cell_type": "code",
      "metadata": {
        "colab": {
          "base_uri": "https://localhost:8080/",
          "height": 510
        },
        "id": "Oc9fMEoODDPW",
        "outputId": "ba531de3-d90c-4931-ae50-79d6116de2a0"
      },
      "source": [
        "viz_df.head()"
      ],
      "execution_count": 47,
      "outputs": [
        {
          "output_type": "execute_result",
          "data": {
            "text/html": [
              "<div>\n",
              "<style scoped>\n",
              "    .dataframe tbody tr th:only-of-type {\n",
              "        vertical-align: middle;\n",
              "    }\n",
              "\n",
              "    .dataframe tbody tr th {\n",
              "        vertical-align: top;\n",
              "    }\n",
              "\n",
              "    .dataframe thead th {\n",
              "        text-align: right;\n",
              "    }\n",
              "</style>\n",
              "<table border=\"1\" class=\"dataframe\">\n",
              "  <thead>\n",
              "    <tr style=\"text-align: right;\">\n",
              "      <th></th>\n",
              "      <th>PlaceName_EN</th>\n",
              "      <th>GovernorateName_EN</th>\n",
              "      <th>RegionName_EN</th>\n",
              "      <th>PLC_CODE</th>\n",
              "      <th>REG_CODE</th>\n",
              "      <th>GOV_CODE</th>\n",
              "      <th>Place_Category</th>\n",
              "      <th>DataSource</th>\n",
              "      <th>GlobalID</th>\n",
              "      <th>Reportdt</th>\n",
              "      <th>Name_Eng</th>\n",
              "      <th>Place_Code</th>\n",
              "      <th>y</th>\n",
              "      <th>Deaths</th>\n",
              "      <th>Recovered</th>\n",
              "      <th>Tested</th>\n",
              "      <th>NewAdded</th>\n",
              "      <th>GlobalID_1587594607483</th>\n",
              "      <th>Time</th>\n",
              "      <th>yhat</th>\n",
              "      <th>yhat_lower</th>\n",
              "      <th>yhat_upper</th>\n",
              "      <th>yhat_scaled</th>\n",
              "    </tr>\n",
              "    <tr>\n",
              "      <th>ds</th>\n",
              "      <th></th>\n",
              "      <th></th>\n",
              "      <th></th>\n",
              "      <th></th>\n",
              "      <th></th>\n",
              "      <th></th>\n",
              "      <th></th>\n",
              "      <th></th>\n",
              "      <th></th>\n",
              "      <th></th>\n",
              "      <th></th>\n",
              "      <th></th>\n",
              "      <th></th>\n",
              "      <th></th>\n",
              "      <th></th>\n",
              "      <th></th>\n",
              "      <th></th>\n",
              "      <th></th>\n",
              "      <th></th>\n",
              "      <th></th>\n",
              "      <th></th>\n",
              "      <th></th>\n",
              "      <th></th>\n",
              "    </tr>\n",
              "  </thead>\n",
              "  <tbody>\n",
              "    <tr>\n",
              "      <th>2020-03-09</th>\n",
              "      <td>AR RIYAD</td>\n",
              "      <td>Ar Riyad</td>\n",
              "      <td>Ar Riyad</td>\n",
              "      <td>C531G10R01</td>\n",
              "      <td>R01</td>\n",
              "      <td>G10R01</td>\n",
              "      <td>City</td>\n",
              "      <td>GCS</td>\n",
              "      <td>296ee29a-b190-4064-a3c5-cdd778046ab2</td>\n",
              "      <td>1.583712e+12</td>\n",
              "      <td>Riyadh</td>\n",
              "      <td>C531G10R01</td>\n",
              "      <td>1.0</td>\n",
              "      <td>0.0</td>\n",
              "      <td>0.0</td>\n",
              "      <td>1.0</td>\n",
              "      <td>0.0</td>\n",
              "      <td>cf1eb028-be80-401f-8a37-3ec00796fe9b</td>\n",
              "      <td>00:00:00</td>\n",
              "      <td>NaN</td>\n",
              "      <td>NaN</td>\n",
              "      <td>NaN</td>\n",
              "      <td>NaN</td>\n",
              "    </tr>\n",
              "    <tr>\n",
              "      <th>2020-03-13</th>\n",
              "      <td>AR RIYAD</td>\n",
              "      <td>Ar Riyad</td>\n",
              "      <td>Ar Riyad</td>\n",
              "      <td>C531G10R01</td>\n",
              "      <td>R01</td>\n",
              "      <td>G10R01</td>\n",
              "      <td>City</td>\n",
              "      <td>GCS</td>\n",
              "      <td>296ee29a-b190-4064-a3c5-cdd778046ab2</td>\n",
              "      <td>1.584058e+12</td>\n",
              "      <td>Riyadh</td>\n",
              "      <td>C531G10R01</td>\n",
              "      <td>3.0</td>\n",
              "      <td>0.0</td>\n",
              "      <td>0.0</td>\n",
              "      <td>3.0</td>\n",
              "      <td>0.0</td>\n",
              "      <td>9ffc0208-877f-4da0-9f48-f9ae39c71b46</td>\n",
              "      <td>00:00:00</td>\n",
              "      <td>NaN</td>\n",
              "      <td>NaN</td>\n",
              "      <td>NaN</td>\n",
              "      <td>NaN</td>\n",
              "    </tr>\n",
              "    <tr>\n",
              "      <th>2020-03-14</th>\n",
              "      <td>AR RIYAD</td>\n",
              "      <td>Ar Riyad</td>\n",
              "      <td>Ar Riyad</td>\n",
              "      <td>C531G10R01</td>\n",
              "      <td>R01</td>\n",
              "      <td>G10R01</td>\n",
              "      <td>City</td>\n",
              "      <td>GCS</td>\n",
              "      <td>296ee29a-b190-4064-a3c5-cdd778046ab2</td>\n",
              "      <td>1.584144e+12</td>\n",
              "      <td>Riyadh</td>\n",
              "      <td>C531G10R01</td>\n",
              "      <td>12.0</td>\n",
              "      <td>0.0</td>\n",
              "      <td>0.0</td>\n",
              "      <td>12.0</td>\n",
              "      <td>0.0</td>\n",
              "      <td>f5826ad2-87d9-4141-830a-91dc620b2b8b</td>\n",
              "      <td>00:00:00</td>\n",
              "      <td>NaN</td>\n",
              "      <td>NaN</td>\n",
              "      <td>NaN</td>\n",
              "      <td>NaN</td>\n",
              "    </tr>\n",
              "    <tr>\n",
              "      <th>2020-03-15</th>\n",
              "      <td>AR RIYAD</td>\n",
              "      <td>Ar Riyad</td>\n",
              "      <td>Ar Riyad</td>\n",
              "      <td>C531G10R01</td>\n",
              "      <td>R01</td>\n",
              "      <td>G10R01</td>\n",
              "      <td>City</td>\n",
              "      <td>GCS</td>\n",
              "      <td>296ee29a-b190-4064-a3c5-cdd778046ab2</td>\n",
              "      <td>1.584230e+12</td>\n",
              "      <td>Riyadh</td>\n",
              "      <td>C531G10R01</td>\n",
              "      <td>2.0</td>\n",
              "      <td>0.0</td>\n",
              "      <td>0.0</td>\n",
              "      <td>2.0</td>\n",
              "      <td>0.0</td>\n",
              "      <td>3c037e1f-0baa-4a98-a47f-1ce52534c7d3</td>\n",
              "      <td>00:00:00</td>\n",
              "      <td>NaN</td>\n",
              "      <td>NaN</td>\n",
              "      <td>NaN</td>\n",
              "      <td>NaN</td>\n",
              "    </tr>\n",
              "    <tr>\n",
              "      <th>2020-03-16</th>\n",
              "      <td>AR RIYAD</td>\n",
              "      <td>Ar Riyad</td>\n",
              "      <td>Ar Riyad</td>\n",
              "      <td>C531G10R01</td>\n",
              "      <td>R01</td>\n",
              "      <td>G10R01</td>\n",
              "      <td>City</td>\n",
              "      <td>GCS</td>\n",
              "      <td>296ee29a-b190-4064-a3c5-cdd778046ab2</td>\n",
              "      <td>1.584317e+12</td>\n",
              "      <td>Riyadh</td>\n",
              "      <td>C531G10R01</td>\n",
              "      <td>4.0</td>\n",
              "      <td>0.0</td>\n",
              "      <td>0.0</td>\n",
              "      <td>4.0</td>\n",
              "      <td>0.0</td>\n",
              "      <td>3aed2d7e-dfc2-4109-87a9-7a1b6c129bbe</td>\n",
              "      <td>00:00:00</td>\n",
              "      <td>NaN</td>\n",
              "      <td>NaN</td>\n",
              "      <td>NaN</td>\n",
              "      <td>NaN</td>\n",
              "    </tr>\n",
              "  </tbody>\n",
              "</table>\n",
              "</div>"
            ],
            "text/plain": [
              "           PlaceName_EN GovernorateName_EN  ... yhat_upper yhat_scaled\n",
              "ds                                          ...                       \n",
              "2020-03-09     AR RIYAD           Ar Riyad  ...        NaN         NaN\n",
              "2020-03-13     AR RIYAD           Ar Riyad  ...        NaN         NaN\n",
              "2020-03-14     AR RIYAD           Ar Riyad  ...        NaN         NaN\n",
              "2020-03-15     AR RIYAD           Ar Riyad  ...        NaN         NaN\n",
              "2020-03-16     AR RIYAD           Ar Riyad  ...        NaN         NaN\n",
              "\n",
              "[5 rows x 23 columns]"
            ]
          },
          "metadata": {
            "tags": []
          },
          "execution_count": 47
        }
      ]
    },
    {
      "cell_type": "code",
      "metadata": {
        "colab": {
          "base_uri": "https://localhost:8080/",
          "height": 340
        },
        "id": "F570gdTkDSL3",
        "outputId": "ca0c1f32-c45b-4987-e6a2-3c0a4ea02e1f"
      },
      "source": [
        "viz_df.tail()"
      ],
      "execution_count": 48,
      "outputs": [
        {
          "output_type": "execute_result",
          "data": {
            "text/html": [
              "<div>\n",
              "<style scoped>\n",
              "    .dataframe tbody tr th:only-of-type {\n",
              "        vertical-align: middle;\n",
              "    }\n",
              "\n",
              "    .dataframe tbody tr th {\n",
              "        vertical-align: top;\n",
              "    }\n",
              "\n",
              "    .dataframe thead th {\n",
              "        text-align: right;\n",
              "    }\n",
              "</style>\n",
              "<table border=\"1\" class=\"dataframe\">\n",
              "  <thead>\n",
              "    <tr style=\"text-align: right;\">\n",
              "      <th></th>\n",
              "      <th>PlaceName_EN</th>\n",
              "      <th>GovernorateName_EN</th>\n",
              "      <th>RegionName_EN</th>\n",
              "      <th>PLC_CODE</th>\n",
              "      <th>REG_CODE</th>\n",
              "      <th>GOV_CODE</th>\n",
              "      <th>Place_Category</th>\n",
              "      <th>DataSource</th>\n",
              "      <th>GlobalID</th>\n",
              "      <th>Reportdt</th>\n",
              "      <th>Name_Eng</th>\n",
              "      <th>Place_Code</th>\n",
              "      <th>y</th>\n",
              "      <th>Deaths</th>\n",
              "      <th>Recovered</th>\n",
              "      <th>Tested</th>\n",
              "      <th>NewAdded</th>\n",
              "      <th>GlobalID_1587594607483</th>\n",
              "      <th>Time</th>\n",
              "      <th>yhat</th>\n",
              "      <th>yhat_lower</th>\n",
              "      <th>yhat_upper</th>\n",
              "      <th>yhat_scaled</th>\n",
              "    </tr>\n",
              "    <tr>\n",
              "      <th>ds</th>\n",
              "      <th></th>\n",
              "      <th></th>\n",
              "      <th></th>\n",
              "      <th></th>\n",
              "      <th></th>\n",
              "      <th></th>\n",
              "      <th></th>\n",
              "      <th></th>\n",
              "      <th></th>\n",
              "      <th></th>\n",
              "      <th></th>\n",
              "      <th></th>\n",
              "      <th></th>\n",
              "      <th></th>\n",
              "      <th></th>\n",
              "      <th></th>\n",
              "      <th></th>\n",
              "      <th></th>\n",
              "      <th></th>\n",
              "      <th></th>\n",
              "      <th></th>\n",
              "      <th></th>\n",
              "      <th></th>\n",
              "    </tr>\n",
              "  </thead>\n",
              "  <tbody>\n",
              "    <tr>\n",
              "      <th>2021-02-28</th>\n",
              "      <td>NaN</td>\n",
              "      <td>NaN</td>\n",
              "      <td>NaN</td>\n",
              "      <td>NaN</td>\n",
              "      <td>NaN</td>\n",
              "      <td>NaN</td>\n",
              "      <td>NaN</td>\n",
              "      <td>NaN</td>\n",
              "      <td>NaN</td>\n",
              "      <td>NaN</td>\n",
              "      <td>NaN</td>\n",
              "      <td>NaN</td>\n",
              "      <td>NaN</td>\n",
              "      <td>NaN</td>\n",
              "      <td>NaN</td>\n",
              "      <td>NaN</td>\n",
              "      <td>NaN</td>\n",
              "      <td>NaN</td>\n",
              "      <td>NaN</td>\n",
              "      <td>0.480000</td>\n",
              "      <td>-114.492395</td>\n",
              "      <td>119.745656</td>\n",
              "      <td>1.616075</td>\n",
              "    </tr>\n",
              "    <tr>\n",
              "      <th>2021-03-31</th>\n",
              "      <td>NaN</td>\n",
              "      <td>NaN</td>\n",
              "      <td>NaN</td>\n",
              "      <td>NaN</td>\n",
              "      <td>NaN</td>\n",
              "      <td>NaN</td>\n",
              "      <td>NaN</td>\n",
              "      <td>NaN</td>\n",
              "      <td>NaN</td>\n",
              "      <td>NaN</td>\n",
              "      <td>NaN</td>\n",
              "      <td>NaN</td>\n",
              "      <td>NaN</td>\n",
              "      <td>NaN</td>\n",
              "      <td>NaN</td>\n",
              "      <td>NaN</td>\n",
              "      <td>NaN</td>\n",
              "      <td>NaN</td>\n",
              "      <td>NaN</td>\n",
              "      <td>1.073497</td>\n",
              "      <td>-116.032919</td>\n",
              "      <td>127.054540</td>\n",
              "      <td>2.925594</td>\n",
              "    </tr>\n",
              "    <tr>\n",
              "      <th>2021-04-30</th>\n",
              "      <td>NaN</td>\n",
              "      <td>NaN</td>\n",
              "      <td>NaN</td>\n",
              "      <td>NaN</td>\n",
              "      <td>NaN</td>\n",
              "      <td>NaN</td>\n",
              "      <td>NaN</td>\n",
              "      <td>NaN</td>\n",
              "      <td>NaN</td>\n",
              "      <td>NaN</td>\n",
              "      <td>NaN</td>\n",
              "      <td>NaN</td>\n",
              "      <td>NaN</td>\n",
              "      <td>NaN</td>\n",
              "      <td>NaN</td>\n",
              "      <td>NaN</td>\n",
              "      <td>NaN</td>\n",
              "      <td>NaN</td>\n",
              "      <td>NaN</td>\n",
              "      <td>0.769452</td>\n",
              "      <td>-119.913084</td>\n",
              "      <td>114.994578</td>\n",
              "      <td>2.158584</td>\n",
              "    </tr>\n",
              "    <tr>\n",
              "      <th>2021-05-31</th>\n",
              "      <td>NaN</td>\n",
              "      <td>NaN</td>\n",
              "      <td>NaN</td>\n",
              "      <td>NaN</td>\n",
              "      <td>NaN</td>\n",
              "      <td>NaN</td>\n",
              "      <td>NaN</td>\n",
              "      <td>NaN</td>\n",
              "      <td>NaN</td>\n",
              "      <td>NaN</td>\n",
              "      <td>NaN</td>\n",
              "      <td>NaN</td>\n",
              "      <td>NaN</td>\n",
              "      <td>NaN</td>\n",
              "      <td>NaN</td>\n",
              "      <td>NaN</td>\n",
              "      <td>NaN</td>\n",
              "      <td>NaN</td>\n",
              "      <td>NaN</td>\n",
              "      <td>0.032145</td>\n",
              "      <td>-129.826357</td>\n",
              "      <td>120.904249</td>\n",
              "      <td>1.032667</td>\n",
              "    </tr>\n",
              "    <tr>\n",
              "      <th>2021-06-30</th>\n",
              "      <td>NaN</td>\n",
              "      <td>NaN</td>\n",
              "      <td>NaN</td>\n",
              "      <td>NaN</td>\n",
              "      <td>NaN</td>\n",
              "      <td>NaN</td>\n",
              "      <td>NaN</td>\n",
              "      <td>NaN</td>\n",
              "      <td>NaN</td>\n",
              "      <td>NaN</td>\n",
              "      <td>NaN</td>\n",
              "      <td>NaN</td>\n",
              "      <td>NaN</td>\n",
              "      <td>NaN</td>\n",
              "      <td>NaN</td>\n",
              "      <td>NaN</td>\n",
              "      <td>NaN</td>\n",
              "      <td>NaN</td>\n",
              "      <td>NaN</td>\n",
              "      <td>-0.791651</td>\n",
              "      <td>-116.476855</td>\n",
              "      <td>121.456753</td>\n",
              "      <td>0.453096</td>\n",
              "    </tr>\n",
              "  </tbody>\n",
              "</table>\n",
              "</div>"
            ],
            "text/plain": [
              "           PlaceName_EN GovernorateName_EN  ...  yhat_upper yhat_scaled\n",
              "ds                                          ...                        \n",
              "2021-02-28          NaN                NaN  ...  119.745656    1.616075\n",
              "2021-03-31          NaN                NaN  ...  127.054540    2.925594\n",
              "2021-04-30          NaN                NaN  ...  114.994578    2.158584\n",
              "2021-05-31          NaN                NaN  ...  120.904249    1.032667\n",
              "2021-06-30          NaN                NaN  ...  121.456753    0.453096\n",
              "\n",
              "[5 rows x 23 columns]"
            ]
          },
          "metadata": {
            "tags": []
          },
          "execution_count": 48
        }
      ]
    },
    {
      "cell_type": "code",
      "metadata": {
        "colab": {
          "base_uri": "https://localhost:8080/",
          "height": 375
        },
        "id": "EHtMlpKQDVF9",
        "outputId": "ba52b59d-97ce-4004-fa52-c8fc00e87fd7"
      },
      "source": [
        "\r\n",
        "plt.rcParams['figure.figsize']=(15,5)\r\n",
        "plt.style.use('ggplot')\r\n",
        "fig, ax1 = plt.subplots()\r\n",
        "ax1.plot(viz_df.y)\r\n",
        "ax1.plot(viz_df.yhat_scaled, color='black', linestyle=':')\r\n",
        "ax1.fill_between(viz_df.index, np.exp(viz_df['yhat_upper']), np.exp(viz_df['yhat_lower']), alpha=0.5, color='darkgray')\r\n",
        "ax1.set_title('Confirmed (Orange) vs Confirmed Forecast (Black)',fontsize=20)\r\n",
        "ax1.set_ylabel('Confirmed Cases')\r\n",
        "ax1.set_xlabel('Date')"
      ],
      "execution_count": 61,
      "outputs": [
        {
          "output_type": "execute_result",
          "data": {
            "text/plain": [
              "Text(0.5, 0, 'Date')"
            ]
          },
          "metadata": {
            "tags": []
          },
          "execution_count": 61
        },
        {
          "output_type": "display_data",
          "data": {
            "image/png": "[encoded data removed]",
            "text/plain": [
              "<Figure size 1080x360 with 1 Axes>"
            ]
          },
          "metadata": {
            "tags": []
          }
        }
      ]
    },
    {
      "cell_type": "code",
      "metadata": {
        "colab": {
          "base_uri": "https://localhost:8080/",
          "height": 204
        },
        "id": "WU8s3bsaUOiz",
        "outputId": "9a7f6452-d4c6-487d-aa8f-fc62b8ea4dbb"
      },
      "source": [
        "future.tail()"
      ],
      "execution_count": 50,
      "outputs": [
        {
          "output_type": "execute_result",
          "data": {
            "text/html": [
              "<div>\n",
              "<style scoped>\n",
              "    .dataframe tbody tr th:only-of-type {\n",
              "        vertical-align: middle;\n",
              "    }\n",
              "\n",
              "    .dataframe tbody tr th {\n",
              "        vertical-align: top;\n",
              "    }\n",
              "\n",
              "    .dataframe thead th {\n",
              "        text-align: right;\n",
              "    }\n",
              "</style>\n",
              "<table border=\"1\" class=\"dataframe\">\n",
              "  <thead>\n",
              "    <tr style=\"text-align: right;\">\n",
              "      <th></th>\n",
              "      <th>ds</th>\n",
              "    </tr>\n",
              "  </thead>\n",
              "  <tbody>\n",
              "    <tr>\n",
              "      <th>325</th>\n",
              "      <td>2021-02-28</td>\n",
              "    </tr>\n",
              "    <tr>\n",
              "      <th>326</th>\n",
              "      <td>2021-03-31</td>\n",
              "    </tr>\n",
              "    <tr>\n",
              "      <th>327</th>\n",
              "      <td>2021-04-30</td>\n",
              "    </tr>\n",
              "    <tr>\n",
              "      <th>328</th>\n",
              "      <td>2021-05-31</td>\n",
              "    </tr>\n",
              "    <tr>\n",
              "      <th>329</th>\n",
              "      <td>2021-06-30</td>\n",
              "    </tr>\n",
              "  </tbody>\n",
              "</table>\n",
              "</div>"
            ],
            "text/plain": [
              "            ds\n",
              "325 2021-02-28\n",
              "326 2021-03-31\n",
              "327 2021-04-30\n",
              "328 2021-05-31\n",
              "329 2021-06-30"
            ]
          },
          "metadata": {
            "tags": []
          },
          "execution_count": 50
        }
      ]
    },
    {
      "cell_type": "code",
      "metadata": {
        "colab": {
          "base_uri": "https://localhost:8080/",
          "height": 244
        },
        "id": "9e9apxkJUOqR",
        "outputId": "bc51ba63-9736-4358-88ae-2e18baea98e8"
      },
      "source": [
        "fcst.sample(3)"
      ],
      "execution_count": 51,
      "outputs": [
        {
          "output_type": "execute_result",
          "data": {
            "text/html": [
              "<div>\n",
              "<style scoped>\n",
              "    .dataframe tbody tr th:only-of-type {\n",
              "        vertical-align: middle;\n",
              "    }\n",
              "\n",
              "    .dataframe tbody tr th {\n",
              "        vertical-align: top;\n",
              "    }\n",
              "\n",
              "    .dataframe thead th {\n",
              "        text-align: right;\n",
              "    }\n",
              "</style>\n",
              "<table border=\"1\" class=\"dataframe\">\n",
              "  <thead>\n",
              "    <tr style=\"text-align: right;\">\n",
              "      <th></th>\n",
              "      <th>trend</th>\n",
              "      <th>yhat_lower</th>\n",
              "      <th>yhat_upper</th>\n",
              "      <th>trend_lower</th>\n",
              "      <th>trend_upper</th>\n",
              "      <th>additive_terms</th>\n",
              "      <th>additive_terms_lower</th>\n",
              "      <th>additive_terms_upper</th>\n",
              "      <th>weekly</th>\n",
              "      <th>weekly_lower</th>\n",
              "      <th>weekly_upper</th>\n",
              "      <th>multiplicative_terms</th>\n",
              "      <th>multiplicative_terms_lower</th>\n",
              "      <th>multiplicative_terms_upper</th>\n",
              "      <th>yhat</th>\n",
              "    </tr>\n",
              "    <tr>\n",
              "      <th>ds</th>\n",
              "      <th></th>\n",
              "      <th></th>\n",
              "      <th></th>\n",
              "      <th></th>\n",
              "      <th></th>\n",
              "      <th></th>\n",
              "      <th></th>\n",
              "      <th></th>\n",
              "      <th></th>\n",
              "      <th></th>\n",
              "      <th></th>\n",
              "      <th></th>\n",
              "      <th></th>\n",
              "      <th></th>\n",
              "      <th></th>\n",
              "    </tr>\n",
              "  </thead>\n",
              "  <tbody>\n",
              "    <tr>\n",
              "      <th>2020-07-01</th>\n",
              "      <td>25.752519</td>\n",
              "      <td>-84.562099</td>\n",
              "      <td>151.145754</td>\n",
              "      <td>25.752519</td>\n",
              "      <td>25.752519</td>\n",
              "      <td>-0.154143</td>\n",
              "      <td>-0.154143</td>\n",
              "      <td>-0.154143</td>\n",
              "      <td>-0.154143</td>\n",
              "      <td>-0.154143</td>\n",
              "      <td>-0.154143</td>\n",
              "      <td>0.0</td>\n",
              "      <td>0.0</td>\n",
              "      <td>0.0</td>\n",
              "      <td>25.598376</td>\n",
              "    </tr>\n",
              "    <tr>\n",
              "      <th>2020-04-11</th>\n",
              "      <td>57.931586</td>\n",
              "      <td>-53.670827</td>\n",
              "      <td>176.465447</td>\n",
              "      <td>57.931586</td>\n",
              "      <td>57.931586</td>\n",
              "      <td>-0.616591</td>\n",
              "      <td>-0.616591</td>\n",
              "      <td>-0.616591</td>\n",
              "      <td>-0.616591</td>\n",
              "      <td>-0.616591</td>\n",
              "      <td>-0.616591</td>\n",
              "      <td>0.0</td>\n",
              "      <td>0.0</td>\n",
              "      <td>0.0</td>\n",
              "      <td>57.314995</td>\n",
              "    </tr>\n",
              "    <tr>\n",
              "      <th>2020-03-27</th>\n",
              "      <td>63.095903</td>\n",
              "      <td>-60.747509</td>\n",
              "      <td>186.880275</td>\n",
              "      <td>63.095903</td>\n",
              "      <td>63.095903</td>\n",
              "      <td>0.156696</td>\n",
              "      <td>0.156696</td>\n",
              "      <td>0.156696</td>\n",
              "      <td>0.156696</td>\n",
              "      <td>0.156696</td>\n",
              "      <td>0.156696</td>\n",
              "      <td>0.0</td>\n",
              "      <td>0.0</td>\n",
              "      <td>0.0</td>\n",
              "      <td>63.252599</td>\n",
              "    </tr>\n",
              "  </tbody>\n",
              "</table>\n",
              "</div>"
            ],
            "text/plain": [
              "                trend  yhat_lower  ...  multiplicative_terms_upper       yhat\n",
              "ds                                 ...                                       \n",
              "2020-07-01  25.752519  -84.562099  ...                         0.0  25.598376\n",
              "2020-04-11  57.931586  -53.670827  ...                         0.0  57.314995\n",
              "2020-03-27  63.095903  -60.747509  ...                         0.0  63.252599\n",
              "\n",
              "[3 rows x 15 columns]"
            ]
          },
          "metadata": {
            "tags": []
          },
          "execution_count": 51
        }
      ]
    },
    {
      "cell_type": "markdown",
      "metadata": {
        "id": "oz_KuEyH18qg"
      },
      "source": [
        "# Model Evaluation\r\n",
        " \r\n",
        " - initial: how much data to consider before making any predictions\r\n",
        " - period: how frequently to make predictions\r\n",
        "    - should be about 1/2 of your horizon\r\n",
        " - horizon: how many periods to predict\r\n",
        "    - should be about 2x your period"
      ]
    },
    {
      "cell_type": "code",
      "metadata": {
        "colab": {
          "base_uri": "https://localhost:8080/",
          "height": 485,
          "referenced_widgets": [
            "ff7b315b024d44718096b35685d83053",
            "24f2e6a74ae04ab2b8ad2dba94f8eb78",
            "98718a180a3d49ad81920ccf3d965175",
            "74aaf060d2594b248ba8111dd210f581",
            "95996b9e6990401980d145b6bc4b03dd",
            "a7a548bc52d74c958beca2165fe5f3af",
            "63899778190d4203934581e23c58ad8c",
            "0b2d9814eb644a4bafbb491d885efc90"
          ]
        },
        "id": "Ck3T5O9w0iIY",
        "outputId": "7cd05571-95d2-49ed-c24e-1c0fefa7e8b1"
      },
      "source": [
        "# Cross validation the forecast\r\n",
        "cross_validation(model,initial='40 days', period='50 days', horizon='100 days')"
      ],
      "execution_count": 52,
      "outputs": [
        {
          "output_type": "stream",
          "text": [
            "INFO:fbprophet:Making 4 forecasts with cutoffs between 2020-05-24 00:00:00 and 2020-10-21 00:00:00\n"
          ],
          "name": "stderr"
        },
        {
          "output_type": "display_data",
          "data": {
            "application/vnd.jupyter.widget-view+json": {
              "model_id": "ff7b315b024d44718096b35685d83053",
              "version_minor": 0,
              "version_major": 2
            },
            "text/plain": [
              "HBox(children=(FloatProgress(value=0.0, max=4.0), HTML(value='')))"
            ]
          },
          "metadata": {
            "tags": []
          }
        },
        {
          "output_type": "stream",
          "text": [
            "\n"
          ],
          "name": "stdout"
        },
        {
          "output_type": "execute_result",
          "data": {
            "text/html": [
              "<div>\n",
              "<style scoped>\n",
              "    .dataframe tbody tr th:only-of-type {\n",
              "        vertical-align: middle;\n",
              "    }\n",
              "\n",
              "    .dataframe tbody tr th {\n",
              "        vertical-align: top;\n",
              "    }\n",
              "\n",
              "    .dataframe thead th {\n",
              "        text-align: right;\n",
              "    }\n",
              "</style>\n",
              "<table border=\"1\" class=\"dataframe\">\n",
              "  <thead>\n",
              "    <tr style=\"text-align: right;\">\n",
              "      <th></th>\n",
              "      <th>ds</th>\n",
              "      <th>yhat</th>\n",
              "      <th>yhat_lower</th>\n",
              "      <th>yhat_upper</th>\n",
              "      <th>y</th>\n",
              "      <th>cutoff</th>\n",
              "    </tr>\n",
              "  </thead>\n",
              "  <tbody>\n",
              "    <tr>\n",
              "      <th>0</th>\n",
              "      <td>2020-05-25</td>\n",
              "      <td>53.317208</td>\n",
              "      <td>-124.127913</td>\n",
              "      <td>230.103202</td>\n",
              "      <td>0</td>\n",
              "      <td>2020-05-24</td>\n",
              "    </tr>\n",
              "    <tr>\n",
              "      <th>1</th>\n",
              "      <td>2020-05-25</td>\n",
              "      <td>53.317208</td>\n",
              "      <td>-128.910184</td>\n",
              "      <td>223.468669</td>\n",
              "      <td>0</td>\n",
              "      <td>2020-05-24</td>\n",
              "    </tr>\n",
              "    <tr>\n",
              "      <th>2</th>\n",
              "      <td>2020-05-25</td>\n",
              "      <td>53.317208</td>\n",
              "      <td>-133.880579</td>\n",
              "      <td>227.429651</td>\n",
              "      <td>3</td>\n",
              "      <td>2020-05-24</td>\n",
              "    </tr>\n",
              "    <tr>\n",
              "      <th>3</th>\n",
              "      <td>2020-05-25</td>\n",
              "      <td>53.317208</td>\n",
              "      <td>-123.598036</td>\n",
              "      <td>234.981996</td>\n",
              "      <td>0</td>\n",
              "      <td>2020-05-24</td>\n",
              "    </tr>\n",
              "    <tr>\n",
              "      <th>4</th>\n",
              "      <td>2020-05-25</td>\n",
              "      <td>53.317208</td>\n",
              "      <td>-126.424585</td>\n",
              "      <td>232.408434</td>\n",
              "      <td>1</td>\n",
              "      <td>2020-05-24</td>\n",
              "    </tr>\n",
              "    <tr>\n",
              "      <th>...</th>\n",
              "      <td>...</td>\n",
              "      <td>...</td>\n",
              "      <td>...</td>\n",
              "      <td>...</td>\n",
              "      <td>...</td>\n",
              "      <td>...</td>\n",
              "    </tr>\n",
              "    <tr>\n",
              "      <th>7256</th>\n",
              "      <td>2021-01-29</td>\n",
              "      <td>-25.656194</td>\n",
              "      <td>-163.015934</td>\n",
              "      <td>124.343999</td>\n",
              "      <td>77</td>\n",
              "      <td>2020-10-21</td>\n",
              "    </tr>\n",
              "    <tr>\n",
              "      <th>7257</th>\n",
              "      <td>2021-01-29</td>\n",
              "      <td>-25.656194</td>\n",
              "      <td>-166.489679</td>\n",
              "      <td>109.936297</td>\n",
              "      <td>1</td>\n",
              "      <td>2020-10-21</td>\n",
              "    </tr>\n",
              "    <tr>\n",
              "      <th>7258</th>\n",
              "      <td>2021-01-29</td>\n",
              "      <td>-25.656194</td>\n",
              "      <td>-166.753456</td>\n",
              "      <td>109.995753</td>\n",
              "      <td>0</td>\n",
              "      <td>2020-10-21</td>\n",
              "    </tr>\n",
              "    <tr>\n",
              "      <th>7259</th>\n",
              "      <td>2021-01-29</td>\n",
              "      <td>-25.656194</td>\n",
              "      <td>-165.602889</td>\n",
              "      <td>112.441022</td>\n",
              "      <td>1</td>\n",
              "      <td>2020-10-21</td>\n",
              "    </tr>\n",
              "    <tr>\n",
              "      <th>7260</th>\n",
              "      <td>2021-01-29</td>\n",
              "      <td>-25.656194</td>\n",
              "      <td>-178.512984</td>\n",
              "      <td>111.514837</td>\n",
              "      <td>4</td>\n",
              "      <td>2020-10-21</td>\n",
              "    </tr>\n",
              "  </tbody>\n",
              "</table>\n",
              "<p>7261 rows × 6 columns</p>\n",
              "</div>"
            ],
            "text/plain": [
              "             ds       yhat  yhat_lower  yhat_upper   y     cutoff\n",
              "0    2020-05-25  53.317208 -124.127913  230.103202   0 2020-05-24\n",
              "1    2020-05-25  53.317208 -128.910184  223.468669   0 2020-05-24\n",
              "2    2020-05-25  53.317208 -133.880579  227.429651   3 2020-05-24\n",
              "3    2020-05-25  53.317208 -123.598036  234.981996   0 2020-05-24\n",
              "4    2020-05-25  53.317208 -126.424585  232.408434   1 2020-05-24\n",
              "...         ...        ...         ...         ...  ..        ...\n",
              "7256 2021-01-29 -25.656194 -163.015934  124.343999  77 2020-10-21\n",
              "7257 2021-01-29 -25.656194 -166.489679  109.936297   1 2020-10-21\n",
              "7258 2021-01-29 -25.656194 -166.753456  109.995753   0 2020-10-21\n",
              "7259 2021-01-29 -25.656194 -165.602889  112.441022   1 2020-10-21\n",
              "7260 2021-01-29 -25.656194 -178.512984  111.514837   4 2020-10-21\n",
              "\n",
              "[7261 rows x 6 columns]"
            ]
          },
          "metadata": {
            "tags": []
          },
          "execution_count": 52
        }
      ]
    },
    {
      "cell_type": "code",
      "metadata": {
        "id": "SAvy2tQDoL-f",
        "colab": {
          "base_uri": "https://localhost:8080/",
          "height": 83,
          "referenced_widgets": [
            "82e55d77f17f4541b0f9506057a163ba",
            "4ea4842946d742f2a8b701b19bcb7631",
            "7c5750c0e6dd45938cb2c796b11ffd56",
            "22540ddb1cc240e193befb31ac3e28a2",
            "f60a10957f8f476097ebda642b5248ad",
            "2b4fb71b7c9f4b24bbde1b3d52a67b72",
            "e38ba3f1db0d4d7e8770e05164ac0404",
            "bf6ac4f54512476cb544c2eea44b8da9"
          ]
        },
        "outputId": "5837e815-160c-4638-eab2-2b855d4a2337"
      },
      "source": [
        "df_cv2 = cross_validation(model, initial='90 days', period='90 days', horizon='180 days')"
      ],
      "execution_count": 53,
      "outputs": [
        {
          "output_type": "stream",
          "text": [
            "INFO:fbprophet:Making 1 forecasts with cutoffs between 2020-08-02 00:00:00 and 2020-08-02 00:00:00\n"
          ],
          "name": "stderr"
        },
        {
          "output_type": "display_data",
          "data": {
            "application/vnd.jupyter.widget-view+json": {
              "model_id": "82e55d77f17f4541b0f9506057a163ba",
              "version_minor": 0,
              "version_major": 2
            },
            "text/plain": [
              "HBox(children=(FloatProgress(value=0.0, max=1.0), HTML(value='')))"
            ]
          },
          "metadata": {
            "tags": []
          }
        },
        {
          "output_type": "stream",
          "text": [
            "\n"
          ],
          "name": "stdout"
        }
      ]
    },
    {
      "cell_type": "code",
      "metadata": {
        "colab": {
          "base_uri": "https://localhost:8080/",
          "height": 221
        },
        "id": "J394SgJN7boR",
        "outputId": "2b6ece8b-edbe-4299-8b64-7d719c4b1318"
      },
      "source": [
        "from fbprophet.diagnostics import performance_metrics\r\n",
        "df_p = performance_metrics(df_cv2)\r\n",
        "df_p.head()"
      ],
      "execution_count": 54,
      "outputs": [
        {
          "output_type": "stream",
          "text": [
            "INFO:fbprophet:Skipping MAPE because y close to 0\n"
          ],
          "name": "stderr"
        },
        {
          "output_type": "execute_result",
          "data": {
            "text/html": [
              "<div>\n",
              "<style scoped>\n",
              "    .dataframe tbody tr th:only-of-type {\n",
              "        vertical-align: middle;\n",
              "    }\n",
              "\n",
              "    .dataframe tbody tr th {\n",
              "        vertical-align: top;\n",
              "    }\n",
              "\n",
              "    .dataframe thead th {\n",
              "        text-align: right;\n",
              "    }\n",
              "</style>\n",
              "<table border=\"1\" class=\"dataframe\">\n",
              "  <thead>\n",
              "    <tr style=\"text-align: right;\">\n",
              "      <th></th>\n",
              "      <th>horizon</th>\n",
              "      <th>mse</th>\n",
              "      <th>rmse</th>\n",
              "      <th>mae</th>\n",
              "      <th>mdape</th>\n",
              "      <th>coverage</th>\n",
              "    </tr>\n",
              "  </thead>\n",
              "  <tbody>\n",
              "    <tr>\n",
              "      <th>0</th>\n",
              "      <td>12 days</td>\n",
              "      <td>339.287838</td>\n",
              "      <td>18.419768</td>\n",
              "      <td>7.836533</td>\n",
              "      <td>0.878620</td>\n",
              "      <td>1.0</td>\n",
              "    </tr>\n",
              "    <tr>\n",
              "      <th>1</th>\n",
              "      <td>13 days</td>\n",
              "      <td>315.942473</td>\n",
              "      <td>17.774771</td>\n",
              "      <td>7.293336</td>\n",
              "      <td>0.944144</td>\n",
              "      <td>1.0</td>\n",
              "    </tr>\n",
              "    <tr>\n",
              "      <th>2</th>\n",
              "      <td>14 days</td>\n",
              "      <td>289.437081</td>\n",
              "      <td>17.012850</td>\n",
              "      <td>6.983832</td>\n",
              "      <td>1.065947</td>\n",
              "      <td>1.0</td>\n",
              "    </tr>\n",
              "    <tr>\n",
              "      <th>3</th>\n",
              "      <td>15 days</td>\n",
              "      <td>268.752247</td>\n",
              "      <td>16.393665</td>\n",
              "      <td>6.760550</td>\n",
              "      <td>1.269783</td>\n",
              "      <td>1.0</td>\n",
              "    </tr>\n",
              "    <tr>\n",
              "      <th>4</th>\n",
              "      <td>16 days</td>\n",
              "      <td>248.434563</td>\n",
              "      <td>15.761807</td>\n",
              "      <td>6.596205</td>\n",
              "      <td>1.355199</td>\n",
              "      <td>1.0</td>\n",
              "    </tr>\n",
              "  </tbody>\n",
              "</table>\n",
              "</div>"
            ],
            "text/plain": [
              "  horizon         mse       rmse       mae     mdape  coverage\n",
              "0 12 days  339.287838  18.419768  7.836533  0.878620       1.0\n",
              "1 13 days  315.942473  17.774771  7.293336  0.944144       1.0\n",
              "2 14 days  289.437081  17.012850  6.983832  1.065947       1.0\n",
              "3 15 days  268.752247  16.393665  6.760550  1.269783       1.0\n",
              "4 16 days  248.434563  15.761807  6.596205  1.355199       1.0"
            ]
          },
          "metadata": {
            "tags": []
          },
          "execution_count": 54
        }
      ]
    },
    {
      "cell_type": "code",
      "metadata": {
        "colab": {
          "base_uri": "https://localhost:8080/",
          "height": 204
        },
        "id": "IYsMoiv47eHZ",
        "outputId": "3efc7009-8f35-44ef-b32b-211e2aaf3c47"
      },
      "source": [
        "df_p.tail()"
      ],
      "execution_count": 55,
      "outputs": [
        {
          "output_type": "execute_result",
          "data": {
            "text/html": [
              "<div>\n",
              "<style scoped>\n",
              "    .dataframe tbody tr th:only-of-type {\n",
              "        vertical-align: middle;\n",
              "    }\n",
              "\n",
              "    .dataframe tbody tr th {\n",
              "        vertical-align: top;\n",
              "    }\n",
              "\n",
              "    .dataframe thead th {\n",
              "        text-align: right;\n",
              "    }\n",
              "</style>\n",
              "<table border=\"1\" class=\"dataframe\">\n",
              "  <thead>\n",
              "    <tr style=\"text-align: right;\">\n",
              "      <th></th>\n",
              "      <th>horizon</th>\n",
              "      <th>mse</th>\n",
              "      <th>rmse</th>\n",
              "      <th>mae</th>\n",
              "      <th>mdape</th>\n",
              "      <th>coverage</th>\n",
              "    </tr>\n",
              "  </thead>\n",
              "  <tbody>\n",
              "    <tr>\n",
              "      <th>164</th>\n",
              "      <td>176 days</td>\n",
              "      <td>8952.938576</td>\n",
              "      <td>94.619969</td>\n",
              "      <td>93.836803</td>\n",
              "      <td>93.24636</td>\n",
              "      <td>1.0</td>\n",
              "    </tr>\n",
              "    <tr>\n",
              "      <th>165</th>\n",
              "      <td>177 days</td>\n",
              "      <td>9010.208159</td>\n",
              "      <td>94.922116</td>\n",
              "      <td>94.098444</td>\n",
              "      <td>93.24636</td>\n",
              "      <td>1.0</td>\n",
              "    </tr>\n",
              "    <tr>\n",
              "      <th>166</th>\n",
              "      <td>178 days</td>\n",
              "      <td>9127.287961</td>\n",
              "      <td>95.536841</td>\n",
              "      <td>94.639584</td>\n",
              "      <td>93.24636</td>\n",
              "      <td>1.0</td>\n",
              "    </tr>\n",
              "    <tr>\n",
              "      <th>167</th>\n",
              "      <td>179 days</td>\n",
              "      <td>9291.961957</td>\n",
              "      <td>96.394823</td>\n",
              "      <td>95.478227</td>\n",
              "      <td>93.24636</td>\n",
              "      <td>1.0</td>\n",
              "    </tr>\n",
              "    <tr>\n",
              "      <th>168</th>\n",
              "      <td>180 days</td>\n",
              "      <td>9461.696977</td>\n",
              "      <td>97.271255</td>\n",
              "      <td>96.290906</td>\n",
              "      <td>93.24636</td>\n",
              "      <td>1.0</td>\n",
              "    </tr>\n",
              "  </tbody>\n",
              "</table>\n",
              "</div>"
            ],
            "text/plain": [
              "     horizon          mse       rmse        mae     mdape  coverage\n",
              "164 176 days  8952.938576  94.619969  93.836803  93.24636       1.0\n",
              "165 177 days  9010.208159  94.922116  94.098444  93.24636       1.0\n",
              "166 178 days  9127.287961  95.536841  94.639584  93.24636       1.0\n",
              "167 179 days  9291.961957  96.394823  95.478227  93.24636       1.0\n",
              "168 180 days  9461.696977  97.271255  96.290906  93.24636       1.0"
            ]
          },
          "metadata": {
            "tags": []
          },
          "execution_count": 55
        }
      ]
    },
    {
      "cell_type": "markdown",
      "metadata": {
        "id": "H11HP-_q1kao"
      },
      "source": [
        "# Visualize Cross Validation"
      ]
    },
    {
      "cell_type": "code",
      "metadata": {
        "id": "oyQQ6em81MlO"
      },
      "source": [
        "# fig = plot_cross_validation_metric(df_cv2, metric='mape')\r\n",
        "# 'NoneType' object is not subscriptable "
      ],
      "execution_count": 56,
      "outputs": []
    },
    {
      "cell_type": "code",
      "metadata": {
        "id": "IViTm-spoMSN",
        "colab": {
          "base_uri": "https://localhost:8080/",
          "height": 391
        },
        "outputId": "1c3160e9-9b64-4629-b592-28f7a0964e58"
      },
      "source": [
        "fig1 = plot_cross_validation_metric(df_cv2, metric='rmse', rolling_window = 0.1);"
      ],
      "execution_count": 57,
      "outputs": [
        {
          "output_type": "display_data",
          "data": {
            "image/png": "[encoded data removed]",
            "text/plain": [
              "<Figure size 720x432 with 1 Axes>"
            ]
          },
          "metadata": {
            "tags": []
          }
        }
      ]
    },
    {
      "cell_type": "code",
      "metadata": {
        "colab": {
          "base_uri": "https://localhost:8080/",
          "height": 391
        },
        "id": "tye4OQR_8opc",
        "outputId": "5ef9edb8-0c21-4c65-bd54-799460302556"
      },
      "source": [
        "fig2 = plot_cross_validation_metric(df_cv2, metric='mse', rolling_window = 0.1);"
      ],
      "execution_count": 58,
      "outputs": [
        {
          "output_type": "display_data",
          "data": {
            "image/png": "[encoded data removed]",
            "text/plain": [
              "<Figure size 720x432 with 1 Axes>"
            ]
          },
          "metadata": {
            "tags": []
          }
        }
      ]
    },
    {
      "cell_type": "code",
      "metadata": {
        "colab": {
          "base_uri": "https://localhost:8080/",
          "height": 391
        },
        "id": "NXfe_NqN-pfS",
        "outputId": "86ce3b3e-3f54-48ad-9a68-52908fdf5a01"
      },
      "source": [
        "fig3 = plot_cross_validation_metric(df_cv2, metric='mae', rolling_window = 0.1);"
      ],
      "execution_count": 59,
      "outputs": [
        {
          "output_type": "display_data",
          "data": {
            "image/png": "[encoded data removed]",
            "text/plain": [
              "<Figure size 720x432 with 1 Axes>"
            ]
          },
          "metadata": {
            "tags": []
          }
        }
      ]
    },
    {
      "cell_type": "markdown",
      "metadata": {
        "id": "SwS7EMI0V1bB"
      },
      "source": [
        "#Save Cleaned Data and Download it\r\n",
        "### Use pickle to save the Prophet model after fitting"
      ]
    },
    {
      "cell_type": "code",
      "metadata": {
        "colab": {
          "base_uri": "https://localhost:8080/"
        },
        "id": "if3zKnh4WNCm",
        "outputId": "1d36474e-5ae3-4a58-9d58-5fcf07ee098f"
      },
      "source": [
        "import pickle\r\n",
        "\r\n",
        "pkl_path = \"Prophet.pkl\" # saved into /content/Prophet.pkl\r\n",
        "with open(pkl_path, \"wb\") as f:\r\n",
        "    # Pickle the 'Prophet' model using the highest protocol available.\r\n",
        "    pickle.dump(model, f)\r\n",
        "\r\n",
        "# save the dataframe\r\n",
        "fcst.to_pickle(\"forecast.pkl\") # saved into /content/forecast.pkl\r\n",
        "print(\"*** Data Saved ***\") # we can find the files in the data 'Files'"
      ],
      "execution_count": 60,
      "outputs": [
        {
          "output_type": "stream",
          "text": [
            "*** Data Saved ***\n"
          ],
          "name": "stdout"
        }
      ]
    }
  ]
}